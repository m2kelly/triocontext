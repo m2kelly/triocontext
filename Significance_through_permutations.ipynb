{
 "cells": [
  {
   "cell_type": "markdown",
   "metadata": {},
   "source": [
    "# Permutation test\n",
    "\n",
    "\n",
    "This notebook contains the functions used to perform the random permutation of mutations at the internal exon-centered windows level to compute the empirical p-value of difference between exons and introns (two sided test). The information obtained here has been used to fill most of the main and Supplementary Tables.\n",
    "\n",
    "Due to legacy reasons, the permutation test for some given analysis is performed in another notebook (after the respective internal exon-centered analysis).\n",
    "\n",
    "---\n",
    "\n",
    "## Output files\n",
    "\n",
    "Files with the form ``exons_centered_kmer_permut.tsv`` that contains the expected number of mutations for each of the permutations."
   ]
  },
  {
   "cell_type": "markdown",
   "metadata": {},
   "source": [
    "## Input files\n",
    "\n",
    "Files in **data** directory.\n",
    "\n",
    "- *middle_exons_coords*: file with the coordinates of the middle exons\n",
    "- *intron_coords*: file with the coordinates of the introns\n",
    "\n",
    "Files in **results** directory.\n",
    "\n",
    "- *kmer_DNM_signatures.txt*: file with the mutational signatures\n",
    "\n",
    "### Other inputs\n",
    "\n",
    "- mutations_folder: base directory where the files with the mutations are located\n",
    "- tumor_type: id of the tumor (germinal in our case)\n",
    "- cluster_id: id of the cluster"
   ]
  },
  {
   "cell_type": "code",
   "execution_count": 1,
   "metadata": {
    "ExecuteTime": {
     "end_time": "2017-09-28T12:57:34.206535",
     "start_time": "2017-09-28T12:57:33.793360"
    },
    "collapsed": true
   },
   "outputs": [],
   "source": [
    "%matplotlib inline\n",
    "\n",
    "import matplotlib.pyplot as plt\n",
    "import numpy as np\n",
    "import pandas as pd\n",
    "import tabix  # package pytabix\n",
    "import numpy.polynomial.polynomial as poly\n",
    "import matplotlib.ticker as plticker\n",
    "import gzip, pickle\n",
    "from os import path\n",
    "import math\n",
    "import pybedtools\n",
    "from bgreference import hg19\n",
    "import statistics as st"
   ]
  },
  {
   "cell_type": "code",
   "execution_count": 2,
   "metadata": {
    "collapsed": true
   },
   "outputs": [],
   "source": [
    "# Path to data\n",
    "middle_exons_coords = 'data/coordinates/genes_middle_exon_coords.bed.gz'\n",
    "consequence_type_file = 'data/consequence/consequence_ranking.tsv.bgz'\n",
    "consequence_ranking_file = 'data/consequence/consequence_ranking_info.tsv'\n",
    "\n",
    "# Other\n",
    "mutations_folder = 'non_provided_data/mutations/'\n",
    "tumor_type = 'germinal'"
   ]
  },
  {
   "cell_type": "markdown",
   "metadata": {},
   "source": [
    "## Functions\n",
    "\n",
    "All the functions needed for this notebook are coded below"
   ]
  },
  {
   "cell_type": "code",
   "execution_count": 3,
   "metadata": {
    "collapsed": true
   },
   "outputs": [],
   "source": [
    "def remove_version_ensembl(x, colname):\n",
    "    \"\"\"a\n",
    "    Remove version from the ensembl ID\n",
    "\n",
    "    Args:\n",
    "        x: dataframe row\n",
    "        colname: column name\n",
    "\n",
    "    Returns:\n",
    "        str. Text before a '.'\n",
    "\n",
    "    \"\"\"\n",
    "    ensembl_id = x[colname]\n",
    "    ensembl_id_only = ensembl_id.split('.')[0]\n",
    "\n",
    "    return ensembl_id_only"
   ]
  },
  {
   "cell_type": "code",
   "execution_count": 4,
   "metadata": {
    "collapsed": true
   },
   "outputs": [],
   "source": [
    "def stacked_sequence_level_permutation(mutations_df, exons_coords_symbol_df, signatures_file, tumor_type,\n",
    "                                       middle_distance_threshold, k):\n",
    "    \"\"\"\n",
    "    Get the co-ordinates of exons and flanking intronic sequences and perform the random sampling of mutations\n",
    "    (1000 times) with the size equal of the number of mutation observed in the 2001-nt window (exon and intron\n",
    "    together).\n",
    "    \n",
    "    Args:\n",
    "        \n",
    "    Returns:\n",
    "        \n",
    "\n",
    "    \"\"\"\n",
    "    \n",
    "    nucleotides = set(['A', 'T', 'C', 'G'])\n",
    "    \n",
    "    # Get signatures\n",
    "    all_signatures = pd.read_csv(signatures_file, sep='\\t')\n",
    "    probability_name = 'Probability_' + tumor_type\n",
    "    sub_signatures_df = all_signatures[['mutation', probability_name]]\n",
    "    signatures_dict = sub_signatures_df.set_index('mutation').T.to_dict()\n",
    "    \n",
    "    # Create bed of the selected mutations\n",
    "    sub_mutations_df = mutations_df[['chr', 'start', 'end', 'sample']]\n",
    "    mutations_bed = pybedtools.BedTool.from_dataframe(sub_mutations_df)\n",
    "    \n",
    "    exons_coords_symbol_df['exon_size'] = (exons_coords_symbol_df['end'] - exons_coords_symbol_df['start'])\n",
    "    exons_coords_symbol_df['exon_middle_start'] = (exons_coords_symbol_df['start'] +\n",
    "                                        exons_coords_symbol_df['exon_size']/2)\n",
    "    exons_coords_symbol_df['exon_middle_start'] = exons_coords_symbol_df.apply(lambda x:\n",
    "                                        math.floor(x['exon_middle_start']), axis=1)\n",
    "\n",
    "    exons_coords_symbol_df['exon_middle_end'] = exons_coords_symbol_df['exon_middle_start'] + 1\n",
    "    exons_coords_symbol_df['region_start'] = exons_coords_symbol_df['exon_middle_start'] - middle_distance_threshold\n",
    "    exons_coords_symbol_df['region_end'] = exons_coords_symbol_df['exon_middle_end'] + middle_distance_threshold\n",
    "    \n",
    "    # Left flank \"intronic\" sequences => region_start and start froom coordinates.\n",
    "    intron1_df = exons_coords_symbol_df[['chr', 'region_start', 'start', 'ID']]\n",
    "    ## The region may span less than the centered exonic sequence. Only take left flank intronic coordinates with sense.\n",
    "    intron1_df = intron1_df[intron1_df['region_start'] <= intron1_df['start']]\n",
    "    intron1_df.columns = ['chr', 'start', 'end', 'ID']\n",
    "    \n",
    "    # Right flank \"intronic\" sequences\n",
    "    intron2_df = exons_coords_symbol_df[['chr', 'end', 'region_end', 'ID']]\n",
    "    ## The region may span less than the centered exonic sequence. Only take right flank intronic coordinates with sense.\n",
    "    intron2_df = intron2_df[intron2_df['end'] <= intron2_df['region_end']]\n",
    "    intron2_df.columns = ['chr', 'start', 'end', 'ID']\n",
    "    ## Take them together\n",
    "    intron_df = pd.concat([intron1_df, intron2_df])\n",
    "    intron_df['label'] = 'intron'\n",
    "\n",
    "    # Exonic sequences\n",
    "    all_exon_df = exons_coords_symbol_df[['chr', 'start', 'end', 'ID', 'region_start', 'region_end']]\n",
    "    ## The region may span less than the centered exonic sequence. Process exons that surpass the region size.\n",
    "    large_exon_df = all_exon_df[(all_exon_df['end']-all_exon_df['start']) > (2*middle_distance_threshold+1)]\n",
    "    large_exon_df = large_exon_df[['chr', 'region_start', 'region_end', 'ID']]\n",
    "    large_exon_df.columns = ['chr', 'start', 'end', 'ID']\n",
    "    ## The region may span less than the centered exonic sequence. Process exons that do not surpass the region size.\n",
    "    short_exon_df = all_exon_df[(all_exon_df['end']-all_exon_df['start']) <= (2*middle_distance_threshold+1)]\n",
    "    short_exon_df = short_exon_df[['chr', 'start', 'end', 'ID']]\n",
    "    short_exon_df.columns = ['chr', 'start', 'end', 'ID']\n",
    "    ## Take them together\n",
    "    exon_df = pd.concat([short_exon_df, large_exon_df])\n",
    "    exon_df['label'] = 'exon'\n",
    "    \n",
    "    # Merge exons and introns\n",
    "    coords_symbol_df = pd.concat([exon_df, intron_df])\n",
    "    coords_symbol_bed = pybedtools.BedTool.from_dataframe(coords_symbol_df)\n",
    "\n",
    "    # Filter mutations by the position of interest\n",
    "    my_bed = coords_symbol_bed.intersect(mutations_bed, wo=True)\n",
    "\n",
    "    mutations_mapped = pd.read_table(my_bed.fn, names = ['chr', 'start', 'end', 'ID','label', 'mut_chr',\n",
    "                                    'mut_start', 'mut_end', 'sample', 'overlap_bp'],  sep=\"\\s+\", index_col=False)\n",
    "    \n",
    "    print(\"Total amount of mutations at the middle exon-centered sequences is \"+ str(len(mutations_mapped)))\n",
    "    exonic_obs = mutations_mapped[mutations_mapped['label'] == 'exon'].shape[0]\n",
    "    intronic_obs = mutations_mapped[mutations_mapped['label'] == 'intron'].shape[0]\n",
    "    print(\"Observed at middle exons: \" + str(exonic_obs))\n",
    "    print(\"Observed at flanking introns: \" + str(intronic_obs))\n",
    "    \n",
    "    # Compute expected mutation by randomization approach\n",
    "    RANDOMIZATION = 1000\n",
    "\n",
    "    collect_rand = {}\n",
    "    # Initialize dictionary\n",
    "    for sam in range(0, RANDOMIZATION):\n",
    "        collect_rand[sam] = {}\n",
    "        collect_rand[sam]['exon_Exp'] = 0\n",
    "        collect_rand[sam]['intron_Exp'] = 0\n",
    "\n",
    "    # For each unique staked exon-centered sequence with one or more mutations\n",
    "    for gene in mutations_mapped['ID'].unique():\n",
    "        position_prob_lol = list()\n",
    "        label_flag_lol = list()\n",
    "        \n",
    "        # Take the exonic and the flanking intronic sequences.\n",
    "        for dx, row in coords_symbol_df[coords_symbol_df['ID']==gene].iterrows():\n",
    "            my_chr = row['chr'][3:]\n",
    "            my_start = int(row['start'])\n",
    "            my_end = int(row['end'])\n",
    "            n_bases = my_end - my_start\n",
    "\n",
    "            ## Get sequence.\n",
    "            my_exon_bases = hg19(my_chr, my_start+1-(k//2), size=n_bases+2*(k//2))\n",
    "            ## Divide sequences into kmers\n",
    "            my_kmers = [my_exon_bases[i:i+k] for i in range(len(my_exon_bases)-(k-1))]\n",
    "            \n",
    "            label_flag = 0 # to mark intron vs exon\n",
    "            if row['label']=='exon':\n",
    "                label_flag = 1 \n",
    "\n",
    "            ## Foreach kmer\n",
    "            for my_kmer in my_kmers:\n",
    "                my_ref_base = my_kmer[(k//2):(k//2)+1].upper() #Get the reference\n",
    "                my_alt_bases = nucleotides - set(my_ref_base) #The rest are alternative ones\n",
    "                my_base_probs = 0\n",
    "                previous_base = my_kmer[0:(k//2)] #Get previous and next base\n",
    "                next_base = my_kmer[(k//2)+1:]\n",
    "            \n",
    "                ### Foreach alternative, each of the three possible changes given a kmer.\n",
    "                for alt_base in my_alt_bases:\n",
    "                    #### Built reference and alternate kmers\n",
    "                    tri_ref = previous_base + str(my_ref_base) + next_base\n",
    "                    tri_alt = previous_base + str(alt_base) + next_base\n",
    "                    #### Create key for the signature dictionary\n",
    "                    my_key = str((tri_ref, tri_alt))\n",
    "                    try:\n",
    "                        ##### Add the probability of the three possible changes\n",
    "                        my_prob = signatures_dict[my_key]['Probability_' + tumor_type]\n",
    "                        my_base_probs = my_base_probs + my_prob\n",
    "                    except:\n",
    "                        None      \n",
    "                \n",
    "                position_prob_lol.append(my_base_probs)\n",
    "                label_flag_lol.append(label_flag)\n",
    "            \n",
    "        # Total number of mutations falling in the stacked sequence.\n",
    "        mutcnt = len(mutations_mapped[mutations_mapped['ID']==gene])\n",
    "        # Normalize the probability vector and perform sampling\n",
    "        prb_vector = np.array(position_prob_lol)\n",
    "        prb_vector = prb_vector/prb_vector.sum()\n",
    "        label_vector = np.array(label_flag_lol)\n",
    "        mutation_rand_label = np.random.choice(label_vector, size=mutcnt*RANDOMIZATION, replace=True, p=prb_vector)\n",
    "        \n",
    "        # Save the mutation count for each randomization\n",
    "        for sam in range(0, RANDOMIZATION):\n",
    "            start = int(mutcnt*sam)\n",
    "            # count for one random sampling\n",
    "            count = np.unique(mutation_rand_label[start:(start+mutcnt)], return_counts=True)\n",
    "            for i in range(0, len(count[0])):\n",
    "                if count[0][i] == 1: # count of exons\n",
    "                    collect_rand[sam]['exon_Exp'] += count[1][i]\n",
    "                else: # count of introns\n",
    "                    collect_rand[sam]['intron_Exp'] += count[1][i]\n",
    "        \n",
    "    collect_df = pd.DataFrame.from_dict(collect_rand)\n",
    "    \n",
    "    return(collect_df, exonic_obs, intronic_obs)"
   ]
  },
  {
   "cell_type": "code",
   "execution_count": 5,
   "metadata": {
    "collapsed": true
   },
   "outputs": [],
   "source": [
    "def compute_CpG_site(my_ref, my_pre, my_post):\n",
    "    \"\"\"\n",
    "    Compute if mutation falls on CpG site\n",
    "    \"\"\"\n",
    "    if my_ref == 'C' and my_post == 'G':\n",
    "        my_site = 'CpG'\n",
    "    elif my_ref == 'G' and my_pre == 'C':\n",
    "        my_site = 'GpC'\n",
    "    elif my_ref == 'C' and my_post != 'G':\n",
    "        my_site = 'nonCpG'\n",
    "    elif my_ref == 'G' and my_pre != 'C':\n",
    "        my_site = 'nonGpC'\n",
    "    elif my_ref == 'A':\n",
    "        my_site = 'A'\n",
    "    elif my_ref == 'T':\n",
    "        my_site = 'T'\n",
    "    return my_site"
   ]
  },
  {
   "cell_type": "code",
   "execution_count": 6,
   "metadata": {
    "collapsed": true
   },
   "outputs": [],
   "source": [
    "def stacked_sequence_level_permutation_CpG(mutations_df, exons_coords_symbol_df, signatures_file, tumor_type,\n",
    "                                       middle_distance_threshold, k):\n",
    "    \"\"\"\n",
    "    Get the co-ordinates of exons and flanking intronic sequences and perform the random sampling of mutations\n",
    "    (1000 times) with the size equal of the number of mutation observed in the 2001-nt window (exon and intron\n",
    "    together).\n",
    "    \n",
    "    Args:\n",
    "        \n",
    "    Returns:\n",
    "        \n",
    "\n",
    "    \"\"\"\n",
    "    \n",
    "    nucleotides = set(['A', 'T', 'C', 'G'])\n",
    "    \n",
    "    # Get signatures\n",
    "    all_signatures = pd.read_csv(signatures_file, sep='\\t')\n",
    "    probability_name = 'Probability_' + tumor_type\n",
    "    sub_signatures_df = all_signatures[['mutation', probability_name]]\n",
    "    signatures_dict = sub_signatures_df.set_index('mutation').T.to_dict()\n",
    "    \n",
    "    # Create bed of the selected mutations\n",
    "    sub_mutations_df = mutations_df[['chr', 'start', 'end', 'sample']]\n",
    "    mutations_bed = pybedtools.BedTool.from_dataframe(sub_mutations_df)\n",
    "    \n",
    "    exons_coords_symbol_df['exon_size'] = (exons_coords_symbol_df['end'] - exons_coords_symbol_df['start'])\n",
    "    exons_coords_symbol_df['exon_middle_start'] = (exons_coords_symbol_df['start'] +\n",
    "                                        exons_coords_symbol_df['exon_size']/2)\n",
    "    exons_coords_symbol_df['exon_middle_start'] = exons_coords_symbol_df.apply(lambda x:\n",
    "                                        math.floor(x['exon_middle_start']), axis=1)\n",
    "\n",
    "    exons_coords_symbol_df['exon_middle_end'] = exons_coords_symbol_df['exon_middle_start'] + 1\n",
    "    exons_coords_symbol_df['region_start'] = exons_coords_symbol_df['exon_middle_start'] - middle_distance_threshold\n",
    "    exons_coords_symbol_df['region_end'] = exons_coords_symbol_df['exon_middle_end'] + middle_distance_threshold\n",
    "    \n",
    "    # Left flank \"intronic\" sequences => region_start and start froom coordinates.\n",
    "    intron1_df = exons_coords_symbol_df[['chr', 'region_start', 'start', 'ID']]\n",
    "    ## The region may span less than the centered exonic sequence. Only take left flank intronic coordinates with sense.\n",
    "    intron1_df = intron1_df[intron1_df['region_start'] <= intron1_df['start']]\n",
    "    intron1_df.columns = ['chr', 'start', 'end', 'ID']\n",
    "    \n",
    "    # Right flank \"intronic\" sequences\n",
    "    intron2_df = exons_coords_symbol_df[['chr', 'end', 'region_end', 'ID']]\n",
    "    ## The region may span less than the centered exonic sequence. Only take right flank intronic coordinates with sense.\n",
    "    intron2_df = intron2_df[intron2_df['end'] <= intron2_df['region_end']]\n",
    "    intron2_df.columns = ['chr', 'start', 'end', 'ID']\n",
    "    ## Take them together\n",
    "    intron_df = pd.concat([intron1_df, intron2_df])\n",
    "    intron_df['label'] = 'intron'\n",
    "\n",
    "    # Exonic sequences\n",
    "    all_exon_df = exons_coords_symbol_df[['chr', 'start', 'end', 'ID', 'region_start', 'region_end']]\n",
    "    ## The region may span less than the centered exonic sequence. Process exons that surpass the region size.\n",
    "    large_exon_df = all_exon_df[(all_exon_df['end']-all_exon_df['start']) > (2*middle_distance_threshold+1)]\n",
    "    large_exon_df = large_exon_df[['chr', 'region_start', 'region_end', 'ID']]\n",
    "    large_exon_df.columns = ['chr', 'start', 'end', 'ID']\n",
    "    ## The region may span less than the centered exonic sequence. Process exons that do not surpass the region size.\n",
    "    short_exon_df = all_exon_df[(all_exon_df['end']-all_exon_df['start']) <= (2*middle_distance_threshold+1)]\n",
    "    short_exon_df = short_exon_df[['chr', 'start', 'end', 'ID']]\n",
    "    short_exon_df.columns = ['chr', 'start', 'end', 'ID']\n",
    "    ## Take them together\n",
    "    exon_df = pd.concat([short_exon_df, large_exon_df])\n",
    "    exon_df['label'] = 'exon'\n",
    "    \n",
    "    # Merge exons and introns\n",
    "    coords_symbol_df = pd.concat([exon_df, intron_df])\n",
    "    coords_symbol_bed = pybedtools.BedTool.from_dataframe(coords_symbol_df)\n",
    "\n",
    "    # Filter mutations by the position of interest\n",
    "    my_bed = coords_symbol_bed.intersect(mutations_bed, wo=True)\n",
    "\n",
    "    mutations_mapped = pd.read_table(my_bed.fn, names = ['chr', 'start', 'end', 'ID','label', 'mut_chr',\n",
    "                                    'mut_start', 'mut_end', 'sample', 'overlap_bp'],  sep=\"\\s+\", index_col=False)\n",
    "    \n",
    "    print(\"Total amount of mutations at the middle exon-centered sequences is \"+ str(len(mutations_mapped)))\n",
    "    exonic_obs = mutations_mapped[mutations_mapped['label'] == 'exon'].shape[0]\n",
    "    intronic_obs = mutations_mapped[mutations_mapped['label'] == 'intron'].shape[0]\n",
    "    print(\"Observed at middle exons: \" + str(exonic_obs))\n",
    "    print(\"Observed at flanking introns: \" + str(intronic_obs))\n",
    "    \n",
    "    # Compute expected mutation by randomization approach\n",
    "    RANDOMIZATION = 1000\n",
    "\n",
    "    collect_rand = {}\n",
    "    # Initialize dictionary\n",
    "    for sam in range(0, RANDOMIZATION):\n",
    "        collect_rand[sam] = {}\n",
    "        collect_rand[sam]['exon_Exp'] = 0\n",
    "        collect_rand[sam]['intron_Exp'] = 0\n",
    "\n",
    "    # For each unique staked exon-centered sequence with one or more mutations\n",
    "    for gene in mutations_mapped['ID'].unique():\n",
    "        position_prob_lol = list()\n",
    "        label_flag_lol = list()\n",
    "        \n",
    "        # Take the exonic and the flanking intronic sequences.\n",
    "        for dx, row in coords_symbol_df[coords_symbol_df['ID']==gene].iterrows():\n",
    "            my_chr = row['chr'][3:]\n",
    "            my_start = int(row['start'])\n",
    "            my_end = int(row['end'])\n",
    "            n_bases = my_end - my_start\n",
    "\n",
    "            ## Get sequence.\n",
    "            my_exon_bases = hg19(my_chr, my_start+1-(k//2), size=n_bases+2*(k//2))\n",
    "            ## Divide sequences into kmers\n",
    "            my_kmers = [my_exon_bases[i:i+k] for i in range(len(my_exon_bases)-(k-1))]\n",
    "            \n",
    "            label_flag = 0 # to mark intron vs exon\n",
    "            if row['label']=='exon':\n",
    "                label_flag = 1 \n",
    "            \n",
    "            ## Foreach kmer\n",
    "            for my_kmer in my_kmers:\n",
    "                my_ref_base = my_kmer[(k//2):(k//2)+1].upper() #Get the reference\n",
    "                my_alt_bases = nucleotides - set(my_ref_base) #The rest are alternative ones\n",
    "                my_base_probs = 0\n",
    "                previous_base = my_kmer[0:(k//2)] #Get previous and next base\n",
    "                next_base = my_kmer[(k//2)+1:]\n",
    "                tri_ref = compute_CpG_site(my_ref_base, previous_base, next_base)\n",
    "            \n",
    "                ### Foreach alternative, each of the three possible changes given a kmer.\n",
    "                for alt_base in my_alt_bases:\n",
    "                    #### Built reference and alternate kmers             \n",
    "                    tri_alt = alt_base\n",
    "                    #### Create key for the signature dictionary\n",
    "                    my_key = str((tri_ref, tri_alt))\n",
    "                    try:\n",
    "                        ##### Add the probability of the three possible changes\n",
    "                        my_prob = signatures_dict[my_key]['Probability_' + tumor_type]\n",
    "                        my_base_probs = my_base_probs + my_prob\n",
    "                    except:\n",
    "                        None\n",
    "\n",
    "                position_prob_lol.append(my_base_probs)\n",
    "                label_flag_lol.append(label_flag)\n",
    "            \n",
    "        # Total number of mutations falling in the stacked sequence.\n",
    "        mutcnt = len(mutations_mapped[mutations_mapped['ID']==gene])\n",
    "        # Normalize the probability vector and perform sampling\n",
    "        prb_vector = np.array(position_prob_lol)\n",
    "        prb_vector = prb_vector/prb_vector.sum()\n",
    "        label_vector = np.array(label_flag_lol)\n",
    "        mutation_rand_label = np.random.choice(label_vector, size=mutcnt*RANDOMIZATION, replace=True, p=prb_vector)\n",
    "        \n",
    "        # Save the mutation count for each randomization\n",
    "        for sam in range(0, RANDOMIZATION):\n",
    "            start = int(mutcnt*sam)\n",
    "            # count for one random sampling\n",
    "            count = np.unique(mutation_rand_label[start:(start+mutcnt)], return_counts=True)\n",
    "            for i in range(0, len(count[0])):\n",
    "                if count[0][i] == 1: # count of exons\n",
    "                    collect_rand[sam]['exon_Exp'] += count[1][i]\n",
    "                else: # count of introns\n",
    "                    collect_rand[sam]['intron_Exp'] += count[1][i]\n",
    "        \n",
    "    collect_df = pd.DataFrame.from_dict(collect_rand)\n",
    "    \n",
    "    return(collect_df, exonic_obs, intronic_obs)"
   ]
  },
  {
   "cell_type": "code",
   "execution_count": 7,
   "metadata": {
    "collapsed": true
   },
   "outputs": [],
   "source": [
    "def synonymous_or_not(x):\n",
    "    \"\"\"\n",
    "    Classifies consequence types between synonymous and non synonymous\n",
    "    using the RANK column\n",
    "\n",
    "    Args:\n",
    "        x: dataframe row\n",
    "\n",
    "    Returns:\n",
    "        str. *synonymous* or *non_synonymous*\n",
    "\n",
    "    \"\"\"\n",
    "\n",
    "    my_rank = x['RANK']\n",
    "\n",
    "    if my_rank < 15:\n",
    "        my_consequence = 'non_synonymous'\n",
    "\n",
    "    else:\n",
    "        my_consequence = 'synonymous'\n",
    "\n",
    "    return my_consequence"
   ]
  },
  {
   "cell_type": "code",
   "execution_count": 8,
   "metadata": {
    "collapsed": true
   },
   "outputs": [],
   "source": [
    "def check_consequence(chromosome, start_coord, alt, tabix, rank_info):\n",
    "    \"\"\"\n",
    "    Function that classifies a given exonic mutation into synonymous \n",
    "    or not given a rank info and a tabix file with predicted effect.\n",
    "\n",
    "    Args:\n",
    "        chromosome: chromosome coordinate\n",
    "        start_coord: coordinate of the mutation\n",
    "        alt: alternative nucleotide\n",
    "        tabix: tabix indexed file containing the predicted VEP classification effect for a given position and change.\n",
    "        rank_info: dictionary with all the types of predicted effect and if we classify them as synonymous or not.\n",
    "    Returns:\n",
    "        str. *synonymous* or *non_synonymous*\n",
    "\n",
    "    \"\"\"\n",
    "    my_chr = chromosome[3:]\n",
    "    effects = tabix.querys(\"{}:{}-{}\".format(my_chr, start_coord, start_coord))\n",
    "    for effect in effects:\n",
    "        if len(effect) < 6:\n",
    "            continue\n",
    "        if effect[3] == alt:\n",
    "            consequence = effect[5].rstrip('\\r')\n",
    "            try:\n",
    "                con = rank_info[consequence]\n",
    "                return(con)\n",
    "            except:\n",
    "                return('None')"
   ]
  },
  {
   "cell_type": "code",
   "execution_count": 9,
   "metadata": {
    "collapsed": true
   },
   "outputs": [],
   "source": [
    "def compute_intron_probs(sequence, k, signatures_dict, tumor_type):\n",
    "    \"\"\"\n",
    "    Function that computes the summed probabilities of the three posible trinucleotide changes for each trinucleotide\n",
    "    in a given intronic sequence of a middle exon-centered window.\n",
    "    \n",
    "    Args:\n",
    "        sequence: intronic sequence. It should contain one extra nucleotide on each side to compute all the\n",
    "        trinucleotides.\n",
    "        signatures_dict: Dictionary containing probabilities of each trinucleotide change.\n",
    "        rel_start: Relative start of that sequence within the middle exon-centered window.\n",
    "        middle_distance_threshold: middle distance of the exon-centered window.\n",
    "        tumor_type: First type of class to find the specific mutation signature class.\n",
    "        cluster_id: Second type of class to find the specific mutation signature class.\n",
    "      \n",
    "    Returns:\n",
    "        list containing subslists with paired normalized position within the middle exon-centered window and\n",
    "        associated probability.\n",
    "\n",
    "    \"\"\"\n",
    "    \n",
    "    nucleotides = set(['A', 'T', 'C', 'G'])\n",
    "    position_prob_lol = list()\n",
    "    \n",
    "    ## Divide intronic sequences into kmers\n",
    "    my_kmers = [sequence[i:i+k] for i in range(len(sequence)-(k-1))]\n",
    "        \n",
    "    ## Foreach kmer\n",
    "    for my_kmer in my_kmers:\n",
    "        my_ref_base = my_kmer[(k//2):(k//2)+1].upper() #Get the reference\n",
    "        my_alt_bases = nucleotides - set(my_ref_base) #The rest are alternative ones\n",
    "        my_base_probs = 0\n",
    "        previous_base = my_kmer[0:(k//2)] #Get previous and next base\n",
    "        next_base = my_kmer[(k//2)+1:]\n",
    "            \n",
    "        ### Foreach alternative, each of the three possible changes given a kmer.\n",
    "        for alt_base in my_alt_bases:\n",
    "            #### Built reference and alternate kmers\n",
    "            tri_ref = previous_base + str(my_ref_base) + next_base\n",
    "            tri_alt = previous_base + str(alt_base) + next_base\n",
    "            #### Create key for the signature dictionary\n",
    "            my_key = str((tri_ref, tri_alt))\n",
    "            try:\n",
    "                ##### Add the probability of the three possible changes\n",
    "                my_prob = signatures_dict[my_key]['Probability_' + tumor_type]\n",
    "                my_base_probs = my_base_probs + my_prob\n",
    "            except:\n",
    "                None      \n",
    "                \n",
    "        position_prob_lol.append(my_base_probs)\n",
    "        \n",
    "    return position_prob_lol"
   ]
  },
  {
   "cell_type": "code",
   "execution_count": 10,
   "metadata": {
    "collapsed": true
   },
   "outputs": [],
   "source": [
    "def compute_exon_probs(chromosome, abs_start, sequence, k, signatures_dict, tumor_type, rank_info, tabix, include):\n",
    "    \"\"\"\n",
    "    Function that computes the summed probabilities of the three posible trinucleotide changes for each trinucleotide\n",
    "    in a given exonic sequence of a middle exon-centered window.\n",
    "    \n",
    "    Args:\n",
    "      \n",
    "    Returns:\n",
    "        list containing subslists with paired normalized position within the middle exon-centered window and associated\n",
    "        probability.\n",
    "\n",
    "    \"\"\"\n",
    "    \n",
    "    position_prob_lol = list()\n",
    "    \n",
    "    ## Divide intronic sequences into trinucleotides\n",
    "    my_kmers = [sequence[i:i+k] for i in range(len(sequence)-(k-1))]\n",
    "    \n",
    "    #Foreach trinucleotide\n",
    "    for my_kmer in my_kmers:\n",
    "        #Get the reference\n",
    "        my_ref_base = my_kmer[(k//2):(k//2)+1].upper()\n",
    "        my_base_probs = 0\n",
    "        #Get previous and next base\n",
    "        previous_base = my_kmer[0:(k//2)]\n",
    "        next_base = my_kmer[(k//2)+1:]\n",
    "        effects = tabix.querys(\"{}:{}-{}\".format(chromosome, abs_start + 1, abs_start + 1))\n",
    "        for effect in effects:\n",
    "            if len(effect) < 6:\n",
    "                print('At chromosome ' + str(my_chr) + ' position ' + str(abs_start + 1) + ' no effect is reported.')\n",
    "                continue\n",
    "            consequence = effect[5].rstrip('\\r')\n",
    "            try:\n",
    "                synonymous_or_not = rank_info[consequence]\n",
    "                if synonymous_or_not == include:\n",
    "                    #Built reference and alternative trinucleotide\n",
    "                    tri_ref = previous_base + str(my_ref_base) + next_base\n",
    "                    tri_alt = previous_base + str(effect[3]) + next_base\n",
    "                    #Create key for the signatue dictionary.\n",
    "                    my_key = str((tri_ref, tri_alt))\n",
    "                    try:\n",
    "                        #Get the probability\n",
    "                        my_prob = signatures_dict[my_key]['Probability_' + tumor_type]\n",
    "                        #Sum the probability of the three possible changes.\n",
    "                        my_base_probs = my_base_probs + my_prob\n",
    "                    except:\n",
    "                        None\n",
    "            except:\n",
    "                None\n",
    "        \n",
    "        position_prob_lol.append(my_base_probs)\n",
    "        abs_start += 1\n",
    "    \n",
    "    return position_prob_lol"
   ]
  },
  {
   "cell_type": "code",
   "execution_count": 11,
   "metadata": {
    "collapsed": true
   },
   "outputs": [],
   "source": [
    "def stacked_sequence_level_permutation_excluding(mutations_df, exons_coords_symbol_df, signatures_file, tumor_type,\n",
    "                                middle_distance_threshold, k, include, tb_consequence_type, consequence_rank_dict):\n",
    "    \"\"\"\n",
    "    Get the co-ordinates of exons and flanking intronic sequences and perform the random sampling of mutations\n",
    "    (1000 times) with the size equal of the number of mutation observed in the 2001-nt window (exon and intron\n",
    "    together).\n",
    "    \n",
    "    Args:\n",
    "        \n",
    "    Returns:\n",
    "        \n",
    "    \"\"\"\n",
    "    \n",
    "    nucleotides = set(['A', 'T', 'C', 'G'])\n",
    "    \n",
    "    # Get signatures\n",
    "    all_signatures = pd.read_csv(signatures_file, sep='\\t')\n",
    "    probability_name = 'Probability_' + tumor_type\n",
    "    sub_signatures_df = all_signatures[['mutation', probability_name]]\n",
    "    signatures_dict = sub_signatures_df.set_index('mutation').T.to_dict()\n",
    "    \n",
    "    # Create bed of the selected mutations\n",
    "    sub_mutations_df = mutations_df[['chr', 'start', 'end', 'alt', 'sample']]\n",
    "    mutations_bed = pybedtools.BedTool.from_dataframe(sub_mutations_df)\n",
    "    \n",
    "    exons_coords_symbol_df['exon_size'] = (exons_coords_symbol_df['end'] - exons_coords_symbol_df['start'])\n",
    "    exons_coords_symbol_df['exon_middle_start'] = (exons_coords_symbol_df['start'] +\n",
    "                                        exons_coords_symbol_df['exon_size']/2)\n",
    "    exons_coords_symbol_df['exon_middle_start'] = exons_coords_symbol_df.apply(lambda x:\n",
    "                                        math.floor(x['exon_middle_start']), axis=1)\n",
    "\n",
    "    exons_coords_symbol_df['exon_middle_end'] = exons_coords_symbol_df['exon_middle_start'] + 1\n",
    "    exons_coords_symbol_df['region_start'] = exons_coords_symbol_df['exon_middle_start'] - middle_distance_threshold\n",
    "    exons_coords_symbol_df['region_end'] = exons_coords_symbol_df['exon_middle_end'] + middle_distance_threshold\n",
    "    \n",
    "    # Left flank \"intronic\" sequences => region_start and start from coordinates.\n",
    "    intron1_df = exons_coords_symbol_df[['chr', 'region_start', 'start', 'ID']]\n",
    "    ## The region may span less than the centered exonic sequence. Only take left flank intronic coordinates with sense.\n",
    "    intron1_df = intron1_df[intron1_df['region_start'] <= intron1_df['start']]\n",
    "    intron1_df.columns = ['chr', 'start', 'end', 'ID']\n",
    "    \n",
    "    # Right flank \"intronic\" sequences\n",
    "    intron2_df = exons_coords_symbol_df[['chr', 'end', 'region_end', 'ID']]\n",
    "    ## The region may span less than the centered exonic sequence. Only take right flank intronic coordinates with sense.\n",
    "    intron2_df = intron2_df[intron2_df['end'] <= intron2_df['region_end']]\n",
    "    intron2_df.columns = ['chr', 'start', 'end', 'ID']\n",
    "    ## Take them together\n",
    "    intron_df = pd.concat([intron1_df, intron2_df])\n",
    "    intron_df['label'] = 'intron'\n",
    "\n",
    "    # Exonic sequences\n",
    "    all_exon_df = exons_coords_symbol_df[['chr', 'start', 'end', 'ID', 'region_start', 'region_end']]\n",
    "    ## The region may span less than the centered exonic sequence. Process exons that surpass the region size.\n",
    "    large_exon_df = all_exon_df[(all_exon_df['end']-all_exon_df['start']) > (2*middle_distance_threshold+1)]\n",
    "    large_exon_df = large_exon_df[['chr', 'region_start', 'region_end', 'ID']]\n",
    "    large_exon_df.columns = ['chr', 'start', 'end', 'ID']\n",
    "    ## The region may span less than the centered exonic sequence. Process exons that do not surpass the region size.\n",
    "    short_exon_df = all_exon_df[(all_exon_df['end']-all_exon_df['start']) <= (2*middle_distance_threshold+1)]\n",
    "    short_exon_df = short_exon_df[['chr', 'start', 'end', 'ID']]\n",
    "    short_exon_df.columns = ['chr', 'start', 'end', 'ID']\n",
    "    ## Take them together\n",
    "    exon_df = pd.concat([short_exon_df, large_exon_df])\n",
    "    exon_df['label'] = 'exon'\n",
    "    \n",
    "    # Merge exons and introns\n",
    "    coords_symbol_df = pd.concat([exon_df, intron_df])\n",
    "    coords_symbol_bed = pybedtools.BedTool.from_dataframe(coords_symbol_df)\n",
    "\n",
    "    # Filter mutations by the position of interest\n",
    "    my_bed = coords_symbol_bed.intersect(mutations_bed, wo=True)\n",
    "\n",
    "    mutations_mapped = pd.read_table(my_bed.fn, names = ['chr', 'start', 'end', 'ID','label', 'mut_chr', 'mut_start',\n",
    "                                    'mut_end', 'mut_alt', 'sample', 'overlap_bp'],  sep=\"\\s+\", index_col=False)\n",
    "    \n",
    "    mutations_mapped['conseq'] = mutations_mapped.apply(lambda x: \n",
    "                                    check_consequence(x['mut_chr'], x['mut_end'], x['mut_alt'], tb_consequence_type,\n",
    "                                    consequence_rank_dict), axis=1)\n",
    "    \n",
    "    print(\"Total amount of mutations at the middle exon-centered sequences is \"+ str(len(mutations_mapped)))\n",
    "    exonic_obs = mutations_mapped[(mutations_mapped['label'] == 'exon') & \n",
    "                                  (mutations_mapped['conseq'] == include)].shape[0]\n",
    "    intronic_obs = mutations_mapped[mutations_mapped['label'] == 'intron'].shape[0]\n",
    "    print(\"Observed at middle exons: \" + str(exonic_obs))\n",
    "    print(\"Observed at flanking introns: \" + str(intronic_obs))\n",
    "    \n",
    "    # Compute expected mutation by randomization approach\n",
    "    RANDOMIZATION = 1000\n",
    "\n",
    "    collect_rand = {}\n",
    "    # Initialize dictionary\n",
    "    for sam in range(0, RANDOMIZATION):\n",
    "        collect_rand[sam] = {}\n",
    "        collect_rand[sam]['exon_Exp'] = 0\n",
    "        collect_rand[sam]['intron_Exp'] = 0\n",
    "\n",
    "    # For each unique staked exon-centered sequence with one or more mutations\n",
    "    for gene in mutations_mapped['ID'].unique():\n",
    "        position_prob_lol = []\n",
    "        label_flag_lol = []\n",
    "        \n",
    "        # Take the exonic and the flanking intronic sequences.\n",
    "        for dx, row in coords_symbol_df[coords_symbol_df['ID']==gene].iterrows():\n",
    "            my_chr = row['chr'][3:]\n",
    "            my_start = int(row['start'])\n",
    "            my_end = int(row['end'])\n",
    "            n_bases = my_end - my_start\n",
    "\n",
    "            ## Get sequence.\n",
    "            my_sequence = hg19(my_chr, my_start+1-(k//2), size=n_bases+2*(k//2))\n",
    "\n",
    "            if row['label'] == 'intron':\n",
    "                label_flag = 0\n",
    "                probs = compute_intron_probs(my_sequence, k, signatures_dict, tumor_type)\n",
    "                flags = [label_flag]*len(probs)\n",
    "            else:\n",
    "                label_flag = 1\n",
    "                probs = compute_exon_probs(my_chr, my_start, my_sequence, k, signatures_dict, tumor_type,\n",
    "                                           consequence_rank_dict, tb_consequence_type, include)\n",
    "                flags = [label_flag]*len(probs)\n",
    "                \n",
    "            position_prob_lol = position_prob_lol + probs\n",
    "            label_flag_lol = label_flag_lol + flags\n",
    "        \n",
    "        # Total number of mutations falling in the stacked sequence.\n",
    "        mutcnt = len(mutations_mapped[(mutations_mapped['ID']==gene) &\n",
    "            ((mutations_mapped['label'] == 'intron') | ((mutations_mapped['label'] == 'exon') & \n",
    "                                  (mutations_mapped['conseq'] == include)))])\n",
    "        # Normalize the probability vector and perform sampling\n",
    "        prb_vector = np.array(position_prob_lol)\n",
    "        prb_vector = prb_vector/prb_vector.sum()\n",
    "        label_vector = np.array(label_flag_lol)\n",
    "        mutation_rand_label = np.random.choice(label_vector, size=mutcnt*RANDOMIZATION, replace=True, p=prb_vector)\n",
    "        \n",
    "        # Save the mutation count for each randomization\n",
    "        for sam in range(0, RANDOMIZATION):\n",
    "            start = int(mutcnt*sam)\n",
    "            # count for one random sampling\n",
    "            count = np.unique(mutation_rand_label[start:(start+mutcnt)], return_counts=True)\n",
    "            for i in range(0, len(count[0])):\n",
    "                if count[0][i] == 1: # count of exons\n",
    "                    collect_rand[sam]['exon_Exp'] += count[1][i]\n",
    "                else: # count of introns\n",
    "                    collect_rand[sam]['intron_Exp'] += count[1][i]\n",
    "        \n",
    "    collect_df = pd.DataFrame.from_dict(collect_rand)\n",
    "    \n",
    "    return(collect_df, exonic_obs, intronic_obs)"
   ]
  },
  {
   "cell_type": "markdown",
   "metadata": {},
   "source": [
    "## Load data"
   ]
  },
  {
   "cell_type": "code",
   "execution_count": 12,
   "metadata": {
    "collapsed": true
   },
   "outputs": [],
   "source": [
    "## Get exon coordinates\n",
    "exons_coords_df = pd.read_csv(middle_exons_coords, sep=\"\\t\", header=None, low_memory=False)\n",
    "exons_coords_df.columns = ['chr', 'start', 'end', 'ensembl', 'symbol', 'strand']\n",
    "exons_coords_df = exons_coords_df[['chr', 'start', 'end', 'ensembl']]\n",
    "exons_coords_df['ensembl'] = exons_coords_df.apply(lambda x: remove_version_ensembl(x, 'ensembl'), axis=1)\n",
    "exons_coords_df.columns = ['chr', 'start', 'end', 'ensembl']\n",
    "exons_coords_symbol_df = exons_coords_df[['chr', 'start', 'end', 'ensembl']]\n",
    "exons_coords_symbol_df['ID'] = exons_coords_symbol_df.index + 1\n",
    "\n",
    "## Get mutations\n",
    "mutations_file = mutations_folder + 'germinal_ultimate_dataset.bed.gz'\n",
    "mutations_df = pd.read_csv(mutations_file, sep=\"\\t\", header=None)\n",
    "mutations_df.columns = ['chr', 'start', 'end', 'ref', 'alt', 'sample', 'type', 'class']\n",
    "sub_copy_mutations_df = mutations_df\n",
    "mutations_df = mutations_df[['chr', 'start', 'end', 'ref', 'alt', 'sample', 'type']]\n",
    "mutations_df = mutations_df[mutations_df['type'] == 'subs']\n",
    "mutations_df['ID'] = mutations_df.index + 1"
   ]
  },
  {
   "cell_type": "markdown",
   "metadata": {},
   "source": [
    "## Random permutation of mutations at stacked sequence level"
   ]
  },
  {
   "cell_type": "markdown",
   "metadata": {},
   "source": [
    "### 1-mer, all datasets"
   ]
  },
  {
   "cell_type": "code",
   "execution_count": null,
   "metadata": {
    "collapsed": true
   },
   "outputs": [],
   "source": [
    "k = 1\n",
    "middle_distance_threshold = 1000\n",
    "signatures_file = 'results/' + str(k) + 'mer_signatures_DNM_new.txt'\n",
    "\n",
    "(exons_centered_results, exonic_obs, intronic_obs) = stacked_sequence_level_permutation(mutations_df,\n",
    "                        exons_coords_symbol_df, signatures_file, tumor_type, middle_distance_threshold, k)\n",
    "\n",
    "exons_centered_results = pd.DataFrame.transpose(exons_centered_results)\n",
    "exons_centered_results.to_csv(path.join('results', 'exons_centered_' + str(k) + 'mer_permut.tsv'), sep=\"\\t\",\n",
    "                               header=True, index=False)"
   ]
  },
  {
   "cell_type": "markdown",
   "metadata": {},
   "source": [
    "#### Compute emprical p-value"
   ]
  },
  {
   "cell_type": "code",
   "execution_count": null,
   "metadata": {
    "collapsed": true
   },
   "outputs": [],
   "source": [
    "k = 1\n",
    "results = []\n",
    "RANDOMIZATION = 1000\n",
    "    \n",
    "# Read the expected exon and intron mutation counts from permutations\n",
    "rand_output = pd.read_csv(path.join('results', 'exons_centered_' + str(k) + 'mer_permut.tsv'), sep=\"\\t\")\n",
    "    \n",
    "# count the number of times the expected exon mutations is higher than the observed\n",
    "count = len(rand_output[rand_output['exon_Exp'] >= exonic_obs])\n",
    "    \n",
    "if count == 0:\n",
    "    count = 1 \n",
    "    \n",
    "results.append([exonic_obs, rand_output['exon_Exp'].mean(), intronic_obs, rand_output['intron_Exp'].mean(), count/RANDOMIZATION])\n",
    "    \n",
    "results_df = pd.DataFrame(results)\n",
    "results_df.columns = ['obs_exon_cnt', 'exp_exon_cnt','obs_intron_cnt', 'exp_intron_cnt', 'empirical_pvalue']\n",
    "results_df"
   ]
  },
  {
   "cell_type": "code",
   "execution_count": null,
   "metadata": {
    "collapsed": true
   },
   "outputs": [],
   "source": [
    "exonic_increase = (results_df[\"obs_exon_cnt\"]/results_df[\"exp_exon_cnt\"]-1)*100\n",
    "exonic_increase"
   ]
  },
  {
   "cell_type": "code",
   "execution_count": null,
   "metadata": {
    "collapsed": true
   },
   "outputs": [],
   "source": [
    "rand_output['increase'] = (exonic_obs/rand_output['exon_Exp']-1)*100\n",
    "error = (st.stdev(rand_output['increase'].tolist())/np.sqrt(1000))\n",
    "(exonic_increase-error, exonic_increase+error)"
   ]
  },
  {
   "cell_type": "markdown",
   "metadata": {},
   "source": [
    "### 3-mer, all datasets"
   ]
  },
  {
   "cell_type": "code",
   "execution_count": null,
   "metadata": {
    "collapsed": true
   },
   "outputs": [],
   "source": [
    "k = 3\n",
    "middle_distance_threshold = 1000\n",
    "signatures_file = 'results/' + str(k) + 'mer_signatures_DNM_new.txt'\n",
    "\n",
    "(exons_centered_results, exonic_obs, intronic_obs) = stacked_sequence_level_permutation(mutations_df,\n",
    "                        exons_coords_symbol_df, signatures_file, tumor_type, middle_distance_threshold, k)\n",
    "\n",
    "exons_centered_results = pd.DataFrame.transpose(exons_centered_results)\n",
    "exons_centered_results.to_csv(path.join('results', 'exons_centered_' + str(k) + 'mer_permut.tsv'), sep=\"\\t\",\n",
    "                               header=True, index=False)"
   ]
  },
  {
   "cell_type": "markdown",
   "metadata": {},
   "source": [
    "#### Compute emprical p-value"
   ]
  },
  {
   "cell_type": "code",
   "execution_count": null,
   "metadata": {
    "collapsed": true
   },
   "outputs": [],
   "source": [
    "k = 3\n",
    "results = []\n",
    "RANDOMIZATION = 1000\n",
    "    \n",
    "# Read the expected exon and intron mutation counts from permutations\n",
    "rand_output = pd.read_csv(path.join('results', 'exons_centered_' + str(k) + 'mer_permut.tsv'), sep=\"\\t\")\n",
    "    \n",
    "# count the number of times the expected exon mutations is higher than the observed\n",
    "count = len(rand_output[rand_output['exon_Exp'] >= exonic_obs])\n",
    "    \n",
    "if count == 0:\n",
    "    count = 1 \n",
    "    \n",
    "results.append([exonic_obs, rand_output['exon_Exp'].mean(), intronic_obs, rand_output['intron_Exp'].mean(), count/RANDOMIZATION])\n",
    "    \n",
    "results_df = pd.DataFrame(results)\n",
    "results_df.columns = ['obs_exon_cnt', 'exp_exon_cnt','obs_intron_cnt', 'exp_intron_cnt', 'empirical_pvalue']\n",
    "results_df"
   ]
  },
  {
   "cell_type": "code",
   "execution_count": null,
   "metadata": {
    "collapsed": true
   },
   "outputs": [],
   "source": [
    "exonic_increase = (results_df[\"obs_exon_cnt\"]/results_df[\"exp_exon_cnt\"]-1)*100\n",
    "exonic_increase"
   ]
  },
  {
   "cell_type": "code",
   "execution_count": null,
   "metadata": {
    "collapsed": true
   },
   "outputs": [],
   "source": [
    "rand_output['increase'] = (exonic_obs/rand_output['exon_Exp']-1)*100\n",
    "error = (st.stdev(rand_output['increase'].tolist())/np.sqrt(1000))\n",
    "(exonic_increase-error, exonic_increase+error)"
   ]
  },
  {
   "cell_type": "markdown",
   "metadata": {},
   "source": [
    "### 3-mer, all datasets, CCDS signatures"
   ]
  },
  {
   "cell_type": "code",
   "execution_count": 14,
   "metadata": {},
   "outputs": [
    {
     "name": "stdout",
     "output_type": "stream",
     "text": [
      "Total amount of mutations at the middle exon-centered sequences is 50780\n",
      "Observed at middle exons: 4669\n",
      "Observed at flanking introns: 46111\n"
     ]
    }
   ],
   "source": [
    "k = 3\n",
    "middle_distance_threshold = 1000\n",
    "signatures_file = 'results/' + str(k) + 'mer_signatures_DNM_CCDS.txt'\n",
    "\n",
    "(exons_centered_results, exonic_obs, intronic_obs) = stacked_sequence_level_permutation(mutations_df,\n",
    "                        exons_coords_symbol_df, signatures_file, tumor_type, middle_distance_threshold, k)\n",
    "\n",
    "exons_centered_results = pd.DataFrame.transpose(exons_centered_results)\n",
    "exons_centered_results.to_csv(path.join('results', 'exons_centered_' + str(k) + 'mer_permut_CCDS.tsv'), sep=\"\\t\",\n",
    "                               header=True, index=False)"
   ]
  },
  {
   "cell_type": "markdown",
   "metadata": {},
   "source": [
    "#### Compute emprical p-value"
   ]
  },
  {
   "cell_type": "code",
   "execution_count": 15,
   "metadata": {},
   "outputs": [
    {
     "data": {
      "text/html": [
       "<div>\n",
       "<style>\n",
       "    .dataframe thead tr:only-child th {\n",
       "        text-align: right;\n",
       "    }\n",
       "\n",
       "    .dataframe thead th {\n",
       "        text-align: left;\n",
       "    }\n",
       "\n",
       "    .dataframe tbody tr th {\n",
       "        vertical-align: top;\n",
       "    }\n",
       "</style>\n",
       "<table border=\"1\" class=\"dataframe\">\n",
       "  <thead>\n",
       "    <tr style=\"text-align: right;\">\n",
       "      <th></th>\n",
       "      <th>obs_exon_cnt</th>\n",
       "      <th>exp_exon_cnt</th>\n",
       "      <th>obs_intron_cnt</th>\n",
       "      <th>exp_intron_cnt</th>\n",
       "      <th>empirical_pvalue</th>\n",
       "    </tr>\n",
       "  </thead>\n",
       "  <tbody>\n",
       "    <tr>\n",
       "      <th>0</th>\n",
       "      <td>4669</td>\n",
       "      <td>4325.909</td>\n",
       "      <td>46111</td>\n",
       "      <td>46454.091</td>\n",
       "      <td>0.001</td>\n",
       "    </tr>\n",
       "  </tbody>\n",
       "</table>\n",
       "</div>"
      ],
      "text/plain": [
       "   obs_exon_cnt  exp_exon_cnt  obs_intron_cnt  exp_intron_cnt  \\\n",
       "0          4669      4325.909           46111       46454.091   \n",
       "\n",
       "   empirical_pvalue  \n",
       "0             0.001  "
      ]
     },
     "execution_count": 15,
     "metadata": {},
     "output_type": "execute_result"
    }
   ],
   "source": [
    "k = 3\n",
    "results = []\n",
    "RANDOMIZATION = 1000\n",
    "    \n",
    "# Read the expected exon and intron mutation counts from permutations\n",
    "rand_output = pd.read_csv(path.join('results', 'exons_centered_' + str(k) + 'mer_permut_CCDS.tsv'), sep=\"\\t\")\n",
    "    \n",
    "# count the number of times the expected exon mutations is higher than the observed\n",
    "count = len(rand_output[rand_output['exon_Exp'] >= exonic_obs])\n",
    "    \n",
    "if count == 0:\n",
    "    count = 1 \n",
    "    \n",
    "results.append([exonic_obs, rand_output['exon_Exp'].mean(), intronic_obs, rand_output['intron_Exp'].mean(), count/RANDOMIZATION])\n",
    "    \n",
    "results_df = pd.DataFrame(results)\n",
    "results_df.columns = ['obs_exon_cnt', 'exp_exon_cnt','obs_intron_cnt', 'exp_intron_cnt', 'empirical_pvalue']\n",
    "results_df"
   ]
  },
  {
   "cell_type": "code",
   "execution_count": 16,
   "metadata": {},
   "outputs": [
    {
     "data": {
      "text/plain": [
       "0    7.931073\n",
       "dtype: float64"
      ]
     },
     "execution_count": 16,
     "metadata": {},
     "output_type": "execute_result"
    }
   ],
   "source": [
    "exonic_increase = (results_df[\"obs_exon_cnt\"]/results_df[\"exp_exon_cnt\"]-1)*100\n",
    "exonic_increase"
   ]
  },
  {
   "cell_type": "code",
   "execution_count": 17,
   "metadata": {},
   "outputs": [
    {
     "data": {
      "text/plain": [
       "(0    7.88393\n",
       " dtype: float64, 0    7.978216\n",
       " dtype: float64)"
      ]
     },
     "execution_count": 17,
     "metadata": {},
     "output_type": "execute_result"
    }
   ],
   "source": [
    "rand_output['increase'] = (exonic_obs/rand_output['exon_Exp']-1)*100\n",
    "error = (st.stdev(rand_output['increase'].tolist())/np.sqrt(1000))\n",
    "(exonic_increase-error, exonic_increase+error)"
   ]
  },
  {
   "cell_type": "code",
   "execution_count": 18,
   "metadata": {},
   "outputs": [
    {
     "data": {
      "text/plain": [
       "1.490800762925067"
      ]
     },
     "execution_count": 18,
     "metadata": {},
     "output_type": "execute_result"
    }
   ],
   "source": [
    "st.stdev(rand_output['increase'].tolist())"
   ]
  },
  {
   "cell_type": "markdown",
   "metadata": {},
   "source": [
    "### 3-mer, specific datasets"
   ]
  },
  {
   "cell_type": "markdown",
   "metadata": {},
   "source": [
    "#### Francioli"
   ]
  },
  {
   "cell_type": "code",
   "execution_count": null,
   "metadata": {
    "collapsed": true
   },
   "outputs": [],
   "source": [
    "tumor_type = 'GONL'\n",
    "sub_mutations_df = mutations_df[mutations_df['sample'] == tumor_type]"
   ]
  },
  {
   "cell_type": "code",
   "execution_count": null,
   "metadata": {
    "collapsed": true
   },
   "outputs": [],
   "source": [
    "k = 3\n",
    "middle_distance_threshold = 1000\n",
    "signatures_file = 'results/ALL_signatures.txt'\n",
    "\n",
    "(exons_centered_results, exonic_obs, intronic_obs) = stacked_sequence_level_permutation(sub_mutations_df,\n",
    "                        exons_coords_symbol_df, signatures_file, tumor_type, middle_distance_threshold, k)\n",
    "\n",
    "exons_centered_results = pd.DataFrame.transpose(exons_centered_results)\n",
    "exons_centered_results.to_csv(path.join('results', 'exons_centered_' + str(k) + 'mer_permut_' + str(tumor_type) +\n",
    "                                        '.tsv'), sep=\"\\t\", header=True, index=False)"
   ]
  },
  {
   "cell_type": "markdown",
   "metadata": {},
   "source": [
    "##### Compute emprical p-value"
   ]
  },
  {
   "cell_type": "code",
   "execution_count": null,
   "metadata": {
    "collapsed": true
   },
   "outputs": [],
   "source": [
    "(exonic_obs, intronic_obs) = (64, 617)\n",
    "tumor_type = 'GONL'"
   ]
  },
  {
   "cell_type": "code",
   "execution_count": null,
   "metadata": {
    "collapsed": true
   },
   "outputs": [],
   "source": [
    "k = 3\n",
    "results = []\n",
    "RANDOMIZATION = 1000\n",
    "    \n",
    "# Read the expected exon and intron mutation counts from permutations\n",
    "rand_output = pd.read_csv(path.join('results', 'exons_centered_' + str(k) + 'mer_permut_' + str(tumor_type) + '.tsv'),\n",
    "                            sep=\"\\t\")\n",
    "    \n",
    "# count the number of times the expected exon mutations is higher than the observed\n",
    "count = len(rand_output[rand_output['exon_Exp'] >= exonic_obs])\n",
    "    \n",
    "if count == 0:\n",
    "    count = 1 \n",
    "    \n",
    "results.append([exonic_obs, rand_output['exon_Exp'].mean(), intronic_obs, rand_output['intron_Exp'].mean(),\n",
    "                            count/RANDOMIZATION])\n",
    "    \n",
    "results_df = pd.DataFrame(results)\n",
    "results_df.columns = ['obs_exon_cnt', 'exp_exon_cnt','obs_intron_cnt', 'exp_intron_cnt', 'empirical_pvalue']\n",
    "results_df"
   ]
  },
  {
   "cell_type": "code",
   "execution_count": null,
   "metadata": {
    "collapsed": true
   },
   "outputs": [],
   "source": [
    "exonic_increase = (results_df[\"obs_exon_cnt\"]/results_df[\"exp_exon_cnt\"]-1)*100\n",
    "exonic_increase"
   ]
  },
  {
   "cell_type": "code",
   "execution_count": null,
   "metadata": {
    "collapsed": true
   },
   "outputs": [],
   "source": [
    "rand_output['increase'] = (exonic_obs/rand_output['exon_Exp']-1)*100\n",
    "error = (st.stdev(rand_output['increase'].tolist())/np.sqrt(1000))\n",
    "(exonic_increase-error, exonic_increase+error)"
   ]
  },
  {
   "cell_type": "markdown",
   "metadata": {},
   "source": [
    "#### Goldmann 2016"
   ]
  },
  {
   "cell_type": "code",
   "execution_count": null,
   "metadata": {
    "collapsed": true
   },
   "outputs": [],
   "source": [
    "tumor_type = 'Goldmann2016'\n",
    "sub_mutations_df = mutations_df[mutations_df['sample'] == tumor_type]"
   ]
  },
  {
   "cell_type": "code",
   "execution_count": null,
   "metadata": {
    "collapsed": true
   },
   "outputs": [],
   "source": [
    "k = 3\n",
    "middle_distance_threshold = 1000\n",
    "signatures_file = 'results/ALL_signatures.txt'\n",
    "\n",
    "(exons_centered_results, exonic_obs, intronic_obs) = stacked_sequence_level_permutation(sub_mutations_df,\n",
    "                        exons_coords_symbol_df, signatures_file, tumor_type, middle_distance_threshold, k)\n",
    "\n",
    "exons_centered_results = pd.DataFrame.transpose(exons_centered_results)\n",
    "exons_centered_results.to_csv(path.join('results', 'exons_centered_' + str(k) + 'mer_permut_' + str(tumor_type) +\n",
    "                                        '.tsv'), sep=\"\\t\", header=True, index=False)"
   ]
  },
  {
   "cell_type": "markdown",
   "metadata": {},
   "source": [
    "##### Compute emprical p-value"
   ]
  },
  {
   "cell_type": "code",
   "execution_count": null,
   "metadata": {
    "collapsed": true
   },
   "outputs": [],
   "source": [
    "(exonic_obs, intronic_obs) = (289, 2729)\n",
    "tumor_type = 'Goldmann2016'"
   ]
  },
  {
   "cell_type": "code",
   "execution_count": null,
   "metadata": {
    "collapsed": true,
    "scrolled": true
   },
   "outputs": [],
   "source": [
    "k = 3\n",
    "results = []\n",
    "RANDOMIZATION = 1000\n",
    "    \n",
    "# Read the expected exon and intron mutation counts from permutations\n",
    "rand_output = pd.read_csv(path.join('results', 'exons_centered_' + str(k) + 'mer_permut_' + str(tumor_type) + '.tsv'),\n",
    "                            sep=\"\\t\")\n",
    "    \n",
    "# count the number of times the expected exon mutations is higher than the observed\n",
    "count = len(rand_output[rand_output['exon_Exp'] >= exonic_obs])\n",
    "    \n",
    "if count == 0:\n",
    "    count = 1 \n",
    "    \n",
    "results.append([exonic_obs, rand_output['exon_Exp'].mean(), intronic_obs, rand_output['intron_Exp'].mean(),\n",
    "                            count/RANDOMIZATION])\n",
    "    \n",
    "results_df = pd.DataFrame(results)\n",
    "results_df.columns = ['obs_exon_cnt', 'exp_exon_cnt','obs_intron_cnt', 'exp_intron_cnt', 'empirical_pvalue']\n",
    "results_df"
   ]
  },
  {
   "cell_type": "code",
   "execution_count": null,
   "metadata": {
    "collapsed": true
   },
   "outputs": [],
   "source": [
    "exonic_increase = (results_df[\"obs_exon_cnt\"]/results_df[\"exp_exon_cnt\"]-1)*100\n",
    "exonic_increase"
   ]
  },
  {
   "cell_type": "code",
   "execution_count": null,
   "metadata": {
    "collapsed": true
   },
   "outputs": [],
   "source": [
    "rand_output['increase'] = (exonic_obs/rand_output['exon_Exp']-1)*100\n",
    "error = (st.stdev(rand_output['increase'].tolist())/np.sqrt(1000))\n",
    "(exonic_increase-error, exonic_increase+error)"
   ]
  },
  {
   "cell_type": "markdown",
   "metadata": {},
   "source": [
    "#### Goldmann 2018"
   ]
  },
  {
   "cell_type": "code",
   "execution_count": null,
   "metadata": {
    "collapsed": true
   },
   "outputs": [],
   "source": [
    "tumor_type = 'Goldmann2018'\n",
    "sub_mutations_df = mutations_df[mutations_df['sample'] == tumor_type]"
   ]
  },
  {
   "cell_type": "code",
   "execution_count": null,
   "metadata": {
    "collapsed": true
   },
   "outputs": [],
   "source": [
    "k = 3\n",
    "middle_distance_threshold = 1000\n",
    "signatures_file = 'results/ALL_signatures.txt'\n",
    "\n",
    "(exons_centered_results, exonic_obs, intronic_obs) = stacked_sequence_level_permutation(sub_mutations_df,\n",
    "                        exons_coords_symbol_df, signatures_file, tumor_type, middle_distance_threshold, k)\n",
    "\n",
    "exons_centered_results = pd.DataFrame.transpose(exons_centered_results)\n",
    "exons_centered_results.to_csv(path.join('results', 'exons_centered_' + str(k) + 'mer_permut_' + str(tumor_type) +\n",
    "                                        '.tsv'), sep=\"\\t\", header=True, index=False)"
   ]
  },
  {
   "cell_type": "markdown",
   "metadata": {},
   "source": [
    "##### Compute emprical p-value"
   ]
  },
  {
   "cell_type": "code",
   "execution_count": null,
   "metadata": {
    "collapsed": true
   },
   "outputs": [],
   "source": [
    "(exonic_obs, intronic_obs) = (485, 5113)\n",
    "tumor_type = 'Goldmann2018'"
   ]
  },
  {
   "cell_type": "code",
   "execution_count": null,
   "metadata": {
    "collapsed": true
   },
   "outputs": [],
   "source": [
    "k = 3\n",
    "results = []\n",
    "RANDOMIZATION = 1000\n",
    "    \n",
    "# Read the expected exon and intron mutation counts from permutations\n",
    "rand_output = pd.read_csv(path.join('results', 'exons_centered_' + str(k) + 'mer_permut_' + str(tumor_type) + '.tsv'),\n",
    "                            sep=\"\\t\")\n",
    "    \n",
    "# count the number of times the expected exon mutations is higher than the observed\n",
    "count = len(rand_output[rand_output['exon_Exp'] >= exonic_obs])\n",
    "    \n",
    "if count == 0:\n",
    "    count = 1 \n",
    "    \n",
    "results.append([exonic_obs, rand_output['exon_Exp'].mean(), intronic_obs, rand_output['intron_Exp'].mean(),\n",
    "                            count/RANDOMIZATION])\n",
    "    \n",
    "results_df = pd.DataFrame(results)\n",
    "results_df.columns = ['obs_exon_cnt', 'exp_exon_cnt','obs_intron_cnt', 'exp_intron_cnt', 'empirical_pvalue']\n",
    "results_df"
   ]
  },
  {
   "cell_type": "code",
   "execution_count": null,
   "metadata": {
    "collapsed": true
   },
   "outputs": [],
   "source": [
    "exonic_increase = (results_df[\"obs_exon_cnt\"]/results_df[\"exp_exon_cnt\"]-1)*100\n",
    "exonic_increase"
   ]
  },
  {
   "cell_type": "code",
   "execution_count": null,
   "metadata": {
    "collapsed": true
   },
   "outputs": [],
   "source": [
    "rand_output['increase'] = (exonic_obs/rand_output['exon_Exp']-1)*100\n",
    "error = (st.stdev(rand_output['increase'].tolist())/np.sqrt(1000))\n",
    "(exonic_increase-error, exonic_increase+error)"
   ]
  },
  {
   "cell_type": "markdown",
   "metadata": {},
   "source": [
    "#### Halldorsson2019"
   ]
  },
  {
   "cell_type": "code",
   "execution_count": null,
   "metadata": {
    "collapsed": true
   },
   "outputs": [],
   "source": [
    "tumor_type = 'Halldorsson2019'\n",
    "sub_mutations_df = mutations_df[mutations_df['sample'] == tumor_type]"
   ]
  },
  {
   "cell_type": "code",
   "execution_count": null,
   "metadata": {
    "collapsed": true
   },
   "outputs": [],
   "source": [
    "k = 3\n",
    "middle_distance_threshold = 1000\n",
    "signatures_file = 'results/ALL_signatures.txt'\n",
    "\n",
    "(exons_centered_results, exonic_obs, intronic_obs) = stacked_sequence_level_permutation(sub_mutations_df,\n",
    "                        exons_coords_symbol_df, signatures_file, tumor_type, middle_distance_threshold, k)\n",
    "\n",
    "exons_centered_results = pd.DataFrame.transpose(exons_centered_results)\n",
    "exons_centered_results.to_csv(path.join('results', 'exons_centered_' + str(k) + 'mer_permut_' + str(tumor_type) +\n",
    "                                        '.tsv'), sep=\"\\t\", header=True, index=False)"
   ]
  },
  {
   "cell_type": "markdown",
   "metadata": {},
   "source": [
    "##### Compute emprical p-value"
   ]
  },
  {
   "cell_type": "code",
   "execution_count": null,
   "metadata": {
    "collapsed": true
   },
   "outputs": [],
   "source": [
    "(exonic_obs, intronic_obs) = (1236, 11659)\n",
    "tumor_type = 'Halldorsson2019'"
   ]
  },
  {
   "cell_type": "code",
   "execution_count": null,
   "metadata": {
    "collapsed": true
   },
   "outputs": [],
   "source": [
    "k = 3\n",
    "results = []\n",
    "RANDOMIZATION = 1000\n",
    "    \n",
    "# Read the expected exon and intron mutation counts from permutations\n",
    "rand_output = pd.read_csv(path.join('results', 'exons_centered_' + str(k) + 'mer_permut_' + str(tumor_type) + '.tsv'),\n",
    "                            sep=\"\\t\")\n",
    "    \n",
    "# count the number of times the expected exon mutations is higher than the observed\n",
    "count = len(rand_output[rand_output['exon_Exp'] >= exonic_obs])\n",
    "    \n",
    "if count == 0:\n",
    "    count = 1 \n",
    "    \n",
    "results.append([exonic_obs, rand_output['exon_Exp'].mean(), intronic_obs, rand_output['intron_Exp'].mean(),\n",
    "                            count/RANDOMIZATION])\n",
    "    \n",
    "results_df = pd.DataFrame(results)\n",
    "results_df.columns = ['obs_exon_cnt', 'exp_exon_cnt','obs_intron_cnt', 'exp_intron_cnt', 'empirical_pvalue']\n",
    "results_df"
   ]
  },
  {
   "cell_type": "code",
   "execution_count": null,
   "metadata": {
    "collapsed": true
   },
   "outputs": [],
   "source": [
    "exonic_increase = (results_df[\"obs_exon_cnt\"]/results_df[\"exp_exon_cnt\"]-1)*100\n",
    "exonic_increase"
   ]
  },
  {
   "cell_type": "code",
   "execution_count": null,
   "metadata": {
    "collapsed": true
   },
   "outputs": [],
   "source": [
    "rand_output['increase'] = (exonic_obs/rand_output['exon_Exp']-1)*100\n",
    "error = (st.stdev(rand_output['increase'].tolist())/np.sqrt(1000))\n",
    "(exonic_increase-error, exonic_increase+error)"
   ]
  },
  {
   "cell_type": "markdown",
   "metadata": {},
   "source": [
    "#### An"
   ]
  },
  {
   "cell_type": "code",
   "execution_count": null,
   "metadata": {
    "collapsed": true
   },
   "outputs": [],
   "source": [
    "tumor_type = 'An2019'\n",
    "sub_mutations_df = mutations_df[mutations_df['sample'] == tumor_type]"
   ]
  },
  {
   "cell_type": "code",
   "execution_count": null,
   "metadata": {
    "collapsed": true
   },
   "outputs": [],
   "source": [
    "k = 3\n",
    "middle_distance_threshold = 1000\n",
    "signatures_file = 'results/ALL_signatures.txt'\n",
    "\n",
    "(exons_centered_results, exonic_obs, intronic_obs) = stacked_sequence_level_permutation(sub_mutations_df,\n",
    "                        exons_coords_symbol_df, signatures_file, tumor_type, middle_distance_threshold, k)\n",
    "\n",
    "exons_centered_results = pd.DataFrame.transpose(exons_centered_results)\n",
    "exons_centered_results.to_csv(path.join('results', 'exons_centered_' + str(k) + 'mer_permut_' + str(tumor_type) +\n",
    "                                        '.tsv'), sep=\"\\t\", header=True, index=False)"
   ]
  },
  {
   "cell_type": "markdown",
   "metadata": {},
   "source": [
    "##### Compute emprical p-value"
   ]
  },
  {
   "cell_type": "code",
   "execution_count": null,
   "metadata": {
    "collapsed": true
   },
   "outputs": [],
   "source": [
    "(exonic_obs, intronic_obs) = (1610, 16379)\n",
    "tumor_type = 'An2019'"
   ]
  },
  {
   "cell_type": "code",
   "execution_count": null,
   "metadata": {
    "collapsed": true
   },
   "outputs": [],
   "source": [
    "k = 3\n",
    "results = []\n",
    "RANDOMIZATION = 1000\n",
    "    \n",
    "# Read the expected exon and intron mutation counts from permutations\n",
    "rand_output = pd.read_csv(path.join('results', 'exons_centered_' + str(k) + 'mer_permut_' + str(tumor_type) + '.tsv'),\n",
    "                            sep=\"\\t\")\n",
    "    \n",
    "# count the number of times the expected exon mutations is higher than the observed\n",
    "count = len(rand_output[rand_output['exon_Exp'] >= exonic_obs])\n",
    "    \n",
    "if count == 0:\n",
    "    count = 1 \n",
    "    \n",
    "results.append([exonic_obs, rand_output['exon_Exp'].mean(), intronic_obs, rand_output['intron_Exp'].mean(),\n",
    "                            count/RANDOMIZATION])\n",
    "    \n",
    "results_df = pd.DataFrame(results)\n",
    "results_df.columns = ['obs_exon_cnt', 'exp_exon_cnt','obs_intron_cnt', 'exp_intron_cnt', 'empirical_pvalue']\n",
    "results_df"
   ]
  },
  {
   "cell_type": "code",
   "execution_count": null,
   "metadata": {
    "collapsed": true
   },
   "outputs": [],
   "source": [
    "exonic_increase = (results_df[\"obs_exon_cnt\"]/results_df[\"exp_exon_cnt\"]-1)*100\n",
    "exonic_increase"
   ]
  },
  {
   "cell_type": "code",
   "execution_count": null,
   "metadata": {
    "collapsed": true
   },
   "outputs": [],
   "source": [
    "rand_output['increase'] = (exonic_obs/rand_output['exon_Exp']-1)*100\n",
    "error = (st.stdev(rand_output['increase'].tolist())/np.sqrt(1000))\n",
    "(exonic_increase-error, exonic_increase+error)"
   ]
  },
  {
   "cell_type": "markdown",
   "metadata": {},
   "source": [
    "#### An (healthy)"
   ]
  },
  {
   "cell_type": "code",
   "execution_count": null,
   "metadata": {
    "collapsed": true
   },
   "outputs": [],
   "source": [
    "tumor_type = 'An2019'\n",
    "sub_mutations_df = sub_copy_mutations_df[sub_copy_mutations_df['sample'] == tumor_type]\n",
    "sub_mutations_df = sub_mutations_df[sub_mutations_df['class'] == tumor_type]"
   ]
  },
  {
   "cell_type": "code",
   "execution_count": null,
   "metadata": {
    "collapsed": true
   },
   "outputs": [],
   "source": [
    "k = 3\n",
    "middle_distance_threshold = 1000\n",
    "signatures_file = 'results/ALL_signatures.txt'\n",
    "\n",
    "(exons_centered_results, exonic_obs, intronic_obs) = stacked_sequence_level_permutation(sub_mutations_df,\n",
    "                        exons_coords_symbol_df, signatures_file, tumor_type, middle_distance_threshold, k)\n",
    "\n",
    "exons_centered_results = pd.DataFrame.transpose(exons_centered_results)\n",
    "exons_centered_results.to_csv(path.join('results', 'exons_centered_' + str(k) + 'mer_permut_' + str(tumor_type) +\n",
    "                                        '.tsv'), sep=\"\\t\", header=True, index=False)"
   ]
  },
  {
   "cell_type": "markdown",
   "metadata": {},
   "source": [
    "##### Compute emprical p-value"
   ]
  },
  {
   "cell_type": "code",
   "execution_count": null,
   "metadata": {
    "collapsed": true
   },
   "outputs": [],
   "source": [
    "(exonic_obs, intronic_obs) = (1610, 16379)\n",
    "tumor_type = 'An2019'"
   ]
  },
  {
   "cell_type": "code",
   "execution_count": null,
   "metadata": {
    "collapsed": true
   },
   "outputs": [],
   "source": [
    "k = 3\n",
    "results = []\n",
    "RANDOMIZATION = 1000\n",
    "    \n",
    "# Read the expected exon and intron mutation counts from permutations\n",
    "rand_output = pd.read_csv(path.join('results', 'exons_centered_' + str(k) + 'mer_permut_' + str(tumor_type) + '.tsv'),\n",
    "                            sep=\"\\t\")\n",
    "    \n",
    "# count the number of times the expected exon mutations is higher than the observed\n",
    "count = len(rand_output[rand_output['exon_Exp'] >= exonic_obs])\n",
    "    \n",
    "if count == 0:\n",
    "    count = 1 \n",
    "    \n",
    "results.append([exonic_obs, rand_output['exon_Exp'].mean(), intronic_obs, rand_output['intron_Exp'].mean(),\n",
    "                            count/RANDOMIZATION])\n",
    "    \n",
    "results_df = pd.DataFrame(results)\n",
    "results_df.columns = ['obs_exon_cnt', 'exp_exon_cnt','obs_intron_cnt', 'exp_intron_cnt', 'empirical_pvalue']\n",
    "results_df"
   ]
  },
  {
   "cell_type": "code",
   "execution_count": null,
   "metadata": {
    "collapsed": true
   },
   "outputs": [],
   "source": [
    "exonic_increase = (results_df[\"obs_exon_cnt\"]/results_df[\"exp_exon_cnt\"]-1)*100\n",
    "exonic_increase"
   ]
  },
  {
   "cell_type": "code",
   "execution_count": null,
   "metadata": {
    "collapsed": true
   },
   "outputs": [],
   "source": [
    "rand_output['increase'] = (exonic_obs/rand_output['exon_Exp']-1)*100\n",
    "error = (st.stdev(rand_output['increase'].tolist())/np.sqrt(1000))\n",
    "(exonic_increase-error, exonic_increase+error)"
   ]
  },
  {
   "cell_type": "markdown",
   "metadata": {},
   "source": [
    "#### Yuen"
   ]
  },
  {
   "cell_type": "code",
   "execution_count": null,
   "metadata": {
    "collapsed": true
   },
   "outputs": [],
   "source": [
    "tumor_type = 'Yuen2017'\n",
    "sub_mutations_df = mutations_df[mutations_df['sample'] == tumor_type]"
   ]
  },
  {
   "cell_type": "code",
   "execution_count": null,
   "metadata": {
    "collapsed": true
   },
   "outputs": [],
   "source": [
    "k = 3\n",
    "middle_distance_threshold = 1000\n",
    "signatures_file = 'results/ALL_signatures.txt'\n",
    "\n",
    "(exons_centered_results, exonic_obs, intronic_obs) = stacked_sequence_level_permutation(sub_mutations_df,\n",
    "                        exons_coords_symbol_df, signatures_file, tumor_type, middle_distance_threshold, k)\n",
    "\n",
    "exons_centered_results = pd.DataFrame.transpose(exons_centered_results)\n",
    "exons_centered_results.to_csv(path.join('results', 'exons_centered_' + str(k) + 'mer_permut_' + str(tumor_type) +\n",
    "                                        '.tsv'), sep=\"\\t\", header=True, index=False)"
   ]
  },
  {
   "cell_type": "markdown",
   "metadata": {},
   "source": [
    "##### Compute emprical p-value"
   ]
  },
  {
   "cell_type": "code",
   "execution_count": null,
   "metadata": {
    "collapsed": true
   },
   "outputs": [],
   "source": [
    "(exonic_obs, intronic_obs) = (790, 7777)\n",
    "tumor_type = 'Yuen2017'"
   ]
  },
  {
   "cell_type": "code",
   "execution_count": null,
   "metadata": {
    "collapsed": true
   },
   "outputs": [],
   "source": [
    "k = 3\n",
    "results = []\n",
    "RANDOMIZATION = 1000\n",
    "    \n",
    "# Read the expected exon and intron mutation counts from permutations\n",
    "rand_output = pd.read_csv(path.join('results', 'exons_centered_' + str(k) + 'mer_permut_' + str(tumor_type) + '.tsv'),\n",
    "                            sep=\"\\t\")\n",
    "    \n",
    "# count the number of times the expected exon mutations is higher than the observed\n",
    "count = len(rand_output[rand_output['exon_Exp'] >= exonic_obs])\n",
    "    \n",
    "if count == 0:\n",
    "    count = 1 \n",
    "    \n",
    "results.append([exonic_obs, rand_output['exon_Exp'].mean(), intronic_obs, rand_output['intron_Exp'].mean(),\n",
    "                            count/RANDOMIZATION])\n",
    "    \n",
    "results_df = pd.DataFrame(results)\n",
    "results_df.columns = ['obs_exon_cnt', 'exp_exon_cnt','obs_intron_cnt', 'exp_intron_cnt', 'empirical_pvalue']\n",
    "results_df"
   ]
  },
  {
   "cell_type": "code",
   "execution_count": null,
   "metadata": {
    "collapsed": true
   },
   "outputs": [],
   "source": [
    "exonic_increase = (results_df[\"obs_exon_cnt\"]/results_df[\"exp_exon_cnt\"]-1)*100\n",
    "exonic_increase"
   ]
  },
  {
   "cell_type": "code",
   "execution_count": null,
   "metadata": {
    "collapsed": true
   },
   "outputs": [],
   "source": [
    "rand_output['increase'] = (exonic_obs/rand_output['exon_Exp']-1)*100\n",
    "error = (st.stdev(rand_output['increase'].tolist())/np.sqrt(1000))\n",
    "(exonic_increase-error, exonic_increase+error)"
   ]
  },
  {
   "cell_type": "markdown",
   "metadata": {},
   "source": [
    "#### Sasani"
   ]
  },
  {
   "cell_type": "code",
   "execution_count": null,
   "metadata": {
    "collapsed": true
   },
   "outputs": [],
   "source": [
    "tumor_type = 'Sasani2019'\n",
    "sub_mutations_df = mutations_df[mutations_df['sample'] == tumor_type]"
   ]
  },
  {
   "cell_type": "code",
   "execution_count": null,
   "metadata": {
    "collapsed": true
   },
   "outputs": [],
   "source": [
    "k = 3\n",
    "middle_distance_threshold = 1000\n",
    "signatures_file = 'results/ALL_signatures.txt'\n",
    "\n",
    "(exons_centered_results, exonic_obs, intronic_obs) = stacked_sequence_level_permutation(sub_mutations_df,\n",
    "                        exons_coords_symbol_df, signatures_file, tumor_type, middle_distance_threshold, k)\n",
    "\n",
    "exons_centered_results = pd.DataFrame.transpose(exons_centered_results)\n",
    "exons_centered_results.to_csv(path.join('results', 'exons_centered_' + str(k) + 'mer_permut_' + str(tumor_type) +\n",
    "                                        '.tsv'), sep=\"\\t\", header=True, index=False)"
   ]
  },
  {
   "cell_type": "markdown",
   "metadata": {},
   "source": [
    "##### Compute emprical p-value"
   ]
  },
  {
   "cell_type": "code",
   "execution_count": null,
   "metadata": {
    "collapsed": true
   },
   "outputs": [],
   "source": [
    "(exonic_obs, intronic_obs) = (195, 1837)\n",
    "tumor_type = 'Sasani2019'"
   ]
  },
  {
   "cell_type": "code",
   "execution_count": null,
   "metadata": {
    "collapsed": true
   },
   "outputs": [],
   "source": [
    "k = 3\n",
    "results = []\n",
    "RANDOMIZATION = 1000\n",
    "    \n",
    "# Read the expected exon and intron mutation counts from permutations\n",
    "rand_output = pd.read_csv(path.join('results', 'exons_centered_' + str(k) + 'mer_permut_' + str(tumor_type) + '.tsv'),\n",
    "                            sep=\"\\t\")\n",
    "    \n",
    "# count the number of times the expected exon mutations is higher than the observed\n",
    "count = len(rand_output[rand_output['exon_Exp'] >= exonic_obs])\n",
    "    \n",
    "if count == 0:\n",
    "    count = 1 \n",
    "    \n",
    "results.append([exonic_obs, rand_output['exon_Exp'].mean(), intronic_obs, rand_output['intron_Exp'].mean(),\n",
    "                            count/RANDOMIZATION])\n",
    "    \n",
    "results_df = pd.DataFrame(results)\n",
    "results_df.columns = ['obs_exon_cnt', 'exp_exon_cnt','obs_intron_cnt', 'exp_intron_cnt', 'empirical_pvalue']\n",
    "results_df"
   ]
  },
  {
   "cell_type": "code",
   "execution_count": null,
   "metadata": {
    "collapsed": true
   },
   "outputs": [],
   "source": [
    "exonic_increase = (results_df[\"obs_exon_cnt\"]/results_df[\"exp_exon_cnt\"]-1)*100\n",
    "exonic_increase"
   ]
  },
  {
   "cell_type": "code",
   "execution_count": null,
   "metadata": {
    "collapsed": true
   },
   "outputs": [],
   "source": [
    "rand_output['increase'] = (exonic_obs/rand_output['exon_Exp']-1)*100\n",
    "error = (st.stdev(rand_output['increase'].tolist())/np.sqrt(1000))\n",
    "(exonic_increase-error, exonic_increase+error)"
   ]
  },
  {
   "cell_type": "markdown",
   "metadata": {},
   "source": [
    "### 1-mer with CpG, all datasets"
   ]
  },
  {
   "cell_type": "code",
   "execution_count": null,
   "metadata": {
    "collapsed": true
   },
   "outputs": [],
   "source": [
    "tumor_type = 'germinal'\n",
    "k = 3\n",
    "middle_distance_threshold = 1000\n",
    "signatures_file = 'results/CpG_signatures_DNM_new.txt'\n",
    "\n",
    "(exons_centered_results, exonic_obs, intronic_obs) = stacked_sequence_level_permutation_CpG(mutations_df,\n",
    "                        exons_coords_symbol_df, signatures_file, tumor_type, middle_distance_threshold, k)\n",
    "\n",
    "exons_centered_results = pd.DataFrame.transpose(exons_centered_results)\n",
    "exons_centered_results.to_csv(path.join('results', 'exons_centered_CpGmer_permut.tsv'), sep=\"\\t\",\n",
    "                               header=True, index=False)"
   ]
  },
  {
   "cell_type": "markdown",
   "metadata": {},
   "source": [
    "#### Compute emprical p-value"
   ]
  },
  {
   "cell_type": "code",
   "execution_count": null,
   "metadata": {
    "collapsed": true
   },
   "outputs": [],
   "source": [
    "results = []\n",
    "RANDOMIZATION = 1000\n",
    "    \n",
    "# Read the expected exon and intron mutation counts from permutations\n",
    "rand_output = pd.read_csv(path.join('results', 'exons_centered_CpGmer_permut.tsv'), sep=\"\\t\")\n",
    "    \n",
    "# count the number of times the expected exon mutations is higher than the observed\n",
    "count = len(rand_output[rand_output['exon_Exp'] >= exonic_obs])\n",
    "    \n",
    "if count == 0:\n",
    "    count = 1 \n",
    "    \n",
    "results.append([exonic_obs, rand_output['exon_Exp'].mean(), intronic_obs, rand_output['intron_Exp'].mean(), count/RANDOMIZATION])\n",
    "    \n",
    "results_df = pd.DataFrame(results)\n",
    "results_df.columns = ['obs_exon_cnt', 'exp_exon_cnt','obs_intron_cnt', 'exp_intron_cnt', 'empirical_pvalue']\n",
    "results_df"
   ]
  },
  {
   "cell_type": "code",
   "execution_count": null,
   "metadata": {
    "collapsed": true
   },
   "outputs": [],
   "source": [
    "exonic_increase = (results_df[\"obs_exon_cnt\"]/results_df[\"exp_exon_cnt\"]-1)*100\n",
    "exonic_increase"
   ]
  },
  {
   "cell_type": "code",
   "execution_count": null,
   "metadata": {
    "collapsed": true
   },
   "outputs": [],
   "source": [
    "rand_output['increase'] = (exonic_obs/rand_output['exon_Exp']-1)*100\n",
    "error = (st.stdev(rand_output['increase'].tolist())/np.sqrt(1000))\n",
    "(exonic_increase-error, exonic_increase+error)"
   ]
  },
  {
   "cell_type": "markdown",
   "metadata": {},
   "source": [
    "### 5-mer, all datasets"
   ]
  },
  {
   "cell_type": "code",
   "execution_count": null,
   "metadata": {
    "collapsed": true
   },
   "outputs": [],
   "source": [
    "k = 5\n",
    "middle_distance_threshold = 1000\n",
    "signatures_file = 'results/' + str(k) + 'mer_signatures_DNM_new.txt'\n",
    "\n",
    "(exons_centered_results, exonic_obs, intronic_obs) = stacked_sequence_level_permutation(mutations_df,\n",
    "                        exons_coords_symbol_df, signatures_file, tumor_type, middle_distance_threshold, k)\n",
    "\n",
    "exons_centered_results = pd.DataFrame.transpose(exons_centered_results)\n",
    "exons_centered_results.to_csv(path.join('results', 'exons_centered_' + str(k) + 'mer_permut.tsv'), sep=\"\\t\",\n",
    "                               header=True, index=False)"
   ]
  },
  {
   "cell_type": "markdown",
   "metadata": {},
   "source": [
    "#### Compute emprical p-value"
   ]
  },
  {
   "cell_type": "code",
   "execution_count": null,
   "metadata": {
    "collapsed": true
   },
   "outputs": [],
   "source": [
    "k = 5\n",
    "results = []\n",
    "RANDOMIZATION = 1000\n",
    "    \n",
    "# Read the expected exon and intron mutation counts from permutations\n",
    "rand_output = pd.read_csv(path.join('results', 'exons_centered_' + str(k) + 'mer_permut.tsv'), sep=\"\\t\")\n",
    "    \n",
    "# count the number of times the expected exon mutations is higher than the observed\n",
    "count = len(rand_output[rand_output['exon_Exp'] >= exonic_obs])\n",
    "    \n",
    "if count == 0:\n",
    "    count = 1 \n",
    "    \n",
    "results.append([exonic_obs, rand_output['exon_Exp'].mean(), intronic_obs, rand_output['intron_Exp'].mean(), count/RANDOMIZATION])\n",
    "    \n",
    "results_df = pd.DataFrame(results)\n",
    "results_df.columns = ['obs_exon_cnt', 'exp_exon_cnt','obs_intron_cnt', 'exp_intron_cnt', 'empirical_pvalue']\n",
    "results_df"
   ]
  },
  {
   "cell_type": "code",
   "execution_count": null,
   "metadata": {
    "collapsed": true
   },
   "outputs": [],
   "source": [
    "exonic_increase = (results_df[\"obs_exon_cnt\"]/results_df[\"exp_exon_cnt\"]-1)*100\n",
    "exonic_increase"
   ]
  },
  {
   "cell_type": "code",
   "execution_count": null,
   "metadata": {
    "collapsed": true
   },
   "outputs": [],
   "source": [
    "rand_output['increase'] = (exonic_obs/rand_output['exon_Exp']-1)*100\n",
    "error = (st.stdev(rand_output['increase'].tolist())/np.sqrt(1000))\n",
    "(exonic_increase-error, exonic_increase+error)"
   ]
  },
  {
   "cell_type": "markdown",
   "metadata": {},
   "source": [
    "### 7-mer, all datasets"
   ]
  },
  {
   "cell_type": "code",
   "execution_count": null,
   "metadata": {
    "collapsed": true
   },
   "outputs": [],
   "source": [
    "k = 7\n",
    "middle_distance_threshold = 1000\n",
    "signatures_file = 'results/' + str(k) + 'mer_DNM_signatures_decomp.txt'\n",
    "\n",
    "(exons_centered_results, exonic_obs, intronic_obs) = stacked_sequence_level_permutation(mutations_df,\n",
    "                        exons_coords_symbol_df, signatures_file, tumor_type, middle_distance_threshold, k)\n",
    "\n",
    "exons_centered_results = pd.DataFrame.transpose(exons_centered_results)\n",
    "exons_centered_results.to_csv(path.join('results', 'exons_centered_' + str(k) + 'mer_permut.tsv'), sep=\"\\t\",\n",
    "                               header=True, index=False)"
   ]
  },
  {
   "cell_type": "markdown",
   "metadata": {},
   "source": [
    "#### Compute emprical p-value"
   ]
  },
  {
   "cell_type": "code",
   "execution_count": null,
   "metadata": {
    "collapsed": true
   },
   "outputs": [],
   "source": [
    "k = 7\n",
    "results = []\n",
    "RANDOMIZATION = 1000\n",
    "    \n",
    "# Read the expected exon and intron mutation counts from permutations\n",
    "rand_output = pd.read_csv(path.join('results', 'exons_centered_' + str(k) + 'mer_permut.tsv'), sep=\"\\t\")\n",
    "    \n",
    "# count the number of times the expected exon mutations is higher than the observed\n",
    "count = len(rand_output[rand_output['exon_Exp'] >= exonic_obs])\n",
    "    \n",
    "if count == 0:\n",
    "    count = 1 \n",
    "    \n",
    "results.append([exonic_obs, rand_output['exon_Exp'].mean(), intronic_obs, rand_output['intron_Exp'].mean(), count/RANDOMIZATION])\n",
    "    \n",
    "results_df = pd.DataFrame(results)\n",
    "results_df.columns = ['obs_exon_cnt', 'exp_exon_cnt','obs_intron_cnt', 'exp_intron_cnt', 'empirical_pvalue']\n",
    "results_df"
   ]
  },
  {
   "cell_type": "code",
   "execution_count": null,
   "metadata": {
    "collapsed": true
   },
   "outputs": [],
   "source": [
    "exonic_increase = (results_df[\"obs_exon_cnt\"]/results_df[\"exp_exon_cnt\"]-1)*100\n",
    "exonic_increase"
   ]
  },
  {
   "cell_type": "code",
   "execution_count": null,
   "metadata": {
    "collapsed": true
   },
   "outputs": [],
   "source": [
    "rand_output['increase'] = (exonic_obs/rand_output['exon_Exp']-1)*100\n",
    "error = (st.stdev(rand_output['increase'].tolist())/np.sqrt(1000))\n",
    "(exonic_increase-error, exonic_increase+error)"
   ]
  },
  {
   "cell_type": "markdown",
   "metadata": {
    "collapsed": true
   },
   "source": [
    "## Random permutation of syn/non-syn mutations at stacked sequence level"
   ]
  },
  {
   "cell_type": "markdown",
   "metadata": {},
   "source": [
    "### Load extra data"
   ]
  },
  {
   "cell_type": "code",
   "execution_count": null,
   "metadata": {
    "collapsed": true
   },
   "outputs": [],
   "source": [
    "## Get consequence tabix file\n",
    "tb_consequence_type = tabix.open(consequence_type_file)\n",
    "\n",
    "## Get the consequence rank info and classify separate syn from other types of non-syn (missense, non-sense,...)\n",
    "consequence_rank_info = pd.read_csv(consequence_ranking_file, delimiter='\\t')\n",
    "consequence_rank_info['TYPE'] = consequence_rank_info.apply(lambda x:synonymous_or_not(x) ,1)\n",
    "consequence_rank_info = consequence_rank_info[['CONSEQUENCE', 'TYPE']]\n",
    "consequence_rank_dict = dict(zip(consequence_rank_info['CONSEQUENCE'], consequence_rank_info['TYPE']))\n",
    "\n",
    "tumor_type = 'germinal'"
   ]
  },
  {
   "cell_type": "markdown",
   "metadata": {},
   "source": [
    "### 3-mer, all datasets, synonymous"
   ]
  },
  {
   "cell_type": "code",
   "execution_count": null,
   "metadata": {
    "collapsed": true
   },
   "outputs": [],
   "source": [
    "k = 3\n",
    "middle_distance_threshold = 1000\n",
    "signatures_file = 'results/' + str(k) + 'mer_signatures_DNM_new.txt'\n",
    "include = 'synonymous'\n",
    "\n",
    "(exons_centered_results, exonic_obs, intronic_obs) = stacked_sequence_level_permutation_excluding(mutations_df,\n",
    "                                    exons_coords_symbol_df, signatures_file, tumor_type, middle_distance_threshold,\n",
    "                                    k, include, tb_consequence_type, consequence_rank_dict)\n",
    "\n",
    "exons_centered_results = pd.DataFrame.transpose(exons_centered_results)\n",
    "exons_centered_results.to_csv(path.join('results', 'exons_centered_' + str(k) + 'mer_permut_' + include + '.tsv'),\n",
    "                              sep=\"\\t\", header=True, index=False)"
   ]
  },
  {
   "cell_type": "markdown",
   "metadata": {},
   "source": [
    "#### Compute emprical p-value"
   ]
  },
  {
   "cell_type": "code",
   "execution_count": null,
   "metadata": {
    "collapsed": true,
    "scrolled": false
   },
   "outputs": [],
   "source": [
    "k = 3\n",
    "results = []\n",
    "RANDOMIZATION = 1000\n",
    "    \n",
    "# Read the expected exon and intron mutation counts from permutations\n",
    "rand_output = pd.read_csv(path.join('results', 'exons_centered_' + str(k) + 'mer_permut_' + include + '.tsv'),\n",
    "                            sep=\"\\t\")\n",
    "    \n",
    "# count the number of times the expected exon mutations is higher than the observed\n",
    "count = len(rand_output[rand_output['exon_Exp'] <= exonic_obs])\n",
    "    \n",
    "if count == 0:\n",
    "    count = 1 \n",
    "    \n",
    "results.append([exonic_obs, rand_output['exon_Exp'].mean(), intronic_obs, rand_output['intron_Exp'].mean(),\n",
    "                            count/RANDOMIZATION])\n",
    "    \n",
    "results_df = pd.DataFrame(results)\n",
    "results_df.columns = ['obs_exon_cnt', 'exp_exon_cnt','obs_intron_cnt', 'exp_intron_cnt', 'empirical_pvalue']\n",
    "results_df"
   ]
  },
  {
   "cell_type": "code",
   "execution_count": null,
   "metadata": {
    "collapsed": true
   },
   "outputs": [],
   "source": [
    "(results_df[\"exp_exon_cnt\"]/results_df[\"obs_exon_cnt\"]-1)*100"
   ]
  },
  {
   "cell_type": "code",
   "execution_count": null,
   "metadata": {
    "collapsed": true
   },
   "outputs": [],
   "source": [
    "exonic_increase = (results_df[\"obs_exon_cnt\"]/results_df[\"exp_exon_cnt\"]-1)*100\n",
    "exonic_increase"
   ]
  },
  {
   "cell_type": "code",
   "execution_count": null,
   "metadata": {
    "collapsed": true
   },
   "outputs": [],
   "source": [
    "rand_output['increase'] = (exonic_obs/rand_output['exon_Exp']-1)*100\n",
    "error = (st.stdev(rand_output['increase'].tolist())/np.sqrt(1000))\n",
    "(exonic_increase-error, exonic_increase+error)"
   ]
  },
  {
   "cell_type": "markdown",
   "metadata": {},
   "source": [
    "### 3-mer, all datasets, non-synonymous"
   ]
  },
  {
   "cell_type": "code",
   "execution_count": null,
   "metadata": {
    "collapsed": true
   },
   "outputs": [],
   "source": [
    "k = 3\n",
    "middle_distance_threshold = 1000\n",
    "signatures_file = 'results/' + str(k) + 'mer_signatures_DNM_new.txt'\n",
    "include = 'non_synonymous'\n",
    "\n",
    "(exons_centered_results, exonic_obs, intronic_obs) = stacked_sequence_level_permutation_excluding(mutations_df,\n",
    "                                    exons_coords_symbol_df, signatures_file, tumor_type, middle_distance_threshold,\n",
    "                                    k, include, tb_consequence_type, consequence_rank_dict)\n",
    "\n",
    "exons_centered_results = pd.DataFrame.transpose(exons_centered_results)\n",
    "exons_centered_results.to_csv(path.join('results', 'exons_centered_' + str(k) + 'mer_permut_' + include + '.tsv'),\n",
    "                              sep=\"\\t\", header=True, index=False)"
   ]
  },
  {
   "cell_type": "markdown",
   "metadata": {},
   "source": [
    "#### Compute emprical p-value"
   ]
  },
  {
   "cell_type": "code",
   "execution_count": null,
   "metadata": {
    "collapsed": true
   },
   "outputs": [],
   "source": [
    "results = []\n",
    "RANDOMIZATION = 1000\n",
    "    \n",
    "# Read the expected exon and intron mutation counts from permutations\n",
    "rand_output = pd.read_csv(path.join('results', 'exons_centered_' + str(k) + 'mer_permut_' + include + '.tsv'),\n",
    "                            sep=\"\\t\")\n",
    "    \n",
    "# count the number of times the expected exon mutations is higher than the observed\n",
    "count = len(rand_output[rand_output['exon_Exp'] >= exonic_obs])\n",
    "    \n",
    "if count == 0:\n",
    "    count = 1 \n",
    "    \n",
    "results.append([exonic_obs, rand_output['exon_Exp'].mean(), intronic_obs, rand_output['intron_Exp'].mean(),\n",
    "                            count/RANDOMIZATION])\n",
    "    \n",
    "results_df = pd.DataFrame(results)\n",
    "results_df.columns = ['obs_exon_cnt', 'exp_exon_cnt','obs_intron_cnt', 'exp_intron_cnt', 'empirical_pvalue']\n",
    "results_df"
   ]
  },
  {
   "cell_type": "code",
   "execution_count": null,
   "metadata": {
    "collapsed": true
   },
   "outputs": [],
   "source": [
    "(results_df[\"obs_exon_cnt\"]/results_df[\"exp_exon_cnt\"]-1)*100"
   ]
  },
  {
   "cell_type": "code",
   "execution_count": null,
   "metadata": {
    "collapsed": true
   },
   "outputs": [],
   "source": [
    "exonic_increase = (results_df[\"obs_exon_cnt\"]/results_df[\"exp_exon_cnt\"]-1)*100\n",
    "exonic_increase"
   ]
  },
  {
   "cell_type": "code",
   "execution_count": null,
   "metadata": {
    "collapsed": true
   },
   "outputs": [],
   "source": [
    "rand_output['increase'] = (exonic_obs/rand_output['exon_Exp']-1)*100\n",
    "error = (st.stdev(rand_output['increase'].tolist())/np.sqrt(1000))\n",
    "(exonic_increase-error, exonic_increase+error)"
   ]
  },
  {
   "cell_type": "markdown",
   "metadata": {},
   "source": [
    "## Load sample data"
   ]
  },
  {
   "cell_type": "code",
   "execution_count": null,
   "metadata": {
    "collapsed": true
   },
   "outputs": [],
   "source": [
    "# Get the mutations\n",
    "sample_mutations_file = mutations_folder + 'germinal_sample.bed.gz'\n",
    "sample_mutations_df = pd.read_csv(sample_mutations_file, sep=\"\\t\", header=None)\n",
    "sample_mutations_df.columns = ['chr', 'start', 'end', 'ref', 'alt', 'sample', 'type', 'class', 'ID']\n",
    "sample_mutations_df = sample_mutations_df[['chr', 'start', 'end', 'ref', 'alt', 'sample', 'type', 'ID']]\n",
    "sample_mutations_df = sample_mutations_df[sample_mutations_df['type'] == 'subs']"
   ]
  },
  {
   "cell_type": "markdown",
   "metadata": {},
   "source": [
    "### 3-mer, random sample, synonymous"
   ]
  },
  {
   "cell_type": "code",
   "execution_count": null,
   "metadata": {
    "collapsed": true
   },
   "outputs": [],
   "source": [
    "k = 3\n",
    "middle_distance_threshold = 1000\n",
    "signatures_file = 'results/' + str(k) + 'mer_signatures_sample.txt'\n",
    "include = 'synonymous'\n",
    "\n",
    "(exons_centered_results, exonic_obs, intronic_obs) = stacked_sequence_level_permutation_excluding(sample_mutations_df,\n",
    "                                    exons_coords_symbol_df, signatures_file, tumor_type, middle_distance_threshold,\n",
    "                                    k, include, tb_consequence_type, consequence_rank_dict)\n",
    "\n",
    "exons_centered_results = pd.DataFrame.transpose(exons_centered_results)\n",
    "exons_centered_results.to_csv(path.join('results', 'exons_centered_' + str(k) + 'mer_permut_' + include +\n",
    "                                        '_sample.tsv'), sep=\"\\t\", header=True, index=False)"
   ]
  },
  {
   "cell_type": "markdown",
   "metadata": {},
   "source": [
    "#### Compute emprical p-value"
   ]
  },
  {
   "cell_type": "code",
   "execution_count": null,
   "metadata": {
    "collapsed": true,
    "scrolled": false
   },
   "outputs": [],
   "source": [
    "k = 3\n",
    "results = []\n",
    "RANDOMIZATION = 1000\n",
    "    \n",
    "# Read the expected exon and intron mutation counts from permutations\n",
    "rand_output = pd.read_csv(path.join('results', 'exons_centered_' + str(k) + 'mer_permut_' + include + '_sample.tsv'),\n",
    "                            sep=\"\\t\")\n",
    "    \n",
    "# count the number of times the expected exon mutations is higher than the observed\n",
    "count = len(rand_output[rand_output['exon_Exp'] <= exonic_obs])\n",
    "    \n",
    "if count == 0:\n",
    "    count = 1 \n",
    "    \n",
    "results.append([exonic_obs, rand_output['exon_Exp'].mean(), intronic_obs, rand_output['intron_Exp'].mean(),\n",
    "                            count/RANDOMIZATION])\n",
    "    \n",
    "results_df = pd.DataFrame(results)\n",
    "results_df.columns = ['obs_exon_cnt', 'exp_exon_cnt','obs_intron_cnt', 'exp_intron_cnt', 'empirical_pvalue']\n",
    "results_df"
   ]
  },
  {
   "cell_type": "code",
   "execution_count": null,
   "metadata": {
    "collapsed": true
   },
   "outputs": [],
   "source": [
    "(results_df[\"exp_exon_cnt\"]/results_df[\"obs_exon_cnt\"]-1)*100"
   ]
  },
  {
   "cell_type": "code",
   "execution_count": null,
   "metadata": {
    "collapsed": true
   },
   "outputs": [],
   "source": [
    "exonic_increase = (results_df[\"obs_exon_cnt\"]/results_df[\"exp_exon_cnt\"]-1)*100\n",
    "exonic_increase"
   ]
  },
  {
   "cell_type": "code",
   "execution_count": null,
   "metadata": {
    "collapsed": true
   },
   "outputs": [],
   "source": [
    "rand_output['increase'] = (exonic_obs/rand_output['exon_Exp']-1)*100\n",
    "error = (st.stdev(rand_output['increase'].tolist())/np.sqrt(1000))\n",
    "(exonic_increase-error, exonic_increase+error)"
   ]
  },
  {
   "cell_type": "markdown",
   "metadata": {},
   "source": [
    "### 3-mer, random sample, non-synonymous"
   ]
  },
  {
   "cell_type": "code",
   "execution_count": null,
   "metadata": {
    "collapsed": true
   },
   "outputs": [],
   "source": [
    "k = 3\n",
    "middle_distance_threshold = 1000\n",
    "signatures_file = 'results/' + str(k) + 'mer_signatures_sample.txt'\n",
    "include = 'non_synonymous'\n",
    "\n",
    "(exons_centered_results, exonic_obs, intronic_obs) = stacked_sequence_level_permutation_excluding(sample_mutations_df,\n",
    "                                    exons_coords_symbol_df, signatures_file, tumor_type, middle_distance_threshold,\n",
    "                                    k, include, tb_consequence_type, consequence_rank_dict)\n",
    "\n",
    "exons_centered_results = pd.DataFrame.transpose(exons_centered_results)\n",
    "exons_centered_results.to_csv(path.join('results', 'exons_centered_' + str(k) + 'mer_permut_' + include +\n",
    "                                        '_sample.tsv'), sep=\"\\t\", header=True, index=False)"
   ]
  },
  {
   "cell_type": "markdown",
   "metadata": {},
   "source": [
    "#### Compute emprical p-value"
   ]
  },
  {
   "cell_type": "code",
   "execution_count": null,
   "metadata": {
    "collapsed": true
   },
   "outputs": [],
   "source": [
    "results = []\n",
    "RANDOMIZATION = 1000\n",
    "    \n",
    "# Read the expected exon and intron mutation counts from permutations\n",
    "rand_output = pd.read_csv(path.join('results', 'exons_centered_' + str(k) + 'mer_permut_' + include + '_sample.tsv'),\n",
    "                            sep=\"\\t\")\n",
    "    \n",
    "# count the number of times the expected exon mutations is higher than the observed\n",
    "count = len(rand_output[rand_output['exon_Exp'] >= exonic_obs])\n",
    "    \n",
    "if count == 0:\n",
    "    count = 1 \n",
    "    \n",
    "results.append([exonic_obs, rand_output['exon_Exp'].mean(), intronic_obs, rand_output['intron_Exp'].mean(),\n",
    "                            count/RANDOMIZATION])\n",
    "    \n",
    "results_df = pd.DataFrame(results)\n",
    "results_df.columns = ['obs_exon_cnt', 'exp_exon_cnt','obs_intron_cnt', 'exp_intron_cnt', 'empirical_pvalue']\n",
    "results_df"
   ]
  },
  {
   "cell_type": "code",
   "execution_count": null,
   "metadata": {
    "collapsed": true
   },
   "outputs": [],
   "source": [
    "(results_df[\"obs_exon_cnt\"]/results_df[\"exp_exon_cnt\"]-1)*100"
   ]
  },
  {
   "cell_type": "code",
   "execution_count": null,
   "metadata": {
    "collapsed": true
   },
   "outputs": [],
   "source": [
    "exonic_increase = (results_df[\"obs_exon_cnt\"]/results_df[\"exp_exon_cnt\"]-1)*100\n",
    "exonic_increase"
   ]
  },
  {
   "cell_type": "code",
   "execution_count": null,
   "metadata": {
    "collapsed": true
   },
   "outputs": [],
   "source": [
    "rand_output['increase'] = (exonic_obs/rand_output['exon_Exp']-1)*100\n",
    "error = (st.stdev(rand_output['increase'].tolist())/np.sqrt(1000))\n",
    "(exonic_increase-error, exonic_increase+error)"
   ]
  },
  {
   "cell_type": "markdown",
   "metadata": {},
   "source": [
    "## Load healthy data"
   ]
  },
  {
   "cell_type": "code",
   "execution_count": null,
   "metadata": {
    "collapsed": true
   },
   "outputs": [],
   "source": [
    "# Get the mutations\n",
    "sample_mutations_file = mutations_folder + 'germinal_healthy.bed.gz'\n",
    "sample_mutations_df = pd.read_csv(sample_mutations_file, sep=\"\\t\", header=None)\n",
    "sample_mutations_df.columns = ['chr', 'start', 'end', 'ref', 'alt', 'sample', 'type', 'class', 'ID']\n",
    "sample_mutations_df = sample_mutations_df[['chr', 'start', 'end', 'ref', 'alt', 'sample', 'type', 'ID']]\n",
    "sample_mutations_df = sample_mutations_df[sample_mutations_df['type'] == 'subs']"
   ]
  },
  {
   "cell_type": "markdown",
   "metadata": {},
   "source": [
    "### 3-mer, healthy, synonymous"
   ]
  },
  {
   "cell_type": "code",
   "execution_count": null,
   "metadata": {
    "collapsed": true
   },
   "outputs": [],
   "source": [
    "k = 3\n",
    "middle_distance_threshold = 1000\n",
    "signatures_file = 'results/' + str(k) + 'mer_signatures_healthy.txt'\n",
    "include = 'synonymous'\n",
    "\n",
    "(exons_centered_results, exonic_obs, intronic_obs) = stacked_sequence_level_permutation_excluding(sample_mutations_df,\n",
    "                                    exons_coords_symbol_df, signatures_file, tumor_type, middle_distance_threshold,\n",
    "                                    k, include, tb_consequence_type, consequence_rank_dict)\n",
    "\n",
    "exons_centered_results = pd.DataFrame.transpose(exons_centered_results)\n",
    "exons_centered_results.to_csv(path.join('results', 'exons_centered_' + str(k) + 'mer_permut_' + include +\n",
    "                                        '_healthy.tsv'), sep=\"\\t\", header=True, index=False)"
   ]
  },
  {
   "cell_type": "markdown",
   "metadata": {},
   "source": [
    "#### Compute emprical p-value"
   ]
  },
  {
   "cell_type": "code",
   "execution_count": null,
   "metadata": {
    "collapsed": true
   },
   "outputs": [],
   "source": [
    "(exonic_obs, intronic_obs) = (404, 15657)\n",
    "include = 'synonymous'"
   ]
  },
  {
   "cell_type": "code",
   "execution_count": null,
   "metadata": {
    "collapsed": true,
    "scrolled": false
   },
   "outputs": [],
   "source": [
    "k = 3\n",
    "results = []\n",
    "RANDOMIZATION = 1000\n",
    "    \n",
    "# Read the expected exon and intron mutation counts from permutations\n",
    "rand_output = pd.read_csv(path.join('results', 'exons_centered_' + str(k) + 'mer_permut_' + include + '_healthy.tsv'),\n",
    "                            sep=\"\\t\")\n",
    "    \n",
    "# count the number of times the expected exon mutations is higher than the observed\n",
    "count = len(rand_output[rand_output['exon_Exp'] <= exonic_obs])\n",
    "    \n",
    "if count == 0:\n",
    "    count = 1 \n",
    "    \n",
    "results.append([exonic_obs, rand_output['exon_Exp'].mean(), intronic_obs, rand_output['intron_Exp'].mean(),\n",
    "                            count/RANDOMIZATION])\n",
    "    \n",
    "results_df = pd.DataFrame(results)\n",
    "results_df.columns = ['obs_exon_cnt', 'exp_exon_cnt','obs_intron_cnt', 'exp_intron_cnt', 'empirical_pvalue']\n",
    "results_df"
   ]
  },
  {
   "cell_type": "code",
   "execution_count": null,
   "metadata": {
    "collapsed": true
   },
   "outputs": [],
   "source": [
    "(results_df[\"obs_exon_cnt\"]/results_df[\"exp_exon_cnt\"]-1)*100"
   ]
  },
  {
   "cell_type": "code",
   "execution_count": null,
   "metadata": {
    "collapsed": true
   },
   "outputs": [],
   "source": [
    "exonic_increase = (results_df[\"obs_exon_cnt\"]/results_df[\"exp_exon_cnt\"]-1)*100\n",
    "exonic_increase"
   ]
  },
  {
   "cell_type": "code",
   "execution_count": null,
   "metadata": {
    "collapsed": true
   },
   "outputs": [],
   "source": [
    "rand_output['increase'] = (exonic_obs/rand_output['exon_Exp']-1)*100\n",
    "error = (st.stdev(rand_output['increase'].tolist())/np.sqrt(1000))\n",
    "(exonic_increase-error, exonic_increase+error)"
   ]
  },
  {
   "cell_type": "markdown",
   "metadata": {},
   "source": [
    "### 3-mer, healthy, non-synonymous"
   ]
  },
  {
   "cell_type": "code",
   "execution_count": null,
   "metadata": {
    "collapsed": true
   },
   "outputs": [],
   "source": [
    "k = 3\n",
    "middle_distance_threshold = 1000\n",
    "signatures_file = 'results/' + str(k) + 'mer_signatures_healthy.txt'\n",
    "include = 'non_synonymous'\n",
    "\n",
    "(exons_centered_results, exonic_obs, intronic_obs) = stacked_sequence_level_permutation_excluding(sample_mutations_df,\n",
    "                                    exons_coords_symbol_df, signatures_file, tumor_type, middle_distance_threshold,\n",
    "                                    k, include, tb_consequence_type, consequence_rank_dict)\n",
    "\n",
    "exons_centered_results = pd.DataFrame.transpose(exons_centered_results)\n",
    "exons_centered_results.to_csv(path.join('results', 'exons_centered_' + str(k) + 'mer_permut_' + include +\n",
    "                                        '_healthy.tsv'), sep=\"\\t\", header=True, index=False)"
   ]
  },
  {
   "cell_type": "markdown",
   "metadata": {},
   "source": [
    "#### Compute emprical p-value"
   ]
  },
  {
   "cell_type": "code",
   "execution_count": null,
   "metadata": {
    "collapsed": true
   },
   "outputs": [],
   "source": [
    "(exonic_obs, intronic_obs) = (1085, 15657)\n",
    "include = 'non_synonymous'"
   ]
  },
  {
   "cell_type": "code",
   "execution_count": null,
   "metadata": {
    "collapsed": true
   },
   "outputs": [],
   "source": [
    "results = []\n",
    "RANDOMIZATION = 1000\n",
    "    \n",
    "# Read the expected exon and intron mutation counts from permutations\n",
    "rand_output = pd.read_csv(path.join('results', 'exons_centered_' + str(k) + 'mer_permut_' + include + '_healthy.tsv'),\n",
    "                            sep=\"\\t\")\n",
    "    \n",
    "# count the number of times the expected exon mutations is higher than the observed\n",
    "count = len(rand_output[rand_output['exon_Exp'] >= exonic_obs])\n",
    "    \n",
    "if count == 0:\n",
    "    count = 1 \n",
    "    \n",
    "results.append([exonic_obs, rand_output['exon_Exp'].mean(), intronic_obs, rand_output['intron_Exp'].mean(),\n",
    "                            count/RANDOMIZATION])\n",
    "    \n",
    "results_df = pd.DataFrame(results)\n",
    "results_df.columns = ['obs_exon_cnt', 'exp_exon_cnt','obs_intron_cnt', 'exp_intron_cnt', 'empirical_pvalue']\n",
    "results_df"
   ]
  },
  {
   "cell_type": "code",
   "execution_count": null,
   "metadata": {
    "collapsed": true
   },
   "outputs": [],
   "source": [
    "(results_df[\"obs_exon_cnt\"]/results_df[\"exp_exon_cnt\"]-1)*100"
   ]
  },
  {
   "cell_type": "code",
   "execution_count": null,
   "metadata": {
    "collapsed": true
   },
   "outputs": [],
   "source": [
    "exonic_increase = (results_df[\"obs_exon_cnt\"]/results_df[\"exp_exon_cnt\"]-1)*100\n",
    "exonic_increase"
   ]
  },
  {
   "cell_type": "code",
   "execution_count": null,
   "metadata": {
    "collapsed": true
   },
   "outputs": [],
   "source": [
    "rand_output['increase'] = (exonic_obs/rand_output['exon_Exp']-1)*100\n",
    "error = (st.stdev(rand_output['increase'].tolist())/np.sqrt(1000))\n",
    "(exonic_increase-error, exonic_increase+error)"
   ]
  },
  {
   "cell_type": "markdown",
   "metadata": {},
   "source": [
    "## Load autism data"
   ]
  },
  {
   "cell_type": "code",
   "execution_count": null,
   "metadata": {
    "collapsed": true
   },
   "outputs": [],
   "source": [
    "# Get the mutations\n",
    "sample_mutations_file = mutations_folder + 'germinal_autism.bed.gz'\n",
    "sample_mutations_df = pd.read_csv(sample_mutations_file, sep=\"\\t\", header=None)\n",
    "sample_mutations_df.columns = ['chr', 'start', 'end', 'ref', 'alt', 'sample', 'type', 'class', 'ID']\n",
    "sample_mutations_df = sample_mutations_df[['chr', 'start', 'end', 'ref', 'alt', 'sample', 'type', 'ID']]\n",
    "sample_mutations_df = sample_mutations_df[sample_mutations_df['type'] == 'subs']"
   ]
  },
  {
   "cell_type": "markdown",
   "metadata": {},
   "source": [
    "### 3-mer, random sample, synonymous"
   ]
  },
  {
   "cell_type": "code",
   "execution_count": null,
   "metadata": {
    "collapsed": true
   },
   "outputs": [],
   "source": [
    "k = 3\n",
    "middle_distance_threshold = 1000\n",
    "signatures_file = 'results/' + str(k) + 'mer_signatures_autism.txt'\n",
    "include = 'synonymous'\n",
    "\n",
    "(exons_centered_results, exonic_obs, intronic_obs) = stacked_sequence_level_permutation_excluding(sample_mutations_df,\n",
    "                                    exons_coords_symbol_df, signatures_file, tumor_type, middle_distance_threshold,\n",
    "                                    k, include, tb_consequence_type, consequence_rank_dict)\n",
    "\n",
    "exons_centered_results = pd.DataFrame.transpose(exons_centered_results)\n",
    "exons_centered_results.to_csv(path.join('results', 'exons_centered_' + str(k) + 'mer_permut_' + include +\n",
    "                                        '_autism.tsv'), sep=\"\\t\", header=True, index=False)"
   ]
  },
  {
   "cell_type": "markdown",
   "metadata": {},
   "source": [
    "#### Compute emprical p-value"
   ]
  },
  {
   "cell_type": "code",
   "execution_count": null,
   "metadata": {
    "collapsed": true
   },
   "outputs": [],
   "source": [
    "(exonic_obs, intronic_obs) = (406, 16066)\n",
    "include = 'synonymous'"
   ]
  },
  {
   "cell_type": "code",
   "execution_count": null,
   "metadata": {
    "collapsed": true,
    "scrolled": false
   },
   "outputs": [],
   "source": [
    "k = 3\n",
    "results = []\n",
    "RANDOMIZATION = 1000\n",
    "    \n",
    "# Read the expected exon and intron mutation counts from permutations\n",
    "rand_output = pd.read_csv(path.join('results', 'exons_centered_' + str(k) + 'mer_permut_' + include + '_autism.tsv'),\n",
    "                            sep=\"\\t\")\n",
    "    \n",
    "# count the number of times the expected exon mutations is higher than the observed\n",
    "count = len(rand_output[rand_output['exon_Exp'] <= exonic_obs])\n",
    "    \n",
    "if count == 0:\n",
    "    count = 1 \n",
    "    \n",
    "results.append([exonic_obs, rand_output['exon_Exp'].mean(), intronic_obs, rand_output['intron_Exp'].mean(),\n",
    "                            count/RANDOMIZATION])\n",
    "    \n",
    "results_df = pd.DataFrame(results)\n",
    "results_df.columns = ['obs_exon_cnt', 'exp_exon_cnt','obs_intron_cnt', 'exp_intron_cnt', 'empirical_pvalue']\n",
    "results_df"
   ]
  },
  {
   "cell_type": "code",
   "execution_count": null,
   "metadata": {
    "collapsed": true
   },
   "outputs": [],
   "source": [
    "(results_df[\"exp_exon_cnt\"]/results_df[\"obs_exon_cnt\"]-1)*100"
   ]
  },
  {
   "cell_type": "code",
   "execution_count": null,
   "metadata": {
    "collapsed": true
   },
   "outputs": [],
   "source": [
    "exonic_increase = (results_df[\"obs_exon_cnt\"]/results_df[\"exp_exon_cnt\"]-1)*100\n",
    "exonic_increase"
   ]
  },
  {
   "cell_type": "code",
   "execution_count": null,
   "metadata": {
    "collapsed": true
   },
   "outputs": [],
   "source": [
    "rand_output['increase'] = (exonic_obs/rand_output['exon_Exp']-1)*100\n",
    "error = (st.stdev(rand_output['increase'].tolist())/np.sqrt(1000))\n",
    "(exonic_increase-error, exonic_increase+error)"
   ]
  },
  {
   "cell_type": "markdown",
   "metadata": {},
   "source": [
    "### 3-mer, random sample, non-synonymous"
   ]
  },
  {
   "cell_type": "code",
   "execution_count": null,
   "metadata": {
    "collapsed": true
   },
   "outputs": [],
   "source": [
    "k = 3\n",
    "middle_distance_threshold = 1000\n",
    "signatures_file = 'results/' + str(k) + 'mer_signatures_autism.txt'\n",
    "include = 'non_synonymous'\n",
    "\n",
    "(exons_centered_results, exonic_obs, intronic_obs) = stacked_sequence_level_permutation_excluding(sample_mutations_df,\n",
    "                                    exons_coords_symbol_df, signatures_file, tumor_type, middle_distance_threshold,\n",
    "                                    k, include, tb_consequence_type, consequence_rank_dict)\n",
    "\n",
    "exons_centered_results = pd.DataFrame.transpose(exons_centered_results)\n",
    "exons_centered_results.to_csv(path.join('results', 'exons_centered_' + str(k) + 'mer_permut_' + include +\n",
    "                                        '_autism.tsv'), sep=\"\\t\", header=True, index=False)"
   ]
  },
  {
   "cell_type": "markdown",
   "metadata": {},
   "source": [
    "#### Compute emprical p-value"
   ]
  },
  {
   "cell_type": "code",
   "execution_count": null,
   "metadata": {
    "collapsed": true
   },
   "outputs": [],
   "source": [
    "(exonic_obs, intronic_obs) = (1241, 16066)\n",
    "include = 'non_synonymous'"
   ]
  },
  {
   "cell_type": "code",
   "execution_count": null,
   "metadata": {
    "collapsed": true
   },
   "outputs": [],
   "source": [
    "results = []\n",
    "RANDOMIZATION = 1000\n",
    "    \n",
    "# Read the expected exon and intron mutation counts from permutations\n",
    "rand_output = pd.read_csv(path.join('results', 'exons_centered_' + str(k) + 'mer_permut_' + include + '_autism.tsv'),\n",
    "                            sep=\"\\t\")\n",
    "    \n",
    "# count the number of times the expected exon mutations is higher than the observed\n",
    "count = len(rand_output[rand_output['exon_Exp'] >= exonic_obs])\n",
    "    \n",
    "if count == 0:\n",
    "    count = 1 \n",
    "    \n",
    "results.append([exonic_obs, rand_output['exon_Exp'].mean(), intronic_obs, rand_output['intron_Exp'].mean(),\n",
    "                            count/RANDOMIZATION])\n",
    "    \n",
    "results_df = pd.DataFrame(results)\n",
    "results_df.columns = ['obs_exon_cnt', 'exp_exon_cnt','obs_intron_cnt', 'exp_intron_cnt', 'empirical_pvalue']\n",
    "results_df"
   ]
  },
  {
   "cell_type": "code",
   "execution_count": null,
   "metadata": {
    "collapsed": true
   },
   "outputs": [],
   "source": [
    "(results_df[\"obs_exon_cnt\"]/results_df[\"exp_exon_cnt\"]-1)*100"
   ]
  },
  {
   "cell_type": "code",
   "execution_count": null,
   "metadata": {
    "collapsed": true
   },
   "outputs": [],
   "source": [
    "exonic_increase =(results_df[\"obs_exon_cnt\"]/results_df[\"exp_exon_cnt\"]-1)*100\n",
    "exonic_increase"
   ]
  },
  {
   "cell_type": "code",
   "execution_count": null,
   "metadata": {
    "collapsed": true
   },
   "outputs": [],
   "source": [
    "rand_output['increase'] = (exonic_obs/rand_output['exon_Exp']-1)*100\n",
    "error = (st.stdev(rand_output['increase'].tolist())/np.sqrt(1000))\n",
    "(exonic_increase-error, exonic_increase+error)"
   ]
  },
  {
   "cell_type": "markdown",
   "metadata": {
    "collapsed": true
   },
   "source": [
    "## Context dependency analysis, Golden dataset (Goldmann2018)"
   ]
  },
  {
   "cell_type": "code",
   "execution_count": null,
   "metadata": {
    "collapsed": true
   },
   "outputs": [],
   "source": [
    "sub_mutations_df = mutations_df[mutations_df['sample'] == 'Goldmann2018']"
   ]
  },
  {
   "cell_type": "markdown",
   "metadata": {},
   "source": [
    "### 1-mer"
   ]
  },
  {
   "cell_type": "code",
   "execution_count": null,
   "metadata": {
    "collapsed": true
   },
   "outputs": [],
   "source": [
    "k = 1\n",
    "middle_distance_threshold = 1000\n",
    "signatures_file = 'results/' + str(k) + 'mer_signatures_DNM_golden.txt'\n",
    "\n",
    "(exons_centered_results, exonic_obs, intronic_obs) = stacked_sequence_level_permutation(sub_mutations_df,\n",
    "                        exons_coords_symbol_df, signatures_file, tumor_type, middle_distance_threshold, k)\n",
    "\n",
    "exons_centered_results = pd.DataFrame.transpose(exons_centered_results)\n",
    "exons_centered_results.to_csv(path.join('results', 'exons_centered_' + str(k) + 'mer_permut_golden.tsv'), sep=\"\\t\",\n",
    "                               header=True, index=False)"
   ]
  },
  {
   "cell_type": "markdown",
   "metadata": {},
   "source": [
    "#### Compute emprical p-value"
   ]
  },
  {
   "cell_type": "code",
   "execution_count": null,
   "metadata": {
    "collapsed": true
   },
   "outputs": [],
   "source": [
    "k = 1\n",
    "results = []\n",
    "RANDOMIZATION = 1000\n",
    "    \n",
    "# Read the expected exon and intron mutation counts from permutations\n",
    "rand_output = pd.read_csv(path.join('results', 'exons_centered_' + str(k) + 'mer_permut_golden.tsv'), sep=\"\\t\")\n",
    "    \n",
    "# count the number of times the expected exon mutations is higher than the observed\n",
    "count = len(rand_output[rand_output['exon_Exp'] >= exonic_obs])\n",
    "    \n",
    "if count == 0:\n",
    "    count = 1 \n",
    "    \n",
    "results.append([exonic_obs, rand_output['exon_Exp'].mean(), intronic_obs, rand_output['intron_Exp'].mean(), count/RANDOMIZATION])\n",
    "    \n",
    "results_df = pd.DataFrame(results)\n",
    "results_df.columns = ['obs_exon_cnt', 'exp_exon_cnt','obs_intron_cnt', 'exp_intron_cnt', 'empirical_pvalue']\n",
    "results_df"
   ]
  },
  {
   "cell_type": "code",
   "execution_count": null,
   "metadata": {
    "collapsed": true
   },
   "outputs": [],
   "source": [
    "exonic_increase = (results_df[\"obs_exon_cnt\"]/results_df[\"exp_exon_cnt\"]-1)*100\n",
    "exonic_increase"
   ]
  },
  {
   "cell_type": "code",
   "execution_count": null,
   "metadata": {
    "collapsed": true
   },
   "outputs": [],
   "source": [
    "rand_output['increase'] = (exonic_obs/rand_output['exon_Exp']-1)*100\n",
    "error = (st.stdev(rand_output['increase'].tolist())/np.sqrt(1000))\n",
    "(exonic_increase-error, exonic_increase+error)"
   ]
  },
  {
   "cell_type": "markdown",
   "metadata": {},
   "source": [
    "### 1-mer with CpG"
   ]
  },
  {
   "cell_type": "code",
   "execution_count": null,
   "metadata": {
    "collapsed": true
   },
   "outputs": [],
   "source": [
    "k = 3\n",
    "middle_distance_threshold = 1000\n",
    "signatures_file = 'results/CpG_signatures_DNM_golden.txt'\n",
    "\n",
    "(exons_centered_results, exonic_obs, intronic_obs) = stacked_sequence_level_permutation_CpG(sub_mutations_df,\n",
    "                        exons_coords_symbol_df, signatures_file, tumor_type, middle_distance_threshold, k)\n",
    "\n",
    "exons_centered_results = pd.DataFrame.transpose(exons_centered_results)\n",
    "exons_centered_results.to_csv(path.join('results', 'exons_centered_CpGmer_permut_golden.tsv'), sep=\"\\t\",\n",
    "                               header=True, index=False)"
   ]
  },
  {
   "cell_type": "markdown",
   "metadata": {},
   "source": [
    "#### Compute emprical p-value"
   ]
  },
  {
   "cell_type": "code",
   "execution_count": null,
   "metadata": {
    "collapsed": true
   },
   "outputs": [],
   "source": [
    "results = []\n",
    "RANDOMIZATION = 1000\n",
    "    \n",
    "# Read the expected exon and intron mutation counts from permutations\n",
    "rand_output = pd.read_csv(path.join('results', 'exons_centered_CpGmer_permut_golden.tsv'), sep=\"\\t\")\n",
    "    \n",
    "# count the number of times the expected exon mutations is higher than the observed\n",
    "count = len(rand_output[rand_output['exon_Exp'] >= exonic_obs])\n",
    "    \n",
    "if count == 0:\n",
    "    count = 1 \n",
    "    \n",
    "results.append([exonic_obs, rand_output['exon_Exp'].mean(), intronic_obs, rand_output['intron_Exp'].mean(), count/RANDOMIZATION])\n",
    "    \n",
    "results_df = pd.DataFrame(results)\n",
    "results_df.columns = ['obs_exon_cnt', 'exp_exon_cnt','obs_intron_cnt', 'exp_intron_cnt', 'empirical_pvalue']\n",
    "results_df"
   ]
  },
  {
   "cell_type": "code",
   "execution_count": null,
   "metadata": {
    "collapsed": true
   },
   "outputs": [],
   "source": [
    "exonic_increase = (results_df[\"obs_exon_cnt\"]/results_df[\"exp_exon_cnt\"]-1)*100\n",
    "exonic_increase"
   ]
  },
  {
   "cell_type": "code",
   "execution_count": null,
   "metadata": {
    "collapsed": true
   },
   "outputs": [],
   "source": [
    "rand_output['increase'] = (exonic_obs/rand_output['exon_Exp']-1)*100\n",
    "error = (st.stdev(rand_output['increase'].tolist())/np.sqrt(1000))\n",
    "(exonic_increase-error, exonic_increase+error)"
   ]
  },
  {
   "cell_type": "markdown",
   "metadata": {},
   "source": [
    "### 3-mer"
   ]
  },
  {
   "cell_type": "code",
   "execution_count": null,
   "metadata": {
    "collapsed": true
   },
   "outputs": [],
   "source": [
    "k = 3\n",
    "middle_distance_threshold = 1000\n",
    "signatures_file = 'results/' + str(k) + 'mer_signatures_DNM_golden.txt'\n",
    "\n",
    "(exons_centered_results, exonic_obs, intronic_obs) = stacked_sequence_level_permutation(sub_mutations_df,\n",
    "                        exons_coords_symbol_df, signatures_file, tumor_type, middle_distance_threshold, k)\n",
    "\n",
    "exons_centered_results = pd.DataFrame.transpose(exons_centered_results)\n",
    "exons_centered_results.to_csv(path.join('results', 'exons_centered_' + str(k) + 'mer_permut_golden.tsv'), sep=\"\\t\",\n",
    "                               header=True, index=False)"
   ]
  },
  {
   "cell_type": "markdown",
   "metadata": {},
   "source": [
    "#### Compute emprical p-value"
   ]
  },
  {
   "cell_type": "code",
   "execution_count": null,
   "metadata": {
    "collapsed": true
   },
   "outputs": [],
   "source": [
    "k = 3\n",
    "results = []\n",
    "RANDOMIZATION = 1000\n",
    "    \n",
    "# Read the expected exon and intron mutation counts from permutations\n",
    "rand_output = pd.read_csv(path.join('results', 'exons_centered_' + str(k) + 'mer_permut_golden.tsv'), sep=\"\\t\")\n",
    "    \n",
    "# count the number of times the expected exon mutations is higher than the observed\n",
    "count = len(rand_output[rand_output['exon_Exp'] >= exonic_obs])\n",
    "    \n",
    "if count == 0:\n",
    "    count = 1 \n",
    "    \n",
    "results.append([exonic_obs, rand_output['exon_Exp'].mean(), intronic_obs, rand_output['intron_Exp'].mean(), count/RANDOMIZATION])\n",
    "    \n",
    "results_df = pd.DataFrame(results)\n",
    "results_df.columns = ['obs_exon_cnt', 'exp_exon_cnt','obs_intron_cnt', 'exp_intron_cnt', 'empirical_pvalue']\n",
    "results_df"
   ]
  },
  {
   "cell_type": "code",
   "execution_count": null,
   "metadata": {
    "collapsed": true
   },
   "outputs": [],
   "source": [
    "exonic_increase = (results_df[\"obs_exon_cnt\"]/results_df[\"exp_exon_cnt\"]-1)*100\n",
    "exonic_increase"
   ]
  },
  {
   "cell_type": "code",
   "execution_count": null,
   "metadata": {
    "collapsed": true
   },
   "outputs": [],
   "source": [
    "rand_output['increase'] = (exonic_obs/rand_output['exon_Exp']-1)*100\n",
    "error = (st.stdev(rand_output['increase'].tolist())/np.sqrt(1000))\n",
    "(exonic_increase-error, exonic_increase+error)"
   ]
  },
  {
   "cell_type": "markdown",
   "metadata": {},
   "source": [
    "### 5-mer"
   ]
  },
  {
   "cell_type": "code",
   "execution_count": null,
   "metadata": {
    "collapsed": true
   },
   "outputs": [],
   "source": [
    "k = 5\n",
    "middle_distance_threshold = 1000\n",
    "signatures_file = 'results/' + str(k) + 'mer_DNM_signatures_decomp_golden.txt'\n",
    "\n",
    "(exons_centered_results, exonic_obs, intronic_obs) = stacked_sequence_level_permutation(sub_mutations_df,\n",
    "                        exons_coords_symbol_df, signatures_file, tumor_type, middle_distance_threshold, k)\n",
    "\n",
    "exons_centered_results = pd.DataFrame.transpose(exons_centered_results)\n",
    "exons_centered_results.to_csv(path.join('results', 'exons_centered_' + str(k) + 'mer_permut_golden.tsv'), sep=\"\\t\",\n",
    "                               header=True, index=False)"
   ]
  },
  {
   "cell_type": "markdown",
   "metadata": {},
   "source": [
    "#### Compute emprical p-value"
   ]
  },
  {
   "cell_type": "code",
   "execution_count": null,
   "metadata": {
    "collapsed": true
   },
   "outputs": [],
   "source": [
    "k = 5\n",
    "results = []\n",
    "RANDOMIZATION = 1000\n",
    "    \n",
    "# Read the expected exon and intron mutation counts from permutations\n",
    "rand_output = pd.read_csv(path.join('results', 'exons_centered_' + str(k) + 'mer_permut_golden.tsv'), sep=\"\\t\")\n",
    "    \n",
    "# count the number of times the expected exon mutations is higher than the observed\n",
    "count = len(rand_output[rand_output['exon_Exp'] >= exonic_obs])\n",
    "    \n",
    "if count == 0:\n",
    "    count = 1 \n",
    "    \n",
    "results.append([exonic_obs, rand_output['exon_Exp'].mean(), intronic_obs, rand_output['intron_Exp'].mean(), count/RANDOMIZATION])\n",
    "    \n",
    "results_df = pd.DataFrame(results)\n",
    "results_df.columns = ['obs_exon_cnt', 'exp_exon_cnt','obs_intron_cnt', 'exp_intron_cnt', 'empirical_pvalue']\n",
    "results_df"
   ]
  },
  {
   "cell_type": "code",
   "execution_count": null,
   "metadata": {
    "collapsed": true
   },
   "outputs": [],
   "source": [
    "exonic_increase = (results_df[\"obs_exon_cnt\"]/results_df[\"exp_exon_cnt\"]-1)*100\n",
    "exonic_increase"
   ]
  },
  {
   "cell_type": "code",
   "execution_count": null,
   "metadata": {
    "collapsed": true
   },
   "outputs": [],
   "source": [
    "rand_output['increase'] = (exonic_obs/rand_output['exon_Exp']-1)*100\n",
    "error = (st.stdev(rand_output['increase'].tolist())/np.sqrt(1000))\n",
    "(exonic_increase-error, exonic_increase+error)"
   ]
  },
  {
   "cell_type": "markdown",
   "metadata": {},
   "source": [
    "### 7-mer"
   ]
  },
  {
   "cell_type": "code",
   "execution_count": null,
   "metadata": {
    "collapsed": true
   },
   "outputs": [],
   "source": [
    "k = 7\n",
    "middle_distance_threshold = 1000\n",
    "signatures_file = 'results/' + str(k) + 'mer_DNM_signatures_decomp_golden.txt'\n",
    "\n",
    "(exons_centered_results, exonic_obs, intronic_obs) = stacked_sequence_level_permutation(sub_mutations_df,\n",
    "                        exons_coords_symbol_df, signatures_file, tumor_type, middle_distance_threshold, k)\n",
    "\n",
    "exons_centered_results = pd.DataFrame.transpose(exons_centered_results)\n",
    "exons_centered_results.to_csv(path.join('results', 'exons_centered_' + str(k) + 'mer_permut_golden.tsv'), sep=\"\\t\",\n",
    "                               header=True, index=False)"
   ]
  },
  {
   "cell_type": "markdown",
   "metadata": {},
   "source": [
    "#### Compute emprical p-value"
   ]
  },
  {
   "cell_type": "code",
   "execution_count": null,
   "metadata": {
    "collapsed": true
   },
   "outputs": [],
   "source": [
    "k = 7\n",
    "results = []\n",
    "RANDOMIZATION = 1000\n",
    "    \n",
    "# Read the expected exon and intron mutation counts from permutations\n",
    "rand_output = pd.read_csv(path.join('results', 'exons_centered_' + str(k) + 'mer_permut_golden.tsv'), sep=\"\\t\")\n",
    "    \n",
    "# count the number of times the expected exon mutations is higher than the observed\n",
    "count = len(rand_output[rand_output['exon_Exp'] >= exonic_obs])\n",
    "    \n",
    "if count == 0:\n",
    "    count = 1 \n",
    "    \n",
    "results.append([exonic_obs, rand_output['exon_Exp'].mean(), intronic_obs, rand_output['intron_Exp'].mean(), count/RANDOMIZATION])\n",
    "    \n",
    "results_df = pd.DataFrame(results)\n",
    "results_df.columns = ['obs_exon_cnt', 'exp_exon_cnt','obs_intron_cnt', 'exp_intron_cnt', 'empirical_pvalue']\n",
    "results_df"
   ]
  },
  {
   "cell_type": "code",
   "execution_count": null,
   "metadata": {
    "collapsed": true
   },
   "outputs": [],
   "source": [
    "exonic_increase = (results_df[\"obs_exon_cnt\"]/results_df[\"exp_exon_cnt\"]-1)*100\n",
    "exonic_increase"
   ]
  },
  {
   "cell_type": "code",
   "execution_count": null,
   "metadata": {
    "collapsed": true
   },
   "outputs": [],
   "source": [
    "rand_output['increase'] = (exonic_obs/rand_output['exon_Exp']-1)*100\n",
    "error = (st.stdev(rand_output['increase'].tolist())/np.sqrt(1000))\n",
    "(exonic_increase-error, exonic_increase+error)"
   ]
  },
  {
   "cell_type": "code",
   "execution_count": null,
   "metadata": {
    "collapsed": true
   },
   "outputs": [],
   "source": []
  }
 ],
 "metadata": {
  "anaconda-cloud": {},
  "kernelspec": {
   "display_name": "Python 3",
   "language": "python",
   "name": "python3"
  },
  "language_info": {
   "codemirror_mode": {
    "name": "ipython",
    "version": 3
   },
   "file_extension": ".py",
   "mimetype": "text/x-python",
   "name": "python",
   "nbconvert_exporter": "python",
   "pygments_lexer": "ipython3",
   "version": "3.6.1"
  }
 },
 "nbformat": 4,
 "nbformat_minor": 1
}
