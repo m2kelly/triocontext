{
 "cells": [
  {
   "cell_type": "markdown",
   "metadata": {},
   "source": [
    "# Sequences filtering\n",
    "\n",
    "The aim of this notebook is to filter intron and exon coordinates by excluding regions with low coverage, UCSC blacklisted regions, low complexitiy regions and regions with alignment issues. \n",
    "\n",
    "For more information see the **Genomic coordinates of exons and flanking introns** section in the Materials and Methods.\n",
    "\n",
    "---\n",
    "\n",
    "## Output\n",
    "\n",
    "Two files *germinal_filtered_introns_coords.txt* and *germinal_filtered_exons_coords.txt* with the filtered valid sequences are generated. These files are used for the regression of H3K36me3 and nucleosomes by bins of genes (Figure 4 and Supplementary Figure S6).\n",
    "\n",
    "The output files are not saved in the **results** folder but in **data/coordinates**.\n",
    "\n",
    "The output files are tabulated files with 4 columns: chromosome, start, stop and Ensembl identifier."
   ]
  },
  {
   "cell_type": "code",
   "execution_count": 1,
   "metadata": {
    "collapsed": true,
    "scrolled": false
   },
   "outputs": [],
   "source": [
    "from os import path\n",
    "\n",
    "import pandas as pd\n",
    "import pybedtools"
   ]
  },
  {
   "cell_type": "markdown",
   "metadata": {},
   "source": [
    "## Input\n",
    "\n",
    "Files in the **data** directory. There is more information about them in the ``README`` file in that folder.\n",
    "\n",
    "- *intron_coords*: file with the coordinates of the introns\n",
    "\n",
    "- *middle_exons_coords*: file with the coordinates of the middle exons\n",
    "\n",
    "- *ucsc_blacklisted_file*: file with blacklisted regions due to low complexity or low mappability\n",
    "\n",
    "- *low_complexity_file*: file with low complexity regions\n",
    "    \n",
    "- *alignability_file*: file with the regions *without* alignability problems\n"
   ]
  },
  {
   "cell_type": "code",
   "execution_count": 2,
   "metadata": {
    "collapsed": true
   },
   "outputs": [],
   "source": [
    "# Data\n",
    "introns_coords = 'data/coordinates/genes_intron_coords.bed.gz'\n",
    "middle_exons_coords = 'data/coordinates/genes_middle_exon_coords.bed.gz'\n",
    "\n",
    "ucsc_blacklisted_file = 'data/mappability/ucsc_blacklist.bed.gz'\n",
    "low_complexity_file = 'data/mappability/hg19_low_complexity_regions.gz'\n",
    "alignability_file = 'data/mappability/wgEncodeCrgMapabilityAlign36mer_score1.bed.gz'"
   ]
  },
  {
   "cell_type": "code",
   "execution_count": 3,
   "metadata": {
    "collapsed": true
   },
   "outputs": [],
   "source": [
    "# Read input files\n",
    "exons_coords_df = pd.read_csv(middle_exons_coords, sep=\"\\t\", header=None, low_memory=False)\n",
    "    \n",
    "introns_coords_df = pd.read_csv(introns_coords, sep=\"\\t\", header=None, low_memory=False)\n",
    "\n",
    "exons_coords_df.columns = ['chr', 'start', 'end', 'ensembl', 'symbol', 'strand']\n",
    "introns_coords_df.columns = ['chr', 'start', 'end', 'ensembl', 'symbol', 'strand']\n",
    "\n",
    "exons_coords_symbol_df = exons_coords_df[['chr', 'start', 'end', 'ensembl']]\n",
    "introns_coords_symbol_df = introns_coords_df[['chr', 'start', 'end', 'ensembl']]"
   ]
  },
  {
   "cell_type": "code",
   "execution_count": 4,
   "metadata": {
    "collapsed": true
   },
   "outputs": [],
   "source": [
    "exons_bp = sum(exons_coords_symbol_df['end'] - exons_coords_symbol_df['start'])\n",
    "introns_bp = sum(introns_coords_symbol_df['end'] - introns_coords_symbol_df['start'])"
   ]
  },
  {
   "cell_type": "code",
   "execution_count": 5,
   "metadata": {},
   "outputs": [
    {
     "name": "stdout",
     "output_type": "stream",
     "text": [
      "13632264 794037718\n"
     ]
    }
   ],
   "source": [
    "print(exons_bp, introns_bp)"
   ]
  },
  {
   "cell_type": "code",
   "execution_count": 6,
   "metadata": {
    "collapsed": true
   },
   "outputs": [],
   "source": [
    "exons_cov_bed = pybedtools.BedTool.from_dataframe(exons_coords_symbol_df) \n",
    "introns_cov_bed = pybedtools.BedTool.from_dataframe(introns_coords_symbol_df)"
   ]
  },
  {
   "cell_type": "code",
   "execution_count": null,
   "metadata": {
    "scrolled": false
   },
   "outputs": [
    {
     "name": "stdout",
     "output_type": "stream",
     "text": [
      "+ blacklisted regions:\t 99.9998532892 99.9802151716\n",
      "+ low complexity:\t 99.7365221213 99.399076531\n"
     ]
    }
   ],
   "source": [
    "\n",
    "# Filter blacklisted regions\n",
    "ucsc_blacklisted_df = pd.read_csv(ucsc_blacklisted_file, sep='\\t', header=None)\n",
    "\n",
    "ucsc_blacklisted_bed = pybedtools.BedTool.from_dataframe(ucsc_blacklisted_df)\n",
    "\n",
    "exons_cov_black = exons_cov_bed.subtract(ucsc_blacklisted_bed)\n",
    "introns_cov_black = introns_cov_bed.subtract(ucsc_blacklisted_bed)\n",
    "\n",
    "exons_cov_black_df = pd.read_table(exons_cov_black.fn, names=['chr', 'start', 'end', 'ensembl'])\n",
    "introns_cov_black_df = pd.read_table(introns_cov_black.fn, names=['chr', 'start', 'end', 'ensembl'])\n",
    "\n",
    "exons_bp_cov_black = sum(exons_cov_black_df['end'] - exons_cov_black_df['start'])\n",
    "introns_bp_cov_black = sum(introns_cov_black_df['end'] - introns_cov_black_df['start']) \n",
    "\n",
    "print('+ blacklisted regions:\\t', exons_bp_cov_black/exons_bp*100, introns_bp_cov_black/introns_bp*100)\n",
    "\n",
    "# Filter low complexity regions\n",
    "low_complexity_df = pd.read_csv(low_complexity_file, sep='\\t', header=None)\n",
    "\n",
    "low_complexity_bed = pybedtools.BedTool.from_dataframe(low_complexity_df)\n",
    "\n",
    "exons_cov_black_compl = exons_cov_black.subtract(low_complexity_bed)\n",
    "introns_cov_black_compl = introns_cov_black.subtract(low_complexity_bed)\n",
    "\n",
    "exons_cov_black_compl_df = pd.read_table(exons_cov_black_compl.fn, names=['chr', 'start', 'end', 'ensembl'])\n",
    "introns_cov_black_compl_df = pd.read_table(introns_cov_black_compl.fn, names=['chr', 'start', 'end', 'ensembl'])\n",
    "\n",
    "exons_bp_cov_black_compl = sum(exons_cov_black_compl_df['end'] - exons_cov_black_compl_df['start'])\n",
    "introns_bp_cov_black_compl = sum(introns_cov_black_compl_df['end'] - introns_cov_black_compl_df['start'])\n",
    "\n",
    "print('+ low complexity:\\t', exons_bp_cov_black_compl/exons_bp*100, introns_bp_cov_black_compl/introns_bp*100)\n",
    "\n",
    "# Filter regions with alignment problems    \n",
    "alignability_df = pd.read_csv(alignability_file, sep='\\t', header=None)\n",
    "\n",
    "alignability_bed = pybedtools.BedTool.from_dataframe(alignability_df)\n",
    "\n",
    "exon_cov_black_compl_align = exons_cov_black_compl.intersect(alignability_bed)\n",
    "intron_cov_black_compl_align = introns_cov_black_compl.intersect(alignability_bed)\n",
    "\n",
    "exons_cov_black_compl_align_df = pd.read_table(exon_cov_black_compl_align.fn, names=['chr', 'start', 'end', 'ensembl'])\n",
    "introns_cov_black_compl_align_df = pd.read_table(intron_cov_black_compl_align.fn, names=['chr', 'start', 'end', 'ensembl'])\n",
    "\n",
    "exons_bp_cov_black_compl_align = sum(exons_cov_black_compl_align_df['end'] - exons_cov_black_compl_align_df['start'])\n",
    "introns_bp_cov_black_compl_align = sum(introns_cov_black_compl_align_df['end'] - introns_cov_black_compl_align_df['start'])\n",
    "\n",
    "print('+ filtered:\\t\\t', exons_bp_cov_black_compl_align/exons_bp*100, introns_bp_cov_black_compl_align/introns_bp*100)\n",
    "    \n",
    "new_exons_coords_symbol_df = pd.read_table(exon_cov_black_compl_align.fn, names=['chr', 'start', 'position', 'ensembl'])\n",
    "new_introns_coords_symbol_df = pd.read_table(intron_cov_black_compl_align.fn, names=['chr', 'start', 'position', 'ensembl'])\n",
    "\n",
    "new_exons_coords_symbol_df.to_csv(path.join('data/coordinates/', 'germinal_filtered_exons_coords.txt'),\n",
    "                                      sep='\\t', header=True, index=None)\n",
    "new_introns_coords_symbol_df.to_csv(path.join('data/coordinates/', 'germinal_filtered_introns_coords.txt'),\n",
    "                                        sep='\\t', header=True, index=None)"
   ]
  },
  {
   "cell_type": "code",
   "execution_count": null,
   "metadata": {
    "collapsed": true
   },
   "outputs": [],
   "source": []
  }
 ],
 "metadata": {
  "anaconda-cloud": {},
  "kernelspec": {
   "display_name": "Python 3",
   "language": "python",
   "name": "python3"
  },
  "language_info": {
   "codemirror_mode": {
    "name": "ipython",
    "version": 3
   },
   "file_extension": ".py",
   "mimetype": "text/x-python",
   "name": "python",
   "nbconvert_exporter": "python",
   "pygments_lexer": "ipython3",
   "version": "3.6.1"
  }
 },
 "nbformat": 4,
 "nbformat_minor": 1
}
