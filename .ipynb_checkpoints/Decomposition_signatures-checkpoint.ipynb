{
 "cells": [
  {
   "cell_type": "markdown",
   "metadata": {},
   "source": [
    "# Decomposition signatures\n",
    "\n",
    "The aim of this notebook is to compute the probability of the different k-mer changes, so it can be used later on to compute the expected mutations. The computation is done using an aproximation of probability decomposition as detailed in the Methods section of the paper.\n",
    "\n",
    "---\n",
    "\n",
    "## Input\n",
    "\n",
    "Files in **data** directory.\n",
    "\n",
    "- *kmer_freq_file*: file that contains the counts of k-mers, which will be used for normalization.\n",
    "\n",
    "Files in **non_provided_data/mutations** directory.\n",
    "\n",
    "- *germinal_ultimate_dataset.bed.gz*: file containing the mutations.\n",
    "\n",
    "---\n",
    "\n",
    "## Output\n",
    "\n",
    "Files in **results** directory.\n",
    "\n",
    "- *kmer_DNM_signatures_decomp.txt*: files containing decomposed signatures from all datasets.\n",
    "- *kmer_DNM_signatures_decomp_golden.txt*: files containing decomposed signatures from Goldmann2018 dataset.\n",
    "- *kmer_DNM_signatures_decomp_Halldorsson.txt*: files containing decomposed signatures from Halldorsson2019 dataset.\n"
   ]
  },
  {
   "cell_type": "code",
   "execution_count": 1,
   "metadata": {
    "collapsed": true
   },
   "outputs": [],
   "source": [
    "from os import path\n",
    "\n",
    "import pandas as pd\n",
    "from bgreference import hg19"
   ]
  },
  {
   "cell_type": "markdown",
   "metadata": {},
   "source": [
    "## Functions\n",
    "\n",
    "All the functions needed for this notebook are coded below"
   ]
  },
  {
   "cell_type": "code",
   "execution_count": 15,
   "metadata": {
    "collapsed": true
   },
   "outputs": [],
   "source": [
    "def compute_kmer_alt(x,k):\n",
    "    \"\"\"\n",
    "    Compute the alternate kmer sequence from a DataFrame row or a dict \n",
    "    with the reference kmer and the alternated nucleotide\n",
    "    \"\"\"\n",
    "    my_alt = x['alt']\n",
    "    my_kmer = x['ref_kmer']\n",
    "\n",
    "    my_alt_kmer = my_kmer[0:(k//2)] + my_alt + my_kmer[(k//2)+1:]\n",
    "    \n",
    "    return my_alt_kmer"
   ]
  },
  {
   "cell_type": "code",
   "execution_count": 9,
   "metadata": {
    "collapsed": true
   },
   "outputs": [],
   "source": [
    "def create_kmer_dict(k):\n",
    "    \"\"\"\n",
    "    Construct a dictionary where the values are the combinations\n",
    "    \"\"\"\n",
    "    nucleotides = ['A', 'C', 'T', 'G']\n",
    "    from itertools import product   \n",
    "    kmers = sorted([''.join(x) for x in product('ACGT', repeat=k)])\n",
    "    kmers_dict = dict()\n",
    "\n",
    "    for my_kmer in kmers:\n",
    "        mid_nucl = my_kmer[(k//2):(k//2)+1]\n",
    "\n",
    "        for my_nucleotide in nucleotides:\n",
    "            if my_nucleotide != mid_nucl:\n",
    "                my_alt_kmer = my_kmer[0:(k//2)] + my_nucleotide + my_kmer[(k//2)+1:]\n",
    "\n",
    "                kmers_dict[(my_kmer, my_alt_kmer)] = 0\n",
    "                \n",
    "    return kmers_dict"
   ]
  },
  {
   "cell_type": "code",
   "execution_count": 10,
   "metadata": {
    "collapsed": true
   },
   "outputs": [],
   "source": [
    "def generate_keys(k, h, ref_core, alt_core):\n",
    "    \n",
    "    key_list = []\n",
    "    from itertools import product   \n",
    "    kmers = sorted([''.join(x) for x in product('ACGT', repeat=int((k-h)/2))])\n",
    "    for kmer1 in kmers:\n",
    "        for kmer2 in kmers:\n",
    "            ref_key = kmer1 + ref_core + kmer2\n",
    "            alt_key = kmer1 + alt_core + kmer2\n",
    "            key_list.append((ref_key, alt_key))\n",
    "    \n",
    "    return(key_list)"
   ]
  },
  {
   "cell_type": "code",
   "execution_count": 11,
   "metadata": {
    "collapsed": true
   },
   "outputs": [],
   "source": [
    "def filter_keys(set_keys,nt_filter,position):\n",
    "    subset_keys = []\n",
    "    for my_key in set_keys:\n",
    "        if my_key[0][position] == nt_filter:\n",
    "            subset_keys.append(my_key)\n",
    "    return(subset_keys)"
   ]
  },
  {
   "cell_type": "code",
   "execution_count": null,
   "metadata": {
    "collapsed": true
   },
   "outputs": [],
   "source": [
    "def compute_probs(list_keys, mutation_df, k_freq_df):\n",
    "    \n",
    "    # Compute the count of observed mutations for the set of keys\n",
    "    obs_count = 0\n",
    "    for my_count in mutation_df['mutation'].value_counts().iteritems():\n",
    "        if my_count[0] in list_keys:\n",
    "            obs_count += my_count[1]\n",
    "    \n",
    "    # Compute the count of observed contexts for the set of keys\n",
    "    context_count = 0\n",
    "    for my_kmer in list_keys:\n",
    "        my_ref_kmer = my_kmer[0]\n",
    "        count = k_freq_df[k_freq_df['kmer'] == my_ref_kmer]['count'].values[0]\n",
    "        context_count += count\n",
    "    \n",
    "    # Return the probability as the number of observed mutations divided by the context relative abundance\n",
    "    return(obs_count/context_count)"
   ]
  },
  {
   "cell_type": "code",
   "execution_count": null,
   "metadata": {
    "collapsed": true
   },
   "outputs": [],
   "source": [
    "def decomp_prob(k, mutation_df, count_file, h):\n",
    "    \n",
    "    my_probs_df = pd.DataFrame()\n",
    "    my_probs_df['mutation'] = list(create_kmer_dict(k).keys())\n",
    "    \n",
    "    ## Kmer counts\n",
    "    k_freq_df = pd.read_csv(count_file, sep='\\t', header=None, low_memory=False)\n",
    "    k_freq_df.columns = ['kmer', 'count']\n",
    "    \n",
    "    ## Compute the kmer changes (XYX -> XZX) of each alteration\n",
    "    mutation_df['ref_kmer'] = mutation_df.apply(lambda x: hg19(x['chr'], x['start']+1-(k//2),1+2*(k//2)), axis=1)\n",
    "    mutation_df['alt_kmer'] = mutation_df.apply(lambda x: compute_kmer_alt(x, k), axis=1)\n",
    "    mutation_df['mutation'] = list(zip(mutation_df.ref_kmer, mutation_df.alt_kmer))\n",
    "    kmer_dict = create_kmer_dict(k)\n",
    "    \n",
    "    ## Compute the decomposition\n",
    "    for mutation in kmer_dict.keys():\n",
    "        ref_core = mutation[0][(k//2)-(h//2):(k//2)+(h//2)+1]\n",
    "        alt_core = mutation[1][(k//2)-(h//2):(k//2)+(h//2)+1]\n",
    "        all_keys = generate_keys(k, h, ref_core, alt_core)\n",
    "        core_prob = compute_probs(all_keys, mutation_df, k_freq_df)\n",
    "        if core_prob == 0.0:\n",
    "            kmer_dict[mutation] = 0.0\n",
    "            continue\n",
    "        prob_product = core_prob\n",
    "        \n",
    "        right_flank = mutation[0][(k//2)+(h//2)+1:]\n",
    "        left_flank = mutation[0][:(k//2)-(h//2)]\n",
    "        \n",
    "        for pos in range(0,len(left_flank)):\n",
    "            keys = filter_keys(all_keys,left_flank[pos],pos)\n",
    "            sub_prob = compute_probs(keys, mutation_df, k_freq_df)\n",
    "            prob_product = prob_product*(sub_prob/core_prob)\n",
    "        \n",
    "        for pos in range(-len(right_flank),0):\n",
    "            keys = filter_keys(all_keys,right_flank[pos],pos)\n",
    "            sub_prob = compute_probs(keys, mutation_df, k_freq_df)\n",
    "            prob_product = prob_product*(sub_prob/core_prob)\n",
    "        \n",
    "        kmer_dict[mutation] = prob_product\n",
    "    \n",
    "    # Normalize the values (once I have all the probabilities computed).\n",
    "#    all_values_sum = sum(kmer_dict.values())\n",
    "#    for my_kmer in kmer_dict.keys():\n",
    "#        kmer_dict[my_kmer] = kmer_dict[my_kmer]/all_values_sum\n",
    "    \n",
    "    column_name = 'Probability_germinal'\n",
    "    my_results_df = pd.DataFrame({'mutation' : list(kmer_dict.keys()) , column_name : list(kmer_dict.values()) })\n",
    "    my_probs_df = pd.merge(my_probs_df, my_results_df, on='mutation')\n",
    "    return(my_probs_df)"
   ]
  },
  {
   "cell_type": "markdown",
   "metadata": {},
   "source": [
    "## Compute the signature for the golden dataset (Goldmann 2018)."
   ]
  },
  {
   "cell_type": "code",
   "execution_count": 12,
   "metadata": {
    "collapsed": true
   },
   "outputs": [],
   "source": [
    "## Get the mutations\n",
    "mutations_file = 'non_provided_data/mutations/germinal_ultimate_dataset.bed.gz'\n",
    "mutations_df = pd.read_csv(mutations_file, sep=\"\\t\", header=None)\n",
    "mutations_df.columns = ['chr', 'start', 'end', 'ref', 'alt', 'sample', 'type', 'class']\n",
    "mutations_df = mutations_df[['chr', 'start', 'end', 'ref', 'alt', 'sample', 'type']]\n",
    "mutations_df = mutations_df[mutations_df['type'] == 'subs']\n",
    "mutations_df = mutations_df[mutations_df['sample'] == 'Goldmann2018']"
   ]
  },
  {
   "cell_type": "markdown",
   "metadata": {
    "collapsed": true
   },
   "source": [
    "### Mutation signature 5-mer with DNMs, autosomal genome counts"
   ]
  },
  {
   "cell_type": "code",
   "execution_count": 7,
   "metadata": {},
   "outputs": [
    {
     "ename": "TypeError",
     "evalue": "'int' object is not iterable",
     "output_type": "error",
     "traceback": [
      "\u001b[0;31m---------------------------------------------------------------------------\u001b[0m",
      "\u001b[0;31mTypeError\u001b[0m                                 Traceback (most recent call last)",
      "\u001b[0;32m<ipython-input-7-c951d7aca862>\u001b[0m in \u001b[0;36m<module>\u001b[0;34m()\u001b[0m\n\u001b[1;32m      5\u001b[0m \u001b[0;34m\u001b[0m\u001b[0m\n\u001b[1;32m      6\u001b[0m \u001b[0;31m# Preprocess data\u001b[0m\u001b[0;34m\u001b[0m\u001b[0;34m\u001b[0m\u001b[0m\n\u001b[0;32m----> 7\u001b[0;31m \u001b[0;34m(\u001b[0m\u001b[0mmuts_preprocesed\u001b[0m\u001b[0;34m,\u001b[0m \u001b[0mk_mer_preprocessed\u001b[0m\u001b[0;34m)\u001b[0m \u001b[0;34m=\u001b[0m \u001b[0mpreprocess\u001b[0m\u001b[0;34m(\u001b[0m\u001b[0mk\u001b[0m\u001b[0;34m,\u001b[0m \u001b[0mmutations_df\u001b[0m\u001b[0;34m,\u001b[0m \u001b[0mk_mer_count_file\u001b[0m\u001b[0;34m)\u001b[0m\u001b[0;34m\u001b[0m\u001b[0m\n\u001b[0m\u001b[1;32m      8\u001b[0m \u001b[0;34m\u001b[0m\u001b[0m\n\u001b[1;32m      9\u001b[0m \u001b[0;31m# Generate cores (hmers)\u001b[0m\u001b[0;34m\u001b[0m\u001b[0;34m\u001b[0m\u001b[0m\n",
      "\u001b[0;32m<ipython-input-2-6bddb84e190f>\u001b[0m in \u001b[0;36mpreprocess\u001b[0;34m(k, mutation_df, count_file)\u001b[0m\n\u001b[1;32m     16\u001b[0m     \u001b[0mk_freq_df\u001b[0m \u001b[0;34m=\u001b[0m \u001b[0mpd\u001b[0m\u001b[0;34m.\u001b[0m\u001b[0mread_csv\u001b[0m\u001b[0;34m(\u001b[0m\u001b[0mcount_file\u001b[0m\u001b[0;34m,\u001b[0m \u001b[0msep\u001b[0m\u001b[0;34m=\u001b[0m\u001b[0;34m'\\t'\u001b[0m\u001b[0;34m,\u001b[0m \u001b[0mheader\u001b[0m\u001b[0;34m=\u001b[0m\u001b[0;32mNone\u001b[0m\u001b[0;34m,\u001b[0m \u001b[0mlow_memory\u001b[0m\u001b[0;34m=\u001b[0m\u001b[0;32mFalse\u001b[0m\u001b[0;34m)\u001b[0m\u001b[0;34m\u001b[0m\u001b[0m\n\u001b[1;32m     17\u001b[0m     \u001b[0mk_freq_df\u001b[0m\u001b[0;34m.\u001b[0m\u001b[0mcolumns\u001b[0m \u001b[0;34m=\u001b[0m \u001b[0;34m[\u001b[0m\u001b[0;34m'count'\u001b[0m\u001b[0;34m,\u001b[0m \u001b[0;34m'kmer'\u001b[0m\u001b[0;34m]\u001b[0m\u001b[0;34m\u001b[0m\u001b[0m\n\u001b[0;32m---> 18\u001b[0;31m     \u001b[0mnew\u001b[0m \u001b[0;34m=\u001b[0m \u001b[0mk_freq_df\u001b[0m\u001b[0;34m[\u001b[0m\u001b[0;34m'kmer'\u001b[0m\u001b[0;34m]\u001b[0m\u001b[0;34m.\u001b[0m\u001b[0mapply\u001b[0m\u001b[0;34m(\u001b[0m\u001b[0;32mlambda\u001b[0m \u001b[0mx\u001b[0m\u001b[0;34m:\u001b[0m \u001b[0mpd\u001b[0m\u001b[0;34m.\u001b[0m\u001b[0mSeries\u001b[0m\u001b[0;34m(\u001b[0m\u001b[0mlist\u001b[0m\u001b[0;34m(\u001b[0m\u001b[0mx\u001b[0m\u001b[0;34m)\u001b[0m\u001b[0;34m)\u001b[0m\u001b[0;34m)\u001b[0m\u001b[0;34m\u001b[0m\u001b[0m\n\u001b[0m\u001b[1;32m     19\u001b[0m \u001b[0;34m\u001b[0m\u001b[0m\n\u001b[1;32m     20\u001b[0m     \u001b[0;32mfor\u001b[0m \u001b[0mi\u001b[0m \u001b[0;32min\u001b[0m \u001b[0mrange\u001b[0m \u001b[0;34m(\u001b[0m\u001b[0;36m0\u001b[0m\u001b[0;34m,\u001b[0m\u001b[0mk\u001b[0m\u001b[0;34m)\u001b[0m\u001b[0;34m:\u001b[0m\u001b[0;34m\u001b[0m\u001b[0m\n",
      "\u001b[0;32m~/anaconda3/envs/intronexon/lib/python3.6/site-packages/pandas/core/series.py\u001b[0m in \u001b[0;36mapply\u001b[0;34m(self, func, convert_dtype, args, **kwds)\u001b[0m\n\u001b[1;32m   2353\u001b[0m             \u001b[0;32melse\u001b[0m\u001b[0;34m:\u001b[0m\u001b[0;34m\u001b[0m\u001b[0m\n\u001b[1;32m   2354\u001b[0m                 \u001b[0mvalues\u001b[0m \u001b[0;34m=\u001b[0m \u001b[0mself\u001b[0m\u001b[0;34m.\u001b[0m\u001b[0masobject\u001b[0m\u001b[0;34m\u001b[0m\u001b[0m\n\u001b[0;32m-> 2355\u001b[0;31m                 \u001b[0mmapped\u001b[0m \u001b[0;34m=\u001b[0m \u001b[0mlib\u001b[0m\u001b[0;34m.\u001b[0m\u001b[0mmap_infer\u001b[0m\u001b[0;34m(\u001b[0m\u001b[0mvalues\u001b[0m\u001b[0;34m,\u001b[0m \u001b[0mf\u001b[0m\u001b[0;34m,\u001b[0m \u001b[0mconvert\u001b[0m\u001b[0;34m=\u001b[0m\u001b[0mconvert_dtype\u001b[0m\u001b[0;34m)\u001b[0m\u001b[0;34m\u001b[0m\u001b[0m\n\u001b[0m\u001b[1;32m   2356\u001b[0m \u001b[0;34m\u001b[0m\u001b[0m\n\u001b[1;32m   2357\u001b[0m         \u001b[0;32mif\u001b[0m \u001b[0mlen\u001b[0m\u001b[0;34m(\u001b[0m\u001b[0mmapped\u001b[0m\u001b[0;34m)\u001b[0m \u001b[0;32mand\u001b[0m \u001b[0misinstance\u001b[0m\u001b[0;34m(\u001b[0m\u001b[0mmapped\u001b[0m\u001b[0;34m[\u001b[0m\u001b[0;36m0\u001b[0m\u001b[0;34m]\u001b[0m\u001b[0;34m,\u001b[0m \u001b[0mSeries\u001b[0m\u001b[0;34m)\u001b[0m\u001b[0;34m:\u001b[0m\u001b[0;34m\u001b[0m\u001b[0m\n",
      "\u001b[0;32mpandas/_libs/src/inference.pyx\u001b[0m in \u001b[0;36mpandas._libs.lib.map_infer (pandas/_libs/lib.c:66645)\u001b[0;34m()\u001b[0m\n",
      "\u001b[0;32m<ipython-input-2-6bddb84e190f>\u001b[0m in \u001b[0;36m<lambda>\u001b[0;34m(x)\u001b[0m\n\u001b[1;32m     16\u001b[0m     \u001b[0mk_freq_df\u001b[0m \u001b[0;34m=\u001b[0m \u001b[0mpd\u001b[0m\u001b[0;34m.\u001b[0m\u001b[0mread_csv\u001b[0m\u001b[0;34m(\u001b[0m\u001b[0mcount_file\u001b[0m\u001b[0;34m,\u001b[0m \u001b[0msep\u001b[0m\u001b[0;34m=\u001b[0m\u001b[0;34m'\\t'\u001b[0m\u001b[0;34m,\u001b[0m \u001b[0mheader\u001b[0m\u001b[0;34m=\u001b[0m\u001b[0;32mNone\u001b[0m\u001b[0;34m,\u001b[0m \u001b[0mlow_memory\u001b[0m\u001b[0;34m=\u001b[0m\u001b[0;32mFalse\u001b[0m\u001b[0;34m)\u001b[0m\u001b[0;34m\u001b[0m\u001b[0m\n\u001b[1;32m     17\u001b[0m     \u001b[0mk_freq_df\u001b[0m\u001b[0;34m.\u001b[0m\u001b[0mcolumns\u001b[0m \u001b[0;34m=\u001b[0m \u001b[0;34m[\u001b[0m\u001b[0;34m'count'\u001b[0m\u001b[0;34m,\u001b[0m \u001b[0;34m'kmer'\u001b[0m\u001b[0;34m]\u001b[0m\u001b[0;34m\u001b[0m\u001b[0m\n\u001b[0;32m---> 18\u001b[0;31m     \u001b[0mnew\u001b[0m \u001b[0;34m=\u001b[0m \u001b[0mk_freq_df\u001b[0m\u001b[0;34m[\u001b[0m\u001b[0;34m'kmer'\u001b[0m\u001b[0;34m]\u001b[0m\u001b[0;34m.\u001b[0m\u001b[0mapply\u001b[0m\u001b[0;34m(\u001b[0m\u001b[0;32mlambda\u001b[0m \u001b[0mx\u001b[0m\u001b[0;34m:\u001b[0m \u001b[0mpd\u001b[0m\u001b[0;34m.\u001b[0m\u001b[0mSeries\u001b[0m\u001b[0;34m(\u001b[0m\u001b[0mlist\u001b[0m\u001b[0;34m(\u001b[0m\u001b[0mx\u001b[0m\u001b[0;34m)\u001b[0m\u001b[0;34m)\u001b[0m\u001b[0;34m)\u001b[0m\u001b[0;34m\u001b[0m\u001b[0m\n\u001b[0m\u001b[1;32m     19\u001b[0m \u001b[0;34m\u001b[0m\u001b[0m\n\u001b[1;32m     20\u001b[0m     \u001b[0;32mfor\u001b[0m \u001b[0mi\u001b[0m \u001b[0;32min\u001b[0m \u001b[0mrange\u001b[0m \u001b[0;34m(\u001b[0m\u001b[0;36m0\u001b[0m\u001b[0;34m,\u001b[0m\u001b[0mk\u001b[0m\u001b[0;34m)\u001b[0m\u001b[0;34m:\u001b[0m\u001b[0;34m\u001b[0m\u001b[0m\n",
      "\u001b[0;31mTypeError\u001b[0m: 'int' object is not iterable"
     ]
    }
   ],
   "source": [
    "k = 5\n",
    "h = 3\n",
    "\n",
    "k_mer_count_file = 'data/' + str(k) + 'mer.txt'\n",
    "\n",
    "results = decomp_prob(k, mutations_df, k_mer_count_file,h)\n",
    "\n",
    "\n",
    "filename = str(k) + 'mer_DNM_signatures_decomp_golden.txt'\n",
    "results.to_csv(path.join('results', filename), header=True, index=None, sep='\\t')"
   ]
  },
  {
   "cell_type": "markdown",
   "metadata": {
    "collapsed": true
   },
   "source": [
    "### Mutation signature 7-mer with DNMs, autosomal genome counts"
   ]
  },
  {
   "cell_type": "code",
   "execution_count": 12,
   "metadata": {
    "collapsed": true
   },
   "outputs": [],
   "source": [
    "k = 7\n",
    "h = 3\n",
    "\n",
    "k_mer_count_file = 'data/' + str(k) + 'mer.txt'\n",
    "\n",
    "results = decomp_prob(k, mutations_df, k_mer_count_file, h)\n",
    "\n",
    "\n",
    "filename = str(k) + 'mer_DNM_signatures_decomp_golden.txt'\n",
    "results.to_csv(path.join('results', filename), header=True, index=None, sep='\\t')"
   ]
  },
  {
   "cell_type": "markdown",
   "metadata": {},
   "source": [
    "## Compute the signature for the largest dataset (Halldorsson 2019)."
   ]
  },
  {
   "cell_type": "code",
   "execution_count": 13,
   "metadata": {
    "collapsed": true
   },
   "outputs": [],
   "source": [
    "## Get the mutations\n",
    "mutations_file = 'non_provided_data/mutations/germinal_ultimate_dataset.bed.gz'\n",
    "mutations_df = pd.read_csv(mutations_file, sep=\"\\t\", header=None)\n",
    "mutations_df.columns = ['chr', 'start', 'end', 'ref', 'alt', 'sample', 'type', 'class']\n",
    "mutations_df = mutations_df[['chr', 'start', 'end', 'ref', 'alt', 'sample', 'type']]\n",
    "mutations_df = mutations_df[mutations_df['type'] == 'subs']\n",
    "mutations_df = mutations_df[mutations_df['sample'] == 'Halldorsson2019']"
   ]
  },
  {
   "cell_type": "markdown",
   "metadata": {
    "collapsed": true
   },
   "source": [
    "### Mutation signature 5-mer with DNMs, autosomal genome counts"
   ]
  },
  {
   "cell_type": "code",
   "execution_count": 16,
   "metadata": {},
   "outputs": [],
   "source": [
    "k = 5\n",
    "h = 3\n",
    "\n",
    "k_mer_count_file = 'data/' + str(k) + 'mer.txt'\n",
    "\n",
    "results = decomp_prob(k, mutations_df, k_mer_count_file,h)\n",
    "\n",
    "\n",
    "filename = str(k) + 'mer_DNM_signatures_decomp_Halldorsson.txt'\n",
    "results.to_csv(path.join('results', filename), header=True, index=None, sep='\\t')"
   ]
  },
  {
   "cell_type": "markdown",
   "metadata": {
    "collapsed": true
   },
   "source": [
    "### Mutation signature 7-mer with DNMs, autosomal genome counts"
   ]
  },
  {
   "cell_type": "code",
   "execution_count": 17,
   "metadata": {
    "collapsed": true
   },
   "outputs": [],
   "source": [
    "k = 7\n",
    "h = 3\n",
    "\n",
    "k_mer_count_file = 'data/' + str(k) + 'mer.txt'\n",
    "\n",
    "results = decomp_prob(k, mutations_df, k_mer_count_file, h)\n",
    "\n",
    "\n",
    "filename = str(k) + 'mer_DNM_signatures_decomp_Halldorsson.txt'\n",
    "results.to_csv(path.join('results', filename), header=True, index=None, sep='\\t')"
   ]
  },
  {
   "cell_type": "markdown",
   "metadata": {},
   "source": [
    "## Compute the signature for all DNM."
   ]
  },
  {
   "cell_type": "code",
   "execution_count": 8,
   "metadata": {
    "collapsed": true
   },
   "outputs": [],
   "source": [
    "## Get the mutations\n",
    "mutations_file = 'non_provided_data/mutations/germinal_ultimate_dataset.bed.gz'\n",
    "mutations_df = pd.read_csv(mutations_file, sep=\"\\t\", header=None)\n",
    "mutations_df.columns = ['chr', 'start', 'end', 'ref', 'alt', 'sample', 'type', 'class']\n",
    "mutations_df = mutations_df[['chr', 'start', 'end', 'ref', 'alt', 'sample', 'type']]\n",
    "mutations_df = mutations_df[mutations_df['type'] == 'subs']"
   ]
  },
  {
   "cell_type": "markdown",
   "metadata": {
    "collapsed": true
   },
   "source": [
    "### Mutation signature 3-mer with DNMs, autosomal genome counts\n",
    "\n",
    "**Only used for comparison at Supplementary Figure S4** "
   ]
  },
  {
   "cell_type": "code",
   "execution_count": 18,
   "metadata": {
    "collapsed": true
   },
   "outputs": [],
   "source": [
    "k = 3\n",
    "h = 1\n",
    "\n",
    "k_mer_count_file = 'data/' + str(k) + 'mer.txt'\n",
    "\n",
    "results = decomp_prob(k, mutations_df, k_mer_count_file,h)\n",
    "\n",
    "\n",
    "filename = str(k) + 'mer_DNM_signatures_decomp.txt' \n",
    "results.to_csv(path.join('results', filename), header=True, index=None, sep='\\t')"
   ]
  },
  {
   "cell_type": "markdown",
   "metadata": {},
   "source": [
    "### Mutation signature 5-mer with DNMs, autosomal genome counts\n",
    "\n",
    "**Only used for comparison at Supplementary Figure S4**"
   ]
  },
  {
   "cell_type": "code",
   "execution_count": null,
   "metadata": {
    "collapsed": true
   },
   "outputs": [],
   "source": [
    "k = 5\n",
    "h = 3\n",
    "\n",
    "k_mer_count_file = 'data/' + str(k) + 'mer.txt'\n",
    "\n",
    "results = decomp_prob(k, mutations_df, k_mer_count_file,h)\n",
    "\n",
    "\n",
    "filename = str(k) + 'mer_DNM_signatures_decomp.txt' \n",
    "results.to_csv(path.join('results', filename), header=True, index=None, sep='\\t')"
   ]
  },
  {
   "cell_type": "markdown",
   "metadata": {
    "collapsed": true
   },
   "source": [
    "### Mutation signature 7-mer with DNMs, autosomal genome counts"
   ]
  },
  {
   "cell_type": "code",
   "execution_count": 12,
   "metadata": {
    "collapsed": true
   },
   "outputs": [],
   "source": [
    "k = 7\n",
    "h = 5\n",
    "\n",
    "k_mer_count_file = 'data/' + str(k) + 'mer.txt'\n",
    "\n",
    "results = decomp_prob(k, mutations_df, k_mer_count_file,h)\n",
    "\n",
    "\n",
    "filename = str(k) + 'mer_DNM_signatures_decomp.txt' \n",
    "results.to_csv(path.join('results', filename), header=True, index=None, sep='\\t')"
   ]
  },
  {
   "cell_type": "code",
   "execution_count": null,
   "metadata": {
    "collapsed": true
   },
   "outputs": [],
   "source": []
  }
 ],
 "metadata": {
  "kernelspec": {
   "display_name": "Python 3",
   "language": "python",
   "name": "python3"
  },
  "language_info": {
   "codemirror_mode": {
    "name": "ipython",
    "version": 3
   },
   "file_extension": ".py",
   "mimetype": "text/x-python",
   "name": "python",
   "nbconvert_exporter": "python",
   "pygments_lexer": "ipython3",
   "version": "3.6.1"
  }
 },
 "nbformat": 4,
 "nbformat_minor": 2
}
