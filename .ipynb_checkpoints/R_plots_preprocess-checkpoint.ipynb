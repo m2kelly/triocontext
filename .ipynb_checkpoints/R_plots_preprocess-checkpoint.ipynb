{
 "cells": [
  {
   "cell_type": "markdown",
   "metadata": {},
   "source": [
    "# Preprocess for R plots"
   ]
  },
  {
   "cell_type": "code",
   "execution_count": 2,
   "metadata": {
    "ExecuteTime": {
     "end_time": "2017-04-05T10:38:42.724806",
     "start_time": "2017-04-05T10:38:42.709857"
    },
    "collapsed": true
   },
   "outputs": [],
   "source": [
    "from os import path\n",
    "\n",
    "from bgreference import hg19\n",
    "import pandas as pd"
   ]
  },
  {
   "cell_type": "code",
   "execution_count": 3,
   "metadata": {
    "collapsed": true
   },
   "outputs": [],
   "source": [
    "# Other\n",
    "mutations_folder = 'non_provided_data/mutations/'"
   ]
  },
  {
   "cell_type": "markdown",
   "metadata": {},
   "source": [
    "## Functions"
   ]
  },
  {
   "cell_type": "code",
   "execution_count": null,
   "metadata": {
    "collapsed": true
   },
   "outputs": [],
   "source": [
    "def rev_comp(seq):\n",
    "    return ''.join([{'A':'T','C':'G','G':'C','T':'A','N':'N'}[B] for B in seq][::-1])"
   ]
  },
  {
   "cell_type": "code",
   "execution_count": null,
   "metadata": {
    "collapsed": true
   },
   "outputs": [],
   "source": [
    "def compute_sixway_spectrum(x):\n",
    "    \"\"\"\n",
    "    Compute the class based on a 6-way spectrum\n",
    "    \"\"\"\n",
    "    complement = {'A': 'T', 'C': 'G', 'G': 'C', 'T': 'A'}\n",
    "    my_ref = x['ref']\n",
    "    my_alt = x['alt']\n",
    "    if my_ref == 'C' or my_ref == 'T':\n",
    "        my_sub = my_ref + '>' + my_alt\n",
    "    else:\n",
    "        my_sub = complement[my_ref] + '>' + complement[my_alt]\n",
    "    return my_sub"
   ]
  },
  {
   "cell_type": "code",
   "execution_count": null,
   "metadata": {
    "collapsed": true
   },
   "outputs": [],
   "source": [
    "def compute_CpG_site(x):\n",
    "    \"\"\"\n",
    "    Compute if mutation fell on CpG site\n",
    "    \"\"\"\n",
    "    my_ref = x['ref']\n",
    "    my_pre = x['pre']\n",
    "    my_post = x['post']\n",
    "    if my_ref == 'C' and my_post == 'G':\n",
    "        my_site = 'CpG'\n",
    "    elif my_ref == 'G' and my_pre == 'C':\n",
    "        my_site = 'CpG'\n",
    "    else:\n",
    "        my_site = 'nonCpG'\n",
    "    return my_site"
   ]
  },
  {
   "cell_type": "code",
   "execution_count": null,
   "metadata": {
    "collapsed": true
   },
   "outputs": [],
   "source": [
    "def collapse_spectrum(x):\n",
    "    \"\"\"\n",
    "    Compute the class based on a 6-way spectrum\n",
    "    \"\"\"\n",
    "    my_ref = x['ref']\n",
    "    my_alt = x['alt']\n",
    "    \n",
    "    if my_ref == 'C' and my_alt == 'T':\n",
    "        return my_ref, my_alt\n",
    "    elif my_ref == 'C' and my_alt == 'A':\n",
    "        return my_ref, my_alt\n",
    "    elif my_ref == 'C' and my_alt == 'G':\n",
    "        return my_ref, my_alt\n",
    "    elif my_ref == 'A' and my_alt == 'T':\n",
    "        return my_ref, my_alt\n",
    "    elif my_ref == 'A' and my_alt == 'G':\n",
    "        return my_ref, my_alt\n",
    "    elif my_ref == 'A' and my_alt == 'C':\n",
    "        return my_ref, my_alt\n",
    "    elif my_ref == 'G' and my_alt == 'A':\n",
    "        return 'C','T'\n",
    "    elif my_ref == 'G' and my_alt == 'T':\n",
    "        return 'C','A'\n",
    "    elif my_ref == 'G' and my_alt == 'C':\n",
    "        return 'C','G'\n",
    "    elif my_ref == 'T' and my_alt == 'A':\n",
    "        return 'A','T'\n",
    "    elif my_ref == 'T' and my_alt == 'C':\n",
    "        return 'A','G'\n",
    "    elif my_ref == 'T' and my_alt == 'G':\n",
    "        return 'A','C'"
   ]
  },
  {
   "cell_type": "code",
   "execution_count": null,
   "metadata": {
    "collapsed": true
   },
   "outputs": [],
   "source": [
    "def create_kmer_dict_collapsed(k):\n",
    "    \"\"\"\n",
    "    Construct a dictionary where the values are the combinations.\n",
    "    \"\"\"\n",
    "    \n",
    "    characters = 'ACGT'\n",
    "    nucleotides = ['A', 'C', 'T', 'G']\n",
    "    from itertools import product   \n",
    "    kmers_not_filtered = sorted([''.join(x) for x in product(characters, repeat=k)])\n",
    "    \n",
    "    kmers = []\n",
    "    for kmer in kmers_not_filtered:\n",
    "        mid_nucl = kmer[(k//2):(k//2)+1]\n",
    "        if mid_nucl == 'C' or mid_nucl == 'A':\n",
    "            kmers.append(kmer)\n",
    "    \n",
    "    kmers_dict = dict()\n",
    "    \n",
    "    for my_kmer in kmers:\n",
    "        mid_nucl = my_kmer[(k//2):(k//2)+1]\n",
    "\n",
    "        for my_nucleotide in nucleotides:\n",
    "            if my_nucleotide != mid_nucl:\n",
    "                my_alt_kmer = my_kmer[0:(k//2)] + my_nucleotide + my_kmer[(k//2)+1:]\n",
    "\n",
    "                kmers_dict[(my_kmer, my_alt_kmer)] = 0\n",
    "                \n",
    "    return kmers_dict"
   ]
  },
  {
   "cell_type": "code",
   "execution_count": null,
   "metadata": {
    "collapsed": true
   },
   "outputs": [],
   "source": [
    "def kmer_freqs_collapse(x,k):\n",
    "    mid_nucl = x[(k//2):(k//2)+1]\n",
    "    left_flank = x[0:(k//2)]\n",
    "    right_flank = x[(k//2)+1:]\n",
    "    \n",
    "    if mid_nucl == 'C':\n",
    "        return x\n",
    "    elif mid_nucl == 'A':\n",
    "        return x\n",
    "    elif mid_nucl == 'G':\n",
    "        return rev_comp(x)\n",
    "    elif mid_nucl == 'T':\n",
    "        return rev_comp(x)"
   ]
  },
  {
   "cell_type": "code",
   "execution_count": null,
   "metadata": {
    "collapsed": true
   },
   "outputs": [],
   "source": [
    "def compute_kmer_ref(x,k):\n",
    "    \"\"\"\n",
    "    Compute the alternate kmer sequence from a DataFrame row or a dict \n",
    "    with the reference kmer and the alternated nucleotide\n",
    "    \"\"\"\n",
    "    my_gen = x['ref_genome']\n",
    "    \n",
    "    ref_nucl = my_gen[(k//2):(k//2)+1]\n",
    "    if (ref_nucl == 'C') | (ref_nucl == 'A'):\n",
    "        my_ref_kmer = my_gen\n",
    "    else:\n",
    "        my_ref_kmer = rev_comp(my_gen)\n",
    "        \n",
    "    return my_ref_kmer"
   ]
  },
  {
   "cell_type": "code",
   "execution_count": null,
   "metadata": {
    "collapsed": true
   },
   "outputs": [],
   "source": [
    "def compute_kmer_alt(x,k):\n",
    "    \"\"\"\n",
    "    Compute the alternate kmer sequence from a DataFrame row or a dict \n",
    "    with the reference kmer and the alternated nucleotide\n",
    "    \"\"\"\n",
    "    complement = {'A': 'T', 'C': 'G', 'G': 'C', 'T': 'A'}\n",
    "    my_alt = x['alt']\n",
    "    my_kmer = x['ref_kmer']\n",
    "    my_gen = x['ref_genome']\n",
    "    ref_nucl = my_gen[(k//2):(k//2)+1]\n",
    "    \n",
    "    if (ref_nucl == 'C') | (ref_nucl == 'A'):\n",
    "        my_alt_kmer = my_kmer[0:(k//2)] + my_alt + my_kmer[(k//2)+1:]\n",
    "    else:\n",
    "        my_alt_kmer = my_kmer[0:(k//2)] + complement[my_alt] + my_kmer[(k//2)+1:]\n",
    "    \n",
    "    return my_alt_kmer"
   ]
  },
  {
   "cell_type": "code",
   "execution_count": null,
   "metadata": {
    "collapsed": true
   },
   "outputs": [],
   "source": [
    "def signature_collapsed(k, mutation_df, count_file, sampleID):\n",
    "    \n",
    "    my_probs_df = pd.DataFrame()\n",
    "    my_probs_df['mutation'] = list(create_kmer_dict_collapsed(k).keys())\n",
    "\n",
    "    ## Trinucleotide counts\n",
    "    k_freq_df = pd.read_csv(count_file, sep='\\t', header=None, low_memory=False)\n",
    "    k_freq_df.columns = ['kmer', 'count']\n",
    "    k_freq_df['kmer'] = k_freq_df['kmer'].apply(lambda x: kmer_freqs_collapse(x,k))\n",
    "    k_freq_df = k_freq_df.groupby('kmer')['count'].sum()\n",
    "    k_freq_df = pd.DataFrame({'kmer':k_freq_df.index, 'count':k_freq_df.values})\n",
    "    \n",
    "    ## Compute the kmer changes (XYX -> XZX) of each alteration\n",
    "    mutation_df['ref_genome'] = mutation_df.apply(lambda x: hg19(x['chr'], x['start']+1-(k//2),1+2*(k//2)), axis=1)\n",
    "    mutation_df['ref_kmer'] = mutation_df.apply(lambda x: compute_kmer_ref(x, k), axis=1)\n",
    "    mutation_df['alt_kmer'] = mutation_df.apply(lambda x: compute_kmer_alt(x, k), axis=1)\n",
    "    mutation_df['mutation'] = list(zip(mutation_df.ref_kmer, mutation_df.alt_kmer))\n",
    "    \n",
    "    kmer_dict = create_kmer_dict_collapsed(k)\n",
    "    \n",
    "    # Compute the counts of each triplet alteration\n",
    "    for my_count in mutation_df['mutation'].value_counts().iteritems():\n",
    "        if my_count[0] in my_probs_df['mutation'].tolist():\n",
    "            kmer_dict[my_count[0]] = my_count[1]\n",
    "    \n",
    "    # Divide each count by the counts of the reference kmer\n",
    "    for my_kmer in kmer_dict.keys():\n",
    "        my_ref_kmer = my_kmer[0]\n",
    "        total_count = k_freq_df[k_freq_df['kmer'] == my_ref_kmer]['count'].values[0]\n",
    "        kmer_dict[my_kmer] = kmer_dict[my_kmer]/total_count\n",
    "    \n",
    "    column_name = 'Probability_' + str(sampleID)\n",
    "    my_results_df = pd.DataFrame({'mutation' : list(kmer_dict.keys()) , column_name : list(kmer_dict.values()) })\n",
    "    my_probs_df = pd.merge(my_probs_df, my_results_df, on='mutation')\n",
    "    return(my_probs_df)"
   ]
  },
  {
   "cell_type": "code",
   "execution_count": null,
   "metadata": {
    "collapsed": true
   },
   "outputs": [],
   "source": [
    "def numbers_collapsed(k, mutation_df, count_file):\n",
    "    \n",
    "    my_probs_df = pd.DataFrame()\n",
    "    my_probs_df['mutation'] = list(create_kmer_dict_collapsed(k).keys())\n",
    "    \n",
    "    ## Trinucleotide counts\n",
    "    k_freq_df = pd.read_csv(count_file, sep='\\t', header=None, low_memory=False)\n",
    "    k_freq_df.columns = ['kmer', 'count']\n",
    "    k_freq_df['kmer'] = k_freq_df['kmer'].apply(lambda x: kmer_freqs_collapse(x,k))\n",
    "    k_freq_df = k_freq_df.groupby('kmer')['count'].sum()\n",
    "    k_freq_df = pd.DataFrame({'kmer':k_freq_df.index, 'count':k_freq_df.values})\n",
    "    \n",
    "    ## Compute the kmer changes (XYX -> XZX) of each alteration\n",
    "    mutation_df['ref_genome'] = mutation_df.apply(lambda x: hg19(x['chr'], x['start']+1-(k//2),1+2*(k//2)), axis=1)\n",
    "    mutation_df['ref_kmer'] = mutation_df.apply(lambda x: compute_kmer_ref(x, k), axis=1)\n",
    "    mutation_df['alt_kmer'] = mutation_df.apply(lambda x: compute_kmer_alt(x, k), axis=1)\n",
    "    mutation_df['mutation'] = list(zip(mutation_df.ref_kmer, mutation_df.alt_kmer))\n",
    "    \n",
    "    kmer_dict = create_kmer_dict_collapsed(k)\n",
    "    \n",
    "    # Compute the counts of each triplet alteration\n",
    "    for my_count in mutation_df['mutation'].value_counts().iteritems():\n",
    "        if my_count[0] in my_probs_df['mutation'].tolist():\n",
    "            kmer_dict[my_count[0]] = my_count[1]\n",
    "    \n",
    "    column_name = 'Number_mutations'\n",
    "    my_results_df = pd.DataFrame({'mutation' : list(kmer_dict.keys()) , column_name : list(kmer_dict.values()) })\n",
    "    my_results_df['count'] = my_results_df.apply(lambda x: int(k_freq_df[k_freq_df['kmer']==x['mutation'][0]]['count']), axis=1)\n",
    "    my_probs_df = pd.merge(my_probs_df, my_results_df, on='mutation')\n",
    "    return(my_probs_df)"
   ]
  },
  {
   "cell_type": "markdown",
   "metadata": {},
   "source": [
    "## Preprocess for 9-way spectrum plot (at R script)"
   ]
  },
  {
   "cell_type": "code",
   "execution_count": 8,
   "metadata": {
    "collapsed": true
   },
   "outputs": [],
   "source": [
    "# Get the mutations\n",
    "mutations_file = mutations_folder + 'germinal_ultimate_dataset.bed.gz'\n",
    "mutations_df = pd.read_csv(mutations_file, sep=\"\\t\", header=None)\n",
    "mutations_df.columns = ['chr', 'start', 'end', 'ref', 'alt', 'sample', 'type', 'class']\n",
    "mutations_df = mutations_df[mutations_df['type'] == 'subs']"
   ]
  },
  {
   "cell_type": "code",
   "execution_count": 9,
   "metadata": {
    "collapsed": true
   },
   "outputs": [],
   "source": [
    "def check(ref, chrom, pos):\n",
    "    real_ref = hg19(chrom, pos)\n",
    "    if real_ref == ref:\n",
    "        return('Valid')\n",
    "    else:\n",
    "        return('Error')"
   ]
  },
  {
   "cell_type": "code",
   "execution_count": 10,
   "metadata": {
    "collapsed": true
   },
   "outputs": [],
   "source": [
    "mutations_df['check'] = mutations_df.apply(lambda x: check(x['ref'], x['chr'], x['end']), axis=1)"
   ]
  },
  {
   "cell_type": "code",
   "execution_count": 13,
   "metadata": {
    "collapsed": true
   },
   "outputs": [],
   "source": [
    "valid = mutations_df[mutations_df['check']=='Valid']"
   ]
  },
  {
   "cell_type": "code",
   "execution_count": 14,
   "metadata": {
    "collapsed": true
   },
   "outputs": [],
   "source": [
    "valid.to_csv(path.join('results', 'valid.bed'), header=True, index=None, sep='\\t')"
   ]
  },
  {
   "cell_type": "code",
   "execution_count": null,
   "metadata": {
    "collapsed": true
   },
   "outputs": [],
   "source": [
    "mutations_df['sub'] = mutations_df.apply(lambda x: compute_sixway_spectrum(x), axis=1)\n",
    "mutations_df['pre'] = mutations_df.apply(lambda x: hg19(x['chr'], x['end']-1), axis=1)\n",
    "mutations_df['post'] = mutations_df.apply(lambda x: hg19(x['chr'], x['end']+1), axis=1)\n",
    "mutations_df['site'] = mutations_df.apply(lambda x: compute_CpG_site(x), axis=1)\n",
    "mutations_df.to_csv(path.join('results', 'germinal_class.bed'), header=True, index=None, sep='\\t')"
   ]
  },
  {
   "cell_type": "markdown",
   "metadata": {
    "collapsed": true
   },
   "source": [
    "## Preprocess for context dependency plot (at R script)"
   ]
  },
  {
   "cell_type": "code",
   "execution_count": null,
   "metadata": {
    "collapsed": true
   },
   "outputs": [],
   "source": [
    "# Get the mutations\n",
    "mutations_file = mutations_folder + 'germinal_ultimate_dataset.bed.gz'\n",
    "mutations_df = pd.read_csv(mutations_file, sep=\"\\t\", header=None)\n",
    "mutations_df.columns = ['chr', 'start', 'end', 'ref', 'alt', 'sample', 'type', 'class']\n",
    "mutations_df = mutations_df[['chr', 'start', 'end', 'ref', 'alt', 'sample', 'type']]\n",
    "mutations_df = mutations_df[mutations_df['type'] == 'subs']"
   ]
  },
  {
   "cell_type": "code",
   "execution_count": null,
   "metadata": {
    "collapsed": true
   },
   "outputs": [],
   "source": [
    "k = 21\n",
    "mutations_df['mut'] = mutations_df.apply(lambda x: compute_sixway_spectrum(x), axis=1)\n",
    "mutations_df['kmer'] = mutations_df.apply(lambda x: hg19(x['chr'], x['start']+1-(k//2),1+2*(k//2)), axis=1)\n",
    "mutations_df.to_csv('results/frequencies_plot_new.tsv', sep=\"\\t\", header=True, index=False)"
   ]
  },
  {
   "cell_type": "markdown",
   "metadata": {},
   "source": [
    "## Collapsed signatures by 6-class spectrum. Preprocess for heatmap plot (at R script)"
   ]
  },
  {
   "cell_type": "code",
   "execution_count": null,
   "metadata": {
    "collapsed": true
   },
   "outputs": [],
   "source": [
    "# Get the mutations\n",
    "mutations_file = mutations_folder + 'germinal_ultimate_dataset.bed.gz'\n",
    "mutations_df = pd.read_csv(mutations_file, sep=\"\\t\", header=None)\n",
    "mutations_df.columns = ['chr', 'start', 'end', 'ref', 'alt', 'sample', 'type', 'class']\n",
    "mutations_df = mutations_df[['chr', 'start', 'end', 'ref', 'alt', 'sample', 'type']]\n",
    "mutations_df = mutations_df[mutations_df['type'] == 'subs']\n",
    "sampleID = 'germinal_collapsed'"
   ]
  },
  {
   "cell_type": "markdown",
   "metadata": {},
   "source": [
    "### 1-mer signatures"
   ]
  },
  {
   "cell_type": "code",
   "execution_count": null,
   "metadata": {
    "collapsed": true
   },
   "outputs": [],
   "source": [
    "k = 1\n",
    "\n",
    "k_mer_count_file = 'data/' + str(k) + 'mer.txt'\n",
    "\n",
    "results = signature_collapsed(k, mutations_df, k_mer_count_file, sampleID)\n",
    "filename = str(k) + 'mer_signatures_DNM_collapsed.txt'\n",
    "results.to_csv(path.join('results', filename), header=True, index=None, sep='\\t')"
   ]
  },
  {
   "cell_type": "markdown",
   "metadata": {},
   "source": [
    "### 3-mer signatures"
   ]
  },
  {
   "cell_type": "code",
   "execution_count": null,
   "metadata": {
    "collapsed": true
   },
   "outputs": [],
   "source": [
    "k = 3\n",
    "\n",
    "k_mer_count_file = 'data/' + str(k) + 'mer.txt'\n",
    "\n",
    "results = signature_collapsed(k, mutations_df, k_mer_count_file, sampleID)\n",
    "filename = str(k) + 'mer_signatures_DNM_collapsed.txt'\n",
    "results.to_csv(path.join('results', filename), header=True, index=None, sep='\\t')"
   ]
  },
  {
   "cell_type": "markdown",
   "metadata": {},
   "source": [
    "### 5-mer signatures"
   ]
  },
  {
   "cell_type": "code",
   "execution_count": null,
   "metadata": {
    "collapsed": true
   },
   "outputs": [],
   "source": [
    "k = 5\n",
    "\n",
    "k_mer_count_file = 'data/' + str(k) + 'mer.txt'\n",
    "\n",
    "results = signature_collapsed(k, mutations_df, k_mer_count_file, sampleID)\n",
    "filename = str(k) + 'mer_signatures_DNM_collapsed.txt'\n",
    "results.to_csv(path.join('results', filename), header=True, index=None, sep='\\t')"
   ]
  },
  {
   "cell_type": "markdown",
   "metadata": {},
   "source": [
    "### 7-mer signatures"
   ]
  },
  {
   "cell_type": "code",
   "execution_count": null,
   "metadata": {
    "collapsed": true
   },
   "outputs": [],
   "source": [
    "k = 7\n",
    "\n",
    "k_mer_count_file = 'data/' + str(k) + 'mer.txt'\n",
    "\n",
    "results = signature_collapsed(k, mutations_df, k_mer_count_file, sampleID)\n",
    "filename = str(k) + 'mer_signatures_DNM_collapsed.txt'\n",
    "results.to_csv(path.join('results', filename), header=True, index=None, sep='\\t')"
   ]
  },
  {
   "cell_type": "markdown",
   "metadata": {},
   "source": [
    "### 9-mer signatures"
   ]
  },
  {
   "cell_type": "code",
   "execution_count": null,
   "metadata": {
    "collapsed": true
   },
   "outputs": [],
   "source": [
    "k = 9\n",
    "\n",
    "k_mer_count_file = 'data/' + str(k) + 'mer.txt'\n",
    "\n",
    "results = signature_collapsed(k, mutations_df, k_mer_count_file, sampleID)\n",
    "filename = str(k) + 'mer_signatures_DNM_collapsed.txt'\n",
    "results.to_csv(path.join('results', filename), header=True, index=None, sep='\\t')"
   ]
  },
  {
   "cell_type": "code",
   "execution_count": null,
   "metadata": {
    "collapsed": true
   },
   "outputs": [],
   "source": []
  }
 ],
 "metadata": {
  "anaconda-cloud": {},
  "kernelspec": {
   "display_name": "Python 3",
   "language": "python",
   "name": "python3"
  },
  "language_info": {
   "codemirror_mode": {
    "name": "ipython",
    "version": 3
   },
   "file_extension": ".py",
   "mimetype": "text/x-python",
   "name": "python",
   "nbconvert_exporter": "python",
   "pygments_lexer": "ipython3",
   "version": "3.6.1"
  }
 },
 "nbformat": 4,
 "nbformat_minor": 1
}
