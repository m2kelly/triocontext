{
 "cells": [
  {
   "cell_type": "markdown",
   "metadata": {},
   "source": [
    "# Sequence context dependency analysis\n",
    "\n",
    "The aim of this notebook is to find the effect of extended context dependency within the internal exon-analysis by computing the expected under a 12-way spectrum model (1-mer model), 18-way spectrum model (1-mer considering CpG sites), and extended context 3-mer, 5-mer, 7-mer, 9-mer and 11-mer models."
   ]
  },
  {
   "cell_type": "code",
   "execution_count": 1,
   "metadata": {
    "ExecuteTime": {
     "end_time": "2017-09-26T14:29:27.246169",
     "start_time": "2017-09-26T14:29:26.265102"
    },
    "collapsed": true
   },
   "outputs": [],
   "source": [
    "%matplotlib inline\n",
    "\n",
    "from os import path\n",
    "import math\n",
    "import pybedtools\n",
    "import tabix  # package pytabix\n",
    "from bgreference import hg19\n",
    "import pandas as pd\n",
    "import matplotlib.pyplot as plt\n",
    "import numpy as np\n",
    "import numpy.polynomial.polynomial as poly\n",
    "import matplotlib.ticker as plticker\n",
    "import gzip, pickle\n",
    "\n",
    "from python_scripts.plot_functions import config_plot_params\n",
    "config_plot_params()"
   ]
  },
  {
   "cell_type": "markdown",
   "metadata": {},
   "source": [
    "## Input files\n",
    "\n",
    "Files in **data** directory.\n",
    "\n",
    "- *middle_exons_coords*: file with the coordinates of the middle exons\n",
    "\n",
    "Files in **results** directory.\n",
    "\n",
    "- *kmer_DNM_signatures.txt*: file with the mutational signatures computed directly from *de novo* mutations (DNM).\n",
    "- *kmer_DNM_signatures_decomp.txt*: file with the mutational signatures computed through a decomposition approach.\n",
    "- *kmer_ERV_signatures.txt*: file with the mutational signatures computed directly from extreme rare variants (ERV).\n",
    "\n",
    "### Other inputs\n",
    "\n",
    "- mutations_folder: base directory where the files with the mutations are located\n",
    "- tumor_type: id of the tumor (germinal in our case)"
   ]
  },
  {
   "cell_type": "code",
   "execution_count": 2,
   "metadata": {
    "ExecuteTime": {
     "end_time": "2017-09-26T14:29:41.008685",
     "start_time": "2017-09-26T14:29:41.001039"
    },
    "collapsed": true
   },
   "outputs": [],
   "source": [
    "# Coordinates files\n",
    "middle_exons_coords = 'data/coordinates/genes_middle_exon_coords.bed.gz'\n",
    "\n",
    "# Other\n",
    "mutations_folder = 'non_provided_data/mutations/'"
   ]
  },
  {
   "cell_type": "markdown",
   "metadata": {},
   "source": [
    "## Functions\n",
    "\n",
    "All the functions needed for this notebook are coded below"
   ]
  },
  {
   "cell_type": "code",
   "execution_count": 3,
   "metadata": {
    "collapsed": true
   },
   "outputs": [],
   "source": [
    "def remove_version_ensembl(x, colname):\n",
    "    \"\"\"\n",
    "    Remove version from the ensembl ID\n",
    "\n",
    "    Args:\n",
    "        x: dataframe row\n",
    "        colname: column name\n",
    "\n",
    "    Returns:\n",
    "        str. Text before a '.'\n",
    "\n",
    "    \"\"\"\n",
    "    ensembl_id = x[colname]\n",
    "    ensembl_id_only = ensembl_id.split('.')[0]\n",
    "\n",
    "    return ensembl_id_only"
   ]
  },
  {
   "cell_type": "code",
   "execution_count": 4,
   "metadata": {
    "collapsed": true
   },
   "outputs": [],
   "source": [
    "def bin_average(count, size):\n",
    "    averaged = []\n",
    "    for i in range(0,len(count),size):\n",
    "        mean = np.mean(count[i:i+size])\n",
    "        averaged.extend([mean for i in range(len(count[i:i+size]))])\n",
    "    return(pd.Series(averaged))"
   ]
  },
  {
   "cell_type": "code",
   "execution_count": 5,
   "metadata": {
    "collapsed": true
   },
   "outputs": [],
   "source": [
    "def plot_HD(cluster, ax, cnt):\n",
    "    \n",
    "    # read observed and backgruond data directly\n",
    "    filename = \"results/exons_centered_%s.tsv\" % (cluster)\n",
    "    \n",
    "    if path.isfile(filename):\n",
    "    \n",
    "        data = pd.read_csv(filename, sep=\"\\t\")\n",
    "    \n",
    "        coefs = poly.polyfit(data['position'], data['muts_count'], 50)\n",
    "        ffit = poly.polyval(data['position'], coefs)\n",
    "\n",
    "        ax.plot(data['position'],\n",
    "                 data['muts_count'], '#e41a1c', alpha=0.5, linewidth=0.7)\n",
    "        ax.plot(data['position'], ffit, '#e41a1c', linewidth=1)\n",
    "\n",
    "        coefs2 = poly.polyfit(data['position'], data['expected_muts'], 50)\n",
    "        ffit2 = poly.polyval(data['position'], coefs2)\n",
    "        ax.plot(data['position'], ffit2, 'black', linewidth=1, ls=\"--\")\n",
    "\n",
    "        ax.set_axis_bgcolor('none')\n",
    "\n",
    "        # show the left spline\n",
    "        for axis in ['right', 'top']:\n",
    "            ax.spines[axis].set_visible(False)\n",
    "\n",
    "        # add gap between x- and y-axis\n",
    "        for axis in ['bottom', 'left']:\n",
    "            ax.spines[axis].set_position(('axes', -0.03))\n",
    "\n",
    "        ax.yaxis.major.locator.set_params(nbins=4)\n",
    "        ax.yaxis.set_ticks_position('left')\n",
    "        ax.xaxis.set_ticks_position('bottom')\n",
    "        ax.set_xlim(-1000, 1000)\n",
    "        # add axis label\n",
    "        if cnt in [0, 3]:\n",
    "            ax.set_ylabel('Number of mutations')\n",
    "        if cnt >=3:\n",
    "            ax.set_xlabel('Distance from exon center (bp)')"
   ]
  },
  {
   "cell_type": "code",
   "execution_count": 6,
   "metadata": {
    "collapsed": true
   },
   "outputs": [],
   "source": [
    "def plot_HD_BINNED(cluster, ax, cnt, size):\n",
    "    \n",
    "    # read observed and backgruond data directly\n",
    "    filename = \"results/exons_centered_%s.tsv\" % (cluster)\n",
    "    \n",
    "    if path.isfile(filename):\n",
    "    \n",
    "        data = pd.read_csv(filename, sep=\"\\t\")\n",
    "        \n",
    "        bin_obs = bin_average(data['muts_count'], size)\n",
    "\n",
    "        ax.plot(data['position'],\n",
    "                 data['muts_count'], '#e41a1c', alpha=0.5, linewidth=0.7)\n",
    "        ax.plot(data['position'], bin_obs, '#e41a1c', linewidth=1)\n",
    "\n",
    "        bin_exp = bin_average(data['expected_muts'], size)\n",
    "\n",
    "        ax.plot(data['position'], bin_exp, 'black', linewidth=1)\n",
    "\n",
    "        ax.set_axis_bgcolor('none')\n",
    "\n",
    "        # show the left spline\n",
    "        for axis in ['right', 'top']:\n",
    "            ax.spines[axis].set_visible(False)\n",
    "\n",
    "        # add gap between x- and y-axis\n",
    "        for axis in ['bottom', 'left']:\n",
    "            ax.spines[axis].set_position(('axes', -0.03))\n",
    "\n",
    "        ax.yaxis.major.locator.set_params(nbins=4)\n",
    "        ax.yaxis.set_ticks_position('left')\n",
    "        ax.xaxis.set_ticks_position('bottom')\n",
    "        ax.set_xlim(-1000, 1000)\n",
    "        # add axis label\n",
    "        if cnt in [0, 3]:\n",
    "            ax.set_ylabel('Number of mutations')\n",
    "        if cnt >=3:\n",
    "            ax.set_xlabel('Distance from exon center (bp)')"
   ]
  },
  {
   "cell_type": "code",
   "execution_count": 7,
   "metadata": {
    "collapsed": true
   },
   "outputs": [],
   "source": [
    "def obs_exp_muts_kmer(mutations_df, exon_coords_df, tumor_type, middle_distance_threshold, k, signatures_file):\n",
    "    \"\"\"\n",
    "    Get positions of the exons that correspond to the central position and a number of base pair\n",
    "    equal to middle_distance_threshold on each side\n",
    "    Compute the number of mutations per position under analysis.\n",
    "    For each of the relative positions, compute the sum of the probabilities of each possible alteration\n",
    "    taking into account its context (using the values of the signatures_file) wheighted by the\n",
    "    number of observed mutations (MODIFIED FROM FRIGOLA ET AL.).\n",
    "\n",
    "    Args:\n",
    "\n",
    "    Returns:\n",
    "        :class:`~pandas.DataFrame`. Table with the relative position (to the exon center)\n",
    "        the number of mutations observed and expected in that position.\n",
    "\n",
    "    \"\"\"\n",
    "    nucleotides = set(['A', 'T', 'C', 'G'])\n",
    "    \n",
    "    ## Get signatures\n",
    "    all_signatures = pd.read_csv(signatures_file, sep='\\t')\n",
    "    probability_name = 'Probability_' + tumor_type\n",
    "    sub_signatures_df = all_signatures[['mutation', probability_name]]\n",
    "    signatures_dict = sub_signatures_df.set_index('mutation').T.to_dict()\n",
    "    \n",
    "    # Convert mutations into bed to intersect values\n",
    "    mutations_bed = pybedtools.BedTool.from_dataframe(mutations_df)\n",
    "\n",
    "    # Process exonic coordinates to get the 2001-nt region coords and convert into bed\n",
    "    ## Positions that correspond to the center of the exons\n",
    "    exon_coords_df['exon_size'] = (exon_coords_df['end'] - exon_coords_df['start'])\n",
    "    exon_coords_df['exon_middle_start'] = (exon_coords_df['start'] + exon_coords_df['exon_size']/2)\n",
    "    exon_coords_df['exon_middle_start'] = exon_coords_df.apply(lambda x: math.floor(x['exon_middle_start']), axis=1)\n",
    "    \n",
    "    ## Positions around the middle point\n",
    "    exon_coords_df['exon_middle_end'] = exon_coords_df['exon_middle_start'] + 1\n",
    "    exon_coords_df['region_start'] = exon_coords_df['exon_middle_start'] - middle_distance_threshold\n",
    "    exon_coords_df['region_end'] = exon_coords_df['exon_middle_end'] + middle_distance_threshold\n",
    "    region_coords = exon_coords_df[['chr', 'region_start', 'region_end', 'ensembl',\n",
    "                                          'exon_size', 'exon_middle_start', 'exon_middle_end', 'start', 'end']]\n",
    "    region_coords_bed = pybedtools.BedTool.from_dataframe(region_coords)\n",
    "\n",
    "    # Filter mutations by the full region of interest\n",
    "    my_bed = region_coords_bed.intersect(mutations_bed, wao=True)\n",
    "\n",
    "    mutations_in_range = pd.read_table(my_bed.fn, names = ['range_chr', 'range_start', 'range_end',\n",
    "                        'ensembl','region_size', 'region_middle_start', 'region_middle_end',\n",
    "                        'exon_start', 'exon_end', 'mut_chr', 'mut_start', 'mut_end', 'mut_ref', 'mut_alt',\n",
    "                        'mut_sample', 'mut_type', 'mut_ID', 'overlap_bp'],  sep=\"\\s+\", index_col=False, low_memory = False)\n",
    "    mutations_in_range = mutations_in_range[mutations_in_range['overlap_bp'] != 0]\n",
    "    print(\"The total amount of mutations at the middle exon-centered sequences is \" +\n",
    "          str(len(mutations_in_range.index)))\n",
    "    \n",
    "    # Count observed mutations\n",
    "    ## Create a dictionary of all observed positions at the range of the middle exon-centered window\n",
    "    mutations_in_range['relative_start'] = mutations_in_range['mut_start'] - mutations_in_range['region_middle_start']\n",
    "    exon_counts = mutations_in_range['relative_start'].value_counts().to_dict()\n",
    "    \n",
    "    ## Set count to 0 were no mutation has been found\n",
    "    for i in range(-middle_distance_threshold, middle_distance_threshold):\n",
    "        if i not in exon_counts.keys():\n",
    "            exon_counts[i] = 0\n",
    "    \n",
    "    ## Count mutations for every position with reported counts\n",
    "    my_exon_results_lol = list()\n",
    "    for my_position in exon_counts.keys():\n",
    "        my_count = exon_counts[my_position]\n",
    "        my_exon_results_lol.append([my_position, my_count])\n",
    "\n",
    "    my_exon_results_df = pd.DataFrame(my_exon_results_lol)\n",
    "    my_exon_results_df.columns = ['position', 'muts_count']\n",
    "    my_exon_results_df = my_exon_results_df.sort_values(by='position')\n",
    "    \n",
    "    # For each exonic region under analysis\n",
    "    # Get its relative position to the center of the exone\n",
    "    # Add the probability that is the sum of the probabilities of\n",
    "    final_position_prob_df = pd.DataFrame()\n",
    "    for my_row in region_coords.values.tolist(): ###FOR EACH EXON, EACH ROW, EACH 2001-nt SEQUENCE\n",
    "        position_prob_lol = list()\n",
    "        \n",
    "        ## Get coordinates\n",
    "        my_chr = my_row[0]\n",
    "        my_start = int(my_row[1])\n",
    "        my_end = int(my_row[2])\n",
    "        n_bases = my_end - my_start\n",
    "        \n",
    "        ## Delimit mutations in the range of that specific middle exon-centered sequence\n",
    "        my_region_muts = len(mutations_in_range[(mutations_in_range['range_start'] >= my_start) &\n",
    "                               (mutations_in_range['range_end'] <= my_end) &\n",
    "                               (mutations_in_range['range_chr'] == my_chr)])\n",
    "        ## If no mutations are reported for that specific middle exon-centered sequence, skip to the next one.\n",
    "        if my_region_muts == 0:\n",
    "            continue\n",
    "            \n",
    "        ## If not, get sequence.\n",
    "        my_exon_bases = hg19(my_chr, my_start+1-(k//2), size=n_bases+2*(k//2))\n",
    "        ## Divide sequences into kmers\n",
    "        my_kmers = [my_exon_bases[i:i+k] for i in range(len(my_exon_bases)-(k-1))]\n",
    "        \n",
    "        i = 0\n",
    "        ## Foreach kmer\n",
    "        for my_kmer in my_kmers:\n",
    "            my_ref_base = my_kmer[(k//2):(k//2)+1].upper() #Get the reference\n",
    "            my_alt_bases = nucleotides - set(my_ref_base) #The rest are alternative ones\n",
    "            my_base_probs = 0\n",
    "            previous_base = my_kmer[0:(k//2)] #Get previous and next base\n",
    "            next_base = my_kmer[(k//2)+1:]\n",
    "            \n",
    "            ### Foreach alternative, each of the three possible changes given a kmer.\n",
    "            for alt_base in my_alt_bases:\n",
    "                #### Built reference and alternate kmers\n",
    "                tri_ref = previous_base + str(my_ref_base) + next_base\n",
    "                tri_alt = previous_base + str(alt_base) + next_base\n",
    "                #### Create key for the signature dictionary\n",
    "                my_key = str((tri_ref, tri_alt))\n",
    "                try:\n",
    "                    ##### Add the probability of the three possible changes\n",
    "                    my_prob = signatures_dict[my_key]['Probability_' + tumor_type]\n",
    "                    my_base_probs = my_base_probs + my_prob\n",
    "                except:\n",
    "                    None\n",
    "            \n",
    "            ### Add the position in the 2001-nt window with the correspondent probability to a list\n",
    "            normalized_i = i - middle_distance_threshold\n",
    "            my_row = [normalized_i, my_base_probs]\n",
    "            position_prob_lol.append(my_row)\n",
    "            i += 1\n",
    "        \n",
    "        ## Convert the list to a dataframe\n",
    "        position_prob_df = pd.DataFrame(position_prob_lol)\n",
    "        position_prob_df.columns = ['position', 'probability']\n",
    "        \n",
    "        ## Reescaling probabilities to one\n",
    "        my_total = sum(position_prob_df['probability'])\n",
    "        position_prob_df['probability'] = position_prob_df['probability']/my_total\n",
    "        \n",
    "        ## Compute the expected by redistributing the total number of mutations in the 2001-nt \n",
    "        ## sequence according to the probabilities\n",
    "        position_prob_df['expected_muts'] = position_prob_df['probability']*my_region_muts\n",
    "        position_prob_df = position_prob_df[['position', 'expected_muts']]\n",
    "        \n",
    "        # Sum the expected results\n",
    "        if len(final_position_prob_df) == 0:\n",
    "            final_position_prob_df = position_prob_df\n",
    "        else:\n",
    "            final_position_prob_df['expected_muts'] = (final_position_prob_df['expected_muts'] +\n",
    "                                                       position_prob_df['expected_muts'])\n",
    "    \n",
    "    return pd.merge(my_exon_results_df, final_position_prob_df, on='position')"
   ]
  },
  {
   "cell_type": "code",
   "execution_count": 8,
   "metadata": {
    "collapsed": true
   },
   "outputs": [],
   "source": [
    "def compute_CpG_site(my_ref, my_pre, my_post):\n",
    "    \"\"\"\n",
    "    Compute if mutation falls on CpG site\n",
    "    \"\"\"\n",
    "    if my_ref == 'C' and my_post == 'G':\n",
    "        my_site = 'CpG'\n",
    "    elif my_ref == 'G' and my_pre == 'C':\n",
    "        my_site = 'GpC'\n",
    "    elif my_ref == 'C' and my_post != 'G':\n",
    "        my_site = 'nonCpG'\n",
    "    elif my_ref == 'G' and my_pre != 'C':\n",
    "        my_site = 'nonGpC'\n",
    "    elif my_ref == 'A':\n",
    "        my_site = 'A'\n",
    "    elif my_ref == 'T':\n",
    "        my_site = 'T'\n",
    "    return my_site"
   ]
  },
  {
   "cell_type": "code",
   "execution_count": 9,
   "metadata": {
    "collapsed": true
   },
   "outputs": [],
   "source": [
    "def obs_exp_muts_CpG(mutations_df, exon_coords_df, tumor_type, middle_distance_threshold, k, signatures_file):\n",
    "    \"\"\"\n",
    "    Get positions of the exons that correspond to the central position and a number of base pair\n",
    "    equal to middle_distance_threshold on each side\n",
    "    Compute the number of mutations per position under analysis.\n",
    "    For each of the relative positions, compute the sum of the probabilities of each possible alteration\n",
    "    taking into account its context (using the values of the signatures_file) wheighted by the\n",
    "    number of observed mutations (MODIFIED FROM FRIGOLA ET AL.).\n",
    "\n",
    "    Args:\n",
    "\n",
    "    Returns:\n",
    "        :class:`~pandas.DataFrame`. Table with the relative position (to the exon center)\n",
    "        the number of mutations observed and expected in that position.\n",
    "\n",
    "    \"\"\"\n",
    "    nucleotides = set(['A', 'T', 'C', 'G'])\n",
    "    \n",
    "    ## Get signatures\n",
    "    all_signatures = pd.read_csv(signatures_file, sep='\\t')\n",
    "    probability_name = 'Probability_' + tumor_type\n",
    "    sub_signatures_df = all_signatures[['mutation', probability_name]]\n",
    "    signatures_dict = sub_signatures_df.set_index('mutation').T.to_dict()\n",
    "    \n",
    "    # Convert mutations into bed to intersect values\n",
    "    mutations_bed = pybedtools.BedTool.from_dataframe(mutations_df)\n",
    "\n",
    "    # Process exonic coordinates to get the 2001-nt region coords and convert into bed\n",
    "    ## Positions that correspond to the center of the exons\n",
    "    exon_coords_df['exon_size'] = (exon_coords_df['end'] - exon_coords_df['start'])\n",
    "    exon_coords_df['exon_middle_start'] = (exon_coords_df['start'] + exon_coords_df['exon_size']/2)\n",
    "    exon_coords_df['exon_middle_start'] = exon_coords_df.apply(lambda x: math.floor(x['exon_middle_start']), axis=1)\n",
    "    \n",
    "    ## Positions around the middle point\n",
    "    exon_coords_df['exon_middle_end'] = exon_coords_df['exon_middle_start'] + 1\n",
    "    exon_coords_df['region_start'] = exon_coords_df['exon_middle_start'] - middle_distance_threshold\n",
    "    exon_coords_df['region_end'] = exon_coords_df['exon_middle_end'] + middle_distance_threshold\n",
    "    region_coords = exon_coords_df[['chr', 'region_start', 'region_end', 'ensembl',\n",
    "                                          'exon_size', 'exon_middle_start', 'exon_middle_end', 'start', 'end']]\n",
    "    region_coords_bed = pybedtools.BedTool.from_dataframe(region_coords)\n",
    "\n",
    "    # Filter mutations by the full region of interest\n",
    "    my_bed = region_coords_bed.intersect(mutations_bed, wao=True)\n",
    "\n",
    "    mutations_in_range = pd.read_table(my_bed.fn, names = ['range_chr', 'range_start', 'range_end',\n",
    "                        'ensembl','region_size', 'region_middle_start', 'region_middle_end',\n",
    "                        'exon_start', 'exon_end', 'mut_chr', 'mut_start', 'mut_end', 'mut_ref', 'mut_alt',\n",
    "                        'mut_sample', 'mut_type', 'mut_ID', 'overlap_bp'],  sep=\"\\s+\", index_col=False)\n",
    "    mutations_in_range = mutations_in_range[mutations_in_range['overlap_bp'] != 0]\n",
    "    print(\"The total amount of mutations at the middle exon-centered sequences is \" +\n",
    "          str(len(mutations_in_range.index)))\n",
    "    \n",
    "    # Count observed mutations\n",
    "    ## Create a dictionary of all observed positions at the range of the middle exon-centered window\n",
    "    mutations_in_range['relative_start'] = mutations_in_range['mut_start'] - mutations_in_range['region_middle_start']\n",
    "    exon_counts = mutations_in_range['relative_start'].value_counts().to_dict()\n",
    "    \n",
    "    ## Set count to 0 were no mutation has been found\n",
    "    for i in range(-middle_distance_threshold, middle_distance_threshold):\n",
    "        if i not in exon_counts.keys():\n",
    "            exon_counts[i] = 0\n",
    "    \n",
    "    ## Count mutations for every position with reported counts\n",
    "    my_exon_results_lol = list()\n",
    "    for my_position in exon_counts.keys():\n",
    "        my_count = exon_counts[my_position]\n",
    "        my_exon_results_lol.append([my_position, my_count])\n",
    "\n",
    "    my_exon_results_df = pd.DataFrame(my_exon_results_lol)\n",
    "    my_exon_results_df.columns = ['position', 'muts_count']\n",
    "    my_exon_results_df = my_exon_results_df.sort_values(by='position')\n",
    "    \n",
    "    # For each exonic region under analysis\n",
    "    # Get its relative position to the center of the exone\n",
    "    # Add the probability that is the sum of the probabilities of\n",
    "    final_position_prob_df = pd.DataFrame()\n",
    "    for my_row in region_coords.values.tolist(): ###FOR EACH EXON, EACH ROW, EACH 2001-nt SEQUENCE\n",
    "        position_prob_lol = list()\n",
    "        \n",
    "        ## Get coordinates\n",
    "        my_chr = my_row[0]\n",
    "        my_start = int(my_row[1])\n",
    "        my_end = int(my_row[2])\n",
    "        n_bases = my_end - my_start\n",
    "        \n",
    "        ## Delimit mutations in the range of that specific middle exon-centered sequence\n",
    "        my_region_muts = len(mutations_in_range[(mutations_in_range['range_start'] >= my_start) &\n",
    "                               (mutations_in_range['range_end'] <= my_end) &\n",
    "                               (mutations_in_range['range_chr'] == my_chr)])\n",
    "        ## If no mutations are reported for that specific middle exon-centered sequence, skip to the next one.\n",
    "        if my_region_muts == 0:\n",
    "            continue\n",
    "            \n",
    "        ## If not, get sequence.\n",
    "        my_exon_bases = hg19(my_chr, my_start+1-(k//2), size=n_bases+2*(k//2))\n",
    "        ## Divide sequences into kmers\n",
    "        my_kmers = [my_exon_bases[i:i+k] for i in range(len(my_exon_bases)-(k-1))]\n",
    "        \n",
    "        i = 0\n",
    "        ## Foreach kmer\n",
    "        for my_kmer in my_kmers:\n",
    "            my_ref_base = my_kmer[(k//2):(k//2)+1].upper() #Get the reference\n",
    "            my_alt_bases = nucleotides - set(my_ref_base) #The rest are alternative ones\n",
    "            my_base_probs = 0\n",
    "            previous_base = my_kmer[0:(k//2)] #Get previous and next base\n",
    "            next_base = my_kmer[(k//2)+1:]\n",
    "            tri_ref = compute_CpG_site(my_ref_base, previous_base, next_base)\n",
    "            \n",
    "            ### Foreach alternative, each of the three possible changes given a kmer.\n",
    "            for alt_base in my_alt_bases:\n",
    "                #### Built reference and alternate kmers             \n",
    "                tri_alt = alt_base\n",
    "                #### Create key for the signature dictionary\n",
    "                my_key = str((tri_ref, tri_alt))\n",
    "                try:\n",
    "                    ##### Add the probability of the three possible changes\n",
    "                    my_prob = signatures_dict[my_key]['Probability_' + tumor_type]\n",
    "                    my_base_probs = my_base_probs + my_prob\n",
    "                except:\n",
    "                    None\n",
    "            \n",
    "            ### Add the position in the 2001-nt window with the correspondent probability to a list\n",
    "            normalized_i = i - middle_distance_threshold\n",
    "            my_row = [normalized_i, my_base_probs]\n",
    "            position_prob_lol.append(my_row)\n",
    "            i += 1\n",
    "        \n",
    "        ## Convert the list to a dataframe\n",
    "        position_prob_df = pd.DataFrame(position_prob_lol)\n",
    "        position_prob_df.columns = ['position', 'probability']\n",
    "        \n",
    "        ## Reescaling probabilities to one\n",
    "        my_total = sum(position_prob_df['probability'])\n",
    "        position_prob_df['probability'] = position_prob_df['probability']/my_total\n",
    "        \n",
    "        ## Compute the expected by redistributing the total number of mutations in the 2001-nt \n",
    "        ## sequence according to the probabilities.\n",
    "        position_prob_df['expected_muts'] = position_prob_df['probability']*my_region_muts\n",
    "        position_prob_df = position_prob_df[['position', 'expected_muts']]\n",
    "        \n",
    "        # Sum the expected results\n",
    "        if len(final_position_prob_df) == 0:\n",
    "            final_position_prob_df = position_prob_df\n",
    "        else:\n",
    "            final_position_prob_df['expected_muts'] = (final_position_prob_df['expected_muts'] +\n",
    "                                                       position_prob_df['expected_muts'])\n",
    "    \n",
    "    return pd.merge(my_exon_results_df, final_position_prob_df, on='position')"
   ]
  },
  {
   "cell_type": "markdown",
   "metadata": {},
   "source": [
    "## Load data"
   ]
  },
  {
   "cell_type": "code",
   "execution_count": 10,
   "metadata": {
    "collapsed": true
   },
   "outputs": [],
   "source": [
    "## Get exon coordinates\n",
    "exons_coords_df = pd.read_csv(middle_exons_coords, sep=\"\\t\", header=None, low_memory=False)\n",
    "exons_coords_df.columns = ['chr', 'start', 'end', 'ensembl', 'symbol', 'strand']\n",
    "exons_coords_df = exons_coords_df[['chr', 'start', 'end', 'ensembl']]\n",
    "exons_coords_df['ensembl'] = exons_coords_df.apply(lambda x: remove_version_ensembl(x, 'ensembl'), axis=1)\n",
    "exons_coords_df.columns = ['chr', 'start', 'end', 'ensembl']"
   ]
  },
  {
   "cell_type": "markdown",
   "metadata": {},
   "source": [
    "## Exons centered analysis, Goldmann 2018\n",
    "\n",
    "Mutation probabilities were computed genome-wide using DNM. They were used to compute the expected number of mutations based on a generalized k-mer model, with the method described in the **Exon-centered and intron-centered mutational analyses** section at Frigola et al. for the 3-mer case."
   ]
  },
  {
   "cell_type": "code",
   "execution_count": 11,
   "metadata": {
    "collapsed": true
   },
   "outputs": [],
   "source": [
    "## Get mutations\n",
    "mutations_file = mutations_folder + 'germinal_ultimate_dataset.bed.gz'\n",
    "mutations_df = pd.read_csv(mutations_file, sep=\"\\t\", header=None)\n",
    "mutations_df.columns = ['chr', 'start', 'end', 'ref', 'alt', 'sample', 'type', 'class']\n",
    "mutations_df = mutations_df[['chr', 'start', 'end', 'ref', 'alt', 'sample', 'type']]\n",
    "mutations_df = mutations_df[mutations_df['type'] == 'subs']\n",
    "mutations_df = mutations_df[mutations_df['sample'] == 'Goldmann2018']\n",
    "mutations_df['ID'] = mutations_df.index + 1\n",
    "\n",
    "tumor_type = 'germinal'"
   ]
  },
  {
   "cell_type": "markdown",
   "metadata": {},
   "source": [
    "### 1-mer context dependency"
   ]
  },
  {
   "cell_type": "code",
   "execution_count": 13,
   "metadata": {},
   "outputs": [
    {
     "name": "stdout",
     "output_type": "stream",
     "text": [
      "The total amount of mutations at the middle exon-centered sequences is 5598\n"
     ]
    }
   ],
   "source": [
    "k = 1\n",
    "middle_distance_threshold = 1000\n",
    "signatures_file = 'results/' + str(k) + 'mer_signatures_DNM_golden.txt'\n",
    "\n",
    "exons_centered_results = obs_exp_muts_kmer(mutations_df, exons_coords_df, tumor_type, \n",
    "                                           middle_distance_threshold, k, signatures_file)\n",
    "\n",
    "exons_centered_results.to_csv('results/exons_centered_' + str(k) + 'mer_DNM_context_golden.tsv', sep=\"\\t\", header=True, index=False)"
   ]
  },
  {
   "cell_type": "markdown",
   "metadata": {},
   "source": [
    "### 1-mer context dependency, 9 classes with CpG"
   ]
  },
  {
   "cell_type": "code",
   "execution_count": 14,
   "metadata": {},
   "outputs": [
    {
     "name": "stdout",
     "output_type": "stream",
     "text": [
      "The total amount of mutations at the middle exon-centered sequences is 5598\n"
     ]
    }
   ],
   "source": [
    "k = 3\n",
    "middle_distance_threshold = 1000\n",
    "signatures_file = 'results/CpG_signatures_DNM_golden.txt'\n",
    "\n",
    "exons_centered_results = obs_exp_muts_CpG(mutations_df, exons_coords_df, tumor_type, \n",
    "                                           middle_distance_threshold, k, signatures_file)\n",
    "\n",
    "exons_centered_results.to_csv('results/exons_centered_CpG_DNM_context_golden.tsv', sep=\"\\t\", header=True, index=False)"
   ]
  },
  {
   "cell_type": "markdown",
   "metadata": {},
   "source": [
    "### 3-mer context dependency"
   ]
  },
  {
   "cell_type": "code",
   "execution_count": 15,
   "metadata": {},
   "outputs": [
    {
     "name": "stdout",
     "output_type": "stream",
     "text": [
      "The total amount of mutations at the middle exon-centered sequences is 5598\n"
     ]
    }
   ],
   "source": [
    "k = 3\n",
    "middle_distance_threshold = 1000\n",
    "signatures_file = 'results/' + str(k) + 'mer_signatures_DNM_golden.txt'\n",
    "\n",
    "exons_centered_results = obs_exp_muts_kmer(mutations_df, exons_coords_df, tumor_type, \n",
    "                                           middle_distance_threshold, k, signatures_file)\n",
    "\n",
    "exons_centered_results.to_csv('results/exons_centered_' + str(k) + 'mer_DNM_context_golden.tsv', sep=\"\\t\", header=True, index=False)"
   ]
  },
  {
   "cell_type": "markdown",
   "metadata": {},
   "source": [
    "### 5-mer context dependency"
   ]
  },
  {
   "cell_type": "code",
   "execution_count": 17,
   "metadata": {},
   "outputs": [
    {
     "name": "stdout",
     "output_type": "stream",
     "text": [
      "The total amount of mutations at the middle exon-centered sequences is 5598\n"
     ]
    }
   ],
   "source": [
    "k = 5\n",
    "middle_distance_threshold = 1000\n",
    "signatures_file = 'results/' + str(k) + 'mer_DNM_signatures_decomp_golden.txt'\n",
    "\n",
    "exons_centered_results = obs_exp_muts_kmer(mutations_df, exons_coords_df, tumor_type, \n",
    "                                           middle_distance_threshold, k, signatures_file)\n",
    "\n",
    "exons_centered_results.to_csv('results/exons_centered_' + str(k) + 'mer_DNM_context_golden.tsv', sep=\"\\t\", header=True, index=False)"
   ]
  },
  {
   "cell_type": "markdown",
   "metadata": {},
   "source": [
    "### 7-mer context dependency"
   ]
  },
  {
   "cell_type": "code",
   "execution_count": 18,
   "metadata": {},
   "outputs": [
    {
     "name": "stdout",
     "output_type": "stream",
     "text": [
      "The total amount of mutations at the middle exon-centered sequences is 5598\n"
     ]
    }
   ],
   "source": [
    "k = 7\n",
    "middle_distance_threshold = 1000\n",
    "signatures_file = 'results/' + str(k) + 'mer_DNM_signatures_decomp_golden.txt'\n",
    "\n",
    "exons_centered_results = obs_exp_muts_kmer(mutations_df, exons_coords_df, tumor_type, \n",
    "                                           middle_distance_threshold, k, signatures_file)\n",
    "\n",
    "exons_centered_results.to_csv('results/exons_centered_' + str(k) + 'mer_DNM_context_golden.tsv', sep=\"\\t\", header=True, index=False)"
   ]
  },
  {
   "cell_type": "markdown",
   "metadata": {},
   "source": [
    "### Plot results\n",
    "\n",
    "Binned average approach. Bin size is 25."
   ]
  },
  {
   "cell_type": "code",
   "execution_count": 24,
   "metadata": {
    "scrolled": true
   },
   "outputs": [
    {
     "name": "stderr",
     "output_type": "stream",
     "text": [
      "/home/peluca/anaconda3/envs/intronexon/lib/python3.6/site-packages/ipykernel_launcher.py:20: MatplotlibDeprecationWarning: The set_axis_bgcolor function was deprecated in version 2.0. Use set_facecolor instead.\n",
      "/home/peluca/anaconda3/envs/intronexon/lib/python3.6/site-packages/matplotlib/font_manager.py:1297: UserWarning: findfont: Font family ['sans-serif'] not found. Falling back to DejaVu Sans\n",
      "  (prop.get_family(), self.defaultFamily[fontext]))\n"
     ]
    },
    {
     "data": {
      "image/png": "[encoded data removed]",
      "text/plain": [
       "<matplotlib.figure.Figure at 0x7f0504b44f60>"
      ]
     },
     "metadata": {},
     "output_type": "display_data"
    }
   ],
   "source": [
    "size = 25\n",
    "\n",
    "listt = ['1mer_DNM_context_golden', 'CpG_DNM_context_golden', '3mer_DNM_context_golden',\n",
    "         '5mer_DNM_context_golden', '7mer_DNM_context_golden']\n",
    "\n",
    "NROW=2\n",
    "NCOL=3\n",
    "\n",
    "axs = []\n",
    "\n",
    "fig = plt.figure(figsize=(7,4))\n",
    "\n",
    "for row in range(0, NROW):\n",
    "    for col in range(0, NCOL):\n",
    "        axs.append(plt.subplot2grid((NROW, NCOL), (row, col)))\n",
    "\n",
    "cnt=0\n",
    "for ele in listt:\n",
    "    plot_HD_BINNED(ele, axs[cnt], cnt, size)\n",
    "    cnt+=1\n",
    "    \n",
    "plt.tight_layout()\n",
    "plt.savefig(path.join('figures', 'internal_exon_centered_DNM_context_binned_golden.svg'), bbox_inches='tight')\n",
    "plt.show()"
   ]
  },
  {
   "cell_type": "markdown",
   "metadata": {},
   "source": [
    "## Exons centered analysis, DNM\n",
    "\n",
    "Mutation probabilities were computed genome-wide using DNM. They were used to compute the expected number of mutations based on a generalized k-mer model, with the method described in the **Exon-centered and intron-centered mutational analyses** section at Frigola et al. for the 3-mer case."
   ]
  },
  {
   "cell_type": "code",
   "execution_count": 12,
   "metadata": {
    "collapsed": true
   },
   "outputs": [],
   "source": [
    "## Get mutations\n",
    "mutations_file = mutations_folder + 'germinal_ultimate_dataset.bed.gz'\n",
    "mutations_df = pd.read_csv(mutations_file, sep=\"\\t\", header=None)\n",
    "mutations_df.columns = ['chr', 'start', 'end', 'ref', 'alt', 'sample', 'type', 'class']\n",
    "mutations_df = mutations_df[['chr', 'start', 'end', 'ref', 'alt', 'sample', 'type']]\n",
    "mutations_df = mutations_df[mutations_df['type'] == 'subs']\n",
    "mutations_df['ID'] = mutations_df.index + 1\n",
    "\n",
    "tumor_type = 'germinal'"
   ]
  },
  {
   "cell_type": "markdown",
   "metadata": {},
   "source": [
    "### 1-mer context dependency"
   ]
  },
  {
   "cell_type": "code",
   "execution_count": 13,
   "metadata": {},
   "outputs": [
    {
     "name": "stdout",
     "output_type": "stream",
     "text": [
      "The total amount of mutations at the middle exon-centered sequences is 50780\n"
     ]
    }
   ],
   "source": [
    "k = 1\n",
    "middle_distance_threshold = 1000\n",
    "signatures_file = 'results/' + str(k) + 'mer_signatures_DNM_new.txt'\n",
    "\n",
    "exons_centered_results = obs_exp_muts_kmer(mutations_df, exons_coords_df, tumor_type, \n",
    "                                           middle_distance_threshold, k, signatures_file)\n",
    "\n",
    "exons_centered_results.to_csv('results/exons_centered_' + str(k) + 'mer_DNM_context.tsv', sep=\"\\t\", header=True, index=False)"
   ]
  },
  {
   "cell_type": "markdown",
   "metadata": {},
   "source": [
    "### 1-mer context dependency, 9 classes with CpG"
   ]
  },
  {
   "cell_type": "code",
   "execution_count": 14,
   "metadata": {},
   "outputs": [
    {
     "name": "stdout",
     "output_type": "stream",
     "text": [
      "The total amount of mutations at the middle exon-centered sequences is 50780\n"
     ]
    }
   ],
   "source": [
    "k = 3\n",
    "middle_distance_threshold = 1000\n",
    "signatures_file = 'results/CpG_signatures_DNM_new.txt'\n",
    "\n",
    "exons_centered_results = obs_exp_muts_CpG(mutations_df, exons_coords_df, tumor_type, \n",
    "                                           middle_distance_threshold, k, signatures_file)\n",
    "\n",
    "exons_centered_results.to_csv('results/exons_centered_CpG_DNM_context.tsv', sep=\"\\t\", header=True, index=False)"
   ]
  },
  {
   "cell_type": "markdown",
   "metadata": {},
   "source": [
    "### 3-mer context dependency"
   ]
  },
  {
   "cell_type": "code",
   "execution_count": 15,
   "metadata": {},
   "outputs": [
    {
     "name": "stdout",
     "output_type": "stream",
     "text": [
      "The total amount of mutations at the middle exon-centered sequences is 50780\n"
     ]
    }
   ],
   "source": [
    "k = 3\n",
    "middle_distance_threshold = 1000\n",
    "signatures_file = 'results/' + str(k) + 'mer_signatures_DNM_new.txt'\n",
    "\n",
    "exons_centered_results = obs_exp_muts_kmer(mutations_df, exons_coords_df, tumor_type, \n",
    "                                           middle_distance_threshold, k, signatures_file)\n",
    "\n",
    "exons_centered_results.to_csv('results/exons_centered_' + str(k) + 'mer_DNM_context.tsv', sep=\"\\t\", header=True, index=False)"
   ]
  },
  {
   "cell_type": "markdown",
   "metadata": {},
   "source": [
    "### 5-mer context dependency"
   ]
  },
  {
   "cell_type": "code",
   "execution_count": null,
   "metadata": {},
   "outputs": [
    {
     "name": "stdout",
     "output_type": "stream",
     "text": [
      "The total amount of mutations at the middle exon-centered sequences is 50780\n"
     ]
    }
   ],
   "source": [
    "k = 5\n",
    "middle_distance_threshold = 1000\n",
    "signatures_file = 'results/' + str(k) + 'mer_signatures_DNM_new.txt'\n",
    "\n",
    "exons_centered_results = obs_exp_muts_kmer(mutations_df, exons_coords_df, tumor_type, \n",
    "                                           middle_distance_threshold, k, signatures_file)\n",
    "\n",
    "exons_centered_results.to_csv('results/exons_centered_' + str(k) + 'mer_DNM_context.tsv', sep=\"\\t\", header=True, index=False)"
   ]
  },
  {
   "cell_type": "markdown",
   "metadata": {},
   "source": [
    "### 7-mer context dependency"
   ]
  },
  {
   "cell_type": "code",
   "execution_count": null,
   "metadata": {},
   "outputs": [
    {
     "name": "stdout",
     "output_type": "stream",
     "text": [
      "The total amount of mutations at the middle exon-centered sequences is 50780\n"
     ]
    }
   ],
   "source": [
    "k = 7\n",
    "middle_distance_threshold = 1000\n",
    "signatures_file = 'results/' + str(k) + 'mer_DNM_signatures_decomp.txt'\n",
    "\n",
    "exons_centered_results = obs_exp_muts_kmer(mutations_df, exons_coords_df, tumor_type, \n",
    "                                           middle_distance_threshold, k, signatures_file)\n",
    "\n",
    "exons_centered_results.to_csv('results/exons_centered_' + str(k) + 'mer_DNM_context.tsv', sep=\"\\t\", header=True, index=False)"
   ]
  },
  {
   "cell_type": "markdown",
   "metadata": {},
   "source": [
    "### Plot results\n",
    "\n",
    "Binned average approach. Bin size is 25."
   ]
  },
  {
   "cell_type": "code",
   "execution_count": null,
   "metadata": {
    "scrolled": true
   },
   "outputs": [],
   "source": [
    "size = 25\n",
    "\n",
    "listt = ['1mer_DNM_context', 'CpG_DNM_context', '3mer_DNM_context',\n",
    "         '5mer_DNM_context', '7mer_DNM_context']\n",
    "\n",
    "NROW=2\n",
    "NCOL=3\n",
    "\n",
    "axs = []\n",
    "\n",
    "fig = plt.figure(figsize=(7,4))\n",
    "\n",
    "for row in range(0, NROW):\n",
    "    for col in range(0, NCOL):\n",
    "        axs.append(plt.subplot2grid((NROW, NCOL), (row, col)))\n",
    "\n",
    "cnt=0\n",
    "for ele in listt:\n",
    "    plot_HD_BINNED(ele, axs[cnt], cnt, size)\n",
    "    cnt+=1\n",
    "    \n",
    "plt.tight_layout()\n",
    "plt.savefig(path.join('figures', 'internal_exon_centered_DNM_context_binned.svg'), bbox_inches='tight')\n",
    "plt.show()"
   ]
  },
  {
   "cell_type": "markdown",
   "metadata": {},
   "source": [
    "### Plot results\n",
    "\n",
    "Polynomial fit approach."
   ]
  },
  {
   "cell_type": "code",
   "execution_count": null,
   "metadata": {},
   "outputs": [],
   "source": [
    "listt = ['1mer_DNM_context', 'CpG_DNM_context', '3mer_DNM_context',\n",
    "         '5mer_DNM_context', '7mer_DNM_context']\n",
    "\n",
    "NROW=2\n",
    "NCOL=3\n",
    "\n",
    "axs = []\n",
    "\n",
    "fig = plt.figure(figsize=(7,4))\n",
    "\n",
    "for row in range(0, NROW):\n",
    "    for col in range(0, NCOL):\n",
    "        axs.append(plt.subplot2grid((NROW, NCOL), (row, col)))\n",
    "\n",
    "cnt=0\n",
    "for ele in listt:\n",
    "    plot_HD(ele, axs[cnt], cnt)\n",
    "    cnt+=1\n",
    "    \n",
    "    \n",
    "plt.tight_layout()\n",
    "plt.savefig(path.join('figures', 'internal_exon_centered_DNM_context_polynomial.svg'), bbox_inches='tight')\n",
    "plt.show()"
   ]
  },
  {
   "cell_type": "markdown",
   "metadata": {},
   "source": [
    "## Exons centered analysis, ERV\n",
    "\n",
    "Mutation probabilities were computed exome-wide using ERV (MAF < 10^-5). They were used to compute the expected number of mutations based on a generalized k-mer model, with the method described in the **Exon-centered and intron-centered mutational analyses** section at Frigola et al. for the 3-mer case."
   ]
  },
  {
   "cell_type": "code",
   "execution_count": 48,
   "metadata": {
    "collapsed": true
   },
   "outputs": [],
   "source": [
    "## Get mutations\n",
    "mutations_file = mutations_folder + 'germinal_new_dataset.bed.gz'\n",
    "mutations_df = pd.read_csv(mutations_file, sep=\"\\t\", header=None)\n",
    "mutations_df.columns = ['chr', 'start', 'end', 'ref', 'alt', 'sample', 'type', 'class']\n",
    "mutations_df = mutations_df[['chr', 'start', 'end', 'ref', 'alt', 'sample', 'type']]\n",
    "mutations_df = mutations_df[mutations_df['type'] == 'subs']\n",
    "mutations_df['ID'] = mutations_df.index + 1\n",
    "\n",
    "tumor_type = 'ERV'"
   ]
  },
  {
   "cell_type": "markdown",
   "metadata": {},
   "source": [
    "### 1-mer context dependency"
   ]
  },
  {
   "cell_type": "code",
   "execution_count": 49,
   "metadata": {},
   "outputs": [
    {
     "name": "stdout",
     "output_type": "stream",
     "text": [
      "The total amount of mutations at the middle exon-centered sequences is 30023\n"
     ]
    }
   ],
   "source": [
    "k = 1\n",
    "middle_distance_threshold = 1000\n",
    "signatures_file = 'results/' + str(k) + 'mer_signatures_ERV.txt'\n",
    "\n",
    "exons_centered_results = obs_exp_muts_kmer(mutations_df, exons_coords_df, tumor_type,\n",
    "                                           middle_distance_threshold, k, signatures_file)\n",
    "\n",
    "exons_centered_results.to_csv('results/exons_centered_' + str(k) + 'mer_ERV_context.tsv', sep=\"\\t\", header=True, index=False)"
   ]
  },
  {
   "cell_type": "markdown",
   "metadata": {},
   "source": [
    "### 1-mer context dependency, 9 classes with CpG"
   ]
  },
  {
   "cell_type": "code",
   "execution_count": 42,
   "metadata": {},
   "outputs": [
    {
     "name": "stdout",
     "output_type": "stream",
     "text": [
      "The total amount of mutations at the middle exon-centered sequences is 30023\n"
     ]
    }
   ],
   "source": [
    "k = 3\n",
    "middle_distance_threshold = 1000\n",
    "signatures_file = 'results/CpG_signatures_ERV.txt'\n",
    "\n",
    "exons_centered_results = obs_exp_muts_CpG(mutations_df, exons_coords_df, tumor_type, \n",
    "                                           middle_distance_threshold, k, signatures_file)\n",
    "\n",
    "exons_centered_results.to_csv('results/exons_centered_CpG_ERV_context.tsv', sep=\"\\t\", header=True, index=False)"
   ]
  },
  {
   "cell_type": "markdown",
   "metadata": {},
   "source": [
    "### 3-mer context dependency"
   ]
  },
  {
   "cell_type": "code",
   "execution_count": 50,
   "metadata": {},
   "outputs": [
    {
     "name": "stdout",
     "output_type": "stream",
     "text": [
      "The total amount of mutations at the middle exon-centered sequences is 30023\n"
     ]
    }
   ],
   "source": [
    "k = 3\n",
    "middle_distance_threshold = 1000\n",
    "signatures_file = 'results/' + str(k) + 'mer_signatures_ERV.txt'\n",
    "\n",
    "exons_centered_results = obs_exp_muts_kmer(mutations_df, exons_coords_df, tumor_type,\n",
    "                                           middle_distance_threshold, k, signatures_file)\n",
    "\n",
    "exons_centered_results.to_csv('results/exons_centered_' + str(k) + 'mer_ERV_context.tsv', sep=\"\\t\", header=True, index=False)"
   ]
  },
  {
   "cell_type": "markdown",
   "metadata": {},
   "source": [
    "### 5-mer context dependency"
   ]
  },
  {
   "cell_type": "code",
   "execution_count": 51,
   "metadata": {},
   "outputs": [
    {
     "name": "stdout",
     "output_type": "stream",
     "text": [
      "The total amount of mutations at the middle exon-centered sequences is 30023\n"
     ]
    }
   ],
   "source": [
    "k = 5\n",
    "middle_distance_threshold = 1000\n",
    "signatures_file = 'results/' + str(k) + 'mer_signatures_ERV.txt'\n",
    "\n",
    "exons_centered_results = obs_exp_muts_kmer(mutations_df, exons_coords_df, tumor_type,\n",
    "                                           middle_distance_threshold, k, signatures_file)\n",
    "\n",
    "exons_centered_results.to_csv('results/exons_centered_' + str(k) + 'mer_ERV_context.tsv', sep=\"\\t\", header=True, index=False)"
   ]
  },
  {
   "cell_type": "markdown",
   "metadata": {},
   "source": [
    "### 7-mer context dependency"
   ]
  },
  {
   "cell_type": "code",
   "execution_count": 52,
   "metadata": {},
   "outputs": [
    {
     "name": "stdout",
     "output_type": "stream",
     "text": [
      "The total amount of mutations at the middle exon-centered sequences is 30023\n"
     ]
    }
   ],
   "source": [
    "k = 7\n",
    "middle_distance_threshold = 1000\n",
    "signatures_file = 'results/' + str(k) + 'mer_signatures_ERV.txt'\n",
    "\n",
    "exons_centered_results = obs_exp_muts_kmer(mutations_df, exons_coords_df, tumor_type,\n",
    "                                           middle_distance_threshold, k, signatures_file)\n",
    "\n",
    "exons_centered_results.to_csv('results/exons_centered_' + str(k) + 'mer_ERV_context.tsv', sep=\"\\t\", header=True, index=False)"
   ]
  },
  {
   "cell_type": "markdown",
   "metadata": {},
   "source": [
    "### 9-mer context dependency"
   ]
  },
  {
   "cell_type": "code",
   "execution_count": null,
   "metadata": {
    "collapsed": true
   },
   "outputs": [],
   "source": [
    "k = 9\n",
    "middle_distance_threshold = 1000\n",
    "signatures_file = 'results/' + str(k) + 'mer_signatures_ERV.txt'\n",
    "\n",
    "exons_centered_results = obs_exp_muts_kmer(mutations_df, exons_coords_df, tumor_type,\n",
    "                                           middle_distance_threshold, k, signatures_file)\n",
    "\n",
    "exons_centered_results.to_csv('results/exons_centered_' + str(k) + 'mer_ERV_context.tsv', sep=\"\\t\", header=True, index=False)"
   ]
  },
  {
   "cell_type": "markdown",
   "metadata": {},
   "source": [
    "### Plot results\n",
    "\n",
    "Polynomial fit approach."
   ]
  },
  {
   "cell_type": "code",
   "execution_count": 53,
   "metadata": {},
   "outputs": [
    {
     "name": "stderr",
     "output_type": "stream",
     "text": [
      "/home/peluca/anaconda3/envs/intronexon/lib/python3.6/site-packages/ipykernel_launcher.py:10: RankWarning: The fit may be poorly conditioned\n",
      "  # Remove the CWD from sys.path while we load stuff.\n",
      "/home/peluca/anaconda3/envs/intronexon/lib/python3.6/site-packages/ipykernel_launcher.py:17: RankWarning: The fit may be poorly conditioned\n",
      "/home/peluca/anaconda3/envs/intronexon/lib/python3.6/site-packages/ipykernel_launcher.py:21: MatplotlibDeprecationWarning: The set_axis_bgcolor function was deprecated in version 2.0. Use set_facecolor instead.\n",
      "/home/peluca/anaconda3/envs/intronexon/lib/python3.6/site-packages/matplotlib/font_manager.py:1297: UserWarning: findfont: Font family ['sans-serif'] not found. Falling back to DejaVu Sans\n",
      "  (prop.get_family(), self.defaultFamily[fontext]))\n"
     ]
    },
    {
     "data": {
      "image/png": "[encoded data removed]",
      "text/plain": [
       "<matplotlib.figure.Figure at 0x7f60a03bf710>"
      ]
     },
     "metadata": {},
     "output_type": "display_data"
    }
   ],
   "source": [
    "listt = ['1mer_ERV_context', '3mer_ERV_context', '5mer_ERV_context', '7mer_ERV_context']  \n",
    "\n",
    "NROW=2\n",
    "NCOL=2\n",
    "\n",
    "axs = []\n",
    "\n",
    "fig = plt.figure(figsize=(7,4))\n",
    "\n",
    "for row in range(0, NROW):\n",
    "    for col in range(0, NCOL):\n",
    "        axs.append(plt.subplot2grid((NROW, NCOL), (row, col)))\n",
    "\n",
    "cnt=0\n",
    "for ele in listt:\n",
    "    plot_HD(ele, axs[cnt], cnt)\n",
    "    cnt+=1\n",
    "    \n",
    "    \n",
    "plt.tight_layout()\n",
    "plt.savefig(path.join('figures', 'internal_exon_centered_ERV_context_polynomial.svg'), bbox_inches='tight')\n",
    "plt.show()"
   ]
  },
  {
   "cell_type": "markdown",
   "metadata": {},
   "source": [
    "### Plot results\n",
    "\n",
    "Binned average approach. Bin size is 25."
   ]
  },
  {
   "cell_type": "code",
   "execution_count": 55,
   "metadata": {},
   "outputs": [
    {
     "name": "stderr",
     "output_type": "stream",
     "text": [
      "/home/peluca/anaconda3/envs/intronexon/lib/python3.6/site-packages/ipykernel_launcher.py:20: MatplotlibDeprecationWarning: The set_axis_bgcolor function was deprecated in version 2.0. Use set_facecolor instead.\n",
      "/home/peluca/anaconda3/envs/intronexon/lib/python3.6/site-packages/matplotlib/font_manager.py:1297: UserWarning: findfont: Font family ['sans-serif'] not found. Falling back to DejaVu Sans\n",
      "  (prop.get_family(), self.defaultFamily[fontext]))\n"
     ]
    },
    {
     "data": {
      "image/png": "[encoded data removed]",
      "text/plain": [
       "<matplotlib.figure.Figure at 0x7f60a546eb00>"
      ]
     },
     "metadata": {},
     "output_type": "display_data"
    }
   ],
   "source": [
    "size = 25\n",
    "\n",
    "listt = ['1mer_ERV_context', '3mer_ERV_context', '5mer_ERV_context', '7mer_ERV_context']  \n",
    "\n",
    "NROW=2\n",
    "NCOL=2\n",
    "\n",
    "axs = []\n",
    "\n",
    "fig = plt.figure(figsize=(7,4))\n",
    "\n",
    "for row in range(0, NROW):\n",
    "    for col in range(0, NCOL):\n",
    "        axs.append(plt.subplot2grid((NROW, NCOL), (row, col)))\n",
    "\n",
    "cnt=0\n",
    "for ele in listt:\n",
    "    plot_HD_BINNED(ele, axs[cnt], cnt, size)\n",
    "    cnt+=1\n",
    "    \n",
    "plt.tight_layout()\n",
    "plt.savefig(path.join('figures', 'internal_exon_centered_ERV_context_binned.svg'), bbox_inches='tight')\n",
    "plt.show()"
   ]
  },
  {
   "cell_type": "code",
   "execution_count": null,
   "metadata": {
    "collapsed": true
   },
   "outputs": [],
   "source": []
  }
 ],
 "metadata": {
  "anaconda-cloud": {},
  "kernelspec": {
   "display_name": "Python 3",
   "language": "python",
   "name": "python3"
  },
  "language_info": {
   "codemirror_mode": {
    "name": "ipython",
    "version": 3
   },
   "file_extension": ".py",
   "mimetype": "text/x-python",
   "name": "python",
   "nbconvert_exporter": "python",
   "pygments_lexer": "ipython3",
   "version": "3.6.1"
  }
 },
 "nbformat": 4,
 "nbformat_minor": 1
}
