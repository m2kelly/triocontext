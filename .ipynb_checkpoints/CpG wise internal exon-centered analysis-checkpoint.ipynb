{
 "cells": [
  {
   "cell_type": "markdown",
   "metadata": {},
   "source": [
    "# CpG wise internal exon-centered analysis\n",
    "\n",
    "The aim of this notebook is to perform the internal exon-analysis with different classes of mutations in order to find obs vs exp biases.\n",
    "\n",
    "\n",
    "## Output\n",
    "\n",
    "The output of the notebook is multiple intermediate files containing numbers of observed and expected mutations and several plots.\n"
   ]
  },
  {
   "cell_type": "code",
   "execution_count": 1,
   "metadata": {
    "collapsed": true
   },
   "outputs": [],
   "source": [
    "%matplotlib inline\n",
    "\n",
    "from os import path\n",
    "import math\n",
    "import pybedtools\n",
    "from bgreference import hg19\n",
    "import pandas as pd\n",
    "import matplotlib.pyplot as plt\n",
    "import numpy as np\n",
    "import numpy.polynomial.polynomial as poly\n",
    "import matplotlib.ticker as plticker\n",
    "import gzip, pickle\n",
    "import statistics as st\n",
    "\n",
    "from python_scripts.plot_functions import config_plot_params\n",
    "config_plot_params()"
   ]
  },
  {
   "cell_type": "markdown",
   "metadata": {},
   "source": [
    "## Input files\n",
    "\n",
    "Files in **data** directory.\n",
    "\n",
    "- *middle_exons_coords*: file with the coordinates of the middle exons\n",
    "\n",
    "Files in **results** directory.\n",
    "\n",
    "- *ALL_signatures.txt*: file with the mutational signatures computed from all the genome-wide mutation dataset\n",
    "\n",
    "### Other inputs\n",
    "\n",
    "- mutations_folder: base directory where the files with the mutations are located\n",
    "- tumor_type: id of the tumor (germinal in our case)"
   ]
  },
  {
   "cell_type": "code",
   "execution_count": 2,
   "metadata": {
    "collapsed": true
   },
   "outputs": [],
   "source": [
    "# Path to data\n",
    "middle_exons_coords = 'data/coordinates/genes_middle_exon_coords.bed.gz'\n",
    "\n",
    "# Other\n",
    "mutations_folder = 'non_provided_data/mutations/'\n",
    "tumor_type = 'germinal'"
   ]
  },
  {
   "cell_type": "markdown",
   "metadata": {},
   "source": [
    "## Functions\n",
    "\n",
    "All the functions needed for this notebook are coded below"
   ]
  },
  {
   "cell_type": "code",
   "execution_count": 11,
   "metadata": {
    "collapsed": true
   },
   "outputs": [],
   "source": [
    "def remove_version_ensembl(x, colname):\n",
    "    \"\"\"\n",
    "    Remove version from the ensembl ID\n",
    "\n",
    "    Args:\n",
    "        x: dataframe row\n",
    "        colname: column name\n",
    "\n",
    "    Returns:\n",
    "        str. Text before a '.'\n",
    "\n",
    "    \"\"\"\n",
    "    ensembl_id = x[colname]\n",
    "    ensembl_id_only = ensembl_id.split('.')[0]\n",
    "\n",
    "    return ensembl_id_only"
   ]
  },
  {
   "cell_type": "code",
   "execution_count": 50,
   "metadata": {
    "collapsed": true
   },
   "outputs": [],
   "source": [
    "def obs_exp_muts_excluding(mutations_df, exons_coords_df, signatures_dict, tumor_type, middle_distance_threshold,\n",
    "                           include):\n",
    "    \"\"\"\n",
    "    Get positions of the exons that correspond to the central position and a number of base pair\n",
    "    equal to middle_distance_threshold on each side. Compute the number of mutations per position under analysis.\n",
    "    For each of the relative positions, compute the sum of the probabilities of each possible alteration\n",
    "    taking into account its context (using the values of the signatures_file) wheighted by the number of observed \n",
    "    mutations (MODIFIED FROM FRIGOLA ET AL.).\n",
    "    You can exclude C>T or non-C>T mutations by specifying it.\n",
    "    \n",
    "    Args:\n",
    "        mutations_df:\n",
    "        exons_coords_symbol_df:\n",
    "        signatures_dict:\n",
    "        tumor_type: \n",
    "        middle_distance_threshold:\n",
    "        include:\n",
    "\n",
    "    Returns:\n",
    "        :class:`~pandas.DataFrame`. Table with the relative position (to the exon center)\n",
    "        the number of mutations observed and expected in that position.\n",
    "\n",
    "    \"\"\"\n",
    "    \n",
    "    nucleotides = set(['A', 'T', 'C', 'G'])\n",
    "    \n",
    "    # Convert mutations into bed to intersect values\n",
    "    mutations_bed = pybedtools.BedTool.from_dataframe(mutations_df)\n",
    "\n",
    "    # Convert exonic coordinates into bed to intersect values\n",
    "    exon_coords_bed = pybedtools.BedTool.from_dataframe(exons_coords_df)\n",
    "\n",
    "    # Process exonic coordinates to get the 2001-nt region coords and convert into bed\n",
    "    ## Positions that correspond to the center of the exons\n",
    "    exons_coords_symbol_df['exon_size'] = (exons_coords_symbol_df['end'] - exons_coords_symbol_df['start'])\n",
    "    exons_coords_symbol_df['exon_middle_start'] = (exons_coords_symbol_df['start'] + exons_coords_symbol_df['exon_size']/2)\n",
    "    exons_coords_symbol_df['exon_middle_start'] = exons_coords_symbol_df.apply(lambda x:\n",
    "                                                                       math.floor(x['exon_middle_start']), axis=1)\n",
    "    \n",
    "    ## Positions around the middle point\n",
    "    exons_coords_symbol_df['exon_middle_end'] = exons_coords_symbol_df['exon_middle_start'] + 1\n",
    "    exons_coords_symbol_df['region_start'] = exons_coords_symbol_df['exon_middle_start'] - middle_distance_threshold\n",
    "    exons_coords_symbol_df['region_end'] = exons_coords_symbol_df['exon_middle_end'] + middle_distance_threshold\n",
    "    region_coords = exons_coords_symbol_df[['chr', 'region_start', 'region_end', 'ensembl',\n",
    "                                          'exon_size', 'exon_middle_start', 'exon_middle_end', 'start', 'end']]\n",
    "    region_coords_bed = pybedtools.BedTool.from_dataframe(region_coords)\n",
    "\n",
    "    # Filter mutations by the region of interest\n",
    "    my_bed = region_coords_bed.intersect(mutations_bed, wao=True)\n",
    "\n",
    "    mutations_in_range = pd.read_table(my_bed.fn, names = ['range_chr', 'range_start', 'range_end',\n",
    "                        'ensembl','region_size', 'region_middle_start', 'region_middle_end',\n",
    "                        'exon_start', 'exon_end', 'mut_chr', 'mut_start', 'mut_end', 'mut_ref', 'mut_alt',\n",
    "                        'mut_sample', 'mut_type', 'mut_ID', 'overlap_bp'],  sep=\"\\s+\", index_col=False)\n",
    "    mutations_in_range = mutations_in_range[mutations_in_range['overlap_bp'] != 0]\n",
    "    \n",
    "    # Classify observed mutations as CpG > T or notCpG > T, maintain the class that should be included.\n",
    "    mutations_in_range['pre'] = mutations_in_range.apply(lambda x: hg19(x['mut_chr'], x['mut_end']-1), axis=1)\n",
    "    mutations_in_range['post'] = mutations_in_range.apply(lambda x: hg19(x['mut_chr'], x['mut_end']+1), axis=1)\n",
    "    mutations_in_range['mut_class'] = mutations_in_range.apply(lambda x: compute_CpG_to_T(x['mut_ref'],\n",
    "                                                                x['mut_alt'], x['pre'], x['post']), axis=1)\n",
    "    mutations_in_range = mutations_in_range[mutations_in_range['mut_class'] == include]\n",
    "\n",
    "    # Count observed mutations\n",
    "    ## Create a dictionary of all observed positions at the range of the middle exon-centered window\n",
    "    mutations_in_range['relative_start'] = mutations_in_range['mut_start'] - mutations_in_range['region_middle_start']\n",
    "    exon_counts = mutations_in_range['relative_start'].value_counts().to_dict()\n",
    "\n",
    "    ## Set count to 0 were no mutation has been found\n",
    "    for i in range(-middle_distance_threshold,middle_distance_threshold):\n",
    "        if i not in exon_counts.keys():\n",
    "            exon_counts[i] = 0\n",
    "    \n",
    "    ## Count mutations for every position with reported counts\n",
    "    my_exon_results_lol = list()\n",
    "    for my_position in exon_counts.keys():\n",
    "        my_count = exon_counts[my_position]\n",
    "        my_exon_results_lol.append([my_position, my_count])\n",
    "\n",
    "    my_exon_results_df = pd.DataFrame(my_exon_results_lol)\n",
    "    my_exon_results_df.columns = ['position', 'muts_count']\n",
    "    my_exon_results_df = my_exon_results_df.sort_values(by='position')\n",
    "\n",
    "    # Compute expected mutations\n",
    "    ## For each exonic region under analysis get its relative position to the center of the exon\n",
    "    ## and add the probability that is the sum of the probabilities of the changes\n",
    "    final_position_prob_df = pd.DataFrame()\n",
    "    for my_row in region_coords.values.tolist(): ###For each middle exon-centered sequence:\n",
    "        position_prob_lol = list()\n",
    "        \n",
    "        ## Get coordinates\n",
    "        my_chr = my_row[0]\n",
    "        my_start = int(my_row[1])\n",
    "        my_end = int(my_row[2])\n",
    "        n_bases = my_end - my_start\n",
    "        \n",
    "        ## Delimit mutations in the range of that specific middle exon-centered sequence\n",
    "        my_region_muts = len(mutations_in_range[(mutations_in_range['range_start'] >= my_start) &\n",
    "                               (mutations_in_range['range_end'] <= my_end) &\n",
    "                               (mutations_in_range['range_chr'] == my_chr)])\n",
    "        \n",
    "        ## If no mutations are reported for that specific middle exon-centered sequence, skip to the next one.\n",
    "        if my_region_muts == 0:\n",
    "            continue\n",
    "        ## If mutations are reported, get the sequence:\n",
    "        my_exon_bases = hg19(my_chr, my_start, size=n_bases+2)\n",
    "        \n",
    "        ## DIVIDE SEQUENCE INTO TRINUCLEOTIDES\n",
    "        my_trinucleotides = [my_exon_bases[i:i+3] for i in range(len(my_exon_bases)-2)]\n",
    "        \n",
    "        i = 0\n",
    "        for my_trinucleotide in my_trinucleotides: #FOREACH TRINUCLEOTIDE\n",
    "            my_ref_base = my_trinucleotide[1].upper() #GET THE REFERENCE\n",
    "            my_alt_bases = nucleotides - set(my_ref_base) #THE REST ARE ALTERNATIVE ONES\n",
    "            my_base_probs = 0\n",
    "            previous_base = my_trinucleotide[0] #GET PREVIOUS AND NEXT BASE\n",
    "            next_base = my_trinucleotide[2]\n",
    "\n",
    "            for alt_base in my_alt_bases: #FOREACH ALTERNATIVE, EACH OF THE THREE POSSIBLE CHANGES GIVEN A TRINUCLEOTIDE\n",
    "                class_mut = compute_CpG_to_T(my_ref_base, alt_base, previous_base, next_base)\n",
    "                if class_mut == include:\n",
    "                    tri_ref = previous_base + str(my_ref_base) + next_base #BUILT REFERENCE AND ALTERNATIVE NUCLEOTIDE\n",
    "                    tri_alt = previous_base + str(alt_base) + next_base\n",
    "                    my_key = str((tri_ref, tri_alt)) #CREATE KEY FOR THE SIGNATURE DICTIONARY\n",
    "                \n",
    "                    try:\n",
    "                        my_prob = signatures_dict[my_key]['Probability_' + tumor_type] #GET THE PROBABILITY\n",
    "                        my_base_probs = my_base_probs + my_prob #SUM THE PROBABILITY OF THE THREE CHANGES\n",
    "                    except:\n",
    "                        None\n",
    "            \n",
    "            ### ADD THE POSITION IN THE 2001-nt WINDOW WITH THE CORRESPONDENT PROBABILITY TO A LIST\n",
    "            normalized_i = i - middle_distance_threshold\n",
    "            my_row = [normalized_i, my_base_probs]\n",
    "            position_prob_lol.append(my_row)\n",
    "            i += 1\n",
    "        \n",
    "        \n",
    "        ## CONVERT THE LIST TO A DATAFRAME\n",
    "        position_prob_df = pd.DataFrame(position_prob_lol)\n",
    "        position_prob_df.columns = ['position', 'probability']\n",
    "        \n",
    "        ## REESCALING PROBABILITIES TO ONE\n",
    "        my_total = sum(position_prob_df['probability'])\n",
    "        position_prob_df['probability'] = position_prob_df['probability']/my_total\n",
    "        ## COMPUTE THE EXPECTED BY REDISTRIBUTING THE TOTAL NUMBER OF MUTATIONS IN THE 2001-nt SEQUENCE ACCORDING TO THE PROBABILITIES\n",
    "        position_prob_df['expected_muts'] = position_prob_df['probability']*my_region_muts\n",
    "        position_prob_df = position_prob_df[['position', 'expected_muts']]\n",
    "        \n",
    "        # Sum the expected results\n",
    "        if len(final_position_prob_df) == 0:\n",
    "            final_position_prob_df = position_prob_df\n",
    "        else:\n",
    "            final_position_prob_df['expected_muts'] = (final_position_prob_df['expected_muts'] +\n",
    "                                                       position_prob_df['expected_muts'])\n",
    "\n",
    "\n",
    "    return pd.merge(my_exon_results_df, final_position_prob_df, on='position')"
   ]
  },
  {
   "cell_type": "code",
   "execution_count": 51,
   "metadata": {},
   "outputs": [],
   "source": [
    "def stacked_sequence_level_permutation_excluding(mutations_df, exons_coords_df, signatures_dict, tumor_type,\n",
    "                                       middle_distance_threshold, include):\n",
    "    \"\"\"\n",
    "    Get positions of the exons that correspond to the central position and a number of base pair\n",
    "    equal to middle_distance_threshold on each side. Compute the number of mutations per position under analysis.\n",
    "    For each of the relative positions, compute the sum of the probabilities of each possible alteration\n",
    "    taking into account its context (using the values of the signatures_file) wheighted by the number of observed \n",
    "    mutations (MODIFIED FROM FRIGOLA ET AL.).\n",
    "    You can exclude C>T or non-C>T mutations by specifying it.\n",
    "    \n",
    "    Args:\n",
    "        mutations_df:\n",
    "        exons_coords_symbol_df:\n",
    "        signatures_dict:\n",
    "        tumor_type: \n",
    "        middle_distance_threshold:\n",
    "        include:\n",
    "\n",
    "    Returns:\n",
    "        :class:`~pandas.DataFrame`. Table with the relative position (to the exon center)\n",
    "        the number of mutations observed and expected in that position.\n",
    "\n",
    "    \"\"\"\n",
    "    \n",
    "    nucleotides = set(['A', 'T', 'C', 'G'])\n",
    "    \n",
    "    # Get signatures\n",
    "    all_signatures = pd.read_csv(signatures_file, sep='\\t')\n",
    "    probability_name = 'Probability_' + tumor_type\n",
    "    sub_signatures_df = all_signatures[['mutation', probability_name]]\n",
    "    signatures_dict = sub_signatures_df.set_index('mutation').T.to_dict()\n",
    "    \n",
    "    # Create bed of the selected mutations\n",
    "    sub_mutations_df = mutations_df[['chr', 'start', 'end', 'ref', 'alt', 'sample']]\n",
    "    mutations_bed = pybedtools.BedTool.from_dataframe(sub_mutations_df)\n",
    "    \n",
    "    exons_coords_symbol_df['exon_size'] = (exons_coords_symbol_df['end'] - exons_coords_symbol_df['start'])\n",
    "    exons_coords_symbol_df['exon_middle_start'] = (exons_coords_symbol_df['start'] +\n",
    "                                        exons_coords_symbol_df['exon_size']/2)\n",
    "    exons_coords_symbol_df['exon_middle_start'] = exons_coords_symbol_df.apply(lambda x:\n",
    "                                        math.floor(x['exon_middle_start']), axis=1)\n",
    "\n",
    "    exons_coords_symbol_df['exon_middle_end'] = exons_coords_symbol_df['exon_middle_start'] + 1\n",
    "    exons_coords_symbol_df['region_start'] = exons_coords_symbol_df['exon_middle_start'] - middle_distance_threshold\n",
    "    exons_coords_symbol_df['region_end'] = exons_coords_symbol_df['exon_middle_end'] + middle_distance_threshold\n",
    "    \n",
    "    # Left flank \"intronic\" sequences => region_start and start from coordinates.\n",
    "    intron1_df = exons_coords_symbol_df[['chr', 'region_start', 'start', 'ID']]\n",
    "    ## The region may span less than the centered exonic sequence. Only take left flank intronic coordinates with sense.\n",
    "    intron1_df = intron1_df[intron1_df['region_start'] <= intron1_df['start']]\n",
    "    intron1_df.columns = ['chr', 'start', 'end', 'ID']\n",
    "    \n",
    "    # Right flank \"intronic\" sequences\n",
    "    intron2_df = exons_coords_symbol_df[['chr', 'end', 'region_end', 'ID']]\n",
    "    ## The region may span less than the centered exonic sequence. Only take right flank intronic coordinates with sense.\n",
    "    intron2_df = intron2_df[intron2_df['end'] <= intron2_df['region_end']]\n",
    "    intron2_df.columns = ['chr', 'start', 'end', 'ID']\n",
    "    ## Take them together\n",
    "    intron_df = pd.concat([intron1_df, intron2_df])\n",
    "    intron_df['label'] = 'intron'\n",
    "\n",
    "    # Exonic sequences\n",
    "    all_exon_df = exons_coords_symbol_df[['chr', 'start', 'end', 'ID', 'region_start', 'region_end']]\n",
    "    ## The region may span less than the centered exonic sequence. Process exons that surpass the region size.\n",
    "    large_exon_df = all_exon_df[(all_exon_df['end']-all_exon_df['start']) > (2*middle_distance_threshold+1)]\n",
    "    large_exon_df = large_exon_df[['chr', 'region_start', 'region_end', 'ID']]\n",
    "    large_exon_df.columns = ['chr', 'start', 'end', 'ID']\n",
    "    ## The region may span less than the centered exonic sequence. Process exons that do not surpass the region size.\n",
    "    short_exon_df = all_exon_df[(all_exon_df['end']-all_exon_df['start']) <= (2*middle_distance_threshold+1)]\n",
    "    short_exon_df = short_exon_df[['chr', 'start', 'end', 'ID']]\n",
    "    short_exon_df.columns = ['chr', 'start', 'end', 'ID']\n",
    "    ## Take them together\n",
    "    exon_df = pd.concat([short_exon_df, large_exon_df])\n",
    "    exon_df['label'] = 'exon'\n",
    "    \n",
    "    # Merge exons and introns\n",
    "    coords_symbol_df = pd.concat([exon_df, intron_df])\n",
    "    coords_symbol_bed = pybedtools.BedTool.from_dataframe(coords_symbol_df)\n",
    "\n",
    "    # Filter mutations by the position of interest\n",
    "    my_bed = coords_symbol_bed.intersect(mutations_bed, wo=True)\n",
    "\n",
    "    mutations_mapped = pd.read_table(my_bed.fn, names = ['chr', 'start', 'end', 'ID', 'label', 'mut_chr', 'mut_start',\n",
    "                                    'mut_end', 'mut_ref', 'mut_alt', 'sample', 'overlap_bp'],  sep=\"\\s+\", index_col=False)\n",
    "    \n",
    "    # Classify observed mutations as CpG > T or notCpG > T, maintain the class that should be included.\n",
    "    mutations_mapped['pre'] = mutations_mapped.apply(lambda x: hg19(x['mut_chr'], x['mut_end']-1), axis=1)\n",
    "    mutations_mapped['post'] = mutations_mapped.apply(lambda x: hg19(x['mut_chr'], x['mut_end']+1), axis=1)\n",
    "    mutations_mapped['mut_class'] = mutations_mapped.apply(lambda x: compute_CpG_to_T(x['mut_ref'],\n",
    "                                                                x['mut_alt'], x['pre'], x['post']), axis=1)\n",
    "    mutations_mapped = mutations_mapped[mutations_mapped['mut_class'] == include]\n",
    "\n",
    "    exonic_obs = mutations_mapped[(mutations_mapped['label'] == 'exon') & \n",
    "                                  (mutations_mapped['mut_class'] == include)].shape[0]\n",
    "    intronic_obs = mutations_mapped[(mutations_mapped['label'] == 'intron') & \n",
    "                                  (mutations_mapped['mut_class'] == include)].shape[0]\n",
    "    print(\"Observed at middle exons: \" + str(exonic_obs))\n",
    "    print(\"Observed at flanking introns: \" + str(intronic_obs))\n",
    "    \n",
    "    # Compute expected mutation by randomization approach\n",
    "    RANDOMIZATION = 1000\n",
    "\n",
    "    collect_rand = {}\n",
    "    # Initialize dictionary\n",
    "    for sam in range(0, RANDOMIZATION):\n",
    "        collect_rand[sam] = {}\n",
    "        collect_rand[sam]['exon_Exp'] = 0\n",
    "        collect_rand[sam]['intron_Exp'] = 0\n",
    "\n",
    "    # For each unique staked exon-centered sequence with one or more mutations\n",
    "    for gene in mutations_mapped['ID'].unique():\n",
    "        position_prob_lol = list()\n",
    "        label_flag_lol = list()\n",
    "        \n",
    "        # Take the exonic and the flanking intronic sequences.\n",
    "        for dx, row in coords_symbol_df[coords_symbol_df['ID']==gene].iterrows():\n",
    "            my_chr = row['chr'][3:]\n",
    "            my_start = int(row['start'])\n",
    "            my_end = int(row['end'])\n",
    "            n_bases = my_end - my_start\n",
    "\n",
    "            ## If mutations are reported, get the sequence:\n",
    "            my_exon_bases = hg19(my_chr, my_start, size=n_bases+2)\n",
    "            ## DIVIDE SEQUENCE INTO TRINUCLEOTIDES\n",
    "            my_trinucleotides = [my_exon_bases[i:i+3] for i in range(len(my_exon_bases)-2)]\n",
    "            \n",
    "            label_flag = 0 # to mark intron vs exon\n",
    "            if row['label']=='exon':\n",
    "                label_flag = 1 \n",
    "\n",
    "            for my_trinucleotide in my_trinucleotides: #FOREACH TRINUCLEOTIDE\n",
    "                my_ref_base = my_trinucleotide[1].upper() #GET THE REFERENCE\n",
    "                my_alt_bases = nucleotides - set(my_ref_base) #THE REST ARE ALTERNATIVE ONES\n",
    "                my_base_probs = 0\n",
    "                previous_base = my_trinucleotide[0] #GET PREVIOUS AND NEXT BASE\n",
    "                next_base = my_trinucleotide[2]\n",
    "            \n",
    "                ### Foreach alternative, each of the three possible changes given a kmer.\n",
    "                for alt_base in my_alt_bases: #FOREACH ALTERNATIVE, EACH OF THE THREE POSSIBLE CHANGES GIVEN A TRINUCLEOTIDE\n",
    "                    class_mut = compute_CpG_to_T(my_ref_base, alt_base, previous_base, next_base)\n",
    "                    if class_mut == include:\n",
    "                        tri_ref = previous_base + str(my_ref_base) + next_base #BUILT REFERENCE AND ALTERNATIVE NUCLEOTIDE\n",
    "                        tri_alt = previous_base + str(alt_base) + next_base\n",
    "                        my_key = str((tri_ref, tri_alt)) #CREATE KEY FOR THE SIGNATURE DICTIONARY\n",
    "                \n",
    "                        try:\n",
    "                            my_prob = signatures_dict[my_key]['Probability_' + tumor_type] #GET THE PROBABILITY\n",
    "                            my_base_probs = my_base_probs + my_prob #SUM THE PROBABILITY OF THE THREE CHANGES\n",
    "                        except:\n",
    "                            None\n",
    "                \n",
    "                position_prob_lol.append(my_base_probs)\n",
    "                label_flag_lol.append(label_flag)\n",
    "            \n",
    "        # Total number of mutations falling in the stacked sequence.\n",
    "        mutcnt = len(mutations_mapped[mutations_mapped['ID']==gene])\n",
    "        # Normalize the probability vector and perform sampling\n",
    "        prb_vector = np.array(position_prob_lol)\n",
    "        prb_vector = prb_vector/prb_vector.sum()\n",
    "        label_vector = np.array(label_flag_lol)\n",
    "        mutation_rand_label = np.random.choice(label_vector, size=mutcnt*RANDOMIZATION, replace=True, p=prb_vector)\n",
    "        \n",
    "        # Save the mutation count for each randomization\n",
    "        for sam in range(0, RANDOMIZATION):\n",
    "            start = int(mutcnt*sam)\n",
    "            # count for one random sampling\n",
    "            count = np.unique(mutation_rand_label[start:(start+mutcnt)], return_counts=True)\n",
    "            for i in range(0, len(count[0])):\n",
    "                if count[0][i] == 1: # count of exons\n",
    "                    collect_rand[sam]['exon_Exp'] += count[1][i]\n",
    "                else: # count of introns\n",
    "                    collect_rand[sam]['intron_Exp'] += count[1][i]\n",
    "        \n",
    "    collect_df = pd.DataFrame.from_dict(collect_rand)\n",
    "    \n",
    "    return(collect_df, exonic_obs, intronic_obs)"
   ]
  },
  {
   "cell_type": "code",
   "execution_count": 13,
   "metadata": {
    "collapsed": true
   },
   "outputs": [],
   "source": [
    "def bin_average(count, size):\n",
    "    averaged = []\n",
    "    for i in range(0,len(count),size):\n",
    "        mean = np.mean(count[i:i+size])\n",
    "        averaged.extend([mean for i in range(len(count[i:i+size]))])\n",
    "    return(pd.Series(averaged))"
   ]
  },
  {
   "cell_type": "code",
   "execution_count": 14,
   "metadata": {
    "collapsed": true
   },
   "outputs": [],
   "source": [
    "def plot_HD_BINNED(cluster, ax, cnt, size):\n",
    "    \n",
    "    # read observed and backgruond data directly\n",
    "    filename = \"results/exons_centered_%s.tsv\" % (cluster)\n",
    "    \n",
    "    if path.isfile(filename):\n",
    "    \n",
    "        data = pd.read_csv(filename, sep=\"\\t\")\n",
    "        \n",
    "        bin_obs = bin_average(data['muts_count'], size)\n",
    "\n",
    "        ax.plot(data['position'],\n",
    "                 data['muts_count'], '#e41a1c', alpha=0.5, linewidth=0.7)\n",
    "        ax.plot(data['position'], bin_obs, '#e41a1c', linewidth=1)\n",
    "\n",
    "        bin_exp = bin_average(data['expected_muts'], size)\n",
    "\n",
    "        ax.plot(data['position'], bin_exp, 'black', linewidth=1)\n",
    "\n",
    "        ax.set_axis_bgcolor('none')\n",
    "\n",
    "        # show the left spline\n",
    "        for axis in ['right', 'top']:\n",
    "            ax.spines[axis].set_visible(False)\n",
    "\n",
    "        # add gap between x- and y-axis\n",
    "        for axis in ['bottom', 'left']:\n",
    "            ax.spines[axis].set_position(('axes', -0.03))\n",
    "\n",
    "        ax.yaxis.major.locator.set_params(nbins=4)\n",
    "        ax.yaxis.set_ticks_position('left')\n",
    "        ax.xaxis.set_ticks_position('bottom')\n",
    "        ax.set_xlim(-1000, 1000)\n",
    "        # add axis label\n",
    "        if cnt in [0, 3]:\n",
    "            ax.set_ylabel('Number of mutations')\n",
    "        if cnt >=3:\n",
    "            ax.set_xlabel('Distance from exon center (bp)')"
   ]
  },
  {
   "cell_type": "code",
   "execution_count": 15,
   "metadata": {
    "collapsed": true
   },
   "outputs": [],
   "source": [
    "def compute_CpG_to_T(my_ref, my_alt, my_pre, my_post):\n",
    "    \"\"\"\n",
    "    Compute if mutation fell on CpG site\n",
    "    \"\"\"\n",
    "    if my_ref == 'C' and my_post == 'G' and my_alt == 'T':\n",
    "        my_site = 'CpG>T'\n",
    "    elif my_ref == 'G' and my_pre == 'C' and my_alt == 'A':\n",
    "        my_site = 'CpG>T'\n",
    "    else:\n",
    "        my_site = 'nonCpG>T'\n",
    "    return my_site"
   ]
  },
  {
   "cell_type": "markdown",
   "metadata": {},
   "source": [
    "## Load data, ALL DNMs"
   ]
  },
  {
   "cell_type": "code",
   "execution_count": 47,
   "metadata": {},
   "outputs": [],
   "source": [
    "## Get exon coordinates\n",
    "exons_coords_df = pd.read_csv(middle_exons_coords, sep=\"\\t\", header=None, low_memory=False)\n",
    "exons_coords_df.columns = ['chr', 'start', 'end', 'ensembl', 'symbol', 'strand']\n",
    "exons_coords_df = exons_coords_df[['chr', 'start', 'end', 'ensembl']]\n",
    "exons_coords_df['ensembl'] = exons_coords_df.apply(lambda x: remove_version_ensembl(x, 'ensembl'), axis=1)\n",
    "exons_coords_df.columns = ['chr', 'start', 'end', 'ensembl']\n",
    "exons_coords_symbol_df = exons_coords_df[['chr', 'start', 'end', 'ensembl']]\n",
    "exons_coords_symbol_df['ID'] = exons_coords_symbol_df.index + 1\n",
    "\n",
    "## Get mutations\n",
    "mutations_file = mutations_folder + 'germinal_ultimate_dataset.bed.gz'\n",
    "mutations_df = pd.read_csv(mutations_file, sep=\"\\t\", header=None)\n",
    "mutations_df.columns = ['chr', 'start', 'end', 'ref', 'alt', 'sample', 'type', 'class']\n",
    "mutations_df = mutations_df[['chr', 'start', 'end', 'ref', 'alt', 'sample', 'type']]\n",
    "mutations_df = mutations_df[mutations_df['type'] == 'subs']\n",
    "mutations_df['ID'] = mutations_df.index + 1\n",
    "\n",
    "## Get signatures\n",
    "signatures_file = 'results/3mer_signatures_DNM_new.txt'\n",
    "all_signatures = pd.read_csv(signatures_file, sep='\\t')\n",
    "probability_name = 'Probability_' + tumor_type\n",
    "sub_signatures_df = all_signatures[['mutation', probability_name]]\n",
    "signatures_dict = sub_signatures_df.set_index('mutation').T.to_dict()"
   ]
  },
  {
   "cell_type": "markdown",
   "metadata": {},
   "source": [
    "## Middle-Exon centered analysis, CpG>T class\n",
    "\n",
    "Mutation probabilities were computed genome-wide using the full dataset of germline mutations. Observed and expected values were computed with the method described in the **Exon-centered and intron-centered mutational analyses** section at Frigola et al. However, we consider mutations only of C>T class at both the intronic and exonic positions for the observed and the expected sum of probabilities."
   ]
  },
  {
   "cell_type": "code",
   "execution_count": 48,
   "metadata": {},
   "outputs": [
    {
     "ename": "KeyboardInterrupt",
     "evalue": "",
     "output_type": "error",
     "traceback": [
      "\u001b[0;31m---------------------------------------------------------------------------\u001b[0m",
      "\u001b[0;31mKeyboardInterrupt\u001b[0m                         Traceback (most recent call last)",
      "\u001b[0;32m<ipython-input-48-2e8728cb78d4>\u001b[0m in \u001b[0;36m<module>\u001b[0;34m()\u001b[0m\n\u001b[1;32m      3\u001b[0m \u001b[0;34m\u001b[0m\u001b[0m\n\u001b[1;32m      4\u001b[0m exons_centered_results = obs_exp_muts_excluding(mutations_df, exons_coords_df, signatures_dict, tumor_type, \n\u001b[0;32m----> 5\u001b[0;31m                             middle_distance_threshold, include)\n\u001b[0m\u001b[1;32m      6\u001b[0m \u001b[0;34m\u001b[0m\u001b[0m\n\u001b[1;32m      7\u001b[0m exons_centered_results.to_csv(path.join('results', \"exons_centered_CpGtoT.tsv\"), sep=\"\\t\", header=True,\n",
      "\u001b[0;32m<ipython-input-45-855689ae9913>\u001b[0m in \u001b[0;36mobs_exp_muts_excluding\u001b[0;34m(mutations_df, exons_coords_df, signatures_dict, tumor_type, middle_distance_threshold, include)\u001b[0m\n\u001b[1;32m     36\u001b[0m     \u001b[0mexons_coords_symbol_df\u001b[0m\u001b[0;34m[\u001b[0m\u001b[0;34m'exon_middle_start'\u001b[0m\u001b[0;34m]\u001b[0m \u001b[0;34m=\u001b[0m \u001b[0;34m(\u001b[0m\u001b[0mexons_coords_symbol_df\u001b[0m\u001b[0;34m[\u001b[0m\u001b[0;34m'start'\u001b[0m\u001b[0;34m]\u001b[0m \u001b[0;34m+\u001b[0m \u001b[0mexons_coords_symbol_df\u001b[0m\u001b[0;34m[\u001b[0m\u001b[0;34m'exon_size'\u001b[0m\u001b[0;34m]\u001b[0m\u001b[0;34m/\u001b[0m\u001b[0;36m2\u001b[0m\u001b[0;34m)\u001b[0m\u001b[0;34m\u001b[0m\u001b[0m\n\u001b[1;32m     37\u001b[0m     exons_coords_symbol_df['exon_middle_start'] = exons_coords_symbol_df.apply(lambda x:\n\u001b[0;32m---> 38\u001b[0;31m                                                                        math.floor(x['exon_middle_start']), axis=1)\n\u001b[0m\u001b[1;32m     39\u001b[0m \u001b[0;34m\u001b[0m\u001b[0m\n\u001b[1;32m     40\u001b[0m     \u001b[0;31m## Positions around the middle point\u001b[0m\u001b[0;34m\u001b[0m\u001b[0;34m\u001b[0m\u001b[0m\n",
      "\u001b[0;32m~/anaconda3/envs/intronexon/lib/python3.6/site-packages/pandas/core/frame.py\u001b[0m in \u001b[0;36mapply\u001b[0;34m(self, func, axis, broadcast, raw, reduce, args, **kwds)\u001b[0m\n\u001b[1;32m   4260\u001b[0m                         \u001b[0mf\u001b[0m\u001b[0;34m,\u001b[0m \u001b[0maxis\u001b[0m\u001b[0;34m,\u001b[0m\u001b[0;34m\u001b[0m\u001b[0m\n\u001b[1;32m   4261\u001b[0m                         \u001b[0mreduce\u001b[0m\u001b[0;34m=\u001b[0m\u001b[0mreduce\u001b[0m\u001b[0;34m,\u001b[0m\u001b[0;34m\u001b[0m\u001b[0m\n\u001b[0;32m-> 4262\u001b[0;31m                         ignore_failures=ignore_failures)\n\u001b[0m\u001b[1;32m   4263\u001b[0m             \u001b[0;32melse\u001b[0m\u001b[0;34m:\u001b[0m\u001b[0;34m\u001b[0m\u001b[0m\n\u001b[1;32m   4264\u001b[0m                 \u001b[0;32mreturn\u001b[0m \u001b[0mself\u001b[0m\u001b[0;34m.\u001b[0m\u001b[0m_apply_broadcast\u001b[0m\u001b[0;34m(\u001b[0m\u001b[0mf\u001b[0m\u001b[0;34m,\u001b[0m \u001b[0maxis\u001b[0m\u001b[0;34m)\u001b[0m\u001b[0;34m\u001b[0m\u001b[0m\n",
      "\u001b[0;32m~/anaconda3/envs/intronexon/lib/python3.6/site-packages/pandas/core/frame.py\u001b[0m in \u001b[0;36m_apply_standard\u001b[0;34m(self, func, axis, ignore_failures, reduce)\u001b[0m\n\u001b[1;32m   4316\u001b[0m                     \u001b[0mlabels\u001b[0m \u001b[0;34m=\u001b[0m \u001b[0mself\u001b[0m\u001b[0;34m.\u001b[0m\u001b[0m_get_agg_axis\u001b[0m\u001b[0;34m(\u001b[0m\u001b[0maxis\u001b[0m\u001b[0;34m)\u001b[0m\u001b[0;34m\u001b[0m\u001b[0m\n\u001b[1;32m   4317\u001b[0m                     result = lib.reduce(values, func, axis=axis, dummy=dummy,\n\u001b[0;32m-> 4318\u001b[0;31m                                         labels=labels)\n\u001b[0m\u001b[1;32m   4319\u001b[0m                     \u001b[0;32mreturn\u001b[0m \u001b[0mSeries\u001b[0m\u001b[0;34m(\u001b[0m\u001b[0mresult\u001b[0m\u001b[0;34m,\u001b[0m \u001b[0mindex\u001b[0m\u001b[0;34m=\u001b[0m\u001b[0mlabels\u001b[0m\u001b[0;34m)\u001b[0m\u001b[0;34m\u001b[0m\u001b[0m\n\u001b[1;32m   4320\u001b[0m                 \u001b[0;32mexcept\u001b[0m \u001b[0mException\u001b[0m\u001b[0;34m:\u001b[0m\u001b[0;34m\u001b[0m\u001b[0m\n",
      "\u001b[0;32mpandas/_libs/src/reduce.pyx\u001b[0m in \u001b[0;36mpandas._libs.lib.reduce (pandas/_libs/lib.c:44036)\u001b[0;34m()\u001b[0m\n",
      "\u001b[0;32mpandas/_libs/src/reduce.pyx\u001b[0m in \u001b[0;36mpandas._libs.lib.Reducer.get_result (pandas/_libs/lib.c:33461)\u001b[0;34m()\u001b[0m\n",
      "\u001b[0;32mpandas/_libs/src/properties.pyx\u001b[0m in \u001b[0;36mpandas._libs.lib.AxisProperty.__set__ (pandas/_libs/lib.c:45255)\u001b[0;34m()\u001b[0m\n",
      "\u001b[0;32m~/anaconda3/envs/intronexon/lib/python3.6/site-packages/pandas/core/series.py\u001b[0m in \u001b[0;36m_set_axis\u001b[0;34m(self, axis, labels, fastpath)\u001b[0m\n\u001b[1;32m    286\u001b[0m \u001b[0;34m\u001b[0m\u001b[0m\n\u001b[1;32m    287\u001b[0m         \u001b[0;32mif\u001b[0m \u001b[0;32mnot\u001b[0m \u001b[0mfastpath\u001b[0m\u001b[0;34m:\u001b[0m\u001b[0;34m\u001b[0m\u001b[0m\n\u001b[0;32m--> 288\u001b[0;31m             \u001b[0mlabels\u001b[0m \u001b[0;34m=\u001b[0m \u001b[0m_ensure_index\u001b[0m\u001b[0;34m(\u001b[0m\u001b[0mlabels\u001b[0m\u001b[0;34m)\u001b[0m\u001b[0;34m\u001b[0m\u001b[0m\n\u001b[0m\u001b[1;32m    289\u001b[0m \u001b[0;34m\u001b[0m\u001b[0m\n\u001b[1;32m    290\u001b[0m         \u001b[0mis_all_dates\u001b[0m \u001b[0;34m=\u001b[0m \u001b[0mlabels\u001b[0m\u001b[0;34m.\u001b[0m\u001b[0mis_all_dates\u001b[0m\u001b[0;34m\u001b[0m\u001b[0m\n",
      "\u001b[0;31mKeyboardInterrupt\u001b[0m: "
     ]
    }
   ],
   "source": [
    "middle_distance_threshold = 1000\n",
    "include = 'CpG>T'\n",
    "\n",
    "exons_centered_results = obs_exp_muts_excluding(mutations_df, exons_coords_df, signatures_dict, tumor_type, \n",
    "                            middle_distance_threshold, include)\n",
    "\n",
    "exons_centered_results.to_csv(path.join('results', \"exons_centered_CpGtoT.tsv\"), sep=\"\\t\", header=True,\n",
    "                            index=False)"
   ]
  },
  {
   "cell_type": "markdown",
   "metadata": {},
   "source": [
    "#### Significance through permutations"
   ]
  },
  {
   "cell_type": "code",
   "execution_count": 52,
   "metadata": {},
   "outputs": [
    {
     "ename": "KeyError",
     "evalue": "('mut_ref', 'occurred at index 0')",
     "output_type": "error",
     "traceback": [
      "\u001b[0;31m---------------------------------------------------------------------------\u001b[0m",
      "\u001b[0;31mTypeError\u001b[0m                                 Traceback (most recent call last)",
      "\u001b[0;32m~/anaconda3/envs/intronexon/lib/python3.6/site-packages/pandas/core/indexes/base.py\u001b[0m in \u001b[0;36mget_value\u001b[0;34m(self, series, key)\u001b[0m\n\u001b[1;32m   2482\u001b[0m             \u001b[0;32mtry\u001b[0m\u001b[0;34m:\u001b[0m\u001b[0;34m\u001b[0m\u001b[0m\n\u001b[0;32m-> 2483\u001b[0;31m                 \u001b[0;32mreturn\u001b[0m \u001b[0mlibts\u001b[0m\u001b[0;34m.\u001b[0m\u001b[0mget_value_box\u001b[0m\u001b[0;34m(\u001b[0m\u001b[0ms\u001b[0m\u001b[0;34m,\u001b[0m \u001b[0mkey\u001b[0m\u001b[0;34m)\u001b[0m\u001b[0;34m\u001b[0m\u001b[0m\n\u001b[0m\u001b[1;32m   2484\u001b[0m             \u001b[0;32mexcept\u001b[0m \u001b[0mIndexError\u001b[0m\u001b[0;34m:\u001b[0m\u001b[0;34m\u001b[0m\u001b[0m\n",
      "\u001b[0;32mpandas/_libs/tslib.pyx\u001b[0m in \u001b[0;36mpandas._libs.tslib.get_value_box (pandas/_libs/tslib.c:18843)\u001b[0;34m()\u001b[0m\n",
      "\u001b[0;32mpandas/_libs/tslib.pyx\u001b[0m in \u001b[0;36mpandas._libs.tslib.get_value_box (pandas/_libs/tslib.c:18477)\u001b[0;34m()\u001b[0m\n",
      "\u001b[0;31mTypeError\u001b[0m: 'str' object cannot be interpreted as an integer",
      "\nDuring handling of the above exception, another exception occurred:\n",
      "\u001b[0;31mKeyError\u001b[0m                                  Traceback (most recent call last)",
      "\u001b[0;32m<ipython-input-52-8bd492ab46da>\u001b[0m in \u001b[0;36m<module>\u001b[0;34m()\u001b[0m\n\u001b[1;32m      4\u001b[0m \u001b[0;34m\u001b[0m\u001b[0m\n\u001b[1;32m      5\u001b[0m (exons_centered_results, exonic_obs, intronic_obs) = stacked_sequence_level_permutation_excluding(mutations_df,\n\u001b[0;32m----> 6\u001b[0;31m                                     exons_coords_symbol_df, signatures_file, tumor_type, middle_distance_threshold, include)\n\u001b[0m\u001b[1;32m      7\u001b[0m \u001b[0;34m\u001b[0m\u001b[0m\n\u001b[1;32m      8\u001b[0m \u001b[0mexons_centered_results\u001b[0m \u001b[0;34m=\u001b[0m \u001b[0mpd\u001b[0m\u001b[0;34m.\u001b[0m\u001b[0mDataFrame\u001b[0m\u001b[0;34m.\u001b[0m\u001b[0mtranspose\u001b[0m\u001b[0;34m(\u001b[0m\u001b[0mexons_centered_results\u001b[0m\u001b[0;34m)\u001b[0m\u001b[0;34m\u001b[0m\u001b[0m\n",
      "\u001b[0;32m<ipython-input-51-0c881195d6fe>\u001b[0m in \u001b[0;36mstacked_sequence_level_permutation_excluding\u001b[0;34m(mutations_df, exons_coords_df, signatures_dict, tumor_type, middle_distance_threshold, include)\u001b[0m\n\u001b[1;32m     88\u001b[0m     \u001b[0mmutations_mapped\u001b[0m\u001b[0;34m[\u001b[0m\u001b[0;34m'post'\u001b[0m\u001b[0;34m]\u001b[0m \u001b[0;34m=\u001b[0m \u001b[0mmutations_mapped\u001b[0m\u001b[0;34m.\u001b[0m\u001b[0mapply\u001b[0m\u001b[0;34m(\u001b[0m\u001b[0;32mlambda\u001b[0m \u001b[0mx\u001b[0m\u001b[0;34m:\u001b[0m \u001b[0mhg19\u001b[0m\u001b[0;34m(\u001b[0m\u001b[0mx\u001b[0m\u001b[0;34m[\u001b[0m\u001b[0;34m'mut_chr'\u001b[0m\u001b[0;34m]\u001b[0m\u001b[0;34m,\u001b[0m \u001b[0mx\u001b[0m\u001b[0;34m[\u001b[0m\u001b[0;34m'mut_end'\u001b[0m\u001b[0;34m]\u001b[0m\u001b[0;34m+\u001b[0m\u001b[0;36m1\u001b[0m\u001b[0;34m)\u001b[0m\u001b[0;34m,\u001b[0m \u001b[0maxis\u001b[0m\u001b[0;34m=\u001b[0m\u001b[0;36m1\u001b[0m\u001b[0;34m)\u001b[0m\u001b[0;34m\u001b[0m\u001b[0m\n\u001b[1;32m     89\u001b[0m     mutations_mapped['mut_class'] = mutations_mapped.apply(lambda x: compute_CpG_to_T(x['mut_ref'],\n\u001b[0;32m---> 90\u001b[0;31m                                                                 x['mut_alt'], x['pre'], x['post']), axis=1)\n\u001b[0m\u001b[1;32m     91\u001b[0m     \u001b[0mmutations_mapped\u001b[0m \u001b[0;34m=\u001b[0m \u001b[0mmutations_mapped\u001b[0m\u001b[0;34m[\u001b[0m\u001b[0mmutations_mapped\u001b[0m\u001b[0;34m[\u001b[0m\u001b[0;34m'mut_class'\u001b[0m\u001b[0;34m]\u001b[0m \u001b[0;34m==\u001b[0m \u001b[0minclude\u001b[0m\u001b[0;34m]\u001b[0m\u001b[0;34m\u001b[0m\u001b[0m\n\u001b[1;32m     92\u001b[0m \u001b[0;34m\u001b[0m\u001b[0m\n",
      "\u001b[0;32m~/anaconda3/envs/intronexon/lib/python3.6/site-packages/pandas/core/frame.py\u001b[0m in \u001b[0;36mapply\u001b[0;34m(self, func, axis, broadcast, raw, reduce, args, **kwds)\u001b[0m\n\u001b[1;32m   4260\u001b[0m                         \u001b[0mf\u001b[0m\u001b[0;34m,\u001b[0m \u001b[0maxis\u001b[0m\u001b[0;34m,\u001b[0m\u001b[0;34m\u001b[0m\u001b[0m\n\u001b[1;32m   4261\u001b[0m                         \u001b[0mreduce\u001b[0m\u001b[0;34m=\u001b[0m\u001b[0mreduce\u001b[0m\u001b[0;34m,\u001b[0m\u001b[0;34m\u001b[0m\u001b[0m\n\u001b[0;32m-> 4262\u001b[0;31m                         ignore_failures=ignore_failures)\n\u001b[0m\u001b[1;32m   4263\u001b[0m             \u001b[0;32melse\u001b[0m\u001b[0;34m:\u001b[0m\u001b[0;34m\u001b[0m\u001b[0m\n\u001b[1;32m   4264\u001b[0m                 \u001b[0;32mreturn\u001b[0m \u001b[0mself\u001b[0m\u001b[0;34m.\u001b[0m\u001b[0m_apply_broadcast\u001b[0m\u001b[0;34m(\u001b[0m\u001b[0mf\u001b[0m\u001b[0;34m,\u001b[0m \u001b[0maxis\u001b[0m\u001b[0;34m)\u001b[0m\u001b[0;34m\u001b[0m\u001b[0m\n",
      "\u001b[0;32m~/anaconda3/envs/intronexon/lib/python3.6/site-packages/pandas/core/frame.py\u001b[0m in \u001b[0;36m_apply_standard\u001b[0;34m(self, func, axis, ignore_failures, reduce)\u001b[0m\n\u001b[1;32m   4356\u001b[0m             \u001b[0;32mtry\u001b[0m\u001b[0;34m:\u001b[0m\u001b[0;34m\u001b[0m\u001b[0m\n\u001b[1;32m   4357\u001b[0m                 \u001b[0;32mfor\u001b[0m \u001b[0mi\u001b[0m\u001b[0;34m,\u001b[0m \u001b[0mv\u001b[0m \u001b[0;32min\u001b[0m \u001b[0menumerate\u001b[0m\u001b[0;34m(\u001b[0m\u001b[0mseries_gen\u001b[0m\u001b[0;34m)\u001b[0m\u001b[0;34m:\u001b[0m\u001b[0;34m\u001b[0m\u001b[0m\n\u001b[0;32m-> 4358\u001b[0;31m                     \u001b[0mresults\u001b[0m\u001b[0;34m[\u001b[0m\u001b[0mi\u001b[0m\u001b[0;34m]\u001b[0m \u001b[0;34m=\u001b[0m \u001b[0mfunc\u001b[0m\u001b[0;34m(\u001b[0m\u001b[0mv\u001b[0m\u001b[0;34m)\u001b[0m\u001b[0;34m\u001b[0m\u001b[0m\n\u001b[0m\u001b[1;32m   4359\u001b[0m                     \u001b[0mkeys\u001b[0m\u001b[0;34m.\u001b[0m\u001b[0mappend\u001b[0m\u001b[0;34m(\u001b[0m\u001b[0mv\u001b[0m\u001b[0;34m.\u001b[0m\u001b[0mname\u001b[0m\u001b[0;34m)\u001b[0m\u001b[0;34m\u001b[0m\u001b[0m\n\u001b[1;32m   4360\u001b[0m             \u001b[0;32mexcept\u001b[0m \u001b[0mException\u001b[0m \u001b[0;32mas\u001b[0m \u001b[0me\u001b[0m\u001b[0;34m:\u001b[0m\u001b[0;34m\u001b[0m\u001b[0m\n",
      "\u001b[0;32m<ipython-input-51-0c881195d6fe>\u001b[0m in \u001b[0;36m<lambda>\u001b[0;34m(x)\u001b[0m\n\u001b[1;32m     87\u001b[0m     \u001b[0mmutations_mapped\u001b[0m\u001b[0;34m[\u001b[0m\u001b[0;34m'pre'\u001b[0m\u001b[0;34m]\u001b[0m \u001b[0;34m=\u001b[0m \u001b[0mmutations_mapped\u001b[0m\u001b[0;34m.\u001b[0m\u001b[0mapply\u001b[0m\u001b[0;34m(\u001b[0m\u001b[0;32mlambda\u001b[0m \u001b[0mx\u001b[0m\u001b[0;34m:\u001b[0m \u001b[0mhg19\u001b[0m\u001b[0;34m(\u001b[0m\u001b[0mx\u001b[0m\u001b[0;34m[\u001b[0m\u001b[0;34m'mut_chr'\u001b[0m\u001b[0;34m]\u001b[0m\u001b[0;34m,\u001b[0m \u001b[0mx\u001b[0m\u001b[0;34m[\u001b[0m\u001b[0;34m'mut_end'\u001b[0m\u001b[0;34m]\u001b[0m\u001b[0;34m-\u001b[0m\u001b[0;36m1\u001b[0m\u001b[0;34m)\u001b[0m\u001b[0;34m,\u001b[0m \u001b[0maxis\u001b[0m\u001b[0;34m=\u001b[0m\u001b[0;36m1\u001b[0m\u001b[0;34m)\u001b[0m\u001b[0;34m\u001b[0m\u001b[0m\n\u001b[1;32m     88\u001b[0m     \u001b[0mmutations_mapped\u001b[0m\u001b[0;34m[\u001b[0m\u001b[0;34m'post'\u001b[0m\u001b[0;34m]\u001b[0m \u001b[0;34m=\u001b[0m \u001b[0mmutations_mapped\u001b[0m\u001b[0;34m.\u001b[0m\u001b[0mapply\u001b[0m\u001b[0;34m(\u001b[0m\u001b[0;32mlambda\u001b[0m \u001b[0mx\u001b[0m\u001b[0;34m:\u001b[0m \u001b[0mhg19\u001b[0m\u001b[0;34m(\u001b[0m\u001b[0mx\u001b[0m\u001b[0;34m[\u001b[0m\u001b[0;34m'mut_chr'\u001b[0m\u001b[0;34m]\u001b[0m\u001b[0;34m,\u001b[0m \u001b[0mx\u001b[0m\u001b[0;34m[\u001b[0m\u001b[0;34m'mut_end'\u001b[0m\u001b[0;34m]\u001b[0m\u001b[0;34m+\u001b[0m\u001b[0;36m1\u001b[0m\u001b[0;34m)\u001b[0m\u001b[0;34m,\u001b[0m \u001b[0maxis\u001b[0m\u001b[0;34m=\u001b[0m\u001b[0;36m1\u001b[0m\u001b[0;34m)\u001b[0m\u001b[0;34m\u001b[0m\u001b[0m\n\u001b[0;32m---> 89\u001b[0;31m     mutations_mapped['mut_class'] = mutations_mapped.apply(lambda x: compute_CpG_to_T(x['mut_ref'],\n\u001b[0m\u001b[1;32m     90\u001b[0m                                                                 x['mut_alt'], x['pre'], x['post']), axis=1)\n\u001b[1;32m     91\u001b[0m     \u001b[0mmutations_mapped\u001b[0m \u001b[0;34m=\u001b[0m \u001b[0mmutations_mapped\u001b[0m\u001b[0;34m[\u001b[0m\u001b[0mmutations_mapped\u001b[0m\u001b[0;34m[\u001b[0m\u001b[0;34m'mut_class'\u001b[0m\u001b[0;34m]\u001b[0m \u001b[0;34m==\u001b[0m \u001b[0minclude\u001b[0m\u001b[0;34m]\u001b[0m\u001b[0;34m\u001b[0m\u001b[0m\n",
      "\u001b[0;32m~/anaconda3/envs/intronexon/lib/python3.6/site-packages/pandas/core/series.py\u001b[0m in \u001b[0;36m__getitem__\u001b[0;34m(self, key)\u001b[0m\n\u001b[1;32m    599\u001b[0m         \u001b[0mkey\u001b[0m \u001b[0;34m=\u001b[0m \u001b[0mcom\u001b[0m\u001b[0;34m.\u001b[0m\u001b[0m_apply_if_callable\u001b[0m\u001b[0;34m(\u001b[0m\u001b[0mkey\u001b[0m\u001b[0;34m,\u001b[0m \u001b[0mself\u001b[0m\u001b[0;34m)\u001b[0m\u001b[0;34m\u001b[0m\u001b[0m\n\u001b[1;32m    600\u001b[0m         \u001b[0;32mtry\u001b[0m\u001b[0;34m:\u001b[0m\u001b[0;34m\u001b[0m\u001b[0m\n\u001b[0;32m--> 601\u001b[0;31m             \u001b[0mresult\u001b[0m \u001b[0;34m=\u001b[0m \u001b[0mself\u001b[0m\u001b[0;34m.\u001b[0m\u001b[0mindex\u001b[0m\u001b[0;34m.\u001b[0m\u001b[0mget_value\u001b[0m\u001b[0;34m(\u001b[0m\u001b[0mself\u001b[0m\u001b[0;34m,\u001b[0m \u001b[0mkey\u001b[0m\u001b[0;34m)\u001b[0m\u001b[0;34m\u001b[0m\u001b[0m\n\u001b[0m\u001b[1;32m    602\u001b[0m \u001b[0;34m\u001b[0m\u001b[0m\n\u001b[1;32m    603\u001b[0m             \u001b[0;32mif\u001b[0m \u001b[0;32mnot\u001b[0m \u001b[0mis_scalar\u001b[0m\u001b[0;34m(\u001b[0m\u001b[0mresult\u001b[0m\u001b[0;34m)\u001b[0m\u001b[0;34m:\u001b[0m\u001b[0;34m\u001b[0m\u001b[0m\n",
      "\u001b[0;32m~/anaconda3/envs/intronexon/lib/python3.6/site-packages/pandas/core/indexes/base.py\u001b[0m in \u001b[0;36mget_value\u001b[0;34m(self, series, key)\u001b[0m\n\u001b[1;32m   2489\u001b[0m                     \u001b[0;32mraise\u001b[0m \u001b[0mInvalidIndexError\u001b[0m\u001b[0;34m(\u001b[0m\u001b[0mkey\u001b[0m\u001b[0;34m)\u001b[0m\u001b[0;34m\u001b[0m\u001b[0m\n\u001b[1;32m   2490\u001b[0m                 \u001b[0;32melse\u001b[0m\u001b[0;34m:\u001b[0m\u001b[0;34m\u001b[0m\u001b[0m\n\u001b[0;32m-> 2491\u001b[0;31m                     \u001b[0;32mraise\u001b[0m \u001b[0me1\u001b[0m\u001b[0;34m\u001b[0m\u001b[0m\n\u001b[0m\u001b[1;32m   2492\u001b[0m             \u001b[0;32mexcept\u001b[0m \u001b[0mException\u001b[0m\u001b[0;34m:\u001b[0m  \u001b[0;31m# pragma: no cover\u001b[0m\u001b[0;34m\u001b[0m\u001b[0m\n\u001b[1;32m   2493\u001b[0m                 \u001b[0;32mraise\u001b[0m \u001b[0me1\u001b[0m\u001b[0;34m\u001b[0m\u001b[0m\n",
      "\u001b[0;32m~/anaconda3/envs/intronexon/lib/python3.6/site-packages/pandas/core/indexes/base.py\u001b[0m in \u001b[0;36mget_value\u001b[0;34m(self, series, key)\u001b[0m\n\u001b[1;32m   2475\u001b[0m         \u001b[0;32mtry\u001b[0m\u001b[0;34m:\u001b[0m\u001b[0;34m\u001b[0m\u001b[0m\n\u001b[1;32m   2476\u001b[0m             return self._engine.get_value(s, k,\n\u001b[0;32m-> 2477\u001b[0;31m                                           tz=getattr(series.dtype, 'tz', None))\n\u001b[0m\u001b[1;32m   2478\u001b[0m         \u001b[0;32mexcept\u001b[0m \u001b[0mKeyError\u001b[0m \u001b[0;32mas\u001b[0m \u001b[0me1\u001b[0m\u001b[0;34m:\u001b[0m\u001b[0;34m\u001b[0m\u001b[0m\n\u001b[1;32m   2479\u001b[0m             \u001b[0;32mif\u001b[0m \u001b[0mlen\u001b[0m\u001b[0;34m(\u001b[0m\u001b[0mself\u001b[0m\u001b[0;34m)\u001b[0m \u001b[0;34m>\u001b[0m \u001b[0;36m0\u001b[0m \u001b[0;32mand\u001b[0m \u001b[0mself\u001b[0m\u001b[0;34m.\u001b[0m\u001b[0minferred_type\u001b[0m \u001b[0;32min\u001b[0m \u001b[0;34m[\u001b[0m\u001b[0;34m'integer'\u001b[0m\u001b[0;34m,\u001b[0m \u001b[0;34m'boolean'\u001b[0m\u001b[0;34m]\u001b[0m\u001b[0;34m:\u001b[0m\u001b[0;34m\u001b[0m\u001b[0m\n",
      "\u001b[0;32mpandas/_libs/index.pyx\u001b[0m in \u001b[0;36mpandas._libs.index.IndexEngine.get_value (pandas/_libs/index.c:4404)\u001b[0;34m()\u001b[0m\n",
      "\u001b[0;32mpandas/_libs/index.pyx\u001b[0m in \u001b[0;36mpandas._libs.index.IndexEngine.get_value (pandas/_libs/index.c:4087)\u001b[0;34m()\u001b[0m\n",
      "\u001b[0;32mpandas/_libs/index.pyx\u001b[0m in \u001b[0;36mpandas._libs.index.IndexEngine.get_loc (pandas/_libs/index.c:5126)\u001b[0;34m()\u001b[0m\n",
      "\u001b[0;32mpandas/_libs/hashtable_class_helper.pxi\u001b[0m in \u001b[0;36mpandas._libs.hashtable.PyObjectHashTable.get_item (pandas/_libs/hashtable.c:20523)\u001b[0;34m()\u001b[0m\n",
      "\u001b[0;32mpandas/_libs/hashtable_class_helper.pxi\u001b[0m in \u001b[0;36mpandas._libs.hashtable.PyObjectHashTable.get_item (pandas/_libs/hashtable.c:20477)\u001b[0;34m()\u001b[0m\n",
      "\u001b[0;31mKeyError\u001b[0m: ('mut_ref', 'occurred at index 0')"
     ]
    }
   ],
   "source": [
    "middle_distance_threshold = 1000\n",
    "signatures_file = 'results/3mer_signatures_DNM_new.txt'\n",
    "include = 'CpG>T'\n",
    "\n",
    "(exons_centered_results, exonic_obs, intronic_obs) = stacked_sequence_level_permutation_excluding(mutations_df,\n",
    "                                    exons_coords_symbol_df, signatures_file, tumor_type, middle_distance_threshold, include)\n",
    "\n",
    "exons_centered_results = pd.DataFrame.transpose(exons_centered_results)\n",
    "exons_centered_results.to_csv(path.join('results', 'exons_centered_3mer_permut_CpGtoT.tsv'),\n",
    "                              sep=\"\\t\", header=True, index=False)"
   ]
  },
  {
   "cell_type": "code",
   "execution_count": null,
   "metadata": {
    "collapsed": true
   },
   "outputs": [],
   "source": [
    "results = []\n",
    "RANDOMIZATION = 1000\n",
    "include = 'CpG>T'\n",
    "    \n",
    "# Read the expected exon and intron mutation counts from permutations\n",
    "rand_output = pd.read_csv(path.join('results', 'exons_centered_3mer_permut_CpGtoT.tsv'), sep=\"\\t\")\n",
    "    \n",
    "# count the number of times the expected exon mutations is higher than the observed\n",
    "count = len(rand_output[rand_output['exon_Exp'] >= exonic_obs])\n",
    "    \n",
    "if count == 0:\n",
    "    count = 1 \n",
    "    \n",
    "results.append([exonic_obs, rand_output['exon_Exp'].mean(), intronic_obs, rand_output['intron_Exp'].mean(), count/RANDOMIZATION])\n",
    "    \n",
    "results_df = pd.DataFrame(results)\n",
    "results_df.columns = ['obs_exon_cnt', 'exp_exon_cnt','obs_intron_cnt', 'exp_intron_cnt', 'empirical_pvalue']\n",
    "results_df"
   ]
  },
  {
   "cell_type": "code",
   "execution_count": null,
   "metadata": {
    "collapsed": true
   },
   "outputs": [],
   "source": [
    "exonic_increase = (results_df[\"obs_exon_cnt\"]/results_df[\"exp_exon_cnt\"]-1)*100\n",
    "exonic_increase"
   ]
  },
  {
   "cell_type": "code",
   "execution_count": null,
   "metadata": {
    "collapsed": true
   },
   "outputs": [],
   "source": [
    "rand_output['increase'] = (exonic_obs/rand_output['exon_Exp']-1)*100\n",
    "error = (st.stdev(rand_output['increase'].tolist())/np.sqrt(1000))\n",
    "(exonic_increase-error, exonic_increase+error)"
   ]
  },
  {
   "cell_type": "markdown",
   "metadata": {},
   "source": [
    "## Middle-Exon centered analysis, nonCpG>T class\n",
    "\n",
    "Mutation probabilities were computed genome-wide using the full dataset of germline mutations. Observed and expected values were computed with the method described in the **Exon-centered and intron-centered mutational analyses** section at Frigola et al. However, we do not consider mutations of C>T class at both the intronic and exonic positions for the observed and the expected sum of probabilities."
   ]
  },
  {
   "cell_type": "code",
   "execution_count": 17,
   "metadata": {
    "collapsed": true
   },
   "outputs": [],
   "source": [
    "middle_distance_threshold = 1000\n",
    "\n",
    "include = 'nonCpG>T'\n",
    "\n",
    "exons_centered_results = obs_exp_muts_excluding(mutations_df, exons_coords_df, signatures_dict, tumor_type,\n",
    "                            middle_distance_threshold, include)\n",
    "\n",
    "exons_centered_results.to_csv(path.join('results', \"exons_centered_nonCpGtoT.tsv\"), sep=\"\\t\", header=True,\n",
    "                            index=False)"
   ]
  },
  {
   "cell_type": "markdown",
   "metadata": {},
   "source": [
    "#### Significance through permutations"
   ]
  },
  {
   "cell_type": "code",
   "execution_count": null,
   "metadata": {
    "collapsed": true
   },
   "outputs": [],
   "source": [
    "k = 3\n",
    "middle_distance_threshold = 1000\n",
    "signatures_file = 'results/' + str(k) + 'mer_signatures_DNM_new.txt'\n",
    "include = 'synonymous'\n",
    "\n",
    "(exons_centered_results, exonic_obs, intronic_obs) = stacked_sequence_level_permutation_excluding(mutations_df,\n",
    "                                    exons_coords_df, signatures_file, tumor_type, middle_distance_threshold,\n",
    "                                    k, include, tb_consequence_type, consequence_rank_dict)\n",
    "\n",
    "exons_centered_results = pd.DataFrame.transpose(exons_centered_results)\n",
    "exons_centered_results.to_csv(path.join('results', 'exons_centered_' + str(k) + 'mer_permut_' + include + '.tsv'),\n",
    "                              sep=\"\\t\", header=True, index=False)"
   ]
  },
  {
   "cell_type": "code",
   "execution_count": null,
   "metadata": {
    "collapsed": true
   },
   "outputs": [],
   "source": [
    "k = 1\n",
    "results = []\n",
    "RANDOMIZATION = 1000\n",
    "include = 'synonymous'\n",
    "    \n",
    "# Read the expected exon and intron mutation counts from permutations\n",
    "rand_output = pd.read_csv(path.join('results', 'exons_centered_' + str(k) + 'mer_permut_' + include + '.tsv'), sep=\"\\t\")\n",
    "    \n",
    "# count the number of times the expected exon mutations is higher than the observed\n",
    "count = len(rand_output[rand_output['exon_Exp'] >= exonic_obs])\n",
    "    \n",
    "if count == 0:\n",
    "    count = 1 \n",
    "    \n",
    "results.append([exonic_obs, rand_output['exon_Exp'].mean(), intronic_obs, rand_output['intron_Exp'].mean(), count/RANDOMIZATION])\n",
    "    \n",
    "results_df = pd.DataFrame(results)\n",
    "results_df.columns = ['obs_exon_cnt', 'exp_exon_cnt','obs_intron_cnt', 'exp_intron_cnt', 'empirical_pvalue']\n",
    "results_df"
   ]
  },
  {
   "cell_type": "code",
   "execution_count": null,
   "metadata": {
    "collapsed": true
   },
   "outputs": [],
   "source": [
    "exonic_increase = (results_df[\"obs_exon_cnt\"]/results_df[\"exp_exon_cnt\"]-1)*100\n",
    "exonic_increase"
   ]
  },
  {
   "cell_type": "code",
   "execution_count": null,
   "metadata": {
    "collapsed": true
   },
   "outputs": [],
   "source": [
    "rand_output['increase'] = (exonic_obs/rand_output['exon_Exp']-1)*100\n",
    "error = (st.stdev(rand_output['increase'].tolist())/np.sqrt(1000))\n",
    "(exonic_increase-error, exonic_increase+error)"
   ]
  },
  {
   "cell_type": "markdown",
   "metadata": {},
   "source": [
    "### Plot results\n",
    "\n",
    "Binned average approach. Bin size is 25."
   ]
  },
  {
   "cell_type": "code",
   "execution_count": 28,
   "metadata": {},
   "outputs": [
    {
     "name": "stderr",
     "output_type": "stream",
     "text": [
      "/home/peluca/anaconda3/envs/intronexon/lib/python3.6/site-packages/ipykernel_launcher.py:20: MatplotlibDeprecationWarning: The set_axis_bgcolor function was deprecated in version 2.0. Use set_facecolor instead.\n",
      "/home/peluca/anaconda3/envs/intronexon/lib/python3.6/site-packages/matplotlib/font_manager.py:1297: UserWarning: findfont: Font family ['sans-serif'] not found. Falling back to DejaVu Sans\n",
      "  (prop.get_family(), self.defaultFamily[fontext]))\n"
     ]
    },
    {
     "data": {
      "image/png": "[encoded data removed]",
      "text/plain": [
       "<matplotlib.figure.Figure at 0x7f0799d0f278>"
      ]
     },
     "metadata": {},
     "output_type": "display_data"
    }
   ],
   "source": [
    "size = 25\n",
    "\n",
    "listt = ['CpGtoT', 'nonCpGtoT']   \n",
    "\n",
    "NROW=1\n",
    "NCOL=2\n",
    "\n",
    "axs = []\n",
    "\n",
    "fig = plt.figure(figsize=(7,4))\n",
    "\n",
    "for row in range(0, NROW):\n",
    "    for col in range(0, NCOL):\n",
    "        axs.append(plt.subplot2grid((NROW, NCOL), (row, col)))\n",
    "\n",
    "cnt=0\n",
    "for ele in listt:\n",
    "    plot_HD_BINNED(ele, axs[cnt], cnt, size)\n",
    "    cnt+=1\n",
    "    \n",
    "    \n",
    "plt.tight_layout()\n",
    "plt.savefig(path.join('figures', 'mut_class_BINNED.svg'), bbox_inches='tight')\n",
    "plt.show()"
   ]
  },
  {
   "cell_type": "markdown",
   "metadata": {},
   "source": [
    "## Load data, healthy DNMs"
   ]
  },
  {
   "cell_type": "code",
   "execution_count": 20,
   "metadata": {
    "collapsed": true
   },
   "outputs": [],
   "source": [
    "# Get the mutations\n",
    "sample_mutations_file = mutations_folder + 'germinal_healthy.bed.gz'\n",
    "sample_mutations_df = pd.read_csv(sample_mutations_file, sep=\"\\t\", header=None)\n",
    "sample_mutations_df.columns = ['chr', 'start', 'end', 'ref', 'alt', 'sample', 'type', 'class', 'ID']\n",
    "sample_mutations_df = sample_mutations_df[['chr', 'start', 'end', 'ref', 'alt', 'sample', 'type', 'ID']]\n",
    "sample_mutations_df = sample_mutations_df[sample_mutations_df['type'] == 'subs']\n",
    "mutations_df = sample_mutations_df\n",
    "mutations_df['ID'] = mutations_df.index + 1\n",
    "\n",
    "## Get signatures\n",
    "signatures_file = 'results/3mer_signatures_healthy.txt'\n",
    "all_signatures = pd.read_csv(signatures_file, sep='\\t')\n",
    "probability_name = 'Probability_' + tumor_type\n",
    "sub_signatures_df = all_signatures[['mutation', probability_name]]\n",
    "signatures_dict = sub_signatures_df.set_index('mutation').T.to_dict()"
   ]
  },
  {
   "cell_type": "markdown",
   "metadata": {},
   "source": [
    "## Middle-Exon centered analysis, CpG>T class\n",
    "\n",
    "Mutation probabilities were computed genome-wide using the full dataset of germline mutations. Observed and expected values were computed with the method described in the **Exon-centered and intron-centered mutational analyses** section at Frigola et al. However, we consider mutations only of C>T class at both the intronic and exonic positions for the observed and the expected sum of probabilities."
   ]
  },
  {
   "cell_type": "code",
   "execution_count": 21,
   "metadata": {
    "collapsed": true
   },
   "outputs": [],
   "source": [
    "middle_distance_threshold = 1000\n",
    "\n",
    "include = 'CpG>T'\n",
    "\n",
    "exons_centered_results = obs_exp_muts_excluding(mutations_df, exons_coords_df, signatures_dict, tumor_type, \n",
    "                            middle_distance_threshold, include)\n",
    "\n",
    "exons_centered_results.to_csv(path.join('results', \"exons_centered_CpGtoT_healthy.tsv\"), sep=\"\\t\", header=True,\n",
    "                            index=False)"
   ]
  },
  {
   "cell_type": "markdown",
   "metadata": {},
   "source": [
    "#### Significance through permutations"
   ]
  },
  {
   "cell_type": "code",
   "execution_count": null,
   "metadata": {
    "collapsed": true
   },
   "outputs": [],
   "source": [
    "k = 3\n",
    "middle_distance_threshold = 1000\n",
    "signatures_file = 'results/' + str(k) + 'mer_signatures_DNM_new.txt'\n",
    "include = 'synonymous'\n",
    "\n",
    "(exons_centered_results, exonic_obs, intronic_obs) = stacked_sequence_level_permutation_excluding(mutations_df,\n",
    "                                    exons_coords_df, signatures_file, tumor_type, middle_distance_threshold,\n",
    "                                    k, include, tb_consequence_type, consequence_rank_dict)\n",
    "\n",
    "exons_centered_results = pd.DataFrame.transpose(exons_centered_results)\n",
    "exons_centered_results.to_csv(path.join('results', 'exons_centered_' + str(k) + 'mer_permut_' + include + '.tsv'),\n",
    "                              sep=\"\\t\", header=True, index=False)"
   ]
  },
  {
   "cell_type": "code",
   "execution_count": null,
   "metadata": {
    "collapsed": true
   },
   "outputs": [],
   "source": [
    "k = 1\n",
    "results = []\n",
    "RANDOMIZATION = 1000\n",
    "include = 'synonymous'\n",
    "    \n",
    "# Read the expected exon and intron mutation counts from permutations\n",
    "rand_output = pd.read_csv(path.join('results', 'exons_centered_' + str(k) + 'mer_permut_' + include + '.tsv'), sep=\"\\t\")\n",
    "    \n",
    "# count the number of times the expected exon mutations is higher than the observed\n",
    "count = len(rand_output[rand_output['exon_Exp'] >= exonic_obs])\n",
    "    \n",
    "if count == 0:\n",
    "    count = 1 \n",
    "    \n",
    "results.append([exonic_obs, rand_output['exon_Exp'].mean(), intronic_obs, rand_output['intron_Exp'].mean(), count/RANDOMIZATION])\n",
    "    \n",
    "results_df = pd.DataFrame(results)\n",
    "results_df.columns = ['obs_exon_cnt', 'exp_exon_cnt','obs_intron_cnt', 'exp_intron_cnt', 'empirical_pvalue']\n",
    "results_df"
   ]
  },
  {
   "cell_type": "code",
   "execution_count": null,
   "metadata": {
    "collapsed": true
   },
   "outputs": [],
   "source": [
    "exonic_increase = (results_df[\"obs_exon_cnt\"]/results_df[\"exp_exon_cnt\"]-1)*100\n",
    "exonic_increase"
   ]
  },
  {
   "cell_type": "code",
   "execution_count": null,
   "metadata": {
    "collapsed": true
   },
   "outputs": [],
   "source": [
    "rand_output['increase'] = (exonic_obs/rand_output['exon_Exp']-1)*100\n",
    "error = (st.stdev(rand_output['increase'].tolist())/np.sqrt(1000))\n",
    "(exonic_increase-error, exonic_increase+error)"
   ]
  },
  {
   "cell_type": "markdown",
   "metadata": {},
   "source": [
    "## Middle-Exon centered analysis, nonCpG>T class\n",
    "\n",
    "Mutation probabilities were computed genome-wide using the full dataset of germline mutations. Observed and expected values were computed with the method described in the **Exon-centered and intron-centered mutational analyses** section at Frigola et al. However, we do not consider mutations of C>T class at both the intronic and exonic positions for the observed and the expected sum of probabilities."
   ]
  },
  {
   "cell_type": "code",
   "execution_count": 22,
   "metadata": {
    "collapsed": true
   },
   "outputs": [],
   "source": [
    "middle_distance_threshold = 1000\n",
    "\n",
    "include = 'nonCpG>T'\n",
    "\n",
    "exons_centered_results = obs_exp_muts_excluding(mutations_df, exons_coords_df, signatures_dict, tumor_type,\n",
    "                            middle_distance_threshold, include)\n",
    "\n",
    "exons_centered_results.to_csv(path.join('results', \"exons_centered_nonCpGtoT_healthy.tsv\"), sep=\"\\t\", header=True,\n",
    "                            index=False)"
   ]
  },
  {
   "cell_type": "markdown",
   "metadata": {},
   "source": [
    "#### Significance through permutations"
   ]
  },
  {
   "cell_type": "code",
   "execution_count": null,
   "metadata": {
    "collapsed": true
   },
   "outputs": [],
   "source": [
    "k = 3\n",
    "middle_distance_threshold = 1000\n",
    "signatures_file = 'results/' + str(k) + 'mer_signatures_DNM_new.txt'\n",
    "include = 'synonymous'\n",
    "\n",
    "(exons_centered_results, exonic_obs, intronic_obs) = stacked_sequence_level_permutation_excluding(mutations_df,\n",
    "                                    exons_coords_df, signatures_file, tumor_type, middle_distance_threshold,\n",
    "                                    k, include, tb_consequence_type, consequence_rank_dict)\n",
    "\n",
    "exons_centered_results = pd.DataFrame.transpose(exons_centered_results)\n",
    "exons_centered_results.to_csv(path.join('results', 'exons_centered_' + str(k) + 'mer_permut_' + include + '.tsv'),\n",
    "                              sep=\"\\t\", header=True, index=False)"
   ]
  },
  {
   "cell_type": "code",
   "execution_count": null,
   "metadata": {
    "collapsed": true
   },
   "outputs": [],
   "source": [
    "k = 1\n",
    "results = []\n",
    "RANDOMIZATION = 1000\n",
    "include = 'synonymous'\n",
    "    \n",
    "# Read the expected exon and intron mutation counts from permutations\n",
    "rand_output = pd.read_csv(path.join('results', 'exons_centered_' + str(k) + 'mer_permut_' + include + '.tsv'), sep=\"\\t\")\n",
    "    \n",
    "# count the number of times the expected exon mutations is higher than the observed\n",
    "count = len(rand_output[rand_output['exon_Exp'] >= exonic_obs])\n",
    "    \n",
    "if count == 0:\n",
    "    count = 1 \n",
    "    \n",
    "results.append([exonic_obs, rand_output['exon_Exp'].mean(), intronic_obs, rand_output['intron_Exp'].mean(), count/RANDOMIZATION])\n",
    "    \n",
    "results_df = pd.DataFrame(results)\n",
    "results_df.columns = ['obs_exon_cnt', 'exp_exon_cnt','obs_intron_cnt', 'exp_intron_cnt', 'empirical_pvalue']\n",
    "results_df"
   ]
  },
  {
   "cell_type": "code",
   "execution_count": null,
   "metadata": {
    "collapsed": true
   },
   "outputs": [],
   "source": [
    "exonic_increase = (results_df[\"obs_exon_cnt\"]/results_df[\"exp_exon_cnt\"]-1)*100\n",
    "exonic_increase"
   ]
  },
  {
   "cell_type": "code",
   "execution_count": null,
   "metadata": {
    "collapsed": true
   },
   "outputs": [],
   "source": [
    "rand_output['increase'] = (exonic_obs/rand_output['exon_Exp']-1)*100\n",
    "error = (st.stdev(rand_output['increase'].tolist())/np.sqrt(1000))\n",
    "(exonic_increase-error, exonic_increase+error)"
   ]
  },
  {
   "cell_type": "markdown",
   "metadata": {},
   "source": [
    "### Plot results\n",
    "\n",
    "Binned average approach. Bin size is 25."
   ]
  },
  {
   "cell_type": "code",
   "execution_count": 29,
   "metadata": {},
   "outputs": [
    {
     "name": "stderr",
     "output_type": "stream",
     "text": [
      "/home/peluca/anaconda3/envs/intronexon/lib/python3.6/site-packages/ipykernel_launcher.py:20: MatplotlibDeprecationWarning: The set_axis_bgcolor function was deprecated in version 2.0. Use set_facecolor instead.\n",
      "/home/peluca/anaconda3/envs/intronexon/lib/python3.6/site-packages/matplotlib/font_manager.py:1297: UserWarning: findfont: Font family ['sans-serif'] not found. Falling back to DejaVu Sans\n",
      "  (prop.get_family(), self.defaultFamily[fontext]))\n"
     ]
    },
    {
     "data": {
      "image/png": "[encoded data removed]",
      "text/plain": [
       "<matplotlib.figure.Figure at 0x7f0799cc3be0>"
      ]
     },
     "metadata": {},
     "output_type": "display_data"
    }
   ],
   "source": [
    "size = 25\n",
    "\n",
    "listt = ['CpGtoT_healthy', 'nonCpGtoT_healthy']   \n",
    "\n",
    "NROW=1\n",
    "NCOL=2\n",
    "\n",
    "axs = []\n",
    "\n",
    "fig = plt.figure(figsize=(7,4))\n",
    "\n",
    "for row in range(0, NROW):\n",
    "    for col in range(0, NCOL):\n",
    "        axs.append(plt.subplot2grid((NROW, NCOL), (row, col)))\n",
    "\n",
    "cnt=0\n",
    "for ele in listt:\n",
    "    plot_HD_BINNED(ele, axs[cnt], cnt, size)\n",
    "    cnt+=1\n",
    "    \n",
    "    \n",
    "plt.tight_layout()\n",
    "plt.savefig(path.join('figures', 'mut_class_BINNED_healthy.svg'), bbox_inches='tight')\n",
    "plt.show()"
   ]
  },
  {
   "cell_type": "markdown",
   "metadata": {},
   "source": [
    "## Load data, autism DNMs"
   ]
  },
  {
   "cell_type": "code",
   "execution_count": 24,
   "metadata": {
    "collapsed": true
   },
   "outputs": [],
   "source": [
    "# Get the mutations\n",
    "sample_mutations_file = mutations_folder + 'germinal_autism.bed.gz'\n",
    "sample_mutations_df = pd.read_csv(sample_mutations_file, sep=\"\\t\", header=None)\n",
    "sample_mutations_df.columns = ['chr', 'start', 'end', 'ref', 'alt', 'sample', 'type', 'class', 'ID']\n",
    "sample_mutations_df = sample_mutations_df[['chr', 'start', 'end', 'ref', 'alt', 'sample', 'type', 'ID']]\n",
    "sample_mutations_df = sample_mutations_df[sample_mutations_df['type'] == 'subs']\n",
    "mutations_df = sample_mutations_df\n",
    "mutations_df['ID'] = mutations_df.index + 1\n",
    "\n",
    "## Get signatures\n",
    "signatures_file = 'results/3mer_signatures_autism.txt'\n",
    "all_signatures = pd.read_csv(signatures_file, sep='\\t')\n",
    "probability_name = 'Probability_' + tumor_type\n",
    "sub_signatures_df = all_signatures[['mutation', probability_name]]\n",
    "signatures_dict = sub_signatures_df.set_index('mutation').T.to_dict()"
   ]
  },
  {
   "cell_type": "markdown",
   "metadata": {},
   "source": [
    "## Middle-Exon centered analysis, CpG>T class\n",
    "\n",
    "Mutation probabilities were computed genome-wide using the full dataset of germline mutations. Observed and expected values were computed with the method described in the **Exon-centered and intron-centered mutational analyses** section at Frigola et al. However, we consider mutations only of C>T class at both the intronic and exonic positions for the observed and the expected sum of probabilities."
   ]
  },
  {
   "cell_type": "code",
   "execution_count": 25,
   "metadata": {
    "collapsed": true
   },
   "outputs": [],
   "source": [
    "middle_distance_threshold = 1000\n",
    "\n",
    "include = 'CpG>T'\n",
    "\n",
    "exons_centered_results = obs_exp_muts_excluding(mutations_df, exons_coords_df, signatures_dict, tumor_type, \n",
    "                            middle_distance_threshold, include)\n",
    "\n",
    "exons_centered_results.to_csv(path.join('results', \"exons_centered_CpGtoT_autism.tsv\"), sep=\"\\t\", header=True,\n",
    "                            index=False)"
   ]
  },
  {
   "cell_type": "markdown",
   "metadata": {},
   "source": [
    "#### Significance through permutations"
   ]
  },
  {
   "cell_type": "code",
   "execution_count": null,
   "metadata": {
    "collapsed": true
   },
   "outputs": [],
   "source": [
    "k = 3\n",
    "middle_distance_threshold = 1000\n",
    "signatures_file = 'results/' + str(k) + 'mer_signatures_DNM_new.txt'\n",
    "include = 'synonymous'\n",
    "\n",
    "(exons_centered_results, exonic_obs, intronic_obs) = stacked_sequence_level_permutation_excluding(mutations_df,\n",
    "                                    exons_coords_df, signatures_file, tumor_type, middle_distance_threshold,\n",
    "                                    k, include, tb_consequence_type, consequence_rank_dict)\n",
    "\n",
    "exons_centered_results = pd.DataFrame.transpose(exons_centered_results)\n",
    "exons_centered_results.to_csv(path.join('results', 'exons_centered_' + str(k) + 'mer_permut_' + include + '.tsv'),\n",
    "                              sep=\"\\t\", header=True, index=False)"
   ]
  },
  {
   "cell_type": "code",
   "execution_count": null,
   "metadata": {
    "collapsed": true
   },
   "outputs": [],
   "source": [
    "k = 1\n",
    "results = []\n",
    "RANDOMIZATION = 1000\n",
    "include = 'synonymous'\n",
    "    \n",
    "# Read the expected exon and intron mutation counts from permutations\n",
    "rand_output = pd.read_csv(path.join('results', 'exons_centered_' + str(k) + 'mer_permut_' + include + '.tsv'), sep=\"\\t\")\n",
    "    \n",
    "# count the number of times the expected exon mutations is higher than the observed\n",
    "count = len(rand_output[rand_output['exon_Exp'] >= exonic_obs])\n",
    "    \n",
    "if count == 0:\n",
    "    count = 1 \n",
    "    \n",
    "results.append([exonic_obs, rand_output['exon_Exp'].mean(), intronic_obs, rand_output['intron_Exp'].mean(), count/RANDOMIZATION])\n",
    "    \n",
    "results_df = pd.DataFrame(results)\n",
    "results_df.columns = ['obs_exon_cnt', 'exp_exon_cnt','obs_intron_cnt', 'exp_intron_cnt', 'empirical_pvalue']\n",
    "results_df"
   ]
  },
  {
   "cell_type": "code",
   "execution_count": null,
   "metadata": {
    "collapsed": true
   },
   "outputs": [],
   "source": [
    "exonic_increase = (results_df[\"obs_exon_cnt\"]/results_df[\"exp_exon_cnt\"]-1)*100\n",
    "exonic_increase"
   ]
  },
  {
   "cell_type": "code",
   "execution_count": null,
   "metadata": {
    "collapsed": true
   },
   "outputs": [],
   "source": [
    "rand_output['increase'] = (exonic_obs/rand_output['exon_Exp']-1)*100\n",
    "error = (st.stdev(rand_output['increase'].tolist())/np.sqrt(1000))\n",
    "(exonic_increase-error, exonic_increase+error)"
   ]
  },
  {
   "cell_type": "markdown",
   "metadata": {},
   "source": [
    "## Middle-Exon centered analysis, nonCpG>T class\n",
    "\n",
    "Mutation probabilities were computed genome-wide using the full dataset of germline mutations. Observed and expected values were computed with the method described in the **Exon-centered and intron-centered mutational analyses** section at Frigola et al. However, we do not consider mutations of C>T class at both the intronic and exonic positions for the observed and the expected sum of probabilities."
   ]
  },
  {
   "cell_type": "code",
   "execution_count": 26,
   "metadata": {
    "collapsed": true
   },
   "outputs": [],
   "source": [
    "middle_distance_threshold = 1000\n",
    "\n",
    "include = 'nonCpG>T'\n",
    "\n",
    "exons_centered_results = obs_exp_muts_excluding(mutations_df, exons_coords_df, signatures_dict, tumor_type,\n",
    "                            middle_distance_threshold, include)\n",
    "\n",
    "exons_centered_results.to_csv(path.join('results', \"exons_centered_nonCpGtoT_autism.tsv\"), sep=\"\\t\", header=True,\n",
    "                            index=False)"
   ]
  },
  {
   "cell_type": "markdown",
   "metadata": {},
   "source": [
    "#### Significance through permutations"
   ]
  },
  {
   "cell_type": "code",
   "execution_count": null,
   "metadata": {
    "collapsed": true
   },
   "outputs": [],
   "source": [
    "k = 3\n",
    "middle_distance_threshold = 1000\n",
    "signatures_file = 'results/' + str(k) + 'mer_signatures_DNM_new.txt'\n",
    "include = 'synonymous'\n",
    "\n",
    "(exons_centered_results, exonic_obs, intronic_obs) = stacked_sequence_level_permutation_excluding(mutations_df,\n",
    "                                    exons_coords_df, signatures_file, tumor_type, middle_distance_threshold,\n",
    "                                    k, include, tb_consequence_type, consequence_rank_dict)\n",
    "\n",
    "exons_centered_results = pd.DataFrame.transpose(exons_centered_results)\n",
    "exons_centered_results.to_csv(path.join('results', 'exons_centered_' + str(k) + 'mer_permut_' + include + '.tsv'),\n",
    "                              sep=\"\\t\", header=True, index=False)"
   ]
  },
  {
   "cell_type": "code",
   "execution_count": null,
   "metadata": {
    "collapsed": true
   },
   "outputs": [],
   "source": [
    "k = 1\n",
    "results = []\n",
    "RANDOMIZATION = 1000\n",
    "include = 'synonymous'\n",
    "    \n",
    "# Read the expected exon and intron mutation counts from permutations\n",
    "rand_output = pd.read_csv(path.join('results', 'exons_centered_' + str(k) + 'mer_permut_' + include + '.tsv'), sep=\"\\t\")\n",
    "    \n",
    "# count the number of times the expected exon mutations is higher than the observed\n",
    "count = len(rand_output[rand_output['exon_Exp'] >= exonic_obs])\n",
    "    \n",
    "if count == 0:\n",
    "    count = 1 \n",
    "    \n",
    "results.append([exonic_obs, rand_output['exon_Exp'].mean(), intronic_obs, rand_output['intron_Exp'].mean(), count/RANDOMIZATION])\n",
    "    \n",
    "results_df = pd.DataFrame(results)\n",
    "results_df.columns = ['obs_exon_cnt', 'exp_exon_cnt','obs_intron_cnt', 'exp_intron_cnt', 'empirical_pvalue']\n",
    "results_df"
   ]
  },
  {
   "cell_type": "code",
   "execution_count": null,
   "metadata": {
    "collapsed": true
   },
   "outputs": [],
   "source": [
    "exonic_increase = (results_df[\"obs_exon_cnt\"]/results_df[\"exp_exon_cnt\"]-1)*100\n",
    "exonic_increase"
   ]
  },
  {
   "cell_type": "code",
   "execution_count": null,
   "metadata": {
    "collapsed": true
   },
   "outputs": [],
   "source": [
    "rand_output['increase'] = (exonic_obs/rand_output['exon_Exp']-1)*100\n",
    "error = (st.stdev(rand_output['increase'].tolist())/np.sqrt(1000))\n",
    "(exonic_increase-error, exonic_increase+error)"
   ]
  },
  {
   "cell_type": "markdown",
   "metadata": {},
   "source": [
    "### Plot results\n",
    "\n",
    "Binned average approach. Bin size is 25."
   ]
  },
  {
   "cell_type": "code",
   "execution_count": 27,
   "metadata": {},
   "outputs": [
    {
     "name": "stderr",
     "output_type": "stream",
     "text": [
      "/home/peluca/anaconda3/envs/intronexon/lib/python3.6/site-packages/ipykernel_launcher.py:20: MatplotlibDeprecationWarning: The set_axis_bgcolor function was deprecated in version 2.0. Use set_facecolor instead.\n",
      "/home/peluca/anaconda3/envs/intronexon/lib/python3.6/site-packages/matplotlib/font_manager.py:1297: UserWarning: findfont: Font family ['sans-serif'] not found. Falling back to DejaVu Sans\n",
      "  (prop.get_family(), self.defaultFamily[fontext]))\n"
     ]
    },
    {
     "data": {
      "image/png": "[encoded data removed]",
      "text/plain": [
       "<matplotlib.figure.Figure at 0x7f0799c4acc0>"
      ]
     },
     "metadata": {},
     "output_type": "display_data"
    }
   ],
   "source": [
    "size = 25\n",
    "\n",
    "listt = ['CpGtoT_autism', 'nonCpGtoT_autism']   \n",
    "\n",
    "NROW=1\n",
    "NCOL=2\n",
    "\n",
    "axs = []\n",
    "\n",
    "fig = plt.figure(figsize=(7,4))\n",
    "\n",
    "for row in range(0, NROW):\n",
    "    for col in range(0, NCOL):\n",
    "        axs.append(plt.subplot2grid((NROW, NCOL), (row, col)))\n",
    "\n",
    "cnt=0\n",
    "for ele in listt:\n",
    "    plot_HD_BINNED(ele, axs[cnt], cnt, size)\n",
    "    cnt+=1\n",
    "    \n",
    "    \n",
    "plt.tight_layout()\n",
    "plt.savefig(path.join('figures', 'mut_class_BINNED_autism.svg'), bbox_inches='tight')\n",
    "plt.show()"
   ]
  },
  {
   "cell_type": "code",
   "execution_count": null,
   "metadata": {
    "collapsed": true
   },
   "outputs": [],
   "source": []
  },
  {
   "cell_type": "code",
   "execution_count": null,
   "metadata": {
    "collapsed": true
   },
   "outputs": [],
   "source": []
  }
 ],
 "metadata": {
  "kernelspec": {
   "display_name": "Python 3",
   "language": "python",
   "name": "python3"
  },
  "language_info": {
   "codemirror_mode": {
    "name": "ipython",
    "version": 3
   },
   "file_extension": ".py",
   "mimetype": "text/x-python",
   "name": "python",
   "nbconvert_exporter": "python",
   "pygments_lexer": "ipython3",
   "version": "3.6.1"
  }
 },
 "nbformat": 4,
 "nbformat_minor": 2
}
