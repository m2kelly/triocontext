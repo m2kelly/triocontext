{
 "cells": [
  {
   "cell_type": "markdown",
   "metadata": {},
   "source": [
    "# Synonymous vs non-synonymous internal exon-centered analysis across context models\n",
    "\n",
    "The aim of this notebook is to find the mixed effects of extending the sequence context dependency within the internal exon-analysis by computing the expected under a 12-way spectrum model (1-mer model), 18-way spectrum model (1-mer considering CpG sites), and extended context 3-mer, 5-mer and 7-mer, separating mutation in synonymous and nonsynonymous. This information is used to build Supplementary Tables S4 and S5.\n",
    "\n",
    "## Output\n",
    "\n",
    "The output of the notebook is multiple intermediate files containing numbers of observed and expected mutations and several plots.\n"
   ]
  },
  {
   "cell_type": "code",
   "execution_count": 1,
   "metadata": {
    "collapsed": true
   },
   "outputs": [],
   "source": [
    "%matplotlib inline\n",
    "\n",
    "from os import path\n",
    "import math\n",
    "import pybedtools\n",
    "import tabix  # package pytabix\n",
    "from bgreference import hg19\n",
    "import pandas as pd\n",
    "import matplotlib.pyplot as plt\n",
    "import numpy as np\n",
    "import numpy.polynomial.polynomial as poly\n",
    "import matplotlib.ticker as plticker\n",
    "import gzip, pickle\n",
    "import statistics as st\n",
    "\n",
    "from python_scripts.plot_functions import config_plot_params\n",
    "config_plot_params()"
   ]
  },
  {
   "cell_type": "markdown",
   "metadata": {},
   "source": [
    "## Input files\n",
    "\n",
    "Files in **data** directory.\n",
    "\n",
    "- *middle_exons_coords*: file with the coordinates of the middle exons\n",
    "- *consequence_type_file*: tabix file with the consequence types of exonic mutations\n",
    "- *consequence_ranking_file*: file with information about the ensembl hierarchy in predicted functional consequences\n",
    "\n",
    "Files in **results** directory.\n",
    "\n",
    "- *kmer_signatures.txt*: files with the mutational signatures computed from whole genome mutations all DNMs or dataset specific, given a kmer model.\n",
    "\n",
    "### Other inputs\n",
    "\n",
    "- mutations_folder: base directory where the files with the mutations are located\n",
    "- tumor_type: germinal in our case"
   ]
  },
  {
   "cell_type": "code",
   "execution_count": 2,
   "metadata": {
    "collapsed": true
   },
   "outputs": [],
   "source": [
    "# Path to data\n",
    "middle_exons_coords = 'data/coordinates/genes_middle_exon_coords.bed.gz'\n",
    "consequence_type_file = 'data/consequence/consequence_ranking.tsv.bgz'\n",
    "consequence_ranking_file = 'data/consequence/consequence_ranking_info.tsv'\n",
    "\n",
    "# Other\n",
    "mutations_folder = 'non_provided_data/mutations/'\n",
    "tumor_type = 'germinal'"
   ]
  },
  {
   "cell_type": "markdown",
   "metadata": {},
   "source": [
    "## Functions\n",
    "\n",
    "All the functions needed for this notebook are coded below"
   ]
  },
  {
   "cell_type": "code",
   "execution_count": 3,
   "metadata": {
    "collapsed": true
   },
   "outputs": [],
   "source": [
    "def remove_version_ensembl(x, colname):\n",
    "    \"\"\"\n",
    "    Remove version from the ensembl ID\n",
    "\n",
    "    Args:\n",
    "        x: dataframe row\n",
    "        colname: column name\n",
    "\n",
    "    Returns:\n",
    "        str. Text before a '.'\n",
    "\n",
    "    \"\"\"\n",
    "    ensembl_id = x[colname]\n",
    "    ensembl_id_only = ensembl_id.split('.')[0]\n",
    "\n",
    "    return ensembl_id_only"
   ]
  },
  {
   "cell_type": "code",
   "execution_count": 4,
   "metadata": {
    "collapsed": true
   },
   "outputs": [],
   "source": [
    "def synonymous_or_not(x):\n",
    "    \"\"\"\n",
    "    Classifies consequence types between synonymous and non synonymous\n",
    "    using the RANK column\n",
    "\n",
    "    Args:\n",
    "        x: dataframe row\n",
    "\n",
    "    Returns:\n",
    "        str. *synonymous* or *non_synonymous*\n",
    "\n",
    "    \"\"\"\n",
    "\n",
    "    my_rank = x['RANK']\n",
    "\n",
    "    if my_rank < 15:\n",
    "        my_consequence = 'non_synonymous'\n",
    "\n",
    "    else:\n",
    "        my_consequence = 'synonymous'\n",
    "\n",
    "    return my_consequence"
   ]
  },
  {
   "cell_type": "code",
   "execution_count": 5,
   "metadata": {
    "collapsed": true
   },
   "outputs": [],
   "source": [
    "# This function was made for testing purposes:\n",
    "def check_consequence_TEST(chromosome, start_coord, alt, tabix):\n",
    "    \"\"\"\n",
    "    Function that classifies a given exonic mutation into the VEP classification given\n",
    "    tabix file with predicted effect.\n",
    "\n",
    "    Args:\n",
    "        chromosome: chromosome coordinate\n",
    "        start_coord: coordinate of the mutation\n",
    "        alt: alternative nucleotide\n",
    "        tabix: tabix indexed file containing the information\n",
    "        rank_info: dictionary with all the types of predicted effect and if we classify them as synonymous or not.\n",
    "    Returns:\n",
    "        str. Class of mutation on VEP classification\n",
    "\n",
    "    \"\"\"\n",
    "    \n",
    "    my_chr = chromosome[3:]\n",
    "    effects = tabix.querys(\"{}:{}-{}\".format(my_chr, start_coord, start_coord))\n",
    "    for effect in effects:\n",
    "        if len(effect) < 6:\n",
    "            continue\n",
    "        if effect[3] == alt:\n",
    "            consequence = effect[5].rstrip('\\r')\n",
    "            return(consequence)"
   ]
  },
  {
   "cell_type": "code",
   "execution_count": 6,
   "metadata": {
    "collapsed": true
   },
   "outputs": [],
   "source": [
    "def check_consequence(chromosome, start_coord, alt, tabix, rank_info):\n",
    "    \"\"\"\n",
    "    Function that classifies a given exonic mutation into synonymous \n",
    "    or not given a rank info and a tabix file with predicted effect.\n",
    "\n",
    "    Args:\n",
    "        chromosome: chromosome coordinate\n",
    "        start_coord: coordinate of the mutation\n",
    "        alt: alternative nucleotide\n",
    "        tabix: tabix indexed file containing the predicted VEP classification effect for a given position and change.\n",
    "        rank_info: dictionary with all the types of predicted effect and if we classify them as synonymous or not.\n",
    "    Returns:\n",
    "        str. *synonymous* or *non_synonymous*\n",
    "\n",
    "    \"\"\"\n",
    "    \n",
    "    my_chr = chromosome[3:]\n",
    "    effects = tabix.querys(\"{}:{}-{}\".format(my_chr, start_coord, start_coord))\n",
    "    for effect in effects:\n",
    "        if len(effect) < 6:\n",
    "            continue\n",
    "        if effect[3] == alt:\n",
    "            consequence = effect[5].rstrip('\\r')\n",
    "            try:\n",
    "                con = rank_info[consequence]\n",
    "                return(con)\n",
    "            except:\n",
    "                return('None')"
   ]
  },
  {
   "cell_type": "code",
   "execution_count": 7,
   "metadata": {
    "collapsed": true
   },
   "outputs": [],
   "source": [
    "# This function was made for testing purposes:\n",
    "def countX(lst, x): \n",
    "    count = 0\n",
    "    for ele in lst: \n",
    "        if (ele == x): \n",
    "            count = count + 1\n",
    "    return count"
   ]
  },
  {
   "cell_type": "code",
   "execution_count": 8,
   "metadata": {
    "collapsed": true
   },
   "outputs": [],
   "source": [
    "def remove_muts(mut_data, IDs_list):\n",
    "    \"\"\"\n",
    "    Function that removes mutations from a data frame, only if the mutation matches and ID\n",
    "    and it is enclosed in the exon coordinates of the specific 2001-nt window.\n",
    "\n",
    "    Args:\n",
    "        mut_data: dataframe with columns \"range_chr range_start range_end ensembl region_size\n",
    "                    region_middle_start region_middle_end exon_start exon_end mut_chr mut_start\n",
    "                    mut_end mut_ref mut_alt mut_sample mut_type mut_ID overlap_bp\n",
    "        IDs_list: list of IDs that must be removed\n",
    "    Returns:\n",
    "        pandas data frame with mutations with the ID removed, they sould be removed only once if the IDs are repeated.\n",
    "\n",
    "    \"\"\"\n",
    "    rows_to_remove = []\n",
    "    for ID in IDs_list:\n",
    "        sub_frame = mut_data[mut_data['mut_ID'] == ID]\n",
    "        for index, row in sub_frame.iterrows():\n",
    "            if (row['exon_start'] <= row['mut_end'] and row['exon_end'] >= row['mut_end']):\n",
    "                rows_to_remove.append(index)\n",
    "    return(mut_data.drop(rows_to_remove))"
   ]
  },
  {
   "cell_type": "code",
   "execution_count": 9,
   "metadata": {
    "collapsed": true
   },
   "outputs": [],
   "source": [
    "def compute_intron_probs(sequence, signatures_dict, rel_start, middle_distance_threshold, tumor_type, k):\n",
    "    \"\"\"\n",
    "    Function that computes the summed probabilities of the three posible trinucleotide changes for each trinucleotide\n",
    "    in a given intronic sequence of a middle exon-centered window.\n",
    "    \n",
    "    Args:\n",
    "        sequence: intronic sequence. It should contain one extra nucleotide on each side to compute all the\n",
    "        trinucleotides.\n",
    "        signatures_dict: Dictionary containing probabilities of each trinucleotide change.\n",
    "        rel_start: Relative start of that sequence within the middle exon-centered window.\n",
    "        middle_distance_threshold: middle distance of the exon-centered window.\n",
    "        tumor_type: First type of class to find the specific mutation signature class.\n",
    "        cluster_id: Second type of class to find the specific mutation signature class.\n",
    "      \n",
    "    Returns:\n",
    "        list containing subslists with paired normalized position within the middle exon-centered window and\n",
    "        associated probability.\n",
    "\n",
    "    \"\"\"\n",
    "    \n",
    "    nucleotides = set(['A', 'T', 'C', 'G'])\n",
    "    position_prob = []\n",
    "    \n",
    "    ## Divide sequences into kmers\n",
    "    my_kmers = [sequence[i:i+k] for i in range(len(sequence)-(k-1))]\n",
    "    \n",
    "    ## Foreach kmer\n",
    "    for my_kmer in my_kmers:\n",
    "        my_ref_base = my_kmer[(k//2):(k//2)+1].upper() #Get the reference\n",
    "        my_alt_bases = nucleotides - set(my_ref_base) #The rest are alternative ones\n",
    "        my_base_probs = 0\n",
    "        previous_base = my_kmer[0:(k//2)] #Get previous and next base\n",
    "        next_base = my_kmer[(k//2)+1:]\n",
    "            \n",
    "        ### Foreach alternative, each of the three possible changes given a kmer.\n",
    "        for alt_base in my_alt_bases:\n",
    "            #### Built reference and alternate kmers\n",
    "            tri_ref = previous_base + str(my_ref_base) + next_base\n",
    "            tri_alt = previous_base + str(alt_base) + next_base\n",
    "            #### Create key for the signature dictionary\n",
    "            my_key = str((tri_ref, tri_alt))\n",
    "            try:\n",
    "                ##### Add the probability of the three possible changes\n",
    "                my_prob = signatures_dict[my_key]['Probability_' + tumor_type]\n",
    "                my_base_probs = my_base_probs + my_prob\n",
    "            except:\n",
    "                None\n",
    "                \n",
    "        ### Add the position in the 2001-nt window with the correspondent probability to a list\n",
    "        normalized_pos = rel_start - middle_distance_threshold\n",
    "        my_row = [normalized_pos, my_base_probs]\n",
    "        position_prob.append(my_row)\n",
    "        rel_start += 1\n",
    "        \n",
    "    return(position_prob)"
   ]
  },
  {
   "cell_type": "code",
   "execution_count": 10,
   "metadata": {
    "collapsed": true
   },
   "outputs": [],
   "source": [
    "def compute_exon_probs(chromosome, abs_start, sequence, signatures_dict, rel_start, middle_distance_threshold,\n",
    "                       tumor_type, rank_info, tabix, include, k):\n",
    "    \"\"\"\n",
    "    Function that computes the summed probabilities of the three posible trinucleotide changes for each trinucleotide\n",
    "    in a given exonic sequence of a middle exon-centered window.\n",
    "    \n",
    "    Args:\n",
    "        chromosome: chromosome where the sequence is located in hg19 genome.\n",
    "        abs_start: absolute start of the exonic sequence in hg19 coordinates.\n",
    "        sequence: exonic sequence. It should contain one extra nucleotide on each side to compute all the trinucleotides.\n",
    "        signatures_dict: Dictionary containing probabilities of each trinucleotide change.\n",
    "        rel_start: Relative start of that sequence within the middle exon-centered window.\n",
    "        middle_distance_threshold: middle distance of the exon-centered window.\n",
    "        tumor_type: First type of class to find the specific mutation signature class.\n",
    "        cluster_id: Second type of class to find the specific mutation signature class.\n",
    "        rank_info: dictionary containing the rank classification (syn or non-syn) of an specific VEP class.\n",
    "        tabix: tabix indexed file containing the predicted VEP classification effect for a given position and change.\n",
    "        inlcude(str): *synonymous* or *non_syonymous* . Which type od change consider to add probabilities.\n",
    "      \n",
    "    Returns:\n",
    "        list containing subslists with paired normalized position within the middle exon-centered window and associated\n",
    "        probability.\n",
    "\n",
    "    \"\"\"\n",
    "    \n",
    "    position_prob = []\n",
    "    my_chr = chromosome[3:]\n",
    "    \n",
    "    ## Divide sequences into kmers\n",
    "    my_kmers = [sequence[i:i+k] for i in range(len(sequence)-(k-1))]\n",
    "    \n",
    "    ## Foreach kmer\n",
    "    for my_kmer in my_kmers:\n",
    "        my_ref_base = my_kmer[(k//2):(k//2)+1].upper() #Get the reference\n",
    "        my_base_probs = 0\n",
    "        #Get previous and next base\n",
    "        previous_base = my_kmer[0:(k//2)] #Get previous and next base\n",
    "        next_base = my_kmer[(k//2)+1:]\n",
    "        effects = tabix.querys(\"{}:{}-{}\".format(my_chr, abs_start + 1, abs_start + 1))\n",
    "        for effect in effects:\n",
    "            if len(effect) < 6:\n",
    "                print('At chromosome ' + str(my_chr) + ' position ' + str(abs_start + 1) + ' no effect is reported.')\n",
    "                continue\n",
    "            consequence = effect[5].rstrip('\\r')\n",
    "            try:\n",
    "                synonymous_or_not = rank_info[consequence]\n",
    "                if synonymous_or_not == include:\n",
    "                    #Built reference and alternative trinucleotide\n",
    "                    tri_ref = previous_base + str(my_ref_base) + next_base\n",
    "                    tri_alt = previous_base + str(effect[3]) + next_base\n",
    "                    #Create key for the signatue dictionary.\n",
    "                    my_key = str((tri_ref, tri_alt))\n",
    "                    try:\n",
    "                        #Get the probability\n",
    "                        my_prob = signatures_dict[my_key]['Probability_' + tumor_type]\n",
    "                        #Sum the probability of the three possible changes.\n",
    "                        my_base_probs = my_base_probs + my_prob\n",
    "                    except:\n",
    "                        None\n",
    "            except:\n",
    "                None\n",
    "                \n",
    "        ### Add the position in the 2001-nt window with the correspondent probability in a list\n",
    "        normalized_pos = rel_start - middle_distance_threshold\n",
    "        my_row = [normalized_pos, my_base_probs]\n",
    "        position_prob.append(my_row)\n",
    "        abs_start += 1\n",
    "        rel_start += 1\n",
    "    \n",
    "    return(position_prob)"
   ]
  },
  {
   "cell_type": "code",
   "execution_count": 11,
   "metadata": {
    "collapsed": true
   },
   "outputs": [],
   "source": [
    "def obs_exp_muts_excluding_kmer(mutations_df, exons_coords_df, signatures_file, tumor_type, middle_distance_threshold,\n",
    "                           k, include, tb_consequence_type, consequence_rank_dict):\n",
    "    \"\"\"\n",
    "    Get positions of the exons that correspond to the central position and a number of base pair\n",
    "    equal to middle_distance_threshold on each side. Compute the number of mutations per position under analysis.\n",
    "    For each of the relative positions, compute the sum of the probabilities of each possible alteration\n",
    "    taking into account its context (using the values of the signatures_file) wheighted by the number of observed \n",
    "    mutations (MODIFIED FROM FRIGOLA ET AL.).\n",
    "    You can exclude synonymous or non-synonymous mutations by specifying it.\n",
    "    \n",
    "    Args:\n",
    "        mutations_df:\n",
    "        exons_coords_symbol_df:\n",
    "        signatures_dict:\n",
    "        tumor_type:\n",
    "        cluster_id: \n",
    "        middle_distance_threshold:\n",
    "        include:\n",
    "        tb_consequence_type:\n",
    "        consequence_rank_dict: \n",
    "\n",
    "    Returns:\n",
    "        :class:`~pandas.DataFrame`. Table with the relative position (to the exon center)\n",
    "        the number of mutations observed and expected in that position.\n",
    "\n",
    "    \"\"\"\n",
    "    exons_coords_symbol_df = exons_coords_df.copy(deep=True)\n",
    "    \n",
    "    # Get signatures\n",
    "    all_signatures = pd.read_csv(signatures_file, sep='\\t')\n",
    "    probability_name = 'Probability_' + tumor_type\n",
    "    sub_signatures_df = all_signatures[['mutation', probability_name]]\n",
    "    signatures_dict = sub_signatures_df.set_index('mutation').T.to_dict()\n",
    "    \n",
    "    # Convert mutations into bed to intersect values\n",
    "    mutations_bed = pybedtools.BedTool.from_dataframe(mutations_df)\n",
    "    \n",
    "    # Convert exonic coordinates into bed to intersect values\n",
    "    exons_coords_symbol_df = exons_coords_symbol_df[['chr', 'start', 'end', 'ensembl']]\n",
    "    exon_coords_bed = pybedtools.BedTool.from_dataframe(exons_coords_symbol_df)\n",
    "\n",
    "    # Process exonic coordinates to get the 2001-nt region coords and convert into bed\n",
    "    ## Positions that correspond to the center of the exons\n",
    "    exons_coords_symbol_df['exon_size'] = (exons_coords_symbol_df['end'] - exons_coords_symbol_df['start'])\n",
    "    exons_coords_symbol_df['exon_middle_start'] = (exons_coords_symbol_df['start'] + exons_coords_symbol_df['exon_size']/2)\n",
    "    exons_coords_symbol_df['exon_middle_start'] = exons_coords_symbol_df.apply(lambda x:\n",
    "                                                                       math.floor(x['exon_middle_start']), axis=1)\n",
    "    \n",
    "    ## Positions around the middle point\n",
    "    exons_coords_symbol_df['exon_middle_end'] = exons_coords_symbol_df['exon_middle_start'] + 1\n",
    "    exons_coords_symbol_df['region_start'] = exons_coords_symbol_df['exon_middle_start'] - middle_distance_threshold\n",
    "    exons_coords_symbol_df['region_end'] = exons_coords_symbol_df['exon_middle_end'] + middle_distance_threshold\n",
    "    region_coords = exons_coords_symbol_df[['chr', 'region_start', 'region_end', 'ensembl',\n",
    "                                          'exon_size', 'exon_middle_start', 'exon_middle_end', 'start', 'end']]\n",
    "    region_coords_bed = pybedtools.BedTool.from_dataframe(region_coords)\n",
    "\n",
    "    # Filter mutations by the full region of interest\n",
    "    my_bed = region_coords_bed.intersect(mutations_bed, wao=True)\n",
    "\n",
    "    mutations_in_range = pd.read_table(my_bed.fn, names = ['range_chr', 'range_start', 'range_end',\n",
    "                        'ensembl','region_size', 'region_middle_start', 'region_middle_end',\n",
    "                        'exon_start', 'exon_end', 'mut_chr', 'mut_start', 'mut_end', 'mut_ref', 'mut_alt',\n",
    "                        'mut_sample', 'mut_type', 'mut_ID', 'overlap_bp'],  sep=\"\\s+\", index_col=False)\n",
    "    mutations_in_range = mutations_in_range[mutations_in_range['overlap_bp'] != 0]\n",
    "    print(\"The total amount of mutations at the middle exon-centered sequences is \" + str(len(mutations_in_range.index)))\n",
    "\n",
    "    # Filter mutations by the exonic regions\n",
    "    my_bed2 = exon_coords_bed.intersect(mutations_bed, wao=True)\n",
    "    mutations_in_range2 = pd.read_table(my_bed2.fn, names = ['exon_chr', 'exon_start', 'exon_end',\n",
    "                        'ensembl', 'mut_chr', 'mut_start', 'mut_end', 'mut_ref', 'mut_alt',\n",
    "                        'mut_sample', 'mut_type', 'mut_ID', 'overlap_bp'],  sep=\"\\s+\", index_col=False)\n",
    "    mutations_in_range2 = mutations_in_range2[mutations_in_range2['overlap_bp'] != 0]\n",
    "    mutations_in_range2 = mutations_in_range2[['mut_chr', 'mut_start', 'mut_end', 'mut_ref', \n",
    "                        'mut_alt', 'mut_sample', 'mut_type', 'mut_ID']]\n",
    "    mutations_in_range2.columns = ['chr', 'start', 'end', 'ref', 'alt', 'sample', 'type', 'ID']\n",
    "    print(\"The total amount of mutations at the exonic sequences are \" + str(len(mutations_in_range2.index)))\n",
    "\n",
    "    #Find the amount of mutations that fall in each VEP category (TESTING PURPOSES)\n",
    "\n",
    "    mutations_in_range2['category'] = mutations_in_range2.apply(lambda x: \n",
    "                           check_consequence_TEST(x['chr'], x['end'], x['alt'], tb_consequence_type),\n",
    "                           axis=1)\n",
    "    all_elements = mutations_in_range2['category'].tolist()\n",
    "    unique_elements = set(all_elements)\n",
    "    for n in unique_elements:\n",
    "        count = countX(all_elements, n)\n",
    "        print (\"The category \" + str(n) + \" is found \" + str(count) + \" times.\")\n",
    "\n",
    "    # Find if mutations at exonic regions are synonymous or not.\n",
    "    mutations_in_range2['conseq'] = mutations_in_range2.apply(lambda x: \n",
    "                       check_consequence(x['chr'], x['end'], x['alt'], tb_consequence_type, consequence_rank_dict),\n",
    "                       axis=1)\n",
    "    \n",
    "    # Check the number of mutations that were not classified (they would not be included,\n",
    "    # but is important to know the amount of drops):\n",
    "\n",
    "    #mutations_in_range2[(mutations_in_range2['conseq'] != 'synonymous')\n",
    "    #& (mutations_in_range2['conseq'] != 'non_synonymous')]\n",
    "\n",
    "    # Find the amount of mutations that fall in both synonymous and non-synonymous categories.\n",
    "    # Additionally, check the number of mutations that were not classified (they would not be included,\n",
    "    # but is important to know the amount of drops):\n",
    "    #all_elements = mutations_in_range2['conseq'].tolist()\n",
    "    #unique_elements = set(all_elements)\n",
    "    #for n in unique_elements:\n",
    "    #    count = countX(all_elements, n)\n",
    "    #    print (\"The category \" + str(n) + \" is found \" + str(count) + \" times.\")\n",
    "\n",
    "\n",
    "    # Get the index of exonic non synonymous mutations and mutations without category \n",
    "    # to remove them from the mutation dataset at the 2001-nt sequences\n",
    "    muts_to_drop = mutations_in_range2[mutations_in_range2['conseq'] != include]\n",
    "    IDs_to_drop = muts_to_drop['ID'].tolist()\n",
    "    mutations_in_range = remove_muts(mutations_in_range, IDs_to_drop)\n",
    "\n",
    "    # Count observed mutations\n",
    "    ## Create a dictionary of all observed positions at the range of the middle exon-centered window\n",
    "    mutations_in_range['relative_start'] = mutations_in_range['mut_start'] - mutations_in_range['region_middle_start']\n",
    "    exon_counts = mutations_in_range['relative_start'].value_counts().to_dict()\n",
    "\n",
    "    ## Set count to 0 were no mutation has been found\n",
    "    for i in range(-middle_distance_threshold,middle_distance_threshold):\n",
    "        if i not in exon_counts.keys():\n",
    "            exon_counts[i] = 0\n",
    "    \n",
    "    ## Count mutations for every position with reported counts\n",
    "    my_exon_results_lol = list()\n",
    "    for my_position in exon_counts.keys():\n",
    "        my_count = exon_counts[my_position]\n",
    "        my_exon_results_lol.append([my_position, my_count])\n",
    "\n",
    "    my_exon_results_df = pd.DataFrame(my_exon_results_lol)\n",
    "    my_exon_results_df.columns = ['position', 'muts_count']\n",
    "    my_exon_results_df = my_exon_results_df.sort_values(by='position')\n",
    "\n",
    "    # Compute expected mutations\n",
    "    ## For each exonic region under analysis get its relative position to the center of the exon\n",
    "    ## and add the probability that is the sum of the probabilities of the changes\n",
    "    final_position_prob_df = pd.DataFrame()\n",
    "    for my_row in region_coords.values.tolist(): ###For each middle exon-centered sequence:\n",
    "        position_prob_lol = list()\n",
    "        \n",
    "        ## Get coordinates\n",
    "        my_chr = my_row[0]\n",
    "        my_start = int(my_row[1])\n",
    "        my_start_exon = int(my_row[7])\n",
    "        my_end = int(my_row[2])\n",
    "        my_end_exon = int(my_row[8])\n",
    "        my_exon_size = int(my_row[4])\n",
    "        n_bases_fullregion = my_end - my_start\n",
    "        n_bases_first_flank = my_start_exon - my_start\n",
    "        n_bases_second_flank = my_end - my_end_exon\n",
    "        \n",
    "        ## Delimit mutations in the range of that specific middle exon-centered sequence\n",
    "        my_region_muts = len(mutations_in_range[(mutations_in_range['range_start'] >= my_start) &\n",
    "                               (mutations_in_range['range_end'] <= my_end) &\n",
    "                               (mutations_in_range['range_chr'] == my_chr)])\n",
    "        \n",
    "        ## If no mutations are reported for that specific middle exon-centered sequence, skip to the next one.\n",
    "        if my_region_muts == 0:\n",
    "            continue\n",
    "        ## If mutations are reported, get the exonic sequence and the two intronic flanking sequences:\n",
    "        if my_start_exon <= my_start:\n",
    "            my_exon_region = hg19(my_chr, my_start+1-(k//2), size=n_bases_fullregion+2*(k//2))\n",
    "            position_prob_lol = compute_exon_probs(my_chr, my_start, my_exon_region, signatures_dict, 0,\n",
    "                                    middle_distance_threshold, tumor_type, consequence_rank_dict,\n",
    "                                    tb_consequence_type, include, k)\n",
    "\n",
    "        else:\n",
    "            first_flank_region = hg19(my_chr, my_start+1-(k//2), size=n_bases_first_flank+2*(k//2))\n",
    "            first_flank_region_list = compute_intron_probs(first_flank_region, signatures_dict, 0, \n",
    "                                    middle_distance_threshold, tumor_type, k)\n",
    "            \n",
    "            second_flank_region = hg19(my_chr, my_end_exon+1-(k//2), size=n_bases_second_flank+2*(k//2))\n",
    "            second_flank_region_list = compute_intron_probs(second_flank_region, signatures_dict,\n",
    "                                    n_bases_first_flank + my_exon_size, middle_distance_threshold, tumor_type, k)\n",
    "            \n",
    "            my_exon_region = hg19(my_chr, my_start_exon+1-(k//2), size=my_exon_size+2*(k//2))\n",
    "            exon_region_list = compute_exon_probs(my_chr, my_start_exon, my_exon_region, signatures_dict,\n",
    "                                    n_bases_first_flank, middle_distance_threshold, tumor_type, consequence_rank_dict,\n",
    "                                    tb_consequence_type, include, k)\n",
    "            \n",
    "            position_prob_lol = first_flank_region_list + exon_region_list + second_flank_region_list\n",
    "    \n",
    "        ## Convert the list to a dataframe\n",
    "        position_prob_df = pd.DataFrame(position_prob_lol)\n",
    "        position_prob_df.columns = ['position', 'probability']\n",
    "        \n",
    "        ## Reescaling probabilities to one\n",
    "        my_total = sum(position_prob_df['probability'])\n",
    "        position_prob_df['probability'] = position_prob_df['probability']/my_total\n",
    "        \n",
    "        ## Compute the expected by redistributing mutations acoording to probabilities\n",
    "        position_prob_df['expected_muts'] = position_prob_df['probability']*my_region_muts\n",
    "        position_prob_df = position_prob_df[['position', 'expected_muts']]\n",
    "        \n",
    "        # Sum the expected results\n",
    "        if len(final_position_prob_df) == 0:\n",
    "            final_position_prob_df = position_prob_df\n",
    "        else:\n",
    "            final_position_prob_df['expected_muts'] = (final_position_prob_df['expected_muts'] +\n",
    "                                                       position_prob_df['expected_muts'])\n",
    "\n",
    "\n",
    "    return pd.merge(my_exon_results_df, final_position_prob_df, on='position')"
   ]
  },
  {
   "cell_type": "code",
   "execution_count": 12,
   "metadata": {
    "collapsed": true
   },
   "outputs": [],
   "source": [
    "def compute_CpG_site(my_ref, my_pre, my_post):\n",
    "    \"\"\"\n",
    "    Compute if mutation falls on CpG site\n",
    "    \"\"\"\n",
    "    if my_ref == 'C' and my_post == 'G':\n",
    "        my_site = 'CpG'\n",
    "    elif my_ref == 'G' and my_pre == 'C':\n",
    "        my_site = 'GpC'\n",
    "    elif my_ref == 'C' and my_post != 'G':\n",
    "        my_site = 'nonCpG'\n",
    "    elif my_ref == 'G' and my_pre != 'C':\n",
    "        my_site = 'nonGpC'\n",
    "    elif my_ref == 'A':\n",
    "        my_site = 'A'\n",
    "    elif my_ref == 'T':\n",
    "        my_site = 'T'\n",
    "    return my_site"
   ]
  },
  {
   "cell_type": "code",
   "execution_count": 13,
   "metadata": {
    "collapsed": true
   },
   "outputs": [],
   "source": [
    "def compute_intron_probs_CpG(sequence, signatures_dict, rel_start, middle_distance_threshold, tumor_type, k):\n",
    "    \"\"\"\n",
    "    Function that computes the summed probabilities of the three posible trinucleotide changes for each trinucleotide\n",
    "    in a given intronic sequence of a middle exon-centered window.\n",
    "    \n",
    "    Args:\n",
    "        sequence: intronic sequence. It should contain one extra nucleotide on each side to compute all the\n",
    "        trinucleotides.\n",
    "        signatures_dict: Dictionary containing probabilities of each trinucleotide change.\n",
    "        rel_start: Relative start of that sequence within the middle exon-centered window.\n",
    "        middle_distance_threshold: middle distance of the exon-centered window.\n",
    "        tumor_type: First type of class to find the specific mutation signature class.\n",
    "        cluster_id: Second type of class to find the specific mutation signature class.\n",
    "      \n",
    "    Returns:\n",
    "        list containing subslists with paired normalized position within the middle exon-centered window and\n",
    "        associated probability.\n",
    "\n",
    "    \"\"\"\n",
    "    \n",
    "    nucleotides = set(['A', 'T', 'C', 'G'])\n",
    "    position_prob = []\n",
    "    \n",
    "    ## Divide sequences into kmers\n",
    "    my_kmers = [sequence[i:i+k] for i in range(len(sequence)-(k-1))]\n",
    "    \n",
    "    ## Foreach kmer\n",
    "    for my_kmer in my_kmers:\n",
    "        my_ref_base = my_kmer[(k//2):(k//2)+1].upper() #Get the reference\n",
    "        my_alt_bases = nucleotides - set(my_ref_base) #The rest are alternative ones\n",
    "        my_base_probs = 0\n",
    "        previous_base = my_kmer[0:(k//2)] #Get previous and next base\n",
    "        next_base = my_kmer[(k//2)+1:]\n",
    "        tri_ref = compute_CpG_site(my_ref_base, previous_base, next_base)\n",
    "            \n",
    "        ### Foreach alternative, each of the three possible changes given a kmer.\n",
    "        for alt_base in my_alt_bases:\n",
    "            #### Built reference and alternate kmers\n",
    "            tri_alt = alt_base\n",
    "            #### Create key for the signature dictionary\n",
    "            my_key = str((tri_ref, tri_alt))\n",
    "            try:\n",
    "                ##### Add the probability of the three possible changes\n",
    "                my_prob = signatures_dict[my_key]['Probability_' + tumor_type]\n",
    "                my_base_probs = my_base_probs + my_prob\n",
    "            except:\n",
    "                None\n",
    "                \n",
    "        ### Add the position in the 2001-nt window with the correspondent probability to a list\n",
    "        normalized_pos = rel_start - middle_distance_threshold\n",
    "        my_row = [normalized_pos, my_base_probs]\n",
    "        position_prob.append(my_row)\n",
    "        rel_start += 1\n",
    "        \n",
    "    return(position_prob)"
   ]
  },
  {
   "cell_type": "code",
   "execution_count": 14,
   "metadata": {
    "collapsed": true
   },
   "outputs": [],
   "source": [
    "def compute_exon_probs_CpG(chromosome, abs_start, sequence, signatures_dict, rel_start, middle_distance_threshold,\n",
    "                       tumor_type, rank_info, tabix, include, k):\n",
    "    \"\"\"\n",
    "    Function that computes the summed probabilities of the three posible trinucleotide changes for each trinucleotide\n",
    "    in a given exonic sequence of a middle exon-centered window.\n",
    "    \n",
    "    Args:\n",
    "        chromosome: chromosome where the sequence is located in hg19 genome.\n",
    "        abs_start: absolute start of the exonic sequence in hg19 coordinates.\n",
    "        sequence: exonic sequence. It should contain one extra nucleotide on each side to compute all the trinucleotides.\n",
    "        signatures_dict: Dictionary containing probabilities of each trinucleotide change.\n",
    "        rel_start: Relative start of that sequence within the middle exon-centered window.\n",
    "        middle_distance_threshold: middle distance of the exon-centered window.\n",
    "        tumor_type: First type of class to find the specific mutation signature class.\n",
    "        cluster_id: Second type of class to find the specific mutation signature class.\n",
    "        rank_info: dictionary containing the rank classification (syn or non-syn) of an specific VEP class.\n",
    "        tabix: tabix indexed file containing the predicted VEP classification effect for a given position and change.\n",
    "        inlcude(str): *synonymous* or *non_syonymous* . Which type od change consider to add probabilities.\n",
    "      \n",
    "    Returns:\n",
    "        list containing subslists with paired normalized position within the middle exon-centered window and associated\n",
    "        probability.\n",
    "\n",
    "    \"\"\"\n",
    "    \n",
    "    position_prob = []\n",
    "    my_chr = chromosome[3:]\n",
    "    \n",
    "    ## Divide sequences into kmers\n",
    "    my_kmers = [sequence[i:i+k] for i in range(len(sequence)-(k-1))]\n",
    "    \n",
    "    ## Foreach kmer\n",
    "    for my_kmer in my_kmers:\n",
    "        my_ref_base = my_kmer[(k//2):(k//2)+1].upper() #Get the reference\n",
    "        my_base_probs = 0\n",
    "        #Get previous and next base\n",
    "        previous_base = my_kmer[0:(k//2)] #Get previous and next base\n",
    "        next_base = my_kmer[(k//2)+1:]\n",
    "        tri_ref = compute_CpG_site(my_ref_base, previous_base, next_base)\n",
    "        effects = tabix.querys(\"{}:{}-{}\".format(my_chr, abs_start + 1, abs_start + 1))\n",
    "        for effect in effects:\n",
    "            if len(effect) < 6:\n",
    "                print('At chromosome ' + str(my_chr) + ' position ' + str(abs_start + 1) + ' no effect is reported.')\n",
    "                continue\n",
    "            consequence = effect[5].rstrip('\\r')\n",
    "            try:\n",
    "                synonymous_or_not = rank_info[consequence]\n",
    "                if synonymous_or_not == include:\n",
    "                    #Built reference and alternative trinucleotide\n",
    "                    tri_alt = str(effect[3])\n",
    "                    #Create key for the signatue dictionary.\n",
    "                    my_key = str((tri_ref, tri_alt))\n",
    "                    try:\n",
    "                        #Get the probability\n",
    "                        my_prob = signatures_dict[my_key]['Probability_' + tumor_type]\n",
    "                        #Sum the probability of the three possible changes.\n",
    "                        my_base_probs = my_base_probs + my_prob\n",
    "                    except:\n",
    "                        None\n",
    "            except:\n",
    "                None\n",
    "                \n",
    "        ### Add the position in the 2001-nt window with the correspondent probability in a list\n",
    "        normalized_pos = rel_start - middle_distance_threshold\n",
    "        my_row = [normalized_pos, my_base_probs]\n",
    "        position_prob.append(my_row)\n",
    "        abs_start += 1\n",
    "        rel_start += 1\n",
    "    \n",
    "    return(position_prob)"
   ]
  },
  {
   "cell_type": "code",
   "execution_count": 15,
   "metadata": {
    "collapsed": true
   },
   "outputs": [],
   "source": [
    "def obs_exp_muts_excluding_CpG(mutations_df, exons_coords_df, signatures_file, tumor_type, middle_distance_threshold,\n",
    "                           k, include, tb_consequence_type, consequence_rank_dict):\n",
    "    \"\"\"\n",
    "    Get positions of the exons that correspond to the central position and a number of base pair\n",
    "    equal to middle_distance_threshold on each side. Compute the number of mutations per position under analysis.\n",
    "    For each of the relative positions, compute the sum of the probabilities of each possible alteration\n",
    "    taking into account its context (using the values of the signatures_file) wheighted by the number of observed \n",
    "    mutations (MODIFIED FROM FRIGOLA ET AL.).\n",
    "    You can exclude synonymous or non-synonymous mutations by specifying it.\n",
    "    \n",
    "    Args:\n",
    "        mutations_df:\n",
    "        exons_coords_symbol_df:\n",
    "        signatures_dict:\n",
    "        tumor_type:\n",
    "        cluster_id: \n",
    "        middle_distance_threshold:\n",
    "        include:\n",
    "        tb_consequence_type:\n",
    "        consequence_rank_dict: \n",
    "\n",
    "    Returns:\n",
    "        :class:`~pandas.DataFrame`. Table with the relative position (to the exon center)\n",
    "        the number of mutations observed and expected in that position.\n",
    "\n",
    "    \"\"\"\n",
    "    exons_coords_symbol_df = exons_coords_df.copy(deep=True)\n",
    "    \n",
    "    # Get signatures\n",
    "    all_signatures = pd.read_csv(signatures_file, sep='\\t')\n",
    "    probability_name = 'Probability_' + tumor_type\n",
    "    sub_signatures_df = all_signatures[['mutation', probability_name]]\n",
    "    signatures_dict = sub_signatures_df.set_index('mutation').T.to_dict()\n",
    "    \n",
    "    # Convert mutations into bed to intersect values\n",
    "    mutations_bed = pybedtools.BedTool.from_dataframe(mutations_df)\n",
    "\n",
    "    # Convert exonic coordinates into bed to intersect values\n",
    "    exons_coords_symbol_df = exons_coords_symbol_df[['chr', 'start', 'end', 'ensembl']]\n",
    "    exon_coords_bed = pybedtools.BedTool.from_dataframe(exons_coords_symbol_df)\n",
    "\n",
    "    # Process exonic coordinates to get the 2001-nt region coords and convert into bed\n",
    "    ## Positions that correspond to the center of the exons\n",
    "    exons_coords_symbol_df['exon_size'] = (exons_coords_symbol_df['end'] - exons_coords_symbol_df['start'])\n",
    "    exons_coords_symbol_df['exon_middle_start'] = (exons_coords_symbol_df['start'] + exons_coords_symbol_df['exon_size']/2)\n",
    "    exons_coords_symbol_df['exon_middle_start'] = exons_coords_symbol_df.apply(lambda x:\n",
    "                                                                       math.floor(x['exon_middle_start']), axis=1)\n",
    "    \n",
    "    ## Positions around the middle point\n",
    "    exons_coords_symbol_df['exon_middle_end'] = exons_coords_symbol_df['exon_middle_start'] + 1\n",
    "    exons_coords_symbol_df['region_start'] = exons_coords_symbol_df['exon_middle_start'] - middle_distance_threshold\n",
    "    exons_coords_symbol_df['region_end'] = exons_coords_symbol_df['exon_middle_end'] + middle_distance_threshold\n",
    "    region_coords = exons_coords_symbol_df[['chr', 'region_start', 'region_end', 'ensembl',\n",
    "                                          'exon_size', 'exon_middle_start', 'exon_middle_end', 'start', 'end']]\n",
    "    region_coords_bed = pybedtools.BedTool.from_dataframe(region_coords)\n",
    "\n",
    "    # Filter mutations by the full region of interest\n",
    "    my_bed = region_coords_bed.intersect(mutations_bed, wao=True)\n",
    "\n",
    "    mutations_in_range = pd.read_table(my_bed.fn, names = ['range_chr', 'range_start', 'range_end',\n",
    "                        'ensembl','region_size', 'region_middle_start', 'region_middle_end',\n",
    "                        'exon_start', 'exon_end', 'mut_chr', 'mut_start', 'mut_end', 'mut_ref', 'mut_alt',\n",
    "                        'mut_sample', 'mut_type', 'mut_ID', 'overlap_bp'],  sep=\"\\s+\", index_col=False)\n",
    "    mutations_in_range = mutations_in_range[mutations_in_range['overlap_bp'] != 0]\n",
    "    print(\"The total amount of mutations at the middle exon-centered sequences is \" + str(len(mutations_in_range.index)))\n",
    "\n",
    "    # Filter mutations by the exonic regions\n",
    "    my_bed2 = exon_coords_bed.intersect(mutations_bed, wao=True)\n",
    "    mutations_in_range2 = pd.read_table(my_bed2.fn, names = ['exon_chr', 'exon_start', 'exon_end',\n",
    "                        'ensembl', 'mut_chr', 'mut_start', 'mut_end', 'mut_ref', 'mut_alt',\n",
    "                        'mut_sample', 'mut_type', 'mut_ID', 'overlap_bp'],  sep=\"\\s+\", index_col=False)\n",
    "    mutations_in_range2 = mutations_in_range2[mutations_in_range2['overlap_bp'] != 0]\n",
    "    mutations_in_range2 = mutations_in_range2[['mut_chr', 'mut_start', 'mut_end', 'mut_ref', \n",
    "                        'mut_alt', 'mut_sample', 'mut_type', 'mut_ID']]\n",
    "    mutations_in_range2.columns = ['chr', 'start', 'end', 'ref', 'alt', 'sample', 'type', 'ID']\n",
    "    print(\"The total amount of mutations at the exonic sequences are \" + str(len(mutations_in_range2.index)))\n",
    "\n",
    "    #Find the amount of mutations that fall in each VEP category (TESTING PURPOSES)\n",
    "\n",
    "    mutations_in_range2['category'] = mutations_in_range2.apply(lambda x: \n",
    "                           check_consequence_TEST(x['chr'], x['end'], x['alt'], tb_consequence_type),\n",
    "                           axis=1)\n",
    "    all_elements = mutations_in_range2['category'].tolist()\n",
    "    unique_elements = set(all_elements)\n",
    "    for n in unique_elements:\n",
    "        count = countX(all_elements, n)\n",
    "        print (\"The category \" + str(n) + \" is found \" + str(count) + \" times.\")\n",
    "\n",
    "    # Find if mutations at exonic regions are synonymous or not.\n",
    "    mutations_in_range2['conseq'] = mutations_in_range2.apply(lambda x: \n",
    "                       check_consequence(x['chr'], x['end'], x['alt'], tb_consequence_type, consequence_rank_dict),\n",
    "                       axis=1)\n",
    "    \n",
    "    # Check the number of mutations that were not classified (they would not be included,\n",
    "    # but is important to know the amount of drops):\n",
    "\n",
    "    #mutations_in_range2[(mutations_in_range2['conseq'] != 'synonymous')\n",
    "    #& (mutations_in_range2['conseq'] != 'non_synonymous')]\n",
    "\n",
    "    # Find the amount of mutations that fall in both synonymous and non-synonymous categories.\n",
    "    # Additionally, check the number of mutations that were not classified (they would not be included,\n",
    "    # but is important to know the amount of drops):\n",
    "    #all_elements = mutations_in_range2['conseq'].tolist()\n",
    "    #unique_elements = set(all_elements)\n",
    "    #for n in unique_elements:\n",
    "    #    count = countX(all_elements, n)\n",
    "    #    print (\"The category \" + str(n) + \" is found \" + str(count) + \" times.\")\n",
    "\n",
    "\n",
    "    # Get the index of exonic non synonymous mutations and mutations without category \n",
    "    # to remove them from the mutation dataset at the 2001-nt sequences\n",
    "    muts_to_drop = mutations_in_range2[mutations_in_range2['conseq'] != include]\n",
    "    IDs_to_drop = muts_to_drop['ID'].tolist()\n",
    "    mutations_in_range = remove_muts(mutations_in_range, IDs_to_drop)\n",
    "\n",
    "    # Count observed mutations\n",
    "    ## Create a dictionary of all observed positions at the range of the middle exon-centered window\n",
    "    mutations_in_range['relative_start'] = mutations_in_range['mut_start'] - mutations_in_range['region_middle_start']\n",
    "    exon_counts = mutations_in_range['relative_start'].value_counts().to_dict()\n",
    "\n",
    "    ## Set count to 0 were no mutation has been found\n",
    "    for i in range(-middle_distance_threshold,middle_distance_threshold):\n",
    "        if i not in exon_counts.keys():\n",
    "            exon_counts[i] = 0\n",
    "    \n",
    "    ## Count mutations for every position with reported counts\n",
    "    my_exon_results_lol = list()\n",
    "    for my_position in exon_counts.keys():\n",
    "        my_count = exon_counts[my_position]\n",
    "        my_exon_results_lol.append([my_position, my_count])\n",
    "\n",
    "    my_exon_results_df = pd.DataFrame(my_exon_results_lol)\n",
    "    my_exon_results_df.columns = ['position', 'muts_count']\n",
    "    my_exon_results_df = my_exon_results_df.sort_values(by='position')\n",
    "\n",
    "    # Compute expected mutations\n",
    "    ## For each exonic region under analysis get its relative position to the center of the exon\n",
    "    ## and add the probability that is the sum of the probabilities of the changes\n",
    "    final_position_prob_df = pd.DataFrame()\n",
    "    for my_row in region_coords.values.tolist(): ###For each middle exon-centered sequence:\n",
    "        position_prob_lol = list()\n",
    "        \n",
    "        ## Get coordinates\n",
    "        my_chr = my_row[0]\n",
    "        my_start = int(my_row[1])\n",
    "        my_start_exon = int(my_row[7])\n",
    "        my_end = int(my_row[2])\n",
    "        my_end_exon = int(my_row[8])\n",
    "        my_exon_size = int(my_row[4])\n",
    "        n_bases_fullregion = my_end - my_start\n",
    "        n_bases_first_flank = my_start_exon - my_start\n",
    "        n_bases_second_flank = my_end - my_end_exon\n",
    "        \n",
    "        ## Delimit mutations in the range of that specific middle exon-centered sequence\n",
    "        my_region_muts = len(mutations_in_range[(mutations_in_range['range_start'] >= my_start) &\n",
    "                               (mutations_in_range['range_end'] <= my_end) &\n",
    "                               (mutations_in_range['range_chr'] == my_chr)])\n",
    "        \n",
    "        ## If no mutations are reported for that specific middle exon-centered sequence, skip to the next one.\n",
    "        if my_region_muts == 0:\n",
    "            continue\n",
    "        ## If mutations are reported, get the exonic sequence and the two intronic flanking sequences:\n",
    "        if my_start_exon <= my_start:\n",
    "            my_exon_region = hg19(my_chr, my_start+1-(k//2), size=n_bases_fullregion+2*(k//2))\n",
    "            position_prob_lol = compute_exon_probs(my_chr, my_start, my_exon_region, signatures_dict, 0,\n",
    "                                    middle_distance_threshold, tumor_type, consequence_rank_dict,\n",
    "                                    tb_consequence_type, include, k)\n",
    "\n",
    "        else:\n",
    "            first_flank_region = hg19(my_chr, my_start+1-(k//2), size=n_bases_first_flank+2*(k//2))\n",
    "            first_flank_region_list = compute_intron_probs(first_flank_region, signatures_dict, 0, \n",
    "                                    middle_distance_threshold, tumor_type, k)\n",
    "            \n",
    "            second_flank_region = hg19(my_chr, my_end_exon+1-(k//2), size=n_bases_second_flank+2*(k//2))\n",
    "            second_flank_region_list = compute_intron_probs(second_flank_region, signatures_dict,\n",
    "                                    n_bases_first_flank + my_exon_size, middle_distance_threshold, tumor_type, k)\n",
    "            \n",
    "            my_exon_region = hg19(my_chr, my_start_exon+1-(k//2), size=my_exon_size+2*(k//2))\n",
    "            exon_region_list = compute_exon_probs(my_chr, my_start_exon, my_exon_region, signatures_dict,\n",
    "                                    n_bases_first_flank, middle_distance_threshold, tumor_type, consequence_rank_dict,\n",
    "                                    tb_consequence_type, include, k)\n",
    "            \n",
    "            position_prob_lol = first_flank_region_list + exon_region_list + second_flank_region_list\n",
    "    \n",
    "        ## Convert the list to a dataframe\n",
    "        position_prob_df = pd.DataFrame(position_prob_lol)\n",
    "        position_prob_df.columns = ['position', 'probability']\n",
    "        \n",
    "        ## Reescaling probabilities to one\n",
    "        my_total = sum(position_prob_df['probability'])\n",
    "        position_prob_df['probability'] = position_prob_df['probability']/my_total\n",
    "        \n",
    "        ## Compute the expected by redistributing mutations acoording to probabilities\n",
    "        position_prob_df['expected_muts'] = position_prob_df['probability']*my_region_muts\n",
    "        position_prob_df = position_prob_df[['position', 'expected_muts']]\n",
    "        \n",
    "        # Sum the expected results\n",
    "        if len(final_position_prob_df) == 0:\n",
    "            final_position_prob_df = position_prob_df\n",
    "        else:\n",
    "            final_position_prob_df['expected_muts'] = (final_position_prob_df['expected_muts'] +\n",
    "                                                       position_prob_df['expected_muts'])\n",
    "\n",
    "\n",
    "    return pd.merge(my_exon_results_df, final_position_prob_df, on='position')"
   ]
  },
  {
   "cell_type": "code",
   "execution_count": 16,
   "metadata": {
    "collapsed": true
   },
   "outputs": [],
   "source": [
    "def bin_average(count, size):\n",
    "    averaged = []\n",
    "    for i in range(0,len(count),size):\n",
    "        mean = np.mean(count[i:i+size])\n",
    "        averaged.extend([mean for i in range(len(count[i:i+size]))])\n",
    "    return(pd.Series(averaged))"
   ]
  },
  {
   "cell_type": "code",
   "execution_count": 17,
   "metadata": {
    "collapsed": true
   },
   "outputs": [],
   "source": [
    "def plot_HD(cluster, ax, cnt):\n",
    "    \n",
    "    # read observed and backgruond data directly\n",
    "    filename = \"results/exons_centered_%s.tsv\" % (cluster)\n",
    "    \n",
    "    if path.isfile(filename):\n",
    "    \n",
    "        data = pd.read_csv(filename, sep=\"\\t\")\n",
    "    \n",
    "        coefs = poly.polyfit(data['position'], data['muts_count'], 50)\n",
    "        ffit = poly.polyval(data['position'], coefs)\n",
    "\n",
    "        ax.plot(data['position'],\n",
    "                 data['muts_count'], '#e41a1c', alpha=0.5, linewidth=0.7)\n",
    "        ax.plot(data['position'], ffit, '#e41a1c', linewidth=1)\n",
    "\n",
    "        coefs2 = poly.polyfit(data['position'], data['expected_muts'], 50)\n",
    "        ffit2 = poly.polyval(data['position'], coefs2)\n",
    "        ax.plot(data['position'], ffit2, 'black', linewidth=1, ls=\"--\")\n",
    "\n",
    "        ax.set_axis_bgcolor('none')\n",
    "\n",
    "        # show the left spline\n",
    "        for axis in ['right', 'top']:\n",
    "            ax.spines[axis].set_visible(False)\n",
    "\n",
    "        # add gap between x- and y-axis\n",
    "        for axis in ['bottom', 'left']:\n",
    "            ax.spines[axis].set_position(('axes', -0.03))\n",
    "\n",
    "        ax.yaxis.major.locator.set_params(nbins=4)\n",
    "        ax.yaxis.set_ticks_position('left')\n",
    "        ax.xaxis.set_ticks_position('bottom')\n",
    "        ax.set_xlim(-1000, 1000)\n",
    "        # add axis label\n",
    "        if cnt in [0, 3]:\n",
    "            ax.set_ylabel('Number of mutations')\n",
    "        if cnt >=3:\n",
    "            ax.set_xlabel('Distance from exon center (bp)')"
   ]
  },
  {
   "cell_type": "code",
   "execution_count": 18,
   "metadata": {
    "collapsed": true
   },
   "outputs": [],
   "source": [
    "def plot_HD_BINNED(cluster, ax, cnt, size):\n",
    "    \n",
    "    # read observed and backgruond data directly\n",
    "    filename = \"results/exons_centered_%s.tsv\" % (cluster)\n",
    "    \n",
    "    if path.isfile(filename):\n",
    "    \n",
    "        data = pd.read_csv(filename, sep=\"\\t\")\n",
    "        \n",
    "        bin_obs = bin_average(data['muts_count'], size)\n",
    "\n",
    "        ax.plot(data['position'],\n",
    "                 data['muts_count'], '#e41a1c', alpha=0.5, linewidth=0.7)\n",
    "        ax.plot(data['position'], bin_obs, '#e41a1c', linewidth=1)\n",
    "\n",
    "        bin_exp = bin_average(data['expected_muts'], size)\n",
    "\n",
    "        ax.plot(data['position'], bin_exp, 'black', linewidth=1)\n",
    "\n",
    "        ax.set_axis_bgcolor('none')\n",
    "\n",
    "        # show the left spline\n",
    "        for axis in ['right', 'top']:\n",
    "            ax.spines[axis].set_visible(False)\n",
    "\n",
    "        # add gap between x- and y-axis\n",
    "        for axis in ['bottom', 'left']:\n",
    "            ax.spines[axis].set_position(('axes', -0.03))\n",
    "\n",
    "        ax.yaxis.major.locator.set_params(nbins=4)\n",
    "        ax.yaxis.set_ticks_position('left')\n",
    "        ax.xaxis.set_ticks_position('bottom')\n",
    "        ax.set_xlim(-1000, 1000)\n",
    "        # add axis label\n",
    "        if cnt in [0, 3]:\n",
    "            ax.set_ylabel('Number of mutations')\n",
    "        if cnt >=3:\n",
    "            ax.set_xlabel('Distance from exon center (bp)')"
   ]
  },
  {
   "cell_type": "code",
   "execution_count": 19,
   "metadata": {
    "collapsed": true
   },
   "outputs": [],
   "source": [
    "def compute_intron_probs_permut(sequence,signatures_dict, tumor_type, k):\n",
    "    \"\"\"\n",
    "    Function that computes the summed probabilities of the three posible trinucleotide changes for each trinucleotide\n",
    "    in a given intronic sequence of a middle exon-centered window.\n",
    "    \n",
    "    Args:\n",
    "        sequence: intronic sequence. It should contain one extra nucleotide on each side to compute all the\n",
    "        trinucleotides.\n",
    "        signatures_dict: Dictionary containing probabilities of each trinucleotide change.\n",
    "        rel_start: Relative start of that sequence within the middle exon-centered window.\n",
    "        middle_distance_threshold: middle distance of the exon-centered window.\n",
    "        tumor_type: First type of class to find the specific mutation signature class.\n",
    "        cluster_id: Second type of class to find the specific mutation signature class.\n",
    "      \n",
    "    Returns:\n",
    "        list containing subslists with paired normalized position within the middle exon-centered window and\n",
    "        associated probability.\n",
    "\n",
    "    \"\"\"\n",
    "    \n",
    "    nucleotides = set(['A', 'T', 'C', 'G'])\n",
    "    position_prob_lol = list()\n",
    "    \n",
    "    ## Divide intronic sequences into kmers\n",
    "    my_kmers = [sequence[i:i+k] for i in range(len(sequence)-(k-1))]\n",
    "        \n",
    "    ## Foreach kmer\n",
    "    for my_kmer in my_kmers:\n",
    "        my_ref_base = my_kmer[(k//2):(k//2)+1].upper() #Get the reference\n",
    "        my_alt_bases = nucleotides - set(my_ref_base) #The rest are alternative ones\n",
    "        my_base_probs = 0\n",
    "        previous_base = my_kmer[0:(k//2)] #Get previous and next base\n",
    "        next_base = my_kmer[(k//2)+1:]\n",
    "            \n",
    "        ### Foreach alternative, each of the three possible changes given a kmer.\n",
    "        for alt_base in my_alt_bases:\n",
    "            #### Built reference and alternate kmers\n",
    "            tri_ref = previous_base + str(my_ref_base) + next_base\n",
    "            tri_alt = previous_base + str(alt_base) + next_base\n",
    "            #### Create key for the signature dictionary\n",
    "            my_key = str((tri_ref, tri_alt))\n",
    "            try:\n",
    "                ##### Add the probability of the three possible changes\n",
    "                my_prob = signatures_dict[my_key]['Probability_' + tumor_type]\n",
    "                my_base_probs = my_base_probs + my_prob\n",
    "            except:\n",
    "                None      \n",
    "                \n",
    "        position_prob_lol.append(my_base_probs)\n",
    "        \n",
    "    return position_prob_lol"
   ]
  },
  {
   "cell_type": "code",
   "execution_count": 20,
   "metadata": {
    "collapsed": true
   },
   "outputs": [],
   "source": [
    "def compute_exon_probs_permut(chromosome, abs_start, sequence, signatures_dict, tumor_type, rank_info, tabix, include, k):\n",
    "    \"\"\"\n",
    "    Function that computes the summed probabilities of the three posible trinucleotide changes for each trinucleotide\n",
    "    in a given exonic sequence of a middle exon-centered window.\n",
    "    \n",
    "    Args:\n",
    "      \n",
    "    Returns:\n",
    "        list containing subslists with paired normalized position within the middle exon-centered window and associated\n",
    "        probability.\n",
    "\n",
    "    \"\"\"\n",
    "    \n",
    "    position_prob_lol = list()\n",
    "    \n",
    "    ## Divide intronic sequences into trinucleotides\n",
    "    my_kmers = [sequence[i:i+k] for i in range(len(sequence)-(k-1))]\n",
    "    \n",
    "    #Foreach trinucleotide\n",
    "    for my_kmer in my_kmers:\n",
    "        #Get the reference\n",
    "        my_ref_base = my_kmer[(k//2):(k//2)+1].upper()\n",
    "        my_base_probs = 0\n",
    "        #Get previous and next base\n",
    "        previous_base = my_kmer[0:(k//2)]\n",
    "        next_base = my_kmer[(k//2)+1:]\n",
    "        effects = tabix.querys(\"{}:{}-{}\".format(chromosome, abs_start + 1, abs_start + 1))\n",
    "        for effect in effects:\n",
    "            if len(effect) < 6:\n",
    "                print('At chromosome ' + str(my_chr) + ' position ' + str(abs_start + 1) + ' no effect is reported.')\n",
    "                continue\n",
    "            consequence = effect[5].rstrip('\\r')\n",
    "            try:\n",
    "                synonymous_or_not = rank_info[consequence]\n",
    "                if synonymous_or_not == include:\n",
    "                    #Built reference and alternative trinucleotide\n",
    "                    tri_ref = previous_base + str(my_ref_base) + next_base\n",
    "                    tri_alt = previous_base + str(effect[3]) + next_base\n",
    "                    #Create key for the signatue dictionary.\n",
    "                    my_key = str((tri_ref, tri_alt))\n",
    "                    try:\n",
    "                        #Get the probability\n",
    "                        my_prob = signatures_dict[my_key]['Probability_' + tumor_type]\n",
    "                        #Sum the probability of the three possible changes.\n",
    "                        my_base_probs = my_base_probs + my_prob\n",
    "                    except:\n",
    "                        None\n",
    "            except:\n",
    "                None\n",
    "        \n",
    "        position_prob_lol.append(my_base_probs)\n",
    "        abs_start += 1\n",
    "    \n",
    "    return position_prob_lol"
   ]
  },
  {
   "cell_type": "code",
   "execution_count": 21,
   "metadata": {
    "collapsed": true
   },
   "outputs": [],
   "source": [
    "def stacked_sequence_level_permutation_excluding(mutations_df, exons_coords_df, signatures_file, tumor_type,\n",
    "                                middle_distance_threshold, k, include, tb_consequence_type, consequence_rank_dict):\n",
    "    \"\"\"\n",
    "    Get the co-ordinates of exons and flanking intronic sequences and perform the random sampling of mutations\n",
    "    (1000 times) with the size equal of the number of mutation observed in the 2001-nt window (exon and intron\n",
    "    together).\n",
    "    \n",
    "    Args:\n",
    "        \n",
    "    Returns:\n",
    "        \n",
    "    \"\"\"\n",
    "    exons_coords_symbol_df = exons_coords_df.copy(deep=True)\n",
    "    \n",
    "    nucleotides = set(['A', 'T', 'C', 'G'])\n",
    "    \n",
    "    # Get signatures\n",
    "    all_signatures = pd.read_csv(signatures_file, sep='\\t')\n",
    "    probability_name = 'Probability_' + tumor_type\n",
    "    sub_signatures_df = all_signatures[['mutation', probability_name]]\n",
    "    signatures_dict = sub_signatures_df.set_index('mutation').T.to_dict()\n",
    "    \n",
    "    # Create bed of the selected mutations\n",
    "    sub_mutations_df = mutations_df[['chr', 'start', 'end', 'alt', 'sample']]\n",
    "    mutations_bed = pybedtools.BedTool.from_dataframe(sub_mutations_df)\n",
    "    \n",
    "    exons_coords_symbol_df['exon_size'] = (exons_coords_symbol_df['end'] - exons_coords_symbol_df['start'])\n",
    "    exons_coords_symbol_df['exon_middle_start'] = (exons_coords_symbol_df['start'] +\n",
    "                                        exons_coords_symbol_df['exon_size']/2)\n",
    "    exons_coords_symbol_df['exon_middle_start'] = exons_coords_symbol_df.apply(lambda x:\n",
    "                                        math.floor(x['exon_middle_start']), axis=1)\n",
    "\n",
    "    exons_coords_symbol_df['exon_middle_end'] = exons_coords_symbol_df['exon_middle_start'] + 1\n",
    "    exons_coords_symbol_df['region_start'] = exons_coords_symbol_df['exon_middle_start'] - middle_distance_threshold\n",
    "    exons_coords_symbol_df['region_end'] = exons_coords_symbol_df['exon_middle_end'] + middle_distance_threshold\n",
    "    \n",
    "    # Left flank \"intronic\" sequences => region_start and start from coordinates.\n",
    "    intron1_df = exons_coords_symbol_df[['chr', 'region_start', 'start', 'ID']]\n",
    "    ## The region may span less than the centered exonic sequence. Only take left flank intronic coordinates with sense.\n",
    "    intron1_df = intron1_df[intron1_df['region_start'] <= intron1_df['start']]\n",
    "    intron1_df.columns = ['chr', 'start', 'end', 'ID']\n",
    "    \n",
    "    # Right flank \"intronic\" sequences\n",
    "    intron2_df = exons_coords_symbol_df[['chr', 'end', 'region_end', 'ID']]\n",
    "    ## The region may span less than the centered exonic sequence. Only take right flank intronic coordinates with sense.\n",
    "    intron2_df = intron2_df[intron2_df['end'] <= intron2_df['region_end']]\n",
    "    intron2_df.columns = ['chr', 'start', 'end', 'ID']\n",
    "    ## Take them together\n",
    "    intron_df = pd.concat([intron1_df, intron2_df])\n",
    "    intron_df['label'] = 'intron'\n",
    "\n",
    "    # Exonic sequences\n",
    "    all_exon_df = exons_coords_symbol_df[['chr', 'start', 'end', 'ID', 'region_start', 'region_end']]\n",
    "    ## The region may span less than the centered exonic sequence. Process exons that surpass the region size.\n",
    "    large_exon_df = all_exon_df[(all_exon_df['end']-all_exon_df['start']) > (2*middle_distance_threshold+1)]\n",
    "    large_exon_df = large_exon_df[['chr', 'region_start', 'region_end', 'ID']]\n",
    "    large_exon_df.columns = ['chr', 'start', 'end', 'ID']\n",
    "    ## The region may span less than the centered exonic sequence. Process exons that do not surpass the region size.\n",
    "    short_exon_df = all_exon_df[(all_exon_df['end']-all_exon_df['start']) <= (2*middle_distance_threshold+1)]\n",
    "    short_exon_df = short_exon_df[['chr', 'start', 'end', 'ID']]\n",
    "    short_exon_df.columns = ['chr', 'start', 'end', 'ID']\n",
    "    ## Take them together\n",
    "    exon_df = pd.concat([short_exon_df, large_exon_df])\n",
    "    exon_df['label'] = 'exon'\n",
    "    \n",
    "    # Merge exons and introns\n",
    "    coords_symbol_df = pd.concat([exon_df, intron_df])\n",
    "    coords_symbol_bed = pybedtools.BedTool.from_dataframe(coords_symbol_df)\n",
    "\n",
    "    # Filter mutations by the position of interest\n",
    "    my_bed = coords_symbol_bed.intersect(mutations_bed, wo=True)\n",
    "\n",
    "    mutations_mapped = pd.read_table(my_bed.fn, names = ['chr', 'start', 'end', 'ID','label', 'mut_chr', 'mut_start',\n",
    "                                    'mut_end', 'mut_alt', 'sample', 'overlap_bp'],  sep=\"\\s+\", index_col=False)\n",
    "    \n",
    "    mutations_mapped['conseq'] = mutations_mapped.apply(lambda x: \n",
    "                                    check_consequence(x['mut_chr'], x['mut_end'], x['mut_alt'], tb_consequence_type,\n",
    "                                    consequence_rank_dict), axis=1)\n",
    "    \n",
    "    print(\"Total amount of mutations at the middle exon-centered sequences is \"+ str(len(mutations_mapped)))\n",
    "    exonic_obs = mutations_mapped[(mutations_mapped['label'] == 'exon') & \n",
    "                                  (mutations_mapped['conseq'] == include)].shape[0]\n",
    "    intronic_obs = mutations_mapped[mutations_mapped['label'] == 'intron'].shape[0]\n",
    "    print(\"Observed at middle exons: \" + str(exonic_obs))\n",
    "    print(\"Observed at flanking introns: \" + str(intronic_obs))\n",
    "    \n",
    "    # Compute expected mutation by randomization approach\n",
    "    RANDOMIZATION = 1000\n",
    "\n",
    "    collect_rand = {}\n",
    "    # Initialize dictionary\n",
    "    for sam in range(0, RANDOMIZATION):\n",
    "        collect_rand[sam] = {}\n",
    "        collect_rand[sam]['exon_Exp'] = 0\n",
    "        collect_rand[sam]['intron_Exp'] = 0\n",
    "\n",
    "    # For each unique staked exon-centered sequence with one or more mutations\n",
    "    for gene in mutations_mapped['ID'].unique():\n",
    "        position_prob_lol = []\n",
    "        label_flag_lol = []\n",
    "        \n",
    "        # Take the exonic and the flanking intronic sequences.\n",
    "        for dx, row in coords_symbol_df[coords_symbol_df['ID']==gene].iterrows():\n",
    "            my_chr = row['chr'][3:]\n",
    "            my_start = int(row['start'])\n",
    "            my_end = int(row['end'])\n",
    "            n_bases = my_end - my_start\n",
    "\n",
    "            ## Get sequence.\n",
    "            my_sequence = hg19(my_chr, my_start+1-(k//2), size=n_bases+2*(k//2))\n",
    "\n",
    "            if row['label'] == 'intron':\n",
    "                label_flag = 0\n",
    "                probs = compute_intron_probs_permut(my_sequence, signatures_dict, tumor_type, k)\n",
    "                flags = [label_flag]*len(probs)\n",
    "            else:\n",
    "                label_flag = 1\n",
    "                probs = compute_exon_probs_permut(my_chr, my_start, my_sequence, signatures_dict, tumor_type,\n",
    "                                           consequence_rank_dict, tb_consequence_type, include, k)\n",
    "                flags = [label_flag]*len(probs)\n",
    "                \n",
    "            position_prob_lol = position_prob_lol + probs\n",
    "            label_flag_lol = label_flag_lol + flags\n",
    "        \n",
    "        # Total number of mutations falling in the stacked sequence.\n",
    "        mutcnt = len(mutations_mapped[(mutations_mapped['ID']==gene) &\n",
    "            ((mutations_mapped['label'] == 'intron') | ((mutations_mapped['label'] == 'exon') & \n",
    "                                  (mutations_mapped['conseq'] == include)))])\n",
    "        # Normalize the probability vector and perform sampling\n",
    "        prb_vector = np.array(position_prob_lol)\n",
    "        prb_vector = prb_vector/prb_vector.sum()\n",
    "        label_vector = np.array(label_flag_lol)\n",
    "        mutation_rand_label = np.random.choice(label_vector, size=mutcnt*RANDOMIZATION, replace=True, p=prb_vector)\n",
    "        \n",
    "        # Save the mutation count for each randomization\n",
    "        for sam in range(0, RANDOMIZATION):\n",
    "            start = int(mutcnt*sam)\n",
    "            # count for one random sampling\n",
    "            count = np.unique(mutation_rand_label[start:(start+mutcnt)], return_counts=True)\n",
    "            for i in range(0, len(count[0])):\n",
    "                if count[0][i] == 1: # count of exons\n",
    "                    collect_rand[sam]['exon_Exp'] += count[1][i]\n",
    "                else: # count of introns\n",
    "                    collect_rand[sam]['intron_Exp'] += count[1][i]\n",
    "        \n",
    "    collect_df = pd.DataFrame.from_dict(collect_rand)\n",
    "    \n",
    "    return(collect_df, exonic_obs, intronic_obs)"
   ]
  },
  {
   "cell_type": "code",
   "execution_count": 22,
   "metadata": {
    "collapsed": true
   },
   "outputs": [],
   "source": [
    "def compute_intron_probs_permut_CpG(sequence, signatures_dict, tumor_type, k):\n",
    "    \"\"\"\n",
    "    Function that computes the summed probabilities of the three posible trinucleotide changes for each trinucleotide\n",
    "    in a given intronic sequence of a middle exon-centered window.\n",
    "    \n",
    "    Args:\n",
    "        sequence: intronic sequence. It should contain one extra nucleotide on each side to compute all the\n",
    "        trinucleotides.\n",
    "        signatures_dict: Dictionary containing probabilities of each trinucleotide change.\n",
    "        rel_start: Relative start of that sequence within the middle exon-centered window.\n",
    "        middle_distance_threshold: middle distance of the exon-centered window.\n",
    "        tumor_type: First type of class to find the specific mutation signature class.\n",
    "        cluster_id: Second type of class to find the specific mutation signature class.\n",
    "      \n",
    "    Returns:\n",
    "        list containing subslists with paired normalized position within the middle exon-centered window and\n",
    "        associated probability.\n",
    "\n",
    "    \"\"\"\n",
    "    \n",
    "    nucleotides = set(['A', 'T', 'C', 'G'])\n",
    "    position_prob_lol = list()\n",
    "    \n",
    "    ## Divide intronic sequences into kmers\n",
    "    my_kmers = [sequence[i:i+k] for i in range(len(sequence)-(k-1))]\n",
    "        \n",
    "    ## Foreach kmer\n",
    "    for my_kmer in my_kmers:\n",
    "        my_ref_base = my_kmer[(k//2):(k//2)+1].upper() #Get the reference\n",
    "        my_alt_bases = nucleotides - set(my_ref_base) #The rest are alternative ones\n",
    "        my_base_probs = 0\n",
    "        previous_base = my_kmer[0:(k//2)] #Get previous and next base\n",
    "        next_base = my_kmer[(k//2)+1:]\n",
    "        tri_ref = compute_CpG_site(my_ref_base, previous_base, next_base)\n",
    "        \n",
    "        ### Foreach alternative, each of the three possible changes given a kmer.\n",
    "        for alt_base in my_alt_bases:\n",
    "            #### Built reference and alternate kmers\n",
    "            tri_alt = alt_base\n",
    "            #### Create key for the signature dictionary\n",
    "            my_key = str((tri_ref, tri_alt))\n",
    "            try:\n",
    "                ##### Add the probability of the three possible changes\n",
    "                my_prob = signatures_dict[my_key]['Probability_' + tumor_type]\n",
    "                my_base_probs = my_base_probs + my_prob\n",
    "            except:\n",
    "                None\n",
    "                \n",
    "        position_prob_lol.append(my_base_probs)\n",
    "        \n",
    "    return position_prob_lol"
   ]
  },
  {
   "cell_type": "code",
   "execution_count": 23,
   "metadata": {
    "collapsed": true
   },
   "outputs": [],
   "source": [
    "def compute_exon_probs_permut_CpG(chromosome, abs_start, sequence, signatures_dict, tumor_type, rank_info, tabix, include, k):\n",
    "    \"\"\"\n",
    "    Function that computes the summed probabilities of the three posible trinucleotide changes for each trinucleotide\n",
    "    in a given exonic sequence of a middle exon-centered window.\n",
    "    \n",
    "    Args:\n",
    "      \n",
    "    Returns:\n",
    "        list containing subslists with paired normalized position within the middle exon-centered window and associated\n",
    "        probability.\n",
    "\n",
    "    \"\"\"\n",
    "    \n",
    "    position_prob_lol = list()\n",
    "    \n",
    "    ## Divide intronic sequences into trinucleotides\n",
    "    my_kmers = [sequence[i:i+k] for i in range(len(sequence)-(k-1))]\n",
    "    \n",
    "    #Foreach trinucleotide\n",
    "    for my_kmer in my_kmers:\n",
    "        #Get the reference\n",
    "        my_ref_base = my_kmer[(k//2):(k//2)+1].upper()\n",
    "        my_base_probs = 0\n",
    "        #Get previous and next base\n",
    "        previous_base = my_kmer[0:(k//2)]\n",
    "        next_base = my_kmer[(k//2)+1:]\n",
    "        tri_ref = compute_CpG_site(my_ref_base, previous_base, next_base)\n",
    "        effects = tabix.querys(\"{}:{}-{}\".format(chromosome, abs_start + 1, abs_start + 1))\n",
    "        for effect in effects:\n",
    "            if len(effect) < 6:\n",
    "                print('At chromosome ' + str(my_chr) + ' position ' + str(abs_start + 1) + ' no effect is reported.')\n",
    "                continue\n",
    "            consequence = effect[5].rstrip('\\r')\n",
    "            try:\n",
    "                synonymous_or_not = rank_info[consequence]\n",
    "                if synonymous_or_not == include:\n",
    "                    #Built reference and alternative trinucleotide\n",
    "                    tri_alt = str(effect[3])\n",
    "                    #Create key for the signatue dictionary.\n",
    "                    my_key = str((tri_ref, tri_alt))\n",
    "                    try:\n",
    "                        #Get the probability\n",
    "                        my_prob = signatures_dict[my_key]['Probability_' + tumor_type]\n",
    "                        #Sum the probability of the three possible changes.\n",
    "                        my_base_probs = my_base_probs + my_prob\n",
    "                    except:\n",
    "                        None\n",
    "            except:\n",
    "                None\n",
    "        \n",
    "        position_prob_lol.append(my_base_probs)\n",
    "        abs_start += 1\n",
    "    \n",
    "    return position_prob_lol"
   ]
  },
  {
   "cell_type": "code",
   "execution_count": 24,
   "metadata": {
    "collapsed": true
   },
   "outputs": [],
   "source": [
    "def stacked_sequence_level_permutation_excluding_CpG(mutations_df, exons_coords_df, signatures_file,\n",
    "                    tumor_type, middle_distance_threshold, k, include, tb_consequence_type, consequence_rank_dict):\n",
    "    \"\"\"\n",
    "    Get the co-ordinates of exons and flanking intronic sequences and perform the random sampling of mutations\n",
    "    (1000 times) with the size equal of the number of mutation observed in the 2001-nt window (exon and intron\n",
    "    together).\n",
    "    \n",
    "    Args:\n",
    "        \n",
    "    Returns:\n",
    "        \n",
    "    \"\"\"\n",
    "    exons_coords_symbol_df = exons_coords_df.copy(deep=True)\n",
    "    \n",
    "    nucleotides = set(['A', 'T', 'C', 'G'])\n",
    "    \n",
    "    # Get signatures\n",
    "    all_signatures = pd.read_csv(signatures_file, sep='\\t')\n",
    "    probability_name = 'Probability_' + tumor_type\n",
    "    sub_signatures_df = all_signatures[['mutation', probability_name]]\n",
    "    signatures_dict = sub_signatures_df.set_index('mutation').T.to_dict()\n",
    "    \n",
    "    # Create bed of the selected mutations\n",
    "    sub_mutations_df = mutations_df[['chr', 'start', 'end', 'alt', 'sample']]\n",
    "    mutations_bed = pybedtools.BedTool.from_dataframe(sub_mutations_df)\n",
    "    \n",
    "    exons_coords_symbol_df['exon_size'] = (exons_coords_symbol_df['end'] - exons_coords_symbol_df['start'])\n",
    "    exons_coords_symbol_df['exon_middle_start'] = (exons_coords_symbol_df['start'] +\n",
    "                                        exons_coords_symbol_df['exon_size']/2)\n",
    "    exons_coords_symbol_df['exon_middle_start'] = exons_coords_symbol_df.apply(lambda x:\n",
    "                                        math.floor(x['exon_middle_start']), axis=1)\n",
    "\n",
    "    exons_coords_symbol_df['exon_middle_end'] = exons_coords_symbol_df['exon_middle_start'] + 1\n",
    "    exons_coords_symbol_df['region_start'] = exons_coords_symbol_df['exon_middle_start'] - middle_distance_threshold\n",
    "    exons_coords_symbol_df['region_end'] = exons_coords_symbol_df['exon_middle_end'] + middle_distance_threshold\n",
    "    \n",
    "    # Left flank \"intronic\" sequences => region_start and start from coordinates.\n",
    "    intron1_df = exons_coords_symbol_df[['chr', 'region_start', 'start', 'ID']]\n",
    "    ## The region may span less than the centered exonic sequence. Only take left flank intronic coordinates with sense.\n",
    "    intron1_df = intron1_df[intron1_df['region_start'] <= intron1_df['start']]\n",
    "    intron1_df.columns = ['chr', 'start', 'end', 'ID']\n",
    "    \n",
    "    # Right flank \"intronic\" sequences\n",
    "    intron2_df = exons_coords_symbol_df[['chr', 'end', 'region_end', 'ID']]\n",
    "    ## The region may span less than the centered exonic sequence. Only take right flank intronic coordinates with sense.\n",
    "    intron2_df = intron2_df[intron2_df['end'] <= intron2_df['region_end']]\n",
    "    intron2_df.columns = ['chr', 'start', 'end', 'ID']\n",
    "    ## Take them together\n",
    "    intron_df = pd.concat([intron1_df, intron2_df])\n",
    "    intron_df['label'] = 'intron'\n",
    "\n",
    "    # Exonic sequences\n",
    "    all_exon_df = exons_coords_symbol_df[['chr', 'start', 'end', 'ID', 'region_start', 'region_end']]\n",
    "    ## The region may span less than the centered exonic sequence. Process exons that surpass the region size.\n",
    "    large_exon_df = all_exon_df[(all_exon_df['end']-all_exon_df['start']) > (2*middle_distance_threshold+1)]\n",
    "    large_exon_df = large_exon_df[['chr', 'region_start', 'region_end', 'ID']]\n",
    "    large_exon_df.columns = ['chr', 'start', 'end', 'ID']\n",
    "    ## The region may span less than the centered exonic sequence. Process exons that do not surpass the region size.\n",
    "    short_exon_df = all_exon_df[(all_exon_df['end']-all_exon_df['start']) <= (2*middle_distance_threshold+1)]\n",
    "    short_exon_df = short_exon_df[['chr', 'start', 'end', 'ID']]\n",
    "    short_exon_df.columns = ['chr', 'start', 'end', 'ID']\n",
    "    ## Take them together\n",
    "    exon_df = pd.concat([short_exon_df, large_exon_df])\n",
    "    exon_df['label'] = 'exon'\n",
    "    \n",
    "    # Merge exons and introns\n",
    "    coords_symbol_df = pd.concat([exon_df, intron_df])\n",
    "    coords_symbol_bed = pybedtools.BedTool.from_dataframe(coords_symbol_df)\n",
    "\n",
    "    # Filter mutations by the position of interest\n",
    "    my_bed = coords_symbol_bed.intersect(mutations_bed, wo=True)\n",
    "\n",
    "    mutations_mapped = pd.read_table(my_bed.fn, names = ['chr', 'start', 'end', 'ID','label', 'mut_chr', 'mut_start',\n",
    "                                    'mut_end', 'mut_alt', 'sample', 'overlap_bp'],  sep=\"\\s+\", index_col=False)\n",
    "    \n",
    "    mutations_mapped['conseq'] = mutations_mapped.apply(lambda x: \n",
    "                                    check_consequence(x['mut_chr'], x['mut_end'], x['mut_alt'], tb_consequence_type,\n",
    "                                    consequence_rank_dict), axis=1)\n",
    "    \n",
    "    print(\"Total amount of mutations at the middle exon-centered sequences is \"+ str(len(mutations_mapped)))\n",
    "    exonic_obs = mutations_mapped[(mutations_mapped['label'] == 'exon') & \n",
    "                                  (mutations_mapped['conseq'] == include)].shape[0]\n",
    "    intronic_obs = mutations_mapped[mutations_mapped['label'] == 'intron'].shape[0]\n",
    "    print(\"Observed at middle exons: \" + str(exonic_obs))\n",
    "    print(\"Observed at flanking introns: \" + str(intronic_obs))\n",
    "    \n",
    "    # Compute expected mutation by randomization approach\n",
    "    RANDOMIZATION = 1000\n",
    "\n",
    "    collect_rand = {}\n",
    "    # Initialize dictionary\n",
    "    for sam in range(0, RANDOMIZATION):\n",
    "        collect_rand[sam] = {}\n",
    "        collect_rand[sam]['exon_Exp'] = 0\n",
    "        collect_rand[sam]['intron_Exp'] = 0\n",
    "\n",
    "    # For each unique staked exon-centered sequence with one or more mutations\n",
    "    for gene in mutations_mapped['ID'].unique():\n",
    "        position_prob_lol = []\n",
    "        label_flag_lol = []\n",
    "        \n",
    "        # Take the exonic and the flanking intronic sequences.\n",
    "        for dx, row in coords_symbol_df[coords_symbol_df['ID']==gene].iterrows():\n",
    "            my_chr = row['chr'][3:]\n",
    "            my_start = int(row['start'])\n",
    "            my_end = int(row['end'])\n",
    "            n_bases = my_end - my_start\n",
    "\n",
    "            ## Get sequence.\n",
    "            my_sequence = hg19(my_chr, my_start+1-(k//2), size=n_bases+2*(k//2))\n",
    "\n",
    "            if row['label'] == 'intron':\n",
    "                label_flag = 0\n",
    "                probs = compute_intron_probs_permut_CpG(my_sequence, signatures_dict, tumor_type, k)\n",
    "                flags = [label_flag]*len(probs)\n",
    "            else:\n",
    "                label_flag = 1\n",
    "                probs = compute_exon_probs_permut_CpG(my_chr, my_start, my_sequence, signatures_dict, tumor_type,\n",
    "                                           consequence_rank_dict, tb_consequence_type, include, k)\n",
    "                flags = [label_flag]*len(probs)\n",
    "                \n",
    "            position_prob_lol = position_prob_lol + probs\n",
    "            label_flag_lol = label_flag_lol + flags\n",
    "        \n",
    "        # Total number of mutations falling in the stacked sequence.\n",
    "        mutcnt = len(mutations_mapped[(mutations_mapped['ID']==gene) &\n",
    "            ((mutations_mapped['label'] == 'intron') | ((mutations_mapped['label'] == 'exon') & \n",
    "                                  (mutations_mapped['conseq'] == include)))])\n",
    "        # Normalize the probability vector and perform sampling\n",
    "        prb_vector = np.array(position_prob_lol)\n",
    "        prb_vector = prb_vector/prb_vector.sum()\n",
    "        label_vector = np.array(label_flag_lol)\n",
    "        mutation_rand_label = np.random.choice(label_vector, size=mutcnt*RANDOMIZATION, replace=True, p=prb_vector)\n",
    "        \n",
    "        # Save the mutation count for each randomization\n",
    "        for sam in range(0, RANDOMIZATION):\n",
    "            start = int(mutcnt*sam)\n",
    "            # count for one random sampling\n",
    "            count = np.unique(mutation_rand_label[start:(start+mutcnt)], return_counts=True)\n",
    "            for i in range(0, len(count[0])):\n",
    "                if count[0][i] == 1: # count of exons\n",
    "                    collect_rand[sam]['exon_Exp'] += count[1][i]\n",
    "                else: # count of introns\n",
    "                    collect_rand[sam]['intron_Exp'] += count[1][i]\n",
    "        \n",
    "    collect_df = pd.DataFrame.from_dict(collect_rand)\n",
    "    \n",
    "    return(collect_df, exonic_obs, intronic_obs)"
   ]
  },
  {
   "cell_type": "markdown",
   "metadata": {},
   "source": [
    "## Load data"
   ]
  },
  {
   "cell_type": "code",
   "execution_count": 25,
   "metadata": {
    "collapsed": true
   },
   "outputs": [],
   "source": [
    "## Get exon coordinates\n",
    "exons_coords_df = pd.read_csv(middle_exons_coords, sep=\"\\t\", header=None, low_memory=False)\n",
    "exons_coords_df.columns = ['chr', 'start', 'end', 'ensembl', 'symbol', 'strand']\n",
    "exons_coords_df = exons_coords_df[['chr', 'start', 'end', 'ensembl']]\n",
    "exons_coords_df['ensembl'] = exons_coords_df.apply(lambda x: remove_version_ensembl(x, 'ensembl'), axis=1)\n",
    "exons_coords_df.columns = ['chr', 'start', 'end', 'ensembl']\n",
    "\n",
    "## Get consequence tabix file\n",
    "tb_consequence_type = tabix.open(consequence_type_file)\n",
    "\n",
    "## Get the consequence rank info and classify separate syn from other types of non-syn (missense, non-sense,...)\n",
    "consequence_rank_info = pd.read_csv(consequence_ranking_file, delimiter='\\t')\n",
    "consequence_rank_info['TYPE'] = consequence_rank_info.apply(lambda x:synonymous_or_not(x) ,1)\n",
    "consequence_rank_info = consequence_rank_info[['CONSEQUENCE', 'TYPE']]\n",
    "consequence_rank_dict = dict(zip(consequence_rank_info['CONSEQUENCE'], consequence_rank_info['TYPE']))"
   ]
  },
  {
   "cell_type": "markdown",
   "metadata": {
    "collapsed": true
   },
   "source": [
    "## Exons centered analysis, Goldmann 2018\n",
    "\n",
    "Mutation probabilities were computed genome-wide using DNM. They were used to compute the expected number of mutations based on a generalized k-mer model, with the method described in the **Exon-centered and intron-centered mutational analyses** section at Frigola et al. for the 3-mer case."
   ]
  },
  {
   "cell_type": "code",
   "execution_count": 26,
   "metadata": {
    "collapsed": true
   },
   "outputs": [],
   "source": [
    "## Get mutations\n",
    "mutations_file = mutations_folder + 'germinal_ultimate_dataset.bed.gz'\n",
    "mutations_df = pd.read_csv(mutations_file, sep=\"\\t\", header=None)\n",
    "mutations_df.columns = ['chr', 'start', 'end', 'ref', 'alt', 'sample', 'type', 'class']\n",
    "mutations_df = mutations_df[['chr', 'start', 'end', 'ref', 'alt', 'sample', 'type']]\n",
    "mutations_df = mutations_df[mutations_df['type'] == 'subs']\n",
    "mutations_df = mutations_df[mutations_df['sample'] == 'Goldmann2018']\n",
    "mutations_df['ID'] = mutations_df.index + 1\n",
    "\n",
    "tumor_type = 'germinal'"
   ]
  },
  {
   "cell_type": "markdown",
   "metadata": {},
   "source": [
    "### 1-mer context dependency, synonymous"
   ]
  },
  {
   "cell_type": "code",
   "execution_count": 27,
   "metadata": {},
   "outputs": [
    {
     "name": "stdout",
     "output_type": "stream",
     "text": [
      "The total amount of mutations at the middle exon-centered sequences is 5598\n",
      "The total amount of mutations at the exonic sequences are 494\n",
      "The category initiator_codon_variant is found 1 times.\n",
      "The category missense_variant is found 336 times.\n",
      "The category splice_region_variant is found 2 times.\n",
      "The category stop_gained is found 25 times.\n",
      "The category synonymous_variant is found 130 times.\n"
     ]
    }
   ],
   "source": [
    "k = 1\n",
    "middle_distance_threshold = 1000\n",
    "include = 'synonymous'\n",
    "signatures_file = 'results/' + str(k) + 'mer_signatures_DNM_golden.txt'\n",
    "\n",
    "exons_centered_results = obs_exp_muts_excluding_kmer(mutations_df, exons_coords_df, signatures_file, tumor_type, \n",
    "                            middle_distance_threshold, k, include, tb_consequence_type, consequence_rank_dict)\n",
    "\n",
    "exons_centered_results.to_csv('results/exons_centered_' + str(k) + 'mer_DNM_context_golden_' + str(include) + '.tsv', sep=\"\\t\", header=True, index=False)"
   ]
  },
  {
   "cell_type": "markdown",
   "metadata": {},
   "source": [
    "#### Significance through permutations"
   ]
  },
  {
   "cell_type": "code",
   "execution_count": 28,
   "metadata": {},
   "outputs": [
    {
     "name": "stdout",
     "output_type": "stream",
     "text": [
      "Total amount of mutations at the middle exon-centered sequences is 5598\n",
      "Observed at middle exons: 127\n",
      "Observed at flanking introns: 5113\n"
     ]
    }
   ],
   "source": [
    "k = 1\n",
    "middle_distance_threshold = 1000\n",
    "signatures_file = 'results/' + str(k) + 'mer_signatures_DNM_golden.txt'\n",
    "include = 'synonymous'\n",
    "\n",
    "(exons_centered_results, exonic_obs, intronic_obs) = stacked_sequence_level_permutation_excluding(mutations_df,\n",
    "                                    exons_coords_df, signatures_file, tumor_type, middle_distance_threshold,\n",
    "                                    k, include, tb_consequence_type, consequence_rank_dict)\n",
    "\n",
    "exons_centered_results = pd.DataFrame.transpose(exons_centered_results)\n",
    "exons_centered_results.to_csv(path.join('results', 'exons_centered_' + str(k) + 'mer_permut_' + include + '_golden.tsv'),\n",
    "                              sep=\"\\t\", header=True, index=False)"
   ]
  },
  {
   "cell_type": "code",
   "execution_count": 29,
   "metadata": {},
   "outputs": [
    {
     "data": {
      "text/html": [
       "<div>\n",
       "<style>\n",
       "    .dataframe thead tr:only-child th {\n",
       "        text-align: right;\n",
       "    }\n",
       "\n",
       "    .dataframe thead th {\n",
       "        text-align: left;\n",
       "    }\n",
       "\n",
       "    .dataframe tbody tr th {\n",
       "        vertical-align: top;\n",
       "    }\n",
       "</style>\n",
       "<table border=\"1\" class=\"dataframe\">\n",
       "  <thead>\n",
       "    <tr style=\"text-align: right;\">\n",
       "      <th></th>\n",
       "      <th>obs_exon_cnt</th>\n",
       "      <th>exp_exon_cnt</th>\n",
       "      <th>obs_intron_cnt</th>\n",
       "      <th>exp_intron_cnt</th>\n",
       "      <th>empirical_pvalue</th>\n",
       "    </tr>\n",
       "  </thead>\n",
       "  <tbody>\n",
       "    <tr>\n",
       "      <th>0</th>\n",
       "      <td>127</td>\n",
       "      <td>115.149</td>\n",
       "      <td>5113</td>\n",
       "      <td>5124.851</td>\n",
       "      <td>0.13</td>\n",
       "    </tr>\n",
       "  </tbody>\n",
       "</table>\n",
       "</div>"
      ],
      "text/plain": [
       "   obs_exon_cnt  exp_exon_cnt  obs_intron_cnt  exp_intron_cnt  \\\n",
       "0           127       115.149            5113        5124.851   \n",
       "\n",
       "   empirical_pvalue  \n",
       "0              0.13  "
      ]
     },
     "execution_count": 29,
     "metadata": {},
     "output_type": "execute_result"
    }
   ],
   "source": [
    "k = 1\n",
    "results = []\n",
    "RANDOMIZATION = 1000\n",
    "include = 'synonymous'\n",
    "    \n",
    "# Read the expected exon and intron mutation counts from permutations\n",
    "rand_output = pd.read_csv(path.join('results', 'exons_centered_' + str(k) + 'mer_permut_' + include + '_golden.tsv'), sep=\"\\t\")\n",
    "    \n",
    "# count the number of times the expected exon mutations is higher than the observed\n",
    "count = len(rand_output[rand_output['exon_Exp'] >= exonic_obs])\n",
    "    \n",
    "if count == 0:\n",
    "    count = 1 \n",
    "    \n",
    "results.append([exonic_obs, rand_output['exon_Exp'].mean(), intronic_obs, rand_output['intron_Exp'].mean(), count/RANDOMIZATION])\n",
    "    \n",
    "results_df = pd.DataFrame(results)\n",
    "results_df.columns = ['obs_exon_cnt', 'exp_exon_cnt','obs_intron_cnt', 'exp_intron_cnt', 'empirical_pvalue']\n",
    "results_df"
   ]
  },
  {
   "cell_type": "code",
   "execution_count": 30,
   "metadata": {},
   "outputs": [
    {
     "data": {
      "text/plain": [
       "0    10.291883\n",
       "dtype: float64"
      ]
     },
     "execution_count": 30,
     "metadata": {},
     "output_type": "execute_result"
    }
   ],
   "source": [
    "exonic_increase = (results_df[\"obs_exon_cnt\"]/results_df[\"exp_exon_cnt\"]-1)*100\n",
    "exonic_increase"
   ]
  },
  {
   "cell_type": "code",
   "execution_count": 31,
   "metadata": {},
   "outputs": [
    {
     "data": {
      "text/plain": [
       "(0    9.966747\n",
       " dtype: float64, 0    10.617018\n",
       " dtype: float64)"
      ]
     },
     "execution_count": 31,
     "metadata": {},
     "output_type": "execute_result"
    }
   ],
   "source": [
    "rand_output['increase'] = (exonic_obs/rand_output['exon_Exp']-1)*100\n",
    "error = (st.stdev(rand_output['increase'].tolist())/np.sqrt(1000))\n",
    "(exonic_increase-error, exonic_increase+error)"
   ]
  },
  {
   "cell_type": "markdown",
   "metadata": {},
   "source": [
    "### 1-mer context dependency, non_synonymous"
   ]
  },
  {
   "cell_type": "code",
   "execution_count": 32,
   "metadata": {},
   "outputs": [
    {
     "name": "stdout",
     "output_type": "stream",
     "text": [
      "The total amount of mutations at the middle exon-centered sequences is 5598\n",
      "The total amount of mutations at the exonic sequences are 494\n",
      "The category initiator_codon_variant is found 1 times.\n",
      "The category missense_variant is found 336 times.\n",
      "The category splice_region_variant is found 2 times.\n",
      "The category stop_gained is found 25 times.\n",
      "The category synonymous_variant is found 130 times.\n"
     ]
    }
   ],
   "source": [
    "k = 1\n",
    "middle_distance_threshold = 1000\n",
    "include = 'non_synonymous'\n",
    "signatures_file = 'results/' + str(k) + 'mer_signatures_DNM_golden.txt'\n",
    "\n",
    "exons_centered_results = obs_exp_muts_excluding_kmer(mutations_df, exons_coords_df, signatures_file, tumor_type, \n",
    "                            middle_distance_threshold, k, include, tb_consequence_type, consequence_rank_dict)\n",
    "\n",
    "exons_centered_results.to_csv('results/exons_centered_' + str(k) + 'mer_DNM_context_golden_' + str(include) + '.tsv', sep=\"\\t\", header=True, index=False)"
   ]
  },
  {
   "cell_type": "markdown",
   "metadata": {},
   "source": [
    "#### Significance through permutations"
   ]
  },
  {
   "cell_type": "code",
   "execution_count": 33,
   "metadata": {},
   "outputs": [
    {
     "name": "stdout",
     "output_type": "stream",
     "text": [
      "Total amount of mutations at the middle exon-centered sequences is 5598\n",
      "Observed at middle exons: 358\n",
      "Observed at flanking introns: 5113\n"
     ]
    }
   ],
   "source": [
    "k = 1\n",
    "middle_distance_threshold = 1000\n",
    "signatures_file = 'results/' + str(k) + 'mer_signatures_DNM_golden.txt'\n",
    "include = 'non_synonymous'\n",
    "\n",
    "(exons_centered_results, exonic_obs, intronic_obs) = stacked_sequence_level_permutation_excluding(mutations_df,\n",
    "                                    exons_coords_df, signatures_file, tumor_type, middle_distance_threshold,\n",
    "                                    k, include, tb_consequence_type, consequence_rank_dict)\n",
    "\n",
    "exons_centered_results = pd.DataFrame.transpose(exons_centered_results)\n",
    "exons_centered_results.to_csv(path.join('results', 'exons_centered_' + str(k) + 'mer_permut_' + include + '_golden.tsv'),\n",
    "                              sep=\"\\t\", header=True, index=False)"
   ]
  },
  {
   "cell_type": "code",
   "execution_count": 34,
   "metadata": {},
   "outputs": [
    {
     "data": {
      "text/html": [
       "<div>\n",
       "<style>\n",
       "    .dataframe thead tr:only-child th {\n",
       "        text-align: right;\n",
       "    }\n",
       "\n",
       "    .dataframe thead th {\n",
       "        text-align: left;\n",
       "    }\n",
       "\n",
       "    .dataframe tbody tr th {\n",
       "        vertical-align: top;\n",
       "    }\n",
       "</style>\n",
       "<table border=\"1\" class=\"dataframe\">\n",
       "  <thead>\n",
       "    <tr style=\"text-align: right;\">\n",
       "      <th></th>\n",
       "      <th>obs_exon_cnt</th>\n",
       "      <th>exp_exon_cnt</th>\n",
       "      <th>obs_intron_cnt</th>\n",
       "      <th>exp_intron_cnt</th>\n",
       "      <th>empirical_pvalue</th>\n",
       "    </tr>\n",
       "  </thead>\n",
       "  <tbody>\n",
       "    <tr>\n",
       "      <th>0</th>\n",
       "      <td>358</td>\n",
       "      <td>299.403</td>\n",
       "      <td>5113</td>\n",
       "      <td>5171.597</td>\n",
       "      <td>0.001</td>\n",
       "    </tr>\n",
       "  </tbody>\n",
       "</table>\n",
       "</div>"
      ],
      "text/plain": [
       "   obs_exon_cnt  exp_exon_cnt  obs_intron_cnt  exp_intron_cnt  \\\n",
       "0           358       299.403            5113        5171.597   \n",
       "\n",
       "   empirical_pvalue  \n",
       "0             0.001  "
      ]
     },
     "execution_count": 34,
     "metadata": {},
     "output_type": "execute_result"
    }
   ],
   "source": [
    "k = 1\n",
    "results = []\n",
    "RANDOMIZATION = 1000\n",
    "include = 'non_synonymous'\n",
    "    \n",
    "# Read the expected exon and intron mutation counts from permutations\n",
    "rand_output = pd.read_csv(path.join('results', 'exons_centered_' + str(k) + 'mer_permut_' + include + '_golden.tsv'), sep=\"\\t\")\n",
    "    \n",
    "# count the number of times the expected exon mutations is higher than the observed\n",
    "count = len(rand_output[rand_output['exon_Exp'] >= exonic_obs])\n",
    "    \n",
    "if count == 0:\n",
    "    count = 1 \n",
    "    \n",
    "results.append([exonic_obs, rand_output['exon_Exp'].mean(), intronic_obs, rand_output['intron_Exp'].mean(), count/RANDOMIZATION])\n",
    "    \n",
    "results_df = pd.DataFrame(results)\n",
    "results_df.columns = ['obs_exon_cnt', 'exp_exon_cnt','obs_intron_cnt', 'exp_intron_cnt', 'empirical_pvalue']\n",
    "results_df"
   ]
  },
  {
   "cell_type": "code",
   "execution_count": 35,
   "metadata": {},
   "outputs": [
    {
     "data": {
      "text/plain": [
       "0    19.57128\n",
       "dtype: float64"
      ]
     },
     "execution_count": 35,
     "metadata": {},
     "output_type": "execute_result"
    }
   ],
   "source": [
    "exonic_increase = (results_df[\"obs_exon_cnt\"]/results_df[\"exp_exon_cnt\"]-1)*100\n",
    "exonic_increase"
   ]
  },
  {
   "cell_type": "code",
   "execution_count": 36,
   "metadata": {},
   "outputs": [
    {
     "data": {
      "text/plain": [
       "(0    19.362319\n",
       " dtype: float64, 0    19.780241\n",
       " dtype: float64)"
      ]
     },
     "execution_count": 36,
     "metadata": {},
     "output_type": "execute_result"
    }
   ],
   "source": [
    "rand_output['increase'] = (exonic_obs/rand_output['exon_Exp']-1)*100\n",
    "error = (st.stdev(rand_output['increase'].tolist())/np.sqrt(1000))\n",
    "(exonic_increase-error, exonic_increase+error)"
   ]
  },
  {
   "cell_type": "markdown",
   "metadata": {},
   "source": [
    "### 1-mer context dependency, 9 classes with CpG, synonymous"
   ]
  },
  {
   "cell_type": "code",
   "execution_count": 37,
   "metadata": {},
   "outputs": [
    {
     "name": "stdout",
     "output_type": "stream",
     "text": [
      "The total amount of mutations at the middle exon-centered sequences is 5598\n",
      "The total amount of mutations at the exonic sequences are 494\n",
      "The category initiator_codon_variant is found 1 times.\n",
      "The category missense_variant is found 336 times.\n",
      "The category splice_region_variant is found 2 times.\n",
      "The category stop_gained is found 25 times.\n",
      "The category synonymous_variant is found 130 times.\n"
     ]
    }
   ],
   "source": [
    "k = 3\n",
    "middle_distance_threshold = 1000\n",
    "include = 'synonymous'\n",
    "signatures_file = 'results/CpG_signatures_DNM_golden.txt'\n",
    "\n",
    "exons_centered_results = obs_exp_muts_excluding_CpG(mutations_df, exons_coords_df, signatures_file, tumor_type, \n",
    "                            middle_distance_threshold, k, include, tb_consequence_type, consequence_rank_dict)\n",
    "\n",
    "exons_centered_results.to_csv('results/exons_centered_CpGmer_DNM_context_golden_' + str(include) + '.tsv', sep=\"\\t\", header=True, index=False)"
   ]
  },
  {
   "cell_type": "markdown",
   "metadata": {},
   "source": [
    "#### Significance through permutations"
   ]
  },
  {
   "cell_type": "code",
   "execution_count": 38,
   "metadata": {},
   "outputs": [
    {
     "name": "stdout",
     "output_type": "stream",
     "text": [
      "Total amount of mutations at the middle exon-centered sequences is 5598\n",
      "Observed at middle exons: 127\n",
      "Observed at flanking introns: 5113\n"
     ]
    }
   ],
   "source": [
    "k = 3\n",
    "middle_distance_threshold = 1000\n",
    "signatures_file = 'results/CpG_signatures_DNM_golden.txt'\n",
    "include = 'synonymous'\n",
    "\n",
    "(exons_centered_results, exonic_obs, intronic_obs) = stacked_sequence_level_permutation_excluding_CpG(mutations_df,\n",
    "                                    exons_coords_df, signatures_file, tumor_type, middle_distance_threshold,\n",
    "                                    k, include, tb_consequence_type, consequence_rank_dict)\n",
    "\n",
    "exons_centered_results = pd.DataFrame.transpose(exons_centered_results)\n",
    "exons_centered_results.to_csv(path.join('results', 'exons_centered_CpGmer_permut_' + include + '_golden.tsv'),\n",
    "                              sep=\"\\t\", header=True, index=False)"
   ]
  },
  {
   "cell_type": "code",
   "execution_count": 39,
   "metadata": {},
   "outputs": [
    {
     "data": {
      "text/html": [
       "<div>\n",
       "<style>\n",
       "    .dataframe thead tr:only-child th {\n",
       "        text-align: right;\n",
       "    }\n",
       "\n",
       "    .dataframe thead th {\n",
       "        text-align: left;\n",
       "    }\n",
       "\n",
       "    .dataframe tbody tr th {\n",
       "        vertical-align: top;\n",
       "    }\n",
       "</style>\n",
       "<table border=\"1\" class=\"dataframe\">\n",
       "  <thead>\n",
       "    <tr style=\"text-align: right;\">\n",
       "      <th></th>\n",
       "      <th>obs_exon_cnt</th>\n",
       "      <th>exp_exon_cnt</th>\n",
       "      <th>obs_intron_cnt</th>\n",
       "      <th>exp_intron_cnt</th>\n",
       "      <th>empirical_pvalue</th>\n",
       "    </tr>\n",
       "  </thead>\n",
       "  <tbody>\n",
       "    <tr>\n",
       "      <th>0</th>\n",
       "      <td>127</td>\n",
       "      <td>131.129</td>\n",
       "      <td>5113</td>\n",
       "      <td>5108.871</td>\n",
       "      <td>0.679</td>\n",
       "    </tr>\n",
       "  </tbody>\n",
       "</table>\n",
       "</div>"
      ],
      "text/plain": [
       "   obs_exon_cnt  exp_exon_cnt  obs_intron_cnt  exp_intron_cnt  \\\n",
       "0           127       131.129            5113        5108.871   \n",
       "\n",
       "   empirical_pvalue  \n",
       "0             0.679  "
      ]
     },
     "execution_count": 39,
     "metadata": {},
     "output_type": "execute_result"
    }
   ],
   "source": [
    "k = 3\n",
    "results = []\n",
    "RANDOMIZATION = 1000\n",
    "include = 'synonymous'\n",
    "    \n",
    "# Read the expected exon and intron mutation counts from permutations\n",
    "rand_output = pd.read_csv(path.join('results', 'exons_centered_CpGmer_permut_' + include + '_golden.tsv'), sep=\"\\t\")\n",
    "    \n",
    "# count the number of times the expected exon mutations is higher than the observed\n",
    "count = len(rand_output[rand_output['exon_Exp'] >= exonic_obs])\n",
    "    \n",
    "if count == 0:\n",
    "    count = 1 \n",
    "    \n",
    "results.append([exonic_obs, rand_output['exon_Exp'].mean(), intronic_obs, rand_output['intron_Exp'].mean(), count/RANDOMIZATION])\n",
    "    \n",
    "results_df = pd.DataFrame(results)\n",
    "results_df.columns = ['obs_exon_cnt', 'exp_exon_cnt','obs_intron_cnt', 'exp_intron_cnt', 'empirical_pvalue']\n",
    "results_df"
   ]
  },
  {
   "cell_type": "code",
   "execution_count": 40,
   "metadata": {},
   "outputs": [
    {
     "data": {
      "text/plain": [
       "0   -3.148808\n",
       "dtype: float64"
      ]
     },
     "execution_count": 40,
     "metadata": {},
     "output_type": "execute_result"
    }
   ],
   "source": [
    "exonic_increase = (results_df[\"obs_exon_cnt\"]/results_df[\"exp_exon_cnt\"]-1)*100\n",
    "exonic_increase"
   ]
  },
  {
   "cell_type": "code",
   "execution_count": 41,
   "metadata": {},
   "outputs": [
    {
     "data": {
      "text/plain": [
       "(0   -3.399596\n",
       " dtype: float64, 0   -2.898019\n",
       " dtype: float64)"
      ]
     },
     "execution_count": 41,
     "metadata": {},
     "output_type": "execute_result"
    }
   ],
   "source": [
    "rand_output['increase'] = (exonic_obs/rand_output['exon_Exp']-1)*100\n",
    "error = (st.stdev(rand_output['increase'].tolist())/np.sqrt(1000))\n",
    "(exonic_increase-error, exonic_increase+error)"
   ]
  },
  {
   "cell_type": "markdown",
   "metadata": {},
   "source": [
    "### 1-mer context dependency, 9 classes with CpG, non_synonymous"
   ]
  },
  {
   "cell_type": "code",
   "execution_count": 42,
   "metadata": {},
   "outputs": [
    {
     "name": "stdout",
     "output_type": "stream",
     "text": [
      "The total amount of mutations at the middle exon-centered sequences is 5598\n",
      "The total amount of mutations at the exonic sequences are 494\n",
      "The category initiator_codon_variant is found 1 times.\n",
      "The category missense_variant is found 336 times.\n",
      "The category splice_region_variant is found 2 times.\n",
      "The category stop_gained is found 25 times.\n",
      "The category synonymous_variant is found 130 times.\n"
     ]
    }
   ],
   "source": [
    "k = 3\n",
    "middle_distance_threshold = 1000\n",
    "include = 'non_synonymous'\n",
    "signatures_file = 'results/CpG_signatures_DNM_golden.txt'\n",
    "\n",
    "exons_centered_results = obs_exp_muts_excluding_CpG(mutations_df, exons_coords_df, signatures_file, tumor_type, \n",
    "                            middle_distance_threshold, k, include, tb_consequence_type, consequence_rank_dict)\n",
    "\n",
    "exons_centered_results.to_csv('results/exons_centered_CpGmer_DNM_context_golden_' + str(include) + '.tsv', sep=\"\\t\", header=True, index=False)"
   ]
  },
  {
   "cell_type": "markdown",
   "metadata": {},
   "source": [
    "#### Significance through permutations"
   ]
  },
  {
   "cell_type": "code",
   "execution_count": 43,
   "metadata": {},
   "outputs": [
    {
     "name": "stdout",
     "output_type": "stream",
     "text": [
      "Total amount of mutations at the middle exon-centered sequences is 5598\n",
      "Observed at middle exons: 358\n",
      "Observed at flanking introns: 5113\n"
     ]
    }
   ],
   "source": [
    "k = 3\n",
    "middle_distance_threshold = 1000\n",
    "signatures_file = 'results/CpG_signatures_DNM_golden.txt'\n",
    "include = 'non_synonymous'\n",
    "\n",
    "(exons_centered_results, exonic_obs, intronic_obs) = stacked_sequence_level_permutation_excluding_CpG(mutations_df,\n",
    "                                    exons_coords_df, signatures_file, tumor_type, middle_distance_threshold,\n",
    "                                    k, include, tb_consequence_type, consequence_rank_dict)\n",
    "\n",
    "exons_centered_results = pd.DataFrame.transpose(exons_centered_results)\n",
    "exons_centered_results.to_csv(path.join('results', 'exons_centered_CpGmer_permut_' + include + '_golden.tsv'),\n",
    "                              sep=\"\\t\", header=True, index=False)"
   ]
  },
  {
   "cell_type": "code",
   "execution_count": 44,
   "metadata": {},
   "outputs": [
    {
     "data": {
      "text/html": [
       "<div>\n",
       "<style>\n",
       "    .dataframe thead tr:only-child th {\n",
       "        text-align: right;\n",
       "    }\n",
       "\n",
       "    .dataframe thead th {\n",
       "        text-align: left;\n",
       "    }\n",
       "\n",
       "    .dataframe tbody tr th {\n",
       "        vertical-align: top;\n",
       "    }\n",
       "</style>\n",
       "<table border=\"1\" class=\"dataframe\">\n",
       "  <thead>\n",
       "    <tr style=\"text-align: right;\">\n",
       "      <th></th>\n",
       "      <th>obs_exon_cnt</th>\n",
       "      <th>exp_exon_cnt</th>\n",
       "      <th>obs_intron_cnt</th>\n",
       "      <th>exp_intron_cnt</th>\n",
       "      <th>empirical_pvalue</th>\n",
       "    </tr>\n",
       "  </thead>\n",
       "  <tbody>\n",
       "    <tr>\n",
       "      <th>0</th>\n",
       "      <td>358</td>\n",
       "      <td>346.288</td>\n",
       "      <td>5113</td>\n",
       "      <td>5124.712</td>\n",
       "      <td>0.26</td>\n",
       "    </tr>\n",
       "  </tbody>\n",
       "</table>\n",
       "</div>"
      ],
      "text/plain": [
       "   obs_exon_cnt  exp_exon_cnt  obs_intron_cnt  exp_intron_cnt  \\\n",
       "0           358       346.288            5113        5124.712   \n",
       "\n",
       "   empirical_pvalue  \n",
       "0              0.26  "
      ]
     },
     "execution_count": 44,
     "metadata": {},
     "output_type": "execute_result"
    }
   ],
   "source": [
    "k = 3\n",
    "results = []\n",
    "RANDOMIZATION = 1000\n",
    "include = 'non_synonymous'\n",
    "    \n",
    "# Read the expected exon and intron mutation counts from permutations\n",
    "rand_output = pd.read_csv(path.join('results', 'exons_centered_CpGmer_permut_' + include + '_golden.tsv'), sep=\"\\t\")\n",
    "    \n",
    "# count the number of times the expected exon mutations is higher than the observed\n",
    "count = len(rand_output[rand_output['exon_Exp'] >= exonic_obs])\n",
    "    \n",
    "if count == 0:\n",
    "    count = 1 \n",
    "    \n",
    "results.append([exonic_obs, rand_output['exon_Exp'].mean(), intronic_obs, rand_output['intron_Exp'].mean(), count/RANDOMIZATION])\n",
    "    \n",
    "results_df = pd.DataFrame(results)\n",
    "results_df.columns = ['obs_exon_cnt', 'exp_exon_cnt','obs_intron_cnt', 'exp_intron_cnt', 'empirical_pvalue']\n",
    "results_df"
   ]
  },
  {
   "cell_type": "code",
   "execution_count": 45,
   "metadata": {},
   "outputs": [
    {
     "data": {
      "text/plain": [
       "0    3.382156\n",
       "dtype: float64"
      ]
     },
     "execution_count": 45,
     "metadata": {},
     "output_type": "execute_result"
    }
   ],
   "source": [
    "exonic_increase = (results_df[\"obs_exon_cnt\"]/results_df[\"exp_exon_cnt\"]-1)*100\n",
    "exonic_increase"
   ]
  },
  {
   "cell_type": "code",
   "execution_count": 46,
   "metadata": {},
   "outputs": [
    {
     "data": {
      "text/plain": [
       "(0    3.215567\n",
       " dtype: float64, 0    3.548745\n",
       " dtype: float64)"
      ]
     },
     "execution_count": 46,
     "metadata": {},
     "output_type": "execute_result"
    }
   ],
   "source": [
    "rand_output['increase'] = (exonic_obs/rand_output['exon_Exp']-1)*100\n",
    "error = (st.stdev(rand_output['increase'].tolist())/np.sqrt(1000))\n",
    "(exonic_increase-error, exonic_increase+error)"
   ]
  },
  {
   "cell_type": "markdown",
   "metadata": {},
   "source": [
    "### 3-mer context dependency, synonymous"
   ]
  },
  {
   "cell_type": "code",
   "execution_count": 47,
   "metadata": {},
   "outputs": [
    {
     "name": "stdout",
     "output_type": "stream",
     "text": [
      "The total amount of mutations at the middle exon-centered sequences is 5598\n",
      "The total amount of mutations at the exonic sequences are 494\n",
      "The category initiator_codon_variant is found 1 times.\n",
      "The category missense_variant is found 336 times.\n",
      "The category splice_region_variant is found 2 times.\n",
      "The category stop_gained is found 25 times.\n",
      "The category synonymous_variant is found 130 times.\n"
     ]
    }
   ],
   "source": [
    "k = 3\n",
    "middle_distance_threshold = 1000\n",
    "include = 'synonymous'\n",
    "signatures_file = 'results/' + str(k) + 'mer_signatures_DNM_golden.txt'\n",
    "\n",
    "exons_centered_results = obs_exp_muts_excluding_kmer(mutations_df, exons_coords_df, signatures_file, tumor_type, \n",
    "                            middle_distance_threshold, k, include, tb_consequence_type, consequence_rank_dict)\n",
    "\n",
    "exons_centered_results.to_csv('results/exons_centered_' + str(k) + 'mer_DNM_context_golden_' + str(include) + '.tsv', sep=\"\\t\", header=True, index=False)"
   ]
  },
  {
   "cell_type": "markdown",
   "metadata": {},
   "source": [
    "#### Significance through permutations"
   ]
  },
  {
   "cell_type": "code",
   "execution_count": 48,
   "metadata": {},
   "outputs": [
    {
     "name": "stdout",
     "output_type": "stream",
     "text": [
      "Total amount of mutations at the middle exon-centered sequences is 5598\n",
      "Observed at middle exons: 127\n",
      "Observed at flanking introns: 5113\n"
     ]
    }
   ],
   "source": [
    "k = 3\n",
    "middle_distance_threshold = 1000\n",
    "signatures_file = 'results/' + str(k) + 'mer_signatures_DNM_golden.txt'\n",
    "include = 'synonymous'\n",
    "\n",
    "(exons_centered_results, exonic_obs, intronic_obs) = stacked_sequence_level_permutation_excluding(mutations_df,\n",
    "                                    exons_coords_df, signatures_file, tumor_type, middle_distance_threshold,\n",
    "                                    k, include, tb_consequence_type, consequence_rank_dict)\n",
    "\n",
    "exons_centered_results = pd.DataFrame.transpose(exons_centered_results)\n",
    "exons_centered_results.to_csv(path.join('results', 'exons_centered_' + str(k) + 'mer_permut_' + include + '_golden.tsv'),\n",
    "                              sep=\"\\t\", header=True, index=False)"
   ]
  },
  {
   "cell_type": "code",
   "execution_count": 49,
   "metadata": {},
   "outputs": [
    {
     "data": {
      "text/html": [
       "<div>\n",
       "<style>\n",
       "    .dataframe thead tr:only-child th {\n",
       "        text-align: right;\n",
       "    }\n",
       "\n",
       "    .dataframe thead th {\n",
       "        text-align: left;\n",
       "    }\n",
       "\n",
       "    .dataframe tbody tr th {\n",
       "        vertical-align: top;\n",
       "    }\n",
       "</style>\n",
       "<table border=\"1\" class=\"dataframe\">\n",
       "  <thead>\n",
       "    <tr style=\"text-align: right;\">\n",
       "      <th></th>\n",
       "      <th>obs_exon_cnt</th>\n",
       "      <th>exp_exon_cnt</th>\n",
       "      <th>obs_intron_cnt</th>\n",
       "      <th>exp_intron_cnt</th>\n",
       "      <th>empirical_pvalue</th>\n",
       "    </tr>\n",
       "  </thead>\n",
       "  <tbody>\n",
       "    <tr>\n",
       "      <th>0</th>\n",
       "      <td>127</td>\n",
       "      <td>130.631</td>\n",
       "      <td>5113</td>\n",
       "      <td>5109.369</td>\n",
       "      <td>0.644</td>\n",
       "    </tr>\n",
       "  </tbody>\n",
       "</table>\n",
       "</div>"
      ],
      "text/plain": [
       "   obs_exon_cnt  exp_exon_cnt  obs_intron_cnt  exp_intron_cnt  \\\n",
       "0           127       130.631            5113        5109.369   \n",
       "\n",
       "   empirical_pvalue  \n",
       "0             0.644  "
      ]
     },
     "execution_count": 49,
     "metadata": {},
     "output_type": "execute_result"
    }
   ],
   "source": [
    "k = 3\n",
    "results = []\n",
    "RANDOMIZATION = 1000\n",
    "include = 'synonymous'\n",
    "    \n",
    "# Read the expected exon and intron mutation counts from permutations\n",
    "rand_output = pd.read_csv(path.join('results', 'exons_centered_' + str(k) + 'mer_permut_' + include + '_golden.tsv'), sep=\"\\t\")\n",
    "    \n",
    "# count the number of times the expected exon mutations is higher than the observed\n",
    "count = len(rand_output[rand_output['exon_Exp'] >= exonic_obs])\n",
    "    \n",
    "if count == 0:\n",
    "    count = 1 \n",
    "    \n",
    "results.append([exonic_obs, rand_output['exon_Exp'].mean(), intronic_obs, rand_output['intron_Exp'].mean(), count/RANDOMIZATION])\n",
    "    \n",
    "results_df = pd.DataFrame(results)\n",
    "results_df.columns = ['obs_exon_cnt', 'exp_exon_cnt','obs_intron_cnt', 'exp_intron_cnt', 'empirical_pvalue']\n",
    "results_df"
   ]
  },
  {
   "cell_type": "code",
   "execution_count": 50,
   "metadata": {},
   "outputs": [
    {
     "data": {
      "text/plain": [
       "0   -2.779585\n",
       "dtype: float64"
      ]
     },
     "execution_count": 50,
     "metadata": {},
     "output_type": "execute_result"
    }
   ],
   "source": [
    "exonic_increase = (results_df[\"obs_exon_cnt\"]/results_df[\"exp_exon_cnt\"]-1)*100\n",
    "exonic_increase"
   ]
  },
  {
   "cell_type": "code",
   "execution_count": 51,
   "metadata": {},
   "outputs": [
    {
     "data": {
      "text/plain": [
       "(0   -3.05383\n",
       " dtype: float64, 0   -2.50534\n",
       " dtype: float64)"
      ]
     },
     "execution_count": 51,
     "metadata": {},
     "output_type": "execute_result"
    }
   ],
   "source": [
    "rand_output['increase'] = (exonic_obs/rand_output['exon_Exp']-1)*100\n",
    "error = (st.stdev(rand_output['increase'].tolist())/np.sqrt(1000))\n",
    "(exonic_increase-error, exonic_increase+error)"
   ]
  },
  {
   "cell_type": "markdown",
   "metadata": {},
   "source": [
    "### 3-mer context dependency, non_synonymous"
   ]
  },
  {
   "cell_type": "code",
   "execution_count": 52,
   "metadata": {},
   "outputs": [
    {
     "name": "stdout",
     "output_type": "stream",
     "text": [
      "The total amount of mutations at the middle exon-centered sequences is 5598\n",
      "The total amount of mutations at the exonic sequences are 494\n",
      "The category initiator_codon_variant is found 1 times.\n",
      "The category missense_variant is found 336 times.\n",
      "The category splice_region_variant is found 2 times.\n",
      "The category stop_gained is found 25 times.\n",
      "The category synonymous_variant is found 130 times.\n"
     ]
    }
   ],
   "source": [
    "k = 3\n",
    "middle_distance_threshold = 1000\n",
    "include = 'non_synonymous'\n",
    "signatures_file = 'results/' + str(k) + 'mer_signatures_DNM_golden.txt'\n",
    "\n",
    "exons_centered_results = obs_exp_muts_excluding_kmer(mutations_df, exons_coords_df, signatures_file, tumor_type, \n",
    "                            middle_distance_threshold, k, include, tb_consequence_type, consequence_rank_dict)\n",
    "\n",
    "exons_centered_results.to_csv('results/exons_centered_' + str(k) + 'mer_DNM_context_golden_' + str(include) + '.tsv', sep=\"\\t\", header=True, index=False)"
   ]
  },
  {
   "cell_type": "markdown",
   "metadata": {},
   "source": [
    "#### Significance through permutations"
   ]
  },
  {
   "cell_type": "code",
   "execution_count": 53,
   "metadata": {},
   "outputs": [
    {
     "name": "stdout",
     "output_type": "stream",
     "text": [
      "Total amount of mutations at the middle exon-centered sequences is 5598\n",
      "Observed at middle exons: 358\n",
      "Observed at flanking introns: 5113\n"
     ]
    }
   ],
   "source": [
    "k = 3\n",
    "middle_distance_threshold = 1000\n",
    "signatures_file = 'results/' + str(k) + 'mer_signatures_DNM_golden.txt'\n",
    "include = 'non_synonymous'\n",
    "\n",
    "(exons_centered_results, exonic_obs, intronic_obs) = stacked_sequence_level_permutation_excluding(mutations_df,\n",
    "                                    exons_coords_df, signatures_file, tumor_type, middle_distance_threshold,\n",
    "                                    k, include, tb_consequence_type, consequence_rank_dict)\n",
    "\n",
    "exons_centered_results = pd.DataFrame.transpose(exons_centered_results)\n",
    "exons_centered_results.to_csv(path.join('results', 'exons_centered_' + str(k) + 'mer_permut_' + include + '_golden.tsv'),\n",
    "                              sep=\"\\t\", header=True, index=False)"
   ]
  },
  {
   "cell_type": "code",
   "execution_count": 54,
   "metadata": {},
   "outputs": [
    {
     "data": {
      "text/html": [
       "<div>\n",
       "<style>\n",
       "    .dataframe thead tr:only-child th {\n",
       "        text-align: right;\n",
       "    }\n",
       "\n",
       "    .dataframe thead th {\n",
       "        text-align: left;\n",
       "    }\n",
       "\n",
       "    .dataframe tbody tr th {\n",
       "        vertical-align: top;\n",
       "    }\n",
       "</style>\n",
       "<table border=\"1\" class=\"dataframe\">\n",
       "  <thead>\n",
       "    <tr style=\"text-align: right;\">\n",
       "      <th></th>\n",
       "      <th>obs_exon_cnt</th>\n",
       "      <th>exp_exon_cnt</th>\n",
       "      <th>obs_intron_cnt</th>\n",
       "      <th>exp_intron_cnt</th>\n",
       "      <th>empirical_pvalue</th>\n",
       "    </tr>\n",
       "  </thead>\n",
       "  <tbody>\n",
       "    <tr>\n",
       "      <th>0</th>\n",
       "      <td>358</td>\n",
       "      <td>343.417</td>\n",
       "      <td>5113</td>\n",
       "      <td>5127.583</td>\n",
       "      <td>0.201</td>\n",
       "    </tr>\n",
       "  </tbody>\n",
       "</table>\n",
       "</div>"
      ],
      "text/plain": [
       "   obs_exon_cnt  exp_exon_cnt  obs_intron_cnt  exp_intron_cnt  \\\n",
       "0           358       343.417            5113        5127.583   \n",
       "\n",
       "   empirical_pvalue  \n",
       "0             0.201  "
      ]
     },
     "execution_count": 54,
     "metadata": {},
     "output_type": "execute_result"
    }
   ],
   "source": [
    "k = 3\n",
    "results = []\n",
    "RANDOMIZATION = 1000\n",
    "include = 'non_synonymous'\n",
    "    \n",
    "# Read the expected exon and intron mutation counts from permutations\n",
    "rand_output = pd.read_csv(path.join('results', 'exons_centered_' + str(k) + 'mer_permut_' + include + '_golden.tsv'), sep=\"\\t\")\n",
    "    \n",
    "# count the number of times the expected exon mutations is higher than the observed\n",
    "count = len(rand_output[rand_output['exon_Exp'] >= exonic_obs])\n",
    "    \n",
    "if count == 0:\n",
    "    count = 1 \n",
    "    \n",
    "results.append([exonic_obs, rand_output['exon_Exp'].mean(), intronic_obs, rand_output['intron_Exp'].mean(), count/RANDOMIZATION])\n",
    "    \n",
    "results_df = pd.DataFrame(results)\n",
    "results_df.columns = ['obs_exon_cnt', 'exp_exon_cnt','obs_intron_cnt', 'exp_intron_cnt', 'empirical_pvalue']\n",
    "results_df"
   ]
  },
  {
   "cell_type": "code",
   "execution_count": 55,
   "metadata": {},
   "outputs": [
    {
     "data": {
      "text/plain": [
       "0    4.246441\n",
       "dtype: float64"
      ]
     },
     "execution_count": 55,
     "metadata": {},
     "output_type": "execute_result"
    }
   ],
   "source": [
    "exonic_increase = (results_df[\"obs_exon_cnt\"]/results_df[\"exp_exon_cnt\"]-1)*100\n",
    "exonic_increase"
   ]
  },
  {
   "cell_type": "code",
   "execution_count": 56,
   "metadata": {},
   "outputs": [
    {
     "data": {
      "text/plain": [
       "(0    4.080358\n",
       " dtype: float64, 0    4.412524\n",
       " dtype: float64)"
      ]
     },
     "execution_count": 56,
     "metadata": {},
     "output_type": "execute_result"
    }
   ],
   "source": [
    "rand_output['increase'] = (exonic_obs/rand_output['exon_Exp']-1)*100\n",
    "error = (st.stdev(rand_output['increase'].tolist())/np.sqrt(1000))\n",
    "(exonic_increase-error, exonic_increase+error)"
   ]
  },
  {
   "cell_type": "markdown",
   "metadata": {},
   "source": [
    "### 5-mer context dependency, synonymous"
   ]
  },
  {
   "cell_type": "code",
   "execution_count": 57,
   "metadata": {},
   "outputs": [
    {
     "name": "stdout",
     "output_type": "stream",
     "text": [
      "The total amount of mutations at the middle exon-centered sequences is 5598\n",
      "The total amount of mutations at the exonic sequences are 494\n",
      "The category initiator_codon_variant is found 1 times.\n",
      "The category missense_variant is found 336 times.\n",
      "The category splice_region_variant is found 2 times.\n",
      "The category stop_gained is found 25 times.\n",
      "The category synonymous_variant is found 130 times.\n"
     ]
    }
   ],
   "source": [
    "k = 5\n",
    "middle_distance_threshold = 1000\n",
    "include = 'synonymous'\n",
    "signatures_file = 'results/' + str(k) + 'mer_DNM_signatures_decomp_golden.txt'\n",
    "\n",
    "exons_centered_results = obs_exp_muts_excluding_kmer(mutations_df, exons_coords_df, signatures_file, tumor_type, \n",
    "                            middle_distance_threshold, k, include, tb_consequence_type, consequence_rank_dict)\n",
    "\n",
    "exons_centered_results.to_csv('results/exons_centered_' + str(k) + 'mer_DNM_context_golden_' + str(include) + '.tsv', sep=\"\\t\", header=True, index=False)"
   ]
  },
  {
   "cell_type": "markdown",
   "metadata": {},
   "source": [
    "#### Significance through permutations"
   ]
  },
  {
   "cell_type": "code",
   "execution_count": 58,
   "metadata": {},
   "outputs": [
    {
     "name": "stdout",
     "output_type": "stream",
     "text": [
      "Total amount of mutations at the middle exon-centered sequences is 5598\n",
      "Observed at middle exons: 127\n",
      "Observed at flanking introns: 5113\n"
     ]
    }
   ],
   "source": [
    "k = 5\n",
    "middle_distance_threshold = 1000\n",
    "signatures_file = 'results/' + str(k) + 'mer_DNM_signatures_decomp_golden.txt'\n",
    "include = 'synonymous'\n",
    "\n",
    "(exons_centered_results, exonic_obs, intronic_obs) = stacked_sequence_level_permutation_excluding(mutations_df,\n",
    "                                    exons_coords_df, signatures_file, tumor_type, middle_distance_threshold,\n",
    "                                    k, include, tb_consequence_type, consequence_rank_dict)\n",
    "\n",
    "exons_centered_results = pd.DataFrame.transpose(exons_centered_results)\n",
    "exons_centered_results.to_csv(path.join('results', 'exons_centered_' + str(k) + 'mer_permut_' + include + '_golden.tsv'),\n",
    "                              sep=\"\\t\", header=True, index=False)"
   ]
  },
  {
   "cell_type": "code",
   "execution_count": 59,
   "metadata": {},
   "outputs": [
    {
     "data": {
      "text/html": [
       "<div>\n",
       "<style>\n",
       "    .dataframe thead tr:only-child th {\n",
       "        text-align: right;\n",
       "    }\n",
       "\n",
       "    .dataframe thead th {\n",
       "        text-align: left;\n",
       "    }\n",
       "\n",
       "    .dataframe tbody tr th {\n",
       "        vertical-align: top;\n",
       "    }\n",
       "</style>\n",
       "<table border=\"1\" class=\"dataframe\">\n",
       "  <thead>\n",
       "    <tr style=\"text-align: right;\">\n",
       "      <th></th>\n",
       "      <th>obs_exon_cnt</th>\n",
       "      <th>exp_exon_cnt</th>\n",
       "      <th>obs_intron_cnt</th>\n",
       "      <th>exp_intron_cnt</th>\n",
       "      <th>empirical_pvalue</th>\n",
       "    </tr>\n",
       "  </thead>\n",
       "  <tbody>\n",
       "    <tr>\n",
       "      <th>0</th>\n",
       "      <td>127</td>\n",
       "      <td>129.603</td>\n",
       "      <td>5113</td>\n",
       "      <td>5110.397</td>\n",
       "      <td>0.595</td>\n",
       "    </tr>\n",
       "  </tbody>\n",
       "</table>\n",
       "</div>"
      ],
      "text/plain": [
       "   obs_exon_cnt  exp_exon_cnt  obs_intron_cnt  exp_intron_cnt  \\\n",
       "0           127       129.603            5113        5110.397   \n",
       "\n",
       "   empirical_pvalue  \n",
       "0             0.595  "
      ]
     },
     "execution_count": 59,
     "metadata": {},
     "output_type": "execute_result"
    }
   ],
   "source": [
    "k = 5\n",
    "results = []\n",
    "RANDOMIZATION = 1000\n",
    "include = 'synonymous'\n",
    "    \n",
    "# Read the expected exon and intron mutation counts from permutations\n",
    "rand_output = pd.read_csv(path.join('results', 'exons_centered_' + str(k) + 'mer_permut_' + include + '_golden.tsv'), sep=\"\\t\")\n",
    "    \n",
    "# count the number of times the expected exon mutations is higher than the observed\n",
    "count = len(rand_output[rand_output['exon_Exp'] >= exonic_obs])\n",
    "    \n",
    "if count == 0:\n",
    "    count = 1 \n",
    "    \n",
    "results.append([exonic_obs, rand_output['exon_Exp'].mean(), intronic_obs, rand_output['intron_Exp'].mean(), count/RANDOMIZATION])\n",
    "    \n",
    "results_df = pd.DataFrame(results)\n",
    "results_df.columns = ['obs_exon_cnt', 'exp_exon_cnt','obs_intron_cnt', 'exp_intron_cnt', 'empirical_pvalue']\n",
    "results_df"
   ]
  },
  {
   "cell_type": "code",
   "execution_count": 60,
   "metadata": {},
   "outputs": [
    {
     "data": {
      "text/plain": [
       "0   -2.008441\n",
       "dtype: float64"
      ]
     },
     "execution_count": 60,
     "metadata": {},
     "output_type": "execute_result"
    }
   ],
   "source": [
    "exonic_increase = (results_df[\"obs_exon_cnt\"]/results_df[\"exp_exon_cnt\"]-1)*100\n",
    "exonic_increase"
   ]
  },
  {
   "cell_type": "code",
   "execution_count": 61,
   "metadata": {},
   "outputs": [
    {
     "data": {
      "text/plain": [
       "(0   -2.276826\n",
       " dtype: float64, 0   -1.740057\n",
       " dtype: float64)"
      ]
     },
     "execution_count": 61,
     "metadata": {},
     "output_type": "execute_result"
    }
   ],
   "source": [
    "rand_output['increase'] = (exonic_obs/rand_output['exon_Exp']-1)*100\n",
    "error = (st.stdev(rand_output['increase'].tolist())/np.sqrt(1000))\n",
    "(exonic_increase-error, exonic_increase+error)"
   ]
  },
  {
   "cell_type": "markdown",
   "metadata": {},
   "source": [
    "### 5-mer context dependency, non_synonymous"
   ]
  },
  {
   "cell_type": "code",
   "execution_count": 62,
   "metadata": {},
   "outputs": [
    {
     "name": "stdout",
     "output_type": "stream",
     "text": [
      "The total amount of mutations at the middle exon-centered sequences is 5598\n",
      "The total amount of mutations at the exonic sequences are 494\n",
      "The category initiator_codon_variant is found 1 times.\n",
      "The category missense_variant is found 336 times.\n",
      "The category splice_region_variant is found 2 times.\n",
      "The category stop_gained is found 25 times.\n",
      "The category synonymous_variant is found 130 times.\n"
     ]
    }
   ],
   "source": [
    "k = 5\n",
    "middle_distance_threshold = 1000\n",
    "include = 'non_synonymous'\n",
    "signatures_file = 'results/' + str(k) + 'mer_DNM_signatures_decomp_golden.txt'\n",
    "\n",
    "exons_centered_results = obs_exp_muts_excluding_kmer(mutations_df, exons_coords_df, signatures_file, tumor_type, \n",
    "                            middle_distance_threshold, k, include, tb_consequence_type, consequence_rank_dict)\n",
    "\n",
    "exons_centered_results.to_csv('results/exons_centered_' + str(k) + 'mer_DNM_context_golden_' + str(include) + '.tsv', sep=\"\\t\", header=True, index=False)"
   ]
  },
  {
   "cell_type": "markdown",
   "metadata": {},
   "source": [
    "#### Significance through permutations"
   ]
  },
  {
   "cell_type": "code",
   "execution_count": 63,
   "metadata": {},
   "outputs": [
    {
     "name": "stdout",
     "output_type": "stream",
     "text": [
      "Total amount of mutations at the middle exon-centered sequences is 5598\n",
      "Observed at middle exons: 358\n",
      "Observed at flanking introns: 5113\n"
     ]
    }
   ],
   "source": [
    "k = 5\n",
    "middle_distance_threshold = 1000\n",
    "signatures_file = 'results/' + str(k) + 'mer_DNM_signatures_decomp_golden.txt'\n",
    "include = 'non_synonymous'\n",
    "\n",
    "(exons_centered_results, exonic_obs, intronic_obs) = stacked_sequence_level_permutation_excluding(mutations_df,\n",
    "                                    exons_coords_df, signatures_file, tumor_type, middle_distance_threshold,\n",
    "                                    k, include, tb_consequence_type, consequence_rank_dict)\n",
    "\n",
    "exons_centered_results = pd.DataFrame.transpose(exons_centered_results)\n",
    "exons_centered_results.to_csv(path.join('results', 'exons_centered_' + str(k) + 'mer_permut_' + include + '_golden.tsv'),\n",
    "                              sep=\"\\t\", header=True, index=False)"
   ]
  },
  {
   "cell_type": "code",
   "execution_count": 64,
   "metadata": {},
   "outputs": [
    {
     "data": {
      "text/html": [
       "<div>\n",
       "<style>\n",
       "    .dataframe thead tr:only-child th {\n",
       "        text-align: right;\n",
       "    }\n",
       "\n",
       "    .dataframe thead th {\n",
       "        text-align: left;\n",
       "    }\n",
       "\n",
       "    .dataframe tbody tr th {\n",
       "        vertical-align: top;\n",
       "    }\n",
       "</style>\n",
       "<table border=\"1\" class=\"dataframe\">\n",
       "  <thead>\n",
       "    <tr style=\"text-align: right;\">\n",
       "      <th></th>\n",
       "      <th>obs_exon_cnt</th>\n",
       "      <th>exp_exon_cnt</th>\n",
       "      <th>obs_intron_cnt</th>\n",
       "      <th>exp_intron_cnt</th>\n",
       "      <th>empirical_pvalue</th>\n",
       "    </tr>\n",
       "  </thead>\n",
       "  <tbody>\n",
       "    <tr>\n",
       "      <th>0</th>\n",
       "      <td>358</td>\n",
       "      <td>342.903</td>\n",
       "      <td>5113</td>\n",
       "      <td>5128.097</td>\n",
       "      <td>0.193</td>\n",
       "    </tr>\n",
       "  </tbody>\n",
       "</table>\n",
       "</div>"
      ],
      "text/plain": [
       "   obs_exon_cnt  exp_exon_cnt  obs_intron_cnt  exp_intron_cnt  \\\n",
       "0           358       342.903            5113        5128.097   \n",
       "\n",
       "   empirical_pvalue  \n",
       "0             0.193  "
      ]
     },
     "execution_count": 64,
     "metadata": {},
     "output_type": "execute_result"
    }
   ],
   "source": [
    "k = 5\n",
    "results = []\n",
    "RANDOMIZATION = 1000\n",
    "include = 'non_synonymous'\n",
    "    \n",
    "# Read the expected exon and intron mutation counts from permutations\n",
    "rand_output = pd.read_csv(path.join('results', 'exons_centered_' + str(k) + 'mer_permut_' + include + '_golden.tsv'), sep=\"\\t\")\n",
    "    \n",
    "# count the number of times the expected exon mutations is higher than the observed\n",
    "count = len(rand_output[rand_output['exon_Exp'] >= exonic_obs])\n",
    "    \n",
    "if count == 0:\n",
    "    count = 1 \n",
    "    \n",
    "results.append([exonic_obs, rand_output['exon_Exp'].mean(), intronic_obs, rand_output['intron_Exp'].mean(), count/RANDOMIZATION])\n",
    "    \n",
    "results_df = pd.DataFrame(results)\n",
    "results_df.columns = ['obs_exon_cnt', 'exp_exon_cnt','obs_intron_cnt', 'exp_intron_cnt', 'empirical_pvalue']\n",
    "results_df"
   ]
  },
  {
   "cell_type": "code",
   "execution_count": 65,
   "metadata": {},
   "outputs": [
    {
     "data": {
      "text/plain": [
       "0    4.402703\n",
       "dtype: float64"
      ]
     },
     "execution_count": 65,
     "metadata": {},
     "output_type": "execute_result"
    }
   ],
   "source": [
    "exonic_increase = (results_df[\"obs_exon_cnt\"]/results_df[\"exp_exon_cnt\"]-1)*100\n",
    "exonic_increase"
   ]
  },
  {
   "cell_type": "code",
   "execution_count": 66,
   "metadata": {},
   "outputs": [
    {
     "data": {
      "text/plain": [
       "(0    4.233248\n",
       " dtype: float64, 0    4.572158\n",
       " dtype: float64)"
      ]
     },
     "execution_count": 66,
     "metadata": {},
     "output_type": "execute_result"
    }
   ],
   "source": [
    "rand_output['increase'] = (exonic_obs/rand_output['exon_Exp']-1)*100\n",
    "error = (st.stdev(rand_output['increase'].tolist())/np.sqrt(1000))\n",
    "(exonic_increase-error, exonic_increase+error)"
   ]
  },
  {
   "cell_type": "markdown",
   "metadata": {},
   "source": [
    "### 7-mer context dependency, synonymous"
   ]
  },
  {
   "cell_type": "code",
   "execution_count": 67,
   "metadata": {},
   "outputs": [
    {
     "name": "stdout",
     "output_type": "stream",
     "text": [
      "The total amount of mutations at the middle exon-centered sequences is 5598\n",
      "The total amount of mutations at the exonic sequences are 494\n",
      "The category initiator_codon_variant is found 1 times.\n",
      "The category missense_variant is found 336 times.\n",
      "The category splice_region_variant is found 2 times.\n",
      "The category stop_gained is found 25 times.\n",
      "The category synonymous_variant is found 130 times.\n"
     ]
    }
   ],
   "source": [
    "k = 7\n",
    "middle_distance_threshold = 1000\n",
    "include = 'synonymous'\n",
    "signatures_file = 'results/' + str(k) + 'mer_DNM_signatures_decomp_golden.txt'\n",
    "\n",
    "exons_centered_results = obs_exp_muts_excluding_kmer(mutations_df, exons_coords_df, signatures_file, tumor_type, \n",
    "                            middle_distance_threshold, k, include, tb_consequence_type, consequence_rank_dict)\n",
    "\n",
    "exons_centered_results.to_csv('results/exons_centered_' + str(k) + 'mer_DNM_context_golden_' + str(include) + '.tsv', sep=\"\\t\", header=True, index=False)"
   ]
  },
  {
   "cell_type": "markdown",
   "metadata": {},
   "source": [
    "#### Significance through permutations"
   ]
  },
  {
   "cell_type": "code",
   "execution_count": 68,
   "metadata": {},
   "outputs": [
    {
     "name": "stdout",
     "output_type": "stream",
     "text": [
      "Total amount of mutations at the middle exon-centered sequences is 5598\n",
      "Observed at middle exons: 127\n",
      "Observed at flanking introns: 5113\n"
     ]
    }
   ],
   "source": [
    "k = 7\n",
    "middle_distance_threshold = 1000\n",
    "signatures_file = 'results/' + str(k) + 'mer_DNM_signatures_decomp_golden.txt'\n",
    "include = 'synonymous'\n",
    "\n",
    "(exons_centered_results, exonic_obs, intronic_obs) = stacked_sequence_level_permutation_excluding(mutations_df,\n",
    "                                    exons_coords_df, signatures_file, tumor_type, middle_distance_threshold,\n",
    "                                    k, include, tb_consequence_type, consequence_rank_dict)\n",
    "\n",
    "exons_centered_results = pd.DataFrame.transpose(exons_centered_results)\n",
    "exons_centered_results.to_csv(path.join('results', 'exons_centered_' + str(k) + 'mer_permut_' + include + '_golden.tsv'),\n",
    "                              sep=\"\\t\", header=True, index=False)"
   ]
  },
  {
   "cell_type": "code",
   "execution_count": 69,
   "metadata": {},
   "outputs": [
    {
     "data": {
      "text/html": [
       "<div>\n",
       "<style>\n",
       "    .dataframe thead tr:only-child th {\n",
       "        text-align: right;\n",
       "    }\n",
       "\n",
       "    .dataframe thead th {\n",
       "        text-align: left;\n",
       "    }\n",
       "\n",
       "    .dataframe tbody tr th {\n",
       "        vertical-align: top;\n",
       "    }\n",
       "</style>\n",
       "<table border=\"1\" class=\"dataframe\">\n",
       "  <thead>\n",
       "    <tr style=\"text-align: right;\">\n",
       "      <th></th>\n",
       "      <th>obs_exon_cnt</th>\n",
       "      <th>exp_exon_cnt</th>\n",
       "      <th>obs_intron_cnt</th>\n",
       "      <th>exp_intron_cnt</th>\n",
       "      <th>empirical_pvalue</th>\n",
       "    </tr>\n",
       "  </thead>\n",
       "  <tbody>\n",
       "    <tr>\n",
       "      <th>0</th>\n",
       "      <td>127</td>\n",
       "      <td>126.673</td>\n",
       "      <td>5113</td>\n",
       "      <td>5113.327</td>\n",
       "      <td>0.5</td>\n",
       "    </tr>\n",
       "  </tbody>\n",
       "</table>\n",
       "</div>"
      ],
      "text/plain": [
       "   obs_exon_cnt  exp_exon_cnt  obs_intron_cnt  exp_intron_cnt  \\\n",
       "0           127       126.673            5113        5113.327   \n",
       "\n",
       "   empirical_pvalue  \n",
       "0               0.5  "
      ]
     },
     "execution_count": 69,
     "metadata": {},
     "output_type": "execute_result"
    }
   ],
   "source": [
    "k = 7\n",
    "results = []\n",
    "RANDOMIZATION = 1000\n",
    "include = 'synonymous'\n",
    "    \n",
    "# Read the expected exon and intron mutation counts from permutations\n",
    "rand_output = pd.read_csv(path.join('results', 'exons_centered_' + str(k) + 'mer_permut_' + include + '_golden.tsv'), sep=\"\\t\")\n",
    "    \n",
    "# count the number of times the expected exon mutations is higher than the observed\n",
    "count = len(rand_output[rand_output['exon_Exp'] >= exonic_obs])\n",
    "    \n",
    "if count == 0:\n",
    "    count = 1 \n",
    "    \n",
    "results.append([exonic_obs, rand_output['exon_Exp'].mean(), intronic_obs, rand_output['intron_Exp'].mean(), count/RANDOMIZATION])\n",
    "    \n",
    "results_df = pd.DataFrame(results)\n",
    "results_df.columns = ['obs_exon_cnt', 'exp_exon_cnt','obs_intron_cnt', 'exp_intron_cnt', 'empirical_pvalue']\n",
    "results_df"
   ]
  },
  {
   "cell_type": "code",
   "execution_count": 70,
   "metadata": {},
   "outputs": [
    {
     "data": {
      "text/plain": [
       "0    0.258145\n",
       "dtype: float64"
      ]
     },
     "execution_count": 70,
     "metadata": {},
     "output_type": "execute_result"
    }
   ],
   "source": [
    "exonic_increase = (results_df[\"obs_exon_cnt\"]/results_df[\"exp_exon_cnt\"]-1)*100\n",
    "exonic_increase"
   ]
  },
  {
   "cell_type": "code",
   "execution_count": 71,
   "metadata": {},
   "outputs": [
    {
     "data": {
      "text/plain": [
       "(0   -0.018615\n",
       " dtype: float64, 0    0.534905\n",
       " dtype: float64)"
      ]
     },
     "execution_count": 71,
     "metadata": {},
     "output_type": "execute_result"
    }
   ],
   "source": [
    "rand_output['increase'] = (exonic_obs/rand_output['exon_Exp']-1)*100\n",
    "error = (st.stdev(rand_output['increase'].tolist())/np.sqrt(1000))\n",
    "(exonic_increase-error, exonic_increase+error)"
   ]
  },
  {
   "cell_type": "markdown",
   "metadata": {},
   "source": [
    "### 7-mer context dependency, non_synonymous"
   ]
  },
  {
   "cell_type": "code",
   "execution_count": 72,
   "metadata": {},
   "outputs": [
    {
     "name": "stdout",
     "output_type": "stream",
     "text": [
      "The total amount of mutations at the middle exon-centered sequences is 5598\n",
      "The total amount of mutations at the exonic sequences are 494\n",
      "The category initiator_codon_variant is found 1 times.\n",
      "The category missense_variant is found 336 times.\n",
      "The category splice_region_variant is found 2 times.\n",
      "The category stop_gained is found 25 times.\n",
      "The category synonymous_variant is found 130 times.\n"
     ]
    }
   ],
   "source": [
    "k = 7\n",
    "middle_distance_threshold = 1000\n",
    "include = 'non_synonymous'\n",
    "signatures_file = 'results/' + str(k) + 'mer_DNM_signatures_decomp_golden.txt'\n",
    "\n",
    "exons_centered_results = obs_exp_muts_excluding_kmer(mutations_df, exons_coords_df, signatures_file, tumor_type, \n",
    "                            middle_distance_threshold, k, include, tb_consequence_type, consequence_rank_dict)\n",
    "\n",
    "exons_centered_results.to_csv('results/exons_centered_' + str(k) + 'mer_DNM_context_golden_' + str(include) + '.tsv', sep=\"\\t\", header=True, index=False)"
   ]
  },
  {
   "cell_type": "markdown",
   "metadata": {},
   "source": [
    "#### Significance through permutations"
   ]
  },
  {
   "cell_type": "code",
   "execution_count": 73,
   "metadata": {},
   "outputs": [
    {
     "name": "stdout",
     "output_type": "stream",
     "text": [
      "Total amount of mutations at the middle exon-centered sequences is 5598\n",
      "Observed at middle exons: 358\n",
      "Observed at flanking introns: 5113\n"
     ]
    }
   ],
   "source": [
    "k = 7\n",
    "middle_distance_threshold = 1000\n",
    "signatures_file = 'results/' + str(k) + 'mer_DNM_signatures_decomp_golden.txt'\n",
    "include = 'non_synonymous'\n",
    "\n",
    "(exons_centered_results, exonic_obs, intronic_obs) = stacked_sequence_level_permutation_excluding(mutations_df,\n",
    "                                    exons_coords_df, signatures_file, tumor_type, middle_distance_threshold,\n",
    "                                    k, include, tb_consequence_type, consequence_rank_dict)\n",
    "\n",
    "exons_centered_results = pd.DataFrame.transpose(exons_centered_results)\n",
    "exons_centered_results.to_csv(path.join('results', 'exons_centered_' + str(k) + 'mer_permut_' + include + '_golden.tsv'),\n",
    "                              sep=\"\\t\", header=True, index=False)"
   ]
  },
  {
   "cell_type": "code",
   "execution_count": 74,
   "metadata": {},
   "outputs": [
    {
     "data": {
      "text/html": [
       "<div>\n",
       "<style>\n",
       "    .dataframe thead tr:only-child th {\n",
       "        text-align: right;\n",
       "    }\n",
       "\n",
       "    .dataframe thead th {\n",
       "        text-align: left;\n",
       "    }\n",
       "\n",
       "    .dataframe tbody tr th {\n",
       "        vertical-align: top;\n",
       "    }\n",
       "</style>\n",
       "<table border=\"1\" class=\"dataframe\">\n",
       "  <thead>\n",
       "    <tr style=\"text-align: right;\">\n",
       "      <th></th>\n",
       "      <th>obs_exon_cnt</th>\n",
       "      <th>exp_exon_cnt</th>\n",
       "      <th>obs_intron_cnt</th>\n",
       "      <th>exp_intron_cnt</th>\n",
       "      <th>empirical_pvalue</th>\n",
       "    </tr>\n",
       "  </thead>\n",
       "  <tbody>\n",
       "    <tr>\n",
       "      <th>0</th>\n",
       "      <td>358</td>\n",
       "      <td>345.76</td>\n",
       "      <td>5113</td>\n",
       "      <td>5125.24</td>\n",
       "      <td>0.248</td>\n",
       "    </tr>\n",
       "  </tbody>\n",
       "</table>\n",
       "</div>"
      ],
      "text/plain": [
       "   obs_exon_cnt  exp_exon_cnt  obs_intron_cnt  exp_intron_cnt  \\\n",
       "0           358        345.76            5113         5125.24   \n",
       "\n",
       "   empirical_pvalue  \n",
       "0             0.248  "
      ]
     },
     "execution_count": 74,
     "metadata": {},
     "output_type": "execute_result"
    }
   ],
   "source": [
    "k = 7\n",
    "results = []\n",
    "RANDOMIZATION = 1000\n",
    "include = 'non_synonymous'\n",
    "    \n",
    "# Read the expected exon and intron mutation counts from permutations\n",
    "rand_output = pd.read_csv(path.join('results', 'exons_centered_' + str(k) + 'mer_permut_' + include + '_golden.tsv'), sep=\"\\t\")\n",
    "    \n",
    "# count the number of times the expected exon mutations is higher than the observed\n",
    "count = len(rand_output[rand_output['exon_Exp'] >= exonic_obs])\n",
    "    \n",
    "if count == 0:\n",
    "    count = 1 \n",
    "    \n",
    "results.append([exonic_obs, rand_output['exon_Exp'].mean(), intronic_obs, rand_output['intron_Exp'].mean(), count/RANDOMIZATION])\n",
    "    \n",
    "results_df = pd.DataFrame(results)\n",
    "results_df.columns = ['obs_exon_cnt', 'exp_exon_cnt','obs_intron_cnt', 'exp_intron_cnt', 'empirical_pvalue']\n",
    "results_df"
   ]
  },
  {
   "cell_type": "code",
   "execution_count": 75,
   "metadata": {},
   "outputs": [
    {
     "data": {
      "text/plain": [
       "0    3.540028\n",
       "dtype: float64"
      ]
     },
     "execution_count": 75,
     "metadata": {},
     "output_type": "execute_result"
    }
   ],
   "source": [
    "exonic_increase = (results_df[\"obs_exon_cnt\"]/results_df[\"exp_exon_cnt\"]-1)*100\n",
    "exonic_increase"
   ]
  },
  {
   "cell_type": "code",
   "execution_count": 76,
   "metadata": {},
   "outputs": [
    {
     "data": {
      "text/plain": [
       "(0    3.370396\n",
       " dtype: float64, 0    3.70966\n",
       " dtype: float64)"
      ]
     },
     "execution_count": 76,
     "metadata": {},
     "output_type": "execute_result"
    }
   ],
   "source": [
    "rand_output['increase'] = (exonic_obs/rand_output['exon_Exp']-1)*100\n",
    "error = (st.stdev(rand_output['increase'].tolist())/np.sqrt(1000))\n",
    "(exonic_increase-error, exonic_increase+error)"
   ]
  },
  {
   "cell_type": "markdown",
   "metadata": {},
   "source": [
    "### Plot results\n",
    "\n",
    "Binned average approach. Bin size is 25."
   ]
  },
  {
   "cell_type": "code",
   "execution_count": 77,
   "metadata": {},
   "outputs": [
    {
     "name": "stderr",
     "output_type": "stream",
     "text": [
      "/home/peluca/anaconda3/envs/intronexon/lib/python3.6/site-packages/ipykernel_launcher.py:20: MatplotlibDeprecationWarning: The set_axis_bgcolor function was deprecated in version 2.0. Use set_facecolor instead.\n",
      "/home/peluca/anaconda3/envs/intronexon/lib/python3.6/site-packages/matplotlib/font_manager.py:1297: UserWarning: findfont: Font family ['sans-serif'] not found. Falling back to DejaVu Sans\n",
      "  (prop.get_family(), self.defaultFamily[fontext]))\n"
     ]
    },
    {
     "data": {
      "image/png": "[encoded data removed]",
      "text/plain": [
       "<matplotlib.figure.Figure at 0x7f84c5cb8358>"
      ]
     },
     "metadata": {},
     "output_type": "display_data"
    }
   ],
   "source": [
    "size = 25\n",
    "\n",
    "listt = ['1mer_DNM_context_golden_synonymous', '1mer_DNM_context_golden_non_synonymous',\n",
    "        'CpGmer_DNM_context_golden_synonymous', 'CpGmer_DNM_context_golden_non_synonymous',\n",
    "        '3mer_DNM_context_golden_synonymous', '3mer_DNM_context_golden_non_synonymous',\n",
    "        '5mer_DNM_context_golden_synonymous', '5mer_DNM_context_golden_non_synonymous',\n",
    "        '7mer_DNM_context_golden_synonymous', '7mer_DNM_context_golden_non_synonymous']\n",
    "\n",
    "NROW=5\n",
    "NCOL=2\n",
    "\n",
    "axs = []\n",
    "\n",
    "fig = plt.figure(figsize=(7,4))\n",
    "\n",
    "for row in range(0, NROW):\n",
    "    for col in range(0, NCOL):\n",
    "        axs.append(plt.subplot2grid((NROW, NCOL), (row, col)))\n",
    "\n",
    "cnt=0\n",
    "for ele in listt:\n",
    "    plot_HD_BINNED(ele, axs[cnt], cnt, size)\n",
    "    cnt+=1\n",
    "    \n",
    "plt.tight_layout()\n",
    "plt.savefig(path.join('figures', 'internal_exon_centered_DNM_context_binned_selection.svg'), bbox_inches='tight')\n",
    "plt.show()"
   ]
  },
  {
   "cell_type": "markdown",
   "metadata": {
    "collapsed": true
   },
   "source": [
    "## Exons centered analysis, all DNMs\n",
    "\n",
    "Mutation probabilities were computed genome-wide using DNM. They were used to compute the expected number of mutations based on a generalized k-mer model, with the method described in the **Exon-centered and intron-centered mutational analyses** section at Frigola et al. for the 3-mer case."
   ]
  },
  {
   "cell_type": "code",
   "execution_count": 78,
   "metadata": {
    "collapsed": true
   },
   "outputs": [],
   "source": [
    "## Get mutations\n",
    "mutations_file = mutations_folder + 'germinal_ultimate_dataset.bed.gz'\n",
    "mutations_df = pd.read_csv(mutations_file, sep=\"\\t\", header=None)\n",
    "mutations_df.columns = ['chr', 'start', 'end', 'ref', 'alt', 'sample', 'type', 'class']\n",
    "mutations_df = mutations_df[['chr', 'start', 'end', 'ref', 'alt', 'sample', 'type']]\n",
    "mutations_df = mutations_df[mutations_df['type'] == 'subs']\n",
    "mutations_df['ID'] = mutations_df.index + 1\n",
    "\n",
    "tumor_type = 'germinal'"
   ]
  },
  {
   "cell_type": "markdown",
   "metadata": {},
   "source": [
    "### 1-mer context dependency, synonymous"
   ]
  },
  {
   "cell_type": "code",
   "execution_count": 79,
   "metadata": {},
   "outputs": [
    {
     "name": "stdout",
     "output_type": "stream",
     "text": [
      "The total amount of mutations at the middle exon-centered sequences is 50780\n",
      "The total amount of mutations at the exonic sequences are 4757\n",
      "The category initiator_codon_variant is found 6 times.\n",
      "The category intron_variant is found 1 times.\n",
      "The category missense_variant is found 3280 times.\n",
      "The category None is found 10 times.\n",
      "The category downstream_gene_variant is found 2 times.\n",
      "The category upstream_gene_variant is found 8 times.\n",
      "The category splice_region_variant is found 58 times.\n",
      "The category splice_donor_variant is found 3 times.\n",
      "The category 5 is found 2 times.\n",
      "The category splice_acceptor_variant is found 1 times.\n",
      "The category stop_gained is found 202 times.\n",
      "The category synonymous_variant is found 1184 times.\n"
     ]
    }
   ],
   "source": [
    "k = 1\n",
    "middle_distance_threshold = 1000\n",
    "include = 'synonymous'\n",
    "signatures_file = 'results/' + str(k) + 'mer_signatures_DNM_new.txt'\n",
    "\n",
    "exons_centered_results = obs_exp_muts_excluding_kmer(mutations_df, exons_coords_df, signatures_file, tumor_type, \n",
    "                            middle_distance_threshold, k, include, tb_consequence_type, consequence_rank_dict)\n",
    "\n",
    "exons_centered_results.to_csv('results/exons_centered_' + str(k) + 'mer_DNM_context_' + str(include) + '.tsv', sep=\"\\t\", header=True, index=False)"
   ]
  },
  {
   "cell_type": "markdown",
   "metadata": {},
   "source": [
    "#### Significance through permutations"
   ]
  },
  {
   "cell_type": "code",
   "execution_count": 80,
   "metadata": {},
   "outputs": [
    {
     "name": "stdout",
     "output_type": "stream",
     "text": [
      "Total amount of mutations at the middle exon-centered sequences is 50780\n",
      "Observed at middle exons: 1170\n",
      "Observed at flanking introns: 46111\n"
     ]
    }
   ],
   "source": [
    "k = 1\n",
    "middle_distance_threshold = 1000\n",
    "signatures_file = 'results/' + str(k) + 'mer_signatures_DNM_new.txt'\n",
    "include = 'synonymous'\n",
    "\n",
    "(exons_centered_results, exonic_obs, intronic_obs) = stacked_sequence_level_permutation_excluding(mutations_df,\n",
    "                                    exons_coords_df, signatures_file, tumor_type, middle_distance_threshold,\n",
    "                                    k, include, tb_consequence_type, consequence_rank_dict)\n",
    "\n",
    "exons_centered_results = pd.DataFrame.transpose(exons_centered_results)\n",
    "exons_centered_results.to_csv(path.join('results', 'exons_centered_' + str(k) + 'mer_permut_' + include + '.tsv'),\n",
    "                              sep=\"\\t\", header=True, index=False)"
   ]
  },
  {
   "cell_type": "code",
   "execution_count": 81,
   "metadata": {},
   "outputs": [
    {
     "data": {
      "text/html": [
       "<div>\n",
       "<style>\n",
       "    .dataframe thead tr:only-child th {\n",
       "        text-align: right;\n",
       "    }\n",
       "\n",
       "    .dataframe thead th {\n",
       "        text-align: left;\n",
       "    }\n",
       "\n",
       "    .dataframe tbody tr th {\n",
       "        vertical-align: top;\n",
       "    }\n",
       "</style>\n",
       "<table border=\"1\" class=\"dataframe\">\n",
       "  <thead>\n",
       "    <tr style=\"text-align: right;\">\n",
       "      <th></th>\n",
       "      <th>obs_exon_cnt</th>\n",
       "      <th>exp_exon_cnt</th>\n",
       "      <th>obs_intron_cnt</th>\n",
       "      <th>exp_intron_cnt</th>\n",
       "      <th>empirical_pvalue</th>\n",
       "    </tr>\n",
       "  </thead>\n",
       "  <tbody>\n",
       "    <tr>\n",
       "      <th>0</th>\n",
       "      <td>1170</td>\n",
       "      <td>1035.458</td>\n",
       "      <td>46111</td>\n",
       "      <td>46245.542</td>\n",
       "      <td>0.001</td>\n",
       "    </tr>\n",
       "  </tbody>\n",
       "</table>\n",
       "</div>"
      ],
      "text/plain": [
       "   obs_exon_cnt  exp_exon_cnt  obs_intron_cnt  exp_intron_cnt  \\\n",
       "0          1170      1035.458           46111       46245.542   \n",
       "\n",
       "   empirical_pvalue  \n",
       "0             0.001  "
      ]
     },
     "execution_count": 81,
     "metadata": {},
     "output_type": "execute_result"
    }
   ],
   "source": [
    "k = 1\n",
    "results = []\n",
    "RANDOMIZATION = 1000\n",
    "include = 'synonymous'\n",
    "    \n",
    "# Read the expected exon and intron mutation counts from permutations\n",
    "rand_output = pd.read_csv(path.join('results', 'exons_centered_' + str(k) + 'mer_permut_' + include + '.tsv'), sep=\"\\t\")\n",
    "    \n",
    "# count the number of times the expected exon mutations is higher than the observed\n",
    "count = len(rand_output[rand_output['exon_Exp'] >= exonic_obs])\n",
    "    \n",
    "if count == 0:\n",
    "    count = 1 \n",
    "    \n",
    "results.append([exonic_obs, rand_output['exon_Exp'].mean(), intronic_obs, rand_output['intron_Exp'].mean(), count/RANDOMIZATION])\n",
    "    \n",
    "results_df = pd.DataFrame(results)\n",
    "results_df.columns = ['obs_exon_cnt', 'exp_exon_cnt','obs_intron_cnt', 'exp_intron_cnt', 'empirical_pvalue']\n",
    "results_df"
   ]
  },
  {
   "cell_type": "code",
   "execution_count": 82,
   "metadata": {},
   "outputs": [
    {
     "data": {
      "text/plain": [
       "0    12.993477\n",
       "dtype: float64"
      ]
     },
     "execution_count": 82,
     "metadata": {},
     "output_type": "execute_result"
    }
   ],
   "source": [
    "exonic_increase = (results_df[\"obs_exon_cnt\"]/results_df[\"exp_exon_cnt\"]-1)*100\n",
    "exonic_increase"
   ]
  },
  {
   "cell_type": "code",
   "execution_count": 83,
   "metadata": {},
   "outputs": [
    {
     "data": {
      "text/plain": [
       "(0    12.880646\n",
       " dtype: float64, 0    13.106309\n",
       " dtype: float64)"
      ]
     },
     "execution_count": 83,
     "metadata": {},
     "output_type": "execute_result"
    }
   ],
   "source": [
    "rand_output['increase'] = (exonic_obs/rand_output['exon_Exp']-1)*100\n",
    "error = (st.stdev(rand_output['increase'].tolist())/np.sqrt(1000))\n",
    "(exonic_increase-error, exonic_increase+error)"
   ]
  },
  {
   "cell_type": "markdown",
   "metadata": {},
   "source": [
    "### 1-mer context dependency, non_synonymous"
   ]
  },
  {
   "cell_type": "code",
   "execution_count": 84,
   "metadata": {},
   "outputs": [
    {
     "name": "stdout",
     "output_type": "stream",
     "text": [
      "The total amount of mutations at the middle exon-centered sequences is 50780\n",
      "The total amount of mutations at the exonic sequences are 4757\n",
      "The category initiator_codon_variant is found 6 times.\n",
      "The category intron_variant is found 1 times.\n",
      "The category missense_variant is found 3280 times.\n",
      "The category None is found 10 times.\n",
      "The category downstream_gene_variant is found 2 times.\n",
      "The category upstream_gene_variant is found 8 times.\n",
      "The category splice_region_variant is found 58 times.\n",
      "The category splice_donor_variant is found 3 times.\n",
      "The category 5 is found 2 times.\n",
      "The category splice_acceptor_variant is found 1 times.\n",
      "The category stop_gained is found 202 times.\n",
      "The category synonymous_variant is found 1184 times.\n"
     ]
    }
   ],
   "source": [
    "k = 1\n",
    "middle_distance_threshold = 1000\n",
    "include = 'non_synonymous'\n",
    "signatures_file = 'results/' + str(k) + 'mer_signatures_DNM_new.txt'\n",
    "\n",
    "exons_centered_results = obs_exp_muts_excluding_kmer(mutations_df, exons_coords_df, signatures_file, tumor_type, \n",
    "                            middle_distance_threshold, k, include, tb_consequence_type, consequence_rank_dict)\n",
    "\n",
    "exons_centered_results.to_csv('results/exons_centered_' + str(k) + 'mer_DNM_context_' + str(include) + '.tsv', sep=\"\\t\", header=True, index=False)"
   ]
  },
  {
   "cell_type": "markdown",
   "metadata": {},
   "source": [
    "#### Significance through permutations"
   ]
  },
  {
   "cell_type": "code",
   "execution_count": 85,
   "metadata": {},
   "outputs": [
    {
     "name": "stdout",
     "output_type": "stream",
     "text": [
      "Total amount of mutations at the middle exon-centered sequences is 50780\n",
      "Observed at middle exons: 3488\n",
      "Observed at flanking introns: 46111\n"
     ]
    }
   ],
   "source": [
    "k = 1\n",
    "middle_distance_threshold = 1000\n",
    "signatures_file = 'results/' + str(k) + 'mer_signatures_DNM_new.txt'\n",
    "include = 'non_synonymous'\n",
    "\n",
    "(exons_centered_results, exonic_obs, intronic_obs) = stacked_sequence_level_permutation_excluding(mutations_df,\n",
    "                                    exons_coords_df, signatures_file, tumor_type, middle_distance_threshold,\n",
    "                                    k, include, tb_consequence_type, consequence_rank_dict)\n",
    "\n",
    "exons_centered_results = pd.DataFrame.transpose(exons_centered_results)\n",
    "exons_centered_results.to_csv(path.join('results', 'exons_centered_' + str(k) + 'mer_permut_' + include + '.tsv'),\n",
    "                              sep=\"\\t\", header=True, index=False)"
   ]
  },
  {
   "cell_type": "code",
   "execution_count": 86,
   "metadata": {},
   "outputs": [
    {
     "data": {
      "text/html": [
       "<div>\n",
       "<style>\n",
       "    .dataframe thead tr:only-child th {\n",
       "        text-align: right;\n",
       "    }\n",
       "\n",
       "    .dataframe thead th {\n",
       "        text-align: left;\n",
       "    }\n",
       "\n",
       "    .dataframe tbody tr th {\n",
       "        vertical-align: top;\n",
       "    }\n",
       "</style>\n",
       "<table border=\"1\" class=\"dataframe\">\n",
       "  <thead>\n",
       "    <tr style=\"text-align: right;\">\n",
       "      <th></th>\n",
       "      <th>obs_exon_cnt</th>\n",
       "      <th>exp_exon_cnt</th>\n",
       "      <th>obs_intron_cnt</th>\n",
       "      <th>exp_intron_cnt</th>\n",
       "      <th>empirical_pvalue</th>\n",
       "    </tr>\n",
       "  </thead>\n",
       "  <tbody>\n",
       "    <tr>\n",
       "      <th>0</th>\n",
       "      <td>3488</td>\n",
       "      <td>2717.856</td>\n",
       "      <td>46111</td>\n",
       "      <td>46881.144</td>\n",
       "      <td>0.001</td>\n",
       "    </tr>\n",
       "  </tbody>\n",
       "</table>\n",
       "</div>"
      ],
      "text/plain": [
       "   obs_exon_cnt  exp_exon_cnt  obs_intron_cnt  exp_intron_cnt  \\\n",
       "0          3488      2717.856           46111       46881.144   \n",
       "\n",
       "   empirical_pvalue  \n",
       "0             0.001  "
      ]
     },
     "execution_count": 86,
     "metadata": {},
     "output_type": "execute_result"
    }
   ],
   "source": [
    "k = 1\n",
    "results = []\n",
    "RANDOMIZATION = 1000\n",
    "include = 'non_synonymous'\n",
    "    \n",
    "# Read the expected exon and intron mutation counts from permutations\n",
    "rand_output = pd.read_csv(path.join('results', 'exons_centered_' + str(k) + 'mer_permut_' + include + '.tsv'), sep=\"\\t\")\n",
    "    \n",
    "# count the number of times the expected exon mutations is higher than the observed\n",
    "count = len(rand_output[rand_output['exon_Exp'] >= exonic_obs])\n",
    "    \n",
    "if count == 0:\n",
    "    count = 1 \n",
    "    \n",
    "results.append([exonic_obs, rand_output['exon_Exp'].mean(), intronic_obs, rand_output['intron_Exp'].mean(), count/RANDOMIZATION])\n",
    "    \n",
    "results_df = pd.DataFrame(results)\n",
    "results_df.columns = ['obs_exon_cnt', 'exp_exon_cnt','obs_intron_cnt', 'exp_intron_cnt', 'empirical_pvalue']\n",
    "results_df"
   ]
  },
  {
   "cell_type": "code",
   "execution_count": 87,
   "metadata": {},
   "outputs": [
    {
     "data": {
      "text/plain": [
       "0    28.336453\n",
       "dtype: float64"
      ]
     },
     "execution_count": 87,
     "metadata": {},
     "output_type": "execute_result"
    }
   ],
   "source": [
    "exonic_increase = (results_df[\"obs_exon_cnt\"]/results_df[\"exp_exon_cnt\"]-1)*100\n",
    "exonic_increase"
   ]
  },
  {
   "cell_type": "code",
   "execution_count": 88,
   "metadata": {},
   "outputs": [
    {
     "data": {
      "text/plain": [
       "(0    28.263691\n",
       " dtype: float64, 0    28.409216\n",
       " dtype: float64)"
      ]
     },
     "execution_count": 88,
     "metadata": {},
     "output_type": "execute_result"
    }
   ],
   "source": [
    "rand_output['increase'] = (exonic_obs/rand_output['exon_Exp']-1)*100\n",
    "error = (st.stdev(rand_output['increase'].tolist())/np.sqrt(1000))\n",
    "(exonic_increase-error, exonic_increase+error)"
   ]
  },
  {
   "cell_type": "markdown",
   "metadata": {},
   "source": [
    "### 1-mer context dependency, 9 classes with CpG, synonymous"
   ]
  },
  {
   "cell_type": "code",
   "execution_count": 89,
   "metadata": {},
   "outputs": [
    {
     "name": "stdout",
     "output_type": "stream",
     "text": [
      "The total amount of mutations at the middle exon-centered sequences is 50780\n",
      "The total amount of mutations at the exonic sequences are 4757\n",
      "The category initiator_codon_variant is found 6 times.\n",
      "The category intron_variant is found 1 times.\n",
      "The category missense_variant is found 3280 times.\n",
      "The category None is found 10 times.\n",
      "The category downstream_gene_variant is found 2 times.\n",
      "The category upstream_gene_variant is found 8 times.\n",
      "The category splice_region_variant is found 58 times.\n",
      "The category splice_donor_variant is found 3 times.\n",
      "The category 5 is found 2 times.\n",
      "The category splice_acceptor_variant is found 1 times.\n",
      "The category stop_gained is found 202 times.\n",
      "The category synonymous_variant is found 1184 times.\n"
     ]
    }
   ],
   "source": [
    "k = 3\n",
    "middle_distance_threshold = 1000\n",
    "include = 'synonymous'\n",
    "signatures_file = 'results/CpG_signatures_DNM_new.txt'\n",
    "\n",
    "exons_centered_results = obs_exp_muts_excluding_CpG(mutations_df, exons_coords_df, signatures_file, tumor_type, \n",
    "                            middle_distance_threshold, k, include, tb_consequence_type, consequence_rank_dict)\n",
    "\n",
    "exons_centered_results.to_csv('results/exons_centered_CpGmer_DNM_context_' + str(include) + '.tsv', sep=\"\\t\", header=True, index=False)"
   ]
  },
  {
   "cell_type": "markdown",
   "metadata": {},
   "source": [
    "#### Significance through permutations"
   ]
  },
  {
   "cell_type": "code",
   "execution_count": 90,
   "metadata": {},
   "outputs": [
    {
     "name": "stdout",
     "output_type": "stream",
     "text": [
      "Total amount of mutations at the middle exon-centered sequences is 50780\n",
      "Observed at middle exons: 1170\n",
      "Observed at flanking introns: 46111\n"
     ]
    }
   ],
   "source": [
    "k = 3\n",
    "middle_distance_threshold = 1000\n",
    "signatures_file = 'results/CpG_signatures_DNM_new.txt'\n",
    "include = 'synonymous'\n",
    "\n",
    "(exons_centered_results, exonic_obs, intronic_obs) = stacked_sequence_level_permutation_excluding_CpG(mutations_df,\n",
    "                                    exons_coords_df, signatures_file, tumor_type, middle_distance_threshold,\n",
    "                                    k, include, tb_consequence_type, consequence_rank_dict)\n",
    "\n",
    "exons_centered_results = pd.DataFrame.transpose(exons_centered_results)\n",
    "exons_centered_results.to_csv(path.join('results', 'exons_centered_CpGmer_permut_' + include + '.tsv'),\n",
    "                              sep=\"\\t\", header=True, index=False)"
   ]
  },
  {
   "cell_type": "code",
   "execution_count": 91,
   "metadata": {},
   "outputs": [
    {
     "data": {
      "text/html": [
       "<div>\n",
       "<style>\n",
       "    .dataframe thead tr:only-child th {\n",
       "        text-align: right;\n",
       "    }\n",
       "\n",
       "    .dataframe thead th {\n",
       "        text-align: left;\n",
       "    }\n",
       "\n",
       "    .dataframe tbody tr th {\n",
       "        vertical-align: top;\n",
       "    }\n",
       "</style>\n",
       "<table border=\"1\" class=\"dataframe\">\n",
       "  <thead>\n",
       "    <tr style=\"text-align: right;\">\n",
       "      <th></th>\n",
       "      <th>obs_exon_cnt</th>\n",
       "      <th>exp_exon_cnt</th>\n",
       "      <th>obs_intron_cnt</th>\n",
       "      <th>exp_intron_cnt</th>\n",
       "      <th>empirical_pvalue</th>\n",
       "    </tr>\n",
       "  </thead>\n",
       "  <tbody>\n",
       "    <tr>\n",
       "      <th>0</th>\n",
       "      <td>1170</td>\n",
       "      <td>1195.464</td>\n",
       "      <td>46111</td>\n",
       "      <td>46085.536</td>\n",
       "      <td>0.786</td>\n",
       "    </tr>\n",
       "  </tbody>\n",
       "</table>\n",
       "</div>"
      ],
      "text/plain": [
       "   obs_exon_cnt  exp_exon_cnt  obs_intron_cnt  exp_intron_cnt  \\\n",
       "0          1170      1195.464           46111       46085.536   \n",
       "\n",
       "   empirical_pvalue  \n",
       "0             0.786  "
      ]
     },
     "execution_count": 91,
     "metadata": {},
     "output_type": "execute_result"
    }
   ],
   "source": [
    "k = 3\n",
    "results = []\n",
    "RANDOMIZATION = 1000\n",
    "include = 'synonymous'\n",
    "    \n",
    "# Read the expected exon and intron mutation counts from permutations\n",
    "rand_output = pd.read_csv(path.join('results', 'exons_centered_CpGmer_permut_' + include + '.tsv'), sep=\"\\t\")\n",
    "    \n",
    "# count the number of times the expected exon mutations is higher than the observed\n",
    "count = len(rand_output[rand_output['exon_Exp'] >= exonic_obs])\n",
    "    \n",
    "if count == 0:\n",
    "    count = 1 \n",
    "    \n",
    "results.append([exonic_obs, rand_output['exon_Exp'].mean(), intronic_obs, rand_output['intron_Exp'].mean(), count/RANDOMIZATION])\n",
    "    \n",
    "results_df = pd.DataFrame(results)\n",
    "results_df.columns = ['obs_exon_cnt', 'exp_exon_cnt','obs_intron_cnt', 'exp_intron_cnt', 'empirical_pvalue']\n",
    "results_df"
   ]
  },
  {
   "cell_type": "code",
   "execution_count": 92,
   "metadata": {},
   "outputs": [
    {
     "data": {
      "text/plain": [
       "0   -2.130052\n",
       "dtype: float64"
      ]
     },
     "execution_count": 92,
     "metadata": {},
     "output_type": "execute_result"
    }
   ],
   "source": [
    "exonic_increase = (results_df[\"obs_exon_cnt\"]/results_df[\"exp_exon_cnt\"]-1)*100\n",
    "exonic_increase"
   ]
  },
  {
   "cell_type": "code",
   "execution_count": 93,
   "metadata": {},
   "outputs": [
    {
     "data": {
      "text/plain": [
       "(0   -2.214824\n",
       " dtype: float64, 0   -2.045279\n",
       " dtype: float64)"
      ]
     },
     "execution_count": 93,
     "metadata": {},
     "output_type": "execute_result"
    }
   ],
   "source": [
    "rand_output['increase'] = (exonic_obs/rand_output['exon_Exp']-1)*100\n",
    "error = (st.stdev(rand_output['increase'].tolist())/np.sqrt(1000))\n",
    "(exonic_increase-error, exonic_increase+error)"
   ]
  },
  {
   "cell_type": "markdown",
   "metadata": {},
   "source": [
    "### 1-mer context dependency, 9 classes with CpG, non_synonymous"
   ]
  },
  {
   "cell_type": "code",
   "execution_count": 94,
   "metadata": {},
   "outputs": [
    {
     "name": "stdout",
     "output_type": "stream",
     "text": [
      "The total amount of mutations at the middle exon-centered sequences is 50780\n",
      "The total amount of mutations at the exonic sequences are 4757\n",
      "The category initiator_codon_variant is found 6 times.\n",
      "The category intron_variant is found 1 times.\n",
      "The category missense_variant is found 3280 times.\n",
      "The category None is found 10 times.\n",
      "The category downstream_gene_variant is found 2 times.\n",
      "The category upstream_gene_variant is found 8 times.\n",
      "The category splice_region_variant is found 58 times.\n",
      "The category splice_donor_variant is found 3 times.\n",
      "The category 5 is found 2 times.\n",
      "The category splice_acceptor_variant is found 1 times.\n",
      "The category stop_gained is found 202 times.\n",
      "The category synonymous_variant is found 1184 times.\n"
     ]
    }
   ],
   "source": [
    "k = 3\n",
    "middle_distance_threshold = 1000\n",
    "include = 'non_synonymous'\n",
    "signatures_file = 'results/CpG_signatures_DNM_new.txt'\n",
    "\n",
    "exons_centered_results = obs_exp_muts_excluding_CpG(mutations_df, exons_coords_df, signatures_file, tumor_type, \n",
    "                            middle_distance_threshold, k, include, tb_consequence_type, consequence_rank_dict)\n",
    "\n",
    "exons_centered_results.to_csv('results/exons_centered_CpGmer_DNM_context_' + str(include) + '.tsv', sep=\"\\t\", header=True, index=False)"
   ]
  },
  {
   "cell_type": "markdown",
   "metadata": {},
   "source": [
    "#### Significance through permutations"
   ]
  },
  {
   "cell_type": "code",
   "execution_count": 95,
   "metadata": {},
   "outputs": [
    {
     "name": "stdout",
     "output_type": "stream",
     "text": [
      "Total amount of mutations at the middle exon-centered sequences is 50780\n",
      "Observed at middle exons: 3488\n",
      "Observed at flanking introns: 46111\n"
     ]
    }
   ],
   "source": [
    "k = 3\n",
    "middle_distance_threshold = 1000\n",
    "signatures_file = 'results/CpG_signatures_DNM_new.txt'\n",
    "include = 'non_synonymous'\n",
    "\n",
    "(exons_centered_results, exonic_obs, intronic_obs) = stacked_sequence_level_permutation_excluding_CpG(mutations_df,\n",
    "                                    exons_coords_df, signatures_file, tumor_type, middle_distance_threshold,\n",
    "                                    k, include, tb_consequence_type, consequence_rank_dict)\n",
    "\n",
    "exons_centered_results = pd.DataFrame.transpose(exons_centered_results)\n",
    "exons_centered_results.to_csv(path.join('results', 'exons_centered_CpGmer_permut_' + include + '.tsv'),\n",
    "                              sep=\"\\t\", header=True, index=False)"
   ]
  },
  {
   "cell_type": "code",
   "execution_count": 96,
   "metadata": {},
   "outputs": [
    {
     "data": {
      "text/html": [
       "<div>\n",
       "<style>\n",
       "    .dataframe thead tr:only-child th {\n",
       "        text-align: right;\n",
       "    }\n",
       "\n",
       "    .dataframe thead th {\n",
       "        text-align: left;\n",
       "    }\n",
       "\n",
       "    .dataframe tbody tr th {\n",
       "        vertical-align: top;\n",
       "    }\n",
       "</style>\n",
       "<table border=\"1\" class=\"dataframe\">\n",
       "  <thead>\n",
       "    <tr style=\"text-align: right;\">\n",
       "      <th></th>\n",
       "      <th>obs_exon_cnt</th>\n",
       "      <th>exp_exon_cnt</th>\n",
       "      <th>obs_intron_cnt</th>\n",
       "      <th>exp_intron_cnt</th>\n",
       "      <th>empirical_pvalue</th>\n",
       "    </tr>\n",
       "  </thead>\n",
       "  <tbody>\n",
       "    <tr>\n",
       "      <th>0</th>\n",
       "      <td>3488</td>\n",
       "      <td>3175.426</td>\n",
       "      <td>46111</td>\n",
       "      <td>46423.574</td>\n",
       "      <td>0.001</td>\n",
       "    </tr>\n",
       "  </tbody>\n",
       "</table>\n",
       "</div>"
      ],
      "text/plain": [
       "   obs_exon_cnt  exp_exon_cnt  obs_intron_cnt  exp_intron_cnt  \\\n",
       "0          3488      3175.426           46111       46423.574   \n",
       "\n",
       "   empirical_pvalue  \n",
       "0             0.001  "
      ]
     },
     "execution_count": 96,
     "metadata": {},
     "output_type": "execute_result"
    }
   ],
   "source": [
    "k = 3\n",
    "results = []\n",
    "RANDOMIZATION = 1000\n",
    "include = 'non_synonymous'\n",
    "    \n",
    "# Read the expected exon and intron mutation counts from permutations\n",
    "rand_output = pd.read_csv(path.join('results', 'exons_centered_CpGmer_permut_' + include + '.tsv'), sep=\"\\t\")\n",
    "    \n",
    "# count the number of times the expected exon mutations is higher than the observed\n",
    "count = len(rand_output[rand_output['exon_Exp'] >= exonic_obs])\n",
    "    \n",
    "if count == 0:\n",
    "    count = 1 \n",
    "    \n",
    "results.append([exonic_obs, rand_output['exon_Exp'].mean(), intronic_obs, rand_output['intron_Exp'].mean(), count/RANDOMIZATION])\n",
    "    \n",
    "results_df = pd.DataFrame(results)\n",
    "results_df.columns = ['obs_exon_cnt', 'exp_exon_cnt','obs_intron_cnt', 'exp_intron_cnt', 'empirical_pvalue']\n",
    "results_df"
   ]
  },
  {
   "cell_type": "code",
   "execution_count": 97,
   "metadata": {},
   "outputs": [
    {
     "data": {
      "text/plain": [
       "0    9.84353\n",
       "dtype: float64"
      ]
     },
     "execution_count": 97,
     "metadata": {},
     "output_type": "execute_result"
    }
   ],
   "source": [
    "exonic_increase = (results_df[\"obs_exon_cnt\"]/results_df[\"exp_exon_cnt\"]-1)*100\n",
    "exonic_increase"
   ]
  },
  {
   "cell_type": "code",
   "execution_count": 98,
   "metadata": {},
   "outputs": [
    {
     "data": {
      "text/plain": [
       "(0    9.784135\n",
       " dtype: float64, 0    9.902925\n",
       " dtype: float64)"
      ]
     },
     "execution_count": 98,
     "metadata": {},
     "output_type": "execute_result"
    }
   ],
   "source": [
    "rand_output['increase'] = (exonic_obs/rand_output['exon_Exp']-1)*100\n",
    "error = (st.stdev(rand_output['increase'].tolist())/np.sqrt(1000))\n",
    "(exonic_increase-error, exonic_increase+error)"
   ]
  },
  {
   "cell_type": "markdown",
   "metadata": {},
   "source": [
    "### 3-mer context dependency, synonymous"
   ]
  },
  {
   "cell_type": "code",
   "execution_count": 99,
   "metadata": {},
   "outputs": [
    {
     "name": "stdout",
     "output_type": "stream",
     "text": [
      "The total amount of mutations at the middle exon-centered sequences is 50780\n",
      "The total amount of mutations at the exonic sequences are 4757\n",
      "The category initiator_codon_variant is found 6 times.\n",
      "The category intron_variant is found 1 times.\n",
      "The category missense_variant is found 3280 times.\n",
      "The category None is found 10 times.\n",
      "The category downstream_gene_variant is found 2 times.\n",
      "The category upstream_gene_variant is found 8 times.\n",
      "The category splice_region_variant is found 58 times.\n",
      "The category splice_donor_variant is found 3 times.\n",
      "The category 5 is found 2 times.\n",
      "The category splice_acceptor_variant is found 1 times.\n",
      "The category stop_gained is found 202 times.\n",
      "The category synonymous_variant is found 1184 times.\n"
     ]
    }
   ],
   "source": [
    "k = 3\n",
    "middle_distance_threshold = 1000\n",
    "include = 'synonymous'\n",
    "signatures_file = 'results/' + str(k) + 'mer_signatures_DNM_new.txt'\n",
    "\n",
    "exons_centered_results = obs_exp_muts_excluding_kmer(mutations_df, exons_coords_df, signatures_file, tumor_type, \n",
    "                            middle_distance_threshold, k, include, tb_consequence_type, consequence_rank_dict)\n",
    "\n",
    "exons_centered_results.to_csv('results/exons_centered_' + str(k) + 'mer_DNM_context_' + str(include) + '.tsv', sep=\"\\t\", header=True, index=False)"
   ]
  },
  {
   "cell_type": "markdown",
   "metadata": {},
   "source": [
    "#### Significance through permutations"
   ]
  },
  {
   "cell_type": "code",
   "execution_count": 100,
   "metadata": {},
   "outputs": [
    {
     "name": "stdout",
     "output_type": "stream",
     "text": [
      "Total amount of mutations at the middle exon-centered sequences is 50780\n",
      "Observed at middle exons: 1170\n",
      "Observed at flanking introns: 46111\n"
     ]
    }
   ],
   "source": [
    "k = 3\n",
    "middle_distance_threshold = 1000\n",
    "signatures_file = 'results/' + str(k) + 'mer_signatures_DNM_new.txt'\n",
    "include = 'synonymous'\n",
    "\n",
    "(exons_centered_results, exonic_obs, intronic_obs) = stacked_sequence_level_permutation_excluding(mutations_df,\n",
    "                                    exons_coords_df, signatures_file, tumor_type, middle_distance_threshold,\n",
    "                                    k, include, tb_consequence_type, consequence_rank_dict)\n",
    "\n",
    "exons_centered_results = pd.DataFrame.transpose(exons_centered_results)\n",
    "exons_centered_results.to_csv(path.join('results', 'exons_centered_' + str(k) + 'mer_permut_' + include + '.tsv'),\n",
    "                              sep=\"\\t\", header=True, index=False)"
   ]
  },
  {
   "cell_type": "code",
   "execution_count": 101,
   "metadata": {},
   "outputs": [
    {
     "data": {
      "text/html": [
       "<div>\n",
       "<style>\n",
       "    .dataframe thead tr:only-child th {\n",
       "        text-align: right;\n",
       "    }\n",
       "\n",
       "    .dataframe thead th {\n",
       "        text-align: left;\n",
       "    }\n",
       "\n",
       "    .dataframe tbody tr th {\n",
       "        vertical-align: top;\n",
       "    }\n",
       "</style>\n",
       "<table border=\"1\" class=\"dataframe\">\n",
       "  <thead>\n",
       "    <tr style=\"text-align: right;\">\n",
       "      <th></th>\n",
       "      <th>obs_exon_cnt</th>\n",
       "      <th>exp_exon_cnt</th>\n",
       "      <th>obs_intron_cnt</th>\n",
       "      <th>exp_intron_cnt</th>\n",
       "      <th>empirical_pvalue</th>\n",
       "    </tr>\n",
       "  </thead>\n",
       "  <tbody>\n",
       "    <tr>\n",
       "      <th>0</th>\n",
       "      <td>1170</td>\n",
       "      <td>1181.696</td>\n",
       "      <td>46111</td>\n",
       "      <td>46099.304</td>\n",
       "      <td>0.651</td>\n",
       "    </tr>\n",
       "  </tbody>\n",
       "</table>\n",
       "</div>"
      ],
      "text/plain": [
       "   obs_exon_cnt  exp_exon_cnt  obs_intron_cnt  exp_intron_cnt  \\\n",
       "0          1170      1181.696           46111       46099.304   \n",
       "\n",
       "   empirical_pvalue  \n",
       "0             0.651  "
      ]
     },
     "execution_count": 101,
     "metadata": {},
     "output_type": "execute_result"
    }
   ],
   "source": [
    "k = 3\n",
    "results = []\n",
    "RANDOMIZATION = 1000\n",
    "include = 'synonymous'\n",
    "    \n",
    "# Read the expected exon and intron mutation counts from permutations\n",
    "rand_output = pd.read_csv(path.join('results', 'exons_centered_' + str(k) + 'mer_permut_' + include + '.tsv'), sep=\"\\t\")\n",
    "    \n",
    "# count the number of times the expected exon mutations is higher than the observed\n",
    "count = len(rand_output[rand_output['exon_Exp'] >= exonic_obs])\n",
    "    \n",
    "if count == 0:\n",
    "    count = 1 \n",
    "    \n",
    "results.append([exonic_obs, rand_output['exon_Exp'].mean(), intronic_obs, rand_output['intron_Exp'].mean(), count/RANDOMIZATION])\n",
    "    \n",
    "results_df = pd.DataFrame(results)\n",
    "results_df.columns = ['obs_exon_cnt', 'exp_exon_cnt','obs_intron_cnt', 'exp_intron_cnt', 'empirical_pvalue']\n",
    "results_df"
   ]
  },
  {
   "cell_type": "code",
   "execution_count": 102,
   "metadata": {},
   "outputs": [
    {
     "data": {
      "text/plain": [
       "0   -0.989764\n",
       "dtype: float64"
      ]
     },
     "execution_count": 102,
     "metadata": {},
     "output_type": "execute_result"
    }
   ],
   "source": [
    "exonic_increase = (results_df[\"obs_exon_cnt\"]/results_df[\"exp_exon_cnt\"]-1)*100\n",
    "exonic_increase"
   ]
  },
  {
   "cell_type": "code",
   "execution_count": 103,
   "metadata": {},
   "outputs": [
    {
     "data": {
      "text/plain": [
       "(0   -1.075904\n",
       " dtype: float64, 0   -0.903624\n",
       " dtype: float64)"
      ]
     },
     "execution_count": 103,
     "metadata": {},
     "output_type": "execute_result"
    }
   ],
   "source": [
    "rand_output['increase'] = (exonic_obs/rand_output['exon_Exp']-1)*100\n",
    "error = (st.stdev(rand_output['increase'].tolist())/np.sqrt(1000))\n",
    "(exonic_increase-error, exonic_increase+error)"
   ]
  },
  {
   "cell_type": "markdown",
   "metadata": {},
   "source": [
    "### 3-mer context dependency, non_synonymous"
   ]
  },
  {
   "cell_type": "code",
   "execution_count": 104,
   "metadata": {},
   "outputs": [
    {
     "name": "stdout",
     "output_type": "stream",
     "text": [
      "The total amount of mutations at the middle exon-centered sequences is 50780\n",
      "The total amount of mutations at the exonic sequences are 4757\n",
      "The category initiator_codon_variant is found 6 times.\n",
      "The category intron_variant is found 1 times.\n",
      "The category missense_variant is found 3280 times.\n",
      "The category None is found 10 times.\n",
      "The category downstream_gene_variant is found 2 times.\n",
      "The category upstream_gene_variant is found 8 times.\n",
      "The category splice_region_variant is found 58 times.\n",
      "The category splice_donor_variant is found 3 times.\n",
      "The category 5 is found 2 times.\n",
      "The category splice_acceptor_variant is found 1 times.\n",
      "The category stop_gained is found 202 times.\n",
      "The category synonymous_variant is found 1184 times.\n"
     ]
    }
   ],
   "source": [
    "k = 3\n",
    "middle_distance_threshold = 1000\n",
    "include = 'non_synonymous'\n",
    "signatures_file = 'results/' + str(k) + 'mer_signatures_DNM_new.txt'\n",
    "\n",
    "exons_centered_results = obs_exp_muts_excluding_kmer(mutations_df, exons_coords_df, signatures_file, tumor_type, \n",
    "                            middle_distance_threshold, k, include, tb_consequence_type, consequence_rank_dict)\n",
    "\n",
    "exons_centered_results.to_csv('results/exons_centered_' + str(k) + 'mer_DNM_context_' + str(include) + '.tsv', sep=\"\\t\", header=True, index=False)"
   ]
  },
  {
   "cell_type": "markdown",
   "metadata": {},
   "source": [
    "#### Significance through permutations"
   ]
  },
  {
   "cell_type": "code",
   "execution_count": 105,
   "metadata": {},
   "outputs": [
    {
     "name": "stdout",
     "output_type": "stream",
     "text": [
      "Total amount of mutations at the middle exon-centered sequences is 50780\n",
      "Observed at middle exons: 3488\n",
      "Observed at flanking introns: 46111\n"
     ]
    }
   ],
   "source": [
    "k = 3\n",
    "middle_distance_threshold = 1000\n",
    "signatures_file = 'results/' + str(k) + 'mer_signatures_DNM_new.txt'\n",
    "include = 'non_synonymous'\n",
    "\n",
    "(exons_centered_results, exonic_obs, intronic_obs) = stacked_sequence_level_permutation_excluding(mutations_df,\n",
    "                                    exons_coords_df, signatures_file, tumor_type, middle_distance_threshold,\n",
    "                                    k, include, tb_consequence_type, consequence_rank_dict)\n",
    "\n",
    "exons_centered_results = pd.DataFrame.transpose(exons_centered_results)\n",
    "exons_centered_results.to_csv(path.join('results', 'exons_centered_' + str(k) + 'mer_permut_' + include + '.tsv'),\n",
    "                              sep=\"\\t\", header=True, index=False)"
   ]
  },
  {
   "cell_type": "code",
   "execution_count": 106,
   "metadata": {},
   "outputs": [
    {
     "data": {
      "text/html": [
       "<div>\n",
       "<style>\n",
       "    .dataframe thead tr:only-child th {\n",
       "        text-align: right;\n",
       "    }\n",
       "\n",
       "    .dataframe thead th {\n",
       "        text-align: left;\n",
       "    }\n",
       "\n",
       "    .dataframe tbody tr th {\n",
       "        vertical-align: top;\n",
       "    }\n",
       "</style>\n",
       "<table border=\"1\" class=\"dataframe\">\n",
       "  <thead>\n",
       "    <tr style=\"text-align: right;\">\n",
       "      <th></th>\n",
       "      <th>obs_exon_cnt</th>\n",
       "      <th>exp_exon_cnt</th>\n",
       "      <th>obs_intron_cnt</th>\n",
       "      <th>exp_intron_cnt</th>\n",
       "      <th>empirical_pvalue</th>\n",
       "    </tr>\n",
       "  </thead>\n",
       "  <tbody>\n",
       "    <tr>\n",
       "      <th>0</th>\n",
       "      <td>3488</td>\n",
       "      <td>3159.642</td>\n",
       "      <td>46111</td>\n",
       "      <td>46439.358</td>\n",
       "      <td>0.001</td>\n",
       "    </tr>\n",
       "  </tbody>\n",
       "</table>\n",
       "</div>"
      ],
      "text/plain": [
       "   obs_exon_cnt  exp_exon_cnt  obs_intron_cnt  exp_intron_cnt  \\\n",
       "0          3488      3159.642           46111       46439.358   \n",
       "\n",
       "   empirical_pvalue  \n",
       "0             0.001  "
      ]
     },
     "execution_count": 106,
     "metadata": {},
     "output_type": "execute_result"
    }
   ],
   "source": [
    "k = 3\n",
    "results = []\n",
    "RANDOMIZATION = 1000\n",
    "include = 'non_synonymous'\n",
    "    \n",
    "# Read the expected exon and intron mutation counts from permutations\n",
    "rand_output = pd.read_csv(path.join('results', 'exons_centered_' + str(k) + 'mer_permut_' + include + '.tsv'), sep=\"\\t\")\n",
    "    \n",
    "# count the number of times the expected exon mutations is higher than the observed\n",
    "count = len(rand_output[rand_output['exon_Exp'] >= exonic_obs])\n",
    "    \n",
    "if count == 0:\n",
    "    count = 1 \n",
    "    \n",
    "results.append([exonic_obs, rand_output['exon_Exp'].mean(), intronic_obs, rand_output['intron_Exp'].mean(), count/RANDOMIZATION])\n",
    "    \n",
    "results_df = pd.DataFrame(results)\n",
    "results_df.columns = ['obs_exon_cnt', 'exp_exon_cnt','obs_intron_cnt', 'exp_intron_cnt', 'empirical_pvalue']\n",
    "results_df"
   ]
  },
  {
   "cell_type": "code",
   "execution_count": 107,
   "metadata": {},
   "outputs": [
    {
     "data": {
      "text/plain": [
       "0    10.392253\n",
       "dtype: float64"
      ]
     },
     "execution_count": 107,
     "metadata": {},
     "output_type": "execute_result"
    }
   ],
   "source": [
    "exonic_increase = (results_df[\"obs_exon_cnt\"]/results_df[\"exp_exon_cnt\"]-1)*100\n",
    "exonic_increase"
   ]
  },
  {
   "cell_type": "code",
   "execution_count": 108,
   "metadata": {},
   "outputs": [
    {
     "data": {
      "text/plain": [
       "(0    10.335415\n",
       " dtype: float64, 0    10.449092\n",
       " dtype: float64)"
      ]
     },
     "execution_count": 108,
     "metadata": {},
     "output_type": "execute_result"
    }
   ],
   "source": [
    "rand_output['increase'] = (exonic_obs/rand_output['exon_Exp']-1)*100\n",
    "error = (st.stdev(rand_output['increase'].tolist())/np.sqrt(1000))\n",
    "(exonic_increase-error, exonic_increase+error)"
   ]
  },
  {
   "cell_type": "markdown",
   "metadata": {},
   "source": [
    "### 5-mer context dependency, synonymous"
   ]
  },
  {
   "cell_type": "code",
   "execution_count": 109,
   "metadata": {},
   "outputs": [
    {
     "name": "stdout",
     "output_type": "stream",
     "text": [
      "The total amount of mutations at the middle exon-centered sequences is 50780\n",
      "The total amount of mutations at the exonic sequences are 4757\n",
      "The category initiator_codon_variant is found 6 times.\n",
      "The category intron_variant is found 1 times.\n",
      "The category missense_variant is found 3280 times.\n",
      "The category None is found 10 times.\n",
      "The category downstream_gene_variant is found 2 times.\n",
      "The category upstream_gene_variant is found 8 times.\n",
      "The category splice_region_variant is found 58 times.\n",
      "The category splice_donor_variant is found 3 times.\n",
      "The category 5 is found 2 times.\n",
      "The category splice_acceptor_variant is found 1 times.\n",
      "The category stop_gained is found 202 times.\n",
      "The category synonymous_variant is found 1184 times.\n"
     ]
    }
   ],
   "source": [
    "k = 5\n",
    "middle_distance_threshold = 1000\n",
    "include = 'synonymous'\n",
    "signatures_file = 'results/' + str(k) + 'mer_signatures_DNM_new.txt'\n",
    "\n",
    "exons_centered_results = obs_exp_muts_excluding_kmer(mutations_df, exons_coords_df, signatures_file, tumor_type, \n",
    "                            middle_distance_threshold, k, include, tb_consequence_type, consequence_rank_dict)\n",
    "\n",
    "exons_centered_results.to_csv('results/exons_centered_' + str(k) + 'mer_DNM_context_' + str(include) + '.tsv', sep=\"\\t\", header=True, index=False)"
   ]
  },
  {
   "cell_type": "markdown",
   "metadata": {},
   "source": [
    "#### Significance through permutations"
   ]
  },
  {
   "cell_type": "code",
   "execution_count": 110,
   "metadata": {},
   "outputs": [
    {
     "name": "stdout",
     "output_type": "stream",
     "text": [
      "Total amount of mutations at the middle exon-centered sequences is 50780\n",
      "Observed at middle exons: 1170\n",
      "Observed at flanking introns: 46111\n"
     ]
    }
   ],
   "source": [
    "k = 5\n",
    "middle_distance_threshold = 1000\n",
    "signatures_file = 'results/' + str(k) + 'mer_signatures_DNM_new.txt'\n",
    "include = 'synonymous'\n",
    "\n",
    "(exons_centered_results, exonic_obs, intronic_obs) = stacked_sequence_level_permutation_excluding(mutations_df,\n",
    "                                    exons_coords_df, signatures_file, tumor_type, middle_distance_threshold,\n",
    "                                    k, include, tb_consequence_type, consequence_rank_dict)\n",
    "\n",
    "exons_centered_results = pd.DataFrame.transpose(exons_centered_results)\n",
    "exons_centered_results.to_csv(path.join('results', 'exons_centered_' + str(k) + 'mer_permut_' + include + '.tsv'),\n",
    "                              sep=\"\\t\", header=True, index=False)"
   ]
  },
  {
   "cell_type": "code",
   "execution_count": 111,
   "metadata": {},
   "outputs": [
    {
     "data": {
      "text/html": [
       "<div>\n",
       "<style>\n",
       "    .dataframe thead tr:only-child th {\n",
       "        text-align: right;\n",
       "    }\n",
       "\n",
       "    .dataframe thead th {\n",
       "        text-align: left;\n",
       "    }\n",
       "\n",
       "    .dataframe tbody tr th {\n",
       "        vertical-align: top;\n",
       "    }\n",
       "</style>\n",
       "<table border=\"1\" class=\"dataframe\">\n",
       "  <thead>\n",
       "    <tr style=\"text-align: right;\">\n",
       "      <th></th>\n",
       "      <th>obs_exon_cnt</th>\n",
       "      <th>exp_exon_cnt</th>\n",
       "      <th>obs_intron_cnt</th>\n",
       "      <th>exp_intron_cnt</th>\n",
       "      <th>empirical_pvalue</th>\n",
       "    </tr>\n",
       "  </thead>\n",
       "  <tbody>\n",
       "    <tr>\n",
       "      <th>0</th>\n",
       "      <td>1170</td>\n",
       "      <td>1177.725</td>\n",
       "      <td>46111</td>\n",
       "      <td>46103.275</td>\n",
       "      <td>0.592</td>\n",
       "    </tr>\n",
       "  </tbody>\n",
       "</table>\n",
       "</div>"
      ],
      "text/plain": [
       "   obs_exon_cnt  exp_exon_cnt  obs_intron_cnt  exp_intron_cnt  \\\n",
       "0          1170      1177.725           46111       46103.275   \n",
       "\n",
       "   empirical_pvalue  \n",
       "0             0.592  "
      ]
     },
     "execution_count": 111,
     "metadata": {},
     "output_type": "execute_result"
    }
   ],
   "source": [
    "k = 5\n",
    "results = []\n",
    "RANDOMIZATION = 1000\n",
    "include = 'synonymous'\n",
    "    \n",
    "# Read the expected exon and intron mutation counts from permutations\n",
    "rand_output = pd.read_csv(path.join('results', 'exons_centered_' + str(k) + 'mer_permut_' + include + '.tsv'), sep=\"\\t\")\n",
    "    \n",
    "# count the number of times the expected exon mutations is higher than the observed\n",
    "count = len(rand_output[rand_output['exon_Exp'] >= exonic_obs])\n",
    "    \n",
    "if count == 0:\n",
    "    count = 1 \n",
    "    \n",
    "results.append([exonic_obs, rand_output['exon_Exp'].mean(), intronic_obs, rand_output['intron_Exp'].mean(), count/RANDOMIZATION])\n",
    "    \n",
    "results_df = pd.DataFrame(results)\n",
    "results_df.columns = ['obs_exon_cnt', 'exp_exon_cnt','obs_intron_cnt', 'exp_intron_cnt', 'empirical_pvalue']\n",
    "results_df"
   ]
  },
  {
   "cell_type": "code",
   "execution_count": 112,
   "metadata": {},
   "outputs": [
    {
     "data": {
      "text/plain": [
       "0   -0.655926\n",
       "dtype: float64"
      ]
     },
     "execution_count": 112,
     "metadata": {},
     "output_type": "execute_result"
    }
   ],
   "source": [
    "exonic_increase = (results_df[\"obs_exon_cnt\"]/results_df[\"exp_exon_cnt\"]-1)*100\n",
    "exonic_increase"
   ]
  },
  {
   "cell_type": "code",
   "execution_count": 113,
   "metadata": {},
   "outputs": [
    {
     "data": {
      "text/plain": [
       "(0   -0.747989\n",
       " dtype: float64, 0   -0.563862\n",
       " dtype: float64)"
      ]
     },
     "execution_count": 113,
     "metadata": {},
     "output_type": "execute_result"
    }
   ],
   "source": [
    "rand_output['increase'] = (exonic_obs/rand_output['exon_Exp']-1)*100\n",
    "error = (st.stdev(rand_output['increase'].tolist())/np.sqrt(1000))\n",
    "(exonic_increase-error, exonic_increase+error)"
   ]
  },
  {
   "cell_type": "markdown",
   "metadata": {},
   "source": [
    "### 5-mer context dependency, non_synonymous"
   ]
  },
  {
   "cell_type": "code",
   "execution_count": 114,
   "metadata": {},
   "outputs": [
    {
     "name": "stdout",
     "output_type": "stream",
     "text": [
      "The total amount of mutations at the middle exon-centered sequences is 50780\n",
      "The total amount of mutations at the exonic sequences are 4757\n",
      "The category initiator_codon_variant is found 6 times.\n",
      "The category intron_variant is found 1 times.\n",
      "The category missense_variant is found 3280 times.\n",
      "The category None is found 10 times.\n",
      "The category downstream_gene_variant is found 2 times.\n",
      "The category upstream_gene_variant is found 8 times.\n",
      "The category splice_region_variant is found 58 times.\n",
      "The category splice_donor_variant is found 3 times.\n",
      "The category 5 is found 2 times.\n",
      "The category splice_acceptor_variant is found 1 times.\n",
      "The category stop_gained is found 202 times.\n",
      "The category synonymous_variant is found 1184 times.\n"
     ]
    }
   ],
   "source": [
    "k = 5\n",
    "middle_distance_threshold = 1000\n",
    "include = 'non_synonymous'\n",
    "signatures_file = 'results/' + str(k) + 'mer_signatures_DNM_new.txt'\n",
    "\n",
    "exons_centered_results = obs_exp_muts_excluding_kmer(mutations_df, exons_coords_df, signatures_file, tumor_type, \n",
    "                            middle_distance_threshold, k, include, tb_consequence_type, consequence_rank_dict)\n",
    "\n",
    "exons_centered_results.to_csv('results/exons_centered_' + str(k) + 'mer_DNM_context_' + str(include) + '.tsv', sep=\"\\t\", header=True, index=False)"
   ]
  },
  {
   "cell_type": "markdown",
   "metadata": {},
   "source": [
    "#### Significance through permutations"
   ]
  },
  {
   "cell_type": "code",
   "execution_count": 115,
   "metadata": {},
   "outputs": [
    {
     "name": "stdout",
     "output_type": "stream",
     "text": [
      "Total amount of mutations at the middle exon-centered sequences is 50780\n",
      "Observed at middle exons: 3488\n",
      "Observed at flanking introns: 46111\n"
     ]
    }
   ],
   "source": [
    "k = 5\n",
    "middle_distance_threshold = 1000\n",
    "signatures_file = 'results/' + str(k) + 'mer_signatures_DNM_new.txt'\n",
    "include = 'non_synonymous'\n",
    "\n",
    "(exons_centered_results, exonic_obs, intronic_obs) = stacked_sequence_level_permutation_excluding(mutations_df,\n",
    "                                    exons_coords_df, signatures_file, tumor_type, middle_distance_threshold,\n",
    "                                    k, include, tb_consequence_type, consequence_rank_dict)\n",
    "\n",
    "exons_centered_results = pd.DataFrame.transpose(exons_centered_results)\n",
    "exons_centered_results.to_csv(path.join('results', 'exons_centered_' + str(k) + 'mer_permut_' + include + '.tsv'),\n",
    "                              sep=\"\\t\", header=True, index=False)"
   ]
  },
  {
   "cell_type": "code",
   "execution_count": 116,
   "metadata": {},
   "outputs": [
    {
     "data": {
      "text/html": [
       "<div>\n",
       "<style>\n",
       "    .dataframe thead tr:only-child th {\n",
       "        text-align: right;\n",
       "    }\n",
       "\n",
       "    .dataframe thead th {\n",
       "        text-align: left;\n",
       "    }\n",
       "\n",
       "    .dataframe tbody tr th {\n",
       "        vertical-align: top;\n",
       "    }\n",
       "</style>\n",
       "<table border=\"1\" class=\"dataframe\">\n",
       "  <thead>\n",
       "    <tr style=\"text-align: right;\">\n",
       "      <th></th>\n",
       "      <th>obs_exon_cnt</th>\n",
       "      <th>exp_exon_cnt</th>\n",
       "      <th>obs_intron_cnt</th>\n",
       "      <th>exp_intron_cnt</th>\n",
       "      <th>empirical_pvalue</th>\n",
       "    </tr>\n",
       "  </thead>\n",
       "  <tbody>\n",
       "    <tr>\n",
       "      <th>0</th>\n",
       "      <td>3488</td>\n",
       "      <td>3178.357</td>\n",
       "      <td>46111</td>\n",
       "      <td>46420.643</td>\n",
       "      <td>0.001</td>\n",
       "    </tr>\n",
       "  </tbody>\n",
       "</table>\n",
       "</div>"
      ],
      "text/plain": [
       "   obs_exon_cnt  exp_exon_cnt  obs_intron_cnt  exp_intron_cnt  \\\n",
       "0          3488      3178.357           46111       46420.643   \n",
       "\n",
       "   empirical_pvalue  \n",
       "0             0.001  "
      ]
     },
     "execution_count": 116,
     "metadata": {},
     "output_type": "execute_result"
    }
   ],
   "source": [
    "k = 5\n",
    "results = []\n",
    "RANDOMIZATION = 1000\n",
    "include = 'non_synonymous'\n",
    "    \n",
    "# Read the expected exon and intron mutation counts from permutations\n",
    "rand_output = pd.read_csv(path.join('results', 'exons_centered_' + str(k) + 'mer_permut_' + include + '.tsv'), sep=\"\\t\")\n",
    "    \n",
    "# count the number of times the expected exon mutations is higher than the observed\n",
    "count = len(rand_output[rand_output['exon_Exp'] >= exonic_obs])\n",
    "    \n",
    "if count == 0:\n",
    "    count = 1 \n",
    "    \n",
    "results.append([exonic_obs, rand_output['exon_Exp'].mean(), intronic_obs, rand_output['intron_Exp'].mean(), count/RANDOMIZATION])\n",
    "    \n",
    "results_df = pd.DataFrame(results)\n",
    "results_df.columns = ['obs_exon_cnt', 'exp_exon_cnt','obs_intron_cnt', 'exp_intron_cnt', 'empirical_pvalue']\n",
    "results_df"
   ]
  },
  {
   "cell_type": "code",
   "execution_count": 117,
   "metadata": {},
   "outputs": [
    {
     "data": {
      "text/plain": [
       "0    9.742235\n",
       "dtype: float64"
      ]
     },
     "execution_count": 117,
     "metadata": {},
     "output_type": "execute_result"
    }
   ],
   "source": [
    "exonic_increase = (results_df[\"obs_exon_cnt\"]/results_df[\"exp_exon_cnt\"]-1)*100\n",
    "exonic_increase"
   ]
  },
  {
   "cell_type": "code",
   "execution_count": 118,
   "metadata": {},
   "outputs": [
    {
     "data": {
      "text/plain": [
       "(0    9.68534\n",
       " dtype: float64, 0    9.799129\n",
       " dtype: float64)"
      ]
     },
     "execution_count": 118,
     "metadata": {},
     "output_type": "execute_result"
    }
   ],
   "source": [
    "rand_output['increase'] = (exonic_obs/rand_output['exon_Exp']-1)*100\n",
    "error = (st.stdev(rand_output['increase'].tolist())/np.sqrt(1000))\n",
    "(exonic_increase-error, exonic_increase+error)"
   ]
  },
  {
   "cell_type": "markdown",
   "metadata": {},
   "source": [
    "### 7-mer context dependency, synonymous"
   ]
  },
  {
   "cell_type": "code",
   "execution_count": 119,
   "metadata": {},
   "outputs": [
    {
     "name": "stdout",
     "output_type": "stream",
     "text": [
      "The total amount of mutations at the middle exon-centered sequences is 50780\n",
      "The total amount of mutations at the exonic sequences are 4757\n",
      "The category initiator_codon_variant is found 6 times.\n",
      "The category intron_variant is found 1 times.\n",
      "The category missense_variant is found 3280 times.\n",
      "The category None is found 10 times.\n",
      "The category downstream_gene_variant is found 2 times.\n",
      "The category upstream_gene_variant is found 8 times.\n",
      "The category splice_region_variant is found 58 times.\n",
      "The category splice_donor_variant is found 3 times.\n",
      "The category 5 is found 2 times.\n",
      "The category splice_acceptor_variant is found 1 times.\n",
      "The category stop_gained is found 202 times.\n",
      "The category synonymous_variant is found 1184 times.\n"
     ]
    }
   ],
   "source": [
    "k = 7\n",
    "middle_distance_threshold = 1000\n",
    "include = 'synonymous'\n",
    "signatures_file = 'results/' + str(k) + 'mer_DNM_signatures_decomp.txt'\n",
    "\n",
    "exons_centered_results = obs_exp_muts_excluding_kmer(mutations_df, exons_coords_df, signatures_file, tumor_type, \n",
    "                            middle_distance_threshold, k, include, tb_consequence_type, consequence_rank_dict)\n",
    "\n",
    "exons_centered_results.to_csv('results/exons_centered_' + str(k) + 'mer_DNM_context_' + str(include) + '.tsv', sep=\"\\t\", header=True, index=False)"
   ]
  },
  {
   "cell_type": "markdown",
   "metadata": {},
   "source": [
    "#### Significance through permutations"
   ]
  },
  {
   "cell_type": "code",
   "execution_count": 120,
   "metadata": {},
   "outputs": [
    {
     "name": "stdout",
     "output_type": "stream",
     "text": [
      "Total amount of mutations at the middle exon-centered sequences is 50780\n",
      "Observed at middle exons: 1170\n",
      "Observed at flanking introns: 46111\n"
     ]
    }
   ],
   "source": [
    "k = 7\n",
    "middle_distance_threshold = 1000\n",
    "signatures_file = 'results/' + str(k) + 'mer_DNM_signatures_decomp.txt'\n",
    "include = 'synonymous'\n",
    "\n",
    "(exons_centered_results, exonic_obs, intronic_obs) = stacked_sequence_level_permutation_excluding(mutations_df,\n",
    "                                    exons_coords_df, signatures_file, tumor_type, middle_distance_threshold,\n",
    "                                    k, include, tb_consequence_type, consequence_rank_dict)\n",
    "\n",
    "exons_centered_results = pd.DataFrame.transpose(exons_centered_results)\n",
    "exons_centered_results.to_csv(path.join('results', 'exons_centered_' + str(k) + 'mer_permut_' + include + '.tsv'),\n",
    "                              sep=\"\\t\", header=True, index=False)"
   ]
  },
  {
   "cell_type": "code",
   "execution_count": 121,
   "metadata": {},
   "outputs": [
    {
     "data": {
      "text/html": [
       "<div>\n",
       "<style>\n",
       "    .dataframe thead tr:only-child th {\n",
       "        text-align: right;\n",
       "    }\n",
       "\n",
       "    .dataframe thead th {\n",
       "        text-align: left;\n",
       "    }\n",
       "\n",
       "    .dataframe tbody tr th {\n",
       "        vertical-align: top;\n",
       "    }\n",
       "</style>\n",
       "<table border=\"1\" class=\"dataframe\">\n",
       "  <thead>\n",
       "    <tr style=\"text-align: right;\">\n",
       "      <th></th>\n",
       "      <th>obs_exon_cnt</th>\n",
       "      <th>exp_exon_cnt</th>\n",
       "      <th>obs_intron_cnt</th>\n",
       "      <th>exp_intron_cnt</th>\n",
       "      <th>empirical_pvalue</th>\n",
       "    </tr>\n",
       "  </thead>\n",
       "  <tbody>\n",
       "    <tr>\n",
       "      <th>0</th>\n",
       "      <td>1170</td>\n",
       "      <td>1175.267</td>\n",
       "      <td>46111</td>\n",
       "      <td>46105.733</td>\n",
       "      <td>0.561</td>\n",
       "    </tr>\n",
       "  </tbody>\n",
       "</table>\n",
       "</div>"
      ],
      "text/plain": [
       "   obs_exon_cnt  exp_exon_cnt  obs_intron_cnt  exp_intron_cnt  \\\n",
       "0          1170      1175.267           46111       46105.733   \n",
       "\n",
       "   empirical_pvalue  \n",
       "0             0.561  "
      ]
     },
     "execution_count": 121,
     "metadata": {},
     "output_type": "execute_result"
    }
   ],
   "source": [
    "k = 7\n",
    "results = []\n",
    "RANDOMIZATION = 1000\n",
    "include = 'synonymous'\n",
    "    \n",
    "# Read the expected exon and intron mutation counts from permutations\n",
    "rand_output = pd.read_csv(path.join('results', 'exons_centered_' + str(k) + 'mer_permut_' + include + '.tsv'), sep=\"\\t\")\n",
    "    \n",
    "# count the number of times the expected exon mutations is higher than the observed\n",
    "count = len(rand_output[rand_output['exon_Exp'] >= exonic_obs])\n",
    "    \n",
    "if count == 0:\n",
    "    count = 1 \n",
    "    \n",
    "results.append([exonic_obs, rand_output['exon_Exp'].mean(), intronic_obs, rand_output['intron_Exp'].mean(), count/RANDOMIZATION])\n",
    "    \n",
    "results_df = pd.DataFrame(results)\n",
    "results_df.columns = ['obs_exon_cnt', 'exp_exon_cnt','obs_intron_cnt', 'exp_intron_cnt', 'empirical_pvalue']\n",
    "results_df"
   ]
  },
  {
   "cell_type": "code",
   "execution_count": 122,
   "metadata": {},
   "outputs": [
    {
     "data": {
      "text/plain": [
       "0   -0.448153\n",
       "dtype: float64"
      ]
     },
     "execution_count": 122,
     "metadata": {},
     "output_type": "execute_result"
    }
   ],
   "source": [
    "exonic_increase = (results_df[\"obs_exon_cnt\"]/results_df[\"exp_exon_cnt\"]-1)*100\n",
    "exonic_increase"
   ]
  },
  {
   "cell_type": "code",
   "execution_count": 123,
   "metadata": {},
   "outputs": [
    {
     "data": {
      "text/plain": [
       "(0   -0.535776\n",
       " dtype: float64, 0   -0.360531\n",
       " dtype: float64)"
      ]
     },
     "execution_count": 123,
     "metadata": {},
     "output_type": "execute_result"
    }
   ],
   "source": [
    "rand_output['increase'] = (exonic_obs/rand_output['exon_Exp']-1)*100\n",
    "error = (st.stdev(rand_output['increase'].tolist())/np.sqrt(1000))\n",
    "(exonic_increase-error, exonic_increase+error)"
   ]
  },
  {
   "cell_type": "markdown",
   "metadata": {},
   "source": [
    "### 7-mer context dependency, non_synonymous"
   ]
  },
  {
   "cell_type": "code",
   "execution_count": 124,
   "metadata": {},
   "outputs": [
    {
     "name": "stdout",
     "output_type": "stream",
     "text": [
      "The total amount of mutations at the middle exon-centered sequences is 50780\n",
      "The total amount of mutations at the exonic sequences are 4757\n",
      "The category initiator_codon_variant is found 6 times.\n",
      "The category intron_variant is found 1 times.\n",
      "The category missense_variant is found 3280 times.\n",
      "The category None is found 10 times.\n",
      "The category downstream_gene_variant is found 2 times.\n",
      "The category upstream_gene_variant is found 8 times.\n",
      "The category splice_region_variant is found 58 times.\n",
      "The category splice_donor_variant is found 3 times.\n",
      "The category 5 is found 2 times.\n",
      "The category splice_acceptor_variant is found 1 times.\n",
      "The category stop_gained is found 202 times.\n",
      "The category synonymous_variant is found 1184 times.\n"
     ]
    }
   ],
   "source": [
    "k = 7\n",
    "middle_distance_threshold = 1000\n",
    "include = 'non_synonymous'\n",
    "signatures_file = 'results/' + str(k) + 'mer_DNM_signatures_decomp.txt'\n",
    "\n",
    "exons_centered_results = obs_exp_muts_excluding_kmer(mutations_df, exons_coords_df, signatures_file, tumor_type, \n",
    "                            middle_distance_threshold, k, include, tb_consequence_type, consequence_rank_dict)\n",
    "\n",
    "exons_centered_results.to_csv('results/exons_centered_' + str(k) + 'mer_DNM_context_' + str(include) + '.tsv', sep=\"\\t\", header=True, index=False)"
   ]
  },
  {
   "cell_type": "markdown",
   "metadata": {},
   "source": [
    "#### Significance through permutations"
   ]
  },
  {
   "cell_type": "code",
   "execution_count": 125,
   "metadata": {},
   "outputs": [
    {
     "name": "stdout",
     "output_type": "stream",
     "text": [
      "Total amount of mutations at the middle exon-centered sequences is 50780\n",
      "Observed at middle exons: 3488\n",
      "Observed at flanking introns: 46111\n"
     ]
    }
   ],
   "source": [
    "k = 7\n",
    "middle_distance_threshold = 1000\n",
    "signatures_file = 'results/' + str(k) + 'mer_DNM_signatures_decomp.txt'\n",
    "include = 'non_synonymous'\n",
    "\n",
    "(exons_centered_results, exonic_obs, intronic_obs) = stacked_sequence_level_permutation_excluding(mutations_df,\n",
    "                                    exons_coords_df, signatures_file, tumor_type, middle_distance_threshold,\n",
    "                                    k, include, tb_consequence_type, consequence_rank_dict)\n",
    "\n",
    "exons_centered_results = pd.DataFrame.transpose(exons_centered_results)\n",
    "exons_centered_results.to_csv(path.join('results', 'exons_centered_' + str(k) + 'mer_permut_' + include + '.tsv'),\n",
    "                              sep=\"\\t\", header=True, index=False)"
   ]
  },
  {
   "cell_type": "code",
   "execution_count": 126,
   "metadata": {},
   "outputs": [
    {
     "data": {
      "text/html": [
       "<div>\n",
       "<style>\n",
       "    .dataframe thead tr:only-child th {\n",
       "        text-align: right;\n",
       "    }\n",
       "\n",
       "    .dataframe thead th {\n",
       "        text-align: left;\n",
       "    }\n",
       "\n",
       "    .dataframe tbody tr th {\n",
       "        vertical-align: top;\n",
       "    }\n",
       "</style>\n",
       "<table border=\"1\" class=\"dataframe\">\n",
       "  <thead>\n",
       "    <tr style=\"text-align: right;\">\n",
       "      <th></th>\n",
       "      <th>obs_exon_cnt</th>\n",
       "      <th>exp_exon_cnt</th>\n",
       "      <th>obs_intron_cnt</th>\n",
       "      <th>exp_intron_cnt</th>\n",
       "      <th>empirical_pvalue</th>\n",
       "    </tr>\n",
       "  </thead>\n",
       "  <tbody>\n",
       "    <tr>\n",
       "      <th>0</th>\n",
       "      <td>3488</td>\n",
       "      <td>3211.136</td>\n",
       "      <td>46111</td>\n",
       "      <td>46387.864</td>\n",
       "      <td>0.001</td>\n",
       "    </tr>\n",
       "  </tbody>\n",
       "</table>\n",
       "</div>"
      ],
      "text/plain": [
       "   obs_exon_cnt  exp_exon_cnt  obs_intron_cnt  exp_intron_cnt  \\\n",
       "0          3488      3211.136           46111       46387.864   \n",
       "\n",
       "   empirical_pvalue  \n",
       "0             0.001  "
      ]
     },
     "execution_count": 126,
     "metadata": {},
     "output_type": "execute_result"
    }
   ],
   "source": [
    "k = 7\n",
    "results = []\n",
    "RANDOMIZATION = 1000\n",
    "include = 'non_synonymous'\n",
    "    \n",
    "# Read the expected exon and intron mutation counts from permutations\n",
    "rand_output = pd.read_csv(path.join('results', 'exons_centered_' + str(k) + 'mer_permut_' + include + '.tsv'), sep=\"\\t\")\n",
    "    \n",
    "# count the number of times the expected exon mutations is higher than the observed\n",
    "count = len(rand_output[rand_output['exon_Exp'] >= exonic_obs])\n",
    "    \n",
    "if count == 0:\n",
    "    count = 1 \n",
    "    \n",
    "results.append([exonic_obs, rand_output['exon_Exp'].mean(), intronic_obs, rand_output['intron_Exp'].mean(), count/RANDOMIZATION])\n",
    "    \n",
    "results_df = pd.DataFrame(results)\n",
    "results_df.columns = ['obs_exon_cnt', 'exp_exon_cnt','obs_intron_cnt', 'exp_intron_cnt', 'empirical_pvalue']\n",
    "results_df"
   ]
  },
  {
   "cell_type": "code",
   "execution_count": 127,
   "metadata": {},
   "outputs": [
    {
     "data": {
      "text/plain": [
       "0    8.621995\n",
       "dtype: float64"
      ]
     },
     "execution_count": 127,
     "metadata": {},
     "output_type": "execute_result"
    }
   ],
   "source": [
    "exonic_increase = (results_df[\"obs_exon_cnt\"]/results_df[\"exp_exon_cnt\"]-1)*100\n",
    "exonic_increase"
   ]
  },
  {
   "cell_type": "code",
   "execution_count": 128,
   "metadata": {},
   "outputs": [
    {
     "data": {
      "text/plain": [
       "(0    8.565944\n",
       " dtype: float64, 0    8.678047\n",
       " dtype: float64)"
      ]
     },
     "execution_count": 128,
     "metadata": {},
     "output_type": "execute_result"
    }
   ],
   "source": [
    "rand_output['increase'] = (exonic_obs/rand_output['exon_Exp']-1)*100\n",
    "error = (st.stdev(rand_output['increase'].tolist())/np.sqrt(1000))\n",
    "(exonic_increase-error, exonic_increase+error)"
   ]
  },
  {
   "cell_type": "markdown",
   "metadata": {},
   "source": [
    "### Plot results\n",
    "\n",
    "Binned average approach. Bin size is 25."
   ]
  },
  {
   "cell_type": "code",
   "execution_count": 129,
   "metadata": {
    "scrolled": true
   },
   "outputs": [
    {
     "name": "stderr",
     "output_type": "stream",
     "text": [
      "/home/peluca/anaconda3/envs/intronexon/lib/python3.6/site-packages/ipykernel_launcher.py:20: MatplotlibDeprecationWarning: The set_axis_bgcolor function was deprecated in version 2.0. Use set_facecolor instead.\n",
      "/home/peluca/anaconda3/envs/intronexon/lib/python3.6/site-packages/matplotlib/font_manager.py:1297: UserWarning: findfont: Font family ['sans-serif'] not found. Falling back to DejaVu Sans\n",
      "  (prop.get_family(), self.defaultFamily[fontext]))\n"
     ]
    },
    {
     "data": {
      "image/png": "[encoded data removed]",
      "text/plain": [
       "<matplotlib.figure.Figure at 0x7f84c5a4a5c0>"
      ]
     },
     "metadata": {},
     "output_type": "display_data"
    }
   ],
   "source": [
    "size = 25\n",
    "\n",
    "listt = ['1mer_DNM_context_synonymous', '1mer_DNM_context_non_synonymous',\n",
    "        'CpGmer_DNM_context_synonymous', 'CpGmer_DNM_context_non_synonymous',\n",
    "        '3mer_DNM_context_synonymous', '3mer_DNM_context_non_synonymous',\n",
    "        '5mer_DNM_context_synonymous', '5mer_DNM_context_non_synonymous',\n",
    "        '7mer_DNM_context_synonymous', '7mer_DNM_context_non_synonymous']\n",
    "\n",
    "NROW=5\n",
    "NCOL=2\n",
    "\n",
    "axs = []\n",
    "\n",
    "fig = plt.figure(figsize=(7,4))\n",
    "\n",
    "for row in range(0, NROW):\n",
    "    for col in range(0, NCOL):\n",
    "        axs.append(plt.subplot2grid((NROW, NCOL), (row, col)))\n",
    "\n",
    "cnt=0\n",
    "for ele in listt:\n",
    "    plot_HD_BINNED(ele, axs[cnt], cnt, size)\n",
    "    cnt+=1\n",
    "    \n",
    "plt.tight_layout()\n",
    "plt.savefig(path.join('figures', 'internal_exon_centered_DNM_context_binned_selection.svg'), bbox_inches='tight')\n",
    "plt.show()"
   ]
  },
  {
   "cell_type": "markdown",
   "metadata": {
    "collapsed": true
   },
   "source": [
    "## Exons centered analysis, Halldorsson 2019\n",
    "\n",
    "Mutation probabilities were computed genome-wide using DNM. They were used to compute the expected number of mutations based on a generalized k-mer model, with the method described in the **Exon-centered and intron-centered mutational analyses** section at Frigola et al. for the 3-mer case."
   ]
  },
  {
   "cell_type": "code",
   "execution_count": 34,
   "metadata": {
    "collapsed": true
   },
   "outputs": [],
   "source": [
    "## Get mutations\n",
    "mutations_file = mutations_folder + 'germinal_ultimate_dataset.bed.gz'\n",
    "mutations_df = pd.read_csv(mutations_file, sep=\"\\t\", header=None)\n",
    "mutations_df.columns = ['chr', 'start', 'end', 'ref', 'alt', 'sample', 'type', 'class']\n",
    "mutations_df = mutations_df[['chr', 'start', 'end', 'ref', 'alt', 'sample', 'type']]\n",
    "mutations_df = mutations_df[mutations_df['type'] == 'subs']\n",
    "mutations_df = mutations_df[mutations_df['sample'] == 'Halldorsson2019']\n",
    "mutations_df['ID'] = mutations_df.index + 1\n",
    "\n",
    "tumor_type = 'germinal'"
   ]
  },
  {
   "cell_type": "markdown",
   "metadata": {},
   "source": [
    "### 1-mer context dependency, synonymous"
   ]
  },
  {
   "cell_type": "code",
   "execution_count": 33,
   "metadata": {},
   "outputs": [
    {
     "name": "stdout",
     "output_type": "stream",
     "text": [
      "The total amount of mutations at the middle exon-centered sequences is 12895\n",
      "The total amount of mutations at the exonic sequences are 1257\n",
      "The category splice_acceptor_variant is found 1 times.\n",
      "The category None is found 3 times.\n",
      "The category splice_region_variant is found 18 times.\n",
      "The category synonymous_variant is found 295 times.\n",
      "The category stop_gained is found 46 times.\n",
      "The category missense_variant is found 893 times.\n",
      "The category initiator_codon_variant is found 1 times.\n"
     ]
    },
    {
     "ename": "KeyboardInterrupt",
     "evalue": "",
     "output_type": "error",
     "traceback": [
      "\u001b[0;31m---------------------------------------------------------------------------\u001b[0m",
      "\u001b[0;31mKeyboardInterrupt\u001b[0m                         Traceback (most recent call last)",
      "\u001b[0;32m<ipython-input-33-c5999bcddf48>\u001b[0m in \u001b[0;36m<module>\u001b[0;34m()\u001b[0m\n\u001b[1;32m      5\u001b[0m \u001b[0;34m\u001b[0m\u001b[0m\n\u001b[1;32m      6\u001b[0m exons_centered_results = obs_exp_muts_excluding_kmer(mutations_df, exons_coords_df, signatures_file, tumor_type, \n\u001b[0;32m----> 7\u001b[0;31m                             middle_distance_threshold, k, include, tb_consequence_type, consequence_rank_dict)\n\u001b[0m\u001b[1;32m      8\u001b[0m \u001b[0;34m\u001b[0m\u001b[0m\n\u001b[1;32m      9\u001b[0m \u001b[0mexons_centered_results\u001b[0m\u001b[0;34m.\u001b[0m\u001b[0mto_csv\u001b[0m\u001b[0;34m(\u001b[0m\u001b[0;34m'results/exons_centered_'\u001b[0m \u001b[0;34m+\u001b[0m \u001b[0mstr\u001b[0m\u001b[0;34m(\u001b[0m\u001b[0mk\u001b[0m\u001b[0;34m)\u001b[0m \u001b[0;34m+\u001b[0m \u001b[0;34m'mer_DNM_context_golden_'\u001b[0m \u001b[0;34m+\u001b[0m \u001b[0mstr\u001b[0m\u001b[0;34m(\u001b[0m\u001b[0minclude\u001b[0m\u001b[0;34m)\u001b[0m \u001b[0;34m+\u001b[0m \u001b[0;34m'.tsv'\u001b[0m\u001b[0;34m,\u001b[0m \u001b[0msep\u001b[0m\u001b[0;34m=\u001b[0m\u001b[0;34m\"\\t\"\u001b[0m\u001b[0;34m,\u001b[0m \u001b[0mheader\u001b[0m\u001b[0;34m=\u001b[0m\u001b[0;32mTrue\u001b[0m\u001b[0;34m,\u001b[0m \u001b[0mindex\u001b[0m\u001b[0;34m=\u001b[0m\u001b[0;32mFalse\u001b[0m\u001b[0;34m)\u001b[0m\u001b[0;34m\u001b[0m\u001b[0m\n",
      "\u001b[0;32m<ipython-input-18-feac5caaf26e>\u001b[0m in \u001b[0;36mobs_exp_muts_excluding_kmer\u001b[0;34m(mutations_df, exons_coords_df, signatures_file, tumor_type, middle_distance_threshold, k, include, tb_consequence_type, consequence_rank_dict)\u001b[0m\n\u001b[1;32m    170\u001b[0m             \u001b[0mfirst_flank_region\u001b[0m \u001b[0;34m=\u001b[0m \u001b[0mhg19\u001b[0m\u001b[0;34m(\u001b[0m\u001b[0mmy_chr\u001b[0m\u001b[0;34m,\u001b[0m \u001b[0mmy_start\u001b[0m\u001b[0;34m+\u001b[0m\u001b[0;36m1\u001b[0m\u001b[0;34m-\u001b[0m\u001b[0;34m(\u001b[0m\u001b[0mk\u001b[0m\u001b[0;34m//\u001b[0m\u001b[0;36m2\u001b[0m\u001b[0;34m)\u001b[0m\u001b[0;34m,\u001b[0m \u001b[0msize\u001b[0m\u001b[0;34m=\u001b[0m\u001b[0mn_bases_first_flank\u001b[0m\u001b[0;34m+\u001b[0m\u001b[0;36m2\u001b[0m\u001b[0;34m*\u001b[0m\u001b[0;34m(\u001b[0m\u001b[0mk\u001b[0m\u001b[0;34m//\u001b[0m\u001b[0;36m2\u001b[0m\u001b[0;34m)\u001b[0m\u001b[0;34m)\u001b[0m\u001b[0;34m\u001b[0m\u001b[0m\n\u001b[1;32m    171\u001b[0m             first_flank_region_list = compute_intron_probs(first_flank_region, signatures_dict, 0, \n\u001b[0;32m--> 172\u001b[0;31m                                     middle_distance_threshold, tumor_type, k)\n\u001b[0m\u001b[1;32m    173\u001b[0m \u001b[0;34m\u001b[0m\u001b[0m\n\u001b[1;32m    174\u001b[0m             \u001b[0msecond_flank_region\u001b[0m \u001b[0;34m=\u001b[0m \u001b[0mhg19\u001b[0m\u001b[0;34m(\u001b[0m\u001b[0mmy_chr\u001b[0m\u001b[0;34m,\u001b[0m \u001b[0mmy_end_exon\u001b[0m\u001b[0;34m+\u001b[0m\u001b[0;36m1\u001b[0m\u001b[0;34m-\u001b[0m\u001b[0;34m(\u001b[0m\u001b[0mk\u001b[0m\u001b[0;34m//\u001b[0m\u001b[0;36m2\u001b[0m\u001b[0;34m)\u001b[0m\u001b[0;34m,\u001b[0m \u001b[0msize\u001b[0m\u001b[0;34m=\u001b[0m\u001b[0mn_bases_second_flank\u001b[0m\u001b[0;34m+\u001b[0m\u001b[0;36m2\u001b[0m\u001b[0;34m*\u001b[0m\u001b[0;34m(\u001b[0m\u001b[0mk\u001b[0m\u001b[0;34m//\u001b[0m\u001b[0;36m2\u001b[0m\u001b[0;34m)\u001b[0m\u001b[0;34m)\u001b[0m\u001b[0;34m\u001b[0m\u001b[0m\n",
      "\u001b[0;32m<ipython-input-16-ae319fa11571>\u001b[0m in \u001b[0;36mcompute_intron_probs\u001b[0;34m(sequence, signatures_dict, rel_start, middle_distance_threshold, tumor_type, k)\u001b[0m\n\u001b[1;32m     34\u001b[0m \u001b[0;34m\u001b[0m\u001b[0m\n\u001b[1;32m     35\u001b[0m         \u001b[0;31m### Foreach alternative, each of the three possible changes given a kmer.\u001b[0m\u001b[0;34m\u001b[0m\u001b[0;34m\u001b[0m\u001b[0m\n\u001b[0;32m---> 36\u001b[0;31m         \u001b[0;32mfor\u001b[0m \u001b[0malt_base\u001b[0m \u001b[0;32min\u001b[0m \u001b[0mmy_alt_bases\u001b[0m\u001b[0;34m:\u001b[0m\u001b[0;34m\u001b[0m\u001b[0m\n\u001b[0m\u001b[1;32m     37\u001b[0m             \u001b[0;31m#### Built reference and alternate kmers\u001b[0m\u001b[0;34m\u001b[0m\u001b[0;34m\u001b[0m\u001b[0m\n\u001b[1;32m     38\u001b[0m             \u001b[0mtri_ref\u001b[0m \u001b[0;34m=\u001b[0m \u001b[0mprevious_base\u001b[0m \u001b[0;34m+\u001b[0m \u001b[0mstr\u001b[0m\u001b[0;34m(\u001b[0m\u001b[0mmy_ref_base\u001b[0m\u001b[0;34m)\u001b[0m \u001b[0;34m+\u001b[0m \u001b[0mnext_base\u001b[0m\u001b[0;34m\u001b[0m\u001b[0m\n",
      "\u001b[0;31mKeyboardInterrupt\u001b[0m: "
     ]
    }
   ],
   "source": [
    "k = 1\n",
    "middle_distance_threshold = 1000\n",
    "include = 'synonymous'\n",
    "signatures_file = 'results/' + str(k) + 'mer_signatures_DNM_Halldorsson.txt'\n",
    "\n",
    "exons_centered_results = obs_exp_muts_excluding_kmer(mutations_df, exons_coords_df, signatures_file, tumor_type, \n",
    "                            middle_distance_threshold, k, include, tb_consequence_type, consequence_rank_dict)\n",
    "\n",
    "exons_centered_results.to_csv('results/exons_centered_' + str(k) + 'mer_DNM_context_Halldorsson_' + str(include) + '.tsv', sep=\"\\t\", header=True, index=False)"
   ]
  },
  {
   "cell_type": "markdown",
   "metadata": {},
   "source": [
    "#### Significance through permutations"
   ]
  },
  {
   "cell_type": "code",
   "execution_count": null,
   "metadata": {
    "collapsed": true
   },
   "outputs": [],
   "source": [
    "k = 1\n",
    "middle_distance_threshold = 1000\n",
    "signatures_file = 'results/' + str(k) + 'mer_signatures_DNM_golden.txt'\n",
    "include = 'synonymous'\n",
    "\n",
    "(exons_centered_results, exonic_obs, intronic_obs) = stacked_sequence_level_permutation_excluding(mutations_df,\n",
    "                                    exons_coords_df, signatures_file, tumor_type, middle_distance_threshold,\n",
    "                                    k, include, tb_consequence_type, consequence_rank_dict)\n",
    "\n",
    "exons_centered_results = pd.DataFrame.transpose(exons_centered_results)\n",
    "exons_centered_results.to_csv(path.join('results', 'exons_centered_' + str(k) + 'mer_permut_' + include + '_golden.tsv'),\n",
    "                              sep=\"\\t\", header=True, index=False)"
   ]
  },
  {
   "cell_type": "code",
   "execution_count": 29,
   "metadata": {},
   "outputs": [
    {
     "data": {
      "text/html": [
       "<div>\n",
       "<style>\n",
       "    .dataframe thead tr:only-child th {\n",
       "        text-align: right;\n",
       "    }\n",
       "\n",
       "    .dataframe thead th {\n",
       "        text-align: left;\n",
       "    }\n",
       "\n",
       "    .dataframe tbody tr th {\n",
       "        vertical-align: top;\n",
       "    }\n",
       "</style>\n",
       "<table border=\"1\" class=\"dataframe\">\n",
       "  <thead>\n",
       "    <tr style=\"text-align: right;\">\n",
       "      <th></th>\n",
       "      <th>obs_exon_cnt</th>\n",
       "      <th>exp_exon_cnt</th>\n",
       "      <th>obs_intron_cnt</th>\n",
       "      <th>exp_intron_cnt</th>\n",
       "      <th>empirical_pvalue</th>\n",
       "    </tr>\n",
       "  </thead>\n",
       "  <tbody>\n",
       "    <tr>\n",
       "      <th>0</th>\n",
       "      <td>127</td>\n",
       "      <td>115.149</td>\n",
       "      <td>5113</td>\n",
       "      <td>5124.851</td>\n",
       "      <td>0.13</td>\n",
       "    </tr>\n",
       "  </tbody>\n",
       "</table>\n",
       "</div>"
      ],
      "text/plain": [
       "   obs_exon_cnt  exp_exon_cnt  obs_intron_cnt  exp_intron_cnt  \\\n",
       "0           127       115.149            5113        5124.851   \n",
       "\n",
       "   empirical_pvalue  \n",
       "0              0.13  "
      ]
     },
     "execution_count": 29,
     "metadata": {},
     "output_type": "execute_result"
    }
   ],
   "source": [
    "k = 1\n",
    "results = []\n",
    "RANDOMIZATION = 1000\n",
    "include = 'synonymous'\n",
    "    \n",
    "# Read the expected exon and intron mutation counts from permutations\n",
    "rand_output = pd.read_csv(path.join('results', 'exons_centered_' + str(k) + 'mer_permut_' + include + '_golden.tsv'), sep=\"\\t\")\n",
    "    \n",
    "# count the number of times the expected exon mutations is higher than the observed\n",
    "count = len(rand_output[rand_output['exon_Exp'] >= exonic_obs])\n",
    "    \n",
    "if count == 0:\n",
    "    count = 1 \n",
    "    \n",
    "results.append([exonic_obs, rand_output['exon_Exp'].mean(), intronic_obs, rand_output['intron_Exp'].mean(), count/RANDOMIZATION])\n",
    "    \n",
    "results_df = pd.DataFrame(results)\n",
    "results_df.columns = ['obs_exon_cnt', 'exp_exon_cnt','obs_intron_cnt', 'exp_intron_cnt', 'empirical_pvalue']\n",
    "results_df"
   ]
  },
  {
   "cell_type": "code",
   "execution_count": 30,
   "metadata": {},
   "outputs": [
    {
     "data": {
      "text/plain": [
       "0    10.291883\n",
       "dtype: float64"
      ]
     },
     "execution_count": 30,
     "metadata": {},
     "output_type": "execute_result"
    }
   ],
   "source": [
    "exonic_increase = (results_df[\"obs_exon_cnt\"]/results_df[\"exp_exon_cnt\"]-1)*100\n",
    "exonic_increase"
   ]
  },
  {
   "cell_type": "code",
   "execution_count": 31,
   "metadata": {},
   "outputs": [
    {
     "data": {
      "text/plain": [
       "(0    9.966747\n",
       " dtype: float64, 0    10.617018\n",
       " dtype: float64)"
      ]
     },
     "execution_count": 31,
     "metadata": {},
     "output_type": "execute_result"
    }
   ],
   "source": [
    "rand_output['increase'] = (exonic_obs/rand_output['exon_Exp']-1)*100\n",
    "error = (st.stdev(rand_output['increase'].tolist())/np.sqrt(1000))\n",
    "(exonic_increase-error, exonic_increase+error)"
   ]
  },
  {
   "cell_type": "markdown",
   "metadata": {},
   "source": [
    "### 1-mer context dependency, non_synonymous"
   ]
  },
  {
   "cell_type": "code",
   "execution_count": 32,
   "metadata": {},
   "outputs": [
    {
     "name": "stdout",
     "output_type": "stream",
     "text": [
      "The total amount of mutations at the middle exon-centered sequences is 5598\n",
      "The total amount of mutations at the exonic sequences are 494\n",
      "The category initiator_codon_variant is found 1 times.\n",
      "The category missense_variant is found 336 times.\n",
      "The category splice_region_variant is found 2 times.\n",
      "The category stop_gained is found 25 times.\n",
      "The category synonymous_variant is found 130 times.\n"
     ]
    }
   ],
   "source": [
    "k = 1\n",
    "middle_distance_threshold = 1000\n",
    "include = 'non_synonymous'\n",
    "signatures_file = 'results/' + str(k) + 'mer_signatures_DNM_golden.txt'\n",
    "\n",
    "exons_centered_results = obs_exp_muts_excluding_kmer(mutations_df, exons_coords_df, signatures_file, tumor_type, \n",
    "                            middle_distance_threshold, k, include, tb_consequence_type, consequence_rank_dict)\n",
    "\n",
    "exons_centered_results.to_csv('results/exons_centered_' + str(k) + 'mer_DNM_context_golden_' + str(include) + '.tsv', sep=\"\\t\", header=True, index=False)"
   ]
  },
  {
   "cell_type": "markdown",
   "metadata": {},
   "source": [
    "#### Significance through permutations"
   ]
  },
  {
   "cell_type": "code",
   "execution_count": 33,
   "metadata": {},
   "outputs": [
    {
     "name": "stdout",
     "output_type": "stream",
     "text": [
      "Total amount of mutations at the middle exon-centered sequences is 5598\n",
      "Observed at middle exons: 358\n",
      "Observed at flanking introns: 5113\n"
     ]
    }
   ],
   "source": [
    "k = 1\n",
    "middle_distance_threshold = 1000\n",
    "signatures_file = 'results/' + str(k) + 'mer_signatures_DNM_golden.txt'\n",
    "include = 'non_synonymous'\n",
    "\n",
    "(exons_centered_results, exonic_obs, intronic_obs) = stacked_sequence_level_permutation_excluding(mutations_df,\n",
    "                                    exons_coords_df, signatures_file, tumor_type, middle_distance_threshold,\n",
    "                                    k, include, tb_consequence_type, consequence_rank_dict)\n",
    "\n",
    "exons_centered_results = pd.DataFrame.transpose(exons_centered_results)\n",
    "exons_centered_results.to_csv(path.join('results', 'exons_centered_' + str(k) + 'mer_permut_' + include + '_golden.tsv'),\n",
    "                              sep=\"\\t\", header=True, index=False)"
   ]
  },
  {
   "cell_type": "code",
   "execution_count": 34,
   "metadata": {},
   "outputs": [
    {
     "data": {
      "text/html": [
       "<div>\n",
       "<style>\n",
       "    .dataframe thead tr:only-child th {\n",
       "        text-align: right;\n",
       "    }\n",
       "\n",
       "    .dataframe thead th {\n",
       "        text-align: left;\n",
       "    }\n",
       "\n",
       "    .dataframe tbody tr th {\n",
       "        vertical-align: top;\n",
       "    }\n",
       "</style>\n",
       "<table border=\"1\" class=\"dataframe\">\n",
       "  <thead>\n",
       "    <tr style=\"text-align: right;\">\n",
       "      <th></th>\n",
       "      <th>obs_exon_cnt</th>\n",
       "      <th>exp_exon_cnt</th>\n",
       "      <th>obs_intron_cnt</th>\n",
       "      <th>exp_intron_cnt</th>\n",
       "      <th>empirical_pvalue</th>\n",
       "    </tr>\n",
       "  </thead>\n",
       "  <tbody>\n",
       "    <tr>\n",
       "      <th>0</th>\n",
       "      <td>358</td>\n",
       "      <td>299.403</td>\n",
       "      <td>5113</td>\n",
       "      <td>5171.597</td>\n",
       "      <td>0.001</td>\n",
       "    </tr>\n",
       "  </tbody>\n",
       "</table>\n",
       "</div>"
      ],
      "text/plain": [
       "   obs_exon_cnt  exp_exon_cnt  obs_intron_cnt  exp_intron_cnt  \\\n",
       "0           358       299.403            5113        5171.597   \n",
       "\n",
       "   empirical_pvalue  \n",
       "0             0.001  "
      ]
     },
     "execution_count": 34,
     "metadata": {},
     "output_type": "execute_result"
    }
   ],
   "source": [
    "k = 1\n",
    "results = []\n",
    "RANDOMIZATION = 1000\n",
    "include = 'non_synonymous'\n",
    "    \n",
    "# Read the expected exon and intron mutation counts from permutations\n",
    "rand_output = pd.read_csv(path.join('results', 'exons_centered_' + str(k) + 'mer_permut_' + include + '_golden.tsv'), sep=\"\\t\")\n",
    "    \n",
    "# count the number of times the expected exon mutations is higher than the observed\n",
    "count = len(rand_output[rand_output['exon_Exp'] >= exonic_obs])\n",
    "    \n",
    "if count == 0:\n",
    "    count = 1 \n",
    "    \n",
    "results.append([exonic_obs, rand_output['exon_Exp'].mean(), intronic_obs, rand_output['intron_Exp'].mean(), count/RANDOMIZATION])\n",
    "    \n",
    "results_df = pd.DataFrame(results)\n",
    "results_df.columns = ['obs_exon_cnt', 'exp_exon_cnt','obs_intron_cnt', 'exp_intron_cnt', 'empirical_pvalue']\n",
    "results_df"
   ]
  },
  {
   "cell_type": "code",
   "execution_count": 35,
   "metadata": {},
   "outputs": [
    {
     "data": {
      "text/plain": [
       "0    19.57128\n",
       "dtype: float64"
      ]
     },
     "execution_count": 35,
     "metadata": {},
     "output_type": "execute_result"
    }
   ],
   "source": [
    "exonic_increase = (results_df[\"obs_exon_cnt\"]/results_df[\"exp_exon_cnt\"]-1)*100\n",
    "exonic_increase"
   ]
  },
  {
   "cell_type": "code",
   "execution_count": 36,
   "metadata": {},
   "outputs": [
    {
     "data": {
      "text/plain": [
       "(0    19.362319\n",
       " dtype: float64, 0    19.780241\n",
       " dtype: float64)"
      ]
     },
     "execution_count": 36,
     "metadata": {},
     "output_type": "execute_result"
    }
   ],
   "source": [
    "rand_output['increase'] = (exonic_obs/rand_output['exon_Exp']-1)*100\n",
    "error = (st.stdev(rand_output['increase'].tolist())/np.sqrt(1000))\n",
    "(exonic_increase-error, exonic_increase+error)"
   ]
  },
  {
   "cell_type": "markdown",
   "metadata": {},
   "source": [
    "### 1-mer context dependency, 9 classes with CpG, synonymous"
   ]
  },
  {
   "cell_type": "code",
   "execution_count": 37,
   "metadata": {},
   "outputs": [
    {
     "name": "stdout",
     "output_type": "stream",
     "text": [
      "The total amount of mutations at the middle exon-centered sequences is 5598\n",
      "The total amount of mutations at the exonic sequences are 494\n",
      "The category initiator_codon_variant is found 1 times.\n",
      "The category missense_variant is found 336 times.\n",
      "The category splice_region_variant is found 2 times.\n",
      "The category stop_gained is found 25 times.\n",
      "The category synonymous_variant is found 130 times.\n"
     ]
    }
   ],
   "source": [
    "k = 3\n",
    "middle_distance_threshold = 1000\n",
    "include = 'synonymous'\n",
    "signatures_file = 'results/CpG_signatures_DNM_golden.txt'\n",
    "\n",
    "exons_centered_results = obs_exp_muts_excluding_CpG(mutations_df, exons_coords_df, signatures_file, tumor_type, \n",
    "                            middle_distance_threshold, k, include, tb_consequence_type, consequence_rank_dict)\n",
    "\n",
    "exons_centered_results.to_csv('results/exons_centered_CpGmer_DNM_context_golden_' + str(include) + '.tsv', sep=\"\\t\", header=True, index=False)"
   ]
  },
  {
   "cell_type": "markdown",
   "metadata": {},
   "source": [
    "#### Significance through permutations"
   ]
  },
  {
   "cell_type": "code",
   "execution_count": 38,
   "metadata": {},
   "outputs": [
    {
     "name": "stdout",
     "output_type": "stream",
     "text": [
      "Total amount of mutations at the middle exon-centered sequences is 5598\n",
      "Observed at middle exons: 127\n",
      "Observed at flanking introns: 5113\n"
     ]
    }
   ],
   "source": [
    "k = 3\n",
    "middle_distance_threshold = 1000\n",
    "signatures_file = 'results/CpG_signatures_DNM_golden.txt'\n",
    "include = 'synonymous'\n",
    "\n",
    "(exons_centered_results, exonic_obs, intronic_obs) = stacked_sequence_level_permutation_excluding_CpG(mutations_df,\n",
    "                                    exons_coords_df, signatures_file, tumor_type, middle_distance_threshold,\n",
    "                                    k, include, tb_consequence_type, consequence_rank_dict)\n",
    "\n",
    "exons_centered_results = pd.DataFrame.transpose(exons_centered_results)\n",
    "exons_centered_results.to_csv(path.join('results', 'exons_centered_CpGmer_permut_' + include + '_golden.tsv'),\n",
    "                              sep=\"\\t\", header=True, index=False)"
   ]
  },
  {
   "cell_type": "code",
   "execution_count": 39,
   "metadata": {},
   "outputs": [
    {
     "data": {
      "text/html": [
       "<div>\n",
       "<style>\n",
       "    .dataframe thead tr:only-child th {\n",
       "        text-align: right;\n",
       "    }\n",
       "\n",
       "    .dataframe thead th {\n",
       "        text-align: left;\n",
       "    }\n",
       "\n",
       "    .dataframe tbody tr th {\n",
       "        vertical-align: top;\n",
       "    }\n",
       "</style>\n",
       "<table border=\"1\" class=\"dataframe\">\n",
       "  <thead>\n",
       "    <tr style=\"text-align: right;\">\n",
       "      <th></th>\n",
       "      <th>obs_exon_cnt</th>\n",
       "      <th>exp_exon_cnt</th>\n",
       "      <th>obs_intron_cnt</th>\n",
       "      <th>exp_intron_cnt</th>\n",
       "      <th>empirical_pvalue</th>\n",
       "    </tr>\n",
       "  </thead>\n",
       "  <tbody>\n",
       "    <tr>\n",
       "      <th>0</th>\n",
       "      <td>127</td>\n",
       "      <td>131.129</td>\n",
       "      <td>5113</td>\n",
       "      <td>5108.871</td>\n",
       "      <td>0.679</td>\n",
       "    </tr>\n",
       "  </tbody>\n",
       "</table>\n",
       "</div>"
      ],
      "text/plain": [
       "   obs_exon_cnt  exp_exon_cnt  obs_intron_cnt  exp_intron_cnt  \\\n",
       "0           127       131.129            5113        5108.871   \n",
       "\n",
       "   empirical_pvalue  \n",
       "0             0.679  "
      ]
     },
     "execution_count": 39,
     "metadata": {},
     "output_type": "execute_result"
    }
   ],
   "source": [
    "k = 3\n",
    "results = []\n",
    "RANDOMIZATION = 1000\n",
    "include = 'synonymous'\n",
    "    \n",
    "# Read the expected exon and intron mutation counts from permutations\n",
    "rand_output = pd.read_csv(path.join('results', 'exons_centered_CpGmer_permut_' + include + '_golden.tsv'), sep=\"\\t\")\n",
    "    \n",
    "# count the number of times the expected exon mutations is higher than the observed\n",
    "count = len(rand_output[rand_output['exon_Exp'] >= exonic_obs])\n",
    "    \n",
    "if count == 0:\n",
    "    count = 1 \n",
    "    \n",
    "results.append([exonic_obs, rand_output['exon_Exp'].mean(), intronic_obs, rand_output['intron_Exp'].mean(), count/RANDOMIZATION])\n",
    "    \n",
    "results_df = pd.DataFrame(results)\n",
    "results_df.columns = ['obs_exon_cnt', 'exp_exon_cnt','obs_intron_cnt', 'exp_intron_cnt', 'empirical_pvalue']\n",
    "results_df"
   ]
  },
  {
   "cell_type": "code",
   "execution_count": 40,
   "metadata": {},
   "outputs": [
    {
     "data": {
      "text/plain": [
       "0   -3.148808\n",
       "dtype: float64"
      ]
     },
     "execution_count": 40,
     "metadata": {},
     "output_type": "execute_result"
    }
   ],
   "source": [
    "exonic_increase = (results_df[\"obs_exon_cnt\"]/results_df[\"exp_exon_cnt\"]-1)*100\n",
    "exonic_increase"
   ]
  },
  {
   "cell_type": "code",
   "execution_count": 41,
   "metadata": {},
   "outputs": [
    {
     "data": {
      "text/plain": [
       "(0   -3.399596\n",
       " dtype: float64, 0   -2.898019\n",
       " dtype: float64)"
      ]
     },
     "execution_count": 41,
     "metadata": {},
     "output_type": "execute_result"
    }
   ],
   "source": [
    "rand_output['increase'] = (exonic_obs/rand_output['exon_Exp']-1)*100\n",
    "error = (st.stdev(rand_output['increase'].tolist())/np.sqrt(1000))\n",
    "(exonic_increase-error, exonic_increase+error)"
   ]
  },
  {
   "cell_type": "markdown",
   "metadata": {},
   "source": [
    "### 1-mer context dependency, 9 classes with CpG, non_synonymous"
   ]
  },
  {
   "cell_type": "code",
   "execution_count": 42,
   "metadata": {},
   "outputs": [
    {
     "name": "stdout",
     "output_type": "stream",
     "text": [
      "The total amount of mutations at the middle exon-centered sequences is 5598\n",
      "The total amount of mutations at the exonic sequences are 494\n",
      "The category initiator_codon_variant is found 1 times.\n",
      "The category missense_variant is found 336 times.\n",
      "The category splice_region_variant is found 2 times.\n",
      "The category stop_gained is found 25 times.\n",
      "The category synonymous_variant is found 130 times.\n"
     ]
    }
   ],
   "source": [
    "k = 3\n",
    "middle_distance_threshold = 1000\n",
    "include = 'non_synonymous'\n",
    "signatures_file = 'results/CpG_signatures_DNM_golden.txt'\n",
    "\n",
    "exons_centered_results = obs_exp_muts_excluding_CpG(mutations_df, exons_coords_df, signatures_file, tumor_type, \n",
    "                            middle_distance_threshold, k, include, tb_consequence_type, consequence_rank_dict)\n",
    "\n",
    "exons_centered_results.to_csv('results/exons_centered_CpGmer_DNM_context_golden_' + str(include) + '.tsv', sep=\"\\t\", header=True, index=False)"
   ]
  },
  {
   "cell_type": "markdown",
   "metadata": {},
   "source": [
    "#### Significance through permutations"
   ]
  },
  {
   "cell_type": "code",
   "execution_count": 43,
   "metadata": {},
   "outputs": [
    {
     "name": "stdout",
     "output_type": "stream",
     "text": [
      "Total amount of mutations at the middle exon-centered sequences is 5598\n",
      "Observed at middle exons: 358\n",
      "Observed at flanking introns: 5113\n"
     ]
    }
   ],
   "source": [
    "k = 3\n",
    "middle_distance_threshold = 1000\n",
    "signatures_file = 'results/CpG_signatures_DNM_golden.txt'\n",
    "include = 'non_synonymous'\n",
    "\n",
    "(exons_centered_results, exonic_obs, intronic_obs) = stacked_sequence_level_permutation_excluding_CpG(mutations_df,\n",
    "                                    exons_coords_df, signatures_file, tumor_type, middle_distance_threshold,\n",
    "                                    k, include, tb_consequence_type, consequence_rank_dict)\n",
    "\n",
    "exons_centered_results = pd.DataFrame.transpose(exons_centered_results)\n",
    "exons_centered_results.to_csv(path.join('results', 'exons_centered_CpGmer_permut_' + include + '_golden.tsv'),\n",
    "                              sep=\"\\t\", header=True, index=False)"
   ]
  },
  {
   "cell_type": "code",
   "execution_count": 44,
   "metadata": {},
   "outputs": [
    {
     "data": {
      "text/html": [
       "<div>\n",
       "<style>\n",
       "    .dataframe thead tr:only-child th {\n",
       "        text-align: right;\n",
       "    }\n",
       "\n",
       "    .dataframe thead th {\n",
       "        text-align: left;\n",
       "    }\n",
       "\n",
       "    .dataframe tbody tr th {\n",
       "        vertical-align: top;\n",
       "    }\n",
       "</style>\n",
       "<table border=\"1\" class=\"dataframe\">\n",
       "  <thead>\n",
       "    <tr style=\"text-align: right;\">\n",
       "      <th></th>\n",
       "      <th>obs_exon_cnt</th>\n",
       "      <th>exp_exon_cnt</th>\n",
       "      <th>obs_intron_cnt</th>\n",
       "      <th>exp_intron_cnt</th>\n",
       "      <th>empirical_pvalue</th>\n",
       "    </tr>\n",
       "  </thead>\n",
       "  <tbody>\n",
       "    <tr>\n",
       "      <th>0</th>\n",
       "      <td>358</td>\n",
       "      <td>346.288</td>\n",
       "      <td>5113</td>\n",
       "      <td>5124.712</td>\n",
       "      <td>0.26</td>\n",
       "    </tr>\n",
       "  </tbody>\n",
       "</table>\n",
       "</div>"
      ],
      "text/plain": [
       "   obs_exon_cnt  exp_exon_cnt  obs_intron_cnt  exp_intron_cnt  \\\n",
       "0           358       346.288            5113        5124.712   \n",
       "\n",
       "   empirical_pvalue  \n",
       "0              0.26  "
      ]
     },
     "execution_count": 44,
     "metadata": {},
     "output_type": "execute_result"
    }
   ],
   "source": [
    "k = 3\n",
    "results = []\n",
    "RANDOMIZATION = 1000\n",
    "include = 'non_synonymous'\n",
    "    \n",
    "# Read the expected exon and intron mutation counts from permutations\n",
    "rand_output = pd.read_csv(path.join('results', 'exons_centered_CpGmer_permut_' + include + '_golden.tsv'), sep=\"\\t\")\n",
    "    \n",
    "# count the number of times the expected exon mutations is higher than the observed\n",
    "count = len(rand_output[rand_output['exon_Exp'] >= exonic_obs])\n",
    "    \n",
    "if count == 0:\n",
    "    count = 1 \n",
    "    \n",
    "results.append([exonic_obs, rand_output['exon_Exp'].mean(), intronic_obs, rand_output['intron_Exp'].mean(), count/RANDOMIZATION])\n",
    "    \n",
    "results_df = pd.DataFrame(results)\n",
    "results_df.columns = ['obs_exon_cnt', 'exp_exon_cnt','obs_intron_cnt', 'exp_intron_cnt', 'empirical_pvalue']\n",
    "results_df"
   ]
  },
  {
   "cell_type": "code",
   "execution_count": 45,
   "metadata": {},
   "outputs": [
    {
     "data": {
      "text/plain": [
       "0    3.382156\n",
       "dtype: float64"
      ]
     },
     "execution_count": 45,
     "metadata": {},
     "output_type": "execute_result"
    }
   ],
   "source": [
    "exonic_increase = (results_df[\"obs_exon_cnt\"]/results_df[\"exp_exon_cnt\"]-1)*100\n",
    "exonic_increase"
   ]
  },
  {
   "cell_type": "code",
   "execution_count": 46,
   "metadata": {},
   "outputs": [
    {
     "data": {
      "text/plain": [
       "(0    3.215567\n",
       " dtype: float64, 0    3.548745\n",
       " dtype: float64)"
      ]
     },
     "execution_count": 46,
     "metadata": {},
     "output_type": "execute_result"
    }
   ],
   "source": [
    "rand_output['increase'] = (exonic_obs/rand_output['exon_Exp']-1)*100\n",
    "error = (st.stdev(rand_output['increase'].tolist())/np.sqrt(1000))\n",
    "(exonic_increase-error, exonic_increase+error)"
   ]
  },
  {
   "cell_type": "markdown",
   "metadata": {},
   "source": [
    "### 3-mer context dependency, synonymous"
   ]
  },
  {
   "cell_type": "code",
   "execution_count": 47,
   "metadata": {},
   "outputs": [
    {
     "name": "stdout",
     "output_type": "stream",
     "text": [
      "The total amount of mutations at the middle exon-centered sequences is 5598\n",
      "The total amount of mutations at the exonic sequences are 494\n",
      "The category initiator_codon_variant is found 1 times.\n",
      "The category missense_variant is found 336 times.\n",
      "The category splice_region_variant is found 2 times.\n",
      "The category stop_gained is found 25 times.\n",
      "The category synonymous_variant is found 130 times.\n"
     ]
    }
   ],
   "source": [
    "k = 3\n",
    "middle_distance_threshold = 1000\n",
    "include = 'synonymous'\n",
    "signatures_file = 'results/' + str(k) + 'mer_signatures_DNM_golden.txt'\n",
    "\n",
    "exons_centered_results = obs_exp_muts_excluding_kmer(mutations_df, exons_coords_df, signatures_file, tumor_type, \n",
    "                            middle_distance_threshold, k, include, tb_consequence_type, consequence_rank_dict)\n",
    "\n",
    "exons_centered_results.to_csv('results/exons_centered_' + str(k) + 'mer_DNM_context_golden_' + str(include) + '.tsv', sep=\"\\t\", header=True, index=False)"
   ]
  },
  {
   "cell_type": "markdown",
   "metadata": {},
   "source": [
    "#### Significance through permutations"
   ]
  },
  {
   "cell_type": "code",
   "execution_count": 48,
   "metadata": {},
   "outputs": [
    {
     "name": "stdout",
     "output_type": "stream",
     "text": [
      "Total amount of mutations at the middle exon-centered sequences is 5598\n",
      "Observed at middle exons: 127\n",
      "Observed at flanking introns: 5113\n"
     ]
    }
   ],
   "source": [
    "k = 3\n",
    "middle_distance_threshold = 1000\n",
    "signatures_file = 'results/' + str(k) + 'mer_signatures_DNM_golden.txt'\n",
    "include = 'synonymous'\n",
    "\n",
    "(exons_centered_results, exonic_obs, intronic_obs) = stacked_sequence_level_permutation_excluding(mutations_df,\n",
    "                                    exons_coords_df, signatures_file, tumor_type, middle_distance_threshold,\n",
    "                                    k, include, tb_consequence_type, consequence_rank_dict)\n",
    "\n",
    "exons_centered_results = pd.DataFrame.transpose(exons_centered_results)\n",
    "exons_centered_results.to_csv(path.join('results', 'exons_centered_' + str(k) + 'mer_permut_' + include + '_golden.tsv'),\n",
    "                              sep=\"\\t\", header=True, index=False)"
   ]
  },
  {
   "cell_type": "code",
   "execution_count": 49,
   "metadata": {},
   "outputs": [
    {
     "data": {
      "text/html": [
       "<div>\n",
       "<style>\n",
       "    .dataframe thead tr:only-child th {\n",
       "        text-align: right;\n",
       "    }\n",
       "\n",
       "    .dataframe thead th {\n",
       "        text-align: left;\n",
       "    }\n",
       "\n",
       "    .dataframe tbody tr th {\n",
       "        vertical-align: top;\n",
       "    }\n",
       "</style>\n",
       "<table border=\"1\" class=\"dataframe\">\n",
       "  <thead>\n",
       "    <tr style=\"text-align: right;\">\n",
       "      <th></th>\n",
       "      <th>obs_exon_cnt</th>\n",
       "      <th>exp_exon_cnt</th>\n",
       "      <th>obs_intron_cnt</th>\n",
       "      <th>exp_intron_cnt</th>\n",
       "      <th>empirical_pvalue</th>\n",
       "    </tr>\n",
       "  </thead>\n",
       "  <tbody>\n",
       "    <tr>\n",
       "      <th>0</th>\n",
       "      <td>127</td>\n",
       "      <td>130.631</td>\n",
       "      <td>5113</td>\n",
       "      <td>5109.369</td>\n",
       "      <td>0.644</td>\n",
       "    </tr>\n",
       "  </tbody>\n",
       "</table>\n",
       "</div>"
      ],
      "text/plain": [
       "   obs_exon_cnt  exp_exon_cnt  obs_intron_cnt  exp_intron_cnt  \\\n",
       "0           127       130.631            5113        5109.369   \n",
       "\n",
       "   empirical_pvalue  \n",
       "0             0.644  "
      ]
     },
     "execution_count": 49,
     "metadata": {},
     "output_type": "execute_result"
    }
   ],
   "source": [
    "k = 3\n",
    "results = []\n",
    "RANDOMIZATION = 1000\n",
    "include = 'synonymous'\n",
    "    \n",
    "# Read the expected exon and intron mutation counts from permutations\n",
    "rand_output = pd.read_csv(path.join('results', 'exons_centered_' + str(k) + 'mer_permut_' + include + '_golden.tsv'), sep=\"\\t\")\n",
    "    \n",
    "# count the number of times the expected exon mutations is higher than the observed\n",
    "count = len(rand_output[rand_output['exon_Exp'] >= exonic_obs])\n",
    "    \n",
    "if count == 0:\n",
    "    count = 1 \n",
    "    \n",
    "results.append([exonic_obs, rand_output['exon_Exp'].mean(), intronic_obs, rand_output['intron_Exp'].mean(), count/RANDOMIZATION])\n",
    "    \n",
    "results_df = pd.DataFrame(results)\n",
    "results_df.columns = ['obs_exon_cnt', 'exp_exon_cnt','obs_intron_cnt', 'exp_intron_cnt', 'empirical_pvalue']\n",
    "results_df"
   ]
  },
  {
   "cell_type": "code",
   "execution_count": 50,
   "metadata": {},
   "outputs": [
    {
     "data": {
      "text/plain": [
       "0   -2.779585\n",
       "dtype: float64"
      ]
     },
     "execution_count": 50,
     "metadata": {},
     "output_type": "execute_result"
    }
   ],
   "source": [
    "exonic_increase = (results_df[\"obs_exon_cnt\"]/results_df[\"exp_exon_cnt\"]-1)*100\n",
    "exonic_increase"
   ]
  },
  {
   "cell_type": "code",
   "execution_count": 51,
   "metadata": {},
   "outputs": [
    {
     "data": {
      "text/plain": [
       "(0   -3.05383\n",
       " dtype: float64, 0   -2.50534\n",
       " dtype: float64)"
      ]
     },
     "execution_count": 51,
     "metadata": {},
     "output_type": "execute_result"
    }
   ],
   "source": [
    "rand_output['increase'] = (exonic_obs/rand_output['exon_Exp']-1)*100\n",
    "error = (st.stdev(rand_output['increase'].tolist())/np.sqrt(1000))\n",
    "(exonic_increase-error, exonic_increase+error)"
   ]
  },
  {
   "cell_type": "markdown",
   "metadata": {},
   "source": [
    "### 3-mer context dependency, non_synonymous"
   ]
  },
  {
   "cell_type": "code",
   "execution_count": 52,
   "metadata": {},
   "outputs": [
    {
     "name": "stdout",
     "output_type": "stream",
     "text": [
      "The total amount of mutations at the middle exon-centered sequences is 5598\n",
      "The total amount of mutations at the exonic sequences are 494\n",
      "The category initiator_codon_variant is found 1 times.\n",
      "The category missense_variant is found 336 times.\n",
      "The category splice_region_variant is found 2 times.\n",
      "The category stop_gained is found 25 times.\n",
      "The category synonymous_variant is found 130 times.\n"
     ]
    }
   ],
   "source": [
    "k = 3\n",
    "middle_distance_threshold = 1000\n",
    "include = 'non_synonymous'\n",
    "signatures_file = 'results/' + str(k) + 'mer_signatures_DNM_golden.txt'\n",
    "\n",
    "exons_centered_results = obs_exp_muts_excluding_kmer(mutations_df, exons_coords_df, signatures_file, tumor_type, \n",
    "                            middle_distance_threshold, k, include, tb_consequence_type, consequence_rank_dict)\n",
    "\n",
    "exons_centered_results.to_csv('results/exons_centered_' + str(k) + 'mer_DNM_context_golden_' + str(include) + '.tsv', sep=\"\\t\", header=True, index=False)"
   ]
  },
  {
   "cell_type": "markdown",
   "metadata": {},
   "source": [
    "#### Significance through permutations"
   ]
  },
  {
   "cell_type": "code",
   "execution_count": 53,
   "metadata": {},
   "outputs": [
    {
     "name": "stdout",
     "output_type": "stream",
     "text": [
      "Total amount of mutations at the middle exon-centered sequences is 5598\n",
      "Observed at middle exons: 358\n",
      "Observed at flanking introns: 5113\n"
     ]
    }
   ],
   "source": [
    "k = 3\n",
    "middle_distance_threshold = 1000\n",
    "signatures_file = 'results/' + str(k) + 'mer_signatures_DNM_golden.txt'\n",
    "include = 'non_synonymous'\n",
    "\n",
    "(exons_centered_results, exonic_obs, intronic_obs) = stacked_sequence_level_permutation_excluding(mutations_df,\n",
    "                                    exons_coords_df, signatures_file, tumor_type, middle_distance_threshold,\n",
    "                                    k, include, tb_consequence_type, consequence_rank_dict)\n",
    "\n",
    "exons_centered_results = pd.DataFrame.transpose(exons_centered_results)\n",
    "exons_centered_results.to_csv(path.join('results', 'exons_centered_' + str(k) + 'mer_permut_' + include + '_golden.tsv'),\n",
    "                              sep=\"\\t\", header=True, index=False)"
   ]
  },
  {
   "cell_type": "code",
   "execution_count": 54,
   "metadata": {},
   "outputs": [
    {
     "data": {
      "text/html": [
       "<div>\n",
       "<style>\n",
       "    .dataframe thead tr:only-child th {\n",
       "        text-align: right;\n",
       "    }\n",
       "\n",
       "    .dataframe thead th {\n",
       "        text-align: left;\n",
       "    }\n",
       "\n",
       "    .dataframe tbody tr th {\n",
       "        vertical-align: top;\n",
       "    }\n",
       "</style>\n",
       "<table border=\"1\" class=\"dataframe\">\n",
       "  <thead>\n",
       "    <tr style=\"text-align: right;\">\n",
       "      <th></th>\n",
       "      <th>obs_exon_cnt</th>\n",
       "      <th>exp_exon_cnt</th>\n",
       "      <th>obs_intron_cnt</th>\n",
       "      <th>exp_intron_cnt</th>\n",
       "      <th>empirical_pvalue</th>\n",
       "    </tr>\n",
       "  </thead>\n",
       "  <tbody>\n",
       "    <tr>\n",
       "      <th>0</th>\n",
       "      <td>358</td>\n",
       "      <td>343.417</td>\n",
       "      <td>5113</td>\n",
       "      <td>5127.583</td>\n",
       "      <td>0.201</td>\n",
       "    </tr>\n",
       "  </tbody>\n",
       "</table>\n",
       "</div>"
      ],
      "text/plain": [
       "   obs_exon_cnt  exp_exon_cnt  obs_intron_cnt  exp_intron_cnt  \\\n",
       "0           358       343.417            5113        5127.583   \n",
       "\n",
       "   empirical_pvalue  \n",
       "0             0.201  "
      ]
     },
     "execution_count": 54,
     "metadata": {},
     "output_type": "execute_result"
    }
   ],
   "source": [
    "k = 3\n",
    "results = []\n",
    "RANDOMIZATION = 1000\n",
    "include = 'non_synonymous'\n",
    "    \n",
    "# Read the expected exon and intron mutation counts from permutations\n",
    "rand_output = pd.read_csv(path.join('results', 'exons_centered_' + str(k) + 'mer_permut_' + include + '_golden.tsv'), sep=\"\\t\")\n",
    "    \n",
    "# count the number of times the expected exon mutations is higher than the observed\n",
    "count = len(rand_output[rand_output['exon_Exp'] >= exonic_obs])\n",
    "    \n",
    "if count == 0:\n",
    "    count = 1 \n",
    "    \n",
    "results.append([exonic_obs, rand_output['exon_Exp'].mean(), intronic_obs, rand_output['intron_Exp'].mean(), count/RANDOMIZATION])\n",
    "    \n",
    "results_df = pd.DataFrame(results)\n",
    "results_df.columns = ['obs_exon_cnt', 'exp_exon_cnt','obs_intron_cnt', 'exp_intron_cnt', 'empirical_pvalue']\n",
    "results_df"
   ]
  },
  {
   "cell_type": "code",
   "execution_count": 55,
   "metadata": {},
   "outputs": [
    {
     "data": {
      "text/plain": [
       "0    4.246441\n",
       "dtype: float64"
      ]
     },
     "execution_count": 55,
     "metadata": {},
     "output_type": "execute_result"
    }
   ],
   "source": [
    "exonic_increase = (results_df[\"obs_exon_cnt\"]/results_df[\"exp_exon_cnt\"]-1)*100\n",
    "exonic_increase"
   ]
  },
  {
   "cell_type": "code",
   "execution_count": 56,
   "metadata": {},
   "outputs": [
    {
     "data": {
      "text/plain": [
       "(0    4.080358\n",
       " dtype: float64, 0    4.412524\n",
       " dtype: float64)"
      ]
     },
     "execution_count": 56,
     "metadata": {},
     "output_type": "execute_result"
    }
   ],
   "source": [
    "rand_output['increase'] = (exonic_obs/rand_output['exon_Exp']-1)*100\n",
    "error = (st.stdev(rand_output['increase'].tolist())/np.sqrt(1000))\n",
    "(exonic_increase-error, exonic_increase+error)"
   ]
  },
  {
   "cell_type": "markdown",
   "metadata": {},
   "source": [
    "### 5-mer context dependency, synonymous"
   ]
  },
  {
   "cell_type": "code",
   "execution_count": 57,
   "metadata": {},
   "outputs": [
    {
     "name": "stdout",
     "output_type": "stream",
     "text": [
      "The total amount of mutations at the middle exon-centered sequences is 5598\n",
      "The total amount of mutations at the exonic sequences are 494\n",
      "The category initiator_codon_variant is found 1 times.\n",
      "The category missense_variant is found 336 times.\n",
      "The category splice_region_variant is found 2 times.\n",
      "The category stop_gained is found 25 times.\n",
      "The category synonymous_variant is found 130 times.\n"
     ]
    }
   ],
   "source": [
    "k = 5\n",
    "middle_distance_threshold = 1000\n",
    "include = 'synonymous'\n",
    "signatures_file = 'results/' + str(k) + 'mer_DNM_signatures_decomp_golden.txt'\n",
    "\n",
    "exons_centered_results = obs_exp_muts_excluding_kmer(mutations_df, exons_coords_df, signatures_file, tumor_type, \n",
    "                            middle_distance_threshold, k, include, tb_consequence_type, consequence_rank_dict)\n",
    "\n",
    "exons_centered_results.to_csv('results/exons_centered_' + str(k) + 'mer_DNM_context_golden_' + str(include) + '.tsv', sep=\"\\t\", header=True, index=False)"
   ]
  },
  {
   "cell_type": "markdown",
   "metadata": {},
   "source": [
    "#### Significance through permutations"
   ]
  },
  {
   "cell_type": "code",
   "execution_count": 58,
   "metadata": {},
   "outputs": [
    {
     "name": "stdout",
     "output_type": "stream",
     "text": [
      "Total amount of mutations at the middle exon-centered sequences is 5598\n",
      "Observed at middle exons: 127\n",
      "Observed at flanking introns: 5113\n"
     ]
    }
   ],
   "source": [
    "k = 5\n",
    "middle_distance_threshold = 1000\n",
    "signatures_file = 'results/' + str(k) + 'mer_DNM_signatures_decomp_golden.txt'\n",
    "include = 'synonymous'\n",
    "\n",
    "(exons_centered_results, exonic_obs, intronic_obs) = stacked_sequence_level_permutation_excluding(mutations_df,\n",
    "                                    exons_coords_df, signatures_file, tumor_type, middle_distance_threshold,\n",
    "                                    k, include, tb_consequence_type, consequence_rank_dict)\n",
    "\n",
    "exons_centered_results = pd.DataFrame.transpose(exons_centered_results)\n",
    "exons_centered_results.to_csv(path.join('results', 'exons_centered_' + str(k) + 'mer_permut_' + include + '_golden.tsv'),\n",
    "                              sep=\"\\t\", header=True, index=False)"
   ]
  },
  {
   "cell_type": "code",
   "execution_count": 59,
   "metadata": {},
   "outputs": [
    {
     "data": {
      "text/html": [
       "<div>\n",
       "<style>\n",
       "    .dataframe thead tr:only-child th {\n",
       "        text-align: right;\n",
       "    }\n",
       "\n",
       "    .dataframe thead th {\n",
       "        text-align: left;\n",
       "    }\n",
       "\n",
       "    .dataframe tbody tr th {\n",
       "        vertical-align: top;\n",
       "    }\n",
       "</style>\n",
       "<table border=\"1\" class=\"dataframe\">\n",
       "  <thead>\n",
       "    <tr style=\"text-align: right;\">\n",
       "      <th></th>\n",
       "      <th>obs_exon_cnt</th>\n",
       "      <th>exp_exon_cnt</th>\n",
       "      <th>obs_intron_cnt</th>\n",
       "      <th>exp_intron_cnt</th>\n",
       "      <th>empirical_pvalue</th>\n",
       "    </tr>\n",
       "  </thead>\n",
       "  <tbody>\n",
       "    <tr>\n",
       "      <th>0</th>\n",
       "      <td>127</td>\n",
       "      <td>129.603</td>\n",
       "      <td>5113</td>\n",
       "      <td>5110.397</td>\n",
       "      <td>0.595</td>\n",
       "    </tr>\n",
       "  </tbody>\n",
       "</table>\n",
       "</div>"
      ],
      "text/plain": [
       "   obs_exon_cnt  exp_exon_cnt  obs_intron_cnt  exp_intron_cnt  \\\n",
       "0           127       129.603            5113        5110.397   \n",
       "\n",
       "   empirical_pvalue  \n",
       "0             0.595  "
      ]
     },
     "execution_count": 59,
     "metadata": {},
     "output_type": "execute_result"
    }
   ],
   "source": [
    "k = 5\n",
    "results = []\n",
    "RANDOMIZATION = 1000\n",
    "include = 'synonymous'\n",
    "    \n",
    "# Read the expected exon and intron mutation counts from permutations\n",
    "rand_output = pd.read_csv(path.join('results', 'exons_centered_' + str(k) + 'mer_permut_' + include + '_golden.tsv'), sep=\"\\t\")\n",
    "    \n",
    "# count the number of times the expected exon mutations is higher than the observed\n",
    "count = len(rand_output[rand_output['exon_Exp'] >= exonic_obs])\n",
    "    \n",
    "if count == 0:\n",
    "    count = 1 \n",
    "    \n",
    "results.append([exonic_obs, rand_output['exon_Exp'].mean(), intronic_obs, rand_output['intron_Exp'].mean(), count/RANDOMIZATION])\n",
    "    \n",
    "results_df = pd.DataFrame(results)\n",
    "results_df.columns = ['obs_exon_cnt', 'exp_exon_cnt','obs_intron_cnt', 'exp_intron_cnt', 'empirical_pvalue']\n",
    "results_df"
   ]
  },
  {
   "cell_type": "code",
   "execution_count": 60,
   "metadata": {},
   "outputs": [
    {
     "data": {
      "text/plain": [
       "0   -2.008441\n",
       "dtype: float64"
      ]
     },
     "execution_count": 60,
     "metadata": {},
     "output_type": "execute_result"
    }
   ],
   "source": [
    "exonic_increase = (results_df[\"obs_exon_cnt\"]/results_df[\"exp_exon_cnt\"]-1)*100\n",
    "exonic_increase"
   ]
  },
  {
   "cell_type": "code",
   "execution_count": 61,
   "metadata": {},
   "outputs": [
    {
     "data": {
      "text/plain": [
       "(0   -2.276826\n",
       " dtype: float64, 0   -1.740057\n",
       " dtype: float64)"
      ]
     },
     "execution_count": 61,
     "metadata": {},
     "output_type": "execute_result"
    }
   ],
   "source": [
    "rand_output['increase'] = (exonic_obs/rand_output['exon_Exp']-1)*100\n",
    "error = (st.stdev(rand_output['increase'].tolist())/np.sqrt(1000))\n",
    "(exonic_increase-error, exonic_increase+error)"
   ]
  },
  {
   "cell_type": "markdown",
   "metadata": {},
   "source": [
    "### 5-mer context dependency, non_synonymous"
   ]
  },
  {
   "cell_type": "code",
   "execution_count": 62,
   "metadata": {},
   "outputs": [
    {
     "name": "stdout",
     "output_type": "stream",
     "text": [
      "The total amount of mutations at the middle exon-centered sequences is 5598\n",
      "The total amount of mutations at the exonic sequences are 494\n",
      "The category initiator_codon_variant is found 1 times.\n",
      "The category missense_variant is found 336 times.\n",
      "The category splice_region_variant is found 2 times.\n",
      "The category stop_gained is found 25 times.\n",
      "The category synonymous_variant is found 130 times.\n"
     ]
    }
   ],
   "source": [
    "k = 5\n",
    "middle_distance_threshold = 1000\n",
    "include = 'non_synonymous'\n",
    "signatures_file = 'results/' + str(k) + 'mer_DNM_signatures_decomp_golden.txt'\n",
    "\n",
    "exons_centered_results = obs_exp_muts_excluding_kmer(mutations_df, exons_coords_df, signatures_file, tumor_type, \n",
    "                            middle_distance_threshold, k, include, tb_consequence_type, consequence_rank_dict)\n",
    "\n",
    "exons_centered_results.to_csv('results/exons_centered_' + str(k) + 'mer_DNM_context_golden_' + str(include) + '.tsv', sep=\"\\t\", header=True, index=False)"
   ]
  },
  {
   "cell_type": "markdown",
   "metadata": {},
   "source": [
    "#### Significance through permutations"
   ]
  },
  {
   "cell_type": "code",
   "execution_count": 63,
   "metadata": {},
   "outputs": [
    {
     "name": "stdout",
     "output_type": "stream",
     "text": [
      "Total amount of mutations at the middle exon-centered sequences is 5598\n",
      "Observed at middle exons: 358\n",
      "Observed at flanking introns: 5113\n"
     ]
    }
   ],
   "source": [
    "k = 5\n",
    "middle_distance_threshold = 1000\n",
    "signatures_file = 'results/' + str(k) + 'mer_DNM_signatures_decomp_golden.txt'\n",
    "include = 'non_synonymous'\n",
    "\n",
    "(exons_centered_results, exonic_obs, intronic_obs) = stacked_sequence_level_permutation_excluding(mutations_df,\n",
    "                                    exons_coords_df, signatures_file, tumor_type, middle_distance_threshold,\n",
    "                                    k, include, tb_consequence_type, consequence_rank_dict)\n",
    "\n",
    "exons_centered_results = pd.DataFrame.transpose(exons_centered_results)\n",
    "exons_centered_results.to_csv(path.join('results', 'exons_centered_' + str(k) + 'mer_permut_' + include + '_golden.tsv'),\n",
    "                              sep=\"\\t\", header=True, index=False)"
   ]
  },
  {
   "cell_type": "code",
   "execution_count": 64,
   "metadata": {},
   "outputs": [
    {
     "data": {
      "text/html": [
       "<div>\n",
       "<style>\n",
       "    .dataframe thead tr:only-child th {\n",
       "        text-align: right;\n",
       "    }\n",
       "\n",
       "    .dataframe thead th {\n",
       "        text-align: left;\n",
       "    }\n",
       "\n",
       "    .dataframe tbody tr th {\n",
       "        vertical-align: top;\n",
       "    }\n",
       "</style>\n",
       "<table border=\"1\" class=\"dataframe\">\n",
       "  <thead>\n",
       "    <tr style=\"text-align: right;\">\n",
       "      <th></th>\n",
       "      <th>obs_exon_cnt</th>\n",
       "      <th>exp_exon_cnt</th>\n",
       "      <th>obs_intron_cnt</th>\n",
       "      <th>exp_intron_cnt</th>\n",
       "      <th>empirical_pvalue</th>\n",
       "    </tr>\n",
       "  </thead>\n",
       "  <tbody>\n",
       "    <tr>\n",
       "      <th>0</th>\n",
       "      <td>358</td>\n",
       "      <td>342.903</td>\n",
       "      <td>5113</td>\n",
       "      <td>5128.097</td>\n",
       "      <td>0.193</td>\n",
       "    </tr>\n",
       "  </tbody>\n",
       "</table>\n",
       "</div>"
      ],
      "text/plain": [
       "   obs_exon_cnt  exp_exon_cnt  obs_intron_cnt  exp_intron_cnt  \\\n",
       "0           358       342.903            5113        5128.097   \n",
       "\n",
       "   empirical_pvalue  \n",
       "0             0.193  "
      ]
     },
     "execution_count": 64,
     "metadata": {},
     "output_type": "execute_result"
    }
   ],
   "source": [
    "k = 5\n",
    "results = []\n",
    "RANDOMIZATION = 1000\n",
    "include = 'non_synonymous'\n",
    "    \n",
    "# Read the expected exon and intron mutation counts from permutations\n",
    "rand_output = pd.read_csv(path.join('results', 'exons_centered_' + str(k) + 'mer_permut_' + include + '_golden.tsv'), sep=\"\\t\")\n",
    "    \n",
    "# count the number of times the expected exon mutations is higher than the observed\n",
    "count = len(rand_output[rand_output['exon_Exp'] >= exonic_obs])\n",
    "    \n",
    "if count == 0:\n",
    "    count = 1 \n",
    "    \n",
    "results.append([exonic_obs, rand_output['exon_Exp'].mean(), intronic_obs, rand_output['intron_Exp'].mean(), count/RANDOMIZATION])\n",
    "    \n",
    "results_df = pd.DataFrame(results)\n",
    "results_df.columns = ['obs_exon_cnt', 'exp_exon_cnt','obs_intron_cnt', 'exp_intron_cnt', 'empirical_pvalue']\n",
    "results_df"
   ]
  },
  {
   "cell_type": "code",
   "execution_count": 65,
   "metadata": {},
   "outputs": [
    {
     "data": {
      "text/plain": [
       "0    4.402703\n",
       "dtype: float64"
      ]
     },
     "execution_count": 65,
     "metadata": {},
     "output_type": "execute_result"
    }
   ],
   "source": [
    "exonic_increase = (results_df[\"obs_exon_cnt\"]/results_df[\"exp_exon_cnt\"]-1)*100\n",
    "exonic_increase"
   ]
  },
  {
   "cell_type": "code",
   "execution_count": 66,
   "metadata": {},
   "outputs": [
    {
     "data": {
      "text/plain": [
       "(0    4.233248\n",
       " dtype: float64, 0    4.572158\n",
       " dtype: float64)"
      ]
     },
     "execution_count": 66,
     "metadata": {},
     "output_type": "execute_result"
    }
   ],
   "source": [
    "rand_output['increase'] = (exonic_obs/rand_output['exon_Exp']-1)*100\n",
    "error = (st.stdev(rand_output['increase'].tolist())/np.sqrt(1000))\n",
    "(exonic_increase-error, exonic_increase+error)"
   ]
  },
  {
   "cell_type": "markdown",
   "metadata": {},
   "source": [
    "### 7-mer context dependency, synonymous"
   ]
  },
  {
   "cell_type": "code",
   "execution_count": 67,
   "metadata": {},
   "outputs": [
    {
     "name": "stdout",
     "output_type": "stream",
     "text": [
      "The total amount of mutations at the middle exon-centered sequences is 5598\n",
      "The total amount of mutations at the exonic sequences are 494\n",
      "The category initiator_codon_variant is found 1 times.\n",
      "The category missense_variant is found 336 times.\n",
      "The category splice_region_variant is found 2 times.\n",
      "The category stop_gained is found 25 times.\n",
      "The category synonymous_variant is found 130 times.\n"
     ]
    }
   ],
   "source": [
    "k = 7\n",
    "middle_distance_threshold = 1000\n",
    "include = 'synonymous'\n",
    "signatures_file = 'results/' + str(k) + 'mer_DNM_signatures_decomp_golden.txt'\n",
    "\n",
    "exons_centered_results = obs_exp_muts_excluding_kmer(mutations_df, exons_coords_df, signatures_file, tumor_type, \n",
    "                            middle_distance_threshold, k, include, tb_consequence_type, consequence_rank_dict)\n",
    "\n",
    "exons_centered_results.to_csv('results/exons_centered_' + str(k) + 'mer_DNM_context_golden_' + str(include) + '.tsv', sep=\"\\t\", header=True, index=False)"
   ]
  },
  {
   "cell_type": "markdown",
   "metadata": {},
   "source": [
    "#### Significance through permutations"
   ]
  },
  {
   "cell_type": "code",
   "execution_count": 68,
   "metadata": {},
   "outputs": [
    {
     "name": "stdout",
     "output_type": "stream",
     "text": [
      "Total amount of mutations at the middle exon-centered sequences is 5598\n",
      "Observed at middle exons: 127\n",
      "Observed at flanking introns: 5113\n"
     ]
    }
   ],
   "source": [
    "k = 7\n",
    "middle_distance_threshold = 1000\n",
    "signatures_file = 'results/' + str(k) + 'mer_DNM_signatures_decomp_golden.txt'\n",
    "include = 'synonymous'\n",
    "\n",
    "(exons_centered_results, exonic_obs, intronic_obs) = stacked_sequence_level_permutation_excluding(mutations_df,\n",
    "                                    exons_coords_df, signatures_file, tumor_type, middle_distance_threshold,\n",
    "                                    k, include, tb_consequence_type, consequence_rank_dict)\n",
    "\n",
    "exons_centered_results = pd.DataFrame.transpose(exons_centered_results)\n",
    "exons_centered_results.to_csv(path.join('results', 'exons_centered_' + str(k) + 'mer_permut_' + include + '_golden.tsv'),\n",
    "                              sep=\"\\t\", header=True, index=False)"
   ]
  },
  {
   "cell_type": "code",
   "execution_count": 69,
   "metadata": {},
   "outputs": [
    {
     "data": {
      "text/html": [
       "<div>\n",
       "<style>\n",
       "    .dataframe thead tr:only-child th {\n",
       "        text-align: right;\n",
       "    }\n",
       "\n",
       "    .dataframe thead th {\n",
       "        text-align: left;\n",
       "    }\n",
       "\n",
       "    .dataframe tbody tr th {\n",
       "        vertical-align: top;\n",
       "    }\n",
       "</style>\n",
       "<table border=\"1\" class=\"dataframe\">\n",
       "  <thead>\n",
       "    <tr style=\"text-align: right;\">\n",
       "      <th></th>\n",
       "      <th>obs_exon_cnt</th>\n",
       "      <th>exp_exon_cnt</th>\n",
       "      <th>obs_intron_cnt</th>\n",
       "      <th>exp_intron_cnt</th>\n",
       "      <th>empirical_pvalue</th>\n",
       "    </tr>\n",
       "  </thead>\n",
       "  <tbody>\n",
       "    <tr>\n",
       "      <th>0</th>\n",
       "      <td>127</td>\n",
       "      <td>126.673</td>\n",
       "      <td>5113</td>\n",
       "      <td>5113.327</td>\n",
       "      <td>0.5</td>\n",
       "    </tr>\n",
       "  </tbody>\n",
       "</table>\n",
       "</div>"
      ],
      "text/plain": [
       "   obs_exon_cnt  exp_exon_cnt  obs_intron_cnt  exp_intron_cnt  \\\n",
       "0           127       126.673            5113        5113.327   \n",
       "\n",
       "   empirical_pvalue  \n",
       "0               0.5  "
      ]
     },
     "execution_count": 69,
     "metadata": {},
     "output_type": "execute_result"
    }
   ],
   "source": [
    "k = 7\n",
    "results = []\n",
    "RANDOMIZATION = 1000\n",
    "include = 'synonymous'\n",
    "    \n",
    "# Read the expected exon and intron mutation counts from permutations\n",
    "rand_output = pd.read_csv(path.join('results', 'exons_centered_' + str(k) + 'mer_permut_' + include + '_golden.tsv'), sep=\"\\t\")\n",
    "    \n",
    "# count the number of times the expected exon mutations is higher than the observed\n",
    "count = len(rand_output[rand_output['exon_Exp'] >= exonic_obs])\n",
    "    \n",
    "if count == 0:\n",
    "    count = 1 \n",
    "    \n",
    "results.append([exonic_obs, rand_output['exon_Exp'].mean(), intronic_obs, rand_output['intron_Exp'].mean(), count/RANDOMIZATION])\n",
    "    \n",
    "results_df = pd.DataFrame(results)\n",
    "results_df.columns = ['obs_exon_cnt', 'exp_exon_cnt','obs_intron_cnt', 'exp_intron_cnt', 'empirical_pvalue']\n",
    "results_df"
   ]
  },
  {
   "cell_type": "code",
   "execution_count": 70,
   "metadata": {},
   "outputs": [
    {
     "data": {
      "text/plain": [
       "0    0.258145\n",
       "dtype: float64"
      ]
     },
     "execution_count": 70,
     "metadata": {},
     "output_type": "execute_result"
    }
   ],
   "source": [
    "exonic_increase = (results_df[\"obs_exon_cnt\"]/results_df[\"exp_exon_cnt\"]-1)*100\n",
    "exonic_increase"
   ]
  },
  {
   "cell_type": "code",
   "execution_count": 71,
   "metadata": {},
   "outputs": [
    {
     "data": {
      "text/plain": [
       "(0   -0.018615\n",
       " dtype: float64, 0    0.534905\n",
       " dtype: float64)"
      ]
     },
     "execution_count": 71,
     "metadata": {},
     "output_type": "execute_result"
    }
   ],
   "source": [
    "rand_output['increase'] = (exonic_obs/rand_output['exon_Exp']-1)*100\n",
    "error = (st.stdev(rand_output['increase'].tolist())/np.sqrt(1000))\n",
    "(exonic_increase-error, exonic_increase+error)"
   ]
  },
  {
   "cell_type": "markdown",
   "metadata": {},
   "source": [
    "### 7-mer context dependency, non_synonymous"
   ]
  },
  {
   "cell_type": "code",
   "execution_count": 72,
   "metadata": {},
   "outputs": [
    {
     "name": "stdout",
     "output_type": "stream",
     "text": [
      "The total amount of mutations at the middle exon-centered sequences is 5598\n",
      "The total amount of mutations at the exonic sequences are 494\n",
      "The category initiator_codon_variant is found 1 times.\n",
      "The category missense_variant is found 336 times.\n",
      "The category splice_region_variant is found 2 times.\n",
      "The category stop_gained is found 25 times.\n",
      "The category synonymous_variant is found 130 times.\n"
     ]
    }
   ],
   "source": [
    "k = 7\n",
    "middle_distance_threshold = 1000\n",
    "include = 'non_synonymous'\n",
    "signatures_file = 'results/' + str(k) + 'mer_DNM_signatures_decomp_golden.txt'\n",
    "\n",
    "exons_centered_results = obs_exp_muts_excluding_kmer(mutations_df, exons_coords_df, signatures_file, tumor_type, \n",
    "                            middle_distance_threshold, k, include, tb_consequence_type, consequence_rank_dict)\n",
    "\n",
    "exons_centered_results.to_csv('results/exons_centered_' + str(k) + 'mer_DNM_context_golden_' + str(include) + '.tsv', sep=\"\\t\", header=True, index=False)"
   ]
  },
  {
   "cell_type": "markdown",
   "metadata": {},
   "source": [
    "#### Significance through permutations"
   ]
  },
  {
   "cell_type": "code",
   "execution_count": 73,
   "metadata": {},
   "outputs": [
    {
     "name": "stdout",
     "output_type": "stream",
     "text": [
      "Total amount of mutations at the middle exon-centered sequences is 5598\n",
      "Observed at middle exons: 358\n",
      "Observed at flanking introns: 5113\n"
     ]
    }
   ],
   "source": [
    "k = 7\n",
    "middle_distance_threshold = 1000\n",
    "signatures_file = 'results/' + str(k) + 'mer_DNM_signatures_decomp_golden.txt'\n",
    "include = 'non_synonymous'\n",
    "\n",
    "(exons_centered_results, exonic_obs, intronic_obs) = stacked_sequence_level_permutation_excluding(mutations_df,\n",
    "                                    exons_coords_df, signatures_file, tumor_type, middle_distance_threshold,\n",
    "                                    k, include, tb_consequence_type, consequence_rank_dict)\n",
    "\n",
    "exons_centered_results = pd.DataFrame.transpose(exons_centered_results)\n",
    "exons_centered_results.to_csv(path.join('results', 'exons_centered_' + str(k) + 'mer_permut_' + include + '_golden.tsv'),\n",
    "                              sep=\"\\t\", header=True, index=False)"
   ]
  },
  {
   "cell_type": "code",
   "execution_count": 74,
   "metadata": {},
   "outputs": [
    {
     "data": {
      "text/html": [
       "<div>\n",
       "<style>\n",
       "    .dataframe thead tr:only-child th {\n",
       "        text-align: right;\n",
       "    }\n",
       "\n",
       "    .dataframe thead th {\n",
       "        text-align: left;\n",
       "    }\n",
       "\n",
       "    .dataframe tbody tr th {\n",
       "        vertical-align: top;\n",
       "    }\n",
       "</style>\n",
       "<table border=\"1\" class=\"dataframe\">\n",
       "  <thead>\n",
       "    <tr style=\"text-align: right;\">\n",
       "      <th></th>\n",
       "      <th>obs_exon_cnt</th>\n",
       "      <th>exp_exon_cnt</th>\n",
       "      <th>obs_intron_cnt</th>\n",
       "      <th>exp_intron_cnt</th>\n",
       "      <th>empirical_pvalue</th>\n",
       "    </tr>\n",
       "  </thead>\n",
       "  <tbody>\n",
       "    <tr>\n",
       "      <th>0</th>\n",
       "      <td>358</td>\n",
       "      <td>345.76</td>\n",
       "      <td>5113</td>\n",
       "      <td>5125.24</td>\n",
       "      <td>0.248</td>\n",
       "    </tr>\n",
       "  </tbody>\n",
       "</table>\n",
       "</div>"
      ],
      "text/plain": [
       "   obs_exon_cnt  exp_exon_cnt  obs_intron_cnt  exp_intron_cnt  \\\n",
       "0           358        345.76            5113         5125.24   \n",
       "\n",
       "   empirical_pvalue  \n",
       "0             0.248  "
      ]
     },
     "execution_count": 74,
     "metadata": {},
     "output_type": "execute_result"
    }
   ],
   "source": [
    "k = 7\n",
    "results = []\n",
    "RANDOMIZATION = 1000\n",
    "include = 'non_synonymous'\n",
    "    \n",
    "# Read the expected exon and intron mutation counts from permutations\n",
    "rand_output = pd.read_csv(path.join('results', 'exons_centered_' + str(k) + 'mer_permut_' + include + '_golden.tsv'), sep=\"\\t\")\n",
    "    \n",
    "# count the number of times the expected exon mutations is higher than the observed\n",
    "count = len(rand_output[rand_output['exon_Exp'] >= exonic_obs])\n",
    "    \n",
    "if count == 0:\n",
    "    count = 1 \n",
    "    \n",
    "results.append([exonic_obs, rand_output['exon_Exp'].mean(), intronic_obs, rand_output['intron_Exp'].mean(), count/RANDOMIZATION])\n",
    "    \n",
    "results_df = pd.DataFrame(results)\n",
    "results_df.columns = ['obs_exon_cnt', 'exp_exon_cnt','obs_intron_cnt', 'exp_intron_cnt', 'empirical_pvalue']\n",
    "results_df"
   ]
  },
  {
   "cell_type": "code",
   "execution_count": 75,
   "metadata": {},
   "outputs": [
    {
     "data": {
      "text/plain": [
       "0    3.540028\n",
       "dtype: float64"
      ]
     },
     "execution_count": 75,
     "metadata": {},
     "output_type": "execute_result"
    }
   ],
   "source": [
    "exonic_increase = (results_df[\"obs_exon_cnt\"]/results_df[\"exp_exon_cnt\"]-1)*100\n",
    "exonic_increase"
   ]
  },
  {
   "cell_type": "code",
   "execution_count": 76,
   "metadata": {},
   "outputs": [
    {
     "data": {
      "text/plain": [
       "(0    3.370396\n",
       " dtype: float64, 0    3.70966\n",
       " dtype: float64)"
      ]
     },
     "execution_count": 76,
     "metadata": {},
     "output_type": "execute_result"
    }
   ],
   "source": [
    "rand_output['increase'] = (exonic_obs/rand_output['exon_Exp']-1)*100\n",
    "error = (st.stdev(rand_output['increase'].tolist())/np.sqrt(1000))\n",
    "(exonic_increase-error, exonic_increase+error)"
   ]
  },
  {
   "cell_type": "markdown",
   "metadata": {},
   "source": [
    "### Plot results\n",
    "\n",
    "Binned average approach. Bin size is 25."
   ]
  },
  {
   "cell_type": "code",
   "execution_count": 77,
   "metadata": {},
   "outputs": [
    {
     "name": "stderr",
     "output_type": "stream",
     "text": [
      "/home/peluca/anaconda3/envs/intronexon/lib/python3.6/site-packages/ipykernel_launcher.py:20: MatplotlibDeprecationWarning: The set_axis_bgcolor function was deprecated in version 2.0. Use set_facecolor instead.\n",
      "/home/peluca/anaconda3/envs/intronexon/lib/python3.6/site-packages/matplotlib/font_manager.py:1297: UserWarning: findfont: Font family ['sans-serif'] not found. Falling back to DejaVu Sans\n",
      "  (prop.get_family(), self.defaultFamily[fontext]))\n"
     ]
    },
    {
     "data": {
      "image/png": "[encoded data removed]",
      "text/plain": [
       "<matplotlib.figure.Figure at 0x7f84c5cb8358>"
      ]
     },
     "metadata": {},
     "output_type": "display_data"
    }
   ],
   "source": [
    "size = 25\n",
    "\n",
    "listt = ['1mer_DNM_context_golden_synonymous', '1mer_DNM_context_golden_non_synonymous',\n",
    "        'CpGmer_DNM_context_golden_synonymous', 'CpGmer_DNM_context_golden_non_synonymous',\n",
    "        '3mer_DNM_context_golden_synonymous', '3mer_DNM_context_golden_non_synonymous',\n",
    "        '5mer_DNM_context_golden_synonymous', '5mer_DNM_context_golden_non_synonymous',\n",
    "        '7mer_DNM_context_golden_synonymous', '7mer_DNM_context_golden_non_synonymous']\n",
    "\n",
    "NROW=5\n",
    "NCOL=2\n",
    "\n",
    "axs = []\n",
    "\n",
    "fig = plt.figure(figsize=(7,4))\n",
    "\n",
    "for row in range(0, NROW):\n",
    "    for col in range(0, NCOL):\n",
    "        axs.append(plt.subplot2grid((NROW, NCOL), (row, col)))\n",
    "\n",
    "cnt=0\n",
    "for ele in listt:\n",
    "    plot_HD_BINNED(ele, axs[cnt], cnt, size)\n",
    "    cnt+=1\n",
    "    \n",
    "plt.tight_layout()\n",
    "plt.savefig(path.join('figures', 'internal_exon_centered_DNM_context_binned_selection.svg'), bbox_inches='tight')\n",
    "plt.show()"
   ]
  },
  {
   "cell_type": "markdown",
   "metadata": {
    "collapsed": true
   },
   "source": [
    "## Exons centered analysis, Goldmann 2018\n",
    "\n",
    "Mutation probabilities were computed genome-wide using DNM. They were used to compute the expected number of mutations based on a generalized k-mer model, with the method described in the **Exon-centered and intron-centered mutational analyses** section at Frigola et al. for the 3-mer case."
   ]
  },
  {
   "cell_type": "code",
   "execution_count": 26,
   "metadata": {
    "collapsed": true
   },
   "outputs": [],
   "source": [
    "## Get mutations\n",
    "mutations_file = mutations_folder + 'germinal_ultimate_dataset.bed.gz'\n",
    "mutations_df = pd.read_csv(mutations_file, sep=\"\\t\", header=None)\n",
    "mutations_df.columns = ['chr', 'start', 'end', 'ref', 'alt', 'sample', 'type', 'class']\n",
    "mutations_df = mutations_df[['chr', 'start', 'end', 'ref', 'alt', 'sample', 'type']]\n",
    "mutations_df = mutations_df[mutations_df['type'] == 'subs']\n",
    "mutations_df = mutations_df[mutations_df['sample'] == 'Goldmann2018']\n",
    "mutations_df['ID'] = mutations_df.index + 1\n",
    "\n",
    "tumor_type = 'germinal'"
   ]
  },
  {
   "cell_type": "markdown",
   "metadata": {},
   "source": [
    "### 1-mer context dependency, synonymous"
   ]
  },
  {
   "cell_type": "code",
   "execution_count": 27,
   "metadata": {},
   "outputs": [
    {
     "name": "stdout",
     "output_type": "stream",
     "text": [
      "The total amount of mutations at the middle exon-centered sequences is 5598\n",
      "The total amount of mutations at the exonic sequences are 494\n",
      "The category initiator_codon_variant is found 1 times.\n",
      "The category missense_variant is found 336 times.\n",
      "The category splice_region_variant is found 2 times.\n",
      "The category stop_gained is found 25 times.\n",
      "The category synonymous_variant is found 130 times.\n"
     ]
    }
   ],
   "source": [
    "k = 1\n",
    "middle_distance_threshold = 1000\n",
    "include = 'synonymous'\n",
    "signatures_file = 'results/' + str(k) + 'mer_signatures_DNM_golden.txt'\n",
    "\n",
    "exons_centered_results = obs_exp_muts_excluding_kmer(mutations_df, exons_coords_df, signatures_file, tumor_type, \n",
    "                            middle_distance_threshold, k, include, tb_consequence_type, consequence_rank_dict)\n",
    "\n",
    "exons_centered_results.to_csv('results/exons_centered_' + str(k) + 'mer_DNM_context_golden_' + str(include) + '.tsv', sep=\"\\t\", header=True, index=False)"
   ]
  },
  {
   "cell_type": "markdown",
   "metadata": {},
   "source": [
    "#### Significance through permutations"
   ]
  },
  {
   "cell_type": "code",
   "execution_count": 28,
   "metadata": {},
   "outputs": [
    {
     "name": "stdout",
     "output_type": "stream",
     "text": [
      "Total amount of mutations at the middle exon-centered sequences is 5598\n",
      "Observed at middle exons: 127\n",
      "Observed at flanking introns: 5113\n"
     ]
    }
   ],
   "source": [
    "k = 1\n",
    "middle_distance_threshold = 1000\n",
    "signatures_file = 'results/' + str(k) + 'mer_signatures_DNM_golden.txt'\n",
    "include = 'synonymous'\n",
    "\n",
    "(exons_centered_results, exonic_obs, intronic_obs) = stacked_sequence_level_permutation_excluding(mutations_df,\n",
    "                                    exons_coords_df, signatures_file, tumor_type, middle_distance_threshold,\n",
    "                                    k, include, tb_consequence_type, consequence_rank_dict)\n",
    "\n",
    "exons_centered_results = pd.DataFrame.transpose(exons_centered_results)\n",
    "exons_centered_results.to_csv(path.join('results', 'exons_centered_' + str(k) + 'mer_permut_' + include + '_golden.tsv'),\n",
    "                              sep=\"\\t\", header=True, index=False)"
   ]
  },
  {
   "cell_type": "code",
   "execution_count": 29,
   "metadata": {},
   "outputs": [
    {
     "data": {
      "text/html": [
       "<div>\n",
       "<style>\n",
       "    .dataframe thead tr:only-child th {\n",
       "        text-align: right;\n",
       "    }\n",
       "\n",
       "    .dataframe thead th {\n",
       "        text-align: left;\n",
       "    }\n",
       "\n",
       "    .dataframe tbody tr th {\n",
       "        vertical-align: top;\n",
       "    }\n",
       "</style>\n",
       "<table border=\"1\" class=\"dataframe\">\n",
       "  <thead>\n",
       "    <tr style=\"text-align: right;\">\n",
       "      <th></th>\n",
       "      <th>obs_exon_cnt</th>\n",
       "      <th>exp_exon_cnt</th>\n",
       "      <th>obs_intron_cnt</th>\n",
       "      <th>exp_intron_cnt</th>\n",
       "      <th>empirical_pvalue</th>\n",
       "    </tr>\n",
       "  </thead>\n",
       "  <tbody>\n",
       "    <tr>\n",
       "      <th>0</th>\n",
       "      <td>127</td>\n",
       "      <td>115.149</td>\n",
       "      <td>5113</td>\n",
       "      <td>5124.851</td>\n",
       "      <td>0.13</td>\n",
       "    </tr>\n",
       "  </tbody>\n",
       "</table>\n",
       "</div>"
      ],
      "text/plain": [
       "   obs_exon_cnt  exp_exon_cnt  obs_intron_cnt  exp_intron_cnt  \\\n",
       "0           127       115.149            5113        5124.851   \n",
       "\n",
       "   empirical_pvalue  \n",
       "0              0.13  "
      ]
     },
     "execution_count": 29,
     "metadata": {},
     "output_type": "execute_result"
    }
   ],
   "source": [
    "k = 1\n",
    "results = []\n",
    "RANDOMIZATION = 1000\n",
    "include = 'synonymous'\n",
    "    \n",
    "# Read the expected exon and intron mutation counts from permutations\n",
    "rand_output = pd.read_csv(path.join('results', 'exons_centered_' + str(k) + 'mer_permut_' + include + '_golden.tsv'), sep=\"\\t\")\n",
    "    \n",
    "# count the number of times the expected exon mutations is higher than the observed\n",
    "count = len(rand_output[rand_output['exon_Exp'] >= exonic_obs])\n",
    "    \n",
    "if count == 0:\n",
    "    count = 1 \n",
    "    \n",
    "results.append([exonic_obs, rand_output['exon_Exp'].mean(), intronic_obs, rand_output['intron_Exp'].mean(), count/RANDOMIZATION])\n",
    "    \n",
    "results_df = pd.DataFrame(results)\n",
    "results_df.columns = ['obs_exon_cnt', 'exp_exon_cnt','obs_intron_cnt', 'exp_intron_cnt', 'empirical_pvalue']\n",
    "results_df"
   ]
  },
  {
   "cell_type": "code",
   "execution_count": 30,
   "metadata": {},
   "outputs": [
    {
     "data": {
      "text/plain": [
       "0    10.291883\n",
       "dtype: float64"
      ]
     },
     "execution_count": 30,
     "metadata": {},
     "output_type": "execute_result"
    }
   ],
   "source": [
    "exonic_increase = (results_df[\"obs_exon_cnt\"]/results_df[\"exp_exon_cnt\"]-1)*100\n",
    "exonic_increase"
   ]
  },
  {
   "cell_type": "code",
   "execution_count": 31,
   "metadata": {},
   "outputs": [
    {
     "data": {
      "text/plain": [
       "(0    9.966747\n",
       " dtype: float64, 0    10.617018\n",
       " dtype: float64)"
      ]
     },
     "execution_count": 31,
     "metadata": {},
     "output_type": "execute_result"
    }
   ],
   "source": [
    "rand_output['increase'] = (exonic_obs/rand_output['exon_Exp']-1)*100\n",
    "error = (st.stdev(rand_output['increase'].tolist())/np.sqrt(1000))\n",
    "(exonic_increase-error, exonic_increase+error)"
   ]
  },
  {
   "cell_type": "markdown",
   "metadata": {},
   "source": [
    "### 1-mer context dependency, non_synonymous"
   ]
  },
  {
   "cell_type": "code",
   "execution_count": 32,
   "metadata": {},
   "outputs": [
    {
     "name": "stdout",
     "output_type": "stream",
     "text": [
      "The total amount of mutations at the middle exon-centered sequences is 5598\n",
      "The total amount of mutations at the exonic sequences are 494\n",
      "The category initiator_codon_variant is found 1 times.\n",
      "The category missense_variant is found 336 times.\n",
      "The category splice_region_variant is found 2 times.\n",
      "The category stop_gained is found 25 times.\n",
      "The category synonymous_variant is found 130 times.\n"
     ]
    }
   ],
   "source": [
    "k = 1\n",
    "middle_distance_threshold = 1000\n",
    "include = 'non_synonymous'\n",
    "signatures_file = 'results/' + str(k) + 'mer_signatures_DNM_golden.txt'\n",
    "\n",
    "exons_centered_results = obs_exp_muts_excluding_kmer(mutations_df, exons_coords_df, signatures_file, tumor_type, \n",
    "                            middle_distance_threshold, k, include, tb_consequence_type, consequence_rank_dict)\n",
    "\n",
    "exons_centered_results.to_csv('results/exons_centered_' + str(k) + 'mer_DNM_context_golden_' + str(include) + '.tsv', sep=\"\\t\", header=True, index=False)"
   ]
  },
  {
   "cell_type": "markdown",
   "metadata": {},
   "source": [
    "#### Significance through permutations"
   ]
  },
  {
   "cell_type": "code",
   "execution_count": 33,
   "metadata": {},
   "outputs": [
    {
     "name": "stdout",
     "output_type": "stream",
     "text": [
      "Total amount of mutations at the middle exon-centered sequences is 5598\n",
      "Observed at middle exons: 358\n",
      "Observed at flanking introns: 5113\n"
     ]
    }
   ],
   "source": [
    "k = 1\n",
    "middle_distance_threshold = 1000\n",
    "signatures_file = 'results/' + str(k) + 'mer_signatures_DNM_golden.txt'\n",
    "include = 'non_synonymous'\n",
    "\n",
    "(exons_centered_results, exonic_obs, intronic_obs) = stacked_sequence_level_permutation_excluding(mutations_df,\n",
    "                                    exons_coords_df, signatures_file, tumor_type, middle_distance_threshold,\n",
    "                                    k, include, tb_consequence_type, consequence_rank_dict)\n",
    "\n",
    "exons_centered_results = pd.DataFrame.transpose(exons_centered_results)\n",
    "exons_centered_results.to_csv(path.join('results', 'exons_centered_' + str(k) + 'mer_permut_' + include + '_golden.tsv'),\n",
    "                              sep=\"\\t\", header=True, index=False)"
   ]
  },
  {
   "cell_type": "code",
   "execution_count": 34,
   "metadata": {},
   "outputs": [
    {
     "data": {
      "text/html": [
       "<div>\n",
       "<style>\n",
       "    .dataframe thead tr:only-child th {\n",
       "        text-align: right;\n",
       "    }\n",
       "\n",
       "    .dataframe thead th {\n",
       "        text-align: left;\n",
       "    }\n",
       "\n",
       "    .dataframe tbody tr th {\n",
       "        vertical-align: top;\n",
       "    }\n",
       "</style>\n",
       "<table border=\"1\" class=\"dataframe\">\n",
       "  <thead>\n",
       "    <tr style=\"text-align: right;\">\n",
       "      <th></th>\n",
       "      <th>obs_exon_cnt</th>\n",
       "      <th>exp_exon_cnt</th>\n",
       "      <th>obs_intron_cnt</th>\n",
       "      <th>exp_intron_cnt</th>\n",
       "      <th>empirical_pvalue</th>\n",
       "    </tr>\n",
       "  </thead>\n",
       "  <tbody>\n",
       "    <tr>\n",
       "      <th>0</th>\n",
       "      <td>358</td>\n",
       "      <td>299.403</td>\n",
       "      <td>5113</td>\n",
       "      <td>5171.597</td>\n",
       "      <td>0.001</td>\n",
       "    </tr>\n",
       "  </tbody>\n",
       "</table>\n",
       "</div>"
      ],
      "text/plain": [
       "   obs_exon_cnt  exp_exon_cnt  obs_intron_cnt  exp_intron_cnt  \\\n",
       "0           358       299.403            5113        5171.597   \n",
       "\n",
       "   empirical_pvalue  \n",
       "0             0.001  "
      ]
     },
     "execution_count": 34,
     "metadata": {},
     "output_type": "execute_result"
    }
   ],
   "source": [
    "k = 1\n",
    "results = []\n",
    "RANDOMIZATION = 1000\n",
    "include = 'non_synonymous'\n",
    "    \n",
    "# Read the expected exon and intron mutation counts from permutations\n",
    "rand_output = pd.read_csv(path.join('results', 'exons_centered_' + str(k) + 'mer_permut_' + include + '_golden.tsv'), sep=\"\\t\")\n",
    "    \n",
    "# count the number of times the expected exon mutations is higher than the observed\n",
    "count = len(rand_output[rand_output['exon_Exp'] >= exonic_obs])\n",
    "    \n",
    "if count == 0:\n",
    "    count = 1 \n",
    "    \n",
    "results.append([exonic_obs, rand_output['exon_Exp'].mean(), intronic_obs, rand_output['intron_Exp'].mean(), count/RANDOMIZATION])\n",
    "    \n",
    "results_df = pd.DataFrame(results)\n",
    "results_df.columns = ['obs_exon_cnt', 'exp_exon_cnt','obs_intron_cnt', 'exp_intron_cnt', 'empirical_pvalue']\n",
    "results_df"
   ]
  },
  {
   "cell_type": "code",
   "execution_count": 35,
   "metadata": {},
   "outputs": [
    {
     "data": {
      "text/plain": [
       "0    19.57128\n",
       "dtype: float64"
      ]
     },
     "execution_count": 35,
     "metadata": {},
     "output_type": "execute_result"
    }
   ],
   "source": [
    "exonic_increase = (results_df[\"obs_exon_cnt\"]/results_df[\"exp_exon_cnt\"]-1)*100\n",
    "exonic_increase"
   ]
  },
  {
   "cell_type": "code",
   "execution_count": 36,
   "metadata": {},
   "outputs": [
    {
     "data": {
      "text/plain": [
       "(0    19.362319\n",
       " dtype: float64, 0    19.780241\n",
       " dtype: float64)"
      ]
     },
     "execution_count": 36,
     "metadata": {},
     "output_type": "execute_result"
    }
   ],
   "source": [
    "rand_output['increase'] = (exonic_obs/rand_output['exon_Exp']-1)*100\n",
    "error = (st.stdev(rand_output['increase'].tolist())/np.sqrt(1000))\n",
    "(exonic_increase-error, exonic_increase+error)"
   ]
  },
  {
   "cell_type": "markdown",
   "metadata": {},
   "source": [
    "### 1-mer context dependency, 9 classes with CpG, synonymous"
   ]
  },
  {
   "cell_type": "code",
   "execution_count": 37,
   "metadata": {},
   "outputs": [
    {
     "name": "stdout",
     "output_type": "stream",
     "text": [
      "The total amount of mutations at the middle exon-centered sequences is 5598\n",
      "The total amount of mutations at the exonic sequences are 494\n",
      "The category initiator_codon_variant is found 1 times.\n",
      "The category missense_variant is found 336 times.\n",
      "The category splice_region_variant is found 2 times.\n",
      "The category stop_gained is found 25 times.\n",
      "The category synonymous_variant is found 130 times.\n"
     ]
    }
   ],
   "source": [
    "k = 3\n",
    "middle_distance_threshold = 1000\n",
    "include = 'synonymous'\n",
    "signatures_file = 'results/CpG_signatures_DNM_golden.txt'\n",
    "\n",
    "exons_centered_results = obs_exp_muts_excluding_CpG(mutations_df, exons_coords_df, signatures_file, tumor_type, \n",
    "                            middle_distance_threshold, k, include, tb_consequence_type, consequence_rank_dict)\n",
    "\n",
    "exons_centered_results.to_csv('results/exons_centered_CpGmer_DNM_context_golden_' + str(include) + '.tsv', sep=\"\\t\", header=True, index=False)"
   ]
  },
  {
   "cell_type": "markdown",
   "metadata": {},
   "source": [
    "#### Significance through permutations"
   ]
  },
  {
   "cell_type": "code",
   "execution_count": 38,
   "metadata": {},
   "outputs": [
    {
     "name": "stdout",
     "output_type": "stream",
     "text": [
      "Total amount of mutations at the middle exon-centered sequences is 5598\n",
      "Observed at middle exons: 127\n",
      "Observed at flanking introns: 5113\n"
     ]
    }
   ],
   "source": [
    "k = 3\n",
    "middle_distance_threshold = 1000\n",
    "signatures_file = 'results/CpG_signatures_DNM_golden.txt'\n",
    "include = 'synonymous'\n",
    "\n",
    "(exons_centered_results, exonic_obs, intronic_obs) = stacked_sequence_level_permutation_excluding_CpG(mutations_df,\n",
    "                                    exons_coords_df, signatures_file, tumor_type, middle_distance_threshold,\n",
    "                                    k, include, tb_consequence_type, consequence_rank_dict)\n",
    "\n",
    "exons_centered_results = pd.DataFrame.transpose(exons_centered_results)\n",
    "exons_centered_results.to_csv(path.join('results', 'exons_centered_CpGmer_permut_' + include + '_golden.tsv'),\n",
    "                              sep=\"\\t\", header=True, index=False)"
   ]
  },
  {
   "cell_type": "code",
   "execution_count": 39,
   "metadata": {},
   "outputs": [
    {
     "data": {
      "text/html": [
       "<div>\n",
       "<style>\n",
       "    .dataframe thead tr:only-child th {\n",
       "        text-align: right;\n",
       "    }\n",
       "\n",
       "    .dataframe thead th {\n",
       "        text-align: left;\n",
       "    }\n",
       "\n",
       "    .dataframe tbody tr th {\n",
       "        vertical-align: top;\n",
       "    }\n",
       "</style>\n",
       "<table border=\"1\" class=\"dataframe\">\n",
       "  <thead>\n",
       "    <tr style=\"text-align: right;\">\n",
       "      <th></th>\n",
       "      <th>obs_exon_cnt</th>\n",
       "      <th>exp_exon_cnt</th>\n",
       "      <th>obs_intron_cnt</th>\n",
       "      <th>exp_intron_cnt</th>\n",
       "      <th>empirical_pvalue</th>\n",
       "    </tr>\n",
       "  </thead>\n",
       "  <tbody>\n",
       "    <tr>\n",
       "      <th>0</th>\n",
       "      <td>127</td>\n",
       "      <td>131.129</td>\n",
       "      <td>5113</td>\n",
       "      <td>5108.871</td>\n",
       "      <td>0.679</td>\n",
       "    </tr>\n",
       "  </tbody>\n",
       "</table>\n",
       "</div>"
      ],
      "text/plain": [
       "   obs_exon_cnt  exp_exon_cnt  obs_intron_cnt  exp_intron_cnt  \\\n",
       "0           127       131.129            5113        5108.871   \n",
       "\n",
       "   empirical_pvalue  \n",
       "0             0.679  "
      ]
     },
     "execution_count": 39,
     "metadata": {},
     "output_type": "execute_result"
    }
   ],
   "source": [
    "k = 3\n",
    "results = []\n",
    "RANDOMIZATION = 1000\n",
    "include = 'synonymous'\n",
    "    \n",
    "# Read the expected exon and intron mutation counts from permutations\n",
    "rand_output = pd.read_csv(path.join('results', 'exons_centered_CpGmer_permut_' + include + '_golden.tsv'), sep=\"\\t\")\n",
    "    \n",
    "# count the number of times the expected exon mutations is higher than the observed\n",
    "count = len(rand_output[rand_output['exon_Exp'] >= exonic_obs])\n",
    "    \n",
    "if count == 0:\n",
    "    count = 1 \n",
    "    \n",
    "results.append([exonic_obs, rand_output['exon_Exp'].mean(), intronic_obs, rand_output['intron_Exp'].mean(), count/RANDOMIZATION])\n",
    "    \n",
    "results_df = pd.DataFrame(results)\n",
    "results_df.columns = ['obs_exon_cnt', 'exp_exon_cnt','obs_intron_cnt', 'exp_intron_cnt', 'empirical_pvalue']\n",
    "results_df"
   ]
  },
  {
   "cell_type": "code",
   "execution_count": 40,
   "metadata": {},
   "outputs": [
    {
     "data": {
      "text/plain": [
       "0   -3.148808\n",
       "dtype: float64"
      ]
     },
     "execution_count": 40,
     "metadata": {},
     "output_type": "execute_result"
    }
   ],
   "source": [
    "exonic_increase = (results_df[\"obs_exon_cnt\"]/results_df[\"exp_exon_cnt\"]-1)*100\n",
    "exonic_increase"
   ]
  },
  {
   "cell_type": "code",
   "execution_count": 41,
   "metadata": {},
   "outputs": [
    {
     "data": {
      "text/plain": [
       "(0   -3.399596\n",
       " dtype: float64, 0   -2.898019\n",
       " dtype: float64)"
      ]
     },
     "execution_count": 41,
     "metadata": {},
     "output_type": "execute_result"
    }
   ],
   "source": [
    "rand_output['increase'] = (exonic_obs/rand_output['exon_Exp']-1)*100\n",
    "error = (st.stdev(rand_output['increase'].tolist())/np.sqrt(1000))\n",
    "(exonic_increase-error, exonic_increase+error)"
   ]
  },
  {
   "cell_type": "markdown",
   "metadata": {},
   "source": [
    "### 1-mer context dependency, 9 classes with CpG, non_synonymous"
   ]
  },
  {
   "cell_type": "code",
   "execution_count": 42,
   "metadata": {},
   "outputs": [
    {
     "name": "stdout",
     "output_type": "stream",
     "text": [
      "The total amount of mutations at the middle exon-centered sequences is 5598\n",
      "The total amount of mutations at the exonic sequences are 494\n",
      "The category initiator_codon_variant is found 1 times.\n",
      "The category missense_variant is found 336 times.\n",
      "The category splice_region_variant is found 2 times.\n",
      "The category stop_gained is found 25 times.\n",
      "The category synonymous_variant is found 130 times.\n"
     ]
    }
   ],
   "source": [
    "k = 3\n",
    "middle_distance_threshold = 1000\n",
    "include = 'non_synonymous'\n",
    "signatures_file = 'results/CpG_signatures_DNM_golden.txt'\n",
    "\n",
    "exons_centered_results = obs_exp_muts_excluding_CpG(mutations_df, exons_coords_df, signatures_file, tumor_type, \n",
    "                            middle_distance_threshold, k, include, tb_consequence_type, consequence_rank_dict)\n",
    "\n",
    "exons_centered_results.to_csv('results/exons_centered_CpGmer_DNM_context_golden_' + str(include) + '.tsv', sep=\"\\t\", header=True, index=False)"
   ]
  },
  {
   "cell_type": "markdown",
   "metadata": {},
   "source": [
    "#### Significance through permutations"
   ]
  },
  {
   "cell_type": "code",
   "execution_count": 43,
   "metadata": {},
   "outputs": [
    {
     "name": "stdout",
     "output_type": "stream",
     "text": [
      "Total amount of mutations at the middle exon-centered sequences is 5598\n",
      "Observed at middle exons: 358\n",
      "Observed at flanking introns: 5113\n"
     ]
    }
   ],
   "source": [
    "k = 3\n",
    "middle_distance_threshold = 1000\n",
    "signatures_file = 'results/CpG_signatures_DNM_golden.txt'\n",
    "include = 'non_synonymous'\n",
    "\n",
    "(exons_centered_results, exonic_obs, intronic_obs) = stacked_sequence_level_permutation_excluding_CpG(mutations_df,\n",
    "                                    exons_coords_df, signatures_file, tumor_type, middle_distance_threshold,\n",
    "                                    k, include, tb_consequence_type, consequence_rank_dict)\n",
    "\n",
    "exons_centered_results = pd.DataFrame.transpose(exons_centered_results)\n",
    "exons_centered_results.to_csv(path.join('results', 'exons_centered_CpGmer_permut_' + include + '_golden.tsv'),\n",
    "                              sep=\"\\t\", header=True, index=False)"
   ]
  },
  {
   "cell_type": "code",
   "execution_count": 44,
   "metadata": {},
   "outputs": [
    {
     "data": {
      "text/html": [
       "<div>\n",
       "<style>\n",
       "    .dataframe thead tr:only-child th {\n",
       "        text-align: right;\n",
       "    }\n",
       "\n",
       "    .dataframe thead th {\n",
       "        text-align: left;\n",
       "    }\n",
       "\n",
       "    .dataframe tbody tr th {\n",
       "        vertical-align: top;\n",
       "    }\n",
       "</style>\n",
       "<table border=\"1\" class=\"dataframe\">\n",
       "  <thead>\n",
       "    <tr style=\"text-align: right;\">\n",
       "      <th></th>\n",
       "      <th>obs_exon_cnt</th>\n",
       "      <th>exp_exon_cnt</th>\n",
       "      <th>obs_intron_cnt</th>\n",
       "      <th>exp_intron_cnt</th>\n",
       "      <th>empirical_pvalue</th>\n",
       "    </tr>\n",
       "  </thead>\n",
       "  <tbody>\n",
       "    <tr>\n",
       "      <th>0</th>\n",
       "      <td>358</td>\n",
       "      <td>346.288</td>\n",
       "      <td>5113</td>\n",
       "      <td>5124.712</td>\n",
       "      <td>0.26</td>\n",
       "    </tr>\n",
       "  </tbody>\n",
       "</table>\n",
       "</div>"
      ],
      "text/plain": [
       "   obs_exon_cnt  exp_exon_cnt  obs_intron_cnt  exp_intron_cnt  \\\n",
       "0           358       346.288            5113        5124.712   \n",
       "\n",
       "   empirical_pvalue  \n",
       "0              0.26  "
      ]
     },
     "execution_count": 44,
     "metadata": {},
     "output_type": "execute_result"
    }
   ],
   "source": [
    "k = 3\n",
    "results = []\n",
    "RANDOMIZATION = 1000\n",
    "include = 'non_synonymous'\n",
    "    \n",
    "# Read the expected exon and intron mutation counts from permutations\n",
    "rand_output = pd.read_csv(path.join('results', 'exons_centered_CpGmer_permut_' + include + '_golden.tsv'), sep=\"\\t\")\n",
    "    \n",
    "# count the number of times the expected exon mutations is higher than the observed\n",
    "count = len(rand_output[rand_output['exon_Exp'] >= exonic_obs])\n",
    "    \n",
    "if count == 0:\n",
    "    count = 1 \n",
    "    \n",
    "results.append([exonic_obs, rand_output['exon_Exp'].mean(), intronic_obs, rand_output['intron_Exp'].mean(), count/RANDOMIZATION])\n",
    "    \n",
    "results_df = pd.DataFrame(results)\n",
    "results_df.columns = ['obs_exon_cnt', 'exp_exon_cnt','obs_intron_cnt', 'exp_intron_cnt', 'empirical_pvalue']\n",
    "results_df"
   ]
  },
  {
   "cell_type": "code",
   "execution_count": 45,
   "metadata": {},
   "outputs": [
    {
     "data": {
      "text/plain": [
       "0    3.382156\n",
       "dtype: float64"
      ]
     },
     "execution_count": 45,
     "metadata": {},
     "output_type": "execute_result"
    }
   ],
   "source": [
    "exonic_increase = (results_df[\"obs_exon_cnt\"]/results_df[\"exp_exon_cnt\"]-1)*100\n",
    "exonic_increase"
   ]
  },
  {
   "cell_type": "code",
   "execution_count": 46,
   "metadata": {},
   "outputs": [
    {
     "data": {
      "text/plain": [
       "(0    3.215567\n",
       " dtype: float64, 0    3.548745\n",
       " dtype: float64)"
      ]
     },
     "execution_count": 46,
     "metadata": {},
     "output_type": "execute_result"
    }
   ],
   "source": [
    "rand_output['increase'] = (exonic_obs/rand_output['exon_Exp']-1)*100\n",
    "error = (st.stdev(rand_output['increase'].tolist())/np.sqrt(1000))\n",
    "(exonic_increase-error, exonic_increase+error)"
   ]
  },
  {
   "cell_type": "markdown",
   "metadata": {},
   "source": [
    "### 3-mer context dependency, synonymous"
   ]
  },
  {
   "cell_type": "code",
   "execution_count": 47,
   "metadata": {},
   "outputs": [
    {
     "name": "stdout",
     "output_type": "stream",
     "text": [
      "The total amount of mutations at the middle exon-centered sequences is 5598\n",
      "The total amount of mutations at the exonic sequences are 494\n",
      "The category initiator_codon_variant is found 1 times.\n",
      "The category missense_variant is found 336 times.\n",
      "The category splice_region_variant is found 2 times.\n",
      "The category stop_gained is found 25 times.\n",
      "The category synonymous_variant is found 130 times.\n"
     ]
    }
   ],
   "source": [
    "k = 3\n",
    "middle_distance_threshold = 1000\n",
    "include = 'synonymous'\n",
    "signatures_file = 'results/' + str(k) + 'mer_signatures_DNM_golden.txt'\n",
    "\n",
    "exons_centered_results = obs_exp_muts_excluding_kmer(mutations_df, exons_coords_df, signatures_file, tumor_type, \n",
    "                            middle_distance_threshold, k, include, tb_consequence_type, consequence_rank_dict)\n",
    "\n",
    "exons_centered_results.to_csv('results/exons_centered_' + str(k) + 'mer_DNM_context_golden_' + str(include) + '.tsv', sep=\"\\t\", header=True, index=False)"
   ]
  },
  {
   "cell_type": "markdown",
   "metadata": {},
   "source": [
    "#### Significance through permutations"
   ]
  },
  {
   "cell_type": "code",
   "execution_count": 48,
   "metadata": {},
   "outputs": [
    {
     "name": "stdout",
     "output_type": "stream",
     "text": [
      "Total amount of mutations at the middle exon-centered sequences is 5598\n",
      "Observed at middle exons: 127\n",
      "Observed at flanking introns: 5113\n"
     ]
    }
   ],
   "source": [
    "k = 3\n",
    "middle_distance_threshold = 1000\n",
    "signatures_file = 'results/' + str(k) + 'mer_signatures_DNM_golden.txt'\n",
    "include = 'synonymous'\n",
    "\n",
    "(exons_centered_results, exonic_obs, intronic_obs) = stacked_sequence_level_permutation_excluding(mutations_df,\n",
    "                                    exons_coords_df, signatures_file, tumor_type, middle_distance_threshold,\n",
    "                                    k, include, tb_consequence_type, consequence_rank_dict)\n",
    "\n",
    "exons_centered_results = pd.DataFrame.transpose(exons_centered_results)\n",
    "exons_centered_results.to_csv(path.join('results', 'exons_centered_' + str(k) + 'mer_permut_' + include + '_golden.tsv'),\n",
    "                              sep=\"\\t\", header=True, index=False)"
   ]
  },
  {
   "cell_type": "code",
   "execution_count": 49,
   "metadata": {},
   "outputs": [
    {
     "data": {
      "text/html": [
       "<div>\n",
       "<style>\n",
       "    .dataframe thead tr:only-child th {\n",
       "        text-align: right;\n",
       "    }\n",
       "\n",
       "    .dataframe thead th {\n",
       "        text-align: left;\n",
       "    }\n",
       "\n",
       "    .dataframe tbody tr th {\n",
       "        vertical-align: top;\n",
       "    }\n",
       "</style>\n",
       "<table border=\"1\" class=\"dataframe\">\n",
       "  <thead>\n",
       "    <tr style=\"text-align: right;\">\n",
       "      <th></th>\n",
       "      <th>obs_exon_cnt</th>\n",
       "      <th>exp_exon_cnt</th>\n",
       "      <th>obs_intron_cnt</th>\n",
       "      <th>exp_intron_cnt</th>\n",
       "      <th>empirical_pvalue</th>\n",
       "    </tr>\n",
       "  </thead>\n",
       "  <tbody>\n",
       "    <tr>\n",
       "      <th>0</th>\n",
       "      <td>127</td>\n",
       "      <td>130.631</td>\n",
       "      <td>5113</td>\n",
       "      <td>5109.369</td>\n",
       "      <td>0.644</td>\n",
       "    </tr>\n",
       "  </tbody>\n",
       "</table>\n",
       "</div>"
      ],
      "text/plain": [
       "   obs_exon_cnt  exp_exon_cnt  obs_intron_cnt  exp_intron_cnt  \\\n",
       "0           127       130.631            5113        5109.369   \n",
       "\n",
       "   empirical_pvalue  \n",
       "0             0.644  "
      ]
     },
     "execution_count": 49,
     "metadata": {},
     "output_type": "execute_result"
    }
   ],
   "source": [
    "k = 3\n",
    "results = []\n",
    "RANDOMIZATION = 1000\n",
    "include = 'synonymous'\n",
    "    \n",
    "# Read the expected exon and intron mutation counts from permutations\n",
    "rand_output = pd.read_csv(path.join('results', 'exons_centered_' + str(k) + 'mer_permut_' + include + '_golden.tsv'), sep=\"\\t\")\n",
    "    \n",
    "# count the number of times the expected exon mutations is higher than the observed\n",
    "count = len(rand_output[rand_output['exon_Exp'] >= exonic_obs])\n",
    "    \n",
    "if count == 0:\n",
    "    count = 1 \n",
    "    \n",
    "results.append([exonic_obs, rand_output['exon_Exp'].mean(), intronic_obs, rand_output['intron_Exp'].mean(), count/RANDOMIZATION])\n",
    "    \n",
    "results_df = pd.DataFrame(results)\n",
    "results_df.columns = ['obs_exon_cnt', 'exp_exon_cnt','obs_intron_cnt', 'exp_intron_cnt', 'empirical_pvalue']\n",
    "results_df"
   ]
  },
  {
   "cell_type": "code",
   "execution_count": 50,
   "metadata": {},
   "outputs": [
    {
     "data": {
      "text/plain": [
       "0   -2.779585\n",
       "dtype: float64"
      ]
     },
     "execution_count": 50,
     "metadata": {},
     "output_type": "execute_result"
    }
   ],
   "source": [
    "exonic_increase = (results_df[\"obs_exon_cnt\"]/results_df[\"exp_exon_cnt\"]-1)*100\n",
    "exonic_increase"
   ]
  },
  {
   "cell_type": "code",
   "execution_count": 51,
   "metadata": {},
   "outputs": [
    {
     "data": {
      "text/plain": [
       "(0   -3.05383\n",
       " dtype: float64, 0   -2.50534\n",
       " dtype: float64)"
      ]
     },
     "execution_count": 51,
     "metadata": {},
     "output_type": "execute_result"
    }
   ],
   "source": [
    "rand_output['increase'] = (exonic_obs/rand_output['exon_Exp']-1)*100\n",
    "error = (st.stdev(rand_output['increase'].tolist())/np.sqrt(1000))\n",
    "(exonic_increase-error, exonic_increase+error)"
   ]
  },
  {
   "cell_type": "markdown",
   "metadata": {},
   "source": [
    "### 3-mer context dependency, non_synonymous"
   ]
  },
  {
   "cell_type": "code",
   "execution_count": 52,
   "metadata": {},
   "outputs": [
    {
     "name": "stdout",
     "output_type": "stream",
     "text": [
      "The total amount of mutations at the middle exon-centered sequences is 5598\n",
      "The total amount of mutations at the exonic sequences are 494\n",
      "The category initiator_codon_variant is found 1 times.\n",
      "The category missense_variant is found 336 times.\n",
      "The category splice_region_variant is found 2 times.\n",
      "The category stop_gained is found 25 times.\n",
      "The category synonymous_variant is found 130 times.\n"
     ]
    }
   ],
   "source": [
    "k = 3\n",
    "middle_distance_threshold = 1000\n",
    "include = 'non_synonymous'\n",
    "signatures_file = 'results/' + str(k) + 'mer_signatures_DNM_golden.txt'\n",
    "\n",
    "exons_centered_results = obs_exp_muts_excluding_kmer(mutations_df, exons_coords_df, signatures_file, tumor_type, \n",
    "                            middle_distance_threshold, k, include, tb_consequence_type, consequence_rank_dict)\n",
    "\n",
    "exons_centered_results.to_csv('results/exons_centered_' + str(k) + 'mer_DNM_context_golden_' + str(include) + '.tsv', sep=\"\\t\", header=True, index=False)"
   ]
  },
  {
   "cell_type": "markdown",
   "metadata": {},
   "source": [
    "#### Significance through permutations"
   ]
  },
  {
   "cell_type": "code",
   "execution_count": 53,
   "metadata": {},
   "outputs": [
    {
     "name": "stdout",
     "output_type": "stream",
     "text": [
      "Total amount of mutations at the middle exon-centered sequences is 5598\n",
      "Observed at middle exons: 358\n",
      "Observed at flanking introns: 5113\n"
     ]
    }
   ],
   "source": [
    "k = 3\n",
    "middle_distance_threshold = 1000\n",
    "signatures_file = 'results/' + str(k) + 'mer_signatures_DNM_golden.txt'\n",
    "include = 'non_synonymous'\n",
    "\n",
    "(exons_centered_results, exonic_obs, intronic_obs) = stacked_sequence_level_permutation_excluding(mutations_df,\n",
    "                                    exons_coords_df, signatures_file, tumor_type, middle_distance_threshold,\n",
    "                                    k, include, tb_consequence_type, consequence_rank_dict)\n",
    "\n",
    "exons_centered_results = pd.DataFrame.transpose(exons_centered_results)\n",
    "exons_centered_results.to_csv(path.join('results', 'exons_centered_' + str(k) + 'mer_permut_' + include + '_golden.tsv'),\n",
    "                              sep=\"\\t\", header=True, index=False)"
   ]
  },
  {
   "cell_type": "code",
   "execution_count": 54,
   "metadata": {},
   "outputs": [
    {
     "data": {
      "text/html": [
       "<div>\n",
       "<style>\n",
       "    .dataframe thead tr:only-child th {\n",
       "        text-align: right;\n",
       "    }\n",
       "\n",
       "    .dataframe thead th {\n",
       "        text-align: left;\n",
       "    }\n",
       "\n",
       "    .dataframe tbody tr th {\n",
       "        vertical-align: top;\n",
       "    }\n",
       "</style>\n",
       "<table border=\"1\" class=\"dataframe\">\n",
       "  <thead>\n",
       "    <tr style=\"text-align: right;\">\n",
       "      <th></th>\n",
       "      <th>obs_exon_cnt</th>\n",
       "      <th>exp_exon_cnt</th>\n",
       "      <th>obs_intron_cnt</th>\n",
       "      <th>exp_intron_cnt</th>\n",
       "      <th>empirical_pvalue</th>\n",
       "    </tr>\n",
       "  </thead>\n",
       "  <tbody>\n",
       "    <tr>\n",
       "      <th>0</th>\n",
       "      <td>358</td>\n",
       "      <td>343.417</td>\n",
       "      <td>5113</td>\n",
       "      <td>5127.583</td>\n",
       "      <td>0.201</td>\n",
       "    </tr>\n",
       "  </tbody>\n",
       "</table>\n",
       "</div>"
      ],
      "text/plain": [
       "   obs_exon_cnt  exp_exon_cnt  obs_intron_cnt  exp_intron_cnt  \\\n",
       "0           358       343.417            5113        5127.583   \n",
       "\n",
       "   empirical_pvalue  \n",
       "0             0.201  "
      ]
     },
     "execution_count": 54,
     "metadata": {},
     "output_type": "execute_result"
    }
   ],
   "source": [
    "k = 3\n",
    "results = []\n",
    "RANDOMIZATION = 1000\n",
    "include = 'non_synonymous'\n",
    "    \n",
    "# Read the expected exon and intron mutation counts from permutations\n",
    "rand_output = pd.read_csv(path.join('results', 'exons_centered_' + str(k) + 'mer_permut_' + include + '_golden.tsv'), sep=\"\\t\")\n",
    "    \n",
    "# count the number of times the expected exon mutations is higher than the observed\n",
    "count = len(rand_output[rand_output['exon_Exp'] >= exonic_obs])\n",
    "    \n",
    "if count == 0:\n",
    "    count = 1 \n",
    "    \n",
    "results.append([exonic_obs, rand_output['exon_Exp'].mean(), intronic_obs, rand_output['intron_Exp'].mean(), count/RANDOMIZATION])\n",
    "    \n",
    "results_df = pd.DataFrame(results)\n",
    "results_df.columns = ['obs_exon_cnt', 'exp_exon_cnt','obs_intron_cnt', 'exp_intron_cnt', 'empirical_pvalue']\n",
    "results_df"
   ]
  },
  {
   "cell_type": "code",
   "execution_count": 55,
   "metadata": {},
   "outputs": [
    {
     "data": {
      "text/plain": [
       "0    4.246441\n",
       "dtype: float64"
      ]
     },
     "execution_count": 55,
     "metadata": {},
     "output_type": "execute_result"
    }
   ],
   "source": [
    "exonic_increase = (results_df[\"obs_exon_cnt\"]/results_df[\"exp_exon_cnt\"]-1)*100\n",
    "exonic_increase"
   ]
  },
  {
   "cell_type": "code",
   "execution_count": 56,
   "metadata": {},
   "outputs": [
    {
     "data": {
      "text/plain": [
       "(0    4.080358\n",
       " dtype: float64, 0    4.412524\n",
       " dtype: float64)"
      ]
     },
     "execution_count": 56,
     "metadata": {},
     "output_type": "execute_result"
    }
   ],
   "source": [
    "rand_output['increase'] = (exonic_obs/rand_output['exon_Exp']-1)*100\n",
    "error = (st.stdev(rand_output['increase'].tolist())/np.sqrt(1000))\n",
    "(exonic_increase-error, exonic_increase+error)"
   ]
  },
  {
   "cell_type": "markdown",
   "metadata": {},
   "source": [
    "### 5-mer context dependency, synonymous"
   ]
  },
  {
   "cell_type": "code",
   "execution_count": 57,
   "metadata": {},
   "outputs": [
    {
     "name": "stdout",
     "output_type": "stream",
     "text": [
      "The total amount of mutations at the middle exon-centered sequences is 5598\n",
      "The total amount of mutations at the exonic sequences are 494\n",
      "The category initiator_codon_variant is found 1 times.\n",
      "The category missense_variant is found 336 times.\n",
      "The category splice_region_variant is found 2 times.\n",
      "The category stop_gained is found 25 times.\n",
      "The category synonymous_variant is found 130 times.\n"
     ]
    }
   ],
   "source": [
    "k = 5\n",
    "middle_distance_threshold = 1000\n",
    "include = 'synonymous'\n",
    "signatures_file = 'results/' + str(k) + 'mer_DNM_signatures_decomp_golden.txt'\n",
    "\n",
    "exons_centered_results = obs_exp_muts_excluding_kmer(mutations_df, exons_coords_df, signatures_file, tumor_type, \n",
    "                            middle_distance_threshold, k, include, tb_consequence_type, consequence_rank_dict)\n",
    "\n",
    "exons_centered_results.to_csv('results/exons_centered_' + str(k) + 'mer_DNM_context_golden_' + str(include) + '.tsv', sep=\"\\t\", header=True, index=False)"
   ]
  },
  {
   "cell_type": "markdown",
   "metadata": {},
   "source": [
    "#### Significance through permutations"
   ]
  },
  {
   "cell_type": "code",
   "execution_count": 58,
   "metadata": {},
   "outputs": [
    {
     "name": "stdout",
     "output_type": "stream",
     "text": [
      "Total amount of mutations at the middle exon-centered sequences is 5598\n",
      "Observed at middle exons: 127\n",
      "Observed at flanking introns: 5113\n"
     ]
    }
   ],
   "source": [
    "k = 5\n",
    "middle_distance_threshold = 1000\n",
    "signatures_file = 'results/' + str(k) + 'mer_DNM_signatures_decomp_golden.txt'\n",
    "include = 'synonymous'\n",
    "\n",
    "(exons_centered_results, exonic_obs, intronic_obs) = stacked_sequence_level_permutation_excluding(mutations_df,\n",
    "                                    exons_coords_df, signatures_file, tumor_type, middle_distance_threshold,\n",
    "                                    k, include, tb_consequence_type, consequence_rank_dict)\n",
    "\n",
    "exons_centered_results = pd.DataFrame.transpose(exons_centered_results)\n",
    "exons_centered_results.to_csv(path.join('results', 'exons_centered_' + str(k) + 'mer_permut_' + include + '_golden.tsv'),\n",
    "                              sep=\"\\t\", header=True, index=False)"
   ]
  },
  {
   "cell_type": "code",
   "execution_count": 59,
   "metadata": {},
   "outputs": [
    {
     "data": {
      "text/html": [
       "<div>\n",
       "<style>\n",
       "    .dataframe thead tr:only-child th {\n",
       "        text-align: right;\n",
       "    }\n",
       "\n",
       "    .dataframe thead th {\n",
       "        text-align: left;\n",
       "    }\n",
       "\n",
       "    .dataframe tbody tr th {\n",
       "        vertical-align: top;\n",
       "    }\n",
       "</style>\n",
       "<table border=\"1\" class=\"dataframe\">\n",
       "  <thead>\n",
       "    <tr style=\"text-align: right;\">\n",
       "      <th></th>\n",
       "      <th>obs_exon_cnt</th>\n",
       "      <th>exp_exon_cnt</th>\n",
       "      <th>obs_intron_cnt</th>\n",
       "      <th>exp_intron_cnt</th>\n",
       "      <th>empirical_pvalue</th>\n",
       "    </tr>\n",
       "  </thead>\n",
       "  <tbody>\n",
       "    <tr>\n",
       "      <th>0</th>\n",
       "      <td>127</td>\n",
       "      <td>129.603</td>\n",
       "      <td>5113</td>\n",
       "      <td>5110.397</td>\n",
       "      <td>0.595</td>\n",
       "    </tr>\n",
       "  </tbody>\n",
       "</table>\n",
       "</div>"
      ],
      "text/plain": [
       "   obs_exon_cnt  exp_exon_cnt  obs_intron_cnt  exp_intron_cnt  \\\n",
       "0           127       129.603            5113        5110.397   \n",
       "\n",
       "   empirical_pvalue  \n",
       "0             0.595  "
      ]
     },
     "execution_count": 59,
     "metadata": {},
     "output_type": "execute_result"
    }
   ],
   "source": [
    "k = 5\n",
    "results = []\n",
    "RANDOMIZATION = 1000\n",
    "include = 'synonymous'\n",
    "    \n",
    "# Read the expected exon and intron mutation counts from permutations\n",
    "rand_output = pd.read_csv(path.join('results', 'exons_centered_' + str(k) + 'mer_permut_' + include + '_golden.tsv'), sep=\"\\t\")\n",
    "    \n",
    "# count the number of times the expected exon mutations is higher than the observed\n",
    "count = len(rand_output[rand_output['exon_Exp'] >= exonic_obs])\n",
    "    \n",
    "if count == 0:\n",
    "    count = 1 \n",
    "    \n",
    "results.append([exonic_obs, rand_output['exon_Exp'].mean(), intronic_obs, rand_output['intron_Exp'].mean(), count/RANDOMIZATION])\n",
    "    \n",
    "results_df = pd.DataFrame(results)\n",
    "results_df.columns = ['obs_exon_cnt', 'exp_exon_cnt','obs_intron_cnt', 'exp_intron_cnt', 'empirical_pvalue']\n",
    "results_df"
   ]
  },
  {
   "cell_type": "code",
   "execution_count": 60,
   "metadata": {},
   "outputs": [
    {
     "data": {
      "text/plain": [
       "0   -2.008441\n",
       "dtype: float64"
      ]
     },
     "execution_count": 60,
     "metadata": {},
     "output_type": "execute_result"
    }
   ],
   "source": [
    "exonic_increase = (results_df[\"obs_exon_cnt\"]/results_df[\"exp_exon_cnt\"]-1)*100\n",
    "exonic_increase"
   ]
  },
  {
   "cell_type": "code",
   "execution_count": 61,
   "metadata": {},
   "outputs": [
    {
     "data": {
      "text/plain": [
       "(0   -2.276826\n",
       " dtype: float64, 0   -1.740057\n",
       " dtype: float64)"
      ]
     },
     "execution_count": 61,
     "metadata": {},
     "output_type": "execute_result"
    }
   ],
   "source": [
    "rand_output['increase'] = (exonic_obs/rand_output['exon_Exp']-1)*100\n",
    "error = (st.stdev(rand_output['increase'].tolist())/np.sqrt(1000))\n",
    "(exonic_increase-error, exonic_increase+error)"
   ]
  },
  {
   "cell_type": "markdown",
   "metadata": {},
   "source": [
    "### 5-mer context dependency, non_synonymous"
   ]
  },
  {
   "cell_type": "code",
   "execution_count": 62,
   "metadata": {},
   "outputs": [
    {
     "name": "stdout",
     "output_type": "stream",
     "text": [
      "The total amount of mutations at the middle exon-centered sequences is 5598\n",
      "The total amount of mutations at the exonic sequences are 494\n",
      "The category initiator_codon_variant is found 1 times.\n",
      "The category missense_variant is found 336 times.\n",
      "The category splice_region_variant is found 2 times.\n",
      "The category stop_gained is found 25 times.\n",
      "The category synonymous_variant is found 130 times.\n"
     ]
    }
   ],
   "source": [
    "k = 5\n",
    "middle_distance_threshold = 1000\n",
    "include = 'non_synonymous'\n",
    "signatures_file = 'results/' + str(k) + 'mer_DNM_signatures_decomp_golden.txt'\n",
    "\n",
    "exons_centered_results = obs_exp_muts_excluding_kmer(mutations_df, exons_coords_df, signatures_file, tumor_type, \n",
    "                            middle_distance_threshold, k, include, tb_consequence_type, consequence_rank_dict)\n",
    "\n",
    "exons_centered_results.to_csv('results/exons_centered_' + str(k) + 'mer_DNM_context_golden_' + str(include) + '.tsv', sep=\"\\t\", header=True, index=False)"
   ]
  },
  {
   "cell_type": "markdown",
   "metadata": {},
   "source": [
    "#### Significance through permutations"
   ]
  },
  {
   "cell_type": "code",
   "execution_count": 63,
   "metadata": {},
   "outputs": [
    {
     "name": "stdout",
     "output_type": "stream",
     "text": [
      "Total amount of mutations at the middle exon-centered sequences is 5598\n",
      "Observed at middle exons: 358\n",
      "Observed at flanking introns: 5113\n"
     ]
    }
   ],
   "source": [
    "k = 5\n",
    "middle_distance_threshold = 1000\n",
    "signatures_file = 'results/' + str(k) + 'mer_DNM_signatures_decomp_golden.txt'\n",
    "include = 'non_synonymous'\n",
    "\n",
    "(exons_centered_results, exonic_obs, intronic_obs) = stacked_sequence_level_permutation_excluding(mutations_df,\n",
    "                                    exons_coords_df, signatures_file, tumor_type, middle_distance_threshold,\n",
    "                                    k, include, tb_consequence_type, consequence_rank_dict)\n",
    "\n",
    "exons_centered_results = pd.DataFrame.transpose(exons_centered_results)\n",
    "exons_centered_results.to_csv(path.join('results', 'exons_centered_' + str(k) + 'mer_permut_' + include + '_golden.tsv'),\n",
    "                              sep=\"\\t\", header=True, index=False)"
   ]
  },
  {
   "cell_type": "code",
   "execution_count": 64,
   "metadata": {},
   "outputs": [
    {
     "data": {
      "text/html": [
       "<div>\n",
       "<style>\n",
       "    .dataframe thead tr:only-child th {\n",
       "        text-align: right;\n",
       "    }\n",
       "\n",
       "    .dataframe thead th {\n",
       "        text-align: left;\n",
       "    }\n",
       "\n",
       "    .dataframe tbody tr th {\n",
       "        vertical-align: top;\n",
       "    }\n",
       "</style>\n",
       "<table border=\"1\" class=\"dataframe\">\n",
       "  <thead>\n",
       "    <tr style=\"text-align: right;\">\n",
       "      <th></th>\n",
       "      <th>obs_exon_cnt</th>\n",
       "      <th>exp_exon_cnt</th>\n",
       "      <th>obs_intron_cnt</th>\n",
       "      <th>exp_intron_cnt</th>\n",
       "      <th>empirical_pvalue</th>\n",
       "    </tr>\n",
       "  </thead>\n",
       "  <tbody>\n",
       "    <tr>\n",
       "      <th>0</th>\n",
       "      <td>358</td>\n",
       "      <td>342.903</td>\n",
       "      <td>5113</td>\n",
       "      <td>5128.097</td>\n",
       "      <td>0.193</td>\n",
       "    </tr>\n",
       "  </tbody>\n",
       "</table>\n",
       "</div>"
      ],
      "text/plain": [
       "   obs_exon_cnt  exp_exon_cnt  obs_intron_cnt  exp_intron_cnt  \\\n",
       "0           358       342.903            5113        5128.097   \n",
       "\n",
       "   empirical_pvalue  \n",
       "0             0.193  "
      ]
     },
     "execution_count": 64,
     "metadata": {},
     "output_type": "execute_result"
    }
   ],
   "source": [
    "k = 5\n",
    "results = []\n",
    "RANDOMIZATION = 1000\n",
    "include = 'non_synonymous'\n",
    "    \n",
    "# Read the expected exon and intron mutation counts from permutations\n",
    "rand_output = pd.read_csv(path.join('results', 'exons_centered_' + str(k) + 'mer_permut_' + include + '_golden.tsv'), sep=\"\\t\")\n",
    "    \n",
    "# count the number of times the expected exon mutations is higher than the observed\n",
    "count = len(rand_output[rand_output['exon_Exp'] >= exonic_obs])\n",
    "    \n",
    "if count == 0:\n",
    "    count = 1 \n",
    "    \n",
    "results.append([exonic_obs, rand_output['exon_Exp'].mean(), intronic_obs, rand_output['intron_Exp'].mean(), count/RANDOMIZATION])\n",
    "    \n",
    "results_df = pd.DataFrame(results)\n",
    "results_df.columns = ['obs_exon_cnt', 'exp_exon_cnt','obs_intron_cnt', 'exp_intron_cnt', 'empirical_pvalue']\n",
    "results_df"
   ]
  },
  {
   "cell_type": "code",
   "execution_count": 65,
   "metadata": {},
   "outputs": [
    {
     "data": {
      "text/plain": [
       "0    4.402703\n",
       "dtype: float64"
      ]
     },
     "execution_count": 65,
     "metadata": {},
     "output_type": "execute_result"
    }
   ],
   "source": [
    "exonic_increase = (results_df[\"obs_exon_cnt\"]/results_df[\"exp_exon_cnt\"]-1)*100\n",
    "exonic_increase"
   ]
  },
  {
   "cell_type": "code",
   "execution_count": 66,
   "metadata": {},
   "outputs": [
    {
     "data": {
      "text/plain": [
       "(0    4.233248\n",
       " dtype: float64, 0    4.572158\n",
       " dtype: float64)"
      ]
     },
     "execution_count": 66,
     "metadata": {},
     "output_type": "execute_result"
    }
   ],
   "source": [
    "rand_output['increase'] = (exonic_obs/rand_output['exon_Exp']-1)*100\n",
    "error = (st.stdev(rand_output['increase'].tolist())/np.sqrt(1000))\n",
    "(exonic_increase-error, exonic_increase+error)"
   ]
  },
  {
   "cell_type": "markdown",
   "metadata": {},
   "source": [
    "### 7-mer context dependency, synonymous"
   ]
  },
  {
   "cell_type": "code",
   "execution_count": 67,
   "metadata": {},
   "outputs": [
    {
     "name": "stdout",
     "output_type": "stream",
     "text": [
      "The total amount of mutations at the middle exon-centered sequences is 5598\n",
      "The total amount of mutations at the exonic sequences are 494\n",
      "The category initiator_codon_variant is found 1 times.\n",
      "The category missense_variant is found 336 times.\n",
      "The category splice_region_variant is found 2 times.\n",
      "The category stop_gained is found 25 times.\n",
      "The category synonymous_variant is found 130 times.\n"
     ]
    }
   ],
   "source": [
    "k = 7\n",
    "middle_distance_threshold = 1000\n",
    "include = 'synonymous'\n",
    "signatures_file = 'results/' + str(k) + 'mer_DNM_signatures_decomp_golden.txt'\n",
    "\n",
    "exons_centered_results = obs_exp_muts_excluding_kmer(mutations_df, exons_coords_df, signatures_file, tumor_type, \n",
    "                            middle_distance_threshold, k, include, tb_consequence_type, consequence_rank_dict)\n",
    "\n",
    "exons_centered_results.to_csv('results/exons_centered_' + str(k) + 'mer_DNM_context_golden_' + str(include) + '.tsv', sep=\"\\t\", header=True, index=False)"
   ]
  },
  {
   "cell_type": "markdown",
   "metadata": {},
   "source": [
    "#### Significance through permutations"
   ]
  },
  {
   "cell_type": "code",
   "execution_count": 68,
   "metadata": {},
   "outputs": [
    {
     "name": "stdout",
     "output_type": "stream",
     "text": [
      "Total amount of mutations at the middle exon-centered sequences is 5598\n",
      "Observed at middle exons: 127\n",
      "Observed at flanking introns: 5113\n"
     ]
    }
   ],
   "source": [
    "k = 7\n",
    "middle_distance_threshold = 1000\n",
    "signatures_file = 'results/' + str(k) + 'mer_DNM_signatures_decomp_golden.txt'\n",
    "include = 'synonymous'\n",
    "\n",
    "(exons_centered_results, exonic_obs, intronic_obs) = stacked_sequence_level_permutation_excluding(mutations_df,\n",
    "                                    exons_coords_df, signatures_file, tumor_type, middle_distance_threshold,\n",
    "                                    k, include, tb_consequence_type, consequence_rank_dict)\n",
    "\n",
    "exons_centered_results = pd.DataFrame.transpose(exons_centered_results)\n",
    "exons_centered_results.to_csv(path.join('results', 'exons_centered_' + str(k) + 'mer_permut_' + include + '_golden.tsv'),\n",
    "                              sep=\"\\t\", header=True, index=False)"
   ]
  },
  {
   "cell_type": "code",
   "execution_count": 69,
   "metadata": {},
   "outputs": [
    {
     "data": {
      "text/html": [
       "<div>\n",
       "<style>\n",
       "    .dataframe thead tr:only-child th {\n",
       "        text-align: right;\n",
       "    }\n",
       "\n",
       "    .dataframe thead th {\n",
       "        text-align: left;\n",
       "    }\n",
       "\n",
       "    .dataframe tbody tr th {\n",
       "        vertical-align: top;\n",
       "    }\n",
       "</style>\n",
       "<table border=\"1\" class=\"dataframe\">\n",
       "  <thead>\n",
       "    <tr style=\"text-align: right;\">\n",
       "      <th></th>\n",
       "      <th>obs_exon_cnt</th>\n",
       "      <th>exp_exon_cnt</th>\n",
       "      <th>obs_intron_cnt</th>\n",
       "      <th>exp_intron_cnt</th>\n",
       "      <th>empirical_pvalue</th>\n",
       "    </tr>\n",
       "  </thead>\n",
       "  <tbody>\n",
       "    <tr>\n",
       "      <th>0</th>\n",
       "      <td>127</td>\n",
       "      <td>126.673</td>\n",
       "      <td>5113</td>\n",
       "      <td>5113.327</td>\n",
       "      <td>0.5</td>\n",
       "    </tr>\n",
       "  </tbody>\n",
       "</table>\n",
       "</div>"
      ],
      "text/plain": [
       "   obs_exon_cnt  exp_exon_cnt  obs_intron_cnt  exp_intron_cnt  \\\n",
       "0           127       126.673            5113        5113.327   \n",
       "\n",
       "   empirical_pvalue  \n",
       "0               0.5  "
      ]
     },
     "execution_count": 69,
     "metadata": {},
     "output_type": "execute_result"
    }
   ],
   "source": [
    "k = 7\n",
    "results = []\n",
    "RANDOMIZATION = 1000\n",
    "include = 'synonymous'\n",
    "    \n",
    "# Read the expected exon and intron mutation counts from permutations\n",
    "rand_output = pd.read_csv(path.join('results', 'exons_centered_' + str(k) + 'mer_permut_' + include + '_golden.tsv'), sep=\"\\t\")\n",
    "    \n",
    "# count the number of times the expected exon mutations is higher than the observed\n",
    "count = len(rand_output[rand_output['exon_Exp'] >= exonic_obs])\n",
    "    \n",
    "if count == 0:\n",
    "    count = 1 \n",
    "    \n",
    "results.append([exonic_obs, rand_output['exon_Exp'].mean(), intronic_obs, rand_output['intron_Exp'].mean(), count/RANDOMIZATION])\n",
    "    \n",
    "results_df = pd.DataFrame(results)\n",
    "results_df.columns = ['obs_exon_cnt', 'exp_exon_cnt','obs_intron_cnt', 'exp_intron_cnt', 'empirical_pvalue']\n",
    "results_df"
   ]
  },
  {
   "cell_type": "code",
   "execution_count": 70,
   "metadata": {},
   "outputs": [
    {
     "data": {
      "text/plain": [
       "0    0.258145\n",
       "dtype: float64"
      ]
     },
     "execution_count": 70,
     "metadata": {},
     "output_type": "execute_result"
    }
   ],
   "source": [
    "exonic_increase = (results_df[\"obs_exon_cnt\"]/results_df[\"exp_exon_cnt\"]-1)*100\n",
    "exonic_increase"
   ]
  },
  {
   "cell_type": "code",
   "execution_count": 71,
   "metadata": {},
   "outputs": [
    {
     "data": {
      "text/plain": [
       "(0   -0.018615\n",
       " dtype: float64, 0    0.534905\n",
       " dtype: float64)"
      ]
     },
     "execution_count": 71,
     "metadata": {},
     "output_type": "execute_result"
    }
   ],
   "source": [
    "rand_output['increase'] = (exonic_obs/rand_output['exon_Exp']-1)*100\n",
    "error = (st.stdev(rand_output['increase'].tolist())/np.sqrt(1000))\n",
    "(exonic_increase-error, exonic_increase+error)"
   ]
  },
  {
   "cell_type": "markdown",
   "metadata": {},
   "source": [
    "### 7-mer context dependency, non_synonymous"
   ]
  },
  {
   "cell_type": "code",
   "execution_count": 72,
   "metadata": {},
   "outputs": [
    {
     "name": "stdout",
     "output_type": "stream",
     "text": [
      "The total amount of mutations at the middle exon-centered sequences is 5598\n",
      "The total amount of mutations at the exonic sequences are 494\n",
      "The category initiator_codon_variant is found 1 times.\n",
      "The category missense_variant is found 336 times.\n",
      "The category splice_region_variant is found 2 times.\n",
      "The category stop_gained is found 25 times.\n",
      "The category synonymous_variant is found 130 times.\n"
     ]
    }
   ],
   "source": [
    "k = 7\n",
    "middle_distance_threshold = 1000\n",
    "include = 'non_synonymous'\n",
    "signatures_file = 'results/' + str(k) + 'mer_DNM_signatures_decomp_golden.txt'\n",
    "\n",
    "exons_centered_results = obs_exp_muts_excluding_kmer(mutations_df, exons_coords_df, signatures_file, tumor_type, \n",
    "                            middle_distance_threshold, k, include, tb_consequence_type, consequence_rank_dict)\n",
    "\n",
    "exons_centered_results.to_csv('results/exons_centered_' + str(k) + 'mer_DNM_context_golden_' + str(include) + '.tsv', sep=\"\\t\", header=True, index=False)"
   ]
  },
  {
   "cell_type": "markdown",
   "metadata": {},
   "source": [
    "#### Significance through permutations"
   ]
  },
  {
   "cell_type": "code",
   "execution_count": 73,
   "metadata": {},
   "outputs": [
    {
     "name": "stdout",
     "output_type": "stream",
     "text": [
      "Total amount of mutations at the middle exon-centered sequences is 5598\n",
      "Observed at middle exons: 358\n",
      "Observed at flanking introns: 5113\n"
     ]
    }
   ],
   "source": [
    "k = 7\n",
    "middle_distance_threshold = 1000\n",
    "signatures_file = 'results/' + str(k) + 'mer_DNM_signatures_decomp_golden.txt'\n",
    "include = 'non_synonymous'\n",
    "\n",
    "(exons_centered_results, exonic_obs, intronic_obs) = stacked_sequence_level_permutation_excluding(mutations_df,\n",
    "                                    exons_coords_df, signatures_file, tumor_type, middle_distance_threshold,\n",
    "                                    k, include, tb_consequence_type, consequence_rank_dict)\n",
    "\n",
    "exons_centered_results = pd.DataFrame.transpose(exons_centered_results)\n",
    "exons_centered_results.to_csv(path.join('results', 'exons_centered_' + str(k) + 'mer_permut_' + include + '_golden.tsv'),\n",
    "                              sep=\"\\t\", header=True, index=False)"
   ]
  },
  {
   "cell_type": "code",
   "execution_count": 74,
   "metadata": {},
   "outputs": [
    {
     "data": {
      "text/html": [
       "<div>\n",
       "<style>\n",
       "    .dataframe thead tr:only-child th {\n",
       "        text-align: right;\n",
       "    }\n",
       "\n",
       "    .dataframe thead th {\n",
       "        text-align: left;\n",
       "    }\n",
       "\n",
       "    .dataframe tbody tr th {\n",
       "        vertical-align: top;\n",
       "    }\n",
       "</style>\n",
       "<table border=\"1\" class=\"dataframe\">\n",
       "  <thead>\n",
       "    <tr style=\"text-align: right;\">\n",
       "      <th></th>\n",
       "      <th>obs_exon_cnt</th>\n",
       "      <th>exp_exon_cnt</th>\n",
       "      <th>obs_intron_cnt</th>\n",
       "      <th>exp_intron_cnt</th>\n",
       "      <th>empirical_pvalue</th>\n",
       "    </tr>\n",
       "  </thead>\n",
       "  <tbody>\n",
       "    <tr>\n",
       "      <th>0</th>\n",
       "      <td>358</td>\n",
       "      <td>345.76</td>\n",
       "      <td>5113</td>\n",
       "      <td>5125.24</td>\n",
       "      <td>0.248</td>\n",
       "    </tr>\n",
       "  </tbody>\n",
       "</table>\n",
       "</div>"
      ],
      "text/plain": [
       "   obs_exon_cnt  exp_exon_cnt  obs_intron_cnt  exp_intron_cnt  \\\n",
       "0           358        345.76            5113         5125.24   \n",
       "\n",
       "   empirical_pvalue  \n",
       "0             0.248  "
      ]
     },
     "execution_count": 74,
     "metadata": {},
     "output_type": "execute_result"
    }
   ],
   "source": [
    "k = 7\n",
    "results = []\n",
    "RANDOMIZATION = 1000\n",
    "include = 'non_synonymous'\n",
    "    \n",
    "# Read the expected exon and intron mutation counts from permutations\n",
    "rand_output = pd.read_csv(path.join('results', 'exons_centered_' + str(k) + 'mer_permut_' + include + '_golden.tsv'), sep=\"\\t\")\n",
    "    \n",
    "# count the number of times the expected exon mutations is higher than the observed\n",
    "count = len(rand_output[rand_output['exon_Exp'] >= exonic_obs])\n",
    "    \n",
    "if count == 0:\n",
    "    count = 1 \n",
    "    \n",
    "results.append([exonic_obs, rand_output['exon_Exp'].mean(), intronic_obs, rand_output['intron_Exp'].mean(), count/RANDOMIZATION])\n",
    "    \n",
    "results_df = pd.DataFrame(results)\n",
    "results_df.columns = ['obs_exon_cnt', 'exp_exon_cnt','obs_intron_cnt', 'exp_intron_cnt', 'empirical_pvalue']\n",
    "results_df"
   ]
  },
  {
   "cell_type": "code",
   "execution_count": 75,
   "metadata": {},
   "outputs": [
    {
     "data": {
      "text/plain": [
       "0    3.540028\n",
       "dtype: float64"
      ]
     },
     "execution_count": 75,
     "metadata": {},
     "output_type": "execute_result"
    }
   ],
   "source": [
    "exonic_increase = (results_df[\"obs_exon_cnt\"]/results_df[\"exp_exon_cnt\"]-1)*100\n",
    "exonic_increase"
   ]
  },
  {
   "cell_type": "code",
   "execution_count": 76,
   "metadata": {},
   "outputs": [
    {
     "data": {
      "text/plain": [
       "(0    3.370396\n",
       " dtype: float64, 0    3.70966\n",
       " dtype: float64)"
      ]
     },
     "execution_count": 76,
     "metadata": {},
     "output_type": "execute_result"
    }
   ],
   "source": [
    "rand_output['increase'] = (exonic_obs/rand_output['exon_Exp']-1)*100\n",
    "error = (st.stdev(rand_output['increase'].tolist())/np.sqrt(1000))\n",
    "(exonic_increase-error, exonic_increase+error)"
   ]
  },
  {
   "cell_type": "code",
   "execution_count": null,
   "metadata": {
    "collapsed": true
   },
   "outputs": [],
   "source": []
  }
 ],
 "metadata": {
  "kernelspec": {
   "display_name": "Python 3",
   "language": "python",
   "name": "python3"
  },
  "language_info": {
   "codemirror_mode": {
    "name": "ipython",
    "version": 3
   },
   "file_extension": ".py",
   "mimetype": "text/x-python",
   "name": "python",
   "nbconvert_exporter": "python",
   "pygments_lexer": "ipython3",
   "version": "3.6.1"
  }
 },
 "nbformat": 4,
 "nbformat_minor": 2
}
