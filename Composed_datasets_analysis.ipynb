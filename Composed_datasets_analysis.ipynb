{
 "cells": [
  {
   "cell_type": "markdown",
   "metadata": {},
   "source": [
    "# Composed datasets analysis analysis"
   ]
  },
  {
   "cell_type": "markdown",
   "metadata": {},
   "source": [
    "The aim of this notebook is resample mutations to generate new whole genome datasets of mutations:\n",
    "\n",
    "* A dataset that is expected to represent human populations.\n",
    "* A dataset consisting in mutations from bona-fide healthy individuals.\n",
    "* A dataset consisting in mutations from ASD probands.\n",
    "\n",
    "Mutations are resampled from datasets with known condition of the proband, which is mainly ASD or healthy. Given a ASD prevalence in humans of 1.7%, we create a random sample of 100,000 whole-genome DNM taking 98,300 mutations classified as healthy and 1,700 classified as ASD. "
   ]
  },
  {
   "cell_type": "code",
   "execution_count": 18,
   "metadata": {
    "ExecuteTime": {
     "end_time": "2017-09-26T14:29:27.246169",
     "start_time": "2017-09-26T14:29:26.265102"
    },
    "collapsed": true
   },
   "outputs": [],
   "source": [
    "%matplotlib inline\n",
    "\n",
    "from os import path\n",
    "import pandas as pd\n",
    "import numpy as np\n",
    "from bgreference import hg19\n",
    "import math\n",
    "import pybedtools\n",
    "import matplotlib.pyplot as plt\n",
    "import numpy.polynomial.polynomial as poly\n",
    "import matplotlib.ticker as plticker\n",
    "import gzip, pickle\n",
    "import statistics as st\n",
    "\n",
    "from python_scripts.plot_functions import config_plot_params\n",
    "config_plot_params()"
   ]
  },
  {
   "cell_type": "markdown",
   "metadata": {},
   "source": [
    "## Input files\n",
    "\n",
    "Files in **data** directory.\n",
    "\n",
    "- *middle_exons_coords*: file with the coordinates of the middle exons.\n",
    "- *kmer_freq_file*: file that contains the counts of k-mers, which will be used for normalization computing signatures.\n",
    "\n",
    "Files in **results** directory.\n",
    "\n",
    "- *kmer_signatures_sample.txt*: file with the mutational signatures computed directly from *de novo* mutations (DNM). ** Computed in this notebook**\n",
    "\n",
    "### Other inputs\n",
    "\n",
    "- mutations_folder: base directory where the files with the mutations are located\n",
    "- tumor_type: id of the tumor (germinal in our case)"
   ]
  },
  {
   "cell_type": "code",
   "execution_count": 4,
   "metadata": {
    "ExecuteTime": {
     "end_time": "2017-09-26T14:29:41.008685",
     "start_time": "2017-09-26T14:29:41.001039"
    },
    "collapsed": true
   },
   "outputs": [],
   "source": [
    "# Coordinates files\n",
    "middle_exons_coords = 'data/coordinates/genes_middle_exon_coords.bed.gz'\n",
    "\n",
    "### Other inputs\n",
    "mutations_folder = 'non_provided_data/mutations/'\n",
    "tumor_type = 'germinal'"
   ]
  },
  {
   "cell_type": "markdown",
   "metadata": {
    "collapsed": true
   },
   "source": [
    "## Functions\n",
    "\n",
    "All the functions needed for this notebook are coded below"
   ]
  },
  {
   "cell_type": "code",
   "execution_count": 5,
   "metadata": {
    "collapsed": true
   },
   "outputs": [],
   "source": [
    "def remove_version_ensembl(x, colname):\n",
    "    \"\"\"\n",
    "    Remove version from the ensembl ID\n",
    "\n",
    "    Args:\n",
    "        x: dataframe row\n",
    "        colname: column name\n",
    "\n",
    "    Returns:\n",
    "        str. Text before a '.'\n",
    "\n",
    "    \"\"\"\n",
    "    ensembl_id = x[colname]\n",
    "    ensembl_id_only = ensembl_id.split('.')[0]\n",
    "\n",
    "    return ensembl_id_only"
   ]
  },
  {
   "cell_type": "code",
   "execution_count": 6,
   "metadata": {
    "collapsed": true
   },
   "outputs": [],
   "source": [
    "def create_kmer_dict(k):\n",
    "    \"\"\"\n",
    "    Construct a dictionary where the values are the combinations\n",
    "    \"\"\"\n",
    "    \n",
    "    characters = 'ACGT'\n",
    "    nucleotides = ['A', 'C', 'T', 'G']\n",
    "    from itertools import product   \n",
    "    kmers = sorted([''.join(x) for x in product(characters, repeat=k)])\n",
    "    kmers_dict = dict()\n",
    "\n",
    "    for my_kmer in kmers:\n",
    "        mid_nucl = my_kmer[(k//2):(k//2)+1]\n",
    "\n",
    "        for my_nucleotide in nucleotides:\n",
    "            if my_nucleotide != mid_nucl:\n",
    "                my_alt_kmer = my_kmer[0:(k//2)] + my_nucleotide + my_kmer[(k//2)+1:]\n",
    "\n",
    "                kmers_dict[(my_kmer, my_alt_kmer)] = 0\n",
    "                \n",
    "    return kmers_dict"
   ]
  },
  {
   "cell_type": "code",
   "execution_count": 7,
   "metadata": {
    "collapsed": true
   },
   "outputs": [],
   "source": [
    "def compute_kmer_alt(x,k):\n",
    "    \"\"\"\n",
    "    Compute the alternate kmer sequence from a DataFrame row or a dict \n",
    "    with the reference kmer and the alternated nucleotide\n",
    "    \"\"\"\n",
    "    my_alt = x['alt']\n",
    "    my_kmer = x['ref_kmer']\n",
    "\n",
    "    my_alt_kmer = my_kmer[0:(k//2)] + my_alt + my_kmer[(k//2)+1:]\n",
    "    \n",
    "    return my_alt_kmer"
   ]
  },
  {
   "cell_type": "code",
   "execution_count": 8,
   "metadata": {
    "collapsed": true
   },
   "outputs": [],
   "source": [
    "def signature(k, mutation_df, count_file, sampleID):\n",
    "    \n",
    "    my_probs_df = pd.DataFrame()\n",
    "    my_probs_df['mutation'] = list(create_kmer_dict(k).keys())\n",
    "    \n",
    "    ## Trinucleotide counts\n",
    "    k_freq_df = pd.read_csv(count_file, sep='\\t', header=None, low_memory=False)\n",
    "    k_freq_df.columns = ['kmer', 'count']\n",
    "    ## Compute the kmer changes (XYX -> XZX) of each alteration\n",
    "    mutation_df['ref_kmer'] = mutation_df.apply(lambda x: hg19(x['chr'], x['start']+1-(k//2),1+2*(k//2)), axis=1)\n",
    "    mutation_df['alt_kmer'] = mutation_df.apply(lambda x: compute_kmer_alt(x, k), axis=1)\n",
    "    mutation_df['mutation'] = list(zip(mutation_df.ref_kmer, mutation_df.alt_kmer))\n",
    "    \n",
    "    kmer_dict = create_kmer_dict(k)\n",
    "\n",
    "    # Compute the counts of each triplet alteration\n",
    "    for my_count in mutation_df['mutation'].value_counts().iteritems():\n",
    "        if my_count[0] in my_probs_df['mutation'].tolist():\n",
    "            kmer_dict[my_count[0]] = my_count[1]\n",
    "            \n",
    "    # Divide each count by the counts of the reference kmer\n",
    "    for my_kmer in kmer_dict.keys():\n",
    "        my_ref_kmer = my_kmer[0]\n",
    "        total_count = k_freq_df[k_freq_df['kmer'] == my_ref_kmer]['count'].values[0]\n",
    "        kmer_dict[my_kmer] = kmer_dict[my_kmer]/total_count\n",
    "\n",
    "    column_name = 'Probability_' + str(sampleID)\n",
    "    my_results_df = pd.DataFrame({'mutation' : list(kmer_dict.keys()) , column_name : list(kmer_dict.values()) })\n",
    "    my_probs_df = pd.merge(my_probs_df, my_results_df, on='mutation')\n",
    "    return(my_probs_df)"
   ]
  },
  {
   "cell_type": "code",
   "execution_count": 9,
   "metadata": {
    "collapsed": true
   },
   "outputs": [],
   "source": [
    "def obs_exp_muts_kmer(mutations_df, exon_coords_df, tumor_type, middle_distance_threshold, k, signatures_file):\n",
    "    \"\"\"\n",
    "    Get positions of the exons that correspond to the central position and a number of base pair\n",
    "    equal to middle_distance_threshold on each side\n",
    "    Compute the number of mutations per position under analysis.\n",
    "    For each of the relative positions, compute the sum of the probabilities of each possible alteration\n",
    "    taking into account its context (using the values of the signatures_file) wheighted by the\n",
    "    number of observed mutations (MODIFIED FROM FRIGOLA ET AL.).\n",
    "\n",
    "    Args:\n",
    "\n",
    "    Returns:\n",
    "        :class:`~pandas.DataFrame`. Table with the relative position (to the exon center)\n",
    "        the number of mutations observed and expected in that position.\n",
    "\n",
    "    \"\"\"\n",
    "    nucleotides = set(['A', 'T', 'C', 'G'])\n",
    "    \n",
    "    ## Get signatures\n",
    "    all_signatures = pd.read_csv(signatures_file, sep='\\t')\n",
    "    probability_name = 'Probability_' + tumor_type\n",
    "    sub_signatures_df = all_signatures[['mutation', probability_name]]\n",
    "    signatures_dict = sub_signatures_df.set_index('mutation').T.to_dict()\n",
    "    \n",
    "    # Convert mutations into bed to intersect values\n",
    "    mutations_bed = pybedtools.BedTool.from_dataframe(mutations_df)\n",
    "\n",
    "    # Process exonic coordinates to get the 2001-nt region coords and convert into bed\n",
    "    ## Positions that correspond to the center of the exons\n",
    "    exon_coords_df['exon_size'] = (exon_coords_df['end'] - exon_coords_df['start'])\n",
    "    exon_coords_df['exon_middle_start'] = (exon_coords_df['start'] + exon_coords_df['exon_size']/2)\n",
    "    exon_coords_df['exon_middle_start'] = exon_coords_df.apply(lambda x: math.floor(x['exon_middle_start']), axis=1)\n",
    "    \n",
    "    ## Positions around the middle point\n",
    "    exon_coords_df['exon_middle_end'] = exon_coords_df['exon_middle_start'] + 1\n",
    "    exon_coords_df['region_start'] = exon_coords_df['exon_middle_start'] - middle_distance_threshold\n",
    "    exon_coords_df['region_end'] = exon_coords_df['exon_middle_end'] + middle_distance_threshold\n",
    "    region_coords = exon_coords_df[['chr', 'region_start', 'region_end', 'ensembl',\n",
    "                                          'exon_size', 'exon_middle_start', 'exon_middle_end', 'start', 'end']]\n",
    "    region_coords_bed = pybedtools.BedTool.from_dataframe(region_coords)\n",
    "\n",
    "    # Filter mutations by the full region of interest\n",
    "    my_bed = region_coords_bed.intersect(mutations_bed, wao=True)\n",
    "\n",
    "    mutations_in_range = pd.read_table(my_bed.fn, names = ['range_chr', 'range_start', 'range_end',\n",
    "                        'ensembl','region_size', 'region_middle_start', 'region_middle_end',\n",
    "                        'exon_start', 'exon_end', 'mut_chr', 'mut_start', 'mut_end', 'mut_ref', 'mut_alt',\n",
    "                        'mut_sample', 'mut_type', 'mut_ID', 'overlap_bp'],  sep=\"\\s+\", index_col=False, low_memory = False)\n",
    "    mutations_in_range = mutations_in_range[mutations_in_range['overlap_bp'] != 0]\n",
    "    print(\"The total amount of mutations at the middle exon-centered sequences is \" +\n",
    "          str(len(mutations_in_range.index)))\n",
    "    \n",
    "    # Count observed mutations\n",
    "    ## Create a dictionary of all observed positions at the range of the middle exon-centered window\n",
    "    mutations_in_range['relative_start'] = mutations_in_range['mut_start'] - mutations_in_range['region_middle_start']\n",
    "    exon_counts = mutations_in_range['relative_start'].value_counts().to_dict()\n",
    "    \n",
    "    ## Set count to 0 were no mutation has been found\n",
    "    for i in range(-middle_distance_threshold, middle_distance_threshold):\n",
    "        if i not in exon_counts.keys():\n",
    "            exon_counts[i] = 0\n",
    "    \n",
    "    ## Count mutations for every position with reported counts\n",
    "    my_exon_results_lol = list()\n",
    "    for my_position in exon_counts.keys():\n",
    "        my_count = exon_counts[my_position]\n",
    "        my_exon_results_lol.append([my_position, my_count])\n",
    "\n",
    "    my_exon_results_df = pd.DataFrame(my_exon_results_lol)\n",
    "    my_exon_results_df.columns = ['position', 'muts_count']\n",
    "    my_exon_results_df = my_exon_results_df.sort_values(by='position')\n",
    "    \n",
    "    # For each exonic region under analysis\n",
    "    # Get its relative position to the center of the exone\n",
    "    # Add the probability that is the sum of the probabilities of\n",
    "    final_position_prob_df = pd.DataFrame()\n",
    "    for my_row in region_coords.values.tolist(): ###FOR EACH EXON, EACH ROW, EACH 2001-nt SEQUENCE\n",
    "        position_prob_lol = list()\n",
    "        \n",
    "        ## Get coordinates\n",
    "        my_chr = my_row[0]\n",
    "        my_start = int(my_row[1])\n",
    "        my_end = int(my_row[2])\n",
    "        n_bases = my_end - my_start\n",
    "        \n",
    "        ## Delimit mutations in the range of that specific middle exon-centered sequence\n",
    "        my_region_muts = len(mutations_in_range[(mutations_in_range['range_start'] >= my_start) &\n",
    "                               (mutations_in_range['range_end'] <= my_end) &\n",
    "                               (mutations_in_range['range_chr'] == my_chr)])\n",
    "        ## If no mutations are reported for that specific middle exon-centered sequence, skip to the next one.\n",
    "        if my_region_muts == 0:\n",
    "            continue\n",
    "            \n",
    "        ## If not, get sequence.\n",
    "        my_exon_bases = hg19(my_chr, my_start+1-(k//2), size=n_bases+2*(k//2))\n",
    "        ## Divide sequences into kmers\n",
    "        my_kmers = [my_exon_bases[i:i+k] for i in range(len(my_exon_bases)-(k-1))]\n",
    "        \n",
    "        i = 0\n",
    "        ## Foreach kmer\n",
    "        for my_kmer in my_kmers:\n",
    "            my_ref_base = my_kmer[(k//2):(k//2)+1].upper() #Get the reference\n",
    "            my_alt_bases = nucleotides - set(my_ref_base) #The rest are alternative ones\n",
    "            my_base_probs = 0\n",
    "            previous_base = my_kmer[0:(k//2)] #Get previous and next base\n",
    "            next_base = my_kmer[(k//2)+1:]\n",
    "            \n",
    "            ### Foreach alternative, each of the three possible changes given a kmer.\n",
    "            for alt_base in my_alt_bases:\n",
    "                #### Built reference and alternate kmers\n",
    "                tri_ref = previous_base + str(my_ref_base) + next_base\n",
    "                tri_alt = previous_base + str(alt_base) + next_base\n",
    "                #### Create key for the signature dictionary\n",
    "                my_key = str((tri_ref, tri_alt))\n",
    "                try:\n",
    "                    ##### Add the probability of the three possible changes\n",
    "                    my_prob = signatures_dict[my_key]['Probability_' + tumor_type]\n",
    "                    my_base_probs = my_base_probs + my_prob\n",
    "                except:\n",
    "                    None\n",
    "            \n",
    "            ### Add the position in the 2001-nt window with the correspondent probability to a list\n",
    "            normalized_i = i - middle_distance_threshold\n",
    "            my_row = [normalized_i, my_base_probs]\n",
    "            position_prob_lol.append(my_row)\n",
    "            i += 1\n",
    "        \n",
    "        ## Convert the list to a dataframe\n",
    "        position_prob_df = pd.DataFrame(position_prob_lol)\n",
    "        position_prob_df.columns = ['position', 'probability']\n",
    "        \n",
    "        ## Reescaling probabilities to one\n",
    "        my_total = sum(position_prob_df['probability'])\n",
    "        position_prob_df['probability'] = position_prob_df['probability']/my_total\n",
    "        \n",
    "        ## Compute the expected by redistributing the total number of mutations in the 2001-nt \n",
    "        ## sequence according to the probabilities\n",
    "        position_prob_df['expected_muts'] = position_prob_df['probability']*my_region_muts\n",
    "        position_prob_df = position_prob_df[['position', 'expected_muts']]\n",
    "        \n",
    "        # Sum the expected results\n",
    "        if len(final_position_prob_df) == 0:\n",
    "            final_position_prob_df = position_prob_df\n",
    "        else:\n",
    "            final_position_prob_df['expected_muts'] = (final_position_prob_df['expected_muts'] +\n",
    "                                                       position_prob_df['expected_muts'])\n",
    "    \n",
    "    return pd.merge(my_exon_results_df, final_position_prob_df, on='position')"
   ]
  },
  {
   "cell_type": "code",
   "execution_count": 10,
   "metadata": {
    "collapsed": true
   },
   "outputs": [],
   "source": [
    "def stacked_sequence_level_permutation(mutations_df, exons_coords_symbol_df, signatures_file, tumor_type,\n",
    "                                       middle_distance_threshold, k):\n",
    "    \"\"\"\n",
    "    Get the co-ordinates of exons and flanking intronic sequences and perform the random sampling of mutations\n",
    "    (1000 times) with the size equal of the number of mutation observed in the 2001-nt window (exon and intron\n",
    "    together).\n",
    "    \n",
    "    Args:\n",
    "        \n",
    "    Returns:\n",
    "        \n",
    "\n",
    "    \"\"\"\n",
    "    \n",
    "    nucleotides = set(['A', 'T', 'C', 'G'])\n",
    "    \n",
    "    # Get signatures\n",
    "    all_signatures = pd.read_csv(signatures_file, sep='\\t')\n",
    "    probability_name = 'Probability_' + tumor_type\n",
    "    sub_signatures_df = all_signatures[['mutation', probability_name]]\n",
    "    signatures_dict = sub_signatures_df.set_index('mutation').T.to_dict()\n",
    "    \n",
    "    # Create bed of the selected mutations\n",
    "    sub_mutations_df = mutations_df[['chr', 'start', 'end', 'sample']]\n",
    "    mutations_bed = pybedtools.BedTool.from_dataframe(sub_mutations_df)\n",
    "    \n",
    "    exons_coords_symbol_df['exon_size'] = (exons_coords_symbol_df['end'] - exons_coords_symbol_df['start'])\n",
    "    exons_coords_symbol_df['exon_middle_start'] = (exons_coords_symbol_df['start'] +\n",
    "                                        exons_coords_symbol_df['exon_size']/2)\n",
    "    exons_coords_symbol_df['exon_middle_start'] = exons_coords_symbol_df.apply(lambda x:\n",
    "                                        math.floor(x['exon_middle_start']), axis=1)\n",
    "\n",
    "    exons_coords_symbol_df['exon_middle_end'] = exons_coords_symbol_df['exon_middle_start'] + 1\n",
    "    exons_coords_symbol_df['region_start'] = exons_coords_symbol_df['exon_middle_start'] - middle_distance_threshold\n",
    "    exons_coords_symbol_df['region_end'] = exons_coords_symbol_df['exon_middle_end'] + middle_distance_threshold\n",
    "    \n",
    "    # Left flank \"intronic\" sequences => region_start and start froom coordinates.\n",
    "    intron1_df = exons_coords_symbol_df[['chr', 'region_start', 'start', 'ID']]\n",
    "    ## The region may span less than the centered exonic sequence. Only take left flank intronic coordinates with sense.\n",
    "    intron1_df = intron1_df[intron1_df['region_start'] <= intron1_df['start']]\n",
    "    intron1_df.columns = ['chr', 'start', 'end', 'ID']\n",
    "    \n",
    "    # Right flank \"intronic\" sequences\n",
    "    intron2_df = exons_coords_symbol_df[['chr', 'end', 'region_end', 'ID']]\n",
    "    ## The region may span less than the centered exonic sequence. Only take right flank intronic coordinates with sense.\n",
    "    intron2_df = intron2_df[intron2_df['end'] <= intron2_df['region_end']]\n",
    "    intron2_df.columns = ['chr', 'start', 'end', 'ID']\n",
    "    ## Take them together\n",
    "    intron_df = pd.concat([intron1_df, intron2_df])\n",
    "    intron_df['label'] = 'intron'\n",
    "\n",
    "    # Exonic sequences\n",
    "    all_exon_df = exons_coords_symbol_df[['chr', 'start', 'end', 'ID', 'region_start', 'region_end']]\n",
    "    ## The region may span less than the centered exonic sequence. Process exons that surpass the region size.\n",
    "    large_exon_df = all_exon_df[(all_exon_df['end']-all_exon_df['start']) > (2*middle_distance_threshold+1)]\n",
    "    large_exon_df = large_exon_df[['chr', 'region_start', 'region_end', 'ID']]\n",
    "    large_exon_df.columns = ['chr', 'start', 'end', 'ID']\n",
    "    ## The region may span less than the centered exonic sequence. Process exons that do not surpass the region size.\n",
    "    short_exon_df = all_exon_df[(all_exon_df['end']-all_exon_df['start']) <= (2*middle_distance_threshold+1)]\n",
    "    short_exon_df = short_exon_df[['chr', 'start', 'end', 'ID']]\n",
    "    short_exon_df.columns = ['chr', 'start', 'end', 'ID']\n",
    "    ## Take them together\n",
    "    exon_df = pd.concat([short_exon_df, large_exon_df])\n",
    "    exon_df['label'] = 'exon'\n",
    "    \n",
    "    # Merge exons and introns\n",
    "    coords_symbol_df = pd.concat([exon_df, intron_df])\n",
    "    coords_symbol_bed = pybedtools.BedTool.from_dataframe(coords_symbol_df)\n",
    "\n",
    "    # Filter mutations by the position of interest\n",
    "    my_bed = coords_symbol_bed.intersect(mutations_bed, wo=True)\n",
    "\n",
    "    mutations_mapped = pd.read_table(my_bed.fn, names = ['chr', 'start', 'end', 'ID','label', 'mut_chr',\n",
    "                                    'mut_start', 'mut_end', 'sample', 'overlap_bp'],  sep=\"\\s+\", index_col=False)\n",
    "    \n",
    "    print(\"Total amount of mutations at the middle exon-centered sequences is \"+ str(len(mutations_mapped)))\n",
    "    exonic_obs = mutations_mapped[mutations_mapped['label'] == 'exon'].shape[0]\n",
    "    intronic_obs = mutations_mapped[mutations_mapped['label'] == 'intron'].shape[0]\n",
    "    print(\"Observed at middle exons: \" + str(exonic_obs))\n",
    "    print(\"Observed at flanking introns: \" + str(intronic_obs))\n",
    "    \n",
    "    # Compute expected mutation by randomization approach\n",
    "    RANDOMIZATION = 1000\n",
    "\n",
    "    collect_rand = {}\n",
    "    # Initialize dictionary\n",
    "    for sam in range(0, RANDOMIZATION):\n",
    "        collect_rand[sam] = {}\n",
    "        collect_rand[sam]['exon_Exp'] = 0\n",
    "        collect_rand[sam]['intron_Exp'] = 0\n",
    "\n",
    "    # For each unique staked exon-centered sequence with one or more mutations\n",
    "    for gene in mutations_mapped['ID'].unique():\n",
    "        position_prob_lol = list()\n",
    "        label_flag_lol = list()\n",
    "        \n",
    "        # Take the exonic and the flanking intronic sequences.\n",
    "        for dx, row in coords_symbol_df[coords_symbol_df['ID']==gene].iterrows():\n",
    "            my_chr = row['chr'][3:]\n",
    "            my_start = int(row['start'])\n",
    "            my_end = int(row['end'])\n",
    "            n_bases = my_end - my_start\n",
    "\n",
    "            ## Get sequence.\n",
    "            my_exon_bases = hg19(my_chr, my_start+1-(k//2), size=n_bases+2*(k//2))\n",
    "            ## Divide sequences into kmers\n",
    "            my_kmers = [my_exon_bases[i:i+k] for i in range(len(my_exon_bases)-(k-1))]\n",
    "            \n",
    "            label_flag = 0 # to mark intron vs exon\n",
    "            if row['label']=='exon':\n",
    "                label_flag = 1 \n",
    "\n",
    "            ## Foreach kmer\n",
    "            for my_kmer in my_kmers:\n",
    "                my_ref_base = my_kmer[(k//2):(k//2)+1].upper() #Get the reference\n",
    "                my_alt_bases = nucleotides - set(my_ref_base) #The rest are alternative ones\n",
    "                my_base_probs = 0\n",
    "                previous_base = my_kmer[0:(k//2)] #Get previous and next base\n",
    "                next_base = my_kmer[(k//2)+1:]\n",
    "            \n",
    "                ### Foreach alternative, each of the three possible changes given a kmer.\n",
    "                for alt_base in my_alt_bases:\n",
    "                    #### Built reference and alternate kmers\n",
    "                    tri_ref = previous_base + str(my_ref_base) + next_base\n",
    "                    tri_alt = previous_base + str(alt_base) + next_base\n",
    "                    #### Create key for the signature dictionary\n",
    "                    my_key = str((tri_ref, tri_alt))\n",
    "                    try:\n",
    "                        ##### Add the probability of the three possible changes\n",
    "                        my_prob = signatures_dict[my_key]['Probability_' + tumor_type]\n",
    "                        my_base_probs = my_base_probs + my_prob\n",
    "                    except:\n",
    "                        None      \n",
    "                \n",
    "                position_prob_lol.append(my_base_probs)\n",
    "                label_flag_lol.append(label_flag)\n",
    "            \n",
    "        # Total number of mutations falling in the stacked sequence.\n",
    "        mutcnt = len(mutations_mapped[mutations_mapped['ID']==gene])\n",
    "        # Normalize the probability vector and perform sampling\n",
    "        prb_vector = np.array(position_prob_lol)\n",
    "        prb_vector = prb_vector/prb_vector.sum()\n",
    "        label_vector = np.array(label_flag_lol)\n",
    "        mutation_rand_label = np.random.choice(label_vector, size=mutcnt*RANDOMIZATION, replace=True, p=prb_vector)\n",
    "        \n",
    "        # Save the mutation count for each randomization\n",
    "        for sam in range(0, RANDOMIZATION):\n",
    "            start = int(mutcnt*sam)\n",
    "            # count for one random sampling\n",
    "            count = np.unique(mutation_rand_label[start:(start+mutcnt)], return_counts=True)\n",
    "            for i in range(0, len(count[0])):\n",
    "                if count[0][i] == 1: # count of exons\n",
    "                    collect_rand[sam]['exon_Exp'] += count[1][i]\n",
    "                else: # count of introns\n",
    "                    collect_rand[sam]['intron_Exp'] += count[1][i]\n",
    "        \n",
    "    collect_df = pd.DataFrame.from_dict(collect_rand)\n",
    "    \n",
    "    return(collect_df, exonic_obs, intronic_obs)"
   ]
  },
  {
   "cell_type": "code",
   "execution_count": 11,
   "metadata": {
    "collapsed": true
   },
   "outputs": [],
   "source": [
    "def bin_average(count, size):\n",
    "    averaged = []\n",
    "    for i in range(0,len(count),size):\n",
    "        mean = np.mean(count[i:i+size])\n",
    "        averaged.extend([mean for i in range(len(count[i:i+size]))])\n",
    "    return(pd.Series(averaged))"
   ]
  },
  {
   "cell_type": "code",
   "execution_count": 12,
   "metadata": {
    "collapsed": true
   },
   "outputs": [],
   "source": [
    "def plot_HD_BINNED(cluster, ax, cnt, size):\n",
    "    \n",
    "    # read observed and backgruond data directly\n",
    "    filename = \"results/exons_centered_%s.tsv\" % (cluster)\n",
    "    \n",
    "    if path.isfile(filename):\n",
    "    \n",
    "        data = pd.read_csv(filename, sep=\"\\t\")\n",
    "        \n",
    "        bin_obs = bin_average(data['muts_count'], size)\n",
    "\n",
    "        ax.plot(data['position'],\n",
    "                 data['muts_count'], '#e41a1c', alpha=0.5, linewidth=0.7)\n",
    "        ax.plot(data['position'], bin_obs, '#e41a1c', linewidth=1)\n",
    "\n",
    "        bin_exp = bin_average(data['expected_muts'], size)\n",
    "\n",
    "        ax.plot(data['position'], bin_exp, 'black', linewidth=1)\n",
    "\n",
    "        ax.set_axis_bgcolor('none')\n",
    "\n",
    "        # show the left spline\n",
    "        for axis in ['right', 'top']:\n",
    "            ax.spines[axis].set_visible(False)\n",
    "\n",
    "        # add gap between x- and y-axis\n",
    "        for axis in ['bottom', 'left']:\n",
    "            ax.spines[axis].set_position(('axes', -0.03))\n",
    "\n",
    "        ax.yaxis.major.locator.set_params(nbins=4)\n",
    "        ax.yaxis.set_ticks_position('left')\n",
    "        ax.xaxis.set_ticks_position('bottom')\n",
    "        ax.set_xlim(-1000, 1000)\n",
    "        # add axis label\n",
    "        if cnt in [0, 3]:\n",
    "            ax.set_ylabel('Number of mutations')\n",
    "        if cnt >=3:\n",
    "            ax.set_xlabel('Distance from exon center (bp)')"
   ]
  },
  {
   "cell_type": "markdown",
   "metadata": {},
   "source": [
    "## Load data"
   ]
  },
  {
   "cell_type": "code",
   "execution_count": 13,
   "metadata": {
    "collapsed": true
   },
   "outputs": [],
   "source": [
    "## Get mutations\n",
    "mutations_file = mutations_folder + 'germinal_ultimate_dataset.bed.gz'\n",
    "mutations_df = pd.read_csv(mutations_file, sep=\"\\t\", header=None)\n",
    "mutations_df.columns = ['chr', 'start', 'end', 'ref', 'alt', 'sample', 'type', 'class']\n",
    "mutations_df = mutations_df[mutations_df['type'] == 'subs']\n",
    "mutations_df['ID'] = mutations_df.index + 1"
   ]
  },
  {
   "cell_type": "markdown",
   "metadata": {
    "collapsed": true
   },
   "source": [
    "## Sample mutations\n",
    "\n",
    "**Only need to be done once**"
   ]
  },
  {
   "cell_type": "code",
   "execution_count": 71,
   "metadata": {
    "collapsed": true
   },
   "outputs": [],
   "source": [
    "healthy_df = mutations_df[mutations_df['class'] == 'healthy']\n",
    "healthy_df.to_csv(mutations_folder + 'germinal_healthy.bed.gz', sep=\"\\t\", header=False, index=False,\n",
    "                  compression=\"gzip\")\n",
    "sample_healthy_df = healthy_df.sample(98300)\n",
    "autism_df = mutations_df[mutations_df['class'] == 'autism']\n",
    "autism_df.to_csv(mutations_folder + 'germinal_autism.bed.gz', sep=\"\\t\", header=False, index=False,\n",
    "                  compression=\"gzip\")\n",
    "sample_autism_df = autism_df.sample(1700)\n",
    "sample_df = pd.concat([sample_healthy_df, sample_autism_df])\n",
    "sample_df.to_csv(mutations_folder + 'germinal_sample.bed.gz', sep=\"\\t\", header=False, index=False, compression=\"gzip\")"
   ]
  },
  {
   "cell_type": "markdown",
   "metadata": {},
   "source": [
    "## Analysis of population representative sample"
   ]
  },
  {
   "cell_type": "markdown",
   "metadata": {},
   "source": [
    "### Load mutations"
   ]
  },
  {
   "cell_type": "code",
   "execution_count": 72,
   "metadata": {
    "collapsed": true
   },
   "outputs": [],
   "source": [
    "# Get the mutations\n",
    "sample_mutations_file = mutations_folder + 'germinal_sample.bed.gz'\n",
    "sample_mutations_df = pd.read_csv(sample_mutations_file, sep=\"\\t\", header=None)\n",
    "sample_mutations_df.columns = ['chr', 'start', 'end', 'ref', 'alt', 'sample', 'type', 'class', 'ID']\n",
    "sample_mutations_df = sample_mutations_df[['chr', 'start', 'end', 'ref', 'alt', 'sample', 'type', 'ID']]\n",
    "sample_mutations_df = sample_mutations_df[sample_mutations_df['type'] == 'subs']\n",
    "\n",
    "sampleID = 'germinal'"
   ]
  },
  {
   "cell_type": "markdown",
   "metadata": {},
   "source": [
    "### Compute signatures"
   ]
  },
  {
   "cell_type": "code",
   "execution_count": 73,
   "metadata": {
    "collapsed": true
   },
   "outputs": [],
   "source": [
    "k = 3\n",
    "\n",
    "k_mer_count_file = 'data/' + str(k) + 'mer.txt'\n",
    "\n",
    "results = signature(k, sample_mutations_df, k_mer_count_file, sampleID)\n",
    "filename = str(k) + 'mer_signatures_sample.txt' \n",
    "results.to_csv(path.join('results', filename), header=True, index=None, sep='\\t')"
   ]
  },
  {
   "cell_type": "markdown",
   "metadata": {},
   "source": [
    "### Internal exon-centered analysis"
   ]
  },
  {
   "cell_type": "markdown",
   "metadata": {},
   "source": [
    "#### Load data"
   ]
  },
  {
   "cell_type": "code",
   "execution_count": 74,
   "metadata": {
    "collapsed": true
   },
   "outputs": [],
   "source": [
    "# Get the mutations\n",
    "sample_mutations_file = mutations_folder + 'germinal_sample.bed.gz'\n",
    "sample_mutations_df = pd.read_csv(sample_mutations_file, sep=\"\\t\", header=None)\n",
    "sample_mutations_df.columns = ['chr', 'start', 'end', 'ref', 'alt', 'sample', 'type', 'class', 'ID']\n",
    "sample_mutations_df = sample_mutations_df[['chr', 'start', 'end', 'ref', 'alt', 'sample', 'type', 'ID']]\n",
    "sample_mutations_df = sample_mutations_df[sample_mutations_df['type'] == 'subs']\n",
    "\n",
    "## Get exon coordinates\n",
    "exons_coords_df = pd.read_csv(middle_exons_coords, sep=\"\\t\", header=None, low_memory=False)\n",
    "exons_coords_df.columns = ['chr', 'start', 'end', 'ensembl', 'symbol', 'strand']\n",
    "exons_coords_df = exons_coords_df[['chr', 'start', 'end', 'ensembl']]\n",
    "exons_coords_df['ensembl'] = exons_coords_df.apply(lambda x: remove_version_ensembl(x, 'ensembl'), axis=1)\n",
    "exons_coords_df.columns = ['chr', 'start', 'end', 'ensembl']\n",
    "\n",
    "tumor_type = 'germinal'"
   ]
  },
  {
   "cell_type": "markdown",
   "metadata": {},
   "source": [
    "#### Compute the observed and expected profiles"
   ]
  },
  {
   "cell_type": "code",
   "execution_count": 75,
   "metadata": {},
   "outputs": [
    {
     "name": "stdout",
     "output_type": "stream",
     "text": [
      "The total amount of mutations at the middle exon-centered sequences is 7497\n"
     ]
    }
   ],
   "source": [
    "k = 3\n",
    "middle_distance_threshold = 1000\n",
    "signatures_file = 'results/' + str(k) + 'mer_signatures_sample.txt'\n",
    "\n",
    "exons_centered_results = obs_exp_muts_kmer(sample_mutations_df, exons_coords_df, tumor_type, \n",
    "                                           middle_distance_threshold, k, signatures_file)\n",
    "\n",
    "exons_centered_results.to_csv('results/exons_centered_' + str(k) + 'mer_sample.tsv', sep=\"\\t\", header=True,\n",
    "                              index=False)"
   ]
  },
  {
   "cell_type": "markdown",
   "metadata": {},
   "source": [
    "### Permutation approach"
   ]
  },
  {
   "cell_type": "markdown",
   "metadata": {},
   "source": [
    "#### Load data"
   ]
  },
  {
   "cell_type": "code",
   "execution_count": 76,
   "metadata": {
    "collapsed": true
   },
   "outputs": [],
   "source": [
    "# Get the mutations\n",
    "sample_mutations_file = mutations_folder + 'germinal_sample.bed.gz'\n",
    "sample_mutations_df = pd.read_csv(sample_mutations_file, sep=\"\\t\", header=None)\n",
    "sample_mutations_df.columns = ['chr', 'start', 'end', 'ref', 'alt', 'sample', 'type', 'class', 'ID']\n",
    "sample_mutations_df = sample_mutations_df[['chr', 'start', 'end', 'ref', 'alt', 'sample', 'type', 'ID']]\n",
    "sample_mutations_df = sample_mutations_df[sample_mutations_df['type'] == 'subs']\n",
    "\n",
    "## Get exon coordinates\n",
    "exons_coords_df = pd.read_csv(middle_exons_coords, sep=\"\\t\", header=None, low_memory=False)\n",
    "exons_coords_df.columns = ['chr', 'start', 'end', 'ensembl', 'symbol', 'strand']\n",
    "exons_coords_df = exons_coords_df[['chr', 'start', 'end', 'ensembl']]\n",
    "exons_coords_df['ensembl'] = exons_coords_df.apply(lambda x: remove_version_ensembl(x, 'ensembl'), axis=1)\n",
    "exons_coords_df.columns = ['chr', 'start', 'end', 'ensembl']\n",
    "exons_coords_symbol_df = exons_coords_df[['chr', 'start', 'end', 'ensembl']]\n",
    "exons_coords_symbol_df['ID'] = exons_coords_symbol_df.index + 1\n",
    "\n",
    "tumor_type = 'germinal'"
   ]
  },
  {
   "cell_type": "markdown",
   "metadata": {},
   "source": [
    "#### Perform 1000 permutations"
   ]
  },
  {
   "cell_type": "code",
   "execution_count": 77,
   "metadata": {},
   "outputs": [
    {
     "name": "stdout",
     "output_type": "stream",
     "text": [
      "Total amount of mutations at the middle exon-centered sequences is 7497\n",
      "Observed at middle exons: 632\n",
      "Observed at flanking introns: 6865\n"
     ]
    }
   ],
   "source": [
    "tumor_type = 'germinal'\n",
    "k = 3\n",
    "middle_distance_threshold = 1000\n",
    "signatures_file = 'results/' + str(k) + 'mer_signatures_sample.txt'\n",
    "\n",
    "(exons_centered_results, exonic_obs, intronic_obs) = stacked_sequence_level_permutation(sample_mutations_df,\n",
    "                        exons_coords_symbol_df, signatures_file, tumor_type, middle_distance_threshold, k)\n",
    "\n",
    "exons_centered_results = pd.DataFrame.transpose(exons_centered_results)\n",
    "exons_centered_results.to_csv(path.join('results', 'exons_centered_' + str(k) + 'mer_permut_sample.tsv'), sep=\"\\t\",\n",
    "                               header=True, index=False)"
   ]
  },
  {
   "cell_type": "markdown",
   "metadata": {},
   "source": [
    "#### Compute emprical p-value"
   ]
  },
  {
   "cell_type": "code",
   "execution_count": 15,
   "metadata": {},
   "outputs": [
    {
     "data": {
      "text/html": [
       "<div>\n",
       "<style>\n",
       "    .dataframe thead tr:only-child th {\n",
       "        text-align: right;\n",
       "    }\n",
       "\n",
       "    .dataframe thead th {\n",
       "        text-align: left;\n",
       "    }\n",
       "\n",
       "    .dataframe tbody tr th {\n",
       "        vertical-align: top;\n",
       "    }\n",
       "</style>\n",
       "<table border=\"1\" class=\"dataframe\">\n",
       "  <thead>\n",
       "    <tr style=\"text-align: right;\">\n",
       "      <th></th>\n",
       "      <th>obs_exon_cnt</th>\n",
       "      <th>exp_exon_cnt</th>\n",
       "      <th>obs_intron_cnt</th>\n",
       "      <th>exp_intron_cnt</th>\n",
       "      <th>empirical_pvalue</th>\n",
       "    </tr>\n",
       "  </thead>\n",
       "  <tbody>\n",
       "    <tr>\n",
       "      <th>0</th>\n",
       "      <td>632</td>\n",
       "      <td>648.363</td>\n",
       "      <td>6865</td>\n",
       "      <td>6848.637</td>\n",
       "      <td>0.778</td>\n",
       "    </tr>\n",
       "  </tbody>\n",
       "</table>\n",
       "</div>"
      ],
      "text/plain": [
       "   obs_exon_cnt  exp_exon_cnt  obs_intron_cnt  exp_intron_cnt  \\\n",
       "0           632       648.363            6865        6848.637   \n",
       "\n",
       "   empirical_pvalue  \n",
       "0             0.778  "
      ]
     },
     "execution_count": 15,
     "metadata": {},
     "output_type": "execute_result"
    }
   ],
   "source": [
    "k = 3\n",
    "results = []\n",
    "RANDOMIZATION = 1000\n",
    "    \n",
    "# Read the expected exon and intron mutation counts from permutations\n",
    "rand_output = pd.read_csv(path.join('results', 'exons_centered_' + str(k) + 'mer_permut_sample.tsv'), sep=\"\\t\")\n",
    "    \n",
    "# count the number of times the expected exon mutations is higher than the observed\n",
    "count = len(rand_output[rand_output['exon_Exp'] >= exonic_obs])\n",
    "    \n",
    "if count == 0:\n",
    "    count = 1 \n",
    "    \n",
    "results.append([exonic_obs, rand_output['exon_Exp'].mean(), intronic_obs, rand_output['intron_Exp'].mean(),\n",
    "                            count/RANDOMIZATION])\n",
    "    \n",
    "results_df = pd.DataFrame(results)\n",
    "results_df.columns = ['obs_exon_cnt', 'exp_exon_cnt','obs_intron_cnt', 'exp_intron_cnt', 'empirical_pvalue']\n",
    "results_df"
   ]
  },
  {
   "cell_type": "code",
   "execution_count": 16,
   "metadata": {},
   "outputs": [
    {
     "data": {
      "text/plain": [
       "0   -2.523741\n",
       "dtype: float64"
      ]
     },
     "execution_count": 16,
     "metadata": {},
     "output_type": "execute_result"
    }
   ],
   "source": [
    "exonic_increase = (results_df[\"obs_exon_cnt\"]/results_df[\"exp_exon_cnt\"]-1)*100\n",
    "exonic_increase"
   ]
  },
  {
   "cell_type": "code",
   "execution_count": 19,
   "metadata": {},
   "outputs": [
    {
     "data": {
      "text/plain": [
       "(0   -2.63328\n",
       " dtype: float64, 0   -2.414201\n",
       " dtype: float64)"
      ]
     },
     "execution_count": 19,
     "metadata": {},
     "output_type": "execute_result"
    }
   ],
   "source": [
    "rand_output['increase'] = (exonic_obs/rand_output['exon_Exp']-1)*100\n",
    "error = (st.stdev(rand_output['increase'].tolist())/np.sqrt(1000))\n",
    "(exonic_increase-error, exonic_increase+error)"
   ]
  },
  {
   "cell_type": "markdown",
   "metadata": {},
   "source": [
    "## Analysis of mutations from healthy individuals"
   ]
  },
  {
   "cell_type": "markdown",
   "metadata": {},
   "source": [
    "### Load mutations"
   ]
  },
  {
   "cell_type": "code",
   "execution_count": 20,
   "metadata": {
    "collapsed": true
   },
   "outputs": [],
   "source": [
    "# Get the mutations\n",
    "sample_mutations_file = mutations_folder + 'germinal_healthy.bed.gz'\n",
    "sample_mutations_df = pd.read_csv(sample_mutations_file, sep=\"\\t\", header=None)\n",
    "sample_mutations_df.columns = ['chr', 'start', 'end', 'ref', 'alt', 'sample', 'type', 'class', 'ID']\n",
    "sample_mutations_df = sample_mutations_df[['chr', 'start', 'end', 'ref', 'alt', 'sample', 'type', 'ID']]\n",
    "sample_mutations_df = sample_mutations_df[sample_mutations_df['type'] == 'subs']\n",
    "\n",
    "sampleID = 'germinal'"
   ]
  },
  {
   "cell_type": "markdown",
   "metadata": {},
   "source": [
    "### Compute signatures"
   ]
  },
  {
   "cell_type": "code",
   "execution_count": 21,
   "metadata": {
    "collapsed": true
   },
   "outputs": [],
   "source": [
    "k = 3\n",
    "\n",
    "k_mer_count_file = 'data/' + str(k) + 'mer.txt'\n",
    "\n",
    "results = signature(k, sample_mutations_df, k_mer_count_file, sampleID)\n",
    "filename = str(k) + 'mer_signatures_healthy.txt' \n",
    "results.to_csv(path.join('results', filename), header=True, index=None, sep='\\t')"
   ]
  },
  {
   "cell_type": "markdown",
   "metadata": {},
   "source": [
    "### Internal exon-centered analysis"
   ]
  },
  {
   "cell_type": "markdown",
   "metadata": {},
   "source": [
    "#### Load data"
   ]
  },
  {
   "cell_type": "code",
   "execution_count": 22,
   "metadata": {
    "collapsed": true
   },
   "outputs": [],
   "source": [
    "# Get the mutations\n",
    "sample_mutations_file = mutations_folder + 'germinal_healthy.bed.gz'\n",
    "sample_mutations_df = pd.read_csv(sample_mutations_file, sep=\"\\t\", header=None)\n",
    "sample_mutations_df.columns = ['chr', 'start', 'end', 'ref', 'alt', 'sample', 'type', 'class', 'ID']\n",
    "sample_mutations_df = sample_mutations_df[['chr', 'start', 'end', 'ref', 'alt', 'sample', 'type', 'ID']]\n",
    "sample_mutations_df = sample_mutations_df[sample_mutations_df['type'] == 'subs']\n",
    "\n",
    "## Get exon coordinates\n",
    "exons_coords_df = pd.read_csv(middle_exons_coords, sep=\"\\t\", header=None, low_memory=False)\n",
    "exons_coords_df.columns = ['chr', 'start', 'end', 'ensembl', 'symbol', 'strand']\n",
    "exons_coords_df = exons_coords_df[['chr', 'start', 'end', 'ensembl']]\n",
    "exons_coords_df['ensembl'] = exons_coords_df.apply(lambda x: remove_version_ensembl(x, 'ensembl'), axis=1)\n",
    "exons_coords_df.columns = ['chr', 'start', 'end', 'ensembl']\n",
    "\n",
    "tumor_type = 'germinal'"
   ]
  },
  {
   "cell_type": "markdown",
   "metadata": {},
   "source": [
    "#### Compute the observed and expected profiles"
   ]
  },
  {
   "cell_type": "code",
   "execution_count": 23,
   "metadata": {},
   "outputs": [
    {
     "name": "stdout",
     "output_type": "stream",
     "text": [
      "The total amount of mutations at the middle exon-centered sequences is 14433\n"
     ]
    }
   ],
   "source": [
    "k = 3\n",
    "middle_distance_threshold = 1000\n",
    "signatures_file = 'results/' + str(k) + 'mer_signatures_healthy.txt'\n",
    "\n",
    "exons_centered_results = obs_exp_muts_kmer(sample_mutations_df, exons_coords_df, tumor_type, \n",
    "                                           middle_distance_threshold, k, signatures_file)\n",
    "\n",
    "exons_centered_results.to_csv('results/exons_centered_' + str(k) + 'mer_healthy.tsv', sep=\"\\t\", header=True,\n",
    "                              index=False)"
   ]
  },
  {
   "cell_type": "markdown",
   "metadata": {},
   "source": [
    "### Permutation approach"
   ]
  },
  {
   "cell_type": "markdown",
   "metadata": {},
   "source": [
    "#### Load data"
   ]
  },
  {
   "cell_type": "code",
   "execution_count": 24,
   "metadata": {
    "collapsed": true
   },
   "outputs": [],
   "source": [
    "# Get the mutations\n",
    "sample_mutations_file = mutations_folder + 'germinal_healthy.bed.gz'\n",
    "sample_mutations_df = pd.read_csv(sample_mutations_file, sep=\"\\t\", header=None)\n",
    "sample_mutations_df.columns = ['chr', 'start', 'end', 'ref', 'alt', 'sample', 'type', 'class', 'ID']\n",
    "sample_mutations_df = sample_mutations_df[['chr', 'start', 'end', 'ref', 'alt', 'sample', 'type', 'ID']]\n",
    "sample_mutations_df = sample_mutations_df[sample_mutations_df['type'] == 'subs']\n",
    "\n",
    "## Get exon coordinates\n",
    "exons_coords_df = pd.read_csv(middle_exons_coords, sep=\"\\t\", header=None, low_memory=False)\n",
    "exons_coords_df.columns = ['chr', 'start', 'end', 'ensembl', 'symbol', 'strand']\n",
    "exons_coords_df = exons_coords_df[['chr', 'start', 'end', 'ensembl']]\n",
    "exons_coords_df['ensembl'] = exons_coords_df.apply(lambda x: remove_version_ensembl(x, 'ensembl'), axis=1)\n",
    "exons_coords_df.columns = ['chr', 'start', 'end', 'ensembl']\n",
    "exons_coords_symbol_df = exons_coords_df[['chr', 'start', 'end', 'ensembl']]\n",
    "exons_coords_symbol_df['ID'] = exons_coords_symbol_df.index + 1\n",
    "\n",
    "tumor_type = 'germinal'"
   ]
  },
  {
   "cell_type": "markdown",
   "metadata": {},
   "source": [
    "#### Perform 1000 permutations"
   ]
  },
  {
   "cell_type": "code",
   "execution_count": 25,
   "metadata": {},
   "outputs": [
    {
     "name": "stdout",
     "output_type": "stream",
     "text": [
      "Total amount of mutations at the middle exon-centered sequences is 14433\n",
      "Observed at middle exons: 1230\n",
      "Observed at flanking introns: 13203\n"
     ]
    }
   ],
   "source": [
    "tumor_type = 'germinal'\n",
    "k = 3\n",
    "middle_distance_threshold = 1000\n",
    "signatures_file = 'results/' + str(k) + 'mer_signatures_healthy.txt'\n",
    "\n",
    "(exons_centered_results, exonic_obs, intronic_obs) = stacked_sequence_level_permutation(sample_mutations_df,\n",
    "                        exons_coords_symbol_df, signatures_file, tumor_type, middle_distance_threshold, k)\n",
    "\n",
    "exons_centered_results = pd.DataFrame.transpose(exons_centered_results)\n",
    "exons_centered_results.to_csv(path.join('results', 'exons_centered_' + str(k) + 'mer_permut_healthy.tsv'), sep=\"\\t\",\n",
    "                               header=True, index=False)"
   ]
  },
  {
   "cell_type": "markdown",
   "metadata": {},
   "source": [
    "#### Compute emprical p-value"
   ]
  },
  {
   "cell_type": "code",
   "execution_count": 22,
   "metadata": {},
   "outputs": [
    {
     "data": {
      "text/html": [
       "<div>\n",
       "<style>\n",
       "    .dataframe thead tr:only-child th {\n",
       "        text-align: right;\n",
       "    }\n",
       "\n",
       "    .dataframe thead th {\n",
       "        text-align: left;\n",
       "    }\n",
       "\n",
       "    .dataframe tbody tr th {\n",
       "        vertical-align: top;\n",
       "    }\n",
       "</style>\n",
       "<table border=\"1\" class=\"dataframe\">\n",
       "  <thead>\n",
       "    <tr style=\"text-align: right;\">\n",
       "      <th></th>\n",
       "      <th>obs_exon_cnt</th>\n",
       "      <th>exp_exon_cnt</th>\n",
       "      <th>obs_intron_cnt</th>\n",
       "      <th>exp_intron_cnt</th>\n",
       "      <th>empirical_pvalue</th>\n",
       "    </tr>\n",
       "  </thead>\n",
       "  <tbody>\n",
       "    <tr>\n",
       "      <th>0</th>\n",
       "      <td>1230</td>\n",
       "      <td>1235.572</td>\n",
       "      <td>13203</td>\n",
       "      <td>13197.428</td>\n",
       "      <td>0.597</td>\n",
       "    </tr>\n",
       "  </tbody>\n",
       "</table>\n",
       "</div>"
      ],
      "text/plain": [
       "   obs_exon_cnt  exp_exon_cnt  obs_intron_cnt  exp_intron_cnt  \\\n",
       "0          1230      1235.572           13203       13197.428   \n",
       "\n",
       "   empirical_pvalue  \n",
       "0             0.597  "
      ]
     },
     "execution_count": 22,
     "metadata": {},
     "output_type": "execute_result"
    }
   ],
   "source": [
    "k = 3\n",
    "results = []\n",
    "RANDOMIZATION = 1000\n",
    "    \n",
    "# Read the expected exon and intron mutation counts from permutations\n",
    "rand_output = pd.read_csv(path.join('results', 'exons_centered_' + str(k) + 'mer_permut_healthy.tsv'), sep=\"\\t\")\n",
    "    \n",
    "# count the number of times the expected exon mutations is higher than the observed\n",
    "count = len(rand_output[rand_output['exon_Exp'] >= exonic_obs])\n",
    "    \n",
    "if count == 0:\n",
    "    count = 1 \n",
    "    \n",
    "results.append([exonic_obs, rand_output['exon_Exp'].mean(), intronic_obs, rand_output['intron_Exp'].mean(),\n",
    "                            count/RANDOMIZATION])\n",
    "    \n",
    "results_df = pd.DataFrame(results)\n",
    "results_df.columns = ['obs_exon_cnt', 'exp_exon_cnt','obs_intron_cnt', 'exp_intron_cnt', 'empirical_pvalue']\n",
    "results_df"
   ]
  },
  {
   "cell_type": "code",
   "execution_count": 23,
   "metadata": {},
   "outputs": [
    {
     "data": {
      "text/plain": [
       "0   -0.450965\n",
       "dtype: float64"
      ]
     },
     "execution_count": 23,
     "metadata": {},
     "output_type": "execute_result"
    }
   ],
   "source": [
    "exonic_increase = (results_df[\"obs_exon_cnt\"]/results_df[\"exp_exon_cnt\"]-1)*100\n",
    "exonic_increase"
   ]
  },
  {
   "cell_type": "code",
   "execution_count": 24,
   "metadata": {},
   "outputs": [
    {
     "data": {
      "text/plain": [
       "(0   -0.532914\n",
       " dtype: float64, 0   -0.369016\n",
       " dtype: float64)"
      ]
     },
     "execution_count": 24,
     "metadata": {},
     "output_type": "execute_result"
    }
   ],
   "source": [
    "rand_output['increase'] = (exonic_obs/rand_output['exon_Exp']-1)*100\n",
    "error = (st.stdev(rand_output['increase'].tolist())/np.sqrt(1000))\n",
    "(exonic_increase-error, exonic_increase+error)"
   ]
  },
  {
   "cell_type": "markdown",
   "metadata": {},
   "source": [
    "## Analysis of mutations from ASD individuals"
   ]
  },
  {
   "cell_type": "markdown",
   "metadata": {},
   "source": [
    "### Load mutations"
   ]
  },
  {
   "cell_type": "code",
   "execution_count": 27,
   "metadata": {
    "collapsed": true
   },
   "outputs": [],
   "source": [
    "# Get the mutations\n",
    "sample_mutations_file = mutations_folder + 'germinal_autism.bed.gz'\n",
    "sample_mutations_df = pd.read_csv(sample_mutations_file, sep=\"\\t\", header=None)\n",
    "sample_mutations_df.columns = ['chr', 'start', 'end', 'ref', 'alt', 'sample', 'type', 'class', 'ID']\n",
    "sample_mutations_df = sample_mutations_df[['chr', 'start', 'end', 'ref', 'alt', 'sample', 'type', 'ID']]\n",
    "sample_mutations_df = sample_mutations_df[sample_mutations_df['type'] == 'subs']\n",
    "\n",
    "sampleID = 'germinal'"
   ]
  },
  {
   "cell_type": "markdown",
   "metadata": {},
   "source": [
    "### Compute signatures"
   ]
  },
  {
   "cell_type": "code",
   "execution_count": 28,
   "metadata": {
    "collapsed": true
   },
   "outputs": [],
   "source": [
    "k = 3\n",
    "\n",
    "k_mer_count_file = 'data/' + str(k) + 'mer.txt'\n",
    "\n",
    "results = signature(k, sample_mutations_df, k_mer_count_file, sampleID)\n",
    "filename = str(k) + 'mer_signatures_autism.txt' \n",
    "results.to_csv(path.join('results', filename), header=True, index=None, sep='\\t')"
   ]
  },
  {
   "cell_type": "markdown",
   "metadata": {},
   "source": [
    "### Internal exon-centered analysis"
   ]
  },
  {
   "cell_type": "markdown",
   "metadata": {},
   "source": [
    "#### Load data"
   ]
  },
  {
   "cell_type": "code",
   "execution_count": 29,
   "metadata": {
    "collapsed": true
   },
   "outputs": [],
   "source": [
    "# Get the mutations\n",
    "sample_mutations_file = mutations_folder + 'germinal_autism.bed.gz'\n",
    "sample_mutations_df = pd.read_csv(sample_mutations_file, sep=\"\\t\", header=None)\n",
    "sample_mutations_df.columns = ['chr', 'start', 'end', 'ref', 'alt', 'sample', 'type', 'class', 'ID']\n",
    "sample_mutations_df = sample_mutations_df[['chr', 'start', 'end', 'ref', 'alt', 'sample', 'type', 'ID']]\n",
    "sample_mutations_df = sample_mutations_df[sample_mutations_df['type'] == 'subs']\n",
    "\n",
    "## Get exon coordinates\n",
    "exons_coords_df = pd.read_csv(middle_exons_coords, sep=\"\\t\", header=None, low_memory=False)\n",
    "exons_coords_df.columns = ['chr', 'start', 'end', 'ensembl', 'symbol', 'strand']\n",
    "exons_coords_df = exons_coords_df[['chr', 'start', 'end', 'ensembl']]\n",
    "exons_coords_df['ensembl'] = exons_coords_df.apply(lambda x: remove_version_ensembl(x, 'ensembl'), axis=1)\n",
    "exons_coords_df.columns = ['chr', 'start', 'end', 'ensembl']\n",
    "\n",
    "tumor_type = 'germinal'"
   ]
  },
  {
   "cell_type": "markdown",
   "metadata": {},
   "source": [
    "#### Compute the observed and expected profiles"
   ]
  },
  {
   "cell_type": "code",
   "execution_count": 30,
   "metadata": {},
   "outputs": [
    {
     "name": "stdout",
     "output_type": "stream",
     "text": [
      "The total amount of mutations at the middle exon-centered sequences is 17721\n"
     ]
    }
   ],
   "source": [
    "k = 3\n",
    "middle_distance_threshold = 1000\n",
    "signatures_file = 'results/' + str(k) + 'mer_signatures_autism.txt'\n",
    "\n",
    "exons_centered_results = obs_exp_muts_kmer(sample_mutations_df, exons_coords_symbol_df, tumor_type, \n",
    "                                           middle_distance_threshold, k, signatures_file)\n",
    "\n",
    "exons_centered_results.to_csv('results/exons_centered_' + str(k) + 'mer_autism.tsv', sep=\"\\t\", header=True,\n",
    "                              index=False)"
   ]
  },
  {
   "cell_type": "markdown",
   "metadata": {},
   "source": [
    "### Permutation approach"
   ]
  },
  {
   "cell_type": "markdown",
   "metadata": {},
   "source": [
    "#### Load data"
   ]
  },
  {
   "cell_type": "code",
   "execution_count": 31,
   "metadata": {
    "collapsed": true
   },
   "outputs": [],
   "source": [
    "# Get the mutations\n",
    "sample_mutations_file = mutations_folder + 'germinal_autism.bed.gz'\n",
    "sample_mutations_df = pd.read_csv(sample_mutations_file, sep=\"\\t\", header=None)\n",
    "sample_mutations_df.columns = ['chr', 'start', 'end', 'ref', 'alt', 'sample', 'type', 'class', 'ID']\n",
    "sample_mutations_df = sample_mutations_df[['chr', 'start', 'end', 'ref', 'alt', 'sample', 'type', 'ID']]\n",
    "sample_mutations_df = sample_mutations_df[sample_mutations_df['type'] == 'subs']\n",
    "\n",
    "## Get exon coordinates\n",
    "exons_coords_df = pd.read_csv(middle_exons_coords, sep=\"\\t\", header=None, low_memory=False)\n",
    "exons_coords_df.columns = ['chr', 'start', 'end', 'ensembl', 'symbol', 'strand']\n",
    "exons_coords_df = exons_coords_df[['chr', 'start', 'end', 'ensembl']]\n",
    "exons_coords_df['ensembl'] = exons_coords_df.apply(lambda x: remove_version_ensembl(x, 'ensembl'), axis=1)\n",
    "exons_coords_df.columns = ['chr', 'start', 'end', 'ensembl']\n",
    "exons_coords_symbol_df = exons_coords_df[['chr', 'start', 'end', 'ensembl']]\n",
    "exons_coords_symbol_df['ID'] = exons_coords_symbol_df.index + 1\n",
    "\n",
    "tumor_type = 'germinal'"
   ]
  },
  {
   "cell_type": "markdown",
   "metadata": {},
   "source": [
    "#### Perform 1000 permutations"
   ]
  },
  {
   "cell_type": "code",
   "execution_count": 32,
   "metadata": {},
   "outputs": [
    {
     "name": "stdout",
     "output_type": "stream",
     "text": [
      "Total amount of mutations at the middle exon-centered sequences is 17721\n",
      "Observed at middle exons: 1655\n",
      "Observed at flanking introns: 16066\n"
     ]
    }
   ],
   "source": [
    "tumor_type = 'germinal'\n",
    "k = 3\n",
    "middle_distance_threshold = 1000\n",
    "signatures_file = 'results/' + str(k) + 'mer_signatures_autism.txt'\n",
    "\n",
    "(exons_centered_results, exonic_obs, intronic_obs) = stacked_sequence_level_permutation(sample_mutations_df,\n",
    "                        exons_coords_symbol_df, signatures_file, tumor_type, middle_distance_threshold, k)\n",
    "\n",
    "exons_centered_results = pd.DataFrame.transpose(exons_centered_results)\n",
    "exons_centered_results.to_csv(path.join('results', 'exons_centered_' + str(k) + 'mer_permut_autism.tsv'), sep=\"\\t\",\n",
    "                               header=True, index=False)"
   ]
  },
  {
   "cell_type": "markdown",
   "metadata": {},
   "source": [
    "#### Compute emprical p-value"
   ]
  },
  {
   "cell_type": "code",
   "execution_count": 26,
   "metadata": {
    "scrolled": true
   },
   "outputs": [
    {
     "data": {
      "text/html": [
       "<div>\n",
       "<style>\n",
       "    .dataframe thead tr:only-child th {\n",
       "        text-align: right;\n",
       "    }\n",
       "\n",
       "    .dataframe thead th {\n",
       "        text-align: left;\n",
       "    }\n",
       "\n",
       "    .dataframe tbody tr th {\n",
       "        vertical-align: top;\n",
       "    }\n",
       "</style>\n",
       "<table border=\"1\" class=\"dataframe\">\n",
       "  <thead>\n",
       "    <tr style=\"text-align: right;\">\n",
       "      <th></th>\n",
       "      <th>obs_exon_cnt</th>\n",
       "      <th>exp_exon_cnt</th>\n",
       "      <th>obs_intron_cnt</th>\n",
       "      <th>exp_intron_cnt</th>\n",
       "      <th>empirical_pvalue</th>\n",
       "    </tr>\n",
       "  </thead>\n",
       "  <tbody>\n",
       "    <tr>\n",
       "      <th>0</th>\n",
       "      <td>1655</td>\n",
       "      <td>1526.272</td>\n",
       "      <td>16066</td>\n",
       "      <td>16194.728</td>\n",
       "      <td>0.001</td>\n",
       "    </tr>\n",
       "  </tbody>\n",
       "</table>\n",
       "</div>"
      ],
      "text/plain": [
       "   obs_exon_cnt  exp_exon_cnt  obs_intron_cnt  exp_intron_cnt  \\\n",
       "0          1655      1526.272           16066       16194.728   \n",
       "\n",
       "   empirical_pvalue  \n",
       "0             0.001  "
      ]
     },
     "execution_count": 26,
     "metadata": {},
     "output_type": "execute_result"
    }
   ],
   "source": [
    "k = 3\n",
    "results = []\n",
    "RANDOMIZATION = 1000\n",
    "    \n",
    "# Read the expected exon and intron mutation counts from permutations\n",
    "rand_output = pd.read_csv(path.join('results', 'exons_centered_' + str(k) + 'mer_permut_autism.tsv'), sep=\"\\t\")\n",
    "    \n",
    "# count the number of times the expected exon mutations is higher than the observed\n",
    "count = len(rand_output[rand_output['exon_Exp'] >= exonic_obs])\n",
    "    \n",
    "if count == 0:\n",
    "    count = 1 \n",
    "    \n",
    "results.append([exonic_obs, rand_output['exon_Exp'].mean(), intronic_obs, rand_output['intron_Exp'].mean(),\n",
    "                            count/RANDOMIZATION])\n",
    "    \n",
    "results_df = pd.DataFrame(results)\n",
    "results_df.columns = ['obs_exon_cnt', 'exp_exon_cnt','obs_intron_cnt', 'exp_intron_cnt', 'empirical_pvalue']\n",
    "results_df"
   ]
  },
  {
   "cell_type": "code",
   "execution_count": 27,
   "metadata": {},
   "outputs": [
    {
     "data": {
      "text/plain": [
       "0    8.434145\n",
       "dtype: float64"
      ]
     },
     "execution_count": 27,
     "metadata": {},
     "output_type": "execute_result"
    }
   ],
   "source": [
    "exonic_increase = (results_df[\"obs_exon_cnt\"]/results_df[\"exp_exon_cnt\"]-1)*100\n",
    "exonic_increase"
   ]
  },
  {
   "cell_type": "code",
   "execution_count": 28,
   "metadata": {},
   "outputs": [
    {
     "data": {
      "text/plain": [
       "(0    8.35445\n",
       " dtype: float64, 0    8.513841\n",
       " dtype: float64)"
      ]
     },
     "execution_count": 28,
     "metadata": {},
     "output_type": "execute_result"
    }
   ],
   "source": [
    "rand_output['increase'] = (exonic_obs/rand_output['exon_Exp']-1)*100\n",
    "error = (st.stdev(rand_output['increase'].tolist())/np.sqrt(1000))\n",
    "(exonic_increase-error, exonic_increase+error)"
   ]
  },
  {
   "cell_type": "markdown",
   "metadata": {},
   "source": [
    "#### Plot results\n",
    "\n",
    "Binned average approach. Bin size is 25."
   ]
  },
  {
   "cell_type": "code",
   "execution_count": 34,
   "metadata": {},
   "outputs": [
    {
     "name": "stderr",
     "output_type": "stream",
     "text": [
      "/home/peluca/anaconda3/envs/intronexon/lib/python3.6/site-packages/ipykernel_launcher.py:20: MatplotlibDeprecationWarning: The set_axis_bgcolor function was deprecated in version 2.0. Use set_facecolor instead.\n",
      "/home/peluca/anaconda3/envs/intronexon/lib/python3.6/site-packages/matplotlib/font_manager.py:1297: UserWarning: findfont: Font family ['sans-serif'] not found. Falling back to DejaVu Sans\n",
      "  (prop.get_family(), self.defaultFamily[fontext]))\n"
     ]
    },
    {
     "data": {
      "image/png": "[encoded data removed]",
      "text/plain": [
       "<matplotlib.figure.Figure at 0x7fa49843d128>"
      ]
     },
     "metadata": {},
     "output_type": "display_data"
    }
   ],
   "source": [
    "size = 25\n",
    "\n",
    "listt = ['3mer_sample', '3mer_healthy', '3mer_autism']\n",
    "\n",
    "NROW=3\n",
    "NCOL=1\n",
    "\n",
    "axs = []\n",
    "\n",
    "fig = plt.figure(figsize=(7,4))\n",
    "\n",
    "for row in range(0, NROW):\n",
    "    for col in range(0, NCOL):\n",
    "        axs.append(plt.subplot2grid((NROW, NCOL), (row, col)))\n",
    "\n",
    "cnt=0\n",
    "for ele in listt:\n",
    "    plot_HD_BINNED(ele, axs[cnt], cnt, size)\n",
    "    cnt+=1\n",
    "    \n",
    "plt.tight_layout()\n",
    "plt.savefig(path.join('figures', 'internal_exon_centered_condition.svg'), bbox_inches='tight')\n",
    "plt.show()"
   ]
  },
  {
   "cell_type": "code",
   "execution_count": null,
   "metadata": {
    "collapsed": true
   },
   "outputs": [],
   "source": []
  }
 ],
 "metadata": {
  "anaconda-cloud": {},
  "kernelspec": {
   "display_name": "Python 3",
   "language": "python",
   "name": "python3"
  },
  "language_info": {
   "codemirror_mode": {
    "name": "ipython",
    "version": 3
   },
   "file_extension": ".py",
   "mimetype": "text/x-python",
   "name": "python",
   "nbconvert_exporter": "python",
   "pygments_lexer": "ipython3",
   "version": "3.6.1"
  }
 },
 "nbformat": 4,
 "nbformat_minor": 1
}
