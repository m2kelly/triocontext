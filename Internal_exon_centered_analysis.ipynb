{
 "cells": [
  {
   "cell_type": "markdown",
   "metadata": {},
   "source": [
    "# Internal exon centered analysis\n",
    "\n",
    "This notebook allows to compute the main analysis: the internal exon-centered analysis (as described in materials and methods). Three figures are computed here:\n",
    "\n",
    "* Main text Figure 1, Panel B (upper and lower part)\n",
    "* Supplementary Figure S2\n",
    "* Supplementary Figure S3\n",
    "\n",
    "---\n",
    "\n",
    "The data required for each plot is saved in a file and loaded before plotting. The reason is that, once the data has been generated, the plot can be created and modified without recomputing the data."
   ]
  },
  {
   "cell_type": "code",
   "execution_count": 1,
   "metadata": {
    "ExecuteTime": {
     "end_time": "2017-09-26T14:29:27.246169",
     "start_time": "2017-09-26T14:29:26.265102"
    },
    "collapsed": true
   },
   "outputs": [],
   "source": [
    "%matplotlib inline\n",
    "\n",
    "from os import path\n",
    "import math\n",
    "import pybedtools\n",
    "from bgreference import hg19\n",
    "import pandas as pd\n",
    "import matplotlib.pyplot as plt\n",
    "import numpy as np\n",
    "import numpy.polynomial.polynomial as poly\n",
    "import matplotlib.ticker as plticker\n",
    "import gzip, pickle\n",
    "import statistics as st\n",
    "\n",
    "from python_scripts.plot_functions import config_plot_params\n",
    "config_plot_params()"
   ]
  },
  {
   "cell_type": "code",
   "execution_count": 2,
   "metadata": {
    "ExecuteTime": {
     "end_time": "2017-09-26T14:29:28.363158",
     "start_time": "2017-09-26T14:29:28.349749"
    }
   },
   "outputs": [
    {
     "data": {
      "text/plain": [
       "<function python_scripts.plot_functions.config_plot_params>"
      ]
     },
     "execution_count": 2,
     "metadata": {},
     "output_type": "execute_result"
    }
   ],
   "source": [
    "config_plot_params"
   ]
  },
  {
   "cell_type": "markdown",
   "metadata": {},
   "source": [
    "## Input files\n",
    "\n",
    "Files in **data** directory.\n",
    "\n",
    "- *middle_exons_coords*: file with the coordinates of the middle exons\n",
    "- *intron_coords*: file with the coordinates of the introns\n",
    "\n",
    "Files in **results** directory.\n",
    "\n",
    "- *kmer_DNM_signatures.txt*: file with the mutational signatures\n",
    "\n",
    "### Other inputs\n",
    "\n",
    "- mutations_folder: base directory where the files with the mutations are located\n",
    "- tumor_type: id of the tumor (germinal in our case)"
   ]
  },
  {
   "cell_type": "code",
   "execution_count": 3,
   "metadata": {
    "ExecuteTime": {
     "end_time": "2017-09-26T14:29:41.008685",
     "start_time": "2017-09-26T14:29:41.001039"
    },
    "collapsed": true
   },
   "outputs": [],
   "source": [
    "# Included\n",
    "intron_coords = 'data/coordinates/genes_intron_coords.bed.gz'\n",
    "middle_exons_coords = 'data/coordinates/genes_middle_exon_coords.bed.gz'\n",
    "\n",
    "# Other\n",
    "mutations_folder = 'non_provided_data/mutations/'\n",
    "tumor_type = 'germinal'"
   ]
  },
  {
   "cell_type": "markdown",
   "metadata": {
    "collapsed": true
   },
   "source": [
    "## Functions\n",
    "\n",
    "All the functions needed for this notebook are coded below"
   ]
  },
  {
   "cell_type": "code",
   "execution_count": null,
   "metadata": {
    "collapsed": true
   },
   "outputs": [],
   "source": [
    "def remove_version_ensembl(x, colname):\n",
    "    \"\"\"\n",
    "    Remove version from the ensembl ID\n",
    "\n",
    "    Args:\n",
    "        x: dataframe row\n",
    "        colname: column name\n",
    "\n",
    "    Returns:\n",
    "        str. Text before a '.'\n",
    "\n",
    "    \"\"\"\n",
    "    ensembl_id = x[colname]\n",
    "    ensembl_id_only = ensembl_id.split('.')[0]\n",
    "\n",
    "    return ensembl_id_only"
   ]
  },
  {
   "cell_type": "code",
   "execution_count": null,
   "metadata": {
    "collapsed": true
   },
   "outputs": [],
   "source": [
    "def bin_average(count, size):\n",
    "    averaged = []\n",
    "    for i in range(0,len(count),size):\n",
    "        mean = np.mean(count[i:i+size])\n",
    "        averaged.extend([mean for i in range(len(count[i:i+size]))])\n",
    "    return(pd.Series(averaged))"
   ]
  },
  {
   "cell_type": "code",
   "execution_count": null,
   "metadata": {
    "collapsed": true
   },
   "outputs": [],
   "source": [
    "def plot_HD(cluster, ax, cnt):\n",
    "    \n",
    "    # read observed and backgruond data directly\n",
    "    filename = \"results/exons_centered_%s.tsv\" % (cluster)\n",
    "    \n",
    "    if path.isfile(filename):\n",
    "    \n",
    "        data = pd.read_csv(filename, sep=\"\\t\")\n",
    "    \n",
    "        coefs = poly.polyfit(data['position'], data['muts_count'], 50)\n",
    "        ffit = poly.polyval(data['position'], coefs)\n",
    "\n",
    "        ax.plot(data['position'],\n",
    "                 data['muts_count'], '#e41a1c', alpha=0.5, linewidth=0.7)\n",
    "        ax.plot(data['position'], ffit, '#e41a1c', linewidth=1)\n",
    "\n",
    "        coefs2 = poly.polyfit(data['position'], data['expected_muts'], 50)\n",
    "        ffit2 = poly.polyval(data['position'], coefs2)\n",
    "        ax.plot(data['position'], ffit2, 'black', linewidth=1, ls=\"--\")\n",
    "\n",
    "        ax.set_axis_bgcolor('none')\n",
    "\n",
    "        # show the left spline\n",
    "        for axis in ['right', 'top']:\n",
    "            ax.spines[axis].set_visible(False)\n",
    "\n",
    "        # add gap between x- and y-axis\n",
    "        for axis in ['bottom', 'left']:\n",
    "            ax.spines[axis].set_position(('axes', -0.03))\n",
    "\n",
    "        ax.yaxis.major.locator.set_params(nbins=4)\n",
    "        ax.yaxis.set_ticks_position('left')\n",
    "        ax.xaxis.set_ticks_position('bottom')\n",
    "        ax.set_xlim(-1000, 1000)\n",
    "        # add axis label\n",
    "        if cnt in [0, 3]:\n",
    "            ax.set_ylabel('Number of mutations')\n",
    "        if cnt >=3:\n",
    "            ax.set_xlabel('Distance from exon center (bp)')"
   ]
  },
  {
   "cell_type": "code",
   "execution_count": null,
   "metadata": {
    "collapsed": true
   },
   "outputs": [],
   "source": [
    "def plot_HD_BINNED(cluster, ax, cnt, size):\n",
    "    \n",
    "    # read observed and backgruond data directly\n",
    "    filename = \"results/exons_centered_%s.tsv\" % (cluster)\n",
    "    \n",
    "    if path.isfile(filename):\n",
    "    \n",
    "        data = pd.read_csv(filename, sep=\"\\t\")\n",
    "        \n",
    "        bin_obs = bin_average(data['muts_count'], size)\n",
    "\n",
    "        ax.plot(data['position'],\n",
    "                 data['muts_count'], '#e41a1c', alpha=0.5, linewidth=0.7)\n",
    "        ax.plot(data['position'], bin_obs, '#e41a1c', linewidth=1)\n",
    "\n",
    "        bin_exp = bin_average(data['expected_muts'], size)\n",
    "\n",
    "        ax.plot(data['position'], bin_exp, 'black', linewidth=1)\n",
    "\n",
    "        ax.set_axis_bgcolor('none')\n",
    "\n",
    "        # show the left spline\n",
    "        for axis in ['right', 'top']:\n",
    "            ax.spines[axis].set_visible(False)\n",
    "\n",
    "        # add gap between x- and y-axis\n",
    "        for axis in ['bottom', 'left']:\n",
    "            ax.spines[axis].set_position(('axes', -0.03))\n",
    "\n",
    "        ax.yaxis.major.locator.set_params(nbins=4)\n",
    "        ax.yaxis.set_ticks_position('left')\n",
    "        ax.xaxis.set_ticks_position('bottom')\n",
    "        ax.set_xlim(-1000, 1000)\n",
    "        # add axis label\n",
    "        if cnt in [0, 3]:\n",
    "            ax.set_ylabel('Number of mutations')\n",
    "        if cnt >=3:\n",
    "            ax.set_xlabel('Distance from exon center (bp)')"
   ]
  },
  {
   "cell_type": "code",
   "execution_count": 8,
   "metadata": {
    "collapsed": true
   },
   "outputs": [],
   "source": [
    "def plot(file, output):\n",
    "\n",
    "    my_complete_results = pd.read_csv(path.join('results', file), sep=\"\\t\")\n",
    "\n",
    "    config_plot_params()\n",
    "    fig = plt.figure(figsize=(2.25, 1.9))\n",
    "    ax = plt.subplot2grid((1, 1), (0, 0))\n",
    "\n",
    "    # Observed\n",
    "    coefs = poly.polyfit(my_complete_results['position'], my_complete_results['muts_count'], 50)\n",
    "    ffit = poly.polyval(my_complete_results['position'], coefs)\n",
    "\n",
    "\n",
    "    ax.plot(my_complete_results['position'], my_complete_results['muts_count'], '#e41a1c', alpha=0.5, linewidth=1)\n",
    "    ax.plot(my_complete_results['position'], ffit, '#e41a1c', linewidth=1)\n",
    "\n",
    "    # Expected\n",
    "    coefs2 = poly.polyfit(my_complete_results['position'], my_complete_results['expected_muts'], 50)\n",
    "    ffit2 = poly.polyval(my_complete_results['position'], coefs2)\n",
    "\n",
    "    ax.plot(my_complete_results['position'], ffit2, 'black', linewidth=1)\n",
    "\n",
    "    ax.set_facecolor('none')\n",
    "\n",
    "    # show the left spline\n",
    "    for axis in ['right', 'top']:\n",
    "        ax.spines[axis].set_visible(False)\n",
    "\n",
    "    # add gap between x- and y-axis\n",
    "    for axis in ['bottom', 'left']:\n",
    "        ax.spines[axis].set_position(('axes', -0.03))\n",
    "    \n",
    "    ax.yaxis.major.locator.set_params(nbins=4)\n",
    "    ax.yaxis.set_ticks_position('left')\n",
    "    ax.xaxis.set_ticks_position('bottom')\n",
    "\n",
    "    ax.set_xlabel('Distance from exon center (bp)')\n",
    "    ax.set_ylabel('Number of mutations')\n",
    "\n",
    "    ax.set_xlim(-1000, 1000)\n",
    "    ax.set_ylim(10, 60)\n",
    "\n",
    "    ax.set_title(\"Germline cells (n = 11,237 trios)\")\n",
    "\n",
    "    plt.savefig(path.join('figures', output), bbox_inches='tight')\n",
    "    plt.show()"
   ]
  },
  {
   "cell_type": "code",
   "execution_count": 9,
   "metadata": {
    "collapsed": true
   },
   "outputs": [],
   "source": [
    "def obs_exp_muts_kmer(mutations_df, exon_coords_df, tumor_type, middle_distance_threshold, k, signatures_file):\n",
    "    \"\"\"\n",
    "    Get positions of the exons that correspond to the central position and a number of base pair\n",
    "    equal to middle_distance_threshold on each side\n",
    "    Compute the number of mutations per position under analysis.\n",
    "    For each of the relative positions, compute the sum of the probabilities of each possible alteration\n",
    "    taking into account its context (using the values of the signatures_file) wheighted by the\n",
    "    number of observed mutations (MODIFIED FROM FRIGOLA ET AL.).\n",
    "\n",
    "    Args:\n",
    "\n",
    "    Returns:\n",
    "        :class:`~pandas.DataFrame`. Table with the relative position (to the exon center)\n",
    "        the number of mutations observed and expected in that position.\n",
    "\n",
    "    \"\"\"\n",
    "    nucleotides = set(['A', 'T', 'C', 'G'])\n",
    "    \n",
    "    # Get signatures\n",
    "    all_signatures = pd.read_csv(signatures_file, sep='\\t')\n",
    "    probability_name = 'Probability_' + tumor_type\n",
    "    sub_signatures_df = all_signatures[['mutation', probability_name]]\n",
    "    signatures_dict = sub_signatures_df.set_index('mutation').T.to_dict()\n",
    "    \n",
    "    # Convert mutations into bed to intersect values\n",
    "    mutations_bed = pybedtools.BedTool.from_dataframe(mutations_df)\n",
    "\n",
    "    # Process exonic coordinates to get the 2001-nt region coords and convert into bed\n",
    "    ## Positions that correspond to the center of the exons\n",
    "    exon_coords_df['exon_size'] = (exon_coords_df['end'] - exon_coords_df['start'])\n",
    "    exon_coords_df['exon_middle_start'] = (exon_coords_df['start'] + exon_coords_df['exon_size']/2)\n",
    "    exon_coords_df['exon_middle_start'] = exon_coords_df.apply(lambda x: math.floor(x['exon_middle_start']), axis=1)\n",
    "    \n",
    "    ## Positions around the middle point\n",
    "    exon_coords_df['exon_middle_end'] = exon_coords_df['exon_middle_start'] + 1\n",
    "    exon_coords_df['region_start'] = exon_coords_df['exon_middle_start'] - middle_distance_threshold\n",
    "    exon_coords_df['region_end'] = exon_coords_df['exon_middle_end'] + middle_distance_threshold\n",
    "    region_coords = exon_coords_df[['chr', 'region_start', 'region_end', 'ensembl',\n",
    "                                          'exon_size', 'exon_middle_start', 'exon_middle_end', 'start', 'end']]\n",
    "    region_coords_bed = pybedtools.BedTool.from_dataframe(region_coords)\n",
    "\n",
    "    # Filter mutations by the full region of interest\n",
    "    my_bed = region_coords_bed.intersect(mutations_bed, wao=True)\n",
    "\n",
    "    mutations_in_range = pd.read_table(my_bed.fn, names = ['range_chr', 'range_start', 'range_end',\n",
    "                        'ensembl','region_size', 'region_middle_start', 'region_middle_end',\n",
    "                        'exon_start', 'exon_end', 'mut_chr', 'mut_start', 'mut_end', 'mut_ref', 'mut_alt',\n",
    "                        'mut_sample', 'mut_type', 'mut_ID', 'overlap_bp'],  sep=\"\\s+\", index_col=False)\n",
    "    mutations_in_range = mutations_in_range[mutations_in_range['overlap_bp'] != 0]\n",
    "    print(\"The total amount of mutations at the middle exon-centered sequences is \" +\n",
    "          str(len(mutations_in_range.index)))\n",
    "    \n",
    "    # Count observed mutations\n",
    "    ## Create a dictionary of all observed positions at the range of the middle exon-centered window\n",
    "    mutations_in_range['relative_start'] = mutations_in_range['mut_start'] - mutations_in_range['region_middle_start']\n",
    "    exon_counts = mutations_in_range['relative_start'].value_counts().to_dict()\n",
    "    \n",
    "    ## Set count to 0 were no mutation has been found\n",
    "    for i in range(-middle_distance_threshold, middle_distance_threshold):\n",
    "        if i not in exon_counts.keys():\n",
    "            exon_counts[i] = 0\n",
    "    \n",
    "    ## Count mutations for every position with reported counts\n",
    "    my_exon_results_lol = list()\n",
    "    for my_position in exon_counts.keys():\n",
    "        my_count = exon_counts[my_position]\n",
    "        my_exon_results_lol.append([my_position, my_count])\n",
    "\n",
    "    my_exon_results_df = pd.DataFrame(my_exon_results_lol)\n",
    "    my_exon_results_df.columns = ['position', 'muts_count']\n",
    "    my_exon_results_df = my_exon_results_df.sort_values(by='position')\n",
    "    \n",
    "    # For each exonic region under analysis\n",
    "    # Get its relative position to the center of the exone\n",
    "    # Add the probability that is the sum of the probabilities of\n",
    "    final_position_prob_df = pd.DataFrame()\n",
    "    for my_row in region_coords.values.tolist(): ###FOR EACH EXON, EACH ROW, EACH 2001-nt SEQUENCE\n",
    "        position_prob_lol = list()\n",
    "        \n",
    "        ## Get coordinates\n",
    "        my_chr = my_row[0]\n",
    "        my_start = int(my_row[1])\n",
    "        my_end = int(my_row[2])\n",
    "        n_bases = my_end - my_start\n",
    "        \n",
    "        ## Delimit mutations in the range of that specific middle exon-centered sequence\n",
    "        my_region_muts = len(mutations_in_range[(mutations_in_range['range_start'] >= my_start) &\n",
    "                               (mutations_in_range['range_end'] <= my_end) &\n",
    "                               (mutations_in_range['range_chr'] == my_chr)])\n",
    "        ## If no mutations are reported for that specific middle exon-centered sequence, skip to the next one.\n",
    "        if my_region_muts == 0:\n",
    "            continue\n",
    "            \n",
    "        ## If not, get sequence.\n",
    "        my_exon_bases = hg19(my_chr, my_start+1-(k//2), size=n_bases+2*(k//2))\n",
    "        ## Divide sequences into kmers\n",
    "        my_kmers = [my_exon_bases[i:i+k] for i in range(len(my_exon_bases)-(k-1))]\n",
    "        \n",
    "        i = 0\n",
    "        ## Foreach kmer\n",
    "        for my_kmer in my_kmers:\n",
    "            my_ref_base = my_kmer[(k//2):(k//2)+1].upper() #Get the reference\n",
    "            my_alt_bases = nucleotides - set(my_ref_base) #The rest are alternative ones\n",
    "            my_base_probs = 0\n",
    "            previous_base = my_kmer[0:(k//2)] #Get previous and next base\n",
    "            next_base = my_kmer[(k//2)+1:]\n",
    "            \n",
    "            ### Foreach alternative, each of the three possible changes given a kmer.\n",
    "            for alt_base in my_alt_bases:\n",
    "                #### Built reference and alternate kmers\n",
    "                tri_ref = previous_base + str(my_ref_base) + next_base\n",
    "                tri_alt = previous_base + str(alt_base) + next_base\n",
    "                #### Create key for the signature dictionary\n",
    "                my_key = str((tri_ref, tri_alt))\n",
    "                try:\n",
    "                    ##### Add the probability of the three possible changes\n",
    "                    my_prob = signatures_dict[my_key]['Probability_' + tumor_type]\n",
    "                    my_base_probs = my_base_probs + my_prob\n",
    "                except:\n",
    "                    None\n",
    "            \n",
    "            ### Add the position in the 2001-nt window with the correspondent probability to a list\n",
    "            normalized_i = i - middle_distance_threshold\n",
    "            my_row = [normalized_i, my_base_probs]\n",
    "            position_prob_lol.append(my_row)\n",
    "            i += 1\n",
    "        \n",
    "        ## Convert the list to a dataframe\n",
    "        position_prob_df = pd.DataFrame(position_prob_lol)\n",
    "        position_prob_df.columns = ['position', 'probability']\n",
    "        \n",
    "        ## Reescaling probabilities to one\n",
    "        my_total = sum(position_prob_df['probability'])\n",
    "        position_prob_df['probability'] = position_prob_df['probability']/my_total\n",
    "        \n",
    "        ## Compute the expected by redistributing the total number of mutations in the 2001-nt \n",
    "        ## sequence according to the probabilities\n",
    "        position_prob_df['expected_muts'] = position_prob_df['probability']*my_region_muts\n",
    "        position_prob_df = position_prob_df[['position', 'expected_muts']]\n",
    "        \n",
    "        # Sum the expected results\n",
    "        if len(final_position_prob_df) == 0:\n",
    "            final_position_prob_df = position_prob_df\n",
    "        else:\n",
    "            final_position_prob_df['expected_muts'] = (final_position_prob_df['expected_muts'] +\n",
    "                                                       position_prob_df['expected_muts'])\n",
    "    \n",
    "    return pd.merge(my_exon_results_df, final_position_prob_df, on='position')"
   ]
  },
  {
   "cell_type": "code",
   "execution_count": null,
   "metadata": {
    "collapsed": true
   },
   "outputs": [],
   "source": [
    "def obs_exp_muts_kmer_CCDS(mutations_df, exon_coords_df, tumor_type, middle_distance_threshold, k, signatures_file):\n",
    "    \"\"\"\n",
    "    Get positions of the exons that correspond to the central position and a number of base pair\n",
    "    equal to middle_distance_threshold on each side\n",
    "    Compute the number of mutations per position under analysis.\n",
    "    For each of the relative positions, compute the sum of the probabilities of each possible alteration\n",
    "    taking into account its context (using the values of the signatures_file) wheighted by the\n",
    "    number of observed mutations (MODIFIED FROM FRIGOLA ET AL.).\n",
    "\n",
    "    Args:\n",
    "\n",
    "    Returns:\n",
    "        :class:`~pandas.DataFrame`. Table with the relative position (to the exon center)\n",
    "        the number of mutations observed and expected in that position.\n",
    "\n",
    "    \"\"\"\n",
    "    nucleotides = set(['A', 'T', 'C', 'G'])\n",
    "    \n",
    "    # Get signatures\n",
    "    all_signatures = pd.read_csv(signatures_file, sep='\\t')\n",
    "    probability_name = 'Probability_' + tumor_type\n",
    "    sub_signatures_df = all_signatures[['mutation', probability_name]]\n",
    "    signatures_dict = sub_signatures_df.set_index('mutation').T.to_dict()\n",
    "    \n",
    "    # Convert mutations into bed to intersect values\n",
    "    mutations_bed = pybedtools.BedTool.from_dataframe(mutations_df)\n",
    "\n",
    "    # Process exonic coordinates to get the 2001-nt region coords and convert into bed\n",
    "    ## Positions that correspond to the center of the exons\n",
    "    exon_coords_df['exon_size'] = (exon_coords_df['end'] - exon_coords_df['start'])\n",
    "    exon_coords_df['exon_middle_start'] = (exon_coords_df['start'] + exon_coords_df['exon_size']/2)\n",
    "    exon_coords_df['exon_middle_start'] = exon_coords_df.apply(lambda x: math.floor(x['exon_middle_start']), axis=1)\n",
    "    \n",
    "    ## Positions around the middle point\n",
    "    exon_coords_df['exon_middle_end'] = exon_coords_df['exon_middle_start'] + 1\n",
    "    exon_coords_df['region_start'] = exon_coords_df['exon_middle_start'] - middle_distance_threshold\n",
    "    exon_coords_df['region_end'] = exon_coords_df['exon_middle_end'] + middle_distance_threshold\n",
    "    region_coords = exon_coords_df[['chr', 'region_start', 'region_end', 'ensembl',\n",
    "                                          'exon_size', 'exon_middle_start', 'exon_middle_end', 'start', 'end', 'strand']]\n",
    "    region_coords_bed = pybedtools.BedTool.from_dataframe(region_coords)\n",
    "\n",
    "    # Filter mutations by the full region of interest\n",
    "    my_bed = region_coords_bed.intersect(mutations_bed, wao=True)\n",
    "\n",
    "    mutations_in_range = pd.read_table(my_bed.fn, names = ['range_chr', 'range_start', 'range_end',\n",
    "                        'ensembl','region_size', 'region_middle_start', 'region_middle_end',\n",
    "                        'exon_start', 'exon_end', 'exon_strand', 'mut_chr', 'mut_start', 'mut_end', 'mut_ref', 'mut_alt',\n",
    "                        'mut_sample', 'mut_type', 'mut_ID', 'overlap_bp'],  sep=\"\\s+\", index_col=False)\n",
    "    mutations_in_range = mutations_in_range[mutations_in_range['overlap_bp'] != 0]\n",
    "    print(\"The total amount of mutations at the middle exon-centered sequences is \" +\n",
    "          str(len(mutations_in_range.index)))\n",
    "    \n",
    "    # Count observed mutations\n",
    "    ## Create a dictionary of all observed positions at the range of the middle exon-centered window\n",
    "    mutations_in_range['relative_start'] = mutations_in_range['mut_start'] - mutations_in_range['region_middle_start']\n",
    "    exon_counts = mutations_in_range['relative_start'].value_counts().to_dict()\n",
    "    \n",
    "    ## Set count to 0 were no mutation has been found\n",
    "    for i in range(-middle_distance_threshold, middle_distance_threshold):\n",
    "        if i not in exon_counts.keys():\n",
    "            exon_counts[i] = 0\n",
    "    \n",
    "    ## Count mutations for every position with reported counts\n",
    "    my_exon_results_lol = list()\n",
    "    for my_position in exon_counts.keys():\n",
    "        my_count = exon_counts[my_position]\n",
    "        my_exon_results_lol.append([my_position, my_count])\n",
    "\n",
    "    my_exon_results_df = pd.DataFrame(my_exon_results_lol)\n",
    "    my_exon_results_df.columns = ['position', 'muts_count']\n",
    "    my_exon_results_df = my_exon_results_df.sort_values(by='position')\n",
    "    \n",
    "    # For each exonic region under analysis\n",
    "    # Get its relative position to the center of the exone\n",
    "    # Add the probability that is the sum of the probabilities of\n",
    "    final_position_prob_df = pd.DataFrame()\n",
    "    for my_row in region_coords.values.tolist(): ###FOR EACH EXON, EACH ROW, EACH 2001-nt SEQUENCE\n",
    "        position_prob_lol = list()\n",
    "        \n",
    "        ## Get coordinates\n",
    "        my_chr = my_row[0]\n",
    "        my_start = int(my_row[1])\n",
    "        my_end = int(my_row[2])\n",
    "        n_bases = my_end - my_start\n",
    "        my_strand = str(my_coord[9])\n",
    "        \n",
    "        ## Delimit mutations in the range of that specific middle exon-centered sequence\n",
    "        my_region_muts = len(mutations_in_range[(mutations_in_range['range_start'] >= my_start) &\n",
    "                               (mutations_in_range['range_end'] <= my_end) &\n",
    "                               (mutations_in_range['range_chr'] == my_chr)])\n",
    "        ## If no mutations are reported for that specific middle exon-centered sequence, skip to the next one.\n",
    "        if my_region_muts == 0:\n",
    "            continue\n",
    "            \n",
    "        ## If not, get sequence.\n",
    "        my_exon_bases = hg19(my_chr, my_start+1-(k//2), size=n_bases+2*(k//2))\n",
    "                ## Check strand, now is taken into account reverse complementary:\n",
    "        if my_strand == '-':\n",
    "            my_exon_bases = rev_comp(my_exon_bases)\n",
    "        \n",
    "        ## Divide sequences into kmers\n",
    "        my_kmers = [my_exon_bases[i:i+k] for i in range(len(my_exon_bases)-(k-1))]\n",
    "        \n",
    "        ## Now is taken into account reverse complementary:\n",
    "        if my_strand == '+':\n",
    "            i = 0\n",
    "            for my_kmer in my_kmers:\n",
    "                my_core = my_kmer[(k//2)-(h//2):(k//2)+(h//2)+1].upper() #Get the reference\n",
    "                my_base_probs = decomp_prob(k, mut_matrixes[cores_dict[my_core]],\n",
    "                                        kmer_matrixes[cores_dict[my_core]], my_kmer, h)\n",
    "                    \n",
    "            \n",
    "                ### Add the position in the 2001-nt window with the correspondent probability to a list\n",
    "                normalized_i = i - middle_distance_threshold\n",
    "                my_row = [normalized_i, my_base_probs]\n",
    "                position_prob_lol.append(my_row)\n",
    "                i += 1\n",
    "                \n",
    "                \n",
    "        else:\n",
    "            i = middle_distance_threshold*2\n",
    "            for my_kmer in my_kmers:\n",
    "                my_core = my_kmer[(k//2)-(h//2):(k//2)+(h//2)+1].upper() #Get the reference\n",
    "                my_base_probs = decomp_prob(k, mut_matrixes[cores_dict[my_core]],\n",
    "                                        kmer_matrixes[cores_dict[my_core]], my_kmer, h)\n",
    "                    \n",
    "            \n",
    "                ### Add the position in the 2001-nt window with the correspondent probability to a list\n",
    "                normalized_i = i - middle_distance_threshold\n",
    "                my_row = [normalized_i, my_base_probs]\n",
    "                position_prob_lol.append(my_row)\n",
    "                i -= 1\n",
    "        \n",
    "        ## Convert the list to a dataframe\n",
    "        position_prob_df = pd.DataFrame(position_prob_lol)\n",
    "        position_prob_df.columns = ['position', 'probability']\n",
    "        \n",
    "        ## Reescaling probabilities to one\n",
    "        my_total = sum(position_prob_df['probability'])\n",
    "        position_prob_df['probability'] = position_prob_df['probability']/my_total\n",
    "        \n",
    "        ## Compute the expected by redistributing the total number of mutations in the 2001-nt \n",
    "        ## sequence according to the probabilities\n",
    "        position_prob_df['expected_muts'] = position_prob_df['probability']*my_region_muts\n",
    "        position_prob_df = position_prob_df[['position', 'expected_muts']]\n",
    "        \n",
    "        ## Before summing expected, we need to rearrange order so reverse complementary positions work\n",
    "        if my_strand == '-':\n",
    "            position_prob_df = position_prob_df.sort_values('position', ascending=True)\n",
    "        \n",
    "        # Sum the expected results\n",
    "        if len(final_position_prob_df) == 0:\n",
    "            final_position_prob_df = position_prob_df\n",
    "        else:\n",
    "            final_position_prob_df['expected_muts'] = (final_position_prob_df['expected_muts'] +\n",
    "                                                       position_prob_df['expected_muts'])\n",
    "    \n",
    "    return pd.merge(my_exon_results_df, final_position_prob_df, on='position')"
   ]
  },
  {
   "cell_type": "code",
   "execution_count": null,
   "metadata": {
    "collapsed": true
   },
   "outputs": [],
   "source": [
    "def stacked_sequence_level_permutation(mutations_df, exons_coords_symbol_df, signatures_file, tumor_type,\n",
    "                                       middle_distance_threshold, k):\n",
    "    \"\"\"\n",
    "    Get the co-ordinates of exons and flanking intronic sequences and perform the random sampling of mutations\n",
    "    (1000 times) with the size equal of the number of mutation observed in the 2001-nt window (exon and intron\n",
    "    together).\n",
    "    \n",
    "    Args:\n",
    "        \n",
    "    Returns:\n",
    "        \n",
    "\n",
    "    \"\"\"\n",
    "    \n",
    "    nucleotides = set(['A', 'T', 'C', 'G'])\n",
    "    \n",
    "    # Get signatures\n",
    "    all_signatures = pd.read_csv(signatures_file, sep='\\t')\n",
    "    probability_name = 'Probability_' + tumor_type\n",
    "    sub_signatures_df = all_signatures[['mutation', probability_name]]\n",
    "    signatures_dict = sub_signatures_df.set_index('mutation').T.to_dict()\n",
    "    \n",
    "    # Create bed of the selected mutations\n",
    "    sub_mutations_df = mutations_df[['chr', 'start', 'end', 'sample']]\n",
    "    mutations_bed = pybedtools.BedTool.from_dataframe(sub_mutations_df)\n",
    "    \n",
    "    exons_coords_symbol_df['exon_size'] = (exons_coords_symbol_df['end'] - exons_coords_symbol_df['start'])\n",
    "    exons_coords_symbol_df['exon_middle_start'] = (exons_coords_symbol_df['start'] +\n",
    "                                        exons_coords_symbol_df['exon_size']/2)\n",
    "    exons_coords_symbol_df['exon_middle_start'] = exons_coords_symbol_df.apply(lambda x:\n",
    "                                        math.floor(x['exon_middle_start']), axis=1)\n",
    "\n",
    "    exons_coords_symbol_df['exon_middle_end'] = exons_coords_symbol_df['exon_middle_start'] + 1\n",
    "    exons_coords_symbol_df['region_start'] = exons_coords_symbol_df['exon_middle_start'] - middle_distance_threshold\n",
    "    exons_coords_symbol_df['region_end'] = exons_coords_symbol_df['exon_middle_end'] + middle_distance_threshold\n",
    "    \n",
    "    # Left flank \"intronic\" sequences => region_start and start froom coordinates.\n",
    "    intron1_df = exons_coords_symbol_df[['chr', 'region_start', 'start', 'ID']]\n",
    "    ## The region may span less than the centered exonic sequence. Only take left flank intronic coordinates with sense.\n",
    "    intron1_df = intron1_df[intron1_df['region_start'] <= intron1_df['start']]\n",
    "    intron1_df.columns = ['chr', 'start', 'end', 'ID']\n",
    "    \n",
    "    # Right flank \"intronic\" sequences\n",
    "    intron2_df = exons_coords_symbol_df[['chr', 'end', 'region_end', 'ID']]\n",
    "    ## The region may span less than the centered exonic sequence. Only take right flank intronic coordinates with sense.\n",
    "    intron2_df = intron2_df[intron2_df['end'] <= intron2_df['region_end']]\n",
    "    intron2_df.columns = ['chr', 'start', 'end', 'ID']\n",
    "    ## Take them together\n",
    "    intron_df = pd.concat([intron1_df, intron2_df])\n",
    "    intron_df['label'] = 'intron'\n",
    "\n",
    "    # Exonic sequences\n",
    "    all_exon_df = exons_coords_symbol_df[['chr', 'start', 'end', 'ID', 'region_start', 'region_end']]\n",
    "    ## The region may span less than the centered exonic sequence. Process exons that surpass the region size.\n",
    "    large_exon_df = all_exon_df[(all_exon_df['end']-all_exon_df['start']) > (2*middle_distance_threshold+1)]\n",
    "    large_exon_df = large_exon_df[['chr', 'region_start', 'region_end', 'ID']]\n",
    "    large_exon_df.columns = ['chr', 'start', 'end', 'ID']\n",
    "    ## The region may span less than the centered exonic sequence. Process exons that do not surpass the region size.\n",
    "    short_exon_df = all_exon_df[(all_exon_df['end']-all_exon_df['start']) <= (2*middle_distance_threshold+1)]\n",
    "    short_exon_df = short_exon_df[['chr', 'start', 'end', 'ID']]\n",
    "    short_exon_df.columns = ['chr', 'start', 'end', 'ID']\n",
    "    ## Take them together\n",
    "    exon_df = pd.concat([short_exon_df, large_exon_df])\n",
    "    exon_df['label'] = 'exon'\n",
    "    \n",
    "    # Merge exons and introns\n",
    "    coords_symbol_df = pd.concat([exon_df, intron_df])\n",
    "    coords_symbol_bed = pybedtools.BedTool.from_dataframe(coords_symbol_df)\n",
    "\n",
    "    # Filter mutations by the position of interest\n",
    "    my_bed = coords_symbol_bed.intersect(mutations_bed, wo=True)\n",
    "\n",
    "    mutations_mapped = pd.read_table(my_bed.fn, names = ['chr', 'start', 'end', 'ID','label', 'mut_chr',\n",
    "                                    'mut_start', 'mut_end', 'sample', 'overlap_bp'],  sep=\"\\s+\", index_col=False)\n",
    "    \n",
    "    print(\"Total amount of mutations at the middle exon-centered sequences is \"+ str(len(mutations_mapped)))\n",
    "    exonic_obs = mutations_mapped[mutations_mapped['label'] == 'exon'].shape[0]\n",
    "    intronic_obs = mutations_mapped[mutations_mapped['label'] == 'intron'].shape[0]\n",
    "    print(\"Observed at middle exons: \" + str(exonic_obs))\n",
    "    print(\"Observed at flanking introns: \" + str(intronic_obs))\n",
    "    \n",
    "    # Compute expected mutation by randomization approach\n",
    "    RANDOMIZATION = 1000\n",
    "\n",
    "    collect_rand = {}\n",
    "    # Initialize dictionary\n",
    "    for sam in range(0, RANDOMIZATION):\n",
    "        collect_rand[sam] = {}\n",
    "        collect_rand[sam]['exon_Exp'] = 0\n",
    "        collect_rand[sam]['intron_Exp'] = 0\n",
    "\n",
    "    # For each unique staked exon-centered sequence with one or more mutations\n",
    "    for gene in mutations_mapped['ID'].unique():\n",
    "        position_prob_lol = list()\n",
    "        label_flag_lol = list()\n",
    "        \n",
    "        # Take the exonic and the flanking intronic sequences.\n",
    "        for dx, row in coords_symbol_df[coords_symbol_df['ID']==gene].iterrows():\n",
    "            my_chr = row['chr'][3:]\n",
    "            my_start = int(row['start'])\n",
    "            my_end = int(row['end'])\n",
    "            n_bases = my_end - my_start\n",
    "\n",
    "            ## Get sequence.\n",
    "            my_exon_bases = hg19(my_chr, my_start+1-(k//2), size=n_bases+2*(k//2))\n",
    "            ## Divide sequences into kmers\n",
    "            my_kmers = [my_exon_bases[i:i+k] for i in range(len(my_exon_bases)-(k-1))]\n",
    "            \n",
    "            label_flag = 0 # to mark intron vs exon\n",
    "            if row['label']=='exon':\n",
    "                label_flag = 1 \n",
    "\n",
    "            ## Foreach kmer\n",
    "            for my_kmer in my_kmers:\n",
    "                my_ref_base = my_kmer[(k//2):(k//2)+1].upper() #Get the reference\n",
    "                my_alt_bases = nucleotides - set(my_ref_base) #The rest are alternative ones\n",
    "                my_base_probs = 0\n",
    "                previous_base = my_kmer[0:(k//2)] #Get previous and next base\n",
    "                next_base = my_kmer[(k//2)+1:]\n",
    "            \n",
    "                ### Foreach alternative, each of the three possible changes given a kmer.\n",
    "                for alt_base in my_alt_bases:\n",
    "                    #### Built reference and alternate kmers\n",
    "                    tri_ref = previous_base + str(my_ref_base) + next_base\n",
    "                    tri_alt = previous_base + str(alt_base) + next_base\n",
    "                    #### Create key for the signature dictionary\n",
    "                    my_key = str((tri_ref, tri_alt))\n",
    "                    try:\n",
    "                        ##### Add the probability of the three possible changes\n",
    "                        my_prob = signatures_dict[my_key]['Probability_' + tumor_type]\n",
    "                        my_base_probs = my_base_probs + my_prob\n",
    "                    except:\n",
    "                        None      \n",
    "                \n",
    "                position_prob_lol.append(my_base_probs)\n",
    "                label_flag_lol.append(label_flag)\n",
    "            \n",
    "        # Total number of mutations falling in the stacked sequence.\n",
    "        mutcnt = len(mutations_mapped[mutations_mapped['ID']==gene])\n",
    "        # Normalize the probability vector and perform sampling\n",
    "        prb_vector = np.array(position_prob_lol)\n",
    "        prb_vector = prb_vector/prb_vector.sum()\n",
    "        label_vector = np.array(label_flag_lol)\n",
    "        mutation_rand_label = np.random.choice(label_vector, size=mutcnt*RANDOMIZATION, replace=True, p=prb_vector)\n",
    "        \n",
    "        # Save the mutation count for each randomization\n",
    "        for sam in range(0, RANDOMIZATION):\n",
    "            start = int(mutcnt*sam)\n",
    "            # count for one random sampling\n",
    "            count = np.unique(mutation_rand_label[start:(start+mutcnt)], return_counts=True)\n",
    "            for i in range(0, len(count[0])):\n",
    "                if count[0][i] == 1: # count of exons\n",
    "                    collect_rand[sam]['exon_Exp'] += count[1][i]\n",
    "                else: # count of introns\n",
    "                    collect_rand[sam]['intron_Exp'] += count[1][i]\n",
    "        \n",
    "    collect_df = pd.DataFrame.from_dict(collect_rand)\n",
    "    \n",
    "    return(collect_df, exonic_obs, intronic_obs)"
   ]
  },
  {
   "cell_type": "markdown",
   "metadata": {},
   "source": [
    "## Load data"
   ]
  },
  {
   "cell_type": "code",
   "execution_count": 10,
   "metadata": {
    "collapsed": true
   },
   "outputs": [],
   "source": [
    "## Get exon coordinates\n",
    "exons_coords_df = pd.read_csv(middle_exons_coords, sep=\"\\t\", header=None, low_memory=False)\n",
    "exons_coords_df.columns = ['chr', 'start', 'end', 'ensembl', 'symbol', 'strand']\n",
    "exons_coords_df = exons_coords_df[['chr', 'start', 'end', 'ensembl']]\n",
    "exons_coords_df['ensembl'] = exons_coords_df.apply(lambda x: remove_version_ensembl(x, 'ensembl'), axis=1)\n",
    "exons_coords_df.columns = ['chr', 'start', 'end', 'ensembl']\n",
    "\n",
    "## Get mutations\n",
    "mutations_file = mutations_folder + 'germinal_ultimate_dataset.bed.gz'\n",
    "mutations_df = pd.read_csv(mutations_file, sep=\"\\t\", header=None)\n",
    "mutations_df.columns = ['chr', 'start', 'end', 'ref', 'alt', 'sample', 'type', 'class']\n",
    "mutations_df = mutations_df[['chr', 'start', 'end', 'ref', 'alt', 'sample', 'type']]\n",
    "mutations_df = mutations_df[mutations_df['type'] == 'subs']\n",
    "mutations_df['ID'] = mutations_df.index + 1"
   ]
  },
  {
   "cell_type": "markdown",
   "metadata": {},
   "source": [
    "## Exons centered analysis, WG signatures: Figure 1, panel B (upper part)\n",
    "\n",
    "Following the method described in the **Exon-centered and intron-centered mutational analyses** section, for each exonic position around the center, we computed the observed and expected number of mutations."
   ]
  },
  {
   "cell_type": "code",
   "execution_count": 11,
   "metadata": {},
   "outputs": [
    {
     "ename": "KeyboardInterrupt",
     "evalue": "",
     "output_type": "error",
     "traceback": [
      "\u001b[0;31m---------------------------------------------------------------------------\u001b[0m",
      "\u001b[0;31mKeyboardInterrupt\u001b[0m                         Traceback (most recent call last)",
      "\u001b[0;32m<ipython-input-11-65f23df667e0>\u001b[0m in \u001b[0;36m<module>\u001b[0;34m()\u001b[0m\n\u001b[1;32m      4\u001b[0m \u001b[0;34m\u001b[0m\u001b[0m\n\u001b[1;32m      5\u001b[0m exons_centered_results = obs_exp_muts_kmer(mutations_df, exons_coords_df, tumor_type, \n\u001b[0;32m----> 6\u001b[0;31m                                            middle_distance_threshold, k, signatures_file)\n\u001b[0m\u001b[1;32m      7\u001b[0m \u001b[0;34m\u001b[0m\u001b[0m\n\u001b[1;32m      8\u001b[0m \u001b[0mexons_centered_results\u001b[0m\u001b[0;34m.\u001b[0m\u001b[0mto_csv\u001b[0m\u001b[0;34m(\u001b[0m\u001b[0;34m'results/exons_centered_'\u001b[0m \u001b[0;34m+\u001b[0m \u001b[0mstr\u001b[0m\u001b[0;34m(\u001b[0m\u001b[0mk\u001b[0m\u001b[0;34m)\u001b[0m \u001b[0;34m+\u001b[0m \u001b[0;34m'mer.tsv'\u001b[0m\u001b[0;34m,\u001b[0m \u001b[0msep\u001b[0m\u001b[0;34m=\u001b[0m\u001b[0;34m\"\\t\"\u001b[0m\u001b[0;34m,\u001b[0m \u001b[0mheader\u001b[0m\u001b[0;34m=\u001b[0m\u001b[0;32mTrue\u001b[0m\u001b[0;34m,\u001b[0m \u001b[0mindex\u001b[0m\u001b[0;34m=\u001b[0m\u001b[0;32mFalse\u001b[0m\u001b[0;34m)\u001b[0m\u001b[0;34m\u001b[0m\u001b[0m\n",
      "\u001b[0;32m<ipython-input-9-69de80c74d8e>\u001b[0m in \u001b[0;36mobs_exp_muts_kmer\u001b[0;34m(mutations_df, exon_coords_df, tumor_type, middle_distance_threshold, k, signatures_file)\u001b[0m\n\u001b[1;32m     41\u001b[0m \u001b[0;34m\u001b[0m\u001b[0m\n\u001b[1;32m     42\u001b[0m     \u001b[0;31m# Filter mutations by the full region of interest\u001b[0m\u001b[0;34m\u001b[0m\u001b[0;34m\u001b[0m\u001b[0m\n\u001b[0;32m---> 43\u001b[0;31m     \u001b[0mmy_bed\u001b[0m \u001b[0;34m=\u001b[0m \u001b[0mregion_coords_bed\u001b[0m\u001b[0;34m.\u001b[0m\u001b[0mintersect\u001b[0m\u001b[0;34m(\u001b[0m\u001b[0mmutations_bed\u001b[0m\u001b[0;34m,\u001b[0m \u001b[0mwao\u001b[0m\u001b[0;34m=\u001b[0m\u001b[0;32mTrue\u001b[0m\u001b[0;34m)\u001b[0m\u001b[0;34m\u001b[0m\u001b[0m\n\u001b[0m\u001b[1;32m     44\u001b[0m \u001b[0;34m\u001b[0m\u001b[0m\n\u001b[1;32m     45\u001b[0m     mutations_in_range = pd.read_table(my_bed.fn, names = ['range_chr', 'range_start', 'range_end',\n",
      "\u001b[0;32m~/anaconda3/envs/intronexon/lib/python3.6/site-packages/pybedtools/bedtool.py\u001b[0m in \u001b[0;36mdecorated\u001b[0;34m(self, *args, **kwargs)\u001b[0m\n\u001b[1;32m    804\u001b[0m             \u001b[0;31m# this calls the actual method in the first place; *result* is\u001b[0m\u001b[0;34m\u001b[0m\u001b[0;34m\u001b[0m\u001b[0m\n\u001b[1;32m    805\u001b[0m             \u001b[0;31m# whatever you get back\u001b[0m\u001b[0;34m\u001b[0m\u001b[0;34m\u001b[0m\u001b[0m\n\u001b[0;32m--> 806\u001b[0;31m             \u001b[0mresult\u001b[0m \u001b[0;34m=\u001b[0m \u001b[0mmethod\u001b[0m\u001b[0;34m(\u001b[0m\u001b[0mself\u001b[0m\u001b[0;34m,\u001b[0m \u001b[0;34m*\u001b[0m\u001b[0margs\u001b[0m\u001b[0;34m,\u001b[0m \u001b[0;34m**\u001b[0m\u001b[0mkwargs\u001b[0m\u001b[0;34m)\u001b[0m\u001b[0;34m\u001b[0m\u001b[0m\n\u001b[0m\u001b[1;32m    807\u001b[0m \u001b[0;34m\u001b[0m\u001b[0m\n\u001b[1;32m    808\u001b[0m             \u001b[0;31m# add appropriate tags\u001b[0m\u001b[0;34m\u001b[0m\u001b[0;34m\u001b[0m\u001b[0m\n",
      "\u001b[0;32m~/anaconda3/envs/intronexon/lib/python3.6/site-packages/pybedtools/bedtool.py\u001b[0m in \u001b[0;36mwrapped\u001b[0;34m(self, *args, **kwargs)\u001b[0m\n\u001b[1;32m    335\u001b[0m             stream = call_bedtools(cmds, tmp, stdin=stdin,\n\u001b[1;32m    336\u001b[0m                                    \u001b[0mcheck_stderr\u001b[0m\u001b[0;34m=\u001b[0m\u001b[0mcheck_stderr\u001b[0m\u001b[0;34m,\u001b[0m\u001b[0;34m\u001b[0m\u001b[0m\n\u001b[0;32m--> 337\u001b[0;31m                                    \u001b[0mdecode_output\u001b[0m\u001b[0;34m=\u001b[0m\u001b[0mdecode_output\u001b[0m\u001b[0;34m,\u001b[0m\u001b[0;34m\u001b[0m\u001b[0m\n\u001b[0m\u001b[1;32m    338\u001b[0m                                    )\n\u001b[1;32m    339\u001b[0m \u001b[0;34m\u001b[0m\u001b[0m\n",
      "\u001b[0;32m~/anaconda3/envs/intronexon/lib/python3.6/site-packages/pybedtools/helpers.py\u001b[0m in \u001b[0;36mcall_bedtools\u001b[0;34m(cmds, tmpfn, stdin, check_stderr, decode_output, encode_input)\u001b[0m\n\u001b[1;32m    328\u001b[0m                                  \u001b[0mstderr\u001b[0m\u001b[0;34m=\u001b[0m\u001b[0msubprocess\u001b[0m\u001b[0;34m.\u001b[0m\u001b[0mPIPE\u001b[0m\u001b[0;34m,\u001b[0m\u001b[0;34m\u001b[0m\u001b[0m\n\u001b[1;32m    329\u001b[0m                                  bufsize=BUFSIZE)\n\u001b[0;32m--> 330\u001b[0;31m             \u001b[0mstdout\u001b[0m\u001b[0;34m,\u001b[0m \u001b[0mstderr\u001b[0m \u001b[0;34m=\u001b[0m \u001b[0mp\u001b[0m\u001b[0;34m.\u001b[0m\u001b[0mcommunicate\u001b[0m\u001b[0;34m(\u001b[0m\u001b[0;34m)\u001b[0m\u001b[0;34m\u001b[0m\u001b[0m\n\u001b[0m\u001b[1;32m    331\u001b[0m             \u001b[0moutput\u001b[0m \u001b[0;34m=\u001b[0m \u001b[0mtmpfn\u001b[0m\u001b[0;34m\u001b[0m\u001b[0m\n\u001b[1;32m    332\u001b[0m             \u001b[0moutfile\u001b[0m\u001b[0;34m.\u001b[0m\u001b[0mclose\u001b[0m\u001b[0;34m(\u001b[0m\u001b[0;34m)\u001b[0m\u001b[0;34m\u001b[0m\u001b[0m\n",
      "\u001b[0;32m~/anaconda3/envs/intronexon/lib/python3.6/subprocess.py\u001b[0m in \u001b[0;36mcommunicate\u001b[0;34m(self, input, timeout)\u001b[0m\n\u001b[1;32m    824\u001b[0m                 \u001b[0mself\u001b[0m\u001b[0;34m.\u001b[0m\u001b[0mstdout\u001b[0m\u001b[0;34m.\u001b[0m\u001b[0mclose\u001b[0m\u001b[0;34m(\u001b[0m\u001b[0;34m)\u001b[0m\u001b[0;34m\u001b[0m\u001b[0m\n\u001b[1;32m    825\u001b[0m             \u001b[0;32melif\u001b[0m \u001b[0mself\u001b[0m\u001b[0;34m.\u001b[0m\u001b[0mstderr\u001b[0m\u001b[0;34m:\u001b[0m\u001b[0;34m\u001b[0m\u001b[0m\n\u001b[0;32m--> 826\u001b[0;31m                 \u001b[0mstderr\u001b[0m \u001b[0;34m=\u001b[0m \u001b[0mself\u001b[0m\u001b[0;34m.\u001b[0m\u001b[0mstderr\u001b[0m\u001b[0;34m.\u001b[0m\u001b[0mread\u001b[0m\u001b[0;34m(\u001b[0m\u001b[0;34m)\u001b[0m\u001b[0;34m\u001b[0m\u001b[0m\n\u001b[0m\u001b[1;32m    827\u001b[0m                 \u001b[0mself\u001b[0m\u001b[0;34m.\u001b[0m\u001b[0mstderr\u001b[0m\u001b[0;34m.\u001b[0m\u001b[0mclose\u001b[0m\u001b[0;34m(\u001b[0m\u001b[0;34m)\u001b[0m\u001b[0;34m\u001b[0m\u001b[0m\n\u001b[1;32m    828\u001b[0m             \u001b[0mself\u001b[0m\u001b[0;34m.\u001b[0m\u001b[0mwait\u001b[0m\u001b[0;34m(\u001b[0m\u001b[0;34m)\u001b[0m\u001b[0;34m\u001b[0m\u001b[0m\n",
      "\u001b[0;31mKeyboardInterrupt\u001b[0m: "
     ]
    }
   ],
   "source": [
    "k = 3\n",
    "middle_distance_threshold = 1000\n",
    "signatures_file = 'results/' + str(k) + 'mer_signatures_DNM_new.txt'\n",
    "\n",
    "exons_centered_results = obs_exp_muts_kmer(mutations_df, exons_coords_df, tumor_type, \n",
    "                                           middle_distance_threshold, k, signatures_file)\n",
    "\n",
    "exons_centered_results.to_csv('results/exons_centered_' + str(k) + 'mer.tsv', sep=\"\\t\", header=True, index=False)"
   ]
  },
  {
   "cell_type": "code",
   "execution_count": 12,
   "metadata": {},
   "outputs": [
    {
     "name": "stderr",
     "output_type": "stream",
     "text": [
      "/home/peluca/anaconda3/envs/intronexon/lib/python3.6/site-packages/ipykernel_launcher.py:10: RankWarning: The fit may be poorly conditioned\n",
      "  # Remove the CWD from sys.path while we load stuff.\n",
      "/home/peluca/anaconda3/envs/intronexon/lib/python3.6/site-packages/ipykernel_launcher.py:18: RankWarning: The fit may be poorly conditioned\n",
      "/home/peluca/anaconda3/envs/intronexon/lib/python3.6/site-packages/matplotlib/font_manager.py:1297: UserWarning: findfont: Font family ['sans-serif'] not found. Falling back to DejaVu Sans\n",
      "  (prop.get_family(), self.defaultFamily[fontext]))\n"
     ]
    },
    {
     "data": {
      "image/png": "[encoded data removed]",
      "text/plain": [
       "<matplotlib.figure.Figure at 0x7f8670974cc0>"
      ]
     },
     "metadata": {},
     "output_type": "display_data"
    }
   ],
   "source": [
    "plot('exons_centered_3mer.tsv', \"Internal_exon_centered.svg\")"
   ]
  },
  {
   "cell_type": "markdown",
   "metadata": {},
   "source": [
    "### Plot results\n",
    "\n",
    "Binned average approach. Bin size is 25."
   ]
  },
  {
   "cell_type": "code",
   "execution_count": null,
   "metadata": {
    "collapsed": true
   },
   "outputs": [],
   "source": [
    "size = 25\n",
    "\n",
    "listt = ['3mer']\n",
    "\n",
    "NROW=1\n",
    "NCOL=1\n",
    "\n",
    "axs = []\n",
    "\n",
    "fig = plt.figure(figsize=(7,4))\n",
    "\n",
    "for row in range(0, NROW):\n",
    "    for col in range(0, NCOL):\n",
    "        axs.append(plt.subplot2grid((NROW, NCOL), (row, col)))\n",
    "\n",
    "cnt=0\n",
    "for ele in listt:\n",
    "    plot_HD_BINNED(ele, axs[cnt], cnt, size)\n",
    "    cnt+=1\n",
    "    \n",
    "plt.tight_layout()\n",
    "plt.savefig(path.join('figures', 'internal_exon_centered_binned_HD.svg'), bbox_inches='tight')\n",
    "plt.show()"
   ]
  },
  {
   "cell_type": "markdown",
   "metadata": {},
   "source": [
    "### Plot results\n",
    "\n",
    "Polynomial fit approach."
   ]
  },
  {
   "cell_type": "code",
   "execution_count": 14,
   "metadata": {
    "scrolled": true
   },
   "outputs": [
    {
     "name": "stderr",
     "output_type": "stream",
     "text": [
      "/home/peluca/anaconda3/envs/intronexon/lib/python3.6/site-packages/ipykernel_launcher.py:10: RankWarning: The fit may be poorly conditioned\n",
      "  # Remove the CWD from sys.path while we load stuff.\n",
      "/home/peluca/anaconda3/envs/intronexon/lib/python3.6/site-packages/ipykernel_launcher.py:17: RankWarning: The fit may be poorly conditioned\n",
      "/home/peluca/anaconda3/envs/intronexon/lib/python3.6/site-packages/ipykernel_launcher.py:21: MatplotlibDeprecationWarning: The set_axis_bgcolor function was deprecated in version 2.0. Use set_facecolor instead.\n",
      "/home/peluca/anaconda3/envs/intronexon/lib/python3.6/site-packages/matplotlib/font_manager.py:1297: UserWarning: findfont: Font family ['sans-serif'] not found. Falling back to DejaVu Sans\n",
      "  (prop.get_family(), self.defaultFamily[fontext]))\n"
     ]
    },
    {
     "data": {
      "image/png": "[encoded data removed]",
      "text/plain": [
       "<matplotlib.figure.Figure at 0x7f866fffb208>"
      ]
     },
     "metadata": {},
     "output_type": "display_data"
    }
   ],
   "source": [
    "listt = ['3mer']\n",
    "\n",
    "NROW=1\n",
    "NCOL=1\n",
    "\n",
    "axs = []\n",
    "\n",
    "fig = plt.figure(figsize=(7,4))\n",
    "\n",
    "for row in range(0, NROW):\n",
    "    for col in range(0, NCOL):\n",
    "        axs.append(plt.subplot2grid((NROW, NCOL), (row, col)))\n",
    "\n",
    "cnt=0\n",
    "for ele in listt:\n",
    "    plot_HD(ele, axs[cnt], cnt)\n",
    "    cnt+=1\n",
    "    \n",
    "    \n",
    "plt.tight_layout()\n",
    "plt.savefig(path.join('figures', 'internal_exon_centered_HD.svg'), bbox_inches='tight')\n",
    "plt.show()"
   ]
  },
  {
   "cell_type": "markdown",
   "metadata": {},
   "source": [
    "## Exon intron proportion: Figure 1, panel B, (lower part)\n",
    "\n",
    "Compute the ratio of exons to introns in the positions under analysis. It is expected that in the center all base pairs belong to exons."
   ]
  },
  {
   "cell_type": "code",
   "execution_count": null,
   "metadata": {
    "collapsed": true
   },
   "outputs": [],
   "source": [
    "middle_distance_threshold = 1000\n",
    "\n",
    "# Load coordinates files\n",
    "exons_coords_df = pd.read_csv(middle_exons_coords, sep=\"\\t\", header=None, low_memory=False)\n",
    "exons_coords_df.columns = ['chr', 'start', 'end', 'ensembl', 'symbol', 'strand']\n",
    "exons_coords_df = exons_coords_df[['chr', 'start', 'end', 'ensembl']]\n",
    "exons_coords_df['ensembl'] = exons_coords_df.apply(lambda x: remove_version_ensembl(x, 'ensembl'), axis=1)\n",
    "exons_coords_df.columns = ['chr', 'start', 'end', 'ensembl']\n",
    "exons_coords_symbol_df = exons_coords_df[['chr', 'start', 'end', 'ensembl']]\n",
    "\n",
    "introns_coords_df = pd.read_csv(intron_coords, sep=\"\\t\", header=None, low_memory=False)\n",
    "introns_coords_df.columns = ['chr', 'start', 'end', 'ensembl', 'symbol', 'strand']\n",
    "introns_coords_df = introns_coords_df[['chr', 'start', 'end', 'ensembl']]\n",
    "introns_coords_df['ensembl'] = introns_coords_df.apply(lambda x: remove_version_ensembl(x, 'ensembl'), axis=1)\n",
    "introns_coords_df.columns = ['chr', 'start', 'end', 'ensembl']\n",
    "introns_coords_symbol_df = introns_coords_df[['chr', 'start', 'end', 'ensembl']]\n",
    "\n",
    "# Get the positions of interest (center of the exons and a number of bp around)\n",
    "exons_coords_symbol_df['exon_size'] = (exons_coords_symbol_df['end'] - exons_coords_symbol_df['start'])\n",
    "exons_coords_symbol_df['exon_middle_start'] = (exons_coords_symbol_df['start'] + exons_coords_symbol_df['exon_size'] / 2)\n",
    "exons_coords_symbol_df['exon_middle_start'] = exons_coords_symbol_df.apply(lambda x:\n",
    "                                                                           math.floor(x['exon_middle_start']),\n",
    "                                                                           axis=1)\n",
    "exons_coords_symbol_df['exon_middle_end'] = exons_coords_symbol_df['exon_middle_start'] + 1\n",
    "exons_coords_symbol_df['region_start'] = exons_coords_symbol_df['exon_middle_start'] - middle_distance_threshold\n",
    "exons_coords_symbol_df['region_end'] = exons_coords_symbol_df['exon_middle_end'] + middle_distance_threshold\n",
    "\n",
    "sub_exons_coords = exons_coords_symbol_df[['chr', 'region_start', 'region_end', 'ensembl',\n",
    "                                           'exon_size', 'exon_middle_start',\n",
    "                                           'exon_middle_end']]\n",
    "\n",
    "region_coords_bed = pybedtools.BedTool.from_dataframe(sub_exons_coords)\n",
    "exons_coords_bed = pybedtools.BedTool.from_dataframe(exons_coords_symbol_df[['chr', 'start', 'end']])\n",
    "introns_coords_bed = pybedtools.BedTool.from_dataframe(introns_coords_symbol_df[['chr', 'start', 'end']])\n",
    "\n",
    "# Intersect the coordinates with the exons and introns\n",
    "region_exons_bed = region_coords_bed.intersect(exons_coords_bed, wao=True)\n",
    "region_introns_bed = region_coords_bed.intersect(introns_coords_bed, wao=True)\n",
    "\n",
    "exons_in_range = pd.read_table(region_exons_bed.fn, names=['range_chr', 'range_start', 'range_end',\n",
    "                                                           'ensembl', 'region_size', 'region_middle_start',\n",
    "                                                           'region_middle_end',\n",
    "                                                           'region_chr', 'region_start', 'region_end', 'overlap_bp'])\n",
    "\n",
    "introns_in_range = pd.read_table(region_introns_bed.fn, names=['range_chr', 'range_start', 'range_end',\n",
    "                                                               'ensembl', 'region_size', 'region_middle_start',\n",
    "                                                               'region_middle_end',\n",
    "                                                               'region_chr', 'region_start', 'region_end',\n",
    "                                                               'overlap_bp'])\n",
    "\n",
    "exons_in_range['real_overlap_start'] = exons_in_range[[\"range_start\", \"region_start\"]].max(axis=1)\n",
    "exons_in_range['real_overlap_end'] = exons_in_range[[\"range_end\", \"region_end\"]].min(axis=1)\n",
    "\n",
    "introns_in_range['real_overlap_start'] = introns_in_range[[\"range_start\", \"region_start\"]].max(axis=1)\n",
    "introns_in_range['real_overlap_end'] = introns_in_range[[\"range_end\", \"region_end\"]].min(axis=1)\n",
    "\n",
    "exons_in_range['relative_start'] = exons_in_range['real_overlap_start'] - exons_in_range['region_middle_start']\n",
    "exons_in_range['relative_end'] = exons_in_range['real_overlap_end'] - exons_in_range['region_middle_start'] + 1\n",
    "\n",
    "introns_in_range['relative_start'] = introns_in_range['real_overlap_start'] - introns_in_range['region_middle_start']\n",
    "introns_in_range['relative_end'] = introns_in_range['real_overlap_end'] - introns_in_range['region_middle_start'] + 1\n",
    "\n",
    "exons_per_base_dict = dict()\n",
    "introns_per_base_dict = dict()\n",
    "\n",
    "for index, my_exon in exons_in_range.iterrows():\n",
    "    my_start = my_exon.relative_start\n",
    "    my_end = my_exon.relative_end\n",
    "\n",
    "    for i in range(my_start, my_end):\n",
    "        if i not in exons_per_base_dict.keys():\n",
    "            exons_per_base_dict[i] = 1\n",
    "        else:\n",
    "            exons_per_base_dict[i] += 1\n",
    "\n",
    "for index, my_intron in introns_in_range.iterrows():\n",
    "    my_start = my_intron.relative_start\n",
    "    my_end = my_intron.relative_end\n",
    "\n",
    "    for i in range(my_start, my_end):\n",
    "        if i not in introns_per_base_dict.keys():\n",
    "            introns_per_base_dict[i] = 1\n",
    "        else:\n",
    "            introns_per_base_dict[i] += 1\n",
    "\n",
    "my_rates_to_plot = list()\n",
    "\n",
    "for my_key in exons_per_base_dict.keys():\n",
    "    n_exon_muts = int(exons_per_base_dict[my_key])\n",
    "    n_intron_muts = int(introns_per_base_dict[my_key])\n",
    "\n",
    "    exon_intron_proportion = n_exon_muts / (n_intron_muts + n_exon_muts) * 100\n",
    "    my_rates_to_plot.append([my_key, exon_intron_proportion])\n",
    "\n",
    "my_rates_to_plot_df = pd.DataFrame(my_rates_to_plot)\n",
    "my_rates_to_plot_df.columns = ['position', 'exon_intron_percentage']\n",
    "\n",
    "my_rates_to_plot_df = my_rates_to_plot_df.sort_values(by='position', ascending=True)\n",
    "\n",
    "my_rates_to_plot_df.to_csv(path.join('results', 'exon_intron_proportion.tsv'), sep='\\t', index=False)"
   ]
  },
  {
   "cell_type": "markdown",
   "metadata": {},
   "source": [
    "### Plot the distribution of the ratio\n",
    "\n",
    "Distribution of the proportion of exonic bases at each postion across the window."
   ]
  },
  {
   "cell_type": "code",
   "execution_count": null,
   "metadata": {
    "collapsed": true
   },
   "outputs": [],
   "source": [
    "my_rates_to_plot_df = pd.read_csv(path.join('results', 'exon_intron_proportion.tsv'), sep='\\t')\n",
    "\n",
    "fig = plt.figure(figsize=(2.25, 0.5))\n",
    "ax = plt.subplot2grid((1, 1), (0, 0))\n",
    "\n",
    "ax.margins(0.05)  # Optional, just adds 5% padding to the autoscaling\n",
    "\n",
    "ax.plot(my_rates_to_plot_df['position'], my_rates_to_plot_df['exon_intron_percentage'], lw=1)\n",
    "ax.set_xlim(-1000,1000)\n",
    "\n",
    "# show the left spline\n",
    "for axis in ['right', 'top']:\n",
    "    ax.spines[axis].set_visible(False)\n",
    "\n",
    "for axis in ['bottom', 'left']:\n",
    "    ax.spines[axis].set_position(('axes', -0.03))\n",
    "    \n",
    "ax.yaxis.major.locator.set_params(nbins=5)\n",
    "ax.yaxis.set_ticks_position('left')\n",
    "ax.xaxis.set_ticks_position('bottom')\n",
    "\n",
    "\n",
    "\n",
    "ax.set_xlabel('Distance from exon center (bp)')\n",
    "ax.set_ylabel('Exon (%)')\n",
    "\n",
    "\n",
    "plt.savefig(path.join('figures', 'Proportion_internal_exon_centered.svg'), bbox_inches='tight')\n",
    "plt.show()"
   ]
  },
  {
   "cell_type": "markdown",
   "metadata": {},
   "source": [
    "## Internal exon centered analysis, blacklisted regions: Supplementary figure S2"
   ]
  },
  {
   "cell_type": "code",
   "execution_count": null,
   "metadata": {
    "collapsed": true
   },
   "outputs": [],
   "source": [
    "middle_distance_threshold = 1000\n",
    "\n",
    "# Process exonic coordinates to get the 2001-nt region coords and\n",
    "## Positions that correspond to the center of the exons\n",
    "exon_coords_df['exon_size'] = (exon_coords_df['end'] - exon_coords_df['start'])\n",
    "exon_coords_df['exon_middle_start'] = (exon_coords_df['start'] + exon_coords_df['exon_size']/2)\n",
    "exon_coords_df['exon_middle_start'] = exon_coords_df.apply(lambda x: math.floor(x['exon_middle_start']), axis=1)\n",
    "    \n",
    "## Positions around the middle point\n",
    "exon_coords_df['exon_middle_end'] = exon_coords_df['exon_middle_start'] + 1\n",
    "exon_coords_df['region_start'] = exon_coords_df['exon_middle_start'] - middle_distance_threshold\n",
    "exon_coords_df['region_end'] = exon_coords_df['exon_middle_end'] + middle_distance_threshold\n",
    "region_coords = exon_coords_df[['chr', 'region_start', 'region_end', 'ensembl',\n",
    "                                          'exon_size', 'exon_middle_start', 'exon_middle_end', 'start', 'end', 'ID']]\n",
    "regions_bp = sum(region_coords['region_end'] - region_coords['region_start'])\n",
    "print(regions_bp)\n",
    "region_coords_bed = pybedtools.BedTool.from_dataframe(region_coords)"
   ]
  },
  {
   "cell_type": "markdown",
   "metadata": {},
   "source": [
    "### Filtering"
   ]
  },
  {
   "cell_type": "markdown",
   "metadata": {},
   "source": [
    "#### Individual blacklisted"
   ]
  },
  {
   "cell_type": "code",
   "execution_count": null,
   "metadata": {
    "collapsed": true
   },
   "outputs": [],
   "source": [
    "# Filter blacklisted regions\n",
    "ucsc_blacklisted_df = pd.read_csv(ucsc_blacklisted_file, sep='\\t', header=None)\n",
    "\n",
    "ucsc_blacklisted_bed = pybedtools.BedTool.from_dataframe(ucsc_blacklisted_df)\n",
    "\n",
    "region_coords_black = region_coords_bed.subtract(ucsc_blacklisted_bed)\n",
    "\n",
    "region_coords_black_df = pd.read_table(region_coords_black.fn, names=['chr', 'region_start', 'region_end', 'ensembl',\n",
    "                                          'exon_size', 'exon_middle_start', 'exon_middle_end', 'start', 'end', 'ID'])\n",
    "\n",
    "regions_bp_black = sum(region_coords_black_df['region_end'] - region_coords_black_df['region_start'])\n",
    "\n",
    "print('+ blacklisted regions:\\t', 100-regions_bp_black/regions_bp*100)\n",
    "\n",
    "# Select all duplicate rows based on one column\n",
    "IDs_to_remove_black = region_coords_black_df[region_coords_black_df.duplicated(['ID'])]['ID']\n",
    "(len(IDs_to_remove_black.unique())/95633)*100"
   ]
  },
  {
   "cell_type": "markdown",
   "metadata": {},
   "source": [
    "#### Individual low complexity regions"
   ]
  },
  {
   "cell_type": "code",
   "execution_count": null,
   "metadata": {
    "collapsed": true
   },
   "outputs": [],
   "source": [
    "# Filter low complexity regions\n",
    "low_complexity_df = pd.read_csv(low_complexity_file, sep='\\t', header=None)\n",
    "\n",
    "low_complexity_bed = pybedtools.BedTool.from_dataframe(low_complexity_df)\n",
    "\n",
    "region_coords_compl = region_coords_bed.subtract(low_complexity_bed)\n",
    "\n",
    "region_coords_compl_df = pd.read_table(region_coords_compl.fn, names=['chr', 'region_start', 'region_end', 'ensembl',\n",
    "                                          'exon_size', 'exon_middle_start', 'exon_middle_end', 'start', 'end', 'ID'])\n",
    "\n",
    "regions_bp_compl = sum(region_coords_compl_df['region_end'] - region_coords_compl_df['region_start'])\n",
    "\n",
    "print('+ low complexity:\\t', 100-regions_bp_compl/regions_bp*100)\n",
    "\n",
    "# Select all duplicate rows based on one column\n",
    "IDs_to_remove_compl = region_coords_compl_df[region_coords_compl_df.duplicated(['ID'])]['ID']\n",
    "(len(IDs_to_remove_compl.unique())/95633)*100"
   ]
  },
  {
   "cell_type": "markdown",
   "metadata": {},
   "source": [
    "#### Intersection"
   ]
  },
  {
   "cell_type": "code",
   "execution_count": null,
   "metadata": {
    "collapsed": true
   },
   "outputs": [],
   "source": [
    "# Filter blacklisted regions\n",
    "ucsc_blacklisted_df = pd.read_csv(ucsc_blacklisted_file, sep='\\t', header=None)\n",
    "\n",
    "ucsc_blacklisted_bed = pybedtools.BedTool.from_dataframe(ucsc_blacklisted_df)\n",
    "\n",
    "region_coords_black_df = pd.read_table(region_coords_black.fn, names=['chr', 'region_start', 'region_end', 'ensembl',\n",
    "                                          'exon_size', 'exon_middle_start', 'exon_middle_end', 'start', 'end', 'ID'])\n",
    "\n",
    "# Filter low complexity regions\n",
    "low_complexity_df = pd.read_csv(low_complexity_file, sep='\\t', header=None)\n",
    "\n",
    "low_complexity_bed = pybedtools.BedTool.from_dataframe(low_complexity_df)\n",
    "\n",
    "region_coords_black_bed = pybedtools.BedTool.from_dataframe(region_coords_black_df)\n",
    "\n",
    "region_coords_ALL = region_coords_black_bed.subtract(low_complexity_bed)\n",
    "\n",
    "region_coords_ALL_df = pd.read_table(region_coords_ALL.fn, names=['chr', 'region_start', 'region_end', 'ensembl',\n",
    "                                          'exon_size', 'exon_middle_start', 'exon_middle_end', 'start', 'end', 'ID'])\n",
    "\n",
    "regions_bp_ALL = sum(region_coords_ALL_df['region_end'] - region_coords_ALL_df['region_start'])\n",
    "\n",
    "print('+ together:\\t', 100-regions_bp_ALL/regions_bp*100)\n",
    "\n",
    "# Select all duplicate rows based on one column\n",
    "IDs_to_remove_ALL = region_coords_ALL_df[region_coords_ALL_df.duplicated(['ID'])]['ID']\n",
    "(len(IDs_to_remove_ALL.unique())/95633)*100"
   ]
  },
  {
   "cell_type": "markdown",
   "metadata": {},
   "source": [
    "#### Apply filter"
   ]
  },
  {
   "cell_type": "code",
   "execution_count": null,
   "metadata": {
    "collapsed": true
   },
   "outputs": [],
   "source": [
    "# Filter middle exons\n",
    "exons_coords_df = exon_coords_df.loc[~exon_coords_df['ID'].isin(IDs_to_remove_ALL)]\n",
    "exons_coords_df = exons_coords_df[['chr', 'start', 'end', 'ensembl']]"
   ]
  },
  {
   "cell_type": "markdown",
   "metadata": {},
   "source": [
    "### Exons centered analysis on high mappability regions: WG signatures"
   ]
  },
  {
   "cell_type": "code",
   "execution_count": null,
   "metadata": {
    "collapsed": true
   },
   "outputs": [],
   "source": [
    "k = 3\n",
    "middle_distance_threshold = 1000\n",
    "signatures_file = 'results/' + str(k) + 'mer_signatures_DNM_new.txt'\n",
    "\n",
    "exons_centered_results = obs_exp_muts_kmer(mutations_df, exons_coords_df, tumor_type, \n",
    "                                           middle_distance_threshold, k, signatures_file)\n",
    "\n",
    "exons_centered_results.to_csv('results/exons_centered_' + str(k) + 'mer_BLACKLISTED.tsv', sep=\"\\t\", header=True, index=False)"
   ]
  },
  {
   "cell_type": "code",
   "execution_count": null,
   "metadata": {
    "collapsed": true
   },
   "outputs": [],
   "source": [
    "plot('exons_centered_3mer_BLACKLISTED.tsv', \"Internal_exon_centered_BLACKLISTED.svg\")"
   ]
  },
  {
   "cell_type": "markdown",
   "metadata": {},
   "source": [
    "### Plot results\n",
    "\n",
    "Binned average approach. Bin size is 25."
   ]
  },
  {
   "cell_type": "code",
   "execution_count": null,
   "metadata": {
    "collapsed": true
   },
   "outputs": [],
   "source": [
    "size = 25\n",
    "\n",
    "listt = ['3mer_BLACKLISTED']\n",
    "\n",
    "NROW=1\n",
    "NCOL=1\n",
    "\n",
    "axs = []\n",
    "\n",
    "fig = plt.figure(figsize=(7,4))\n",
    "\n",
    "for row in range(0, NROW):\n",
    "    for col in range(0, NCOL):\n",
    "        axs.append(plt.subplot2grid((NROW, NCOL), (row, col)))\n",
    "\n",
    "cnt=0\n",
    "for ele in listt:\n",
    "    plot_HD_BINNED(ele, axs[cnt], cnt, size)\n",
    "    cnt+=1\n",
    "    \n",
    "plt.tight_layout()\n",
    "plt.savefig(path.join('figures', 'internal_exon_centered_binned_BLACKLISTED.svg'), bbox_inches='tight')\n",
    "plt.show()"
   ]
  },
  {
   "cell_type": "markdown",
   "metadata": {},
   "source": [
    "### Significance through permutations"
   ]
  },
  {
   "cell_type": "code",
   "execution_count": null,
   "metadata": {
    "collapsed": true
   },
   "outputs": [],
   "source": [
    "k = 3\n",
    "middle_distance_threshold = 1000\n",
    "signatures_file = 'results/' + str(k) + 'mer_signatures_DNM_new.txt'\n",
    "\n",
    "exons_coords_symbol_df = exons_coords_df[['chr', 'start','end', 'ensembl']].copy()\n",
    "exons_coords_symbol_df['ID'] = exons_coords_symbol_df.index + 1\n",
    "\n",
    "(exons_centered_results, exonic_obs, intronic_obs) = stacked_sequence_level_permutation(mutations_df,\n",
    "                        exons_coords_symbol_df, signatures_file, tumor_type, middle_distance_threshold, k)\n",
    "\n",
    "exons_centered_results = pd.DataFrame.transpose(exons_centered_results)\n",
    "exons_centered_results.to_csv(path.join('results', 'exons_centered_' + str(k) + 'mer_permut_BLACKLISTED.tsv'), sep=\"\\t\",\n",
    "                               header=True, index=False)"
   ]
  },
  {
   "cell_type": "markdown",
   "metadata": {},
   "source": [
    "#### Compute emprical p-value"
   ]
  },
  {
   "cell_type": "code",
   "execution_count": null,
   "metadata": {
    "collapsed": true
   },
   "outputs": [],
   "source": [
    "k = 3\n",
    "results = []\n",
    "RANDOMIZATION = 1000\n",
    "    \n",
    "# Read the expected exon and intron mutation counts from permutations\n",
    "rand_output = pd.read_csv(path.join('results', 'exons_centered_' + str(k) + 'mer_permut_BLACKLISTED.tsv'), sep=\"\\t\")\n",
    "    \n",
    "# count the number of times the expected exon mutations is higher than the observed\n",
    "count = len(rand_output[rand_output['exon_Exp'] >= exonic_obs])\n",
    "    \n",
    "if count == 0:\n",
    "    count = 1 \n",
    "    \n",
    "results.append([exonic_obs, rand_output['exon_Exp'].mean(), intronic_obs, rand_output['intron_Exp'].mean(), count/RANDOMIZATION])\n",
    "    \n",
    "results_df = pd.DataFrame(results)\n",
    "results_df.columns = ['obs_exon_cnt', 'exp_exon_cnt','obs_intron_cnt', 'exp_intron_cnt', 'empirical_pvalue']\n",
    "results_df"
   ]
  },
  {
   "cell_type": "code",
   "execution_count": null,
   "metadata": {
    "collapsed": true
   },
   "outputs": [],
   "source": [
    "exonic_increase = (results_df[\"obs_exon_cnt\"]/results_df[\"exp_exon_cnt\"]-1)*100\n",
    "exonic_increase"
   ]
  },
  {
   "cell_type": "code",
   "execution_count": null,
   "metadata": {
    "collapsed": true
   },
   "outputs": [],
   "source": [
    "rand_output['increase'] = (exonic_obs/rand_output['exon_Exp']-1)*100\n",
    "\n",
    "(exonic_increase-error, exonic_increase+error)"
   ]
  },
  {
   "cell_type": "code",
   "execution_count": null,
   "metadata": {
    "collapsed": true
   },
   "outputs": [],
   "source": [
    "st.stdev(rand_output['increase'].tolist())"
   ]
  },
  {
   "cell_type": "markdown",
   "metadata": {},
   "source": [
    "## Exons centered analysis, CCDS signatures: Supplementary Figure S3\n",
    "\n",
    "Following the method described in the **Exon-centered and intron-centered mutational analyses** section, for each exonic position around the center, we computed the observed and expected number of mutations."
   ]
  },
  {
   "cell_type": "code",
   "execution_count": null,
   "metadata": {
    "collapsed": true
   },
   "outputs": [],
   "source": [
    "## Get exon coordinates\n",
    "exons_coords_df = pd.read_csv(middle_exons_coords, sep=\"\\t\", header=None, low_memory=False)\n",
    "exons_coords_df.columns = ['chr', 'start', 'end', 'ensembl', 'symbol', 'strand']\n",
    "exons_coords_df = exons_coords_df[['chr', 'start', 'end', 'ensembl', 'strand']]\n",
    "exons_coords_df['ensembl'] = exons_coords_df.apply(lambda x: remove_version_ensembl(x, 'ensembl'), axis=1)\n",
    "exons_coords_df.columns = ['chr', 'start', 'end', 'ensembl', 'strand']"
   ]
  },
  {
   "cell_type": "code",
   "execution_count": 11,
   "metadata": {},
   "outputs": [
    {
     "name": "stdout",
     "output_type": "stream",
     "text": [
      "The total amount of mutations at the middle exon-centered sequences is 50780\n"
     ]
    }
   ],
   "source": [
    "k = 3\n",
    "middle_distance_threshold = 1000\n",
    "signatures_file = 'results/' + str(k) + 'mer_signatures_DNM_CCDS.txt'\n",
    "\n",
    "exons_centered_results = obs_exp_muts_kmer_CCDS(mutations_df, exons_coords_df, tumor_type, \n",
    "                                           middle_distance_threshold, k, signatures_file)\n",
    "\n",
    "exons_centered_results.to_csv('results/exons_centered_' + str(k) + 'mer_CCDS.tsv', sep=\"\\t\",\n",
    "                              header=True, index=False)"
   ]
  },
  {
   "cell_type": "code",
   "execution_count": 12,
   "metadata": {},
   "outputs": [
    {
     "name": "stderr",
     "output_type": "stream",
     "text": [
      "/home/peluca/anaconda3/envs/intronexon/lib/python3.6/site-packages/ipykernel_launcher.py:10: RankWarning: The fit may be poorly conditioned\n",
      "  # Remove the CWD from sys.path while we load stuff.\n",
      "/home/peluca/anaconda3/envs/intronexon/lib/python3.6/site-packages/ipykernel_launcher.py:18: RankWarning: The fit may be poorly conditioned\n",
      "/home/peluca/anaconda3/envs/intronexon/lib/python3.6/site-packages/matplotlib/font_manager.py:1297: UserWarning: findfont: Font family ['sans-serif'] not found. Falling back to DejaVu Sans\n",
      "  (prop.get_family(), self.defaultFamily[fontext]))\n"
     ]
    },
    {
     "data": {
      "image/png": "[encoded data removed]",
      "text/plain": [
       "<matplotlib.figure.Figure at 0x7f23bc47b128>"
      ]
     },
     "metadata": {},
     "output_type": "display_data"
    }
   ],
   "source": [
    "plot('exons_centered_3mer_CCDS.tsv', \"Internal_exon_centered_CCDS.svg\")"
   ]
  },
  {
   "cell_type": "markdown",
   "metadata": {},
   "source": [
    "### Plot results\n",
    "\n",
    "Binned average approach. Bin size is 25."
   ]
  },
  {
   "cell_type": "code",
   "execution_count": 13,
   "metadata": {},
   "outputs": [
    {
     "name": "stderr",
     "output_type": "stream",
     "text": [
      "/home/peluca/anaconda3/envs/intronexon/lib/python3.6/site-packages/ipykernel_launcher.py:20: MatplotlibDeprecationWarning: The set_axis_bgcolor function was deprecated in version 2.0. Use set_facecolor instead.\n",
      "/home/peluca/anaconda3/envs/intronexon/lib/python3.6/site-packages/matplotlib/font_manager.py:1297: UserWarning: findfont: Font family ['sans-serif'] not found. Falling back to DejaVu Sans\n",
      "  (prop.get_family(), self.defaultFamily[fontext]))\n"
     ]
    },
    {
     "data": {
      "image/png": "[encoded data removed]",
      "text/plain": [
       "<matplotlib.figure.Figure at 0x7f239392f208>"
      ]
     },
     "metadata": {},
     "output_type": "display_data"
    }
   ],
   "source": [
    "size = 25\n",
    "\n",
    "listt = ['3mer_CCDS']\n",
    "\n",
    "NROW=1\n",
    "NCOL=1\n",
    "\n",
    "axs = []\n",
    "\n",
    "fig = plt.figure(figsize=(7,4))\n",
    "\n",
    "for row in range(0, NROW):\n",
    "    for col in range(0, NCOL):\n",
    "        axs.append(plt.subplot2grid((NROW, NCOL), (row, col)))\n",
    "\n",
    "cnt=0\n",
    "for ele in listt:\n",
    "    plot_HD_BINNED(ele, axs[cnt], cnt, size)\n",
    "    cnt+=1\n",
    "    \n",
    "plt.tight_layout()\n",
    "plt.savefig(path.join('figures', 'internal_exon_centered_binned_HD_CCDS.svg'), bbox_inches='tight')\n",
    "plt.show()"
   ]
  },
  {
   "cell_type": "markdown",
   "metadata": {},
   "source": [
    "### Plot results\n",
    "\n",
    "Polynomial fit approach."
   ]
  },
  {
   "cell_type": "code",
   "execution_count": 14,
   "metadata": {},
   "outputs": [
    {
     "name": "stderr",
     "output_type": "stream",
     "text": [
      "/home/peluca/anaconda3/envs/intronexon/lib/python3.6/site-packages/ipykernel_launcher.py:10: RankWarning: The fit may be poorly conditioned\n",
      "  # Remove the CWD from sys.path while we load stuff.\n",
      "/home/peluca/anaconda3/envs/intronexon/lib/python3.6/site-packages/ipykernel_launcher.py:17: RankWarning: The fit may be poorly conditioned\n",
      "/home/peluca/anaconda3/envs/intronexon/lib/python3.6/site-packages/ipykernel_launcher.py:21: MatplotlibDeprecationWarning: The set_axis_bgcolor function was deprecated in version 2.0. Use set_facecolor instead.\n",
      "/home/peluca/anaconda3/envs/intronexon/lib/python3.6/site-packages/matplotlib/font_manager.py:1297: UserWarning: findfont: Font family ['sans-serif'] not found. Falling back to DejaVu Sans\n",
      "  (prop.get_family(), self.defaultFamily[fontext]))\n"
     ]
    },
    {
     "data": {
      "image/png": "[encoded data removed]",
      "text/plain": [
       "<matplotlib.figure.Figure at 0x7f2390988908>"
      ]
     },
     "metadata": {},
     "output_type": "display_data"
    }
   ],
   "source": [
    "listt = ['3mer_CCDS']\n",
    "\n",
    "NROW=1\n",
    "NCOL=1\n",
    "\n",
    "axs = []\n",
    "\n",
    "fig = plt.figure(figsize=(7,4))\n",
    "\n",
    "for row in range(0, NROW):\n",
    "    for col in range(0, NCOL):\n",
    "        axs.append(plt.subplot2grid((NROW, NCOL), (row, col)))\n",
    "\n",
    "cnt=0\n",
    "for ele in listt:\n",
    "    plot_HD(ele, axs[cnt], cnt)\n",
    "    cnt+=1\n",
    "    \n",
    "    \n",
    "plt.tight_layout()\n",
    "plt.savefig(path.join('figures', 'internal_exon_centered_HD_CCDS.svg'), bbox_inches='tight')\n",
    "plt.show()"
   ]
  },
  {
   "cell_type": "code",
   "execution_count": null,
   "metadata": {
    "collapsed": true
   },
   "outputs": [],
   "source": []
  }
 ],
 "metadata": {
  "anaconda-cloud": {},
  "kernelspec": {
   "display_name": "Python 3",
   "language": "python",
   "name": "python3"
  },
  "language_info": {
   "codemirror_mode": {
    "name": "ipython",
    "version": 3
   },
   "file_extension": ".py",
   "mimetype": "text/x-python",
   "name": "python",
   "nbconvert_exporter": "python",
   "pygments_lexer": "ipython3",
   "version": "3.6.1"
  }
 },
 "nbformat": 4,
 "nbformat_minor": 1
}
